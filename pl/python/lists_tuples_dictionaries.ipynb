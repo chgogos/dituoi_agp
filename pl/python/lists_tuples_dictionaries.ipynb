{
 "metadata": {
  "language_info": {
   "codemirror_mode": {
    "name": "ipython",
    "version": 3
   },
   "file_extension": ".py",
   "mimetype": "text/x-python",
   "name": "python",
   "nbconvert_exporter": "python",
   "pygments_lexer": "ipython3",
   "version": "3.8.0"
  },
  "orig_nbformat": 2,
  "kernelspec": {
   "name": "python3",
   "display_name": "Python 3.8.0 64-bit ('3.8.0-amd64': pyenv)",
   "metadata": {
    "interpreter": {
     "hash": "2334294e789e06453e89f7d5c3c2573679701f9bb5b76ad2158f91cca5c9244c"
    }
   }
  }
 },
 "nbformat": 4,
 "nbformat_minor": 2,
 "cells": [
  {
   "source": [
    "# Λίστες, πλειάδες (tuples) και λεξικά "
   ],
   "cell_type": "markdown",
   "metadata": {}
  },
  {
   "source": [
    "## Λίστες\n",
    "\n",
    "Οι λίστες αντιστοιχούν στις διατάξεις (arrays) άλλων γλωσσών προγραμματισμού."
   ],
   "cell_type": "markdown",
   "metadata": {}
  },
  {
   "cell_type": "code",
   "execution_count": 3,
   "metadata": {},
   "outputs": [],
   "source": [
    "# Δημιουργία κενής λίστας\n",
    "a_list = []\n",
    "a_list = list()"
   ]
  },
  {
   "cell_type": "code",
   "execution_count": 5,
   "metadata": {},
   "outputs": [
    {
     "output_type": "execute_result",
     "data": {
      "text/plain": [
       "[3, 'αβγ', [10, 56, 11]]"
      ]
     },
     "metadata": {},
     "execution_count": 5
    }
   ],
   "source": [
    "# Μια λίστα μπορεί να περιέχει ετερογενή στοιχεία ή και άλλες λίστες ως στοιχεία\n",
    "a_list = [10,56,11]\n",
    "b_list = [\"Νίκος\", \"Μαρία\", \"Γιώργος\"]\n",
    "c_list = [3, \"αβγ\", a_list]\n",
    "c_list"
   ]
  },
  {
   "cell_type": "code",
   "execution_count": 6,
   "metadata": {},
   "outputs": [
    {
     "output_type": "execute_result",
     "data": {
      "text/plain": [
       "[10, 56, 11, 'Νίκος', 'Μαρία', 'Γιώργος']"
      ]
     },
     "metadata": {},
     "execution_count": 6
    }
   ],
   "source": [
    "# Συνένωση λιστών\n",
    "a_list = [10,56,11]\n",
    "b_list = [\"Νίκος\", \"Μαρία\", \"Γιώργος\"]\n",
    "c_list = a_list + b_list\n",
    "c_list"
   ]
  },
  {
   "cell_type": "code",
   "execution_count": 8,
   "metadata": {},
   "outputs": [
    {
     "output_type": "execute_result",
     "data": {
      "text/plain": [
       "['Γιώργος', 'Μαρία', 'Νίκος']"
      ]
     },
     "metadata": {},
     "execution_count": 8
    }
   ],
   "source": [
    "# Ταξινόμηση λίστας\n",
    "b_list = [\"Νίκος\", \"Μαρία\", \"Γιώργος\"]\n",
    "b_list.sort()\n",
    "b_list"
   ]
  },
  {
   "cell_type": "code",
   "execution_count": 9,
   "metadata": {},
   "outputs": [
    {
     "output_type": "execute_result",
     "data": {
      "text/plain": [
       "['Μαρία', 'Γιώργος']"
      ]
     },
     "metadata": {},
     "execution_count": 9
    }
   ],
   "source": [
    "# Τεμαχισμός λίστας (οι λίστες τεμαχίζονται όμοια με τα λεκτικά)\n",
    "b_list = [\"Νίκος\", \"Μαρία\", \"Γιώργος\"]\n",
    "b_list[-2:]"
   ]
  },
  {
   "source": [
    "# Tuples\n",
    "Τα tuples μοιάζουν με τις λίστες αλλά χρησιμοποιούν παρενθέσεις. H κύρια διαφορά των tuples από τις λίστες είναι ότι τα tuples είναι immutable"
   ],
   "cell_type": "markdown",
   "metadata": {}
  },
  {
   "cell_type": "code",
   "execution_count": 23,
   "metadata": {},
   "outputs": [
    {
     "output_type": "stream",
     "name": "stdout",
     "text": [
      "1 (1, 4, 5, 1)\n2 [1, 99, 5, 1, 6]\n"
     ]
    }
   ],
   "source": [
    "a_tuple = (1,4,5,1,6)\n",
    "print(1, a_tuple[0:4])\n",
    "\n",
    "a_list = [1,4,5,1,6]\n",
    "a_list[1]=99 # οι λίστες είναι mutable\n",
    "print(2, a_list)\n",
    "\n",
    "# a_tuple[1]=99 # TypeError: 'tuple' object does not support item assignment"
   ]
  },
  {
   "cell_type": "code",
   "execution_count": 25,
   "metadata": {},
   "outputs": [
    {
     "output_type": "stream",
     "name": "stdout",
     "text": [
      "1 [1, 4, 5, 1, 6]\n2 (1, 4, 5, 1, 6)\n"
     ]
    }
   ],
   "source": [
    "# Μια λίστα μπορεί να μετατραπεί σε tuple και ένα tuple σε λίστα\n",
    "a_tuple = (1,4,5,1,6)\n",
    "a_list = list(a_tuple)\n",
    "print(1, a_list)\n",
    "\n",
    "a_list = [1,4,5,1,6]\n",
    "a_tuple = tuple(a_list)\n",
    "print(2, a_tuple)"
   ]
  },
  {
   "source": [
    "## Λεξικά (dictionaries)\n",
    "Τα λεξικά είναι μια πολύ χρήσιμη δομή που χρησιμοποιείται πολύ συχνά στην Python. Σε άλλες γλώσσες προγραμματισμού αναφέρονται ως πίνακες κατακερματισμού (hashtables) ή πίνακες συσχέτισης (associative arrays)\n",
    "\n",
    "Τα λεξικά αποτελεόυνται από ζεύγη (κλειδί, τιμή). Ως κλειδί μπορεί να είναι οποιοσδήποτε immutable τύπος (π.χ. string).\n",
    "\n"
   ],
   "cell_type": "markdown",
   "metadata": {}
  },
  {
   "cell_type": "code",
   "execution_count": 28,
   "metadata": {},
   "outputs": [
    {
     "output_type": "stream",
     "name": "stdout",
     "text": [
      "1 {'abc': 10, 'def': 20, 'ghi': 42}\n2 {'abc': 20, 'ikj': 90}\n"
     ]
    }
   ],
   "source": [
    "a_dict = {'abc':10, 'def':20, \"ghi\":42}\n",
    "print(1, a_dict)\n",
    "\n",
    "b_dict = dict()\n",
    "b_dict['abc']=20\n",
    "b_dict['ikj']=90\n",
    "print(2, b_dict)"
   ]
  },
  {
   "cell_type": "code",
   "execution_count": 31,
   "metadata": {},
   "outputs": [
    {
     "output_type": "stream",
     "name": "stdout",
     "text": [
      "1 10\n2 True\n3 False\n"
     ]
    }
   ],
   "source": [
    "# Εντοπισμός ενός κλειδιού στο λεξικό\n",
    "\n",
    "a_dict = {'abc':10, 'def':20, \"ghi\":42}\n",
    "print(1, a_dict['abc'])\n",
    "# print(a_dict['xyz']) # KeyError: 'xyz'\n",
    "\n",
    "print(2, 'abc' in a_dict)\n",
    "print(3, 'xyz' in a_dict)\n"
   ]
  },
  {
   "cell_type": "code",
   "execution_count": 35,
   "metadata": {},
   "outputs": [
    {
     "output_type": "stream",
     "name": "stdout",
     "text": [
      "dict_keys(['abc', 'def', 'ghi'])\ndict_values([10, 20, 42])\n"
     ]
    }
   ],
   "source": [
    "# Λήψη όλων των κλειδιών και όλων των τιμών ενός λεξικού\n",
    "\n",
    "print(a_dict.keys()) # επιστρέφει ένα view object\n",
    "print(a_dict.values())"
   ]
  },
  {
   "cell_type": "code",
   "execution_count": 36,
   "metadata": {},
   "outputs": [
    {
     "output_type": "execute_result",
     "data": {
      "text/plain": [
       "{(1, 2, 3): 'text', 'key123': [5, 6, 'a'], 1917: {'a': 89, 'b': 'text'}}"
      ]
     },
     "metadata": {},
     "execution_count": 36
    }
   ],
   "source": [
    "# Ένα λεξικό μπορεί να έχει ως κλειδιά tuples, και ως τιμές λίστες, tuples και άλλα λεξικά, όπως στο ακόλουθο παράδειγμα.\n",
    "\n",
    "a_dict = {}\n",
    "a_dict[(1,2,3)] = 'text'\n",
    "a_dict['key123'] = [5,6,'a']\n",
    "a_dict[1917] = {'a':89, 'b':'text'}\n",
    "a_dict"
   ]
  }
 ]
}