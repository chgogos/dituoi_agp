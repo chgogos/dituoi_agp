{
 "cells": [
  {
   "cell_type": "markdown",
   "metadata": {},
   "source": [
    "    Τμήμα Πληροφορικής και Τηλεπικοινωνιών - Άρτα \n",
    "    Πανεπιστήμιο Ιωαννίνων \n",
    "\n",
    "    Γκόγκος Χρήστος \n",
    "    http://chgogos.github.io/\n",
    "    Εαρινό εξάμηνο 2020-2021"
   ]
  },
  {
   "cell_type": "markdown",
   "metadata": {},
   "source": [
    "# Λεκτικά\n",
    "\n",
    "Τα λεκτικά στην Python μπορούν να οριστούν χρησιμοποιώντας, απλά, διπλά ή τριπλά εισαγωγικά."
   ]
  },
  {
   "cell_type": "code",
   "execution_count": 1,
   "metadata": {},
   "outputs": [
    {
     "name": "stdout",
     "output_type": "stream",
     "text": [
      "Department of Informatics and Telecommunications\n",
      "************************************************\n",
      "DIT\n",
      "***\n",
      "\n",
      "Department of Informatics and Telecommunications\n",
      "Univerity of Ioannina\n",
      "Arta, Greece\n",
      "\n",
      "\n",
      "Department of Informatics and Telecommunications\n",
      "Univerity of Ioannina\n",
      "Arta, Greece\n",
      "\n"
     ]
    }
   ],
   "source": [
    "# 3 τρόποι με τους οποίους μπορούμε να δημιουργήσουμε λεκτικά\n",
    "\n",
    "x = \"Department of Informatics and Telecommunications\"\n",
    "y = 'DIT'\n",
    "z = '''\n",
    "Department of Informatics and Telecommunications\n",
    "Univerity of Ioannina\n",
    "Arta, Greece\n",
    "'''\n",
    "w = \"\"\"\n",
    "Department of Informatics and Telecommunications\n",
    "Univerity of Ioannina\n",
    "Arta, Greece\n",
    "\"\"\"\n",
    "\n",
    "print(x)\n",
    "print('*' * len(x))\n",
    "print(y)\n",
    "\n",
    "print('*' * len(y))\n",
    "print(z)\n",
    "print(w)"
   ]
  },
  {
   "cell_type": "code",
   "execution_count": 2,
   "metadata": {},
   "outputs": [
    {
     "name": "stdout",
     "output_type": "stream",
     "text": [
      "1688756558960\n",
      "1688820346224\n",
      "140721903015584\n",
      "140721903015616\n",
      "1688756558960\n"
     ]
    }
   ],
   "source": [
    "# κάθε αντικείμενο έχει μια ταυτότητα (id)\n",
    "x = \"test\"\n",
    "print(id(x))\n",
    "x = \"another test\"\n",
    "print(id(x))\n",
    "x = 1\n",
    "print(id(x))\n",
    "x += 1\n",
    "print(id(x))\n",
    "x = \"test\"\n",
    "print(id(x))"
   ]
  },
  {
   "cell_type": "code",
   "execution_count": 3,
   "metadata": {},
   "outputs": [
    {
     "name": "stdout",
     "output_type": "stream",
     "text": [
      "Help on built-in function id in module builtins:\n",
      "\n",
      "id(obj, /)\n",
      "    Return the identity of an object.\n",
      "    \n",
      "    This is guaranteed to be unique among simultaneously existing objects.\n",
      "    (CPython uses the object's memory address.)\n",
      "\n"
     ]
    }
   ],
   "source": [
    "help(id)"
   ]
  },
  {
   "cell_type": "code",
   "execution_count": 4,
   "metadata": {},
   "outputs": [
    {
     "name": "stdout",
     "output_type": "stream",
     "text": [
      "Τμήμα Πληροφορικής και Τηλεπικοινωνιών\n"
     ]
    }
   ],
   "source": [
    "# Τα ελληνικά δεν είναι πρόβλημα (unicode), ακόμα και ως αναγνωριστικά (π.χ. ονόματα μεταβλητών)\n",
    "x = \"Τμήμα Πληροφορικής και Τηλεπικοινωνιών\"\n",
    "τμήμα = x\n",
    "print(τμήμα)"
   ]
  },
  {
   "cell_type": "code",
   "execution_count": 5,
   "metadata": {},
   "outputs": [
    {
     "name": "stdout",
     "output_type": "stream",
     "text": [
      "Τμήμα Πληροφορικής και Τηλεπικοινωνιών\n"
     ]
    }
   ],
   "source": [
    "# Συνένωση λεκτικών (με τον τελεστή +)\n",
    "x = \"Τμήμα Πληροφορικής\" + \" και \" + \"Τηλεπικοινωνιών\"\n",
    "print(x)"
   ]
  },
  {
   "cell_type": "code",
   "execution_count": 6,
   "metadata": {},
   "outputs": [],
   "source": [
    "# Τα λεκτικά είναι μη μεταλλάξιμα (immutable)\n",
    "x = \"ABCDEFG\"\n",
    "# x[0] = 'X' # TypeError: 'str' object does not support item assignment"
   ]
  },
  {
   "cell_type": "markdown",
   "metadata": {},
   "source": [
    "## Μετατροπή ενός τύπου σε άλλο τύπο"
   ]
  },
  {
   "cell_type": "code",
   "execution_count": 7,
   "metadata": {},
   "outputs": [
    {
     "name": "stdout",
     "output_type": "stream",
     "text": [
      "124\n"
     ]
    }
   ],
   "source": [
    "# λεκτικό σε ακέραιο (string to int)\n",
    "x = int(\"123\")\n",
    "print(x + 1)"
   ]
  },
  {
   "cell_type": "code",
   "execution_count": 8,
   "metadata": {},
   "outputs": [],
   "source": [
    "# λεκτικό σε ακέραιο (θα πρέπει το λεκτικό να μπορεί να ερμηνευτεί ως ακέραιος, αλλιώς ValueError)\n",
    "\n",
    "# x=int('a123') # ValueError: invalid literal for int() with base 10: 'a123'"
   ]
  },
  {
   "cell_type": "code",
   "execution_count": 9,
   "metadata": {},
   "outputs": [
    {
     "name": "stdout",
     "output_type": "stream",
     "text": [
      "579\n"
     ]
    }
   ],
   "source": [
    "# Μετατροπή ακεραίου σε λεκτικό (int to string)\n",
    "s = str(123 + 456)\n",
    "print(s)"
   ]
  },
  {
   "cell_type": "markdown",
   "metadata": {},
   "source": [
    "## Συναρτήσεις λεκτικών"
   ]
  },
  {
   "cell_type": "code",
   "execution_count": 1,
   "metadata": {},
   "outputs": [
    {
     "name": "stdout",
     "output_type": "stream",
     "text": [
      "['__add__', '__class__', '__contains__', '__delattr__', '__dir__', '__doc__', '__eq__', '__format__', '__ge__', '__getattribute__', '__getitem__', '__getnewargs__', '__gt__', '__hash__', '__init__', '__init_subclass__', '__iter__', '__le__', '__len__', '__lt__', '__mod__', '__mul__', '__ne__', '__new__', '__reduce__', '__reduce_ex__', '__repr__', '__rmod__', '__rmul__', '__setattr__', '__sizeof__', '__str__', '__subclasshook__', 'capitalize', 'casefold', 'center', 'count', 'encode', 'endswith', 'expandtabs', 'find', 'format', 'format_map', 'index', 'isalnum', 'isalpha', 'isascii', 'isdecimal', 'isdigit', 'isidentifier', 'islower', 'isnumeric', 'isprintable', 'isspace', 'istitle', 'isupper', 'join', 'ljust', 'lower', 'lstrip', 'maketrans', 'partition', 'replace', 'rfind', 'rindex', 'rjust', 'rpartition', 'rsplit', 'rstrip', 'split', 'splitlines', 'startswith', 'strip', 'swapcase', 'title', 'translate', 'upper', 'zfill']\n"
     ]
    }
   ],
   "source": [
    "# με τη συνάρτηση dir μπορούμε να δούμε τις μεθόδους που εφαρμόζονται σε λεκτικά.\n",
    "print(dir(\"a text\"))"
   ]
  },
  {
   "cell_type": "code",
   "execution_count": 11,
   "metadata": {},
   "outputs": [
    {
     "name": "stdout",
     "output_type": "stream",
     "text": [
      "Help on built-in function swapcase:\n",
      "\n",
      "swapcase() method of builtins.str instance\n",
      "    Convert uppercase characters to lowercase and lowercase characters to uppercase.\n",
      "\n"
     ]
    }
   ],
   "source": [
    "# με τη συνάρτηση help μπορούμε να μάθουμε περισσότερες πληροφορίες για όποια μέθοδο ενδιαφερόμαστε (οι συναρτήσεις dir και help είναι παραδέιγματα introspection)\n",
    "\n",
    "help(\"A Text\".swapcase)"
   ]
  },
  {
   "cell_type": "code",
   "execution_count": 12,
   "metadata": {},
   "outputs": [
    {
     "name": "stdout",
     "output_type": "stream",
     "text": [
      "<class 'int'>\n",
      "<class 'float'>\n",
      "<class 'str'>\n"
     ]
    }
   ],
   "source": [
    "# εύρεση του τύπου μιας τιμής\n",
    "print(type(1))\n",
    "print(type(1.0))\n",
    "print(type(\"abc\"))"
   ]
  },
  {
   "cell_type": "code",
   "execution_count": 13,
   "metadata": {},
   "outputs": [
    {
     "name": "stdout",
     "output_type": "stream",
     "text": [
      "False\n",
      "True\n"
     ]
    }
   ],
   "source": [
    "# έλεγχοι τύπων\n",
    "print(isinstance(1, float))  # False\n",
    "print(type(1) is int)  # True"
   ]
  },
  {
   "cell_type": "markdown",
   "metadata": {},
   "source": [
    "## Τεμαχισμός λεκτικών (slicing)\n",
    "\n"
   ]
  },
  {
   "cell_type": "code",
   "execution_count": 14,
   "metadata": {},
   "outputs": [
    {
     "name": "stdout",
     "output_type": "stream",
     "text": [
      "Department\n",
      "Informatics\n",
      "Telecommunications\n",
      "Department of Informatics and \n",
      "Department of Informatics and Telecommunications\n",
      "Informatics\n",
      "D\n"
     ]
    }
   ],
   "source": [
    "s = \"Department of Informatics and Telecommunications\"\n",
    "print(s[0:10])\n",
    "print(s[14:25])\n",
    "print(s[30:])\n",
    "print(s[:30])\n",
    "print(s[:])\n",
    "print(s[14:-23])\n",
    "print(s[0])\n",
    "# print(s[100]) # IndexError: string index out of range"
   ]
  },
  {
   "cell_type": "markdown",
   "metadata": {},
   "source": [
    "## Μορφοποίηση λεκτικών (formatting)"
   ]
  },
  {
   "cell_type": "code",
   "execution_count": 15,
   "metadata": {},
   "outputs": [
    {
     "data": {
      "text/plain": [
       "\"Python was created by Guido van Rossum back in the late 1980's\""
      ]
     },
     "execution_count": 15,
     "metadata": {},
     "output_type": "execute_result"
    }
   ],
   "source": [
    "# string substitution\n",
    "\n",
    "\"Python was created by %s back in the late %i's\" % (\"Guido van Rossum\", 1980)"
   ]
  },
  {
   "cell_type": "code",
   "execution_count": 16,
   "metadata": {},
   "outputs": [
    {
     "data": {
      "text/plain": [
       "\"Python was created by Guido van Rossum back in the late 1980's\""
      ]
     },
     "execution_count": 16,
     "metadata": {},
     "output_type": "execute_result"
    }
   ],
   "source": [
    "# string templates (>=Python 2.6)\n",
    "\n",
    "\"Python was created by {0} back in the late {1}'s\".format(\"Guido van Rossum\", 1980)"
   ]
  },
  {
   "cell_type": "code",
   "execution_count": 17,
   "metadata": {},
   "outputs": [
    {
     "data": {
      "text/plain": [
       "\"Python was created by Guido van Rossum back in the late 1980's\""
      ]
     },
     "execution_count": 17,
     "metadata": {},
     "output_type": "execute_result"
    }
   ],
   "source": [
    "# fstrings (>=Python 3.6)\n",
    "\n",
    "name = \"Guido van Rossum\"\n",
    "decade = 1980\n",
    "f\"Python was created by {name} back in the late {decade}'s\""
   ]
  },
  {
   "cell_type": "markdown",
   "metadata": {},
   "source": [
    "## Raw strings\n",
    "\n",
    "Τα raw strings ξεκινούν με r και δεν ερμηνεύουν το \\ και χαρακτήρες που έπονται του \\ ως ειδικούς χαρακτήρες που σημαίνουν κάτι (π.χ. \\t για tab, \\n για αλλαγή γραμμής κ.α.)"
   ]
  },
  {
   "cell_type": "code",
   "execution_count": 18,
   "metadata": {},
   "outputs": [
    {
     "name": "stdout",
     "output_type": "stream",
     "text": [
      "This \\tis a \\\\text\n",
      "This is \n",
      "a \t \\text\n"
     ]
    }
   ],
   "source": [
    "print(r\"This \\tis a \\\\text\")\n",
    "print(\"This is \\na \\t \\\\text\")"
   ]
  },
  {
   "cell_type": "code",
   "execution_count": null,
   "metadata": {},
   "outputs": [],
   "source": []
  }
 ],
 "metadata": {
  "kernelspec": {
   "display_name": "Python 3",
   "language": "python",
   "name": "python3"
  },
  "language_info": {
   "codemirror_mode": {
    "name": "ipython",
    "version": 3
   },
   "file_extension": ".py",
   "mimetype": "text/x-python",
   "name": "python",
   "nbconvert_exporter": "python",
   "pygments_lexer": "ipython3",
   "version": "3.8.0"
  }
 },
 "nbformat": 4,
 "nbformat_minor": 2
}
