{
 "cells": [
  {
   "cell_type": "markdown",
   "metadata": {},
   "source": [
    "    Τμήμα Πληροφορικής και Τηλεπικοινωνιών - Άρτα \n",
    "    Πανεπιστήμιο Ιωαννίνων \n",
    "\n",
    "    Γκόγκος Χρήστος \n",
    "    http://chgogos.github.io/\n",
    "    Εαρινό εξάμηνο 2020-2021"
   ]
  },
  {
   "cell_type": "markdown",
   "metadata": {},
   "source": [
    "# Εντολές ελέγχου συνθηκών\n",
    "\n",
    "Εντολές: if/elif/else\n",
    "\n",
    "Λογικοί τελεστές: and, or, not\n",
    "\n",
    "Τριαδικός τελεστής"
   ]
  },
  {
   "cell_type": "markdown",
   "metadata": {},
   "source": [
    "## Η εντολή if"
   ]
  },
  {
   "cell_type": "code",
   "execution_count": 1,
   "metadata": {},
   "outputs": [
    {
     "name": "stdout",
     "output_type": "stream",
     "text": [
      "Δεν μπορείς να λάβεις δίπλωμα οδήγησης\n"
     ]
    }
   ],
   "source": [
    "age = 17\n",
    "if age < 18:\n",
    "    print(\"Δεν μπορείς να λάβεις δίπλωμα οδήγησης\")"
   ]
  },
  {
   "cell_type": "code",
   "execution_count": 2,
   "metadata": {},
   "outputs": [
    {
     "name": "stdout",
     "output_type": "stream",
     "text": [
      "Μπορείς να λάβεις δίπλωμα οδήγησης\n"
     ]
    }
   ],
   "source": [
    "age = 18\n",
    "if age < 18:\n",
    "    print(\"Δεν μπορείς να λάβεις δίπλωμα οδήγησης\")\n",
    "else:\n",
    "    print(\"Μπορείς να λάβεις δίπλωμα οδήγησης\")"
   ]
  },
  {
   "cell_type": "code",
   "execution_count": 3,
   "metadata": {},
   "outputs": [
    {
     "name": "stdout",
     "output_type": "stream",
     "text": [
      "Μπορείς να κάνεις μαθήματα για δίπλωμα οδήγησης\n"
     ]
    }
   ],
   "source": [
    "age = 16\n",
    "if age < 15:\n",
    "    print(\"Δεν μπορείς να λάβεις δίπλωμα οδήγησης\")\n",
    "elif 15 <= age < 18:\n",
    "    print(\"Μπορείς να κάνεις μαθήματα για δίπλωμα οδήγησης\")\n",
    "else:\n",
    "    print(\"Μπορείς να λάβεις δίπλωμα οδήγησης\")"
   ]
  },
  {
   "cell_type": "code",
   "execution_count": 4,
   "metadata": {},
   "outputs": [
    {
     "name": "stdout",
     "output_type": "stream",
     "text": [
      "A\n"
     ]
    }
   ],
   "source": [
    "# Εμφωλευμένα if\n",
    "\n",
    "a, b = 1, 2  # A\n",
    "# a,b = 1,3 # B\n",
    "# a,b = 2,1 # C\n",
    "\n",
    "if a == 1:\n",
    "    if b == 2:\n",
    "        print(\"A\")\n",
    "    else:\n",
    "        print(\"B\")\n",
    "else:\n",
    "    print(\"C\")"
   ]
  },
  {
   "cell_type": "markdown",
   "metadata": {},
   "source": [
    "## Οι λογικοί τελεστές"
   ]
  },
  {
   "cell_type": "code",
   "execution_count": 5,
   "metadata": {},
   "outputs": [
    {
     "name": "stdout",
     "output_type": "stream",
     "text": [
      "True\n",
      "True\n",
      "True\n",
      "False\n"
     ]
    }
   ],
   "source": [
    "print(2 > 1 and 3 > 2)\n",
    "print(1 == 5 % 2 or 2 != 2)\n",
    "print(\"abc\" in [5, 16, 42, \"abc\", 7])\n",
    "print(\"abc\" not in [5, 16, 42, \"abc\", 7])"
   ]
  },
  {
   "cell_type": "code",
   "execution_count": 6,
   "metadata": {},
   "outputs": [
    {
     "name": "stdout",
     "output_type": "stream",
     "text": [
      "None is considered False\n",
      "Empty list is considered False\n",
      "Empty tuple is considered False\n",
      "Empty dictionary is considered False\n",
      "Empty string is considered False\n",
      "True\n",
      "False\n"
     ]
    }
   ],
   "source": [
    "## H λέξη κλειδί None\n",
    "\n",
    "x = None\n",
    "y = []\n",
    "z = ()\n",
    "w = {}\n",
    "y = \"\"\n",
    "\n",
    "if not x:\n",
    "    print(\"None is considered False\")\n",
    "\n",
    "if not y:\n",
    "    print(\"Empty list is considered False\")\n",
    "\n",
    "if not z:\n",
    "    print(\"Empty tuple is considered False\")\n",
    "\n",
    "if not w:\n",
    "    print(\"Empty dictionary is considered False\")\n",
    "\n",
    "if not y:\n",
    "    print(\"Empty string is considered False\")\n",
    "\n",
    "print((not x) == (not y))\n",
    "print(x == y)"
   ]
  },
  {
   "cell_type": "markdown",
   "metadata": {},
   "source": [
    "## Τριαδικός τελεστής (ternary operator)"
   ]
  },
  {
   "cell_type": "code",
   "execution_count": 7,
   "metadata": {},
   "outputs": [
    {
     "data": {
      "text/plain": [
       "'Περιττός'"
      ]
     },
     "execution_count": 7,
     "metadata": {},
     "output_type": "execute_result"
    }
   ],
   "source": [
    "x = 5\n",
    "\"Άρτιος\" if x % 2 == 0 else \"Περιττός\""
   ]
  }
 ],
 "metadata": {
  "kernelspec": {
   "display_name": "Python 3",
   "language": "python",
   "name": "python3"
  },
  "language_info": {
   "codemirror_mode": {
    "name": "ipython",
    "version": 3
   },
   "file_extension": ".py",
   "mimetype": "text/x-python",
   "name": "python",
   "nbconvert_exporter": "python",
   "pygments_lexer": "ipython3",
   "version": "3.8.0"
  }
 },
 "nbformat": 4,
 "nbformat_minor": 2
}
