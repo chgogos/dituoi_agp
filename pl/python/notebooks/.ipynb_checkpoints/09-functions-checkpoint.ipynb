{
 "cells": [
  {
   "cell_type": "markdown",
   "metadata": {},
   "source": [
    "    Τμήμα Πληροφορικής και Τηλεπικοινωνιών - Άρτα \n",
    "    Πανεπιστήμιο Ιωαννίνων \n",
    "\n",
    "    Γκόγκος Χρήστος \n",
    "    http://chgogos.github.io/\n",
    "    Εαρινό εξάμηνο 2020-2021"
   ]
  },
  {
   "cell_type": "markdown",
   "metadata": {},
   "source": [
    "# Συναρτήσεις"
   ]
  },
  {
   "cell_type": "code",
   "execution_count": 1,
   "metadata": {},
   "outputs": [
    {
     "name": "stdout",
     "output_type": "stream",
     "text": [
      "hi\n"
     ]
    }
   ],
   "source": [
    "# Απλή συνάρτηση χωρίς ορίσματα\n",
    "\n",
    "\n",
    "def fun():\n",
    "    print(\"hi\")\n",
    "\n",
    "\n",
    "fun()"
   ]
  },
  {
   "cell_type": "code",
   "execution_count": 2,
   "metadata": {},
   "outputs": [],
   "source": [
    "# Κενή συνάρτηση (σηματοδοτεί ότι πρόκειται να συμπληρωθεί αργότερα)\n",
    "\n",
    "\n",
    "def fun():\n",
    "    pass\n",
    "\n",
    "\n",
    "fun()"
   ]
  },
  {
   "cell_type": "code",
   "execution_count": 3,
   "metadata": {},
   "outputs": [
    {
     "data": {
      "text/plain": [
       "5050"
      ]
     },
     "execution_count": 3,
     "metadata": {},
     "output_type": "execute_result"
    }
   ],
   "source": [
    "# Συναρτήσεις με ορίσματα\n",
    "\n",
    "\n",
    "def fun(x, y):\n",
    "    sum = 0\n",
    "    for i in range(x, y):\n",
    "        sum += i\n",
    "    return sum + y\n",
    "\n",
    "\n",
    "fun(1, 100)"
   ]
  },
  {
   "cell_type": "code",
   "execution_count": 4,
   "metadata": {},
   "outputs": [
    {
     "name": "stdout",
     "output_type": "stream",
     "text": [
      "Το πρώτο όρισμα είναι 1, το δεύτερο όρισμα είναι 2, το τρίτο όρισμα είναι 3\n",
      "Το πρώτο όρισμα είναι 1, το δεύτερο όρισμα είναι 2, το τρίτο όρισμα είναι 3\n",
      "Το πρώτο όρισμα είναι 1, το δεύτερο όρισμα είναι 2, το τρίτο όρισμα είναι 3\n",
      "Το πρώτο όρισμα είναι 1, το δεύτερο όρισμα είναι 2, το τρίτο όρισμα είναι 3\n"
     ]
    }
   ],
   "source": [
    "# keyword ορίσματα\n",
    "\n",
    "\n",
    "def fun(x, y, z):\n",
    "    print(\n",
    "        f\"Το πρώτο όρισμα είναι {x}, το δεύτερο όρισμα είναι {y}, το τρίτο όρισμα είναι {z}\"\n",
    "    )\n",
    "\n",
    "\n",
    "fun(1, 2, 3)\n",
    "fun(x=1, y=2, z=3)\n",
    "fun(y=2, x=1, z=3)\n",
    "fun(1, z=3, y=2)"
   ]
  },
  {
   "cell_type": "code",
   "execution_count": null,
   "metadata": {},
   "outputs": [],
   "source": []
  },
  {
   "cell_type": "code",
   "execution_count": 5,
   "metadata": {},
   "outputs": [
    {
     "name": "stdout",
     "output_type": "stream",
     "text": [
      "1 2\n",
      "5 2\n",
      "5 2\n",
      "1 10\n",
      "5 10\n",
      "5 10\n"
     ]
    }
   ],
   "source": [
    "# προκαθορισμένες τιμές (default) ορισμάτων\n",
    "\n",
    "\n",
    "def fun(x=1, y=2):\n",
    "    print(x, y)\n",
    "\n",
    "\n",
    "fun()\n",
    "fun(5)\n",
    "fun(x=5)\n",
    "fun(y=10)\n",
    "fun(5, 10)\n",
    "fun(5, y=10)"
   ]
  },
  {
   "cell_type": "code",
   "execution_count": 6,
   "metadata": {},
   "outputs": [
    {
     "name": "stdout",
     "output_type": "stream",
     "text": [
      "(1, 2, 3)\n",
      "{'a': 'data1', 'b': 'data2'}\n"
     ]
    }
   ],
   "source": [
    "# args και kwargs\n",
    "# Μέσα στη συνάρτηση:\n",
    "# args είναι ένα tuple με τις τιμές των ορισμάτων της συνάρτησης\n",
    "# kwargs είναι ένα λεξικό με ονόματα και τιμές των keyword ορισμάτων της συνάρτησης\n",
    "\n",
    "\n",
    "def fun(*args, **kwargs):\n",
    "    print(args)\n",
    "    print(kwargs)\n",
    "\n",
    "\n",
    "fun(1, 2, 3, a=\"data1\", b=\"data2\")"
   ]
  },
  {
   "cell_type": "markdown",
   "metadata": {},
   "source": [
    "## Εμβέλεια (scope)\n",
    "Η εμβέλεια καθορίζει το πότε μια μεταβλητή μπορεί να χρησιμοποιηθεί. Αν μια μεταβλητή δηλωθεί ως καθολική (global) τότε μπορεί να χρησιμοποιηθεί οπουδήποτε στο πρόγραμμα."
   ]
  },
  {
   "cell_type": "code",
   "execution_count": 7,
   "metadata": {},
   "outputs": [
    {
     "name": "stdout",
     "output_type": "stream",
     "text": [
      "a=1, x=2\n"
     ]
    }
   ],
   "source": [
    "a = 1\n",
    "\n",
    "\n",
    "def fun(x):\n",
    "    print(f\"a={a}, x={x}\")\n",
    "\n",
    "\n",
    "fun(2)"
   ]
  },
  {
   "cell_type": "code",
   "execution_count": 8,
   "metadata": {},
   "outputs": [
    {
     "name": "stdout",
     "output_type": "stream",
     "text": [
      "a=1, g=10, x=1\n",
      "a=1, g=10\n",
      "a=2, g=11\n",
      "2 11\n"
     ]
    }
   ],
   "source": [
    "a = 1\n",
    "\n",
    "\n",
    "def fun(x):\n",
    "    global g\n",
    "    g = 10\n",
    "    print(f\"a={a}, g={g}, x={x}\")\n",
    "\n",
    "\n",
    "def foo():\n",
    "    # a += 1 # δεν επιτρέπεται, δεν έχει δηλωθεί global μέσα στη συνάρτηση\n",
    "    # g+=10 # δεν επιτρέπεται, δεν έχει δηλωθεί global μέσα στη συνάρτηση\n",
    "    print(f\"a={a}, g={g}\")\n",
    "\n",
    "\n",
    "def bar():\n",
    "    global a, g\n",
    "    a += 1\n",
    "    g += 1\n",
    "    print(f\"a={a}, g={g}\")\n",
    "\n",
    "\n",
    "fun(1)\n",
    "foo()\n",
    "bar()\n",
    "print(a, g)"
   ]
  },
  {
   "cell_type": "code",
   "execution_count": 9,
   "metadata": {},
   "outputs": [
    {
     "name": "stdout",
     "output_type": "stream",
     "text": [
      "3\n",
      "12\n",
      "**********\n"
     ]
    }
   ],
   "source": [
    "# Συναρτήσεις πρώτης τάξης\n",
    "\n",
    "\n",
    "def fun(x, y):\n",
    "    return x + y\n",
    "\n",
    "\n",
    "my_f = fun  # ανάθεση συνάρτησης σε μεταβλητή\n",
    "print(my_f(1, 2))  # κλήση του κώδικα της συνάρτησης fun\n",
    "\n",
    "# ------------------------------------------------\n",
    "\n",
    "\n",
    "def foo(func, x, y):  # πέρασμα συνάρτησης ως όρισμα συνάρτησης\n",
    "    a = func(x, y)\n",
    "    print(a)\n",
    "\n",
    "\n",
    "foo(fun, 5, 7)  # κλήση της συνάρτησης foo με όρισμα τη συνάρτηση fun\n",
    "\n",
    "# ------------------------------------------------\n",
    "\n",
    "\n",
    "def bar(x):  # συνάρτηση που επιστρέφει μια άλλη συνάρτηση\n",
    "    def banner(c):  # συνάρτηση banner ορίζεται μέσα στη συνάρτηση bar\n",
    "        print(c * x)\n",
    "\n",
    "    return banner  # η συνάρτηση bar επιστρέφει τη συνάρτηση banner\n",
    "\n",
    "\n",
    "fun = bar(\n",
    "    10\n",
    ")  # το αποτέλεσμα της κλήσης της συνάρτησης bar επιστρέφεται στη μεταβλητή fun\n",
    "fun(\"*\")  # κλήση του κώδικα της συνάρτησης banner"
   ]
  }
 ],
 "metadata": {
  "kernelspec": {
   "display_name": "Python 3",
   "language": "python",
   "name": "python3"
  },
  "language_info": {
   "codemirror_mode": {
    "name": "ipython",
    "version": 3
   },
   "file_extension": ".py",
   "mimetype": "text/x-python",
   "name": "python",
   "nbconvert_exporter": "python",
   "pygments_lexer": "ipython3",
   "version": "3.8.0"
  }
 },
 "nbformat": 4,
 "nbformat_minor": 2
}
