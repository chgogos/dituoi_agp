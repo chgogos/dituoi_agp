{
 "cells": [
  {
   "cell_type": "code",
   "execution_count": null,
   "metadata": {},
   "outputs": [],
   "source": [
    "# η χρήση του _ για τη λήψη του τελευταίου αποτελέσματος\n",
    "\n",
    "x = 2**20\n",
    "_"
   ]
  },
  {
   "cell_type": "code",
   "execution_count": 20,
   "metadata": {},
   "outputs": [
    {
     "name": "stdout",
     "output_type": "stream",
     "text": [
      "1.6449240667982423\n",
      "25.8 ms ± 190 µs per loop (mean ± std. dev. of 7 runs, 10 loops each)\n",
      "857 µs ± 5.58 µs per loop (mean ± std. dev. of 7 runs, 1000 loops each)\n",
      "1.644924066798227\n"
     ]
    }
   ],
   "source": [
    "# Χρονομέτρηση κώδικα με το timeit\n",
    "\n",
    "n = 100000\n",
    "print(sum([1.0 / i ** 2 for i in range(1, n)]))\n",
    "%timeit sum([1. / i**2 for i in range(1,n)])\n",
    "\n",
    "import numpy as np\n",
    "\n",
    "%timeit np.sum(1. / np.arange(1.,n) ** 2)\n",
    "print(np.sum(1.0 / np.arange(1.0, n) ** 2))"
   ]
  },
  {
   "cell_type": "code",
   "execution_count": null,
   "metadata": {},
   "outputs": [],
   "source": [
    "# disassembler\n",
    "\n",
    "import dis\n",
    "\n",
    "\n",
    "def func(alist):\n",
    "    return len(alist)\n",
    "\n",
    "\n",
    "dis.dis(func)"
   ]
  },
  {
   "cell_type": "code",
   "execution_count": null,
   "metadata": {},
   "outputs": [],
   "source": [
    "# ισοδυναμία συναρτήσεων και λάμδα συναρτήσεων\n",
    "\n",
    "import dis\n",
    "\n",
    "\n",
    "def func(x, y):\n",
    "    return x + y\n",
    "\n",
    "\n",
    "print(dis.dis(func))\n",
    "\n",
    "f = lambda x, y: x + y\n",
    "\n",
    "print(dis.dis(f))"
   ]
  },
  {
   "cell_type": "code",
   "execution_count": 23,
   "metadata": {},
   "outputs": [
    {
     "name": "stderr",
     "output_type": "stream",
     "text": [
      "19:49:39 Αυτό είναι ένα μήνυμα INFO\n"
     ]
    }
   ],
   "source": [
    "import logging\n",
    "\n",
    "logging.basicConfig(format=\"%(asctime)s %(message)s\", datefmt=\"%H:%M:%S\")\n",
    "logger = logging.getLogger()\n",
    "logger.setLevel(logging.INFO)\n",
    "logger.info(\"Αυτό είναι ένα μήνυμα INFO\")"
   ]
  },
  {
   "cell_type": "code",
   "execution_count": null,
   "metadata": {},
   "outputs": [],
   "source": [
    "import sys\n",
    "\n",
    "print(sys.executable)"
   ]
  },
  {
   "cell_type": "code",
   "execution_count": null,
   "metadata": {},
   "outputs": [],
   "source": []
  }
 ],
 "metadata": {
  "kernelspec": {
   "display_name": "Python 3",
   "language": "python",
   "name": "python3"
  },
  "language_info": {
   "codemirror_mode": {
    "name": "ipython",
    "version": 3
   },
   "file_extension": ".py",
   "mimetype": "text/x-python",
   "name": "python",
   "nbconvert_exporter": "python",
   "pygments_lexer": "ipython3",
   "version": "3.8.0"
  }
 },
 "nbformat": 4,
 "nbformat_minor": 2
}
