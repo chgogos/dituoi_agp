{
 "cells": [
  {
   "cell_type": "markdown",
   "metadata": {},
   "source": [
    "    Τμήμα Πληροφορικής και Τηλεπικοινωνιών - Άρτα \n",
    "    Πανεπιστήμιο Ιωαννίνων \n",
    "\n",
    "    Γκόγκος Χρήστος \n",
    "    http://chgogos.github.io/\n",
    "    \n",
    "    Τελευταία ενημέρωση: 19/6/2022"
   ]
  },
  {
   "cell_type": "markdown",
   "metadata": {},
   "source": [
    "# Python - εισαγωγικές έννοιες"
   ]
  },
  {
   "cell_type": "code",
   "execution_count": 1,
   "metadata": {},
   "outputs": [
    {
     "name": "stdout",
     "output_type": "stream",
     "text": [
      "The Zen of Python, by Tim Peters\n",
      "\n",
      "Beautiful is better than ugly.\n",
      "Explicit is better than implicit.\n",
      "Simple is better than complex.\n",
      "Complex is better than complicated.\n",
      "Flat is better than nested.\n",
      "Sparse is better than dense.\n",
      "Readability counts.\n",
      "Special cases aren't special enough to break the rules.\n",
      "Although practicality beats purity.\n",
      "Errors should never pass silently.\n",
      "Unless explicitly silenced.\n",
      "In the face of ambiguity, refuse the temptation to guess.\n",
      "There should be one-- and preferably only one --obvious way to do it.\n",
      "Although that way may not be obvious at first unless you're Dutch.\n",
      "Now is better than never.\n",
      "Although never is often better than *right* now.\n",
      "If the implementation is hard to explain, it's a bad idea.\n",
      "If the implementation is easy to explain, it may be a good idea.\n",
      "Namespaces are one honking great idea -- let's do more of those!\n"
     ]
    }
   ],
   "source": [
    "# The Zen of Python\n",
    "\n",
    "import this"
   ]
  },
  {
   "cell_type": "code",
   "execution_count": 2,
   "metadata": {},
   "outputs": [
    {
     "data": {
      "text/plain": [
       "sys.version_info(major=3, minor=10, micro=4, releaselevel='final', serial=0)"
      ]
     },
     "execution_count": 2,
     "metadata": {},
     "output_type": "execute_result"
    }
   ],
   "source": [
    "# έκδοση της Python\n",
    "\n",
    "import sys\n",
    "sys.version_info"
   ]
  },
  {
   "cell_type": "code",
   "execution_count": 3,
   "metadata": {},
   "outputs": [
    {
     "data": {
      "text/plain": [
       "'\\nΣχόλιο\\nπολλών\\nγραμμών \\n'"
      ]
     },
     "execution_count": 3,
     "metadata": {},
     "output_type": "execute_result"
    }
   ],
   "source": [
    "# Σχόλιo μιας γραμμής\n",
    "\n",
    "\"\"\"\n",
    "Σχόλιο\n",
    "πολλών\n",
    "γραμμών \n",
    "\"\"\""
   ]
  },
  {
   "cell_type": "code",
   "execution_count": 4,
   "metadata": {},
   "outputs": [
    {
     "name": "stdout",
     "output_type": "stream",
     "text": [
      "5 <class 'int'>\n",
      "7.2 <class 'float'>\n",
      "Άρτα <class 'str'>\n",
      "True <class 'bool'>\n",
      "None <class 'NoneType'>\n"
     ]
    }
   ],
   "source": [
    "# Στο ίδιο όνομα μεταβλητής μπορούν να ανατεθούν, κατά την εκτέλεση του προγράμματος, τιμές διαφόρων τύπων (dynamic type binding)\n",
    "\n",
    "x = 5\n",
    "print(x, type(x))\n",
    "x = 7.2\n",
    "print(x, type(x))\n",
    "x = \"Άρτα\"\n",
    "print(x, type(x))\n",
    "x = True\n",
    "print(x, type(x))\n",
    "x = None\n",
    "print(x, type(x))"
   ]
  },
  {
   "cell_type": "code",
   "execution_count": 5,
   "metadata": {},
   "outputs": [
    {
     "name": "stdout",
     "output_type": "stream",
     "text": [
      "5 8\n",
      "1 [2, 3, 4, 5] 6\n"
     ]
    }
   ],
   "source": [
    "# Πολλαπλές αναθέσεις τιμών σε μεταβλητές στην ίδια εντολή\n",
    "\n",
    "x, y = 5, 8\n",
    "print(x, y)\n",
    "\n",
    "x, *y, z = 1, 2, 3, 4, 5, 6\n",
    "print(x, y, z)"
   ]
  },
  {
   "cell_type": "code",
   "execution_count": 6,
   "metadata": {},
   "outputs": [
    {
     "name": "stdout",
     "output_type": "stream",
     "text": [
      "10 5\n"
     ]
    }
   ],
   "source": [
    "# Αντιμετάθεση μεταβλητών με 1 εντολή\n",
    "\n",
    "a, b = 5, 10\n",
    "a, b = b, a  # αντιμετάθεση μεταβλητών\n",
    "print(a, b)"
   ]
  },
  {
   "cell_type": "code",
   "execution_count": 7,
   "metadata": {},
   "outputs": [
    {
     "data": {
      "text/plain": [
       "True"
      ]
     },
     "execution_count": 7,
     "metadata": {},
     "output_type": "execute_result"
    }
   ],
   "source": [
    "# έλεγχος αν μια τιμή βρίσκεται σε ένα εύρος τιμών (γραφή όπως στα μαθηματικά)\n",
    "\n",
    "x = 8\n",
    "5 < x < 10  # ισοδύναμο με 5 < x and x < 10"
   ]
  },
  {
   "cell_type": "code",
   "execution_count": 8,
   "metadata": {},
   "outputs": [
    {
     "data": {
      "text/plain": [
       "True"
      ]
     },
     "execution_count": 8,
     "metadata": {},
     "output_type": "execute_result"
    }
   ],
   "source": [
    "# έλεγχος αν μια τιμή ανήκει σε ένα σύνολο τιμών\n",
    "\n",
    "5 in {3,4,5,6,7}"
   ]
  },
  {
   "cell_type": "code",
   "execution_count": 9,
   "metadata": {},
   "outputs": [
    {
     "name": "stdout",
     "output_type": "stream",
     "text": [
      "2.5\n",
      "3.3333333333333335\n",
      "3\n",
      "1\n",
      "1024\n",
      "10715086071862673209484250490600018105614048117055336074437503883703510511249361224931983788156958581275946729175531468251871452856923140435984577574698574803934567774824230985421074605062371141877954182153046474983581941267398767559165543946077062914571196477686542167660429831652624386837205668069376\n"
     ]
    }
   ],
   "source": [
    "# Αριθμητικές πράξεις\n",
    "\n",
    "print(1 + 2 * 3 / 4)\n",
    "print(10 / 3)\n",
    "print(10 // 3)  # ακέραια διαίρεση\n",
    "print(10 % 3)  # υπόλοιπο ακέραιας διαίρεσης\n",
    "print(2 ** 10)  ## ύψωση σε δύναμη\n",
    "print(2 ** 1000)  # πράξεις με μεγάλους αριθμούς"
   ]
  },
  {
   "cell_type": "code",
   "execution_count": 10,
   "metadata": {},
   "outputs": [
    {
     "name": "stdout",
     "output_type": "stream",
     "text": [
      "3.141592653589793\n",
      "2.718281828459045\n",
      "6.283185307179586\n",
      "inf\n",
      "-inf\n",
      "nan\n",
      "5.0\n",
      "10.0\n",
      "10.0\n",
      "2.0\n",
      "2.0\n",
      "9.0\n",
      "45.0\n",
      "3.141592653589793\n",
      "0.7071067811865476\n",
      "0.7071067811865476\n",
      "0.9999999999999999\n"
     ]
    }
   ],
   "source": [
    "# Το module math\n",
    "\n",
    "import math\n",
    "\n",
    "# σταθερές\n",
    "print(math.pi)\n",
    "print(math.e)\n",
    "print(math.tau)\n",
    "print(math.inf)\n",
    "print(-math.inf)\n",
    "print(math.nan)\n",
    "\n",
    "# λογάριθμος\n",
    "x = math.e ** 5\n",
    "print(math.log(x))  # φυσικός λογάριθμος του e^5\n",
    "print(math.log(1024, 2))  # δυαδικός λογάριθμος του 1024\n",
    "print(math.log2(1024))  # δυαδικός λογάριθμος του 1024\n",
    "print(math.log(100, 10))  # δεκαδικός λογάριθμος του 100\n",
    "print(math.log10(100))  # δεκαδικός λογάριθμος του 100\n",
    "\n",
    "# τετραγωνική ρίζα\n",
    "print(math.sqrt(81))\n",
    "\n",
    "# τριγωνομετρικές συναρτήσεις\n",
    "print(math.degrees(math.pi / 4))\n",
    "print(math.radians(180))\n",
    "print(math.sin(math.pi / 4))\n",
    "print(math.cos(math.pi / 4))\n",
    "print(math.tan(math.pi / 4))"
   ]
  },
  {
   "cell_type": "code",
   "execution_count": 11,
   "metadata": {},
   "outputs": [
    {
     "name": "stdout",
     "output_type": "stream",
     "text": [
      "5.0\n",
      "3.0\n",
      "(5.830951894845301, 0.5404195002705842)\n",
      "(9+10j)\n",
      "(1-4j)\n",
      "(-1+47j)\n",
      "(0.6307692307692307-0.35384615384615387j)\n",
      "(16+30j)\n"
     ]
    }
   ],
   "source": [
    "## Μιγαδικοί αριθμοί\n",
    "\n",
    "import cmath  # για πράξεις με μιγαδικούς\n",
    "\n",
    "z = complex(5, 3)\n",
    "print(z.real)\n",
    "print(z.imag)\n",
    "print(cmath.polar(z))\n",
    "\n",
    "w = 4 + 7j  # εναλακτικός τρόπος ορισμού μιγαδικού αριθμού\n",
    "print(z + w)\n",
    "print(z - w)\n",
    "print(z * w)\n",
    "print(z / w)\n",
    "print(z ** 2)"
   ]
  },
  {
   "cell_type": "code",
   "execution_count": 12,
   "metadata": {},
   "outputs": [
    {
     "name": "stdout",
     "output_type": "stream",
     "text": [
      "αβγδεζ\n",
      "αβγ αβγ αβγ αβγ αβγ αβγ αβγ αβγ αβγ αβγ \n"
     ]
    }
   ],
   "source": [
    "## Πράξεις σε λεκτικά\n",
    "\n",
    "print(\"αβγ\" + \"δεζ\")  # συνένωση λεκτικών\n",
    "print(\"αβγ \" * 10)  # επανάληψη του ίδιου λεκτικού"
   ]
  },
  {
   "cell_type": "code",
   "execution_count": 13,
   "metadata": {},
   "outputs": [
    {
     "name": "stdout",
     "output_type": "stream",
     "text": [
      "2470931261680\n",
      "<class 'str'>\n",
      "['__add__', '__class__', '__contains__', '__delattr__', '__dir__', '__doc__', '__eq__', '__format__', '__ge__', '__getattribute__', '__getitem__', '__getnewargs__', '__gt__', '__hash__', '__init__', '__init_subclass__', '__iter__', '__le__', '__len__', '__lt__', '__mod__', '__mul__', '__ne__', '__new__', '__reduce__', '__reduce_ex__', '__repr__', '__rmod__', '__rmul__', '__setattr__', '__sizeof__', '__str__', '__subclasshook__', 'capitalize', 'casefold', 'center', 'count', 'encode', 'endswith', 'expandtabs', 'find', 'format', 'format_map', 'index', 'isalnum', 'isalpha', 'isascii', 'isdecimal', 'isdigit', 'isidentifier', 'islower', 'isnumeric', 'isprintable', 'isspace', 'istitle', 'isupper', 'join', 'ljust', 'lower', 'lstrip', 'maketrans', 'partition', 'removeprefix', 'removesuffix', 'replace', 'rfind', 'rindex', 'rjust', 'rpartition', 'rsplit', 'rstrip', 'split', 'splitlines', 'startswith', 'strip', 'swapcase', 'title', 'translate', 'upper', 'zfill']\n",
      "****************************************\n",
      "2470849151216\n",
      "<class 'int'>\n",
      "['__add__', '__class__', '__contains__', '__delattr__', '__dir__', '__doc__', '__eq__', '__format__', '__ge__', '__getattribute__', '__getitem__', '__getnewargs__', '__gt__', '__hash__', '__init__', '__init_subclass__', '__iter__', '__le__', '__len__', '__lt__', '__mod__', '__mul__', '__ne__', '__new__', '__reduce__', '__reduce_ex__', '__repr__', '__rmod__', '__rmul__', '__setattr__', '__sizeof__', '__str__', '__subclasshook__', 'capitalize', 'casefold', 'center', 'count', 'encode', 'endswith', 'expandtabs', 'find', 'format', 'format_map', 'index', 'isalnum', 'isalpha', 'isascii', 'isdecimal', 'isdigit', 'isidentifier', 'islower', 'isnumeric', 'isprintable', 'isspace', 'istitle', 'isupper', 'join', 'ljust', 'lower', 'lstrip', 'maketrans', 'partition', 'removeprefix', 'removesuffix', 'replace', 'rfind', 'rindex', 'rjust', 'rpartition', 'rsplit', 'rstrip', 'split', 'splitlines', 'startswith', 'strip', 'swapcase', 'title', 'translate', 'upper', 'zfill']\n",
      "****************************************\n",
      "2470930785936\n",
      "<class 'float'>\n",
      "['__abs__', '__add__', '__bool__', '__ceil__', '__class__', '__delattr__', '__dir__', '__divmod__', '__doc__', '__eq__', '__float__', '__floor__', '__floordiv__', '__format__', '__ge__', '__getattribute__', '__getformat__', '__getnewargs__', '__gt__', '__hash__', '__init__', '__init_subclass__', '__int__', '__le__', '__lt__', '__mod__', '__mul__', '__ne__', '__neg__', '__new__', '__pos__', '__pow__', '__radd__', '__rdivmod__', '__reduce__', '__reduce_ex__', '__repr__', '__rfloordiv__', '__rmod__', '__rmul__', '__round__', '__rpow__', '__rsub__', '__rtruediv__', '__setattr__', '__setformat__', '__sizeof__', '__str__', '__sub__', '__subclasshook__', '__truediv__', '__trunc__', 'as_integer_ratio', 'conjugate', 'fromhex', 'hex', 'imag', 'is_integer', 'real']\n",
      "****************************************\n",
      "140727211575408\n",
      "<class 'bool'>\n",
      "['__abs__', '__add__', '__and__', '__bool__', '__ceil__', '__class__', '__delattr__', '__dir__', '__divmod__', '__doc__', '__eq__', '__float__', '__floor__', '__floordiv__', '__format__', '__ge__', '__getattribute__', '__getnewargs__', '__gt__', '__hash__', '__index__', '__init__', '__init_subclass__', '__int__', '__invert__', '__le__', '__lshift__', '__lt__', '__mod__', '__mul__', '__ne__', '__neg__', '__new__', '__or__', '__pos__', '__pow__', '__radd__', '__rand__', '__rdivmod__', '__reduce__', '__reduce_ex__', '__repr__', '__rfloordiv__', '__rlshift__', '__rmod__', '__rmul__', '__ror__', '__round__', '__rpow__', '__rrshift__', '__rshift__', '__rsub__', '__rtruediv__', '__rxor__', '__setattr__', '__sizeof__', '__str__', '__sub__', '__subclasshook__', '__truediv__', '__trunc__', '__xor__', 'as_integer_ratio', 'bit_count', 'bit_length', 'conjugate', 'denominator', 'from_bytes', 'imag', 'numerator', 'real', 'to_bytes']\n",
      "****************************************\n",
      "140727211650624\n",
      "<class 'NoneType'>\n",
      "['__bool__', '__class__', '__delattr__', '__dir__', '__doc__', '__eq__', '__format__', '__ge__', '__getattribute__', '__gt__', '__hash__', '__init__', '__init_subclass__', '__le__', '__lt__', '__ne__', '__new__', '__reduce__', '__reduce_ex__', '__repr__', '__setattr__', '__sizeof__', '__str__', '__subclasshook__']\n"
     ]
    }
   ],
   "source": [
    "## introspection (id, type, dir)\n",
    "\n",
    "a = \"informatics\"\n",
    "print(id(a))\n",
    "print(type(a))\n",
    "print(dir(a))\n",
    "print(\"*\" * 40)\n",
    "b = 1\n",
    "print(id(b))\n",
    "print(type(b))\n",
    "print(dir(a))\n",
    "print(\"*\" * 40)\n",
    "c = 1.5\n",
    "print(id(c))\n",
    "print(type(c))\n",
    "print(dir(c))\n",
    "print(\"*\" * 40)\n",
    "d = True\n",
    "print(id(d))\n",
    "print(type(d))\n",
    "print(dir(d))\n",
    "print(\"*\" * 40)\n",
    "e = None\n",
    "print(id(e))\n",
    "print(type(e))\n",
    "print(dir(e))"
   ]
  },
  {
   "cell_type": "markdown",
   "metadata": {},
   "source": [
    "## Αριθμητική με την Python\n",
    "\n",
    "https://0.30000000000000004.com/"
   ]
  },
  {
   "cell_type": "code",
   "execution_count": 14,
   "metadata": {},
   "outputs": [
    {
     "data": {
      "text/plain": [
       "0.30000000000000004"
      ]
     },
     "execution_count": 14,
     "metadata": {},
     "output_type": "execute_result"
    }
   ],
   "source": [
    "0.1 + 0.2"
   ]
  },
  {
   "cell_type": "code",
   "execution_count": 15,
   "metadata": {},
   "outputs": [
    {
     "data": {
      "text/plain": [
       "Decimal('0.3000000000000000166533453694')"
      ]
     },
     "execution_count": 15,
     "metadata": {},
     "output_type": "execute_result"
    }
   ],
   "source": [
    "# χρήση του decimal\n",
    "\n",
    "from decimal import Decimal\n",
    "Decimal(0.1) + Decimal(0.2)\n"
   ]
  },
  {
   "cell_type": "code",
   "execution_count": 16,
   "metadata": {},
   "outputs": [
    {
     "data": {
      "text/plain": [
       "Fraction(3, 10)"
      ]
     },
     "execution_count": 16,
     "metadata": {},
     "output_type": "execute_result"
    }
   ],
   "source": [
    "from fractions import Fraction\n",
    "Fraction(\"0.1\") + Fraction(\"0.2\")"
   ]
  },
  {
   "cell_type": "code",
   "execution_count": null,
   "metadata": {},
   "outputs": [],
   "source": []
  }
 ],
 "metadata": {
  "kernelspec": {
   "display_name": "Python 3.10.4 ('PLHPRO')",
   "language": "python",
   "name": "python3"
  },
  "language_info": {
   "codemirror_mode": {
    "name": "ipython",
    "version": 3
   },
   "file_extension": ".py",
   "mimetype": "text/x-python",
   "name": "python",
   "nbconvert_exporter": "python",
   "pygments_lexer": "ipython3",
   "version": "3.10.4"
  },
  "vscode": {
   "interpreter": {
    "hash": "312844d44f1bafaafb92b68376de2ad70ca55e9060a523aaca0237c5e930c76f"
   }
  }
 },
 "nbformat": 4,
 "nbformat_minor": 2
}
