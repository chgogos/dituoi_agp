{
 "metadata": {
  "language_info": {
   "codemirror_mode": {
    "name": "ipython",
    "version": 3
   },
   "file_extension": ".py",
   "mimetype": "text/x-python",
   "name": "python",
   "nbconvert_exporter": "python",
   "pygments_lexer": "ipython3",
   "version": "3.8.0-final"
  },
  "orig_nbformat": 2,
  "kernelspec": {
   "name": "python3",
   "display_name": "Python 3.8.0 64-bit",
   "metadata": {
    "interpreter": {
     "hash": "2334294e789e06453e89f7d5c3c2573679701f9bb5b76ad2158f91cca5c9244c"
    }
   }
  }
 },
 "nbformat": 4,
 "nbformat_minor": 2,
 "cells": [
  {
   "source": [
    "# Python - εισαγωγικές έννοιες"
   ],
   "cell_type": "markdown",
   "metadata": {}
  },
  {
   "cell_type": "code",
   "execution_count": 1,
   "metadata": {},
   "outputs": [
    {
     "output_type": "stream",
     "name": "stdout",
     "text": [
      "The Zen of Python, by Tim Peters\n\nBeautiful is better than ugly.\nExplicit is better than implicit.\nSimple is better than complex.\nComplex is better than complicated.\nFlat is better than nested.\nSparse is better than dense.\nReadability counts.\nSpecial cases aren't special enough to break the rules.\nAlthough practicality beats purity.\nErrors should never pass silently.\nUnless explicitly silenced.\nIn the face of ambiguity, refuse the temptation to guess.\nThere should be one-- and preferably only one --obvious way to do it.\nAlthough that way may not be obvious at first unless you're Dutch.\nNow is better than never.\nAlthough never is often better than *right* now.\nIf the implementation is hard to explain, it's a bad idea.\nIf the implementation is easy to explain, it may be a good idea.\nNamespaces are one honking great idea -- let's do more of those!\n"
     ]
    }
   ],
   "source": [
    "import this"
   ]
  },
  {
   "cell_type": "code",
   "execution_count": 2,
   "metadata": {},
   "outputs": [
    {
     "output_type": "stream",
     "name": "stdout",
     "text": [
      "5\n7.2\nΆρτα\nTrue\nNone\n"
     ]
    }
   ],
   "source": [
    "# Στο ίδιο όνομα μεταβλητής μπορούν να ανατεθούν, κατά την εκτέλεση του προγράμματος, τιμές διαφόρων τύπων (dynamic type binding)\n",
    "\n",
    "x = 5\n",
    "print(x)\n",
    "x = 7.2\n",
    "print(x)\n",
    "x = \"Άρτα\"\n",
    "print(x)\n",
    "x = True\n",
    "print(x)\n",
    "x = None\n",
    "print(x)"
   ]
  },
  {
   "cell_type": "code",
   "execution_count": 3,
   "metadata": {},
   "outputs": [
    {
     "output_type": "stream",
     "name": "stdout",
     "text": [
      "5 8\n"
     ]
    }
   ],
   "source": [
    "# Πολλαπλές αναθέσεις τιμών σε μεταβλητές στην ίδια εντολή\n",
    "\n",
    "x,y = 5,8\n",
    "print(x, y)"
   ]
  },
  {
   "cell_type": "code",
   "execution_count": 4,
   "metadata": {},
   "outputs": [
    {
     "output_type": "stream",
     "name": "stdout",
     "text": [
      "10 5\n"
     ]
    }
   ],
   "source": [
    "# Αντιμετάθεση μεταβλητών με 1 εντολή\n",
    "\n",
    "a,b = 5, 10\n",
    "a,b = b, a # αντιμετάθεση μεταβλητών\n",
    "print(a, b)"
   ]
  },
  {
   "cell_type": "code",
   "execution_count": 5,
   "metadata": {},
   "outputs": [
    {
     "output_type": "execute_result",
     "data": {
      "text/plain": [
       "True"
      ]
     },
     "metadata": {},
     "execution_count": 5
    }
   ],
   "source": [
    "# \"διπλές\" συνθήκες (γραφή όπως στα μαθηματικά)\n",
    "\n",
    "x = 8\n",
    "5 < x < 10 # ισοδύναμο με 5 < x and x < 10"
   ]
  },
  {
   "cell_type": "code",
   "execution_count": 2,
   "metadata": {},
   "outputs": [
    {
     "output_type": "stream",
     "name": "stdout",
     "text": [
      "2.5\n3.3333333333333335\n3\n1\n1024\n19950631168807583848837421626835850838234968318861924548520089498529438830221946631919961684036194597899331129423209124271556491349413781117593785932096323957855730046793794526765246551266059895520550086918193311542508608460618104685509074866089624888090489894838009253941633257850621568309473902556912388065225096643874441046759871626985453222868538161694315775629640762836880760732228535091641476183956381458969463899410840960536267821064621427333394036525565649530603142680234969400335934316651459297773279665775606172582031407994198179607378245683762280037302885487251900834464581454650557929601414833921615734588139257095379769119277800826957735674444123062018757836325502728323789270710373802866393031428133241401624195671690574061419654342324638801248856147305207431992259611796250130992860241708340807605932320161268492288496255841312844061536738951487114256315111089745514203313820202931640957596464756010405845841566072044962867016515061920631004186422275908670900574606417856951911456055068251250406007519842261898059237118054444788072906395242548339221982707404473162376760846613033778706039803413197133493654622700563169937455508241780972810983291314403571877524768509857276937926433221599399876886660808368837838027643282775172273657572744784112294389733810861607423253291974813120197604178281965697475898164531258434135959862784130128185406283476649088690521047580882615823961985770122407044330583075869039319604603404973156583208672105913300903752823415539745394397715257455290510212310947321610753474825740775273986348298498340756937955646638621874569499279016572103701364433135817214311791398222983845847334440270964182851005072927748364550578634501100852987812389473928699540834346158807043959118985815145779177143619698728131459483783202081474982171858011389071228250905826817436220577475921417653715687725614904582904992461028630081535583308130101987675856234343538955409175623400844887526162643568648833519463720377293240094456246923254350400678027273837755376406726898636241037491410966718557050759098100246789880178271925953381282421954028302759408448955014676668389697996886241636313376393903373455801407636741877711055384225739499110186468219696581651485130494222369947714763069155468217682876200362777257723781365331611196811280792669481887201298643660768551639860534602297871557517947385246369446923087894265948217008051120322365496288169035739121368338393591756418733850510970271613915439590991598154654417336311656936031122249937969999226781732358023111862644575299135758175008199839236284615249881088960232244362173771618086357015468484058622329792853875623486556440536962622018963571028812361567512543338303270029097668650568557157505516727518899194129711337690149916181315171544007728650573189557450920330185304847113818315407324053319038462084036421763703911550639789000742853672196280903477974533320468368795868580237952218629120080742819551317948157624448298518461509704888027274721574688131594750409732115080498190455803416826949787141316063210686391511681774304792596709376\n"
     ]
    }
   ],
   "source": [
    "# Αριθμητικές πράξεις\n",
    "\n",
    "print(1+2*3/4)\n",
    "print(10/3) \n",
    "print(10//3) # ακέραια διαίρεση\n",
    "print(10%3) # υπόλοιπο ακέραιας διαίρεσης\n",
    "print(2**10) ## ύψωση σε δύναμη\n",
    "print(2**10000) # πράξεις με μεγάλους αριθμούς"
   ]
  },
  {
   "cell_type": "code",
   "execution_count": 7,
   "metadata": {},
   "outputs": [
    {
     "output_type": "stream",
     "name": "stdout",
     "text": [
      "3.141592653589793\n2.718281828459045\n6.283185307179586\ninf\n-inf\nnan\n5.0\n10.0\n10.0\n2.0\n2.0\n9.0\n45.0\n3.141592653589793\n0.7071067811865476\n0.7071067811865476\n0.9999999999999999\n"
     ]
    }
   ],
   "source": [
    "# Το module math\n",
    "\n",
    "import math\n",
    "\n",
    "# σταθερές\n",
    "print(math.pi)\n",
    "print(math.e)\n",
    "print(math.tau)\n",
    "print(math.inf)\n",
    "print(-math.inf)\n",
    "print(math.nan)\n",
    "\n",
    "# λογάριθμος\n",
    "x = math.e ** 5\n",
    "print(math.log(x)) # φυσικός λογάριθμος του e^5\n",
    "print(math.log(1024, 2)) # δυαδικός λογάριθμος του 1024\n",
    "print(math.log2(1024)) # δυαδικός λογάριθμος του 1024\n",
    "print(math.log(100, 10)) # δεκαδικός λογάριθμος του 100\n",
    "print(math.log10(100)) # δεκαδικός λογάριθμος του 100\n",
    "\n",
    "# τετραγωνική ρίζα\n",
    "print(math.sqrt(81))\n",
    "\n",
    "# τριγωνομετρικές συναρτήσεις\n",
    "print(math.degrees(math.pi/4))\n",
    "print(math.radians(180))\n",
    "print(math.sin(math.pi/4))\n",
    "print(math.cos(math.pi/4))\n",
    "print(math.tan(math.pi/4))"
   ]
  },
  {
   "cell_type": "code",
   "execution_count": 8,
   "metadata": {},
   "outputs": [
    {
     "output_type": "stream",
     "name": "stdout",
     "text": [
      "5.0\n3.0\n(5.830951894845301, 0.5404195002705842)\n(9+10j)\n(1-4j)\n(-1+47j)\n(0.6307692307692307-0.35384615384615387j)\n(16+30j)\n"
     ]
    }
   ],
   "source": [
    "## Μιγαδικοί αριθμοί\n",
    "\n",
    "import cmath # για πράξεις με μιγαδικούς\n",
    "\n",
    "z  = complex(5,3)\n",
    "print(z.real)\n",
    "print(z.imag)\n",
    "print(cmath.polar(z))\n",
    "\n",
    "w = 4 + 7j # εναλακτικός τρόπος ορισμού μιγαδικού αριθμού\n",
    "print(z+w)\n",
    "print(z-w)\n",
    "print(z*w)\n",
    "print(z/w)\n",
    "print(z**2)"
   ]
  },
  {
   "cell_type": "code",
   "execution_count": 9,
   "metadata": {},
   "outputs": [
    {
     "output_type": "stream",
     "name": "stdout",
     "text": [
      "αβγδεζ\nαβγ αβγ αβγ αβγ αβγ αβγ αβγ αβγ αβγ αβγ \n"
     ]
    }
   ],
   "source": [
    "## Πράξεις σε λεκτικά\n",
    "\n",
    "print(\"αβγ\" + \"δεζ\") # συνένωση λεκτικών\n",
    "print(\"αβγ \" * 10) # επανάληψη του ίδιου λεκτικού"
   ]
  }
 ]
}