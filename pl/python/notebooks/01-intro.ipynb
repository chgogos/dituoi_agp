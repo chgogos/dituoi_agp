{
 "metadata": {
  "language_info": {
   "codemirror_mode": {
    "name": "ipython",
    "version": 3
   },
   "file_extension": ".py",
   "mimetype": "text/x-python",
   "name": "python",
   "nbconvert_exporter": "python",
   "pygments_lexer": "ipython3",
   "version": "3.8.0-final"
  },
  "orig_nbformat": 2,
  "kernelspec": {
   "name": "python3",
   "display_name": "Python 3.8.0 64-bit",
   "metadata": {
    "interpreter": {
     "hash": "2334294e789e06453e89f7d5c3c2573679701f9bb5b76ad2158f91cca5c9244c"
    }
   }
  }
 },
 "nbformat": 4,
 "nbformat_minor": 2,
 "cells": [
  {
   "source": [
    "# Python - εισαγωγή"
   ],
   "cell_type": "markdown",
   "metadata": {}
  },
  {
   "cell_type": "code",
   "execution_count": 1,
   "metadata": {},
   "outputs": [
    {
     "output_type": "stream",
     "name": "stdout",
     "text": [
      "The Zen of Python, by Tim Peters\n\nBeautiful is better than ugly.\nExplicit is better than implicit.\nSimple is better than complex.\nComplex is better than complicated.\nFlat is better than nested.\nSparse is better than dense.\nReadability counts.\nSpecial cases aren't special enough to break the rules.\nAlthough practicality beats purity.\nErrors should never pass silently.\nUnless explicitly silenced.\nIn the face of ambiguity, refuse the temptation to guess.\nThere should be one-- and preferably only one --obvious way to do it.\nAlthough that way may not be obvious at first unless you're Dutch.\nNow is better than never.\nAlthough never is often better than *right* now.\nIf the implementation is hard to explain, it's a bad idea.\nIf the implementation is easy to explain, it may be a good idea.\nNamespaces are one honking great idea -- let's do more of those!\n"
     ]
    }
   ],
   "source": [
    "import this"
   ]
  },
  {
   "cell_type": "code",
   "execution_count": 2,
   "metadata": {},
   "outputs": [
    {
     "output_type": "stream",
     "name": "stdout",
     "text": [
      "5\n7.2\nΆρτα\nTrue\nNone\n"
     ]
    }
   ],
   "source": [
    "# Στο ίδιο όνομα μεταβλητής μπορούν να ανατεθούν σταδιακά τιμές διαφόρων τύπων κατά την εκτέλεση του προγράμματος (dynamic type binding)\n",
    "\n",
    "x = 5\n",
    "print(x)\n",
    "x = 7.2\n",
    "print(x)\n",
    "x = \"Άρτα\"\n",
    "print(x)\n",
    "x = True\n",
    "print(x)\n",
    "x = None\n",
    "print(x)"
   ]
  },
  {
   "cell_type": "code",
   "execution_count": 3,
   "metadata": {},
   "outputs": [
    {
     "output_type": "stream",
     "name": "stdout",
     "text": [
      "5 8\n"
     ]
    }
   ],
   "source": [
    "# Πολλαπλές αναθέσεις τιμών σε μεταβλητές στην ίδια εντολή\n",
    "\n",
    "x,y = 5,8\n",
    "print(x, y)"
   ]
  },
  {
   "cell_type": "code",
   "execution_count": 4,
   "metadata": {},
   "outputs": [
    {
     "output_type": "stream",
     "name": "stdout",
     "text": [
      "10 5\n"
     ]
    }
   ],
   "source": [
    "# Αντιμετάθεση μεταβλητών με 1 εντολή\n",
    "\n",
    "a,b = 5, 10\n",
    "a,b = b, a # αντιμετάθεση μεταβλητών\n",
    "print(a, b)"
   ]
  },
  {
   "cell_type": "code",
   "execution_count": 5,
   "metadata": {},
   "outputs": [
    {
     "output_type": "execute_result",
     "data": {
      "text/plain": [
       "True"
      ]
     },
     "metadata": {},
     "execution_count": 5
    }
   ],
   "source": [
    "# \"διπλές\" συνθήκες (γραφή όπως στα μαθηματικά)\n",
    "\n",
    "x = 8\n",
    "5 < x < 10 # ισοδύναμο με 5 < x and x < 10"
   ]
  },
  {
   "cell_type": "code",
   "execution_count": 10,
   "metadata": {},
   "outputs": [
    {
     "output_type": "stream",
     "name": "stdout",
     "text": [
      "3\n1\n25\n3.3333333333333335\n3\n1\n1024\n10715086071862673209484250490600018105614048117055336074437503883703510511249361224931983788156958581275946729175531468251871452856923140435984577574698574803934567774824230985421074605062371141877954182153046474983581941267398767559165543946077062914571196477686542167660429831652624386837205668069376\n"
     ]
    }
   ],
   "source": [
    "print(1+2)\n",
    "print(2-1)\n",
    "print(5*5)\n",
    "print(10/3) \n",
    "print(10//3) # ακέραια διαίρεση\n",
    "print(10%3) # υπόλοιπο ακέραιας διαίρεσης\n",
    "print(2**10) ## ύψωση σε δύναμη\n",
    "print(2**1000) # πράξεις με μεγάλους αριθμούς"
   ]
  },
  {
   "cell_type": "code",
   "execution_count": 7,
   "metadata": {},
   "outputs": [
    {
     "output_type": "stream",
     "name": "stdout",
     "text": [
      "3.141592653589793\n2.718281828459045\n6.283185307179586\ninf\n-inf\nnan\n5.0\n10.0\n10.0\n2.0\n2.0\n9.0\n45.0\n3.141592653589793\n0.7071067811865476\n0.7071067811865476\n0.9999999999999999\n"
     ]
    }
   ],
   "source": [
    "import math\n",
    "\n",
    "# σταθερές\n",
    "print(math.pi)\n",
    "print(math.e)\n",
    "print(math.tau)\n",
    "print(math.inf)\n",
    "print(-math.inf)\n",
    "print(math.nan)\n",
    "\n",
    "# λογάριθμος\n",
    "x = math.e ** 5\n",
    "print(math.log(x)) # φυσικός λογάριθμος του e^5\n",
    "print(math.log(1024, 2)) # δυαδικός λογάριθμος του 1024\n",
    "print(math.log2(1024)) # δυαδικός λογάριθμος του 1024\n",
    "print(math.log(100, 10)) # δεκαδικός λογάριθμος του 100\n",
    "print(math.log10(100)) # δεκαδικός λογάριθμος του 100\n",
    "\n",
    "# τετραγωνική ρίζα\n",
    "print(math.sqrt(81))\n",
    "\n",
    "# τριγωνομετρικές συναρτήσεις\n",
    "print(math.degrees(math.pi/4))\n",
    "print(math.radians(180))\n",
    "print(math.sin(math.pi/4))\n",
    "print(math.cos(math.pi/4))\n",
    "print(math.tan(math.pi/4))"
   ]
  },
  {
   "cell_type": "code",
   "execution_count": 8,
   "metadata": {},
   "outputs": [
    {
     "output_type": "stream",
     "name": "stdout",
     "text": [
      "5.0\n3.0\n(5.830951894845301, 0.5404195002705842)\n(9+10j)\n(1-4j)\n(-1+47j)\n(0.6307692307692307-0.35384615384615387j)\n(16+30j)\n"
     ]
    }
   ],
   "source": [
    "## Μιγαδικοί αριθμοί\n",
    "import cmath # για πράξεις με μιγαδικούς\n",
    "\n",
    "z  = complex(5,3)\n",
    "print(z.real)\n",
    "print(z.imag)\n",
    "print(cmath.polar(z))\n",
    "\n",
    "w = 4 + 7j # εναλακτικός τρόπος ορισμού μιγαδικού αριθμού\n",
    "print(z+w)\n",
    "print(z-w)\n",
    "print(z*w)\n",
    "print(z/w)\n",
    "print(z**2)"
   ]
  },
  {
   "cell_type": "code",
   "execution_count": 9,
   "metadata": {},
   "outputs": [
    {
     "output_type": "stream",
     "name": "stdout",
     "text": [
      "αβγδεζ\nαβγ αβγ αβγ αβγ αβγ αβγ αβγ αβγ αβγ αβγ \n"
     ]
    }
   ],
   "source": [
    "## Πράξεις σε λεκτικά\n",
    "\n",
    "print(\"αβγ\" + \"δεζ\") # συνένωση λεκτικών\n",
    "print(\"αβγ \" * 10) # επανάληψη του ίδιου λεκτικού"
   ]
  }
 ]
}