{
 "metadata": {
  "language_info": {
   "codemirror_mode": {
    "name": "ipython",
    "version": 3
   },
   "file_extension": ".py",
   "mimetype": "text/x-python",
   "name": "python",
   "nbconvert_exporter": "python",
   "pygments_lexer": "ipython3",
   "version": "3.8.0"
  },
  "orig_nbformat": 2,
  "kernelspec": {
   "name": "python3",
   "display_name": "Python 3.8.0 64-bit ('3.8.0-amd64': pyenv)",
   "metadata": {
    "interpreter": {
     "hash": "2334294e789e06453e89f7d5c3c2573679701f9bb5b76ad2158f91cca5c9244c"
    }
   }
  }
 },
 "nbformat": 4,
 "nbformat_minor": 2,
 "cells": [
  {
   "source": [
    "# Λεκτικά\n",
    "\n",
    "Τα λεκτικά στην Python μπορούν να οριστούν χρησιμοποιώντας, απλά, διπλά ή τριπλά εισαγωγικά."
   ],
   "cell_type": "markdown",
   "metadata": {}
  },
  {
   "cell_type": "code",
   "execution_count": null,
   "metadata": {},
   "outputs": [],
   "source": [
    "x = \"Department of Informatics and Telecommunications\"\n",
    "y = 'DIT'\n",
    "z = '''Department of Informatics and Telecommunications\n",
    "Univerity of Ioannina\n",
    "Arta, Greece\n",
    "'''\n",
    "print(x)\n",
    "print('*' * len(x))\n",
    "print(y)\n",
    "print('*' * len(y))\n",
    "print(z)"
   ]
  },
  {
   "cell_type": "code",
   "execution_count": null,
   "metadata": {},
   "outputs": [],
   "source": [
    "# κάθε αντικείμενο έχει μια ταυτότητα (id)\n",
    "x = \"test\"\n",
    "print(id(x))\n",
    "x = \"another test\"\n",
    "print(id(x))\n",
    "x = 1\n",
    "print(id(x))\n",
    "x += 1\n",
    "print(id(x))\n",
    "x = \"test\"\n",
    "print(id(x))"
   ]
  },
  {
   "cell_type": "code",
   "execution_count": null,
   "metadata": {},
   "outputs": [],
   "source": [
    "help(id)"
   ]
  },
  {
   "cell_type": "code",
   "execution_count": null,
   "metadata": {},
   "outputs": [],
   "source": [
    "# Τα ελληνικά δεν είναι πρόβλημα (unicode), ακόμα και ως αναγνωριστικά (π.χ. ονόματα μεταβλητών)\n",
    "x = \"Τμήμα Πληροφορικής και Τηλεπικοινωνιών\"\n",
    "τμήμα = x\n",
    "print(τμήμα)"
   ]
  },
  {
   "cell_type": "code",
   "execution_count": null,
   "metadata": {},
   "outputs": [],
   "source": [
    "# Συνένωση λεκτικών (με τον τελεστή +)\n",
    "x = \"Τμήμα Πληροφορικής\" + \" και \" + \"Τηλεπικοινωνιών\"\n",
    "print(x)"
   ]
  },
  {
   "cell_type": "code",
   "execution_count": null,
   "metadata": {},
   "outputs": [],
   "source": [
    "# Τα λεκτικά είναι μη μεταλλάξιμα (immutable)\n",
    "x = \"ABCDEFG\"\n",
    "# x[0] = 'X' # TypeError: 'str' object does not support item assignment"
   ]
  },
  {
   "source": [
    "## Μετατροπή ενός τύπου σε άλλο τύπο"
   ],
   "cell_type": "markdown",
   "metadata": {}
  },
  {
   "cell_type": "code",
   "execution_count": null,
   "metadata": {},
   "outputs": [],
   "source": [
    "# λεκτικό σε ακέραιο (string to int)\n",
    "x=int('123')\n",
    "print(x+1)"
   ]
  },
  {
   "cell_type": "code",
   "execution_count": null,
   "metadata": {},
   "outputs": [],
   "source": [
    "# λεκτικό σε ακέραιο (θα πρέπει το λεκτικό να μπορεί να ερμηνευτεί ως ακέραιος, αλλιώς ValueError)\n",
    "\n",
    "# x=int('a123') # ValueError: invalid literal for int() with base 10: 'a123'"
   ]
  },
  {
   "cell_type": "code",
   "execution_count": null,
   "metadata": {},
   "outputs": [],
   "source": [
    "# Μετατροπή ακεραίου σε λεκτικό (int to string)\n",
    "s = str(123+456)\n",
    "print(s)"
   ]
  },
  {
   "source": [
    "## Συναρτήσεις λεκτικών"
   ],
   "cell_type": "markdown",
   "metadata": {}
  },
  {
   "cell_type": "code",
   "execution_count": null,
   "metadata": {},
   "outputs": [],
   "source": [
    "# με τη συνάρτηση dir μπορούμε να δούμε τις μεθόδους που εφαρμόζονται σε λεκτικά.\n",
    "dir('a text')"
   ]
  },
  {
   "cell_type": "code",
   "execution_count": null,
   "metadata": {},
   "outputs": [],
   "source": [
    "# με τη συνάρτηση help μπορούμε να μάθουμε περισσότερες πληροφορίες για όποια μέθοδο ενδιαφερόμαστε (οι συναρτήσεις dir και help είναι παραδέιγματα introspection)\n",
    "\n",
    "help('A Text'.swapcase)"
   ]
  },
  {
   "cell_type": "code",
   "execution_count": null,
   "metadata": {},
   "outputs": [],
   "source": [
    "# εύρεση του τύπου μιας τιμής\n",
    "print(type(1))\n",
    "print(type(1.0))\n",
    "print(type('abc'))"
   ]
  },
  {
   "cell_type": "code",
   "execution_count": null,
   "metadata": {},
   "outputs": [],
   "source": [
    "# έλεγχοι τύπων\n",
    "print(isinstance(1, float)) # False\n",
    "print(type(1) is int) # True"
   ]
  },
  {
   "source": [
    "## Τεμαχισμός λεκτικών (slicing)\n",
    "\n"
   ],
   "cell_type": "markdown",
   "metadata": {}
  },
  {
   "cell_type": "code",
   "execution_count": null,
   "metadata": {},
   "outputs": [],
   "source": [
    "s = \"Department of Informatics and Telecommunications\"\n",
    "print(1, s[0:10])\n",
    "print(2, s[14:25])\n",
    "print(3, s[30:])\n",
    "print(4, s[:30])\n",
    "print(5, s[:])\n",
    "print(6, s[14:-23])\n",
    "print(7, s[0])\n",
    "# print(s[100]) # IndexError: string index out of range"
   ]
  },
  {
   "source": [
    "## Μορφοποίηση λεκτικών (formatting)"
   ],
   "cell_type": "markdown",
   "metadata": {}
  },
  {
   "cell_type": "code",
   "execution_count": null,
   "metadata": {},
   "outputs": [],
   "source": [
    "# string substitution\n",
    "\"Python was created by %s back in the late %i's\" % ('Guido van Rossum', 1980)"
   ]
  },
  {
   "cell_type": "code",
   "execution_count": null,
   "metadata": {},
   "outputs": [],
   "source": [
    "# string templates (>=Python 2.6)\n",
    "\"Python was created by {0} back in the late {1}'s\".format('Guido van Rossum', 1980)"
   ]
  },
  {
   "cell_type": "code",
   "execution_count": null,
   "metadata": {},
   "outputs": [],
   "source": [
    "# fstrings (>=Python 3.6)\n",
    "name = \"Guido van Rossum\"\n",
    "decade = 1980\n",
    "f\"Python was created by {name} back in the late {decade}'s\""
   ]
  },
  {
   "source": [
    "## Raw strings"
   ],
   "cell_type": "markdown",
   "metadata": {}
  },
  {
   "cell_type": "code",
   "execution_count": 6,
   "metadata": {},
   "outputs": [
    {
     "output_type": "stream",
     "name": "stdout",
     "text": [
      "This \\tis a \\\\text\nThis is \na \t \\text\n"
     ]
    }
   ],
   "source": [
    "print(r\"This \\tis a \\\\text\")\n",
    "print(\"This is \\na \\t \\\\text\")"
   ]
  },
  {
   "cell_type": "code",
   "execution_count": null,
   "metadata": {},
   "outputs": [],
   "source": []
  }
 ]
}