{
 "metadata": {
  "language_info": {
   "codemirror_mode": {
    "name": "ipython",
    "version": 3
   },
   "file_extension": ".py",
   "mimetype": "text/x-python",
   "name": "python",
   "nbconvert_exporter": "python",
   "pygments_lexer": "ipython3",
   "version": "3.8.0-final"
  },
  "orig_nbformat": 2,
  "kernelspec": {
   "name": "python3",
   "display_name": "Python 3.8.0 64-bit",
   "metadata": {
    "interpreter": {
     "hash": "2334294e789e06453e89f7d5c3c2573679701f9bb5b76ad2158f91cca5c9244c"
    }
   }
  }
 },
 "nbformat": 4,
 "nbformat_minor": 2,
 "cells": [
  {
   "source": [
    "    Τμήμα Πληροφορικής και Τηλεπικοινωνιών - Άρτα \n",
    "    Πανεπιστήμιο Ιωαννίνων \n",
    "\n",
    "    Γκόγκος Χρήστος \n",
    "    http://chgogos.github.io/\n",
    "    Εαρινό εξάμηνο 2020-2021"
   ],
   "cell_type": "markdown",
   "metadata": {}
  },
  {
   "source": [
    "# Λεκτικά\n",
    "\n",
    "Τα λεκτικά στην Python μπορούν να οριστούν χρησιμοποιώντας, απλά, διπλά ή τριπλά εισαγωγικά."
   ],
   "cell_type": "markdown",
   "metadata": {}
  },
  {
   "cell_type": "code",
   "execution_count": 38,
   "metadata": {},
   "outputs": [
    {
     "output_type": "stream",
     "name": "stdout",
     "text": [
      "Department of Informatics and Telecommunications\n************************************************\nDIT\n***\nDepartment of Informatics and Telecommunications\nUniverity of Ioannina\nArta, Greece\n\n"
     ]
    }
   ],
   "source": [
    "x = \"Department of Informatics and Telecommunications\"\n",
    "y = 'DIT'\n",
    "z = '''Department of Informatics and Telecommunications\n",
    "Univerity of Ioannina\n",
    "Arta, Greece\n",
    "'''\n",
    "print(x)\n",
    "print('*' * len(x))\n",
    "print(y)\n",
    "print('*' * len(y))\n",
    "print(z)"
   ]
  },
  {
   "cell_type": "code",
   "execution_count": 39,
   "metadata": {},
   "outputs": [
    {
     "output_type": "stream",
     "name": "stdout",
     "text": [
      "2513671362992\n2513735297712\n140722712975008\n140722712975040\n2513671362992\n"
     ]
    }
   ],
   "source": [
    "# κάθε αντικείμενο έχει μια ταυτότητα (id)\n",
    "x = \"test\"\n",
    "print(id(x))\n",
    "x = \"another test\"\n",
    "print(id(x))\n",
    "x = 1\n",
    "print(id(x))\n",
    "x += 1\n",
    "print(id(x))\n",
    "x = \"test\"\n",
    "print(id(x))"
   ]
  },
  {
   "cell_type": "code",
   "execution_count": 40,
   "metadata": {},
   "outputs": [
    {
     "output_type": "stream",
     "name": "stdout",
     "text": [
      "Help on built-in function id in module builtins:\n\nid(obj, /)\n    Return the identity of an object.\n    \n    This is guaranteed to be unique among simultaneously existing objects.\n    (CPython uses the object's memory address.)\n\n"
     ]
    }
   ],
   "source": [
    "help(id)"
   ]
  },
  {
   "cell_type": "code",
   "execution_count": 41,
   "metadata": {},
   "outputs": [
    {
     "output_type": "stream",
     "name": "stdout",
     "text": [
      "Τμήμα Πληροφορικής και Τηλεπικοινωνιών\n"
     ]
    }
   ],
   "source": [
    "# Τα ελληνικά δεν είναι πρόβλημα (unicode), ακόμα και ως αναγνωριστικά (π.χ. ονόματα μεταβλητών)\n",
    "x = \"Τμήμα Πληροφορικής και Τηλεπικοινωνιών\"\n",
    "τμήμα = x\n",
    "print(τμήμα)"
   ]
  },
  {
   "cell_type": "code",
   "execution_count": 42,
   "metadata": {},
   "outputs": [
    {
     "output_type": "stream",
     "name": "stdout",
     "text": [
      "Τμήμα Πληροφορικής και Τηλεπικοινωνιών\n"
     ]
    }
   ],
   "source": [
    "# Συνένωση λεκτικών (με τον τελεστή +)\n",
    "x = \"Τμήμα Πληροφορικής\" + \" και \" + \"Τηλεπικοινωνιών\"\n",
    "print(x)"
   ]
  },
  {
   "cell_type": "code",
   "execution_count": 43,
   "metadata": {},
   "outputs": [],
   "source": [
    "# Τα λεκτικά είναι μη μεταλλάξιμα (immutable)\n",
    "x = \"ABCDEFG\"\n",
    "# x[0] = 'X' # TypeError: 'str' object does not support item assignment"
   ]
  },
  {
   "source": [
    "## Μετατροπή ενός τύπου σε άλλο τύπο"
   ],
   "cell_type": "markdown",
   "metadata": {}
  },
  {
   "cell_type": "code",
   "execution_count": 44,
   "metadata": {},
   "outputs": [
    {
     "output_type": "stream",
     "name": "stdout",
     "text": [
      "124\n"
     ]
    }
   ],
   "source": [
    "# λεκτικό σε ακέραιο (string to int)\n",
    "x=int('123')\n",
    "print(x+1)"
   ]
  },
  {
   "cell_type": "code",
   "execution_count": 45,
   "metadata": {},
   "outputs": [],
   "source": [
    "# λεκτικό σε ακέραιο (θα πρέπει το λεκτικό να μπορεί να ερμηνευτεί ως ακέραιος, αλλιώς ValueError)\n",
    "\n",
    "# x=int('a123') # ValueError: invalid literal for int() with base 10: 'a123'"
   ]
  },
  {
   "cell_type": "code",
   "execution_count": 46,
   "metadata": {},
   "outputs": [
    {
     "output_type": "stream",
     "name": "stdout",
     "text": [
      "579\n"
     ]
    }
   ],
   "source": [
    "# Μετατροπή ακεραίου σε λεκτικό (int to string)\n",
    "s = str(123+456)\n",
    "print(s)"
   ]
  },
  {
   "source": [
    "## Συναρτήσεις λεκτικών"
   ],
   "cell_type": "markdown",
   "metadata": {}
  },
  {
   "cell_type": "code",
   "execution_count": 47,
   "metadata": {},
   "outputs": [
    {
     "output_type": "execute_result",
     "data": {
      "text/plain": [
       "['__add__',\n",
       " '__class__',\n",
       " '__contains__',\n",
       " '__delattr__',\n",
       " '__dir__',\n",
       " '__doc__',\n",
       " '__eq__',\n",
       " '__format__',\n",
       " '__ge__',\n",
       " '__getattribute__',\n",
       " '__getitem__',\n",
       " '__getnewargs__',\n",
       " '__gt__',\n",
       " '__hash__',\n",
       " '__init__',\n",
       " '__init_subclass__',\n",
       " '__iter__',\n",
       " '__le__',\n",
       " '__len__',\n",
       " '__lt__',\n",
       " '__mod__',\n",
       " '__mul__',\n",
       " '__ne__',\n",
       " '__new__',\n",
       " '__reduce__',\n",
       " '__reduce_ex__',\n",
       " '__repr__',\n",
       " '__rmod__',\n",
       " '__rmul__',\n",
       " '__setattr__',\n",
       " '__sizeof__',\n",
       " '__str__',\n",
       " '__subclasshook__',\n",
       " 'capitalize',\n",
       " 'casefold',\n",
       " 'center',\n",
       " 'count',\n",
       " 'encode',\n",
       " 'endswith',\n",
       " 'expandtabs',\n",
       " 'find',\n",
       " 'format',\n",
       " 'format_map',\n",
       " 'index',\n",
       " 'isalnum',\n",
       " 'isalpha',\n",
       " 'isascii',\n",
       " 'isdecimal',\n",
       " 'isdigit',\n",
       " 'isidentifier',\n",
       " 'islower',\n",
       " 'isnumeric',\n",
       " 'isprintable',\n",
       " 'isspace',\n",
       " 'istitle',\n",
       " 'isupper',\n",
       " 'join',\n",
       " 'ljust',\n",
       " 'lower',\n",
       " 'lstrip',\n",
       " 'maketrans',\n",
       " 'partition',\n",
       " 'replace',\n",
       " 'rfind',\n",
       " 'rindex',\n",
       " 'rjust',\n",
       " 'rpartition',\n",
       " 'rsplit',\n",
       " 'rstrip',\n",
       " 'split',\n",
       " 'splitlines',\n",
       " 'startswith',\n",
       " 'strip',\n",
       " 'swapcase',\n",
       " 'title',\n",
       " 'translate',\n",
       " 'upper',\n",
       " 'zfill']"
      ]
     },
     "metadata": {},
     "execution_count": 47
    }
   ],
   "source": [
    "# με τη συνάρτηση dir μπορούμε να δούμε τις μεθόδους που εφαρμόζονται σε λεκτικά.\n",
    "dir('a text')"
   ]
  },
  {
   "cell_type": "code",
   "execution_count": 48,
   "metadata": {},
   "outputs": [
    {
     "output_type": "stream",
     "name": "stdout",
     "text": [
      "Help on built-in function swapcase:\n\nswapcase() method of builtins.str instance\n    Convert uppercase characters to lowercase and lowercase characters to uppercase.\n\n"
     ]
    }
   ],
   "source": [
    "# με τη συνάρτηση help μπορούμε να μάθουμε περισσότερες πληροφορίες για όποια μέθοδο ενδιαφερόμαστε (οι συναρτήσεις dir και help είναι παραδέιγματα introspection)\n",
    "\n",
    "help('A Text'.swapcase)"
   ]
  },
  {
   "cell_type": "code",
   "execution_count": 49,
   "metadata": {},
   "outputs": [
    {
     "output_type": "stream",
     "name": "stdout",
     "text": [
      "<class 'int'>\n<class 'float'>\n<class 'str'>\n"
     ]
    }
   ],
   "source": [
    "# εύρεση του τύπου μιας τιμής\n",
    "print(type(1))\n",
    "print(type(1.0))\n",
    "print(type('abc'))"
   ]
  },
  {
   "cell_type": "code",
   "execution_count": 50,
   "metadata": {},
   "outputs": [
    {
     "output_type": "stream",
     "name": "stdout",
     "text": [
      "False\nTrue\n"
     ]
    }
   ],
   "source": [
    "# έλεγχοι τύπων\n",
    "print(isinstance(1, float)) # False\n",
    "print(type(1) is int) # True"
   ]
  },
  {
   "source": [
    "## Τεμαχισμός λεκτικών (slicing)\n",
    "\n"
   ],
   "cell_type": "markdown",
   "metadata": {}
  },
  {
   "cell_type": "code",
   "execution_count": 51,
   "metadata": {},
   "outputs": [
    {
     "output_type": "stream",
     "name": "stdout",
     "text": [
      "Department\nInformatics\nTelecommunications\nDepartment of Informatics and \nDepartment of Informatics and Telecommunications\nInformatics\nD\n"
     ]
    }
   ],
   "source": [
    "s = \"Department of Informatics and Telecommunications\"\n",
    "print(s[0:10])\n",
    "print(s[14:25])\n",
    "print(s[30:])\n",
    "print(s[:30])\n",
    "print(s[:])\n",
    "print(s[14:-23])\n",
    "print(s[0])\n",
    "# print(s[100]) # IndexError: string index out of range"
   ]
  },
  {
   "source": [
    "## Μορφοποίηση λεκτικών (formatting)"
   ],
   "cell_type": "markdown",
   "metadata": {}
  },
  {
   "cell_type": "code",
   "execution_count": 52,
   "metadata": {},
   "outputs": [
    {
     "output_type": "execute_result",
     "data": {
      "text/plain": [
       "\"Python was created by Guido van Rossum back in the late 1980's\""
      ]
     },
     "metadata": {},
     "execution_count": 52
    }
   ],
   "source": [
    "# string substitution\n",
    "\"Python was created by %s back in the late %i's\" % ('Guido van Rossum', 1980)"
   ]
  },
  {
   "cell_type": "code",
   "execution_count": 53,
   "metadata": {},
   "outputs": [
    {
     "output_type": "execute_result",
     "data": {
      "text/plain": [
       "\"Python was created by Guido van Rossum back in the late 1980's\""
      ]
     },
     "metadata": {},
     "execution_count": 53
    }
   ],
   "source": [
    "# string templates (>=Python 2.6)\n",
    "\"Python was created by {0} back in the late {1}'s\".format('Guido van Rossum', 1980)"
   ]
  },
  {
   "cell_type": "code",
   "execution_count": 54,
   "metadata": {},
   "outputs": [
    {
     "output_type": "execute_result",
     "data": {
      "text/plain": [
       "\"Python was created by Guido van Rossum back in the late 1980's\""
      ]
     },
     "metadata": {},
     "execution_count": 54
    }
   ],
   "source": [
    "# fstrings (>=Python 3.6)\n",
    "name = \"Guido van Rossum\"\n",
    "decade = 1980\n",
    "f\"Python was created by {name} back in the late {decade}'s\""
   ]
  },
  {
   "source": [
    "## Raw strings"
   ],
   "cell_type": "markdown",
   "metadata": {}
  },
  {
   "cell_type": "code",
   "execution_count": 55,
   "metadata": {},
   "outputs": [
    {
     "output_type": "stream",
     "name": "stdout",
     "text": [
      "This \\tis a \\\\text\nThis is \na \t \\text\n"
     ]
    }
   ],
   "source": [
    "print(r\"This \\tis a \\\\text\")\n",
    "print(\"This is \\na \\t \\\\text\")"
   ]
  },
  {
   "cell_type": "code",
   "execution_count": null,
   "metadata": {},
   "outputs": [],
   "source": []
  }
 ]
}