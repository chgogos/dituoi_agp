{
 "cells": [
  {
   "cell_type": "markdown",
   "metadata": {},
   "source": [
    "    Τμήμα Πληροφορικής και Τηλεπικοινωνιών - Άρτα \n",
    "    Πανεπιστήμιο Ιωαννίνων \n",
    "\n",
    "    Γκόγκος Χρήστος \n",
    "    http://chgogos.github.io/\n",
    "    \n",
    "    Τελευταία ενημέρωση: 14/5/2022"
   ]
  },
  {
   "cell_type": "markdown",
   "metadata": {},
   "source": [
    "# Λίστες, πλειάδες, λεξικά και σύνολα"
   ]
  },
  {
   "cell_type": "markdown",
   "metadata": {},
   "source": [
    "## Λίστες\n",
    "\n",
    "Οι λίστες αντιστοιχούν στις διατάξεις (arrays) που συναντάμαι σε άλλες γλωσσες προγραμματισμού."
   ]
  },
  {
   "cell_type": "code",
   "execution_count": 9,
   "metadata": {},
   "outputs": [
    {
     "name": "stdout",
     "output_type": "stream",
     "text": [
      "['__add__', '__class__', '__class_getitem__', '__contains__', '__delattr__', '__delitem__', '__dir__', '__doc__', '__eq__', '__format__', '__ge__', '__getattribute__', '__getitem__', '__gt__', '__hash__', '__iadd__', '__imul__', '__init__', '__init_subclass__', '__iter__', '__le__', '__len__', '__lt__', '__mul__', '__ne__', '__new__', '__reduce__', '__reduce_ex__', '__repr__', '__reversed__', '__rmul__', '__setattr__', '__setitem__', '__sizeof__', '__str__', '__subclasshook__', 'append', 'clear', 'copy', 'count', 'extend', 'index', 'insert', 'pop', 'remove', 'reverse', 'sort']\n"
     ]
    }
   ],
   "source": [
    "print(dir(list))"
   ]
  },
  {
   "cell_type": "code",
   "execution_count": 10,
   "metadata": {},
   "outputs": [],
   "source": [
    "# Δημιουργία κενής λίστας\n",
    "\n",
    "a_list = []  # α' τρόπος\n",
    "a_list = list()  # β' τρόπος"
   ]
  },
  {
   "cell_type": "code",
   "execution_count": 11,
   "metadata": {},
   "outputs": [
    {
     "name": "stdout",
     "output_type": "stream",
     "text": [
      "[3, 'αβγ', [10, 56, 11]]\n"
     ]
    }
   ],
   "source": [
    "# Μια λίστα μπορεί να περιέχει ετερογενή στοιχεία ή και άλλες λίστες ως στοιχεία\n",
    "\n",
    "a_list = [10, 56, 11]\n",
    "b_list = [\"Νίκος\", \"Μαρία\", \"Γιώργος\"]\n",
    "c_list = [3, \"αβγ\", a_list]\n",
    "print(c_list)"
   ]
  },
  {
   "cell_type": "code",
   "execution_count": 12,
   "metadata": {},
   "outputs": [
    {
     "name": "stdout",
     "output_type": "stream",
     "text": [
      "[10, 56, 11, 'Νίκος', 'Μαρία', 'Γιώργος']\n"
     ]
    }
   ],
   "source": [
    "# Συνένωση λιστών\n",
    "\n",
    "a_list = [10, 56, 11]\n",
    "b_list = [\"Νίκος\", \"Μαρία\", \"Γιώργος\"]\n",
    "c_list = a_list + b_list\n",
    "print(c_list)"
   ]
  },
  {
   "cell_type": "code",
   "execution_count": 13,
   "metadata": {},
   "outputs": [
    {
     "name": "stdout",
     "output_type": "stream",
     "text": [
      "[(10, 'Νίκος'), (56, 'Μαρία'), (11, 'Γιώργος')]\n"
     ]
    }
   ],
   "source": [
    "# Συνδυασμός λιστών με το zip\n",
    "\n",
    "a_list = [10, 56, 11]\n",
    "b_list = [\"Νίκος\", \"Μαρία\", \"Γιώργος\"]\n",
    "print(list(zip(a_list,b_list)))"
   ]
  },
  {
   "cell_type": "code",
   "execution_count": 14,
   "metadata": {},
   "outputs": [
    {
     "name": "stdout",
     "output_type": "stream",
     "text": [
      "[(0, 'Νίκος'), (1, 'Μαρία'), (2, 'Γιώργος')]\n"
     ]
    }
   ],
   "source": [
    "# enumerate λίστας\n",
    "\n",
    "b_list = [\"Νίκος\", \"Μαρία\", \"Γιώργος\"]\n",
    "print(list(enumerate(b_list)))"
   ]
  },
  {
   "cell_type": "code",
   "execution_count": 15,
   "metadata": {},
   "outputs": [
    {
     "data": {
      "text/plain": [
       "['Γιώργος', 'Μαρία', 'Νίκος']"
      ]
     },
     "execution_count": 15,
     "metadata": {},
     "output_type": "execute_result"
    }
   ],
   "source": [
    "# Ταξινόμηση λίστας\n",
    "\n",
    "b_list = [\"Νίκος\", \"Μαρία\", \"Γιώργος\"]\n",
    "b_list.sort()\n",
    "b_list"
   ]
  },
  {
   "cell_type": "code",
   "execution_count": 16,
   "metadata": {},
   "outputs": [
    {
     "data": {
      "text/plain": [
       "['Μαρία', 'Γιώργος']"
      ]
     },
     "execution_count": 16,
     "metadata": {},
     "output_type": "execute_result"
    }
   ],
   "source": [
    "# Τεμαχισμός λίστας (οι λίστες τεμαχίζονται όμοια με τα λεκτικά)\n",
    "\n",
    "b_list = [\"Νίκος\", \"Μαρία\", \"Γιώργος\"]\n",
    "b_list[-2:]"
   ]
  },
  {
   "cell_type": "code",
   "execution_count": 17,
   "metadata": {},
   "outputs": [
    {
     "data": {
      "text/plain": [
       "4"
      ]
     },
     "execution_count": 17,
     "metadata": {},
     "output_type": "execute_result"
    }
   ],
   "source": [
    "# Μήκος λίστας\n",
    "\n",
    "len([1, 2, 3, 4])"
   ]
  },
  {
   "cell_type": "code",
   "execution_count": 18,
   "metadata": {},
   "outputs": [
    {
     "data": {
      "text/plain": [
       "[1, 2, 3, 1, 2, 3, 1, 2, 3, 1, 2, 3, 1, 2, 3]"
      ]
     },
     "execution_count": 18,
     "metadata": {},
     "output_type": "execute_result"
    }
   ],
   "source": [
    "# Πολλαπλασιασμός λίστας με ακέραιο\n",
    "\n",
    "a_list = [1, 2, 3]\n",
    "a_list * 5"
   ]
  },
  {
   "cell_type": "code",
   "execution_count": 19,
   "metadata": {},
   "outputs": [
    {
     "data": {
      "text/plain": [
       "True"
      ]
     },
     "execution_count": 19,
     "metadata": {},
     "output_type": "execute_result"
    }
   ],
   "source": [
    "# έλεγχος αν ένα στοιχείο υπάρχει στη λίστα\n",
    "\n",
    "5 in [15, 3, 5, 9]"
   ]
  },
  {
   "cell_type": "code",
   "execution_count": 20,
   "metadata": {},
   "outputs": [
    {
     "name": "stdout",
     "output_type": "stream",
     "text": [
      "Νίκος-Μαρία-Γιώργος\n",
      "Νίκος**Μαρία**Γιώργος\n"
     ]
    }
   ],
   "source": [
    "# μετατροπή λίστας λεκτικών σε λεκτικό με διαχωριστικό της επιλογής μας ενδιάμεσα.\n",
    "\n",
    "a_list = [\"Νίκος\", \"Μαρία\", \"Γιώργος\"]\n",
    "print(\"-\".join(a_list))\n",
    "print(\"**\".join(a_list))"
   ]
  },
  {
   "cell_type": "code",
   "execution_count": 21,
   "metadata": {},
   "outputs": [
    {
     "name": "stdout",
     "output_type": "stream",
     "text": [
      "[99, 2, 3]\n",
      "[99, 2, 3]\n",
      "########################################\n",
      "[99, 2, 3]\n",
      "[1, 2, 3]\n"
     ]
    }
   ],
   "source": [
    "# Δημιουργία μιας λίστας από μια άλλη\n",
    "\n",
    "a_list = [1,2,3]\n",
    "b_list = a_list # η λίστα b_list είναι reference προς τη λίστα a_list\n",
    "a_list[0] = 99\n",
    "print(a_list)\n",
    "print(b_list)\n",
    "\n",
    "print(\"#\"*40)\n",
    "\n",
    "a_list = [1,2,3]\n",
    "c_list = a_list[:] # δημιουργία νέου αντιγράφου της λίστας a_list\n",
    "a_list[0] = 99\n",
    "print(a_list)\n",
    "print(c_list)"
   ]
  },
  {
   "cell_type": "markdown",
   "metadata": {},
   "source": [
    "# Πλειάδες (tuples)\n",
    "Οι πλειάδες μοιάζουν με τις λίστες αλλά χρησιμοποιούν παρενθέσεις. H κύρια διαφορά των πλειάδων από τις λίστες είναι ότι οι πλειάδες είναι immutable."
   ]
  },
  {
   "cell_type": "code",
   "execution_count": 22,
   "metadata": {},
   "outputs": [
    {
     "name": "stdout",
     "output_type": "stream",
     "text": [
      "['__add__', '__class__', '__class_getitem__', '__contains__', '__delattr__', '__dir__', '__doc__', '__eq__', '__format__', '__ge__', '__getattribute__', '__getitem__', '__getnewargs__', '__gt__', '__hash__', '__init__', '__init_subclass__', '__iter__', '__le__', '__len__', '__lt__', '__mul__', '__ne__', '__new__', '__reduce__', '__reduce_ex__', '__repr__', '__rmul__', '__setattr__', '__sizeof__', '__str__', '__subclasshook__', 'count', 'index']\n"
     ]
    }
   ],
   "source": [
    "print(dir(tuple))"
   ]
  },
  {
   "cell_type": "code",
   "execution_count": 23,
   "metadata": {},
   "outputs": [
    {
     "name": "stdout",
     "output_type": "stream",
     "text": [
      "(1, 4, 5, 1, 6)\n",
      "(1, 4, 5, 1)\n",
      "[1, 99, 5, 1, 6]\n"
     ]
    }
   ],
   "source": [
    "# Οι πλειάδες είναι immutable ενώ οι λίστες είναι mutable\n",
    "\n",
    "a_tuple = (1, 4, 5, 1, 6)\n",
    "print(a_tuple)\n",
    "print(a_tuple[0:4])  # οι πλειάδες υποστηρίζουν slicing όπως και οι λίστες\n",
    "# a_tuple[1]=99 # TypeError: 'tuple' object does not support item assignment\n",
    "\n",
    "a_list = [1, 4, 5, 1, 6]\n",
    "a_list[1] = 99  # οι λίστες είναι mutable\n",
    "print(a_list)"
   ]
  },
  {
   "cell_type": "code",
   "execution_count": 24,
   "metadata": {},
   "outputs": [
    {
     "name": "stdout",
     "output_type": "stream",
     "text": [
      "<class 'tuple'>\n",
      "(1, 4, 5, 1, 6)\n"
     ]
    }
   ],
   "source": [
    "# δημιουργία tuple χωρίς παρενθέσεις\n",
    "\n",
    "a_tuple = 1, 4, 5, 1, 6\n",
    "print(type(a_tuple))\n",
    "print(a_tuple)"
   ]
  },
  {
   "cell_type": "code",
   "execution_count": 25,
   "metadata": {},
   "outputs": [
    {
     "name": "stdout",
     "output_type": "stream",
     "text": [
      "<class 'tuple'>\n",
      "(42,)\n"
     ]
    }
   ],
   "source": [
    "# tuple με ένα στοιχείο  (πρέπει να έχει κόμμα μετά το στοιχείο)\n",
    "\n",
    "a_tuple = (42,)\n",
    "print(type(a_tuple))\n",
    "print(a_tuple)"
   ]
  },
  {
   "cell_type": "code",
   "execution_count": 26,
   "metadata": {},
   "outputs": [
    {
     "name": "stdout",
     "output_type": "stream",
     "text": [
      "[1, 4, 5, 1, 6]\n",
      "(1, 4, 5, 1, 6)\n"
     ]
    }
   ],
   "source": [
    "# Μια λίστα μπορεί να μετατραπεί σε tuple και ένα tuple σε λίστα\n",
    "a_tuple = (1, 4, 5, 1, 6)\n",
    "a_list = list(a_tuple)\n",
    "print(a_list)\n",
    "\n",
    "a_list = [1, 4, 5, 1, 6]\n",
    "a_tuple = tuple(a_list)\n",
    "print(a_tuple)"
   ]
  },
  {
   "cell_type": "markdown",
   "metadata": {},
   "source": [
    "## Λεξικά (dictionaries)\n",
    "Τα λεξικά είναι μια πολύ χρήσιμη δομή που χρησιμοποιείται πολύ συχνά στην Python. Σε άλλες γλώσσες προγραμματισμού αναφέρονται ως πίνακες κατακερματισμού (hashtables) ή πίνακες συσχέτισης (associative arrays)\n",
    "\n",
    "Τα λεξικά αποτελούνται από ζεύγη (κλειδί, τιμή). Ως κλειδί μπορεί να είναι οποιοσδήποτε immutable τύπος (π.χ. string).\n",
    "\n"
   ]
  },
  {
   "cell_type": "code",
   "execution_count": 27,
   "metadata": {},
   "outputs": [
    {
     "name": "stdout",
     "output_type": "stream",
     "text": [
      "['__class__', '__class_getitem__', '__contains__', '__delattr__', '__delitem__', '__dir__', '__doc__', '__eq__', '__format__', '__ge__', '__getattribute__', '__getitem__', '__gt__', '__hash__', '__init__', '__init_subclass__', '__ior__', '__iter__', '__le__', '__len__', '__lt__', '__ne__', '__new__', '__or__', '__reduce__', '__reduce_ex__', '__repr__', '__reversed__', '__ror__', '__setattr__', '__setitem__', '__sizeof__', '__str__', '__subclasshook__', 'clear', 'copy', 'fromkeys', 'get', 'items', 'keys', 'pop', 'popitem', 'setdefault', 'update', 'values']\n"
     ]
    }
   ],
   "source": [
    "print(dir(dict))"
   ]
  },
  {
   "cell_type": "code",
   "execution_count": 28,
   "metadata": {},
   "outputs": [
    {
     "name": "stdout",
     "output_type": "stream",
     "text": [
      "{'abc': 10, 'def': 20, 'ghi': 42}\n",
      "{'abc': 20, 'ikj': 90}\n"
     ]
    }
   ],
   "source": [
    "a_dict = {\"abc\": 10, \"def\": 20, \"ghi\": 42}\n",
    "print(a_dict)\n",
    "\n",
    "b_dict = dict()\n",
    "b_dict[\"abc\"] = 20\n",
    "b_dict[\"ikj\"] = 90\n",
    "print(b_dict)"
   ]
  },
  {
   "cell_type": "code",
   "execution_count": 29,
   "metadata": {},
   "outputs": [
    {
     "name": "stdout",
     "output_type": "stream",
     "text": [
      "10\n",
      "10\n",
      "-1\n",
      "True\n",
      "False\n"
     ]
    }
   ],
   "source": [
    "# Εντοπισμός ενός κλειδιού στο λεξικό\n",
    "\n",
    "a_dict = {\"abc\": 10, \"def\": 20, \"ghi\": 42}\n",
    "print(a_dict[\"abc\"])\n",
    "# print(a_dict['xyz']) # KeyError: 'xyz'\n",
    "print(\n",
    "    a_dict.get(\"abc\", -1)\n",
    ")  # η get επιτρέπει την επιστροφή μιας άλλης τιμής αν το κλειδί δεν υπάρχει στο λεξικό\n",
    "print(a_dict.get(\"xyz\", -1))\n",
    "\n",
    "\n",
    "print(\"abc\" in a_dict)\n",
    "print(\"xyz\" in a_dict)"
   ]
  },
  {
   "cell_type": "code",
   "execution_count": 30,
   "metadata": {},
   "outputs": [
    {
     "name": "stdout",
     "output_type": "stream",
     "text": [
      "dict_keys(['abc', 'def', 'ghi'])\n",
      "dict_values([10, 20, 42])\n",
      "dict_items([('abc', 10), ('def', 20), ('ghi', 42)])\n"
     ]
    }
   ],
   "source": [
    "# Λήψη όλων των κλειδιών και όλων των τιμών ενός λεξικού\n",
    "\n",
    "print(a_dict.keys())  # επιστρέφει ένα view object\n",
    "print(a_dict.values())\n",
    "print(a_dict.items())"
   ]
  },
  {
   "cell_type": "code",
   "execution_count": 31,
   "metadata": {},
   "outputs": [
    {
     "data": {
      "text/plain": [
       "{(1, 2, 3): 'text', 'key123': [5, 6, 'a'], 1917: {'a': 89, 'b': 'text'}}"
      ]
     },
     "execution_count": 31,
     "metadata": {},
     "output_type": "execute_result"
    }
   ],
   "source": [
    "# Ένα λεξικό μπορεί να έχει ως κλειδιά tuples, και ως τιμές λίστες, tuples και άλλα λεξικά, όπως στο ακόλουθο παράδειγμα.\n",
    "\n",
    "a_dict = {}\n",
    "a_dict[(1, 2, 3)] = \"text\"\n",
    "a_dict[\"key123\"] = [5, 6, \"a\"]\n",
    "a_dict[1917] = {\"a\": 89, \"b\": \"text\"}\n",
    "a_dict"
   ]
  },
  {
   "cell_type": "code",
   "execution_count": 32,
   "metadata": {},
   "outputs": [
    {
     "data": {
      "text/plain": [
       "{'a': 1, 'b': 2, 'z': 3, 'w': 4}"
      ]
     },
     "execution_count": 32,
     "metadata": {},
     "output_type": "execute_result"
    }
   ],
   "source": [
    "# Συνδυασμός λεξικών \n",
    "\n",
    "a_dict = {'a':1, 'b':2}\n",
    "b_dict = {'z':3, 'w':4}\n",
    "\n",
    "ab_dict = {**a_dict, **b_dict}\n",
    "ab_dict"
   ]
  },
  {
   "cell_type": "markdown",
   "metadata": {},
   "source": [
    "# Σύνολα (set)\n",
    "Τα σύνολα είναι όπως τα σύνολα στα μαθηματικά, δηλαδή δεν επιτρέπουν διπλότυπα."
   ]
  },
  {
   "cell_type": "code",
   "execution_count": 33,
   "metadata": {},
   "outputs": [
    {
     "name": "stdout",
     "output_type": "stream",
     "text": [
      "['__and__', '__class__', '__class_getitem__', '__contains__', '__delattr__', '__dir__', '__doc__', '__eq__', '__format__', '__ge__', '__getattribute__', '__gt__', '__hash__', '__iand__', '__init__', '__init_subclass__', '__ior__', '__isub__', '__iter__', '__ixor__', '__le__', '__len__', '__lt__', '__ne__', '__new__', '__or__', '__rand__', '__reduce__', '__reduce_ex__', '__repr__', '__ror__', '__rsub__', '__rxor__', '__setattr__', '__sizeof__', '__str__', '__sub__', '__subclasshook__', '__xor__', 'add', 'clear', 'copy', 'difference', 'difference_update', 'discard', 'intersection', 'intersection_update', 'isdisjoint', 'issubset', 'issuperset', 'pop', 'remove', 'symmetric_difference', 'symmetric_difference_update', 'union', 'update']\n"
     ]
    }
   ],
   "source": [
    "print(dir(set))"
   ]
  },
  {
   "cell_type": "code",
   "execution_count": 34,
   "metadata": {},
   "outputs": [
    {
     "data": {
      "text/plain": [
       "{1, 2, 3, 4, 5, 6, 7, 8, 9}"
      ]
     },
     "execution_count": 34,
     "metadata": {},
     "output_type": "execute_result"
    }
   ],
   "source": [
    "# Τα sets μπορούν να χρησιμοποιηθούν για την αφαίρεση διπλότυπων από μια λίστα\n",
    "\n",
    "set([1, 1, 2, 2, 3, 4, 5, 6, 7, 7, 7, 8, 9, 9, 9, 9])"
   ]
  },
  {
   "cell_type": "code",
   "execution_count": 35,
   "metadata": {},
   "outputs": [
    {
     "name": "stdout",
     "output_type": "stream",
     "text": [
      "{1, 2, 3, 9, 10, 12, 20}\n",
      "{1, 3, 9, 10, 12, 20}\n"
     ]
    }
   ],
   "source": [
    "# προσθήκη και αφαίρεση στοιχείων σε set\n",
    "\n",
    "a = {1, 2, 3}\n",
    "# προσθήκη ενός στοιχείου\n",
    "a.add(9)\n",
    "\n",
    "# προσθήκη πολλών στοιχείων\n",
    "a.update([10,12,20,12])\n",
    "print(a)\n",
    "\n",
    "# αφαίρεση ενός υπάρχοντος στοιχείου, αλλιώς σφάλμα\n",
    "a.remove(2)\n",
    "print(a)\n",
    "\n",
    "# αν το στοιχείο  δεν υπάρχει στη λίστα δεν προκύπτει σφάλμα\n",
    "a.discard(7)"
   ]
  },
  {
   "cell_type": "code",
   "execution_count": 36,
   "metadata": {},
   "outputs": [
    {
     "name": "stdout",
     "output_type": "stream",
     "text": [
      "True\n",
      "{1, 2, 3, 4, 5}\n",
      "{3}\n",
      "{1, 2}\n",
      "{1, 2, 4, 5}\n",
      "True\n",
      "True\n",
      "False\n",
      "True\n"
     ]
    }
   ],
   "source": [
    "# πράξεις με σύνολα\n",
    "\n",
    "a = {1, 2, 3}\n",
    "b = {3, 4, 5}\n",
    "print(1 in a)\n",
    "print(a.union(b))\n",
    "print(a.intersection(b))\n",
    "print(a.difference(b))\n",
    "print(a.symmetric_difference(b))\n",
    "\n",
    "print(a.union(b)==b.union(a))\n",
    "print(a.intersection(b)==b.intersection(a))\n",
    "print(a.difference(b)==b.difference(a)) # False\n",
    "print(a.symmetric_difference(b)==b.symmetric_difference(a))"
   ]
  },
  {
   "cell_type": "code",
   "execution_count": 37,
   "metadata": {},
   "outputs": [
    {
     "name": "stdout",
     "output_type": "stream",
     "text": [
      "{1, 2, 3, 4, 5}\n",
      "{3}\n",
      "{1, 2}\n",
      "{1, 2, 4, 5}\n"
     ]
    }
   ],
   "source": [
    "# πράξεις με σύνολα\n",
    "\n",
    "a = {1, 2, 3}\n",
    "b = {3, 4, 5}\n",
    "print(a | b)  # τομή\n",
    "print(a & b)  # ένωση\n",
    "print(a - b)  # διαφορά\n",
    "print(a ^ b)  # συμμετρική διαφορά"
   ]
  },
  {
   "cell_type": "markdown",
   "metadata": {},
   "source": [
    "## Διάταξη στοιχείων\n",
    "\n",
    "Τα στοιχεία των λιστών και πλειάδων είναι διατεταγμένα, από την έκδοση 3.7 της Python τα στοιχεία σε ένα λεξικό διατηρούν τη διάταξη εισαγωγής τους."
   ]
  },
  {
   "cell_type": "markdown",
   "metadata": {},
   "source": [
    "## Iterables"
   ]
  },
  {
   "cell_type": "code",
   "execution_count": 38,
   "metadata": {},
   "outputs": [
    {
     "name": "stdout",
     "output_type": "stream",
     "text": [
      "1\n",
      "2\n",
      "3\n"
     ]
    }
   ],
   "source": [
    "# Iterables\n",
    "\n",
    "a_list = [1, 2, 3, 4, 5]\n",
    "it = iter(a_list)\n",
    "print(next(it))\n",
    "print(next(it))\n",
    "print(next(it))"
   ]
  },
  {
   "cell_type": "markdown",
   "metadata": {},
   "source": [
    "## Επιπλέον δομές δεδομένων\n",
    "\n",
    "Εκτός από τις βασικές δομές δεδομένων list, tuple, dict, set υπάρχουν και άλλες δομές δεδομένων όπως οι ακόλουθες:\n",
    "\n",
    "* frozenset\n",
    "* heapq\n",
    "* array.array\n",
    "* collections.defaultdict\n",
    "* collections.namedtuple\n",
    "* collections.deque\n",
    "* ..."
   ]
  },
  {
   "cell_type": "code",
   "execution_count": 39,
   "metadata": {},
   "outputs": [
    {
     "name": "stdout",
     "output_type": "stream",
     "text": [
      "frozenset({'t', 's', 'e'}) <class 'frozenset'>\n"
     ]
    }
   ],
   "source": [
    "# frozenset\n",
    "# είναι sets που είναι immutable, συνεπώς μπορούν να χρησιμοποιηθούν ως κλειδιά σε dictionaries και ως στοιχεία sets\n",
    "# Για τη δημιουργία ενός frozenset χρησιμοποιείται η συνάρτηση frozenset με όρισμα ένα iterable (π.χ. λίστα, σύνολο, λεκτικό κ.α.)\n",
    "\n",
    "fs = frozenset(\"test\")\n",
    "print(fs, type(fs))"
   ]
  },
  {
   "cell_type": "code",
   "execution_count": 40,
   "metadata": {},
   "outputs": [
    {
     "name": "stdout",
     "output_type": "stream",
     "text": [
      "[69, 59, 32]\n",
      "[10, 11, 17]\n"
     ]
    }
   ],
   "source": [
    "# Σωρός (heap)\n",
    "\n",
    "import heapq\n",
    "\n",
    "a_list = [23, 21, 17, 11, 59, 10, 69, 32]\n",
    "heapq.heapify(a_list)  # μετατροπή της λίστας σε σωρό\n",
    "\n",
    "print(heapq.nlargest(3, a_list))\n",
    "print(heapq.nsmallest(3, a_list))\n"
   ]
  }
 ],
 "metadata": {
  "interpreter": {
   "hash": "312844d44f1bafaafb92b68376de2ad70ca55e9060a523aaca0237c5e930c76f"
  },
  "kernelspec": {
   "display_name": "Python 3.10.4 ('PLHPRO')",
   "language": "python",
   "name": "python3"
  },
  "language_info": {
   "codemirror_mode": {
    "name": "ipython",
    "version": 3
   },
   "file_extension": ".py",
   "mimetype": "text/x-python",
   "name": "python",
   "nbconvert_exporter": "python",
   "pygments_lexer": "ipython3",
   "version": "3.10.4"
  }
 },
 "nbformat": 4,
 "nbformat_minor": 2
}
