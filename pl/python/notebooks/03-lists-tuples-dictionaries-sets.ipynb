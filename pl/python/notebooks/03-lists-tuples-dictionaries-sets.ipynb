{
 "metadata": {
  "language_info": {
   "codemirror_mode": {
    "name": "ipython",
    "version": 3
   },
   "file_extension": ".py",
   "mimetype": "text/x-python",
   "name": "python",
   "nbconvert_exporter": "python",
   "pygments_lexer": "ipython3",
   "version": "3.8.0"
  },
  "orig_nbformat": 2,
  "kernelspec": {
   "name": "python3",
   "display_name": "Python 3.8.0 64-bit ('3.8.0-amd64': pyenv)",
   "metadata": {
    "interpreter": {
     "hash": "2334294e789e06453e89f7d5c3c2573679701f9bb5b76ad2158f91cca5c9244c"
    }
   }
  }
 },
 "nbformat": 4,
 "nbformat_minor": 2,
 "cells": [
  {
   "source": [
    "# Λίστες, πλειάδες, λεξικά και σύνολα"
   ],
   "cell_type": "markdown",
   "metadata": {}
  },
  {
   "source": [
    "## Λίστες\n",
    "\n",
    "Οι λίστες αντιστοιχούν στις διατάξεις (arrays) που συναντάμαι σε άλλες γλωσσες προγραμματισμού."
   ],
   "cell_type": "markdown",
   "metadata": {}
  },
  {
   "cell_type": "code",
   "execution_count": null,
   "metadata": {},
   "outputs": [],
   "source": [
    "# Δημιουργία κενής λίστας\n",
    "a_list = []\n",
    "a_list = list()"
   ]
  },
  {
   "cell_type": "code",
   "execution_count": null,
   "metadata": {},
   "outputs": [],
   "source": [
    "# Μια λίστα μπορεί να περιέχει ετερογενή στοιχεία ή και άλλες λίστες ως στοιχεία\n",
    "a_list = [10,56,11]\n",
    "b_list = [\"Νίκος\", \"Μαρία\", \"Γιώργος\"]\n",
    "c_list = [3, \"αβγ\", a_list]\n",
    "c_list"
   ]
  },
  {
   "cell_type": "code",
   "execution_count": null,
   "metadata": {},
   "outputs": [],
   "source": [
    "# Συνένωση λιστών\n",
    "a_list = [10,56,11]\n",
    "b_list = [\"Νίκος\", \"Μαρία\", \"Γιώργος\"]\n",
    "c_list = a_list + b_list\n",
    "c_list"
   ]
  },
  {
   "cell_type": "code",
   "execution_count": null,
   "metadata": {},
   "outputs": [],
   "source": [
    "# Ταξινόμηση λίστας\n",
    "b_list = [\"Νίκος\", \"Μαρία\", \"Γιώργος\"]\n",
    "b_list.sort()\n",
    "b_list"
   ]
  },
  {
   "cell_type": "code",
   "execution_count": null,
   "metadata": {},
   "outputs": [],
   "source": [
    "# Τεμαχισμός λίστας (οι λίστες τεμαχίζονται όμοια με τα λεκτικά)\n",
    "b_list = [\"Νίκος\", \"Μαρία\", \"Γιώργος\"]\n",
    "b_list[-2:]"
   ]
  },
  {
   "cell_type": "code",
   "execution_count": 1,
   "metadata": {},
   "outputs": [
    {
     "output_type": "execute_result",
     "data": {
      "text/plain": [
       "[1, 2, 3, 'a', 'b', 'c']"
      ]
     },
     "metadata": {},
     "execution_count": 1
    }
   ],
   "source": [
    "# Συνένωση λιστών\n",
    "a_list = [1,2,3]\n",
    "b_list = ['a', 'b', 'c']\n",
    "a_list + b_list"
   ]
  },
  {
   "cell_type": "code",
   "execution_count": 4,
   "metadata": {},
   "outputs": [
    {
     "output_type": "execute_result",
     "data": {
      "text/plain": [
       "[1, 2, 3, 1, 2, 3, 1, 2, 3, 1, 2, 3, 1, 2, 3]"
      ]
     },
     "metadata": {},
     "execution_count": 4
    }
   ],
   "source": [
    "# Πολλαπλασιασμός λίστας με ακέραιο\n",
    "a_list = [1,2,3]\n",
    "a_list * 5"
   ]
  },
  {
   "source": [
    "# Πλειάδες (tuples)\n",
    "Οι πλειάδες μοιάζουν με τις λίστες αλλά χρησιμοποιούν παρενθέσεις. H κύρια διαφορά των πλειάδων από τις λίστες είναι ότι οι πλειάδες είναι immutable."
   ],
   "cell_type": "markdown",
   "metadata": {}
  },
  {
   "cell_type": "code",
   "execution_count": null,
   "metadata": {},
   "outputs": [],
   "source": [
    "a_tuple = (1,4,5,1,6)\n",
    "print(1, a_tuple[0:4])\n",
    "\n",
    "a_list = [1,4,5,1,6]\n",
    "a_list[1]=99 # οι λίστες είναι mutable\n",
    "print(2, a_list)\n",
    "\n",
    "# a_tuple[1]=99 # TypeError: 'tuple' object does not support item assignment"
   ]
  },
  {
   "cell_type": "code",
   "execution_count": null,
   "metadata": {},
   "outputs": [],
   "source": [
    "# Μια λίστα μπορεί να μετατραπεί σε tuple και ένα tuple σε λίστα\n",
    "a_tuple = (1,4,5,1,6)\n",
    "a_list = list(a_tuple)\n",
    "print(1, a_list)\n",
    "\n",
    "a_list = [1,4,5,1,6]\n",
    "a_tuple = tuple(a_list)\n",
    "print(2, a_tuple)"
   ]
  },
  {
   "source": [
    "## Λεξικά (dictionaries)\n",
    "Τα λεξικά είναι μια πολύ χρήσιμη δομή που χρησιμοποιείται πολύ συχνά στην Python. Σε άλλες γλώσσες προγραμματισμού αναφέρονται ως πίνακες κατακερματισμού (hashtables) ή πίνακες συσχέτισης (associative arrays)\n",
    "\n",
    "Τα λεξικά αποτελεόυνται από ζεύγη (κλειδί, τιμή). Ως κλειδί μπορεί να είναι οποιοσδήποτε immutable τύπος (π.χ. string).\n",
    "\n"
   ],
   "cell_type": "markdown",
   "metadata": {}
  },
  {
   "cell_type": "code",
   "execution_count": null,
   "metadata": {},
   "outputs": [],
   "source": [
    "a_dict = {'abc':10, 'def':20, \"ghi\":42}\n",
    "print(1, a_dict)\n",
    "\n",
    "b_dict = dict()\n",
    "b_dict['abc']=20\n",
    "b_dict['ikj']=90\n",
    "print(2, b_dict)"
   ]
  },
  {
   "cell_type": "code",
   "execution_count": null,
   "metadata": {},
   "outputs": [],
   "source": [
    "# Εντοπισμός ενός κλειδιού στο λεξικό\n",
    "\n",
    "a_dict = {'abc':10, 'def':20, \"ghi\":42}\n",
    "print(1, a_dict['abc'])\n",
    "# print(a_dict['xyz']) # KeyError: 'xyz'\n",
    "\n",
    "print(2, 'abc' in a_dict)\n",
    "print(3, 'xyz' in a_dict)\n"
   ]
  },
  {
   "cell_type": "code",
   "execution_count": null,
   "metadata": {},
   "outputs": [],
   "source": [
    "# Λήψη όλων των κλειδιών και όλων των τιμών ενός λεξικού\n",
    "\n",
    "print(a_dict.keys()) # επιστρέφει ένα view object\n",
    "print(a_dict.values())"
   ]
  },
  {
   "cell_type": "code",
   "execution_count": null,
   "metadata": {},
   "outputs": [],
   "source": [
    "# Ένα λεξικό μπορεί να έχει ως κλειδιά tuples, και ως τιμές λίστες, tuples και άλλα λεξικά, όπως στο ακόλουθο παράδειγμα.\n",
    "\n",
    "a_dict = {}\n",
    "a_dict[(1,2,3)] = 'text'\n",
    "a_dict['key123'] = [5,6,'a']\n",
    "a_dict[1917] = {'a':89, 'b':'text'}\n",
    "a_dict"
   ]
  },
  {
   "source": [
    "# Σύνολα (set)\n",
    "Τα σύνολα είναι όπως τα σύνολα στα μαθηματικά, δηλαδή δεν επιτρέπουν διπλότυπα."
   ],
   "cell_type": "markdown",
   "metadata": {}
  },
  {
   "cell_type": "code",
   "execution_count": null,
   "metadata": {},
   "outputs": [],
   "source": [
    "# αφαίρεση διπλότυπων\n",
    "set([1,1,2,2,3,4,5,6,7,7,7,8,9,9,9,9])"
   ]
  },
  {
   "cell_type": "code",
   "execution_count": 2,
   "metadata": {},
   "outputs": [
    {
     "output_type": "stream",
     "name": "stdout",
     "text": [
      "{1, 2, 3, 4, 5}\n{3}\n{1, 2}\n"
     ]
    }
   ],
   "source": [
    "# πράξεις με σύνολα\n",
    "a = {1,2,3}\n",
    "b = {3,4,5}\n",
    "print(a.union(b))\n",
    "print(a.intersection(b))\n",
    "print(a.difference(b))"
   ]
  },
  {
   "cell_type": "code",
   "execution_count": null,
   "metadata": {},
   "outputs": [],
   "source": []
  }
 ]
}