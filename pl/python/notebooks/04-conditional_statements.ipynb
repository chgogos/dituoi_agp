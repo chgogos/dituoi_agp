{
 "metadata": {
  "language_info": {
   "codemirror_mode": {
    "name": "ipython",
    "version": 3
   },
   "file_extension": ".py",
   "mimetype": "text/x-python",
   "name": "python",
   "nbconvert_exporter": "python",
   "pygments_lexer": "ipython3",
   "version": "3.8.0-final"
  },
  "orig_nbformat": 2,
  "kernelspec": {
   "name": "python3",
   "display_name": "Python 3.8.0 64-bit",
   "metadata": {
    "interpreter": {
     "hash": "2334294e789e06453e89f7d5c3c2573679701f9bb5b76ad2158f91cca5c9244c"
    }
   }
  }
 },
 "nbformat": 4,
 "nbformat_minor": 2,
 "cells": [
  {
   "source": [
    "# Εντολές ελέγχου συνθηκών\n",
    "\n",
    "Εντολές: if/elif/else\n",
    "\n",
    "Λογικοί τελεστές: and, or, not"
   ],
   "cell_type": "markdown",
   "metadata": {}
  },
  {
   "source": [
    "## Η εντολή if"
   ],
   "cell_type": "markdown",
   "metadata": {}
  },
  {
   "cell_type": "code",
   "execution_count": 1,
   "metadata": {},
   "outputs": [
    {
     "output_type": "stream",
     "name": "stdout",
     "text": [
      "Δεν μπορείς να λάβεις δίπλωμα οδήγησης\n"
     ]
    }
   ],
   "source": [
    "age = 17\n",
    "if age < 18:\n",
    "    print(\"Δεν μπορείς να λάβεις δίπλωμα οδήγησης\")"
   ]
  },
  {
   "cell_type": "code",
   "execution_count": 2,
   "metadata": {},
   "outputs": [
    {
     "output_type": "stream",
     "name": "stdout",
     "text": [
      "Μπορείς να λάβεις δίπλωμα οδήγησης\n"
     ]
    }
   ],
   "source": [
    "age = 18\n",
    "if age < 18:\n",
    "    print(\"Δεν μπορείς να λάβεις δίπλωμα οδήγησης\")\n",
    "else:\n",
    "    print(\"Μπορείς να λάβεις δίπλωμα οδήγησης\")"
   ]
  },
  {
   "cell_type": "code",
   "execution_count": 3,
   "metadata": {},
   "outputs": [
    {
     "output_type": "stream",
     "name": "stdout",
     "text": [
      "Μπορείς να κάνεις μαθήματα για δίπλωμα οδήγησης\n"
     ]
    }
   ],
   "source": [
    "age = 16\n",
    "if age < 15:\n",
    "    print(\"Δεν μπορείς να λάβεις δίπλωμα οδήγησης\")\n",
    "elif 15 <= age < 18: \n",
    "    print(\"Μπορείς να κάνεις μαθήματα για δίπλωμα οδήγησης\")\n",
    "else:\n",
    "    print(\"Μπορείς να λάβεις δίπλωμα οδήγησης\")"
   ]
  },
  {
   "source": [
    "## Οι λογικοί τελεστές"
   ],
   "cell_type": "markdown",
   "metadata": {}
  },
  {
   "cell_type": "code",
   "execution_count": 4,
   "metadata": {},
   "outputs": [
    {
     "output_type": "stream",
     "name": "stdout",
     "text": [
      "1 True\n2 True\n3 True\n4 False\n"
     ]
    }
   ],
   "source": [
    "print(1, 2 > 1 and 3 > 2)\n",
    "print(2, 1 == 5 % 2 or  2 != 2)\n",
    "print(3, 'abc' in [5, 16, 42, 'abc', 7])\n",
    "print(4, 'abc' not in [5, 16, 42, 'abc', 7])"
   ]
  },
  {
   "cell_type": "code",
   "execution_count": 5,
   "metadata": {},
   "outputs": [
    {
     "output_type": "stream",
     "name": "stdout",
     "text": [
      "None is considered False\nEmpty list is considered False\nEmpty tuple is considered False\nEmpty dictionary is considered False\nEmpty string is considered False\nTrue\nFalse\n"
     ]
    }
   ],
   "source": [
    "## H λέξη κλειδί None\n",
    "\n",
    "x = None\n",
    "y = []\n",
    "z = ()\n",
    "w = {}\n",
    "y = ''\n",
    "\n",
    "if not x:\n",
    "    print(\"None is considered False\")\n",
    "\n",
    "if not y:\n",
    "    print(\"Empty list is considered False\")\n",
    "\n",
    "if not z:\n",
    "    print(\"Empty tuple is considered False\")\n",
    "\n",
    "if not w:\n",
    "    print(\"Empty dictionary is considered False\")\n",
    "\n",
    "if not y:\n",
    "    print(\"Empty string is considered False\")\n",
    "\n",
    "print((not x) == (not y))\n",
    "print(x == y)"
   ]
  }
 ]
}