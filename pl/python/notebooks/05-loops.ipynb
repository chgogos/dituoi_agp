{
 "metadata": {
  "language_info": {
   "codemirror_mode": {
    "name": "ipython",
    "version": 3
   },
   "file_extension": ".py",
   "mimetype": "text/x-python",
   "name": "python",
   "nbconvert_exporter": "python",
   "pygments_lexer": "ipython3",
   "version": "3.8.0"
  },
  "orig_nbformat": 2,
  "kernelspec": {
   "name": "python3",
   "display_name": "Python 3.8.0 64-bit ('3.8.0-amd64': pyenv)",
   "metadata": {
    "interpreter": {
     "hash": "2334294e789e06453e89f7d5c3c2573679701f9bb5b76ad2158f91cca5c9244c"
    }
   }
  }
 },
 "nbformat": 4,
 "nbformat_minor": 2,
 "cells": [
  {
   "source": [
    "# Επαναλήψεις\n",
    "\n",
    "for\n",
    "\n",
    "while"
   ],
   "cell_type": "markdown",
   "metadata": {}
  },
  {
   "cell_type": "code",
   "execution_count": 1,
   "metadata": {},
   "outputs": [
    {
     "output_type": "execute_result",
     "data": {
      "text/plain": [
       "range(0, 10)"
      ]
     },
     "metadata": {},
     "execution_count": 1
    }
   ],
   "source": [
    "# Η συνάρτηση range είναι μια γεννήτρια αριθμών\n",
    "range(10) # παράγει τους αριθμούς από 0 μέχρι και 9"
   ]
  },
  {
   "cell_type": "code",
   "execution_count": 2,
   "metadata": {},
   "outputs": [
    {
     "output_type": "stream",
     "name": "stdout",
     "text": [
      "[0, 1, 2, 3, 4, 5, 6, 7, 8, 9]\n[5, 6, 7, 8, 9]\n[0, 5, 10, 15, 20, 25, 30, 35, 40, 45, 50, 55, 60, 65, 70, 75, 80, 85, 90, 95, 100]\n"
     ]
    }
   ],
   "source": [
    "print(list(range(10)))\n",
    "print(list(range(5,10))) # παράγει τους αριθμούς από 5 μέχρι και 9\n",
    "print(list(range(0,101,5))) # παράγει τους αριθμούς από 0 μέχρι και 100 με βήμα 5"
   ]
  },
  {
   "source": [
    "## Η εντολή for"
   ],
   "cell_type": "markdown",
   "metadata": {}
  },
  {
   "cell_type": "code",
   "execution_count": 3,
   "metadata": {},
   "outputs": [
    {
     "output_type": "stream",
     "name": "stdout",
     "text": [
      "0\n1\n2\n3\n4\n5\n6\n7\n8\n9\n"
     ]
    }
   ],
   "source": [
    "# επανάληψη πάνω σε ένα range\n",
    "\n",
    "for x in range(10):\n",
    "    print(x)"
   ]
  },
  {
   "cell_type": "code",
   "execution_count": 10,
   "metadata": {},
   "outputs": [
    {
     "output_type": "stream",
     "name": "stdout",
     "text": [
      "5\n2\n8\n9\n####################\n5\n2\n8\n9\n####################\na1 -> 56\nb2 -> 77\nb4 -> 38\n"
     ]
    }
   ],
   "source": [
    "# επανάληψη πάνω σε μια λίστα, σε μια πλειάδα και σε ένα λεξικό\n",
    "\n",
    "for x in [5,2,8,9]:\n",
    "    print(x)\n",
    "\n",
    "print(\"#\"*20)\n",
    "\n",
    "for x in (5,2,8,9):\n",
    "    print(x)\n",
    "\n",
    "print(\"#\"*20)\n",
    "\n",
    "a_dict = {'a1':56, 'b2':77, 'b4':38}\n",
    "for x in a_dict:\n",
    "    print(x, \"->\", a_dict[x])\n"
   ]
  },
  {
   "cell_type": "code",
   "execution_count": 20,
   "metadata": {},
   "outputs": [
    {
     "output_type": "stream",
     "name": "stdout",
     "text": [
      "56 56\n42 98\n78 176\n"
     ]
    }
   ],
   "source": [
    "# for ... else\n",
    "\n",
    "sum = 0\n",
    "for x in [56, 42, 78, 90]:\n",
    "    sum += x\n",
    "    print(x, sum)\n",
    "    if sum > 100: # αλλάξτε το 100 σε 1000 και θα εμφανιστεί το μήνυμα στην else καθώς θα έχει διανυθεί όλη η λίστα\n",
    "        break\n",
    "else:\n",
    "    print(\"Η επανάληψη 'πέρασε' από όλα τα στοιχεία της λίστας\")"
   ]
  },
  {
   "source": [
    "## Η εντολή while"
   ],
   "cell_type": "markdown",
   "metadata": {}
  },
  {
   "cell_type": "code",
   "execution_count": 11,
   "metadata": {},
   "outputs": [
    {
     "output_type": "stream",
     "name": "stdout",
     "text": [
      "10\n20\n30\n40\n50\n60\n70\n80\n90\n100\n"
     ]
    }
   ],
   "source": [
    "i =10;\n",
    "while i <= 100:\n",
    "    print(i)\n",
    "    i += 10"
   ]
  },
  {
   "cell_type": "code",
   "execution_count": 15,
   "metadata": {},
   "outputs": [
    {
     "output_type": "stream",
     "name": "stdout",
     "text": [
      "10\n20\n30\n40\n60\n70\n80\n"
     ]
    }
   ],
   "source": [
    "# το break και το continue\n",
    "\n",
    "i = 10;\n",
    "while i <= 100:\n",
    "    if i == 50:\n",
    "        i += 10\n",
    "        continue\n",
    "    print(i)\n",
    "    if i == 80:\n",
    "        break\n",
    "    i += 10"
   ]
  },
  {
   "cell_type": "code",
   "execution_count": null,
   "metadata": {},
   "outputs": [],
   "source": []
  }
 ]
}