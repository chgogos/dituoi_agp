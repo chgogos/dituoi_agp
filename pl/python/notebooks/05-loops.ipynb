{
 "cells": [
  {
   "cell_type": "markdown",
   "metadata": {},
   "source": [
    "    Τμήμα Πληροφορικής και Τηλεπικοινωνιών - Άρτα \n",
    "    Πανεπιστήμιο Ιωαννίνων \n",
    "\n",
    "    Γκόγκος Χρήστος \n",
    "    http://chgogos.github.io/\n",
    "    \n",
    "    Τελευταία ενημέρωση: 17/3/2022"
   ]
  },
  {
   "cell_type": "markdown",
   "metadata": {},
   "source": [
    "# Επαναλήψεις\n",
    "\n",
    "for\n",
    "\n",
    "while"
   ]
  },
  {
   "cell_type": "code",
   "execution_count": 11,
   "metadata": {},
   "outputs": [
    {
     "name": "stdout",
     "output_type": "stream",
     "text": [
      "range(0, 10)\n",
      "####################\n",
      "0\n",
      "1\n",
      "2\n",
      "####################\n",
      "0123456789\n",
      "####################\n",
      "0123456789\n",
      "####################\n"
     ]
    }
   ],
   "source": [
    "# Η συνάρτηση range είναι μια γεννήτρια αριθμών\n",
    "\n",
    "print(range(10))  # παράγει τους αριθμούς από 0 μέχρι και 9\n",
    "\n",
    "print(\"#\"*20)\n",
    "\n",
    "a = range(10)\n",
    "itr = iter(a) # χρειαζόμαστε έναν iterator για να διασχίσουμε το range\n",
    "print(next(itr))\n",
    "print(next(itr))\n",
    "print(next(itr))\n",
    "\n",
    "print(\"#\"*20)\n",
    "\n",
    "# άκομψος τρόπος διάσχισης ενός range με while\n",
    "a = range(10) \n",
    "itr = iter(a)\n",
    "while True:\n",
    "    try:\n",
    "        print(next(itr), end=\"\")\n",
    "    except StopIteration:\n",
    "        break    \n",
    "print()\n",
    "\n",
    "print(\"#\"*20)\n",
    "\n",
    "# η for μας επιτρέπει να διασχίσουμε ένα range χωρίς να χρειαστεί να ορίσουμε και να γράψουμε έναν iterator\n",
    "for i in range(10): \n",
    "    print(i, end=\"\")\n",
    "print()\n",
    "\n",
    "print(\"#\"*20)\n",
    "\n",
    "# περισσότερα για τις for και while στη συνέχεια"
   ]
  },
  {
   "cell_type": "code",
   "execution_count": 2,
   "metadata": {},
   "outputs": [
    {
     "name": "stdout",
     "output_type": "stream",
     "text": [
      "[0, 1, 2, 3, 4, 5, 6, 7, 8, 9]\n",
      "[5, 6, 7, 8, 9]\n",
      "[0, 5, 10, 15, 20, 25, 30, 35, 40, 45, 50, 55, 60, 65, 70, 75, 80, 85, 90, 95, 100]\n"
     ]
    }
   ],
   "source": [
    "print(list(range(10)))\n",
    "print(list(range(5, 10)))  # παράγει τους αριθμούς από 5 μέχρι και 9\n",
    "print(list(range(0, 101, 5)))  # παράγει τους αριθμούς από 0 μέχρι και 100 με βήμα 5"
   ]
  },
  {
   "cell_type": "markdown",
   "metadata": {},
   "source": [
    "## Η εντολή for"
   ]
  },
  {
   "cell_type": "code",
   "execution_count": 4,
   "metadata": {},
   "outputs": [
    {
     "name": "stdout",
     "output_type": "stream",
     "text": [
      "0 1 2 3 4 5 6 7 8 9 "
     ]
    }
   ],
   "source": [
    "# επανάληψη σε range\n",
    "\n",
    "for x in range(10):\n",
    "    print(x, end=\" \")"
   ]
  },
  {
   "cell_type": "code",
   "execution_count": 4,
   "metadata": {},
   "outputs": [
    {
     "name": "stdout",
     "output_type": "stream",
     "text": [
      "5\n",
      "2\n",
      "8\n",
      "9\n",
      "####################\n",
      "0 5\n",
      "1 2\n",
      "2 8\n",
      "3 9\n",
      "####################\n",
      "0 5\n",
      "1 2\n",
      "2 8\n",
      "3 9\n"
     ]
    }
   ],
   "source": [
    "# επανάληψη σε λίστα\n",
    "\n",
    "a_list = [5, 2, 8, 9]\n",
    "\n",
    "for x in a_list:\n",
    "    print(x)\n",
    "\n",
    "print(\"#\" * 20)\n",
    "length = len(a_list)\n",
    "for i in range(length):\n",
    "    print(i, a_list[i])\n",
    "\n",
    "print(\"#\" * 20)\n",
    "for i, v in enumerate(a_list):\n",
    "    print(i, v)"
   ]
  },
  {
   "cell_type": "code",
   "execution_count": 6,
   "metadata": {},
   "outputs": [
    {
     "name": "stdout",
     "output_type": "stream",
     "text": [
      "5\n",
      "2\n",
      "8\n",
      "9\n",
      "####################\n",
      "0 5\n",
      "1 2\n",
      "2 8\n",
      "3 9\n",
      "####################\n",
      "0 5\n",
      "1 2\n",
      "2 8\n",
      "3 9\n"
     ]
    }
   ],
   "source": [
    "# επανάληψη σε πλειάδα (ίδια με τις λίστες αλλά είναι immutable)\n",
    "\n",
    "a_tuple = (5, 2, 8, 9)\n",
    "\n",
    "for x in a_tuple:\n",
    "    print(x)\n",
    "\n",
    "print(\"#\" * 20)\n",
    "length = len(a_tuple)\n",
    "for i in range(length):\n",
    "    print(i, a_tuple[i])\n",
    "\n",
    "print(\"#\" * 20)\n",
    "for i, v in enumerate(a_tuple):\n",
    "    print(i, v)"
   ]
  },
  {
   "cell_type": "code",
   "execution_count": 6,
   "metadata": {},
   "outputs": [
    {
     "name": "stdout",
     "output_type": "stream",
     "text": [
      "a1 -> 56\n",
      "b2 -> 77\n",
      "b4 -> 38\n",
      "####################\n",
      "a1\n",
      "b2\n",
      "b4\n",
      "####################\n",
      "56\n",
      "77\n",
      "38\n",
      "####################\n",
      "a1 -> 56\n",
      "b2 -> 77\n",
      "b4 -> 38\n"
     ]
    }
   ],
   "source": [
    "# επανάληψη σε λεξικά\n",
    "\n",
    "a_dict = {\"a1\": 56, \"b2\": 77, \"b4\": 38}\n",
    "\n",
    "for x in a_dict:\n",
    "    print(x, \"->\", a_dict[x])\n",
    "\n",
    "print(\"#\" * 20)\n",
    "for v in a_dict.keys():\n",
    "    print(v)\n",
    "\n",
    "print(\"#\" * 20)\n",
    "for v in a_dict.values():\n",
    "    print(v)\n",
    "\n",
    "print(\"#\" * 20)\n",
    "for key, value in a_dict.items():\n",
    "    print(key, \"->\", value)"
   ]
  },
  {
   "cell_type": "code",
   "execution_count": 8,
   "metadata": {},
   "outputs": [
    {
     "name": "stdout",
     "output_type": "stream",
     "text": [
      "56 56\n",
      "42 98\n",
      "78 176\n"
     ]
    }
   ],
   "source": [
    "# for ... else (αλλάξτε στην if το 100 σε 1000 και θα εμφανιστεί το μήνυμα στην else καθώς θα έχει διανυθεί όλη η λίστα)\n",
    "\n",
    "sum = 0\n",
    "for x in [56, 42, 78, 90]:\n",
    "    sum += x\n",
    "    print(x, sum)\n",
    "    if sum > 100:\n",
    "        break\n",
    "else:\n",
    "    print(\"Η επανάληψη 'πέρασε' από όλα τα στοιχεία της λίστας\")"
   ]
  },
  {
   "cell_type": "code",
   "execution_count": 8,
   "metadata": {},
   "outputs": [
    {
     "name": "stdout",
     "output_type": "stream",
     "text": [
      "[1, 2, 3, 4, 5]\n",
      "[2, 3, 4, 5, 6]\n"
     ]
    }
   ],
   "source": [
    "# ενημέρωση στοιχείων λίστας κατά τη διάσχιση της λίστας\n",
    "\n",
    "a_list = [1, 2, 3, 4, 5]\n",
    "for x in a_list:\n",
    "    x += 1  # τα στοιχεία της λίστας (int) δεν ενημερώνονται διότι είναι immutable\n",
    "print(a_list)\n",
    "\n",
    "a_list = [1, 2, 3, 4, 5]\n",
    "for i in range(len(a_list)):\n",
    "    a_list[i] += 1\n",
    "print(a_list)"
   ]
  },
  {
   "cell_type": "code",
   "execution_count": 9,
   "metadata": {},
   "outputs": [
    {
     "name": "stdout",
     "output_type": "stream",
     "text": [
      "0 0\n",
      "0 1\n",
      "0 2\n",
      "1 0\n",
      "1 1\n",
      "1 2\n",
      "2 0\n",
      "2 1\n",
      "2 2\n"
     ]
    }
   ],
   "source": [
    "# Εμφωλευμένες επαναλήψεις\n",
    "\n",
    "for i in range(3):\n",
    "    for j in range(3):\n",
    "        print(i, j)"
   ]
  },
  {
   "cell_type": "markdown",
   "metadata": {},
   "source": [
    "## Η εντολή while"
   ]
  },
  {
   "cell_type": "code",
   "execution_count": 10,
   "metadata": {},
   "outputs": [
    {
     "name": "stdout",
     "output_type": "stream",
     "text": [
      "10\n",
      "20\n",
      "30\n",
      "40\n",
      "50\n",
      "60\n",
      "70\n",
      "80\n",
      "90\n",
      "100\n"
     ]
    }
   ],
   "source": [
    "i = 10\n",
    "while i <= 100:\n",
    "    print(i)\n",
    "    i += 10"
   ]
  },
  {
   "cell_type": "code",
   "execution_count": 11,
   "metadata": {},
   "outputs": [
    {
     "name": "stdout",
     "output_type": "stream",
     "text": [
      "10\n",
      "20\n",
      "30\n",
      "40\n",
      "60\n",
      "70\n",
      "80\n"
     ]
    }
   ],
   "source": [
    "# το break και το continue\n",
    "\n",
    "i = 10\n",
    "while i <= 100:\n",
    "    if i == 50:\n",
    "        i += 10\n",
    "        continue\n",
    "    print(i)\n",
    "    if i == 80:\n",
    "        break\n",
    "    i += 10"
   ]
  },
  {
   "cell_type": "code",
   "execution_count": 3,
   "metadata": {},
   "outputs": [
    {
     "name": "stdout",
     "output_type": "stream",
     "text": [
      "1 a\n",
      "2 b\n",
      "3 c\n",
      "4 d\n",
      "5 e\n"
     ]
    }
   ],
   "source": [
    "# διάσχιση δύο λιστών μαζί\n",
    "\n",
    "list1 = [1,2,3,4,5]\n",
    "list2 = ['a','b','c','d','e','f']\n",
    "for x, y in zip(list1, list2):\n",
    "    print(x,y)"
   ]
  },
  {
   "cell_type": "code",
   "execution_count": 7,
   "metadata": {},
   "outputs": [
    {
     "name": "stdout",
     "output_type": "stream",
     "text": [
      "1\n",
      "2\n",
      "3\n",
      "4\n",
      "5\n",
      "6\n",
      "[1, 6, 2, 4, 5, 3]\n",
      "########################################\n",
      "6\n",
      "5\n",
      "4\n",
      "3\n",
      "2\n",
      "1\n",
      "[1, 6, 2, 4, 5, 3]\n"
     ]
    }
   ],
   "source": [
    "# ταξινόμηση \"κατά τη διάσχιση\" μιας λίστας\n",
    "\n",
    "list1 = [1,6,2,4,5,3]\n",
    "\n",
    "for i in sorted(list1):\n",
    "    print(i)\n",
    "print(list1)\n",
    "\n",
    "print('#'*40)\n",
    "\n",
    "for i in sorted(list1, reverse=True):\n",
    "    print(i)\n",
    "\n",
    "print(list1)"
   ]
  },
  {
   "cell_type": "code",
   "execution_count": 12,
   "metadata": {},
   "outputs": [
    {
     "name": "stdout",
     "output_type": "stream",
     "text": [
      "6\n",
      "8\n",
      "########################################\n",
      "6\n",
      "8\n"
     ]
    }
   ],
   "source": [
    "# διάσχιση σε επιλέγμένα μόνο στοιχεία μιας λίστας\n",
    "\n",
    "list1 = [1,2,3,4,5,6,7,8,9]\n",
    "\n",
    "for x in filter(lambda i: i%2==0 and i > 5, list1): # με filter\n",
    "    print(x)\n",
    "\n",
    "print('#'*40)\n",
    "\n",
    "for x in [i for i in list1 if i%2==0 and i > 5]: # με list comprehension\n",
    "    print(x)"
   ]
  },
  {
   "cell_type": "code",
   "execution_count": null,
   "metadata": {},
   "outputs": [],
   "source": []
  }
 ],
 "metadata": {
  "interpreter": {
   "hash": "f40a6e13c37d34a8e08b5b5c92d22f0cb84668e50c3976fc188360a208488fc1"
  },
  "kernelspec": {
   "display_name": "Python 3.8.0 64-bit ('3.8.0-amd64': pyenv)",
   "language": "python",
   "name": "python3"
  },
  "language_info": {
   "codemirror_mode": {
    "name": "ipython",
    "version": 3
   },
   "file_extension": ".py",
   "mimetype": "text/x-python",
   "name": "python",
   "nbconvert_exporter": "python",
   "pygments_lexer": "ipython3",
   "version": "3.8.8"
  }
 },
 "nbformat": 4,
 "nbformat_minor": 2
}
