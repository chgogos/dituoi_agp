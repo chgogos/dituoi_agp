{
 "cells": [
  {
   "cell_type": "markdown",
   "metadata": {},
   "source": [
    "    Τμήμα Πληροφορικής και Τηλεπικοινωνιών - Άρτα \n",
    "    Πανεπιστήμιο Ιωαννίνων \n",
    "\n",
    "    Γκόγκος Χρήστος \n",
    "    http://chgogos.github.io/\n",
    "    \n",
    "    Τελευταία ενημέρωση: 9/3/2022"
   ]
  },
  {
   "cell_type": "markdown",
   "metadata": {},
   "source": [
    "# Compehensions\n",
    "Τα compehensions (περιφραστικές λίστες) αποτελούν \"έξυπνους\" τρόπους δημιουργίας λιστών, λεξικών και συνόλων σε μια γραμμή κώδικα."
   ]
  },
  {
   "cell_type": "markdown",
   "metadata": {},
   "source": [
    "## List comprehensions\n",
    "\n",
    "Ένα list comprehension παράγει με μια γραμμή μια λίστα. Οποιοδήποτε list comprehension μπορεί να γραφεί ισοδύναμα χρησιμοποιώντας for.\n",
    "\n",
    "Γενική μορφή των list comprehensions:\n",
    "\n",
    "    [expr for val in collection if <test>]"
   ]
  },
  {
   "cell_type": "code",
   "execution_count": 2,
   "metadata": {},
   "outputs": [
    {
     "name": "stdout",
     "output_type": "stream",
     "text": [
      "[0, 1, 4, 9, 16, 25, 36, 49, 64, 81]\n",
      "[0, 1, 2, 3, 4, 5, 6, 7, 8, 9]\n"
     ]
    }
   ],
   "source": [
    "# δημιουργία λίστας των ακεραίων από 0 μέχρι και 9 με comprehension\n",
    "\n",
    "a_list = [i for i in range(10)]\n",
    "print(a_list)\n",
    "\n",
    "# δημιουργία λίστας των ακεραίων από 0 μέχρι και 9 με for\n",
    "b_list = list()\n",
    "for i in range(10):\n",
    "    b_list.append(i)\n",
    "print(b_list)"
   ]
  },
  {
   "cell_type": "code",
   "execution_count": 2,
   "metadata": {},
   "outputs": [
    {
     "data": {
      "text/plain": [
       "[8, 6, 5, 4, 12, 5]"
      ]
     },
     "execution_count": 2,
     "metadata": {},
     "output_type": "execute_result"
    }
   ],
   "source": [
    "# δημιουργία λίστας με το μήκος κάθε ονόματος\n",
    "\n",
    "a_list = [\"nikolaos\", \"petros\", \"maria\", \"aris\", \"konstantinos\", \"eleni\"]\n",
    "[len(x) for x in a_list]"
   ]
  },
  {
   "cell_type": "code",
   "execution_count": 3,
   "metadata": {},
   "outputs": [
    {
     "data": {
      "text/plain": [
       "['petros', 'maria', 'aris', 'eleni']"
      ]
     },
     "execution_count": 3,
     "metadata": {},
     "output_type": "execute_result"
    }
   ],
   "source": [
    "# δημιουργία λίστας με τα ονόματα με λιγότερους από 7 χαρακτήρες\n",
    "\n",
    "a_list = [\"nikolaos\", \"petros\", \"maria\", \"aris\", \"konstantinos\", \"eleni\"]\n",
    "[x for x in a_list if len(x) < 7]"
   ]
  },
  {
   "cell_type": "code",
   "execution_count": 4,
   "metadata": {},
   "outputs": [
    {
     "data": {
      "text/plain": [
       "['a', 'r', 't', 'a']"
      ]
     },
     "execution_count": 4,
     "metadata": {},
     "output_type": "execute_result"
    }
   ],
   "source": [
    "[c for c in \"arta\"]"
   ]
  },
  {
   "cell_type": "code",
   "execution_count": 5,
   "metadata": {},
   "outputs": [
    {
     "data": {
      "text/plain": [
       "[5, 10, 15]"
      ]
     },
     "execution_count": 5,
     "metadata": {},
     "output_type": "execute_result"
    }
   ],
   "source": [
    "# Πολλαπλασιασμός κάθε στοιχείου μιας λίστα με μια βαθμωτή τιμή\n",
    "a_list = [1, 2, 3]\n",
    "a_scalar = 5\n",
    "[a_scalar * x for x in a_list]"
   ]
  },
  {
   "cell_type": "code",
   "execution_count": 6,
   "metadata": {},
   "outputs": [
    {
     "data": {
      "text/plain": [
       "[(1, 'a'),\n",
       " (1, 'b'),\n",
       " (1, 'c'),\n",
       " (1, 'd'),\n",
       " (2, 'a'),\n",
       " (2, 'b'),\n",
       " (2, 'c'),\n",
       " (2, 'd'),\n",
       " (3, 'a'),\n",
       " (3, 'b'),\n",
       " (3, 'c'),\n",
       " (3, 'd')]"
      ]
     },
     "execution_count": 6,
     "metadata": {},
     "output_type": "execute_result"
    }
   ],
   "source": [
    "# Καρτεσιανό γινόμενο δύο λιστών\n",
    "\n",
    "a_list = [1, 2, 3]\n",
    "b_list = [\"a\", \"b\", \"c\", \"d\"]\n",
    "\n",
    "[(x, y) for x in a_list for y in b_list]"
   ]
  },
  {
   "cell_type": "code",
   "execution_count": 7,
   "metadata": {},
   "outputs": [
    {
     "data": {
      "text/plain": [
       "[[1, 4], [2, 5], [3, 6]]"
      ]
     },
     "execution_count": 7,
     "metadata": {},
     "output_type": "execute_result"
    }
   ],
   "source": [
    "# Υπολογισμός ανάστροφου ενός πίνακα με nested list comprehension\n",
    "# 1 2 3    1 4\n",
    "# 4 5 5 => 2 5\n",
    "#          3 6\n",
    "\n",
    "a = [[1, 2, 3], [4, 5, 6]]\n",
    "a_tr = [[row[i] for row in a] for i in range(3)]\n",
    "a_tr"
   ]
  },
  {
   "cell_type": "markdown",
   "metadata": {},
   "source": [
    "## Dictionary comprehensions\n",
    "Τα dictionary comprehensions λειτουργούν παρόμοια με τα list comprehensions αλλά χρησιμοποιούνται οι αγκύλες των λεξικών."
   ]
  },
  {
   "cell_type": "code",
   "execution_count": 8,
   "metadata": {},
   "outputs": [
    {
     "data": {
      "text/plain": [
       "{0: 0, 1: 0, 2: 0, 3: 0, 4: 0}"
      ]
     },
     "execution_count": 8,
     "metadata": {},
     "output_type": "execute_result"
    }
   ],
   "source": [
    "{i: 0 for i in range(5)}"
   ]
  },
  {
   "cell_type": "code",
   "execution_count": 9,
   "metadata": {},
   "outputs": [
    {
     "data": {
      "text/plain": [
       "{'001': 'abc', '002': 'def', '003': 'efg'}"
      ]
     },
     "execution_count": 9,
     "metadata": {},
     "output_type": "execute_result"
    }
   ],
   "source": [
    "# αντιστροφή ενός λεξικού\n",
    "\n",
    "a_dict = {\"abc\": \"001\", \"def\": \"002\", \"efg\": \"003\"}\n",
    "{v: k for k, v in a_dict.items()}"
   ]
  },
  {
   "cell_type": "markdown",
   "metadata": {},
   "source": [
    "## Set comprehensions\n"
   ]
  },
  {
   "cell_type": "code",
   "execution_count": 10,
   "metadata": {},
   "outputs": [
    {
     "data": {
      "text/plain": [
       "{1, 2, 3, 4, 5, 6, 7, 8, 9}"
      ]
     },
     "execution_count": 10,
     "metadata": {},
     "output_type": "execute_result"
    }
   ],
   "source": [
    "# αφαίρεση διπλότυπων από τη λίστα (τα στοιχεία της λίστας τοποθετούνται σε σύνολο, τα σύνολα δεν επιτρέπουν διπλότυπα).\n",
    "\n",
    "a_list = [1, 2, 3, 4, 4, 5, 5, 6, 7, 7, 8, 8, 9]\n",
    "{x for x in a_list}"
   ]
  }
 ],
 "metadata": {
  "kernelspec": {
   "display_name": "Python 3",
   "language": "python",
   "name": "python3"
  },
  "language_info": {
   "codemirror_mode": {
    "name": "ipython",
    "version": 3
   },
   "file_extension": ".py",
   "mimetype": "text/x-python",
   "name": "python",
   "nbconvert_exporter": "python",
   "pygments_lexer": "ipython3",
   "version": "3.8.0"
  }
 },
 "nbformat": 4,
 "nbformat_minor": 2
}
