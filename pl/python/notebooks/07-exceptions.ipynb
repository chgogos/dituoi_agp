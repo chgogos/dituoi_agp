{
 "metadata": {
  "language_info": {
   "codemirror_mode": {
    "name": "ipython",
    "version": 3
   },
   "file_extension": ".py",
   "mimetype": "text/x-python",
   "name": "python",
   "nbconvert_exporter": "python",
   "pygments_lexer": "ipython3",
   "version": "3.8.0"
  },
  "orig_nbformat": 2,
  "kernelspec": {
   "name": "python3",
   "display_name": "Python 3.8.0 64-bit ('3.8.0-amd64': pyenv)",
   "metadata": {
    "interpreter": {
     "hash": "2334294e789e06453e89f7d5c3c2573679701f9bb5b76ad2158f91cca5c9244c"
    }
   }
  }
 },
 "nbformat": 4,
 "nbformat_minor": 2,
 "cells": [
  {
   "source": [
    "# Εξαιρέσεις (exceptions)\n",
    "\n",
    "Οι εξαιρέσεις συνιστούν \"μη κανονικής\" καταστάσεις κατά την εκτέλεση του προγράμματος οι οποίες μπορούν ωστόσο να συμβούν (π.χ. προσπάθεια ανοίγματος αρχείου που δεν υπάρχει).\n",
    "\n",
    "Ο χειρισμός των εξαιρέσεων στην Python γίνεται με προτάσεις try/except/finally\n",
    "\n",
    "Παραδείγματα συνηθισμένων εξαιρέσεων:\n",
    "* AttributeError\n",
    "* Exception\n",
    "* ImportError\n",
    "* IndexError\n",
    "* IOError\n",
    "* KeyError\n",
    "* NameError\n",
    "* TypeError\n",
    "* ValueError\n",
    "* ZeroDivisionError\n",
    "\n",
    "Πλήρης λίστα των εξαιρέσεων μπορεί να βρεθεί στην [τεκμηρίωση της γλώσσας](https://docs.python.org/3/library/exceptions.html)."
   ],
   "cell_type": "code",
   "metadata": {},
   "execution_count": null,
   "outputs": []
  },
  {
   "cell_type": "code",
   "execution_count": 35,
   "metadata": {},
   "outputs": [
    {
     "output_type": "stream",
     "name": "stdout",
     "text": [
      "Διαίρεση με το μηδέν\nΣυνέχεια\n"
     ]
    }
   ],
   "source": [
    "try:\n",
    "    x = 1 / 0\n",
    "except ZeroDivisionError:\n",
    "    print(\"Διαίρεση με το μηδέν\")\n",
    "print(\"Συνέχεια\")"
   ]
  },
  {
   "cell_type": "code",
   "execution_count": 36,
   "metadata": {},
   "outputs": [
    {
     "output_type": "stream",
     "name": "stdout",
     "text": [
      "Δείκτης εκτός ορίων λίστας\nΣυνέχεια\n"
     ]
    }
   ],
   "source": [
    "a_list = [1,2,3]\n",
    "try:\n",
    "    a_list[10]\n",
    "except IndexError:\n",
    "    print(\"Δείκτης εκτός ορίων λίστας\")\n",
    "print(\"Συνέχεια\")"
   ]
  },
  {
   "cell_type": "code",
   "execution_count": 37,
   "metadata": {},
   "outputs": [
    {
     "output_type": "stream",
     "name": "stdout",
     "text": [
      "Αναφορά σε κλειδί που δεν υπάρχει στο λεξικό\nΣυνέχεια\n"
     ]
    }
   ],
   "source": [
    "a_dict = {'a': 1, 'b': 5}\n",
    "try:\n",
    "    x = a_dict['c']\n",
    "except KeyError:\n",
    "    print(\"Αναφορά σε κλειδί που δεν υπάρχει στο λεξικό\")\n",
    "print(\"Συνέχεια\")"
   ]
  },
  {
   "cell_type": "code",
   "execution_count": 38,
   "metadata": {},
   "outputs": [
    {
     "output_type": "stream",
     "name": "stdout",
     "text": [
      "Δείκτης εκτός ορίων λίστας\nΣυνέχεια\n"
     ]
    }
   ],
   "source": [
    "a_list = [1,2,3]\n",
    "a_dict = {'a': 1, 'b': 5}\n",
    "try:\n",
    "    a_list[10]\n",
    "    x = a_dict['c']\n",
    "    x = 1/0\n",
    "except IndexError:\n",
    "    print(\"Δείκτης εκτός ορίων λίστας\")\n",
    "except KeyError:\n",
    "    print(\"Αναφορά σε κλειδί που δεν υπάρχει στο λεξικό\")\n",
    "except:\n",
    "    print(\"Λάθος\")\n",
    "print(\"Συνέχεια\")"
   ]
  },
  {
   "cell_type": "code",
   "execution_count": 39,
   "metadata": {},
   "outputs": [
    {
     "output_type": "stream",
     "name": "stdout",
     "text": [
      "Λάθος\nΣυνέχεια\n"
     ]
    }
   ],
   "source": [
    "a_list = [1,2,3]\n",
    "a_dict = {'a': 1, 'b': 5}\n",
    "try:\n",
    "    a_list[10]\n",
    "    x = a_dict['c']\n",
    "    x = 1/0\n",
    "except (IndexError, KeyError, ZeroDivisionError):\n",
    "    print(\"Λάθος\")\n",
    "print(\"Συνέχεια\")"
   ]
  },
  {
   "cell_type": "code",
   "execution_count": 40,
   "metadata": {},
   "outputs": [
    {
     "output_type": "stream",
     "name": "stdout",
     "text": [
      "Δείκτης εκτός ορίων λίστας\nΕντολές εκκαθάρισης\nΣυνέχεια\n"
     ]
    }
   ],
   "source": [
    "# try/except/finally\n",
    "# Oι εντολές στο finally εκτελούνται αν συμβεί exception. Αν δεν συμβεί exception τότε δεν εκτελούνται οι εντολές στο finally\n",
    "\n",
    "a_list = [1,2,3]\n",
    "try:\n",
    "    a_list[10]\n",
    "except IndexError:\n",
    "    print(\"Δείκτης εκτός ορίων λίστας\")\n",
    "finally:\n",
    "    print(\"Εντολές εκκαθάρισης\")\n",
    "print(\"Συνέχεια\")"
   ]
  },
  {
   "cell_type": "code",
   "execution_count": 42,
   "metadata": {},
   "outputs": [
    {
     "output_type": "stream",
     "name": "stdout",
     "text": [
      "Όλα εντάξει\nΕντολές εκκαθάρισης\nΣυνέχεια\n"
     ]
    }
   ],
   "source": [
    "# try/except/else/finally\n",
    "# οι εντολές στο else εκτελούνται αν δεν συμβεί exception (σε αυτή την περίπτωση θα εκτελεστούν και οι εντολές του finally)\n",
    "\n",
    "a_list = [1,2,3]\n",
    "try:\n",
    "    a_list[1]\n",
    "except IndexError:\n",
    "    print(\"Δείκτης εκτός ορίων λίστας\")\n",
    "else:\n",
    "    print(\"Όλα εντάξει\")\n",
    "finally:\n",
    "    print(\"Εντολές εκκαθάρισης\")\n",
    "print(\"Συνέχεια\")"
   ]
  },
  {
   "cell_type": "code",
   "execution_count": null,
   "metadata": {},
   "outputs": [],
   "source": []
  }
 ]
}