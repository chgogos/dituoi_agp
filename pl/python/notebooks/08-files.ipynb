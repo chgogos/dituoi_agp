{
 "cells": [
  {
   "cell_type": "markdown",
   "metadata": {},
   "source": [
    "    Τμήμα Πληροφορικής και Τηλεπικοινωνιών - Άρτα \n",
    "    Πανεπιστήμιο Ιωαννίνων \n",
    "\n",
    "    Γκόγκος Χρήστος \n",
    "    http://chgogos.github.io/\n",
    "    \n",
    "    Τελευταία ενημέρωση: 20/3/2022"
   ]
  },
  {
   "cell_type": "markdown",
   "metadata": {},
   "source": [
    "# Αρχεία"
   ]
  },
  {
   "cell_type": "markdown",
   "metadata": {},
   "source": [
    "## Αρχεία κειμένου"
   ]
  },
  {
   "cell_type": "code",
   "execution_count": 25,
   "metadata": {},
   "outputs": [
    {
     "name": "stdout",
     "output_type": "stream",
     "text": [
      "Lorem ipsum dolor sit amet, consectetur adipiscing elit,sed do eiusmod tempor incididunt ut labore et dolore magna aliqua. \n",
      "Ut enim ad minim veniam, quis nostrud exercitation ullamco laboris nisi ut aliquip ex ea commodo consequat. \n",
      "Duis aute irure dolor in reprehenderit in voluptate velit esse cillum dolore eu fugiat nulla pariatur. \n",
      "Excepteur sint occaecat cupidatat non proident, sunt in culpa qui officia deserunt mollit anim id est laborum.\n",
      "\n"
     ]
    }
   ],
   "source": [
    "# Ανάγνωση όλων των περιεχομένων του αρχείου\n",
    "f = open(\"../../../datasets/dummy.txt\", \"r\")\n",
    "text = f.read()\n",
    "print(text)\n",
    "f.close()\n"
   ]
  },
  {
   "cell_type": "code",
   "execution_count": 26,
   "metadata": {},
   "outputs": [
    {
     "name": "stdout",
     "output_type": "stream",
     "text": [
      "Lorem ipsum dolor sit amet, consectetur adipiscing elit,sed do eiusmod tempor incididunt ut labore et dolore magna aliqua. \n",
      "\n"
     ]
    }
   ],
   "source": [
    "# Ανάγνωση μιας γραμμής του αρχείου\n",
    "f = open(\"../../../datasets/dummy.txt\", \"r\")\n",
    "line = f.readline()\n",
    "print(line)\n",
    "f.close()\n"
   ]
  },
  {
   "cell_type": "code",
   "execution_count": 27,
   "metadata": {},
   "outputs": [
    {
     "name": "stdout",
     "output_type": "stream",
     "text": [
      "['Lorem ipsum dolor sit amet, consectetur adipiscing elit,sed do eiusmod tempor incididunt ut labore et dolore magna aliqua. \\n', 'Ut enim ad minim veniam, quis nostrud exercitation ullamco laboris nisi ut aliquip ex ea commodo consequat. \\n', 'Duis aute irure dolor in reprehenderit in voluptate velit esse cillum dolore eu fugiat nulla pariatur. \\n', 'Excepteur sint occaecat cupidatat non proident, sunt in culpa qui officia deserunt mollit anim id est laborum.\\n']\n"
     ]
    }
   ],
   "source": [
    "# Ανάγνωση όλων των γραμμών του αρχείου και τοποθέτησή τους σε λίστα\n",
    "f = open(\"../../../datasets/dummy.txt\", \"r\")\n",
    "lines = f.readlines()\n",
    "print(lines)\n",
    "f.close()\n"
   ]
  },
  {
   "cell_type": "code",
   "execution_count": 28,
   "metadata": {},
   "outputs": [
    {
     "name": "stdout",
     "output_type": "stream",
     "text": [
      "Lorem ipsum dolor sit amet, consectetur adipiscing elit,sed do eiusmod tempor incididunt ut labore et dolore magna aliqua. \n",
      "Ut enim ad minim veniam, quis nostrud exercitation ullamco laboris nisi ut aliquip ex ea commodo consequat. \n",
      "Duis aute irure dolor in reprehenderit in voluptate velit esse cillum dolore eu fugiat nulla pariatur. \n",
      "Excepteur sint occaecat cupidatat non proident, sunt in culpa qui officia deserunt mollit anim id est laborum.\n"
     ]
    }
   ],
   "source": [
    "# Ανάγνωση γραμμή προς γραμμή ενός αρχείου\n",
    "f = open(\"../../../datasets/dummy.txt\", \"r\")\n",
    "for line in f:\n",
    "    print(line, end=\"\")\n",
    "f.close()\n"
   ]
  },
  {
   "cell_type": "code",
   "execution_count": 29,
   "metadata": {},
   "outputs": [
    {
     "name": "stdout",
     "output_type": "stream",
     "text": [
      "This is a test\n",
      "This is another test\n",
      "Ελληνικά\n",
      "########################################\n",
      "This is a test\n",
      "This is another test\n",
      "Ελληνικά\n",
      "This is yet another test\n"
     ]
    }
   ],
   "source": [
    "# εγγραφή δεδομένων σε αρχείο\n",
    "f = open(\"test.txt\", \"w\", encoding=\"utf-8\")\n",
    "f.write(\"This is a test\\n\")\n",
    "f.write(\"This is another test\\n\")\n",
    "f.write(\"Ελληνικά\\n\")\n",
    "f.close()\n",
    "\n",
    "f = open(\"test.txt\", \"r\", encoding=\"utf-8\")\n",
    "for line in f:\n",
    "    print(line, end=\"\")\n",
    "f.close()\n",
    "\n",
    "print(\"#\" * 40)\n",
    "\n",
    "# προσθήκη δεδομένων σε αρχείο (χωρίς διαγραφή των περιεχομένων που ήδη έχει)\n",
    "f = open(\"test.txt\", \"a\", encoding=\"utf-8\")\n",
    "f.write(\"This is yet another test\\n\")\n",
    "f.close()\n",
    "\n",
    "f = open(\"test.txt\", \"r\", encoding=\"utf-8\")\n",
    "for line in f:\n",
    "    print(line, end=\"\")\n",
    "f.close()\n"
   ]
  },
  {
   "cell_type": "code",
   "execution_count": 30,
   "metadata": {},
   "outputs": [
    {
     "name": "stdout",
     "output_type": "stream",
     "text": [
      "Lorem ipsum dolor sit amet, consectetur adipiscing elit,sed do eiusmod tempor incididunt ut labore et dolore magna aliqua. \n",
      "Ut enim ad minim veniam, quis nostrud exercitation ullamco laboris nisi ut aliquip ex ea commodo consequat. \n",
      "Duis aute irure dolor in reprehenderit in voluptate velit esse cillum dolore eu fugiat nulla pariatur. \n",
      "Excepteur sint occaecat cupidatat non proident, sunt in culpa qui officia deserunt mollit anim id est laborum.\n"
     ]
    }
   ],
   "source": [
    "# Άνοιγμα αρχείου με το with και αυτόματο κλείσιμο του αρχείου\n",
    "\n",
    "with open(\"../../../datasets/dummy.txt\", \"r\") as f:\n",
    "    for line in f:\n",
    "        print(line, end=\"\")\n"
   ]
  },
  {
   "cell_type": "code",
   "execution_count": 31,
   "metadata": {},
   "outputs": [
    {
     "name": "stdout",
     "output_type": "stream",
     "text": [
      "Lorem ipsum dolor sit amet, consectetur adipiscing elit,sed do eiusmod tempor incididunt ut labore et dolore magna aliqua. \n",
      "Ut enim ad minim veniam, quis nostrud exercitation ullamco laboris nisi ut aliquip ex ea commodo consequat. \n",
      "Duis aute irure dolor in reprehenderit in voluptate velit esse cillum dolore eu fugiat nulla pariatur. \n",
      "Excepteur sint occaecat cupidatat non proident, sunt in culpa qui officia deserunt mollit anim id est laborum.\n",
      "\n",
      "452\n",
      "Θέση 0 χαρακτήρας L\n",
      "Θέση 40 χαρακτήρας a\n",
      "Θέση 80 χαρακτήρας c\n",
      "Θέση 120 χαρακτήρας a\n",
      "Θέση 160 χαρακτήρας u\n",
      "Θέση 200 χαρακτήρας a\n",
      "Θέση 240 χαρακτήρας a\n",
      "Θέση 280 χαρακτήρας u\n",
      "Θέση 320 χαρακτήρας t\n",
      "Θέση 360 χαρακτήρας c\n",
      "Θέση 400 χαρακτήρας a\n",
      "Θέση 440 χαρακτήρας t\n"
     ]
    }
   ],
   "source": [
    "# Μετακίνηση στο αρχείο (εμφάνιση ενός χαρακτήρα ανά 40 χαρακτήρες)\n",
    "\n",
    "with open(\"../../../datasets/dummy.txt\", \"r\") as f:\n",
    "    txt = f.read()\n",
    "    print(txt)\n",
    "    n = f.tell() # θέση στο αρχείο στην οποία βρισκόμαστε (στην τελευταία)\n",
    "    print(n)\n",
    "    \n",
    "    pos = 0\n",
    "    f.seek(pos) # επιστροφή στην αρχή του κειμένου\n",
    "    while True:\n",
    "        current_pos = f.tell()\n",
    "        c = f.read(1)\n",
    "        print(f'Θέση {current_pos} χαρακτήρας {c}') # η tell επιστρέφει τη θέση μέσα στο αρχείο\n",
    "        pos += 40\n",
    "        if pos>=n:\n",
    "            break\n",
    "        f.seek(pos)\n",
    "        "
   ]
  },
  {
   "cell_type": "code",
   "execution_count": 32,
   "metadata": {},
   "outputs": [
    {
     "name": "stdout",
     "output_type": "stream",
     "text": [
      "Το αρχείο ../../../datasets/dummyy.txt δεν βρέθηκε\n"
     ]
    }
   ],
   "source": [
    "# Χειρισμός αποτυχίας ανοίγματος αρχείου\n",
    "\n",
    "filename = \"../../../datasets/dummyy.txt\"\n",
    "try:\n",
    "    with open(filename, \"r\") as f:\n",
    "        for line in f:\n",
    "            print(line)\n",
    "except IOError:\n",
    "    print(f\"Το αρχείο {filename} δεν βρέθηκε\")\n"
   ]
  },
  {
   "cell_type": "markdown",
   "metadata": {},
   "source": [
    "### Σύνοψη 4 διαφορετικών τρόπων ανάγνωσης αρχείων κειμένου"
   ]
  },
  {
   "cell_type": "code",
   "execution_count": 33,
   "metadata": {},
   "outputs": [
    {
     "name": "stdout",
     "output_type": "stream",
     "text": [
      "Lorem ipsum dolor sit amet, consectetur adipiscing elit,sed do eiusmod tempor incididunt ut labore et dolore magna aliqua. \n",
      "Ut enim ad minim veniam, quis nostrud exercitation ullamco laboris nisi ut aliquip ex ea commodo consequat. \n",
      "Duis aute irure dolor in reprehenderit in voluptate velit esse cillum dolore eu fugiat nulla pariatur. \n",
      "Excepteur sint occaecat cupidatat non proident, sunt in culpa qui officia deserunt mollit anim id est laborum.\n",
      "########################################\n",
      "Lorem ipsum dolor sit amet, consectetur adipiscing elit,sed do eiusmod tempor incididunt ut labore et dolore magna aliqua. \n",
      "Ut enim ad minim veniam, quis nostrud exercitation ullamco laboris nisi ut aliquip ex ea commodo consequat. \n",
      "Duis aute irure dolor in reprehenderit in voluptate velit esse cillum dolore eu fugiat nulla pariatur. \n",
      "Excepteur sint occaecat cupidatat non proident, sunt in culpa qui officia deserunt mollit anim id est laborum.\n",
      "########################################\n",
      "Lorem ipsum dolor sit amet, consectetur adipiscing elit,sed do eiusmod tempor incididunt ut labore et dolore magna aliqua. \n",
      "Ut enim ad minim veniam, quis nostrud exercitation ullamco laboris nisi ut aliquip ex ea commodo consequat. \n",
      "Duis aute irure dolor in reprehenderit in voluptate velit esse cillum dolore eu fugiat nulla pariatur. \n",
      "Excepteur sint occaecat cupidatat non proident, sunt in culpa qui officia deserunt mollit anim id est laborum.\n",
      "########################################\n",
      "Lorem ipsum dolor sit amet, consectetur adipiscing elit,sed do eiusmod tempor incididunt ut labore et dolore magna aliqua. \n",
      "Ut enim ad minim veniam, quis nostrud exercitation ullamco laboris nisi ut aliquip ex ea commodo consequat. \n",
      "Duis aute irure dolor in reprehenderit in voluptate velit esse cillum dolore eu fugiat nulla pariatur. \n",
      "Excepteur sint occaecat cupidatat non proident, sunt in culpa qui officia deserunt mollit anim id est laborum.\n",
      "########################################\n"
     ]
    }
   ],
   "source": [
    "# 1ος τρόπος\n",
    "with open(\"../../../datasets/dummy.txt\") as f: # η προκαθορισμένη τιμή του mode είναι r (άνοιγμα για ανάγνωση)\n",
    "    text = f.read()  # ανάγνωση όλων των περιεχομένων του κειμένου\n",
    "print(text, end=\"\")\n",
    "\n",
    "print(\"#\" * 40)\n",
    "\n",
    "# 2ος τρόπος\n",
    "with open(\"../../../datasets/dummy.txt\") as f:\n",
    "    line = f.readline() # ανάγνωση γραμμή προς γραμμή\n",
    "    while line:\n",
    "        print(line, end=\"\")\n",
    "        line = f.readline()\n",
    "\n",
    "print(\"#\" * 40)\n",
    "\n",
    "# 3ος τρόπος\n",
    "with open(\"../../../datasets/dummy.txt\") as f:\n",
    "    for line in f: # ανάγνωση γραμμή προς γραμμή με συνοπτικότερο τρόπο\n",
    "        print(line, end=\"\")\n",
    "\n",
    "print(\"#\" * 40)\n",
    "\n",
    "# 4ος τρόπος\n",
    "with open(\"../../../datasets/dummy.txt\") as f:\n",
    "    for line in f.readlines():  # τοποθέτηση κάθε γραμμής του κειμένου σε λίστα και διάσχιση της λίστας\n",
    "        print(line, end=\"\")\n",
    "\n",
    "print(\"#\" * 40)\n"
   ]
  },
  {
   "cell_type": "markdown",
   "metadata": {},
   "source": [
    "## Δυαδικά αρχεία"
   ]
  },
  {
   "cell_type": "code",
   "execution_count": 34,
   "metadata": {},
   "outputs": [
    {
     "name": "stdout",
     "output_type": "stream",
     "text": [
      "b'\\xff'\n",
      "b'\\xd8'\n",
      "b'\\xff'\n",
      "b'\\xe0'\n",
      "b'\\x00'\n",
      "b'\\x10'\n",
      "b'J'\n",
      "b'F'\n",
      "b'I'\n",
      "b'F'\n",
      "b'\\x00'\n"
     ]
    }
   ],
   "source": [
    "# Ανάγνωση των πρώτων 10 bytes ενός δυαδικού αρχείου εικόνας\n",
    "with open(\"../../../resources/cleese-silly-walks1.jpg\", \"rb\") as f:\n",
    "    c = 0\n",
    "    byte = f.read(1)\n",
    "    while byte:\n",
    "        print(byte)\n",
    "        c += 1\n",
    "        if c > 10:\n",
    "            break\n",
    "        byte = f.read(1)"
   ]
  },
  {
   "cell_type": "code",
   "execution_count": 35,
   "metadata": {},
   "outputs": [
    {
     "name": "stdout",
     "output_type": "stream",
     "text": [
      "bytearray(b'\\xff\\xd8\\xff\\xe0\\x00\\x10JFIF\\x00')\n"
     ]
    }
   ],
   "source": [
    "# Ανάγνωση των πρώτων 10 bytes ενός δυαδικού αρχείου εικόνας και τοποθέτηση σε bytearray\n",
    "with open(\"../../../resources/cleese-silly-walks1.jpg\", \"rb\") as f:\n",
    "    mybytearray = bytearray()\n",
    "    c = 0\n",
    "    mybytearray += f.read(1)\n",
    "    while True:\n",
    "        c += 1\n",
    "        if c > 10:\n",
    "            break\n",
    "        mybytearray += f.read(1)\n",
    "print(mybytearray)"
   ]
  },
  {
   "cell_type": "code",
   "execution_count": null,
   "metadata": {},
   "outputs": [],
   "source": []
  }
 ],
 "metadata": {
  "kernelspec": {
   "display_name": "Python 3",
   "language": "python",
   "name": "python3"
  },
  "language_info": {
   "codemirror_mode": {
    "name": "ipython",
    "version": 3
   },
   "file_extension": ".py",
   "mimetype": "text/x-python",
   "name": "python",
   "nbconvert_exporter": "python",
   "pygments_lexer": "ipython3",
   "version": "3.8.8"
  }
 },
 "nbformat": 4,
 "nbformat_minor": 2
}
