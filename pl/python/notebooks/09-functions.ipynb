{
 "cells": [
  {
   "cell_type": "markdown",
   "metadata": {},
   "source": [
    "    Τμήμα Πληροφορικής και Τηλεπικοινωνιών - Άρτα \n",
    "    Πανεπιστήμιο Ιωαννίνων \n",
    "\n",
    "    Γκόγκος Χρήστος \n",
    "    http://chgogos.github.io/\n",
    "    \n",
    "    Τελευταία ενημέρωση: 9/3/2022"
   ]
  },
  {
   "cell_type": "markdown",
   "metadata": {},
   "source": [
    "# Συναρτήσεις"
   ]
  },
  {
   "cell_type": "code",
   "execution_count": 8,
   "metadata": {},
   "outputs": [
    {
     "name": "stdout",
     "output_type": "stream",
     "text": [
      "hi\n"
     ]
    }
   ],
   "source": [
    "# Απλή συνάρτηση χωρίς ορίσματα\n",
    "\n",
    "\n",
    "def fun():\n",
    "    print(\"hi\")\n",
    "\n",
    "\n",
    "fun()"
   ]
  },
  {
   "cell_type": "code",
   "execution_count": 9,
   "metadata": {},
   "outputs": [],
   "source": [
    "# Κενή συνάρτηση (σηματοδοτεί ότι πρόκειται να συμπληρωθεί αργότερα)\n",
    "\n",
    "\n",
    "def fun():\n",
    "    pass\n",
    "\n",
    "\n",
    "fun()"
   ]
  },
  {
   "cell_type": "code",
   "execution_count": 10,
   "metadata": {},
   "outputs": [],
   "source": [
    "# Κενή συνάρτηση - β' τρόπος (σηματοδοτεί ότι πρόκειται να συμπληρωθεί αργότερα)\n",
    "\n",
    "def fun():\n",
    "    ...\n",
    "\n",
    "fun()"
   ]
  },
  {
   "cell_type": "code",
   "execution_count": 11,
   "metadata": {},
   "outputs": [
    {
     "data": {
      "text/plain": [
       "5050"
      ]
     },
     "execution_count": 11,
     "metadata": {},
     "output_type": "execute_result"
    }
   ],
   "source": [
    "# Συναρτήσεις με ορίσματα\n",
    "\n",
    "def fun(x, y):\n",
    "    sum = 0\n",
    "    for i in range(x, y):\n",
    "        sum += i\n",
    "    return sum + y\n",
    "\n",
    "\n",
    "fun(1, 100)"
   ]
  },
  {
   "cell_type": "code",
   "execution_count": 12,
   "metadata": {},
   "outputs": [
    {
     "name": "stdout",
     "output_type": "stream",
     "text": [
      "Το πρώτο όρισμα είναι 1, το δεύτερο όρισμα είναι 2, το τρίτο όρισμα είναι 3\n",
      "Το πρώτο όρισμα είναι 1, το δεύτερο όρισμα είναι 2, το τρίτο όρισμα είναι 3\n",
      "Το πρώτο όρισμα είναι 1, το δεύτερο όρισμα είναι 2, το τρίτο όρισμα είναι 3\n",
      "Το πρώτο όρισμα είναι 1, το δεύτερο όρισμα είναι 2, το τρίτο όρισμα είναι 3\n"
     ]
    }
   ],
   "source": [
    "# κλήση συναρτήσεων με keyword ορίσματα\n",
    "\n",
    "\n",
    "def fun(x, y, z):\n",
    "    print(\n",
    "        f\"Το πρώτο όρισμα είναι {x}, το δεύτερο όρισμα είναι {y}, το τρίτο όρισμα είναι {z}\"\n",
    "    )\n",
    "\n",
    "\n",
    "fun(1, 2, 3)\n",
    "fun(x=1, y=2, z=3)\n",
    "fun(y=2, x=1, z=3)\n",
    "fun(1, z=3, y=2)"
   ]
  },
  {
   "cell_type": "code",
   "execution_count": 13,
   "metadata": {},
   "outputs": [
    {
     "name": "stdout",
     "output_type": "stream",
     "text": [
      "1 2\n",
      "5 2\n",
      "5 2\n",
      "1 10\n",
      "5 10\n",
      "5 10\n"
     ]
    }
   ],
   "source": [
    "# προκαθορισμένες τιμές (default) ορισμάτων\n",
    "\n",
    "\n",
    "def fun(x=1, y=2):\n",
    "    print(x, y)\n",
    "\n",
    "\n",
    "fun() # κλήση της συνάρτησης fun χωρίς ορίσματα (το x λαμβάνει την τιμή 1 και το y λαμβάνει την τιμή 2)\n",
    "fun(5) # το x λαμβάνει την τιμή 5 και το y λαμβάνει την προκαθορισμένη τιμή 2)\n",
    "fun(x=5) # το x λαμβάνει την τιμή 5 και το y λαμβάνει την προκαθορισμένη τιμή 2)\n",
    "fun(y=10) # το x λαμβάνει την προκαθορισμένη τιμή 1 και το y λαμβάνει την τιμή 10)\n",
    "fun(5, 10) # το x λαμβάνει την τιμή 5 και το y λαμβάνει την τιμή 10)\n",
    "fun(5, y=10) # το x λαμβάνει την τιμή 5 και το y λαμβάνει την τιμή 10)"
   ]
  },
  {
   "cell_type": "code",
   "execution_count": 14,
   "metadata": {},
   "outputs": [
    {
     "name": "stdout",
     "output_type": "stream",
     "text": [
      "(1, 2, 3)\n",
      "{'a': 'data1', 'b': 'data2'}\n"
     ]
    }
   ],
   "source": [
    "# args και kwargs (arguments και keyword arguments)\n",
    "# Μέσα στη συνάρτηση:\n",
    "# args είναι ένα tuple με τις τιμές των ορισμάτων της συνάρτησης\n",
    "# kwargs είναι ένα λεξικό με ονόματα και τιμές των keyword ορισμάτων της συνάρτησης\n",
    "\n",
    "\n",
    "def fun(*args, **kwargs):\n",
    "    print(args)\n",
    "    print(kwargs)\n",
    "\n",
    "\n",
    "fun(1, 2, 3, a=\"data1\", b=\"data2\")"
   ]
  },
  {
   "cell_type": "code",
   "execution_count": 15,
   "metadata": {},
   "outputs": [
    {
     "name": "stdout",
     "output_type": "stream",
     "text": [
      "3\n",
      "########################################\n",
      "3\n",
      "6\n",
      "########################################\n",
      "3\n",
      "6\n",
      "########################################\n",
      "3\n",
      "6\n"
     ]
    }
   ],
   "source": [
    "# Χρήση των args και kwargs έτσι ώστε να μπορούν να γίνουν αλλαγές χωρίς να επηρεάζεται ο παλιός κώδικας (backwards compatibility)\n",
    "\n",
    "def fun(a,b):\n",
    "    return a + b \n",
    "\n",
    "print(fun(1,2))\n",
    "\n",
    "print('#' * 40)\n",
    "\n",
    "# Έστω ότι υπάρχει ήδη ο παραπάνω κώδικας για τη συνάρτηση fun η οποία καλείται σε διάφορα σημεία τα οποία δεν θέλουμε να επηρεαστούν. Ωστόσο, επιθυμούμε να προσθέσουμε επιπλέον ορίσματα στη συνάρτηση fun.\n",
    "\n",
    "# α' τρόπος\n",
    "def fun(a,b, *args):\n",
    "    if args:\n",
    "        return a + b + args[0]\n",
    "    else:\n",
    "        return a + b\n",
    "\n",
    "print(fun(1,2))\n",
    "print(fun(1,2,3))\n",
    "\n",
    "print('#' * 40)\n",
    "\n",
    "# β' τρόπος\n",
    "def fun(a,b, **kwargs):\n",
    "    if kwargs:\n",
    "        return a + b + kwargs['extra']\n",
    "    else:\n",
    "        return a + b\n",
    "\n",
    "print(fun(1,2))\n",
    "print(fun(1,2,extra=3))\n",
    "\n",
    "print('#' * 40)\n",
    "\n",
    "# γ' τρόπος\n",
    "def fun(a,b, extra=None):\n",
    "    if extra:\n",
    "        return a + b + extra\n",
    "    else:\n",
    "        return a + b\n",
    "\n",
    "print(fun(1,2))\n",
    "print(fun(1,2,extra=3))"
   ]
  },
  {
   "cell_type": "code",
   "execution_count": 16,
   "metadata": {},
   "outputs": [
    {
     "name": "stdout",
     "output_type": "stream",
     "text": [
      "30\n",
      "60\n",
      "100\n"
     ]
    }
   ],
   "source": [
    "# παράδειγμα συνάρτησης με μεταβλητό πλήθος ορισμάτων (υπολογισμός αθροίσματος των ορισμάτων)\n",
    "\n",
    "def sum_all(*args):\n",
    "    return sum(args)\n",
    "\n",
    "print(sum_all(10,20))\n",
    "print(sum_all(10,20,30))\n",
    "print(sum_all(10,20,30,40))"
   ]
  },
  {
   "cell_type": "code",
   "execution_count": 17,
   "metadata": {},
   "outputs": [
    {
     "name": "stdout",
     "output_type": "stream",
     "text": [
      "άρτα ιωάννινα\n",
      "ιωάννινα πρέβεζα\n",
      "πρέβεζα ηγουμενίτσα\n"
     ]
    }
   ],
   "source": [
    "# ξεπακετάρισμα τιμών από λίστα και πέρασμα ως παραμέτρων σε συνάρτηση\n",
    "\n",
    "v = ['άρτα','ιωάννινα','πρέβεζα','ηγουμενίτσα']\n",
    "\n",
    "def fun1(a,b):\n",
    "    print(a,b)\n",
    "    \n",
    "fun1(*v[:2])  # στα ορίσματα a και b θα περάσουν οι 2 πρώτες τιμές της λίστας v\n",
    "fun1(*v[1:3]) # στα ορίσματα a και b θα περάσουν οι τιμές της λίστας v στις θέσεις 1,2\n",
    "fun1(*v[2:4]) # στα ορίσματα a και b θα περάσουν οι τιμές της λίστας v στις θέσεις 2,3"
   ]
  },
  {
   "cell_type": "markdown",
   "metadata": {},
   "source": [
    "## Ένθετες συναρτήσεις (nested functions ή inner functions)"
   ]
  },
  {
   "cell_type": "code",
   "execution_count": 18,
   "metadata": {},
   "outputs": [
    {
     "name": "stdout",
     "output_type": "stream",
     "text": [
      "αρχή συνάρτησης outer_fun, a=1\n",
      "κλήση ένθετης συνάρτησης inner_fun, x=2, a=1\n",
      "τέλος συνάρτησης outer_fun, a=1\n"
     ]
    }
   ],
   "source": [
    "def outer_fun():\n",
    "    a = 1\n",
    "    print(f\"αρχή συνάρτησης outer_fun, a={a}\")\n",
    "    def inner_fun(x):\n",
    "        print(f\"κλήση ένθετης συνάρτησης inner_fun, x={x}, a={a}\")\n",
    "\n",
    "    inner_fun(2)\n",
    "    print(f\"τέλος συνάρτησης outer_fun, a={a}\")\n",
    "\n",
    "outer_fun()"
   ]
  },
  {
   "cell_type": "markdown",
   "metadata": {},
   "source": [
    "## Εμβέλεια (scope)\n",
    "Η εμβέλεια καθορίζει το πότε μια μεταβλητή μπορεί να χρησιμοποιηθεί. Αν μια μεταβλητή δηλωθεί ως καθολική (global) τότε μπορεί να χρησιμοποιηθεί οπουδήποτε στο πρόγραμμα.\n",
    "\n",
    "\n",
    "### global"
   ]
  },
  {
   "cell_type": "code",
   "execution_count": 19,
   "metadata": {},
   "outputs": [
    {
     "name": "stdout",
     "output_type": "stream",
     "text": [
      "a=1, x=2\n"
     ]
    }
   ],
   "source": [
    "a = 1\n",
    "\n",
    "\n",
    "def fun(x):\n",
    "    print(f\"a={a}, x={x}\")\n",
    "\n",
    "\n",
    "fun(2)"
   ]
  },
  {
   "cell_type": "code",
   "execution_count": 20,
   "metadata": {},
   "outputs": [
    {
     "name": "stdout",
     "output_type": "stream",
     "text": [
      "a=1, g=10, x=1\n",
      "a=1, g=10\n",
      "a=2, g=11\n",
      "2 11\n"
     ]
    }
   ],
   "source": [
    "# global\n",
    "\n",
    "a = 1\n",
    "\n",
    "\n",
    "def fun(x):\n",
    "    global g\n",
    "    g = 10\n",
    "    print(f\"a={a}, g={g}, x={x}\")\n",
    "\n",
    "\n",
    "def foo():\n",
    "    # a += 1 # δεν επιτρέπεται, δεν έχει δηλωθεί global μέσα στη συνάρτηση\n",
    "    # g += 10 # δεν επιτρέπεται, δεν έχει δηλωθεί global μέσα στη συνάρτηση\n",
    "    print(f\"a={a}, g={g}\")\n",
    "\n",
    "\n",
    "def bar():\n",
    "    global a, g\n",
    "    a += 1\n",
    "    g += 1\n",
    "    print(f\"a={a}, g={g}\")\n",
    "\n",
    "\n",
    "fun(1)\n",
    "foo() # αν δεν κληθεί\n",
    "bar()\n",
    "print(a, g)"
   ]
  },
  {
   "cell_type": "markdown",
   "metadata": {},
   "source": [
    "### nonlocal μεταβλητές\n",
    "\n",
    "Χρησιμοποιούνται σε περιπτώσεις που ορίζονται συναρτήσεις μέσα σε συναρτήσεις και θέλουμε μια μεταβλητή της \"εξωτερικής\" συνάρτησης να μπορεί να τροποποιηθεί στην \"εσωτερική\" συνάρτηση\n"
   ]
  },
  {
   "cell_type": "code",
   "execution_count": 21,
   "metadata": {},
   "outputs": [
    {
     "name": "stdout",
     "output_type": "stream",
     "text": [
      "2\n",
      "1\n"
     ]
    }
   ],
   "source": [
    "# χωρίς χρήση nonlocal\n",
    "\n",
    "def func1():\n",
    "    a = 1\n",
    "    def func2():\n",
    "        a = 2 # local μεταβλητή της func2\n",
    "        print(a)\n",
    "\n",
    "    func2()\n",
    "    print(a) # local μεταβλητή της func1\n",
    "\n",
    "func1()"
   ]
  },
  {
   "cell_type": "code",
   "execution_count": 22,
   "metadata": {},
   "outputs": [
    {
     "name": "stdout",
     "output_type": "stream",
     "text": [
      "2\n",
      "2\n"
     ]
    }
   ],
   "source": [
    "# με χρήση nonlocal\n",
    "\n",
    "def func1():\n",
    "    a = 1\n",
    "    def func2():\n",
    "        nonlocal a \n",
    "        a = 2\n",
    "        print(a)\n",
    "\n",
    "    func2()\n",
    "    print(a) # local μεταβλητή της func1\n",
    "\n",
    "func1()"
   ]
  },
  {
   "cell_type": "markdown",
   "metadata": {},
   "source": [
    "## Συναρτήσεις πρώτης τάξης (First Class Functions)\n",
    "\n",
    "H Python αντιμετωπίζει όλες τις συναρτήσεις ως First Class Functions. Δηλαδή οι συναρτήσεις μπορούν να ανατεθούν σε μεταβλητές, να περάσουν ως ορίσματα σε συναρτήσεις, να επιστραφούν από συναρτήσεις και να αποθηκευτούν σε δομές δεδομένων όπως οι λίστες, οι πίνακες κατακερματισμού κλπ\n"
   ]
  },
  {
   "cell_type": "code",
   "execution_count": 23,
   "metadata": {},
   "outputs": [
    {
     "name": "stdout",
     "output_type": "stream",
     "text": [
      "3\n",
      "12\n",
      "**********\n",
      "&&&&&&&&&&\n"
     ]
    }
   ],
   "source": [
    "# Συναρτήσεις πρώτης τάξης\n",
    "\n",
    "\n",
    "def fun(x, y):\n",
    "    return x + y\n",
    "\n",
    "\n",
    "my_f = fun  # ανάθεση συνάρτησης σε μεταβλητή\n",
    "print(my_f(1, 2))  # κλήση του κώδικα της συνάρτησης fun\n",
    "\n",
    "# ------------------------------------------------\n",
    "\n",
    "\n",
    "def foo(func, x, y):  # πέρασμα συνάρτησης ως όρισμα συνάρτησης\n",
    "    a = func(x, y)\n",
    "    print(a)\n",
    "\n",
    "\n",
    "foo(fun, 5, 7)  # κλήση της συνάρτησης foo με όρισμα τη συνάρτηση fun\n",
    "\n",
    "# ------------------------------------------------\n",
    "\n",
    "\n",
    "def bar(x):  # συνάρτηση που επιστρέφει μια άλλη συνάρτηση\n",
    "    def banner(c):  # συνάρτηση banner ορίζεται μέσα στη συνάρτηση bar\n",
    "        print(c * x)\n",
    "\n",
    "    return banner  # η συνάρτηση bar επιστρέφει τη συνάρτηση banner\n",
    "\n",
    "\n",
    "# το αποτέλεσμα της κλήσης της συνάρτησης bar επιστρέφεται στη μεταβλητή fun\n",
    "fun = bar(10)  \n",
    "fun('*')  # κλήση της συνάρτησης banner που επισρέφεται από τη συνάρτηση bar\n",
    "\n",
    "bar(10)('&') # κλήση της συνάρτησης banner που επισρέφεται από τη συνάρτηση bar\n"
   ]
  },
  {
   "cell_type": "markdown",
   "metadata": {},
   "source": [
    "## Οι ορισμοί συναρτήσεων στην Python είναι εκτελέσιμες εντολές\n",
    "\n",
    "Ιδιαιτερότητα της Python: Οι προτάσεις def είναι εκτελέσιμες, δηλαδή, όταν εκτελείται μια πρόταση def ανατίθεται το όνομα που δίνεται στο σώμα της συνάρτησης."
   ]
  },
  {
   "cell_type": "code",
   "execution_count": 24,
   "metadata": {},
   "outputs": [
    {
     "name": "stdout",
     "output_type": "stream",
     "text": [
      "B\n"
     ]
    }
   ],
   "source": [
    "x = 2\n",
    "if x == 1:\n",
    "    def foo():\n",
    "        print(\"A\")\n",
    "else:\n",
    "    def foo():\n",
    "        print(\"B\")\n",
    "foo()"
   ]
  },
  {
   "cell_type": "markdown",
   "metadata": {},
   "source": [
    "## Επισημάνσεις συναρτήσεων (function annotations)\n",
    "\n",
    "Οι επισημάνσεις συναρτήσεων υπάρχουν από την έκδοση 3.0 της Python και μετά. Αφορούν τς παραμέτρους και τις τιμές επιστροφής των συναρτήσεων και είναι προαιρετικές καθώς δεν τους αποδίδεται κάποιο νόημα από τη γλώσσα (είναι σαν σχόλια). Ωστόσο, διάφορες βιβλιοθήκες χρησιμοποιούν τις επισημάνσεις."
   ]
  },
  {
   "cell_type": "code",
   "execution_count": 4,
   "metadata": {},
   "outputs": [
    {
     "name": "stdout",
     "output_type": "stream",
     "text": [
      "(3, 2)\n",
      "(3.3000000000000003, 2.4200000000000004)\n"
     ]
    }
   ],
   "source": [
    "# παράδειγμα συνάρτησης που δέχεται δύο ακέραιους αριθμούς και επιστρέφει το άθροισμα και το γινόμενό τους\n",
    " \n",
    "def fun(a: int, b:int) -> tuple:\n",
    "    return a+b, a*b\n",
    "\n",
    "print(fun(1,2)) # αναμένεται να κληθεί με ακέραιες τιμές ως παραμέτρους αλλά\n",
    "print(fun(1.1,2.2)) # μπορεί να κλησθεί και με διαφορετικούς τύπους παραμέτρων από ακέραιους"
   ]
  },
  {
   "cell_type": "markdown",
   "metadata": {},
   "source": [
    "## Call by object reference (call by assignment)\n",
    "\n",
    "Αν περάσουμε σε μια συνάρτηση μη μεταλλάξιμα (immutable) ορίσματα όπως αριθμούς, λεκτικά ή tuples τότε το πέρασμα είναι σαν πέρασμα με τιμή (call by value), δηλαδή η αλλαγή των τιμών των ορισμάτων μέσα στη συνάρτηση δεν αντικατοπτρίζεται μετά την κλήση της συνάρτησης.\n",
    "\n",
    "Αν περάσουμε σε μια συνάρτηση μεταλλάξιμα (mutable) ορίσματα όπως λίστες, λεξικά κλπ τότε το πέρασμα είναι σαν πέρασμα με αναφορά (call by reference), δηλαδή η αλλαγή των τιμών των ορισμάτων μέσα στη συνάρτηση  αντικατοπτρίζεται και μετά την κλήση της συνάρτησης."
   ]
  },
  {
   "cell_type": "code",
   "execution_count": 1,
   "metadata": {},
   "outputs": [
    {
     "name": "stdout",
     "output_type": "stream",
     "text": [
      "42\n"
     ]
    }
   ],
   "source": [
    "def fun(x):\n",
    "    x += 1\n",
    "    \n",
    "x = 42\n",
    "fun(x)\n",
    "print(x)"
   ]
  },
  {
   "cell_type": "code",
   "execution_count": 2,
   "metadata": {},
   "outputs": [
    {
     "name": "stdout",
     "output_type": "stream",
     "text": [
      "[1, 2, 3, -99]\n"
     ]
    }
   ],
   "source": [
    "def fun(x):\n",
    "    x.append(-99)\n",
    "    \n",
    "x =  [1,2,3]\n",
    "fun(x)\n",
    "print(x)"
   ]
  },
  {
   "cell_type": "code",
   "execution_count": null,
   "metadata": {},
   "outputs": [],
   "source": []
  }
 ],
 "metadata": {
  "interpreter": {
   "hash": "5acf9e6ddcd6e56ed6a5d0b8356452ff4041af10724d472c7eae2ea2b3311c0a"
  },
  "kernelspec": {
   "display_name": "Python 3.8.0 64-bit ('3.8.0-amd64': pyenv)",
   "language": "python",
   "name": "python3"
  },
  "language_info": {
   "codemirror_mode": {
    "name": "ipython",
    "version": 3
   },
   "file_extension": ".py",
   "mimetype": "text/x-python",
   "name": "python",
   "nbconvert_exporter": "python",
   "pygments_lexer": "ipython3",
   "version": "3.10.0"
  }
 },
 "nbformat": 4,
 "nbformat_minor": 2
}
