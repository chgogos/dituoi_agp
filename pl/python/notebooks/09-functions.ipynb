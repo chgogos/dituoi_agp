{
 "cells": [
  {
   "cell_type": "markdown",
   "metadata": {},
   "source": [
    "    Τμήμα Πληροφορικής και Τηλεπικοινωνιών - Άρτα \n",
    "    Πανεπιστήμιο Ιωαννίνων \n",
    "\n",
    "    Γκόγκος Χρήστος \n",
    "    http://chgogos.github.io/\n",
    "    Εαρινό εξάμηνο 2020-2021"
   ]
  },
  {
   "cell_type": "markdown",
   "metadata": {},
   "source": [
    "# Συναρτήσεις"
   ]
  },
  {
   "cell_type": "code",
   "execution_count": 1,
   "metadata": {},
   "outputs": [
    {
     "output_type": "stream",
     "name": "stdout",
     "text": [
      "hi\n"
     ]
    }
   ],
   "source": [
    "# Απλή συνάρτηση χωρίς ορίσματα\n",
    "\n",
    "\n",
    "def fun():\n",
    "    print(\"hi\")\n",
    "\n",
    "\n",
    "fun()"
   ]
  },
  {
   "cell_type": "code",
   "execution_count": 2,
   "metadata": {},
   "outputs": [],
   "source": [
    "# Κενή συνάρτηση (σηματοδοτεί ότι πρόκειται να συμπληρωθεί αργότερα)\n",
    "\n",
    "\n",
    "def fun():\n",
    "    pass\n",
    "\n",
    "\n",
    "fun()"
   ]
  },
  {
   "cell_type": "code",
   "execution_count": 3,
   "metadata": {},
   "outputs": [
    {
     "output_type": "execute_result",
     "data": {
      "text/plain": [
       "5050"
      ]
     },
     "metadata": {},
     "execution_count": 3
    }
   ],
   "source": [
    "# Συναρτήσεις με ορίσματα\n",
    "\n",
    "\n",
    "def fun(x, y):\n",
    "    sum = 0\n",
    "    for i in range(x, y):\n",
    "        sum += i\n",
    "    return sum + y\n",
    "\n",
    "\n",
    "fun(1, 100)"
   ]
  },
  {
   "cell_type": "code",
   "execution_count": 4,
   "metadata": {},
   "outputs": [
    {
     "output_type": "stream",
     "name": "stdout",
     "text": [
      "Το πρώτο όρισμα είναι 1, το δεύτερο όρισμα είναι 2, το τρίτο όρισμα είναι 3\nΤο πρώτο όρισμα είναι 1, το δεύτερο όρισμα είναι 2, το τρίτο όρισμα είναι 3\nΤο πρώτο όρισμα είναι 1, το δεύτερο όρισμα είναι 2, το τρίτο όρισμα είναι 3\nΤο πρώτο όρισμα είναι 1, το δεύτερο όρισμα είναι 2, το τρίτο όρισμα είναι 3\n"
     ]
    }
   ],
   "source": [
    "# keyword ορίσματα\n",
    "\n",
    "\n",
    "def fun(x, y, z):\n",
    "    print(\n",
    "        f\"Το πρώτο όρισμα είναι {x}, το δεύτερο όρισμα είναι {y}, το τρίτο όρισμα είναι {z}\"\n",
    "    )\n",
    "\n",
    "\n",
    "fun(1, 2, 3)\n",
    "fun(x=1, y=2, z=3)\n",
    "fun(y=2, x=1, z=3)\n",
    "fun(1, z=3, y=2)"
   ]
  },
  {
   "cell_type": "code",
   "execution_count": 5,
   "metadata": {},
   "outputs": [
    {
     "output_type": "stream",
     "name": "stdout",
     "text": [
      "1 2\n5 2\n5 2\n1 10\n5 10\n5 10\n"
     ]
    }
   ],
   "source": [
    "# προκαθορισμένες τιμές (default) ορισμάτων\n",
    "\n",
    "\n",
    "def fun(x=1, y=2):\n",
    "    print(x, y)\n",
    "\n",
    "\n",
    "fun() # κλήση της συνάρτησης fun χωρίς ορίσματα (το x λαμβάνει την τιμή 1 και το y λαμβάνει την τιμή 2)\n",
    "fun(5) # το x λαμβάνει την τιμή 5 και το y λαμβάνει την προκαθορισμένη τιμή 2)\n",
    "fun(x=5) # το x λαμβάνει την τιμή 5 και το y λαμβάνει την προκαθορισμένη τιμή 2)\n",
    "fun(y=10) # το x λαμβάνει την προκαθορισμένη τιμή 1 και το y λαμβάνει την τιμή 10)\n",
    "fun(5, 10) # το x λαμβάνει την τιμή 5 και το y λαμβάνει την τιμή 10)\n",
    "fun(5, y=10) # το x λαμβάνει την τιμή 5 και το y λαμβάνει την τιμή 10)"
   ]
  },
  {
   "cell_type": "code",
   "execution_count": 6,
   "metadata": {},
   "outputs": [
    {
     "output_type": "stream",
     "name": "stdout",
     "text": [
      "(1, 2, 3)\n{'a': 'data1', 'b': 'data2'}\n"
     ]
    }
   ],
   "source": [
    "# args και kwargs (arguments και keyword arguments)\n",
    "# Μέσα στη συνάρτηση:\n",
    "# args είναι ένα tuple με τις τιμές των ορισμάτων της συνάρτησης\n",
    "# kwargs είναι ένα λεξικό με ονόματα και τιμές των keyword ορισμάτων της συνάρτησης\n",
    "\n",
    "\n",
    "def fun(*args, **kwargs):\n",
    "    print(args)\n",
    "    print(kwargs)\n",
    "\n",
    "\n",
    "fun(1, 2, 3, a=\"data1\", b=\"data2\")"
   ]
  },
  {
   "cell_type": "markdown",
   "metadata": {},
   "source": [
    "## Εμβέλεια (scope)\n",
    "Η εμβέλεια καθορίζει το πότε μια μεταβλητή μπορεί να χρησιμοποιηθεί. Αν μια μεταβλητή δηλωθεί ως καθολική (global) τότε μπορεί να χρησιμοποιηθεί οπουδήποτε στο πρόγραμμα.\n",
    "\n",
    "\n",
    "### global"
   ]
  },
  {
   "cell_type": "code",
   "execution_count": 7,
   "metadata": {},
   "outputs": [
    {
     "output_type": "stream",
     "name": "stdout",
     "text": [
      "a=1, x=2\n"
     ]
    }
   ],
   "source": [
    "a = 1\n",
    "\n",
    "\n",
    "def fun(x):\n",
    "    print(f\"a={a}, x={x}\")\n",
    "\n",
    "\n",
    "fun(2)"
   ]
  },
  {
   "cell_type": "code",
   "execution_count": 8,
   "metadata": {},
   "outputs": [
    {
     "output_type": "stream",
     "name": "stdout",
     "text": [
      "a=1, g=10, x=1\na=1, g=10\na=2, g=11\n2 11\n"
     ]
    }
   ],
   "source": [
    "# global\n",
    "\n",
    "a = 1\n",
    "\n",
    "\n",
    "def fun(x):\n",
    "    global g\n",
    "    g = 10\n",
    "    print(f\"a={a}, g={g}, x={x}\")\n",
    "\n",
    "\n",
    "def foo():\n",
    "    # a += 1 # δεν επιτρέπεται, δεν έχει δηλωθεί global μέσα στη συνάρτηση\n",
    "    # g += 10 # δεν επιτρέπεται, δεν έχει δηλωθεί global μέσα στη συνάρτηση\n",
    "    print(f\"a={a}, g={g}\")\n",
    "\n",
    "\n",
    "def bar():\n",
    "    global a, g\n",
    "    a += 1\n",
    "    g += 1\n",
    "    print(f\"a={a}, g={g}\")\n",
    "\n",
    "\n",
    "fun(1)\n",
    "foo() # αν δεν κληθεί\n",
    "bar()\n",
    "print(a, g)"
   ]
  },
  {
   "source": [
    "### nonlocal μεταβλητές\n",
    "\n",
    "Χρησιμοποιούνται σε περιπτώσεις που ορίζονται συναρτήσεις μέσα σε συναρτήσεις και θέλουμε μια μεταβλητή της \"εξωτερικής\" συνάρτησης να μπορεί να τροποποιηθεί στην \"εσωτερική\" συνάρτηση\n"
   ],
   "cell_type": "markdown",
   "metadata": {}
  },
  {
   "cell_type": "code",
   "execution_count": 9,
   "metadata": {},
   "outputs": [
    {
     "output_type": "stream",
     "name": "stdout",
     "text": [
      "2\n",
      "1\n"
     ]
    }
   ],
   "source": [
    "# χωρίς χρήση nonlocal\n",
    "\n",
    "def func1():\n",
    "    a = 1\n",
    "    def func2():\n",
    "        a = 2 # local μεταβλητή της func2\n",
    "        print(a)\n",
    "\n",
    "    func2()\n",
    "    print(a) # local μεταβλητή της func1\n",
    "\n",
    "func1()"
   ]
  },
  {
   "cell_type": "code",
   "execution_count": 10,
   "metadata": {},
   "outputs": [
    {
     "output_type": "stream",
     "name": "stdout",
     "text": [
      "2\n2\n"
     ]
    }
   ],
   "source": [
    "# με χρήση nonlocal\n",
    "\n",
    "def func1():\n",
    "    a = 1\n",
    "    def func2():\n",
    "        nonlocal a \n",
    "        a = 2\n",
    "        print(a)\n",
    "\n",
    "    func2()\n",
    "    print(a) # local μεταβλητή της func1\n",
    "\n",
    "func1()"
   ]
  },
  {
   "source": [
    "## Συναρτήσεις πρώτης τάξης (First Class Functions)\n",
    "\n",
    "H Python αντιμετωπίζει όλες τις συναρτήσεις ως First Class Functions. Δηλαδή οι συναρτήσεις μπορούν να ανατεθούν σε μεταβλητές, να περάσουν ως ορίσματα σε συναρτήσεις, να επιστραφούν από συναρτήσεις και να αποθηκευτούν σε δομές δεδομένων όπως οι λίστες, οι πίνακες κατακερματισμού κλπ\n"
   ],
   "cell_type": "markdown",
   "metadata": {}
  },
  {
   "cell_type": "code",
   "execution_count": 11,
   "metadata": {},
   "outputs": [
    {
     "output_type": "stream",
     "name": "stdout",
     "text": [
      "3\n12\n**********\n&&&&&&&&&&\n"
     ]
    }
   ],
   "source": [
    "# Συναρτήσεις πρώτης τάξης\n",
    "\n",
    "\n",
    "def fun(x, y):\n",
    "    return x + y\n",
    "\n",
    "\n",
    "my_f = fun  # ανάθεση συνάρτησης σε μεταβλητή\n",
    "print(my_f(1, 2))  # κλήση του κώδικα της συνάρτησης fun\n",
    "\n",
    "# ------------------------------------------------\n",
    "\n",
    "\n",
    "def foo(func, x, y):  # πέρασμα συνάρτησης ως όρισμα συνάρτησης\n",
    "    a = func(x, y)\n",
    "    print(a)\n",
    "\n",
    "\n",
    "foo(fun, 5, 7)  # κλήση της συνάρτησης foo με όρισμα τη συνάρτηση fun\n",
    "\n",
    "# ------------------------------------------------\n",
    "\n",
    "\n",
    "def bar(x):  # συνάρτηση που επιστρέφει μια άλλη συνάρτηση\n",
    "    def banner(c):  # συνάρτηση banner ορίζεται μέσα στη συνάρτηση bar\n",
    "        print(c * x)\n",
    "\n",
    "    return banner  # η συνάρτηση bar επιστρέφει τη συνάρτηση banner\n",
    "\n",
    "\n",
    "# το αποτέλεσμα της κλήσης της συνάρτησης bar επιστρέφεται στη μεταβλητή fun\n",
    "fun = bar(10)  \n",
    "fun('*')  # κλήση της συνάρτησης banner που επισρέφεται από τη συνάρτηση bar\n",
    "\n",
    "bar(10)('&') # κλήση της συνάρτησης banner που επισρέφεται από τη συνάρτηση bar\n"
   ]
  },
  {
   "source": [
    "## Οι ορισμοί συναρτήσεων στην Python είναι εκτελέσιμες εντολές\n",
    "\n",
    "Ιδιαιτερότητα της Python: Οι προτάσεις def είναι εκτελέσιμες, δηλαδή, όταν εκτελείται μια πρόταση def ανατίθεται το όνομα που δίνεται στο σώμα της συνάρτησης."
   ],
   "cell_type": "markdown",
   "metadata": {}
  },
  {
   "cell_type": "code",
   "execution_count": 2,
   "metadata": {},
   "outputs": [
    {
     "output_type": "stream",
     "name": "stdout",
     "text": [
      "B\n"
     ]
    }
   ],
   "source": [
    "x = 2\n",
    "if x == 1:\n",
    "    def foo():\n",
    "        print(\"A\")\n",
    "else:\n",
    "    def foo():\n",
    "        print(\"B\")\n",
    "foo()"
   ]
  },
  {
   "cell_type": "code",
   "execution_count": null,
   "metadata": {},
   "outputs": [],
   "source": []
  }
 ],
 "metadata": {
  "kernelspec": {
   "name": "python380jvsc74a57bd02334294e789e06453e89f7d5c3c2573679701f9bb5b76ad2158f91cca5c9244c",
   "display_name": "Python 3.8.0 64-bit ('3.8.0-amd64': pyenv)"
  },
  "language_info": {
   "codemirror_mode": {
    "name": "ipython",
    "version": 3
   },
   "file_extension": ".py",
   "mimetype": "text/x-python",
   "name": "python",
   "nbconvert_exporter": "python",
   "pygments_lexer": "ipython3",
   "version": "3.8.0"
  }
 },
 "nbformat": 4,
 "nbformat_minor": 2
}