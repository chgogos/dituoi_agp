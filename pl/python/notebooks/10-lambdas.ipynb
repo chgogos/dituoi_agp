{
 "metadata": {
  "language_info": {
   "codemirror_mode": {
    "name": "ipython",
    "version": 3
   },
   "file_extension": ".py",
   "mimetype": "text/x-python",
   "name": "python",
   "nbconvert_exporter": "python",
   "pygments_lexer": "ipython3",
   "version": "3.8.0"
  },
  "orig_nbformat": 2,
  "kernelspec": {
   "name": "python3",
   "display_name": "Python 3.8.0 64-bit ('3.8.0-amd64': pyenv)",
   "metadata": {
    "interpreter": {
     "hash": "2334294e789e06453e89f7d5c3c2573679701f9bb5b76ad2158f91cca5c9244c"
    }
   }
  }
 },
 "nbformat": 4,
 "nbformat_minor": 2,
 "cells": [
  {
   "source": [
    "# Lambdas\n",
    "Τα lambdas είναι ανώνυμες συναρτήσεις (δηλαδή συναρτήσεις στις οποίες δεν τους αποδίδουμε όνομα)"
   ],
   "cell_type": "markdown",
   "metadata": {}
  },
  {
   "cell_type": "code",
   "execution_count": 3,
   "metadata": {},
   "outputs": [
    {
     "output_type": "stream",
     "name": "stdout",
     "text": [
      "κλήση συνάρτησης fun:  10\nκλήση λάμδα συνάρτησης:  10\n"
     ]
    }
   ],
   "source": [
    "# \n",
    "def fun(x):\n",
    "    return 2*x\n",
    "print(\"κλήση συνάρτησης fun: \", fun(5))\n",
    "\n",
    "\n",
    "f = lambda x: x *2\n",
    "print(\"κλήση λάμδα συνάρτησης: \",  f(5))"
   ]
  },
  {
   "cell_type": "code",
   "execution_count": null,
   "metadata": {},
   "outputs": [],
   "source": []
  }
 ]
}