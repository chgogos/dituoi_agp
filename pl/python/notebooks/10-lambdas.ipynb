{
 "cells": [
  {
   "cell_type": "markdown",
   "metadata": {},
   "source": [
    "    Τμήμα Πληροφορικής και Τηλεπικοινωνιών - Άρτα \n",
    "    Πανεπιστήμιο Ιωαννίνων \n",
    "\n",
    "    Γκόγκος Χρήστος \n",
    "    http://chgogos.github.io/\n",
    "    \n",
    "    Τελευταία ενημέρωση: 9/3/2022"
   ]
  },
  {
   "cell_type": "markdown",
   "metadata": {},
   "source": [
    "# Lambdas\n",
    "Τα lambdas είναι ανώνυμες συναρτήσεις (δηλαδή συναρτήσεις στις οποίες δεν τους αποδίδουμε όνομα)\n",
    "\n",
    "Η γενική σύνταξη μιας lambda συνάρτησης είναι η ακόλουθη:\n",
    "\n",
    "    lambda arguments: expression"
   ]
  },
  {
   "cell_type": "code",
   "execution_count": 10,
   "metadata": {},
   "outputs": [
    {
     "name": "stdout",
     "output_type": "stream",
     "text": [
      "κλήση συνάρτησης fun:  10\n",
      "κλήση λάμδα συνάρτησης:  10\n",
      "κλήση λάμδα συνάρτησης:  10\n"
     ]
    }
   ],
   "source": [
    "# ορισμός και κλήση lambda συναρτήσεων\n",
    "\n",
    "# \"συνηθισμένη\" συνάρτηση\n",
    "def fun(x):\n",
    "    return 2 * x\n",
    "\n",
    "\n",
    "print(\"κλήση συνάρτησης fun: \", fun(5))\n",
    "\n",
    "# ίδιο αποτέλεσμα με το παραπάνω με χρήση lambda συνάρτησης\n",
    "f = lambda x: x * 2  # ανάθεση της lambda συνάρτησης σε μεταβλητή\n",
    "print(\"κλήση λάμδα συνάρτησης: \", f(5))\n",
    "\n",
    "print(\n",
    "    \"κλήση λάμδα συνάρτησης: \", (lambda x: x * 2)(5)\n",
    ")  # IIFE=Immediately Invoked Function Expression"
   ]
  },
  {
   "cell_type": "code",
   "execution_count": 11,
   "metadata": {},
   "outputs": [
    {
     "data": {
      "text/plain": [
       "'Hello John Doe!!!'"
      ]
     },
     "execution_count": 11,
     "metadata": {},
     "output_type": "execute_result"
    }
   ],
   "source": [
    "# lambda συνάρτηση με 2 παραμέτρους\n",
    "\n",
    "hi = lambda fname, lname: f\"Hello {fname} {lname}!!!\"\n",
    "hi(\"John\", \"Doe\")"
   ]
  },
  {
   "cell_type": "markdown",
   "metadata": {},
   "source": [
    "## Higher order functions (Συναρτήσεις υψηλότερης τάξης)"
   ]
  },
  {
   "cell_type": "code",
   "execution_count": 12,
   "metadata": {},
   "outputs": [
    {
     "data": {
      "text/plain": [
       "3"
      ]
     },
     "execution_count": 12,
     "metadata": {},
     "output_type": "execute_result"
    }
   ],
   "source": [
    "# συνάρτηση υψηλότερης τάξης (δέχεται ως δεύτερη παράμετρο μια συνάρτηση)\n",
    "\n",
    "hof = lambda a, fun: a + fun(a)  # anomymous higher order function\n",
    "hof(1, lambda x: x * 2)  # 1 + 1 * 2 => 3"
   ]
  },
  {
   "cell_type": "markdown",
   "metadata": {},
   "source": [
    "# functools.reduce \n",
    "H σύνταξη της reduce() είναι η ακόλουθη:\n",
    "\n",
    "    reduce(function, sequence [,initial])\n",
    "\n",
    "Αρχικά καλείται η συνάρτηση (function) με παραμέτρους τα δύο πρώτα στοιχεία της ακολουθίας (sequence). Το αποτέλεσμα μαζί με το τρίτο στοιχείο της ακολουθίας αποτελούν τις παραμέτρους στη δεύτερη κλήση της συνάρτησης. Η διαδικασία επαναλαμβάνεται μέχρι να εξαντληθούν τα στοιχεία της ακολουθίας. To προαιρετικό όρισμα initial, εφόσον υπάρχει, χρησιμοποιείται έτσι ώστε η διαδικασία αντί να ξεκινήσει με τα δύο πρώτα στοιχεία της ακολουθίας, να ξεκινήσει με αυτό και το πρώτο στοιχείο της ακολουθίας."
   ]
  },
  {
   "cell_type": "code",
   "execution_count": 13,
   "metadata": {},
   "outputs": [
    {
     "name": "stdout",
     "output_type": "stream",
     "text": [
      "15\n",
      "115\n"
     ]
    }
   ],
   "source": [
    "# functools.reduce\n",
    "\n",
    "from functools import reduce\n",
    "\n",
    "print(\n",
    "    reduce(lambda sum, x: sum + x, [1, 2, 3, 4, 5])\n",
    ")  # άθροισμα όλων των τιμών της λίστας\n",
    "print(\n",
    "    reduce(lambda sum, x: sum + x, [1, 2, 3, 4, 5], 100)\n",
    ")  # άθροισμα όλων των τιμών της λίστας με αρχική τιμή 100"
   ]
  },
  {
   "cell_type": "markdown",
   "metadata": {},
   "source": [
    "## Map - filter - reduce\n",
    "\n",
    "Οι συναρτήσεις map(), filter() και functools.reduce() δέχονται ως πρώτο όρισμα μια lambda συνάρτηση."
   ]
  },
  {
   "cell_type": "code",
   "execution_count": 14,
   "metadata": {},
   "outputs": [
    {
     "data": {
      "text/plain": [
       "[2, 3, 4, 5]"
      ]
     },
     "execution_count": 14,
     "metadata": {},
     "output_type": "execute_result"
    }
   ],
   "source": [
    "# map\n",
    "\n",
    "list(map(lambda x: x + 1, [1, 2, 3, 4]))  # αύξηση κάθε στοιχείου της λίστας κατά 1"
   ]
  },
  {
   "cell_type": "code",
   "execution_count": 15,
   "metadata": {},
   "outputs": [
    {
     "data": {
      "text/plain": [
       "[2, 4]"
      ]
     },
     "execution_count": 15,
     "metadata": {},
     "output_type": "execute_result"
    }
   ],
   "source": [
    "# filter\n",
    "\n",
    "list(\n",
    "    filter(lambda x: x % 2 == 0, [1, 2, 3, 4])\n",
    ")  # διατήρηση μόνο των άρτιων τιμών της λίστας"
   ]
  },
  {
   "cell_type": "markdown",
   "metadata": {},
   "source": [
    "# παράδειγμα map-filter-reduce"
   ]
  },
  {
   "cell_type": "code",
   "execution_count": 16,
   "metadata": {},
   "outputs": [
    {
     "data": {
      "text/plain": [
       "[7890, 567, 34, 1]"
      ]
     },
     "execution_count": 16,
     "metadata": {},
     "output_type": "execute_result"
    }
   ],
   "source": [
    "# Φθίνουσα ταξινόμηση λίστας βάσει πλήθους ψηφίων\n",
    "\n",
    "a_list = [34, 567, 1, 7890]\n",
    "a_list.sort(key=lambda x: len(str(x)), reverse=True)\n",
    "a_list"
   ]
  },
  {
   "cell_type": "code",
   "execution_count": 17,
   "metadata": {},
   "outputs": [
    {
     "data": {
      "text/plain": [
       "[7890, 567, 34, 1]"
      ]
     },
     "execution_count": 17,
     "metadata": {},
     "output_type": "execute_result"
    }
   ],
   "source": [
    "# Φθίνουσα ταξινόμηση λίστας βάσει πλήθους ψηφίων\n",
    "\n",
    "a_list = [34, 567, 1, 7890]\n",
    "a_list = sorted(a_list, key=lambda x: len(str(x)), reverse=True)\n",
    "a_list"
   ]
  },
  {
   "cell_type": "code",
   "execution_count": 18,
   "metadata": {},
   "outputs": [
    {
     "name": "stdout",
     "output_type": "stream",
     "text": [
      "ΝΊΚΟΣ ΜΑΡΊΑ ΣΟΦΊΑ\n",
      "ΝΊΚΟΣ ΜΑΡΊΑ ΣΟΦΊΑ\n",
      "ΝΊΚΟΣ ΜΑΡΊΑ ΣΟΦΊΑ\n"
     ]
    }
   ],
   "source": [
    "# επιστροφή λεκτικού με ονόματα σε κεφαλαία με μήκος λιγότερο από 6 χαρακτήρες\n",
    "\n",
    "names = [\"Νίκος\", \"Πέτρος\", \"Μαρία\", \"Χρήστος\", \"Γιάννης\", \"Κατερίνα\", \"Σοφία\"]\n",
    "\n",
    "# α' τρόπος\n",
    "tmp1 = map(lambda x: x.upper(), names)\n",
    "tmp2 = filter(lambda x: len(x) <= 5, tmp1)\n",
    "tmp3 = reduce(lambda x, y: f\"{x} {y}\", tmp2)\n",
    "print(tmp3)\n",
    "\n",
    "# β' τρόπος (σε 1 εντολή)\n",
    "tmp = reduce(\n",
    "    lambda x, y: f\"{x} {y}\",\n",
    "    filter(lambda x: len(x) <= 5, map(lambda x: x.upper(), names)),\n",
    ")\n",
    "print(tmp)\n",
    "\n",
    "# γ' τρόπος (μπορεί να υπάρχουν απλούστεροι και περισσότερο κατανοητοί τρόποι για να επιτευχθεί το ίδιο αποτέλεσμα - δείτε τον ακόλουθο κώδικα που επιτυγχάνει το ίδιο αποτέλεσμα με τους παραπάνω και χρησιμοποιεί comprehension)\n",
    "tmp = [s.upper() for s in names if len(s) <= 5]\n",
    "print(\" \".join(tmp))"
   ]
  },
  {
   "cell_type": "code",
   "execution_count": null,
   "metadata": {},
   "outputs": [],
   "source": []
  }
 ],
 "metadata": {
  "kernelspec": {
   "display_name": "Python 3",
   "language": "python",
   "name": "python3"
  },
  "language_info": {
   "codemirror_mode": {
    "name": "ipython",
    "version": 3
   },
   "file_extension": ".py",
   "mimetype": "text/x-python",
   "name": "python",
   "nbconvert_exporter": "python",
   "pygments_lexer": "ipython3",
   "version": "3.8.0"
  }
 },
 "nbformat": 4,
 "nbformat_minor": 2
}
