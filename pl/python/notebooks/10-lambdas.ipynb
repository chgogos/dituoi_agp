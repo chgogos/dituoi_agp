{
 "metadata": {
  "language_info": {
   "codemirror_mode": {
    "name": "ipython",
    "version": 3
   },
   "file_extension": ".py",
   "mimetype": "text/x-python",
   "name": "python",
   "nbconvert_exporter": "python",
   "pygments_lexer": "ipython3",
   "version": "3.8.0-final"
  },
  "orig_nbformat": 2,
  "kernelspec": {
   "name": "python3",
   "display_name": "Python 3.8.0 64-bit",
   "metadata": {
    "interpreter": {
     "hash": "2334294e789e06453e89f7d5c3c2573679701f9bb5b76ad2158f91cca5c9244c"
    }
   }
  }
 },
 "nbformat": 4,
 "nbformat_minor": 2,
 "cells": [
  {
   "source": [
    "    Τμήμα Πληροφορικής και Τηλεπικοινωνιών - Άρτα \n",
    "    Πανεπιστήμιο Ιωαννίνων \n",
    "\n",
    "    Γκόγκος Χρήστος \n",
    "    http://chgogos.github.io/\n",
    "    Εαρινό εξάμηνο 2020-2021"
   ],
   "cell_type": "markdown",
   "metadata": {}
  },
  {
   "source": [
    "# Lambdas\n",
    "Τα lambdas είναι ανώνυμες συναρτήσεις (δηλαδή συναρτήσεις στις οποίες δεν τους αποδίδουμε όνομα)"
   ],
   "cell_type": "markdown",
   "metadata": {}
  },
  {
   "cell_type": "code",
   "execution_count": 1,
   "metadata": {},
   "outputs": [
    {
     "output_type": "stream",
     "name": "stdout",
     "text": [
      "κλήση συνάρτησης fun:  10\nκλήση λάμδα συνάρτησης:  10\nκλήση λάμδα συνάρτησης:  10\n"
     ]
    }
   ],
   "source": [
    "# \n",
    "\n",
    "def fun(x):\n",
    "    return 2*x\n",
    "print(\"κλήση συνάρτησης fun: \", fun(5))\n",
    "\n",
    "\n",
    "f = lambda x: x *2 # ανάθεση της lambda συνάρτησης σε μεταβλητή\n",
    "print(\"κλήση λάμδα συνάρτησης: \",  f(5))\n",
    "\n",
    "\n",
    "print(\"κλήση λάμδα συνάρτησης: \",  (lambda x: x *2)(5))"
   ]
  },
  {
   "cell_type": "code",
   "execution_count": 2,
   "metadata": {},
   "outputs": [
    {
     "output_type": "execute_result",
     "data": {
      "text/plain": [
       "[2, 3, 4, 5]"
      ]
     },
     "metadata": {},
     "execution_count": 2
    }
   ],
   "source": [
    "# map\n",
    "\n",
    "list(map(lambda x: x+1, [1,2,3,4])) # αύξηση κάθε στοιχείου της λίστας κατά 1"
   ]
  },
  {
   "cell_type": "code",
   "execution_count": 3,
   "metadata": {},
   "outputs": [
    {
     "output_type": "execute_result",
     "data": {
      "text/plain": [
       "[2, 4]"
      ]
     },
     "metadata": {},
     "execution_count": 3
    }
   ],
   "source": [
    "# filter\n",
    "\n",
    "list(filter(lambda x: x%2==0, [1,2,3,4])) # διατήρηση μόνο των άρτιων τιμών της λίστας "
   ]
  }
 ]
}