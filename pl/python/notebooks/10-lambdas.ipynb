{
 "metadata": {
  "language_info": {
   "codemirror_mode": {
    "name": "ipython",
    "version": 3
   },
   "file_extension": ".py",
   "mimetype": "text/x-python",
   "name": "python",
   "nbconvert_exporter": "python",
   "pygments_lexer": "ipython3",
   "version": "3.8.0-final"
  },
  "orig_nbformat": 2,
  "kernelspec": {
   "name": "python3",
   "display_name": "Python 3.8.0 64-bit",
   "metadata": {
    "interpreter": {
     "hash": "2334294e789e06453e89f7d5c3c2573679701f9bb5b76ad2158f91cca5c9244c"
    }
   }
  }
 },
 "nbformat": 4,
 "nbformat_minor": 2,
 "cells": [
  {
   "source": [
    "    Τμήμα Πληροφορικής και Τηλεπικοινωνιών - Άρτα \n",
    "    Πανεπιστήμιο Ιωαννίνων \n",
    "\n",
    "    Γκόγκος Χρήστος \n",
    "    http://chgogos.github.io/\n",
    "    Εαρινό εξάμηνο 2020-2021"
   ],
   "cell_type": "markdown",
   "metadata": {}
  },
  {
   "source": [
    "# Lambdas\n",
    "Τα lambdas είναι ανώνυμες συναρτήσεις (δηλαδή συναρτήσεις στις οποίες δεν τους αποδίδουμε όνομα)\n",
    "\n",
    "Η γενική σύνταξη μιας lambda συνάρτησης είναι η ακόλουθη:\n",
    "\n",
    "    lambda arguments: expression"
   ],
   "cell_type": "markdown",
   "metadata": {}
  },
  {
   "cell_type": "code",
   "execution_count": 2,
   "metadata": {},
   "outputs": [
    {
     "output_type": "stream",
     "name": "stdout",
     "text": [
      "κλήση συνάρτησης fun:  10\nκλήση λάμδα συνάρτησης:  10\nκλήση λάμδα συνάρτησης:  10\n"
     ]
    }
   ],
   "source": [
    "# ορισμός και κλήση lambda συναρτήσεων\n",
    "\n",
    "# \"συνηθισμένη\" συνάρτηση \n",
    "def fun(x):\n",
    "    return 2*x\n",
    "print(\"κλήση συνάρτησης fun: \", fun(5))\n",
    "\n",
    "# ίδιο αποτλέλεσμα με το παραπάνω με χρήση lambda συνάρτησης\n",
    "f = lambda x: x * 2 # ανάθεση της lambda συνάρτησης σε μεταβλητή\n",
    "print(\"κλήση λάμδα συνάρτησης: \",  f(5))\n",
    "\n",
    "print(\"κλήση λάμδα συνάρτησης: \",  (lambda x: x *2)(5)) # IIFE=Immediately Invoked Function Expression"
   ]
  },
  {
   "cell_type": "code",
   "execution_count": 1,
   "metadata": {},
   "outputs": [
    {
     "output_type": "execute_result",
     "data": {
      "text/plain": [
       "'Hello John Doe!!!'"
      ]
     },
     "metadata": {},
     "execution_count": 1
    }
   ],
   "source": [
    "# lambda συνάρτηση με 2 παραμέτρους\n",
    "\n",
    "hi = lambda fname, lname : f'Hello {fname} {lname}!!!'\n",
    "hi(\"John\", \"Doe\")"
   ]
  },
  {
   "source": [
    "## Map - filter - reduce\n",
    "\n",
    "Οι συναρτήσεις map(), filter() και functools.reduce() δέχονται ως πρώτο όρισμα μια lambda συνάρτηση."
   ],
   "cell_type": "markdown",
   "metadata": {}
  },
  {
   "cell_type": "code",
   "execution_count": 2,
   "metadata": {},
   "outputs": [
    {
     "output_type": "execute_result",
     "data": {
      "text/plain": [
       "[2, 3, 4, 5]"
      ]
     },
     "metadata": {},
     "execution_count": 2
    }
   ],
   "source": [
    "# map\n",
    "\n",
    "list(map(lambda x: x+1, [1,2,3,4])) # αύξηση κάθε στοιχείου της λίστας κατά 1"
   ]
  },
  {
   "cell_type": "code",
   "execution_count": 3,
   "metadata": {},
   "outputs": [
    {
     "output_type": "execute_result",
     "data": {
      "text/plain": [
       "[2, 4]"
      ]
     },
     "metadata": {},
     "execution_count": 3
    }
   ],
   "source": [
    "# filter\n",
    "\n",
    "list(filter(lambda x: x%2==0, [1,2,3,4])) # διατήρηση μόνο των άρτιων τιμών της λίστας "
   ]
  },
  {
   "source": [
    "# functools.reduce \n",
    "H σύνταξη της reduce() είναι η ακόλουθη:\n",
    "\n",
    "    reduce(function, sequence [,initial])\n",
    "\n",
    "Αρχικά καλείται η συνάρτηση (function) με παραμέτρους τα δύο πρώτα στοιχεία της ακολουθίας (sequence). Το αποτέλεσμα μαζί με το τρίτο στοιχείο της ακολουθίας αποτελούν τις παραμέτρους στη δεύτερη κλήση της συνάρτησης. Η διαδικασία επαναλαμβάνεται μέχρι να εξαντληθούν τα στοιχεία της ακολουθίας. To προαιρετικό όρισμα initial, εφόσον υπάρχει, χρησιμοποιείται έτσι ώστε η διαδικασία αντί να ξεκινήσει με τα δύο πρώτα στοιχεία της ακολουθίας, να ξεκινήσει με αυτό και το πρώτο στοιχείο της ακολουθίας."
   ],
   "cell_type": "markdown",
   "metadata": {}
  },
  {
   "cell_type": "code",
   "execution_count": 11,
   "metadata": {},
   "outputs": [
    {
     "output_type": "stream",
     "name": "stdout",
     "text": [
      "15\n115\n"
     ]
    }
   ],
   "source": [
    "# functools.reduce \n",
    "\n",
    "from functools import reduce\n",
    "\n",
    "print(reduce(lambda sum, x: sum + x, [1,2,3,4,5])) # άθροισμα όλων των τιμών της λίστας\n",
    "print(reduce(lambda sum, x: sum + x, [1,2,3,4,5], 100)) # άθροισμα όλων των τιμών της λίστας με αρχική τιμή 100"
   ]
  },
  {
   "cell_type": "code",
   "execution_count": 3,
   "metadata": {},
   "outputs": [],
   "source": [
    "# παράδειγμα map-filter-reduce"
   ]
  },
  {
   "source": [
    "## Higher order functions (Συναρτήσεις υψηλότερης τάξης)"
   ],
   "cell_type": "markdown",
   "metadata": {}
  },
  {
   "cell_type": "code",
   "execution_count": 3,
   "metadata": {},
   "outputs": [
    {
     "output_type": "execute_result",
     "data": {
      "text/plain": [
       "3"
      ]
     },
     "metadata": {},
     "execution_count": 3
    }
   ],
   "source": [
    "# συνάρτηση υψηλότερης τάξης\n",
    "\n",
    "hof = lambda a, fun: a + fun(a) # anomymous higher order function\n",
    "hof(1, lambda x: x * 2) # 1 + 1 * 2 => 3"
   ]
  },
  {
   "cell_type": "code",
   "execution_count": 9,
   "metadata": {},
   "outputs": [
    {
     "output_type": "execute_result",
     "data": {
      "text/plain": [
       "[7890, 567, 34, 1]"
      ]
     },
     "metadata": {},
     "execution_count": 9
    }
   ],
   "source": [
    "# Φθίνουσα ταξινόμηση λίστας βάσει πλήθους ψηφίων \n",
    "\n",
    "a_list = [34, 567, 1, 7890]\n",
    "a_list.sort(key=lambda x: len(str(x)), reverse=True)\n",
    "a_list"
   ]
  },
  {
   "cell_type": "code",
   "execution_count": 11,
   "metadata": {},
   "outputs": [
    {
     "output_type": "execute_result",
     "data": {
      "text/plain": [
       "[7890, 567, 34, 1]"
      ]
     },
     "metadata": {},
     "execution_count": 11
    }
   ],
   "source": [
    "# Φθίνουσα ταξινόμηση λίστας βάσει πλήθους ψηφίων \n",
    "\n",
    "a_list = [34, 567, 1, 7890]\n",
    "a_list = sorted(a_list, key=lambda x: len(str(x)), reverse=True)\n",
    "a_list"
   ]
  },
  {
   "cell_type": "code",
   "execution_count": 27,
   "metadata": {},
   "outputs": [
    {
     "output_type": "stream",
     "name": "stdout",
     "text": [
      "ΝΊΚΟΣ ΜΑΡΊΑ ΣΟΦΊΑ\nΝΊΚΟΣ ΜΑΡΊΑ ΣΟΦΊΑ\nΝΊΚΟΣ ΜΑΡΊΑ ΣΟΦΊΑ\n"
     ]
    }
   ],
   "source": [
    "# επιστροφή λεκτικού με ονόματα σε κεφαλαία με μήκος λιγότερο από 6 χαρακτήρες\n",
    "\n",
    "names = [\"Νίκος\", \"Πέτρος\", \"Μαρία\", \"Χρήστος\", \"Γιάννης\", \"Κατερίνα\", \"Σοφία\"]\n",
    "\n",
    "tmp1 = map(lambda x: x.upper(), names)\n",
    "tmp2 = filter(lambda x: len(x) <= 5, tmp1)\n",
    "tmp3 = reduce(lambda x, y: f'{x} {y}',tmp2)\n",
    "print(tmp3)\n",
    "\n",
    "# σε 1 εντολή\n",
    "tmp = reduce(lambda x, y: f'{x} {y}', filter(lambda x: len(x) <= 5, map(lambda x: x.upper(), names)))\n",
    "print(tmp)\n",
    "\n",
    "# μπορεί να υπάρχουν απλούστερη και περισσότερο κατανοητοί τρόποι για να επιτευχθεί το ίδιο αποτέλεσμα - δείτε τον ακόλουθο κώδικα που επιτυγχάνει το ίδιο αποτέλεσμα με τους παραπάνω και χρησιμοποιεί comprehension \n",
    "tmp = [s.upper() for s in names if len(s) <=5]\n",
    "print(\" \".join(tmp))\n"
   ]
  },
  {
   "cell_type": "code",
   "execution_count": null,
   "metadata": {},
   "outputs": [],
   "source": []
  }
 ]
}