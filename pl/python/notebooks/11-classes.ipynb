{
 "metadata": {
  "language_info": {
   "codemirror_mode": {
    "name": "ipython",
    "version": 3
   },
   "file_extension": ".py",
   "mimetype": "text/x-python",
   "name": "python",
   "nbconvert_exporter": "python",
   "pygments_lexer": "ipython3",
   "version": "3.8.0-final"
  },
  "orig_nbformat": 2,
  "kernelspec": {
   "name": "python3",
   "display_name": "Python 3.8.0 64-bit",
   "metadata": {
    "interpreter": {
     "hash": "2334294e789e06453e89f7d5c3c2573679701f9bb5b76ad2158f91cca5c9244c"
    }
   }
  }
 },
 "nbformat": 4,
 "nbformat_minor": 2,
 "cells": [
  {
   "source": [
    "    Τμήμα Πληροφορικής και Τηλεπικοινωνιών - Άρτα \n",
    "    Πανεπιστήμιο Ιωαννίνων \n",
    "\n",
    "    Γκόγκος Χρήστος \n",
    "    http://chgogos.github.io/\n",
    "    Εαρινό εξάμηνο 2020-2021"
   ],
   "cell_type": "markdown",
   "metadata": {}
  },
  {
   "source": [
    "# Κλάσεις\n",
    "Οι κλάσεις μπορούν να θεωρηθούν ως αναλυτικές οδηγίες κατασκευής αντικειμένων. Κάθε αντικείμενο έχει μια κατάσταση που περιγράφεται από τις τιμές που λαμβάνουν μέλη δεδομένων και ένα σύνολο από μεθόδους που μπορούν να κληθούν για τα αντικείμενα της κλάσης."
   ],
   "cell_type": "markdown",
   "metadata": {}
  },
  {
   "cell_type": "code",
   "execution_count": null,
   "metadata": {},
   "outputs": [],
   "source": [
    "# στην Python οτιδήποτε είναι αντικείμενο"
   ]
  },
  {
   "cell_type": "code",
   "execution_count": 25,
   "metadata": {},
   "outputs": [
    {
     "output_type": "stream",
     "name": "stdout",
     "text": [
      "{'width': 10, 'length': 10, 'height': 5}\nBox --> width=10 length=10 height=5 volume=500\n10 5 10\n10 5 10\nBox(10, 5, 10)\n"
     ]
    },
    {
     "output_type": "execute_result",
     "data": {
      "text/plain": [
       "Box(10, 5, 10)"
      ]
     },
     "metadata": {},
     "execution_count": 25
    }
   ],
   "source": [
    "# Δημιουργία κλάσης\n",
    "\n",
    "class Box:\n",
    "    \"\"\"Περιγραφή της κλάσης Box\"\"\"\n",
    "\n",
    "    def __init__(self, width, length, height): # κατασκευαστής\n",
    "        self.width = width\n",
    "        self.length = length\n",
    "        self.height = height\n",
    "\n",
    "    def __repr__(self):\n",
    "        \"\"\"\n",
    "        αναπαράσταση του αντικειμένου ως λεκτικό \n",
    "        (κατά την ανάπτυξη, για debugging και για logging)\n",
    "        \"\"\"\n",
    "        return f\"Box(width={self.width}, height={self.height}, length={self.length})\"\n",
    "\n",
    "    def __str__(self):\n",
    "        \"\"\"\n",
    "        αναπαράσταση του αντικειμένου ως λεκτικό \n",
    "        (για τους τελικούς χρήστες της εφαρμογής)\n",
    "        \"\"\"\n",
    "        return f\"{self.width} {self.height} {self.length}\"\n",
    "\n",
    "    def volume(self): # οι συναρτήσεις που δημιουργούνται μέσα σε κλάσεις ονομάζονται μέθοδοι της κλάσης και δέχονται αυτόματα ως πρώτο όρισμα το ίδιο το αντικείμενο από το οποίο καλούνται (η σύμβαση είναι το όνομα του πρώτου ορίσματος να είναι self)\n",
    "        return self.width*self.length*self.height\n",
    "\n",
    "b = Box(10, 10, 5) # Δημιουργία αντικειμένου κλάσης Box\n",
    "\n",
    "print(b.__dict__) # εκτύπωση του λεξικού που διατηρείται για το αντικείμενο\n",
    "\n",
    "print(f\"Box --> width={b.width} length={b.length} height={b.height} volume={b.volume()}\")\n",
    "print(b) # κλήση της __str__\n",
    "print(str(b)) # κλήση της __str__\n",
    "print(repr(b)) # κλήση της __repr__\n",
    "b # κλήση της __repr__"
   ]
  },
  {
   "cell_type": "code",
   "execution_count": null,
   "metadata": {},
   "outputs": [],
   "source": [
    "# Κληρονομικότητα\n",
    "\n",
    "class Mammal:\n",
    "    \n",
    "    def print_info(self):\n",
    "        print(\"Calling print_info of Mammal\")\n",
    "\n",
    "class Cow(Mammal):\n",
    "    \n",
    "    def print_info(self):\n",
    "        print(\"Calling print_info of Cow\")\n",
    "\n",
    "    def sound(self):\n",
    "        print(\"Mooo\")\n",
    "\n",
    "\n",
    "obj1 = Mammal()\n",
    "obj2 = Cow()\n",
    "\n",
    "a_list = [obj1,obj2]\n",
    "for x in a_list:\n",
    "    x.print_info()\n",
    "    if type(x) is Cow: # έλεγχος τύπου αντικειμένου\n",
    "        x.sound()\n"
   ]
  },
  {
   "cell_type": "code",
   "execution_count": null,
   "metadata": {},
   "outputs": [],
   "source": [
    "# Πολυμορφισμός (polymorhism)\n",
    "# duck typing - https://www.geeksforgeeks.org/duck-typing-in-python/\n",
    "\n",
    "class Bird: \n",
    "\tdef fly(self): \n",
    "\t\tprint(\"fly with wings\") \n",
    "\n",
    "class Airplane: \n",
    "\tdef fly(self): \n",
    "\t\tprint(\"fly with fuel\") \n",
    "\n",
    "class Fish: \n",
    "\tdef swim(self): \n",
    "\t\tprint(\"fish swim in sea\") \n",
    "\n",
    "for obj in Bird(), Airplane(), Fish(): \n",
    "\tobj.fly() "
   ]
  },
  {
   "cell_type": "code",
   "execution_count": 9,
   "metadata": {},
   "outputs": [
    {
     "output_type": "stream",
     "name": "stdout",
     "text": [
      "<__main__.Employee object at 0x000001F0B0E9F610>\n<__main__.Employee object at 0x000001F0B0E9F3D0>\nJohn Doe john@company.com\n"
     ]
    }
   ],
   "source": [
    "# Παραδείγματα από το Python OOP Tutorial by Corey Schafer \n",
    "\n",
    "class Employee:\n",
    "    pass\n",
    "\n",
    "emp_1 = Employee()\n",
    "emp_2 = Employee()\n",
    "print(emp_1)\n",
    "print(emp_2)\n",
    "\n",
    "emp_1.fname='John'\n",
    "emp_1.lname='Doe'\n",
    "emp_1.email='john@company.com'\n",
    "\n",
    "print(emp_1.fname, emp_1.lname, emp_1.email)\n",
    "#print(emp_2.name, emp_2.lname, emp_2.email) # AttributeError"
   ]
  },
  {
   "cell_type": "code",
   "execution_count": 14,
   "metadata": {},
   "outputs": [
    {
     "output_type": "stream",
     "name": "stdout",
     "text": [
      "John Doe john@company.com\nJane Doe jane@company.com\nJohn Doe\nJohn Doe\n"
     ]
    }
   ],
   "source": [
    "# instance variables και __init__\n",
    "\n",
    "class Employee:\n",
    "    def __init__(self, fname, lname, email): \n",
    "        self.fname=fname\n",
    "        self.lname=lname\n",
    "        self.email=email\n",
    "\n",
    "    def fullname(self):\n",
    "        return f'{self.fname} {self.lname}'\n",
    "\n",
    "emp_1 = Employee(\"John\", \"Doe\", \"john@company.com\")\n",
    "emp_2 = Employee(\"Jane\", \"Doe\",  \"jane@company.com\")\n",
    "\n",
    "print(emp_1.fname, emp_1.lname, emp_1.email)\n",
    "print(emp_2.fname, emp_1.lname, emp_2.email)\n",
    "\n",
    "print(emp_1.fullname()) # κλήση της μεθόδου fullname\n",
    "print(Employee.fullname(emp_1)) # εναλλακτικός τρόπος κλήσης της μεθόδου fullname"
   ]
  },
  {
   "cell_type": "code",
   "execution_count": 55,
   "metadata": {},
   "outputs": [
    {
     "output_type": "stream",
     "name": "stdout",
     "text": [
      "ΠΛΗΘΟΣ ΥΠΑΛΛΗΛΩΝ=2\n########################################\n1.04\n1.04\n1.04\n########################################\n1.04\n1.07\n1.04\n########################################\n1.09\n1.07\n1.09\n########################################\n1.05\n1.07\n1.05\n########################################\n2021-01-01 True\n2021-01-02 False\n2021-01-03 False\n2021-01-04 True\n2021-01-05 True\n2021-01-06 True\n2021-01-07 True\n"
     ]
    }
   ],
   "source": [
    "# class variables, class methods, static methods \n",
    "import datetime\n",
    "\n",
    "class Employee:\n",
    "\n",
    "    raise_amount = 1.04 # class variable\n",
    "    cnt = 0 # class variable\n",
    "\n",
    "    def __init__(self, fname, lname, email, pay): \n",
    "        self.fname=fname\n",
    "        self.lname=lname\n",
    "        self.email=email\n",
    "        self.pay=pay\n",
    "        Employee.cnt +=1 # πρόσβαση στο κοινό  αντίγραφο της class variable που διατίθεται από την κλάση\n",
    "\n",
    "    def fullname(self):\n",
    "        return f'{self.fname} {self.lname}'\n",
    "\n",
    "    def apply_raise(self):\n",
    "        self.pay = int(self.pay * self.raise_amount) # πρόσβαση στο ξεχωριστό αντίγραφο της class variable που διαθέτει το στιγμιότυπο\n",
    "\n",
    "    @classmethod\n",
    "    def set_raise_amt(cls, amount):\n",
    "        cls.raise_amount = amount\n",
    "\n",
    "    @classmethod\n",
    "    def from_string(cls, emp_str): # class method ως εναλλακτικός κατασκευαστής\n",
    "        fname, lname, email, pay = emp_str.split('-')\n",
    "        return cls(fname, lname, email, pay)\n",
    "\n",
    "    @staticmethod \n",
    "    def is_workday(day): # η μέθοδος δεν προσπελαύνει το σιγμιότυπο ή την κλάση τις εντολές που περιέχει\n",
    "        return not (day.weekday() == 5 or day.weekday() == 6)\n",
    "        \n",
    "\n",
    "emp_1 = Employee(\"John\", \"Doe\", \"john@company.com\", 30000)\n",
    "emp_2 = Employee(\"Jane\", \"Doe\", \"jane@company.com\", 30000)\n",
    "\n",
    "print(f'ΠΛΗΘΟΣ ΥΠΑΛΛΗΛΩΝ={Employee.cnt}')\n",
    "print(\"#\" * 40)\n",
    "\n",
    "print(Employee.raise_amount) # εμφάνιση τιμής class variable\n",
    "print(emp_1.raise_amount)\n",
    "print(emp_2.raise_amount)\n",
    "print(\"#\" * 40)\n",
    "\n",
    "emp_1.raise_amount = 1.07 # αλλαγή αντιγράφου class variable για το αντικείμενο emp_1\n",
    "print(Employee.raise_amount)\n",
    "print(emp_1.raise_amount)\n",
    "print(emp_2.raise_amount)\n",
    "print(\"#\" * 40)\n",
    "\n",
    "Employee.raise_amount = 1.09 # αλλαγή τιμής class variable\n",
    "print(Employee.raise_amount)\n",
    "print(emp_1.raise_amount)\n",
    "print(emp_2.raise_amount)\n",
    "print(\"#\" * 40)\n",
    "\n",
    "Employee.set_raise_amt(1.05) # κλήση της class μεθόδου για την αλλαγή της class variable\n",
    "print(Employee.raise_amount)\n",
    "print(emp_1.raise_amount)\n",
    "print(emp_2.raise_amount)\n",
    "print(\"#\" * 40)\n",
    "\n",
    "\n",
    "for day in range(1,8):\n",
    "    my_date = datetime.date(year=2021,month=1,day=day)\n",
    "    print(my_date, my_date,Employee.is_workday(my_date)) # κλήση της static μεθόδου"
   ]
  },
  {
   "cell_type": "code",
   "execution_count": 4,
   "metadata": {},
   "outputs": [
    {
     "output_type": "stream",
     "name": "stdout",
     "text": [
      "Help on Developer in module __main__ object:\n\nclass Developer(Employee)\n |  Developer(fname, lname, email, pay)\n |  \n |  Method resolution order:\n |      Developer\n |      Employee\n |      builtins.object\n |  \n |  Methods inherited from Employee:\n |  \n |  __init__(self, fname, lname, email, pay)\n |      Initialize self.  See help(type(self)) for accurate signature.\n |  \n |  fullname(self)\n |  \n |  ----------------------------------------------------------------------\n |  Data descriptors inherited from Employee:\n |  \n |  __dict__\n |      dictionary for instance variables (if defined)\n |  \n |  __weakref__\n |      list of weak references to the object (if defined)\n\nNone\n"
     ]
    }
   ],
   "source": [
    "# Κληρονομικότητα\n",
    "\n",
    "class Employee:\n",
    "    \n",
    "    def __init__(self, fname, lname, email, pay): \n",
    "        self.fname=fname\n",
    "        self.lname=lname\n",
    "        self.email=email\n",
    "        self.pay=pay\n",
    "\n",
    "    def fullname(self):\n",
    "        return f'{self.fname} {self.lname}'\n",
    "\n",
    "class Developer(Employee):\n",
    "    pass\n",
    "\n",
    "dev_1 = Developer(\"John\", \"Doe\", \"john@company.com\", 30000)\n",
    "dev_2 = Developer(\"Jane\", \"Doe\", \"jane@company.com\", 30000)\n",
    "\n",
    "print(help(dev_1))"
   ]
  },
  {
   "cell_type": "code",
   "execution_count": 24,
   "metadata": {},
   "outputs": [
    {
     "output_type": "stream",
     "name": "stdout",
     "text": [
      "John Doe Python\nJane Doe C++\nTim Cook\n--> John Doe\nTim Cook\n--> John Doe\n--> Jane Doe\nTrue\nTrue\nTrue\nFalse\n"
     ]
    }
   ],
   "source": [
    "class Employee:\n",
    "    \n",
    "    def __init__(self, fname, lname, email, pay): \n",
    "        self.fname=fname\n",
    "        self.lname=lname\n",
    "        self.email=email\n",
    "        self.pay=pay\n",
    "\n",
    "    def fullname(self):\n",
    "        return f'{self.fname} {self.lname}'\n",
    "\n",
    "class Developer(Employee):\n",
    "    def __init__(self, fname, lname, email, pay, prog_lang):\n",
    "        super().__init__(fname, lname, email, pay)\n",
    "        self.prog_lang = prog_lang \n",
    "\n",
    "class Manager(Employee):\n",
    "    def __init__(self, fname, lname, email, pay, employees=None):\n",
    "        super().__init__(fname, lname, email, pay)\n",
    "        if employees is None:\n",
    "            self.employees = []\n",
    "        else:\n",
    "            self.employees = employees\n",
    "\n",
    "    def add_employee(self, emp):\n",
    "        if emp not in self.employees:\n",
    "            self.employees.append(emp)\n",
    "\n",
    "    def print_emps(self):\n",
    "        for emp in self.employees:\n",
    "            print(\"-->\", emp.fullname())\n",
    "\n",
    "dev_1 = Developer(\"John\", \"Doe\", \"john@company.com\", 30000, \"Python\")\n",
    "dev_2 = Developer(\"Jane\", \"Doe\", \"jane@company.com\", 30000, \"C++\")\n",
    "mgr_1 = Manager(\"Tim\", \"Cook\", \"tim@company.com\", 100000, [dev_1])\n",
    "\n",
    "print(dev_1.fullname(), dev_1.prog_lang)\n",
    "print(dev_2.fullname(), dev_2.prog_lang)\n",
    "\n",
    "print(mgr_1.fullname())\n",
    "mgr_1.print_emps()\n",
    "\n",
    "print(mgr_1.fullname())\n",
    "mgr_1.add_employee(dev_2)\n",
    "mgr_1.print_emps()\n",
    "\n",
    "print(isinstance(mgr_1, Manager))\n",
    "print(isinstance(mgr_1, Employee))\n",
    "\n",
    "print(issubclass(Manager, Employee))\n",
    "print(issubclass(Developer, Manager))"
   ]
  },
  {
   "cell_type": "code",
   "execution_count": 27,
   "metadata": {},
   "outputs": [
    {
     "output_type": "stream",
     "name": "stdout",
     "text": [
      "3\n3\n4\n"
     ]
    }
   ],
   "source": [
    "# magic methods (dunders)\n",
    "\n",
    "print(1+2)\n",
    "\n",
    "print(int.__add__(1,2))\n",
    "\n",
    "print('test'.__len__())"
   ]
  },
  {
   "cell_type": "code",
   "execution_count": 37,
   "metadata": {},
   "outputs": [
    {
     "output_type": "stream",
     "name": "stdout",
     "text": [
      "John Doe\nJohn Smith\nBob Unknown\nName deleted\nNone None\n"
     ]
    }
   ],
   "source": [
    "# property decorators\n",
    "\n",
    "class Employee:\n",
    "    \n",
    "    def __init__(self, fname, lname): \n",
    "        self.fname=fname\n",
    "        self.lname=lname\n",
    "\n",
    "    @property\n",
    "    def fullname(self):\n",
    "        return f'{self.fname} {self.lname}'\n",
    "\n",
    "    @fullname.setter\n",
    "    def fullname(self, name):\n",
    "        fname, lname = name.split(' ')\n",
    "        self.fname = fname\n",
    "        self.lname = lname\n",
    "\n",
    "    @fullname.deleter\n",
    "    def fullname(self):\n",
    "        print('Name deleted')\n",
    "        self.fname = None\n",
    "        self.lname = None\n",
    "\n",
    "emp_1 = Employee(\"John\", \"Doe\")\n",
    "print(emp_1.fullname) # property fullname\n",
    "\n",
    "emp_1.lname = \"Smith\"\n",
    "print(emp_1.fullname) # property fullname\n",
    "\n",
    "emp_1.fullname = \"Bob Unknown\" # property fullname.setter\n",
    "print(emp_1.fullname) # property fullname\n",
    "\n",
    "del emp_1.fullname\n",
    "print(emp_1.fullname) # property fullname"
   ]
  },
  {
   "cell_type": "code",
   "execution_count": null,
   "metadata": {},
   "outputs": [],
   "source": []
  }
 ]
}