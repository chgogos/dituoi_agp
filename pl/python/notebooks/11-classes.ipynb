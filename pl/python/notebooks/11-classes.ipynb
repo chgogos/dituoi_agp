{
 "metadata": {
  "language_info": {
   "codemirror_mode": {
    "name": "ipython",
    "version": 3
   },
   "file_extension": ".py",
   "mimetype": "text/x-python",
   "name": "python",
   "nbconvert_exporter": "python",
   "pygments_lexer": "ipython3",
   "version": "3.8.0-final"
  },
  "orig_nbformat": 2,
  "kernelspec": {
   "name": "python3",
   "display_name": "Python 3.8.0 64-bit",
   "metadata": {
    "interpreter": {
     "hash": "2334294e789e06453e89f7d5c3c2573679701f9bb5b76ad2158f91cca5c9244c"
    }
   }
  }
 },
 "nbformat": 4,
 "nbformat_minor": 2,
 "cells": [
  {
   "source": [
    "    Τμήμα Πληροφορικής και Τηλεπικοινωνιών - Άρτα \n",
    "    Πανεπιστήμιο Ιωαννίνων \n",
    "\n",
    "    Γκόγκος Χρήστος \n",
    "    http://chgogos.github.io/\n",
    "    Εαρινό εξάμηνο 2020-2021"
   ],
   "cell_type": "markdown",
   "metadata": {}
  },
  {
   "source": [
    "# Κλάσεις\n",
    "Οι κλάσεις μπορούν να θεωρηθούν ως αναλυτικές οδηγίες κατασκευής αντικειμένων. Κάθε αντικείμενο έχει μια κατάσταση που περιγράφεται από τις τιμές που λαμβάνουν μέλη δεδομένων και ένα σύνολο από μεθόδους που μπορούν να κληθούν.\n",
    "\n",
    "Στην Python οτιδήποτε είναι αντικείμενο. "
   ],
   "cell_type": "markdown",
   "metadata": {}
  },
  {
   "cell_type": "code",
   "execution_count": 7,
   "metadata": {},
   "outputs": [
    {
     "output_type": "stream",
     "name": "stdout",
     "text": [
      "Box --> width=10 length=10 height=5 volume=500\n10 5 10\n10 5 10\nBox width=10, height=5, length=10\n"
     ]
    },
    {
     "output_type": "execute_result",
     "data": {
      "text/plain": [
       "Box width=10, height=5, length=10"
      ]
     },
     "metadata": {},
     "execution_count": 7
    }
   ],
   "source": [
    "# Δημιουργία κλάσης\n",
    "\n",
    "class Box:\n",
    "    \"\"\"Περιγραφή της κλάσης Box\"\"\"\n",
    "\n",
    "    def __init__(self, width, length, height): # κατασκευαστής\n",
    "        self.width = width\n",
    "        self.length = length\n",
    "        self.height = height\n",
    "\n",
    "    def __repr__(self):\n",
    "        \"\"\"\n",
    "        αναπαράσταση του αντικειμένου ως λεκτικό \n",
    "        (κατά την ανάπτυξη και για debugging)\n",
    "        \"\"\"\n",
    "        return f\"Box width={self.width}, height={self.height}, length={self.length}\"\n",
    "\n",
    "    def __str__(self):\n",
    "        \"\"\"\n",
    "        αναπαράσταση του αντικειμένου ως λεκτικό \n",
    "        (για τους τελικούς χρήστες της εφαρμογής)\n",
    "        \"\"\"\n",
    "        return f\"{self.width} {self.height} {self.length}\"\n",
    "\n",
    "    def volume(self):\n",
    "        return self.width*self.length*self.height\n",
    "\n",
    "# Δημιουργία αντικειμένου κλάσης Box\n",
    "b = Box(10, 10, 5)\n",
    "\n",
    "print(f\"Box --> width={b.width} length={b.length} height={b.height} volume={b.volume()}\")\n",
    "print(b) # κλήση της __str__\n",
    "print(str(b)) # κλήση της __str__\n",
    "print(repr(b)) # κλήση της __repr__\n",
    "b # κλήση της __repr__"
   ]
  },
  {
   "cell_type": "code",
   "execution_count": 3,
   "metadata": {},
   "outputs": [
    {
     "output_type": "stream",
     "name": "stdout",
     "text": [
      "Calling print_info of Mammal\nCalling print_info of Cow\nMooo\n"
     ]
    }
   ],
   "source": [
    "# Κληρονομικότητα\n",
    "\n",
    "class Mammal:\n",
    "    \n",
    "    def print_info(self):\n",
    "        print(\"Calling print_info of Mammal\")\n",
    "\n",
    "class Cow(Mammal):\n",
    "    \n",
    "    def print_info(self):\n",
    "        print(\"Calling print_info of Cow\")\n",
    "\n",
    "    def sound(self):\n",
    "        print(\"Mooo\")\n",
    "\n",
    "\n",
    "obj1 = Mammal()\n",
    "obj2 = Cow()\n",
    "\n",
    "a_list = [obj1,obj2]\n",
    "for x in a_list:\n",
    "    x.print_info()\n",
    "    if type(x) is Cow: # έλεγχος τύπου αντικειμένου\n",
    "        x.sound()\n"
   ]
  },
  {
   "cell_type": "code",
   "execution_count": null,
   "metadata": {},
   "outputs": [],
   "source": [
    "# Πολυμορφισμός (polymorhism)\n",
    "# Duck typing"
   ]
  },
  {
   "cell_type": "code",
   "execution_count": null,
   "metadata": {},
   "outputs": [],
   "source": []
  }
 ]
}