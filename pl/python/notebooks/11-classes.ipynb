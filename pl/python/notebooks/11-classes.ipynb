{
 "cells": [
  {
   "cell_type": "markdown",
   "metadata": {},
   "source": [
    "    Τμήμα Πληροφορικής και Τηλεπικοινωνιών - Άρτα \n",
    "    Πανεπιστήμιο Ιωαννίνων \n",
    "\n",
    "    Γκόγκος Χρήστος \n",
    "    http://chgogos.github.io/\n",
    "    \n",
    "    26/2/2022"
   ]
  },
  {
   "cell_type": "markdown",
   "metadata": {},
   "source": [
    "# Κλάσεις\n",
    "Οι κλάσεις μπορούν να θεωρηθούν ως αναλυτικές οδηγίες κατασκευής αντικειμένων. Κάθε αντικείμενο έχει μια κατάσταση που περιγράφεται από τις τιμές που λαμβάνουν μέλη δεδομένων και ένα σύνολο από μεθόδους που μπορούν να κληθούν για τα αντικείμενα της κλάσης.\n",
    "\n",
    "Στην Python οτιδήποτε είναι αντικείμενο."
   ]
  },
  {
   "cell_type": "code",
   "execution_count": 3,
   "metadata": {},
   "outputs": [
    {
     "name": "stdout",
     "output_type": "stream",
     "text": [
      "Alf 5\n",
      "Adelle Maltesse\n"
     ]
    }
   ],
   "source": [
    "# Στην Python οι μεταβλητές των στιγμιοτύπων ορίζονται έμμεσα (implicitly)\n",
    "\n",
    "class Dog:\n",
    "    pass\n",
    "\n",
    "dog1 = Dog()\n",
    "dog1.name = 'Alf'\n",
    "dog1.age = 5\n",
    "print(dog1.name, dog1.age)\n",
    "\n",
    "dog2 = Dog()\n",
    "dog2.name = 'Adelle'\n",
    "dog2.breed = 'Maltesse'\n",
    "print(dog2.name, dog2.breed)"
   ]
  },
  {
   "cell_type": "code",
   "execution_count": 4,
   "metadata": {},
   "outputs": [
    {
     "name": "stdout",
     "output_type": "stream",
     "text": [
      "Alf 5\n"
     ]
    }
   ],
   "source": [
    "# οι μεταβλητές των στιγμιοτύπων μπορούν να οριστούν και μέσω του κατασκευαστή (της μεθόδου __init__) έτσι ώστε να \"επιβληθεί ομοιομορφία\" για τα στιγμιότυπα μιας κλάσης \n",
    "\n",
    "class Dog:\n",
    "    def __init__(self, name, age):\n",
    "        self.name=name\n",
    "        self.age=age\n",
    "\n",
    "dog1 = Dog('Alf', 5)\n",
    "print(dog1.name, dog1.age)"
   ]
  },
  {
   "cell_type": "code",
   "execution_count": 5,
   "metadata": {},
   "outputs": [
    {
     "name": "stdout",
     "output_type": "stream",
     "text": [
      "1000\n",
      "10\n",
      "W=10 H=20 L=5\n",
      "{'width': 10, 'length': 5, 'height': 20}\n",
      "Box --> width=10 length=5 height=20 volume=1000\n",
      "W=10 H=20 L=5\n",
      "W=10 H=20 L=5\n",
      "Box(width=10, height=20, length=5)\n"
     ]
    },
    {
     "data": {
      "text/plain": [
       "Box(width=10, height=20, length=5)"
      ]
     },
     "execution_count": 5,
     "metadata": {},
     "output_type": "execute_result"
    }
   ],
   "source": [
    "# Παράδειγμα κλάσης Box, οι μέθοδοι __str__ και __repr__\n",
    "\n",
    "class Box:\n",
    "    \"\"\"Περιγραφή της κλάσης Box\"\"\"\n",
    "\n",
    "    def __init__(self, width, length, height):  # κατασκευαστής\n",
    "        self.width = width\n",
    "        self.length = length\n",
    "        self.height = height\n",
    "\n",
    "    def __repr__(self):\n",
    "        \"\"\"\n",
    "        αναπαράσταση του αντικειμένου ως λεκτικό\n",
    "        (κατά την ανάπτυξη, για debugging και για logging)\n",
    "        \"\"\"\n",
    "        return f\"Box(width={self.width}, height={self.height}, length={self.length})\"\n",
    "\n",
    "    def __str__(self):\n",
    "        \"\"\"\n",
    "        αναπαράσταση του αντικειμένου ως λεκτικό\n",
    "        (για τους τελικούς χρήστες της εφαρμογής)\n",
    "        \"\"\"\n",
    "        return f\"W={self.width} H={self.height} L={self.length}\"\n",
    "\n",
    "    def volume(\n",
    "        self\n",
    "    ):  # οι συναρτήσεις που δημιουργούνται μέσα σε κλάσεις ονομάζονται μέθοδοι της κλάσης και δέχονται αυτόματα ως πρώτο όρισμα το ίδιο το αντικείμενο από το οποίο καλούνται (η σύμβαση είναι το όνομα του πρώτου ορίσματος να είναι self)\n",
    "        return self.width * self.length * self.height\n",
    "\n",
    "\n",
    "b = Box(10,5,20)  # Δημιουργία αντικειμένου κλάσης Box\n",
    "print(b.volume())\n",
    "print(b.width)\n",
    "print(str(b))\n",
    "\n",
    "print(b.__dict__)  # εκτύπωση του λεξικού που διατηρείται για το αντικείμενο\n",
    "\n",
    "print(f\"Box --> width={b.width} length={b.length} height={b.height} volume={b.volume()}\")\n",
    "print(b)  # κλήση της __str__\n",
    "print(str(b))  # κλήση της __str__\n",
    "print(repr(b))  # κλήση της __repr__\n",
    "b  # κλήση της __repr__"
   ]
  },
  {
   "cell_type": "code",
   "execution_count": 6,
   "metadata": {},
   "outputs": [
    {
     "name": "stdout",
     "output_type": "stream",
     "text": [
      "Calling print_info of Mammal\n",
      "Calling print_info of Cow\n",
      "Mooo\n"
     ]
    }
   ],
   "source": [
    "# Κληρονομικότητα\n",
    "\n",
    "\n",
    "class Mammal:\n",
    "    def print_info(self):\n",
    "        print(\"Calling print_info of Mammal\")\n",
    "\n",
    "\n",
    "class Cow(Mammal):\n",
    "    def print_info(self):\n",
    "        print(\"Calling print_info of Cow\")\n",
    "\n",
    "    def sound(self):\n",
    "        print(\"Mooo\")\n",
    "\n",
    "\n",
    "obj1 = Mammal()\n",
    "obj2 = Cow()\n",
    "\n",
    "a_list = [obj1, obj2]\n",
    "for x in a_list:\n",
    "    x.print_info()\n",
    "    if type(x) is Cow:  # έλεγχος τύπου αντικειμένου\n",
    "        x.sound()"
   ]
  },
  {
   "cell_type": "code",
   "execution_count": 7,
   "metadata": {},
   "outputs": [
    {
     "name": "stdout",
     "output_type": "stream",
     "text": [
      "fly with wings\n",
      "fly with fuel\n"
     ]
    }
   ],
   "source": [
    "# Πολυμορφισμός (polymorhism)\n",
    "# duck typing - https://www.geeksforgeeks.org/duck-typing-in-python/\n",
    "\n",
    "\n",
    "class Bird:\n",
    "    def fly(self):\n",
    "        print(\"fly with wings\")\n",
    "\n",
    "\n",
    "class Airplane:\n",
    "    def fly(self):\n",
    "        print(\"fly with fuel\")\n",
    "\n",
    "\n",
    "class Fish:\n",
    "    def swim(self):\n",
    "        print(\"fish swim in sea\")\n",
    "\n",
    "\n",
    "for obj in Bird(), Airplane(), Fish():\n",
    "    if type(obj) in [Bird, Airplane]: \n",
    "        obj.fly()"
   ]
  },
  {
   "cell_type": "code",
   "execution_count": 8,
   "metadata": {},
   "outputs": [
    {
     "name": "stdout",
     "output_type": "stream",
     "text": [
      "<__main__.Employee object at 0x000002084FFEEB30>\n",
      "<__main__.Employee object at 0x000002084FFEFE50>\n",
      "John Doe john@company.com\n"
     ]
    }
   ],
   "source": [
    "# Παραδείγματα από το Python OOP Tutorial by Corey Schafer\n",
    "\n",
    "class Employee:\n",
    "    pass\n",
    "\n",
    "emp_1 = Employee()\n",
    "emp_2 = Employee()\n",
    "print(emp_1)\n",
    "print(emp_2)\n",
    "\n",
    "emp_1.fname = \"John\"\n",
    "emp_1.lname = \"Doe\"\n",
    "emp_1.email = \"john@company.com\"\n",
    "\n",
    "print(emp_1.fname, emp_1.lname, emp_1.email)\n",
    "# print(emp_2.name, emp_2.lname, emp_2.email) # AttributeError"
   ]
  },
  {
   "cell_type": "code",
   "execution_count": 9,
   "metadata": {},
   "outputs": [
    {
     "name": "stdout",
     "output_type": "stream",
     "text": [
      "John Doe john@company.com\n",
      "Jane Doe jane@company.com\n",
      "John Doe\n",
      "John Doe\n"
     ]
    }
   ],
   "source": [
    "# instance variables και __init__\n",
    "\n",
    "class Employee:\n",
    "    def __init__(self, fname, lname, email):\n",
    "        self.fname = fname\n",
    "        self.lname = lname\n",
    "        self.email = email\n",
    "\n",
    "    def fullname(self):\n",
    "        return f\"{self.fname} {self.lname}\"\n",
    "\n",
    "\n",
    "emp_1 = Employee(\"John\", \"Doe\", \"john@company.com\")\n",
    "emp_2 = Employee(\"Jane\", \"Doe\", \"jane@company.com\")\n",
    "\n",
    "print(emp_1.fname, emp_1.lname, emp_1.email)\n",
    "print(emp_2.fname, emp_1.lname, emp_2.email)\n",
    "\n",
    "print(emp_1.fullname())  # κλήση της μεθόδου fullname\n",
    "print(Employee.fullname(emp_1))  # εναλλακτικός τρόπος κλήσης της μεθόδου fullname"
   ]
  },
  {
   "cell_type": "code",
   "execution_count": 10,
   "metadata": {},
   "outputs": [
    {
     "name": "stdout",
     "output_type": "stream",
     "text": [
      "ΠΛΗΘΟΣ ΥΠΑΛΛΗΛΩΝ=2\n",
      "########################################\n",
      "1.04\n",
      "1.04\n",
      "1.04\n",
      "########################################\n",
      "1.04\n",
      "1.07\n",
      "1.04\n",
      "########################################\n",
      "1.09\n",
      "1.07\n",
      "1.09\n",
      "########################################\n",
      "1.05\n",
      "1.07\n",
      "1.05\n",
      "########################################\n",
      "2021-01-01 2021-01-01 True\n",
      "2021-01-02 2021-01-02 False\n",
      "2021-01-03 2021-01-03 False\n",
      "2021-01-04 2021-01-04 True\n",
      "2021-01-05 2021-01-05 True\n",
      "2021-01-06 2021-01-06 True\n",
      "2021-01-07 2021-01-07 True\n"
     ]
    }
   ],
   "source": [
    "# class variables, class methods, static methods\n",
    "import datetime\n",
    "\n",
    "\n",
    "class Employee:\n",
    "\n",
    "    raise_amount = 1.04  # class variable\n",
    "    cnt = 0  # class variable\n",
    "\n",
    "    def __init__(self, fname, lname, email, pay):\n",
    "        self.fname = fname\n",
    "        self.lname = lname\n",
    "        self.email = email\n",
    "        self.pay = pay\n",
    "        Employee.cnt += 1  # πρόσβαση στο κοινό  αντίγραφο της class variable που διατίθεται από την κλάση\n",
    "\n",
    "    def fullname(self):\n",
    "        return f\"{self.fname} {self.lname}\"\n",
    "\n",
    "    def apply_raise(self):\n",
    "        self.pay = int(\n",
    "            self.pay * self.raise_amount\n",
    "        )  # πρόσβαση στο ξεχωριστό αντίγραφο της class variable που διαθέτει το στιγμιότυπο\n",
    "\n",
    "    @classmethod\n",
    "    def set_raise_amt(cls, amount):\n",
    "        cls.raise_amount = amount\n",
    "\n",
    "    @classmethod\n",
    "    def from_string(cls, emp_str):  # class method ως εναλλακτικός κατασκευαστής\n",
    "        fname, lname, email, pay = emp_str.split(\"-\")\n",
    "        return cls(fname, lname, email, pay)\n",
    "\n",
    "    @staticmethod\n",
    "    def is_workday(\n",
    "        day,\n",
    "    ):  # η μέθοδος δεν προσπελαύνει το σιγμιότυπο ή την κλάση τις εντολές που περιέχει\n",
    "        return not (day.weekday() == 5 or day.weekday() == 6)\n",
    "\n",
    "\n",
    "emp_1 = Employee(\"John\", \"Doe\", \"john@company.com\", 30000)\n",
    "emp_2 = Employee(\"Jane\", \"Doe\", \"jane@company.com\", 30000)\n",
    "\n",
    "print(f\"ΠΛΗΘΟΣ ΥΠΑΛΛΗΛΩΝ={Employee.cnt}\")\n",
    "print(\"#\" * 40)\n",
    "\n",
    "print(Employee.raise_amount)  # εμφάνιση τιμής class variable\n",
    "print(emp_1.raise_amount)\n",
    "print(emp_2.raise_amount)\n",
    "print(\"#\" * 40)\n",
    "\n",
    "emp_1.raise_amount = 1.07  # αλλαγή αντιγράφου class variable για το αντικείμενο emp_1\n",
    "print(Employee.raise_amount)\n",
    "print(emp_1.raise_amount)\n",
    "print(emp_2.raise_amount)\n",
    "print(\"#\" * 40)\n",
    "\n",
    "Employee.raise_amount = 1.09  # αλλαγή τιμής class variable\n",
    "print(Employee.raise_amount)\n",
    "print(emp_1.raise_amount)\n",
    "print(emp_2.raise_amount)\n",
    "print(\"#\" * 40)\n",
    "\n",
    "Employee.set_raise_amt(\n",
    "    1.05\n",
    ")  # κλήση της class μεθόδου για την αλλαγή της class variable\n",
    "print(Employee.raise_amount)\n",
    "print(emp_1.raise_amount)\n",
    "print(emp_2.raise_amount)\n",
    "print(\"#\" * 40)\n",
    "\n",
    "\n",
    "for day in range(1, 8):\n",
    "    my_date = datetime.date(year=2021, month=1, day=day)\n",
    "    print(my_date, my_date, Employee.is_workday(my_date))  # κλήση της static μεθόδου"
   ]
  },
  {
   "cell_type": "code",
   "execution_count": 11,
   "metadata": {},
   "outputs": [
    {
     "name": "stdout",
     "output_type": "stream",
     "text": [
      "Help on Developer in module __main__ object:\n",
      "\n",
      "class Developer(Employee)\n",
      " |  Developer(fname, lname, email, pay)\n",
      " |  \n",
      " |  Method resolution order:\n",
      " |      Developer\n",
      " |      Employee\n",
      " |      builtins.object\n",
      " |  \n",
      " |  Methods inherited from Employee:\n",
      " |  \n",
      " |  __init__(self, fname, lname, email, pay)\n",
      " |      Initialize self.  See help(type(self)) for accurate signature.\n",
      " |  \n",
      " |  fullname(self)\n",
      " |  \n",
      " |  ----------------------------------------------------------------------\n",
      " |  Data descriptors inherited from Employee:\n",
      " |  \n",
      " |  __dict__\n",
      " |      dictionary for instance variables (if defined)\n",
      " |  \n",
      " |  __weakref__\n",
      " |      list of weak references to the object (if defined)\n",
      "\n",
      "None\n"
     ]
    }
   ],
   "source": [
    "# Κληρονομικότητα\n",
    "\n",
    "\n",
    "class Employee:\n",
    "    def __init__(self, fname, lname, email, pay):\n",
    "        self.fname = fname\n",
    "        self.lname = lname\n",
    "        self.email = email\n",
    "        self.pay = pay\n",
    "\n",
    "    def fullname(self):\n",
    "        return f\"{self.fname} {self.lname}\"\n",
    "\n",
    "\n",
    "class Developer(Employee):\n",
    "    pass\n",
    "\n",
    "\n",
    "dev_1 = Developer(\"John\", \"Doe\", \"john@company.com\", 30000)\n",
    "dev_2 = Developer(\"Jane\", \"Doe\", \"jane@company.com\", 30000)\n",
    "\n",
    "print(help(dev_1))"
   ]
  },
  {
   "cell_type": "code",
   "execution_count": 12,
   "metadata": {},
   "outputs": [
    {
     "name": "stdout",
     "output_type": "stream",
     "text": [
      "John Doe Python\n",
      "Jane Doe C++\n",
      "Tim Cook\n",
      "--> John Doe\n",
      "Tim Cook\n",
      "--> John Doe\n",
      "--> Jane Doe\n",
      "True\n",
      "True\n",
      "True\n",
      "False\n"
     ]
    }
   ],
   "source": [
    "class Employee:\n",
    "    def __init__(self, fname, lname, email, pay):\n",
    "        self.fname = fname\n",
    "        self.lname = lname\n",
    "        self.email = email\n",
    "        self.pay = pay\n",
    "\n",
    "    def fullname(self):\n",
    "        return f\"{self.fname} {self.lname}\"\n",
    "\n",
    "\n",
    "class Developer(Employee):\n",
    "    def __init__(self, fname, lname, email, pay, prog_lang):\n",
    "        super().__init__(fname, lname, email, pay)\n",
    "        self.prog_lang = prog_lang\n",
    "\n",
    "\n",
    "class Manager(Employee):\n",
    "    def __init__(self, fname, lname, email, pay, employees=None):\n",
    "        super().__init__(fname, lname, email, pay)\n",
    "        if employees is None:\n",
    "            self.employees = []\n",
    "        else:\n",
    "            self.employees = employees\n",
    "\n",
    "    def add_employee(self, emp):\n",
    "        if emp not in self.employees:\n",
    "            self.employees.append(emp)\n",
    "\n",
    "    def print_emps(self):\n",
    "        for emp in self.employees:\n",
    "            print(\"-->\", emp.fullname())\n",
    "\n",
    "\n",
    "dev_1 = Developer(\"John\", \"Doe\", \"john@company.com\", 30000, \"Python\")\n",
    "dev_2 = Developer(\"Jane\", \"Doe\", \"jane@company.com\", 30000, \"C++\")\n",
    "mgr_1 = Manager(\"Tim\", \"Cook\", \"tim@company.com\", 100000, [dev_1])\n",
    "\n",
    "print(dev_1.fullname(), dev_1.prog_lang)\n",
    "print(dev_2.fullname(), dev_2.prog_lang)\n",
    "\n",
    "print(mgr_1.fullname())\n",
    "mgr_1.print_emps()\n",
    "\n",
    "print(mgr_1.fullname())\n",
    "mgr_1.add_employee(dev_2)\n",
    "mgr_1.print_emps()\n",
    "\n",
    "print(isinstance(mgr_1, Manager))\n",
    "print(isinstance(mgr_1, Employee))\n",
    "\n",
    "print(issubclass(Manager, Employee))\n",
    "print(issubclass(Developer, Manager))"
   ]
  },
  {
   "cell_type": "code",
   "execution_count": 13,
   "metadata": {},
   "outputs": [
    {
     "name": "stdout",
     "output_type": "stream",
     "text": [
      "John Doe\n",
      "John Smith\n",
      "Bob Unknown\n",
      "Name deleted\n",
      "None None\n"
     ]
    }
   ],
   "source": [
    "# property decorators\n",
    "\n",
    "\n",
    "class Employee:\n",
    "    def __init__(self, fname, lname):\n",
    "        self.fname = fname\n",
    "        self.lname = lname\n",
    "\n",
    "    @property\n",
    "    def fullname(self):\n",
    "        return f\"{self.fname} {self.lname}\"\n",
    "\n",
    "    @fullname.setter\n",
    "    def fullname(self, name):\n",
    "        fname, lname = name.split(\" \")\n",
    "        self.fname = fname\n",
    "        self.lname = lname\n",
    "\n",
    "    @fullname.deleter\n",
    "    def fullname(self):\n",
    "        print(\"Name deleted\")\n",
    "        self.fname = None\n",
    "        self.lname = None\n",
    "\n",
    "\n",
    "emp_1 = Employee(\"John\", \"Doe\")\n",
    "print(emp_1.fullname)  # property fullname\n",
    "\n",
    "emp_1.lname = \"Smith\"\n",
    "print(emp_1.fullname)  # property fullname\n",
    "\n",
    "emp_1.fullname = \"Bob Unknown\"  # property fullname.setter\n",
    "print(emp_1.fullname)  # property fullname\n",
    "\n",
    "del emp_1.fullname\n",
    "print(emp_1.fullname)  # property fullname"
   ]
  },
  {
   "cell_type": "markdown",
   "metadata": {},
   "source": [
    "## Υπερφόρτωση κατασκευαστή"
   ]
  },
  {
   "cell_type": "code",
   "execution_count": 14,
   "metadata": {},
   "outputs": [
    {
     "name": "stdout",
     "output_type": "stream",
     "text": [
      "W=10 H=10 L=10\n",
      "W=10 H=30 L=20\n",
      "Λάθος αριθμός ορισμάτων κατά τη δημιουργία του αντικειμένου\n"
     ]
    }
   ],
   "source": [
    "# Υπερφόρτωση κατασκευαστή με χρήση προκαθορισμένων τιμών στα ορίσματα του κατασκευαστή\n",
    "\n",
    "class Box:\n",
    "    def __init__(self, width, length=None, height=None):\n",
    "        if length is None and height is None:\n",
    "            self.width = width\n",
    "            self.length = width\n",
    "            self.height = width\n",
    "        elif length is not None and height is not None:\n",
    "            self.width = width\n",
    "            self.length = length\n",
    "            self.height = height\n",
    "        else:\n",
    "            raise ValueError(\"Λάθος αριθμός ορισμάτων κατά τη δημιουργία του αντικειμένου\")\n",
    "\n",
    "    def __str__(self):\n",
    "        return f\"W={self.width} H={self.height} L={self.length}\"\n",
    "\n",
    "\n",
    "b1 = Box(10)\n",
    "print(b1)\n",
    "\n",
    "b2 = Box(10,20,30)\n",
    "print(b2)\n",
    "\n",
    "try:\n",
    "    b3 = Box(10,20)\n",
    "    print(b3)\n",
    "except ValueError as err:\n",
    "    print(err)"
   ]
  },
  {
   "cell_type": "code",
   "execution_count": 15,
   "metadata": {},
   "outputs": [
    {
     "name": "stdout",
     "output_type": "stream",
     "text": [
      "W=10 H=10 L=10\n",
      "W=10 H=30 L=20\n",
      "Λάθος αριθμός ορισμάτων κατά τη δημιουργία του αντικειμένου\n"
     ]
    }
   ],
   "source": [
    "# Υπερφόρτωση κατασκευαστή με χρήση *args\n",
    "\n",
    "class Box:\n",
    "    def __init__(self, *args):\n",
    "        if len(args)==1:\n",
    "            self.width = args[0]\n",
    "            self.length = args[0]\n",
    "            self.height = args[0]\n",
    "        elif len(args)==3:\n",
    "            self.width = args[0]\n",
    "            self.length = args[1]\n",
    "            self.height = args[2]\n",
    "        else:\n",
    "            raise ValueError(\"Λάθος αριθμός ορισμάτων κατά τη δημιουργία του αντικειμένου\")\n",
    "\n",
    "    def __str__(self):\n",
    "        return f\"W={self.width} H={self.height} L={self.length}\"\n",
    "\n",
    "\n",
    "b1 = Box(10)\n",
    "print(b1)\n",
    "\n",
    "b2 = Box(10,20,30)\n",
    "print(b2)\n",
    "\n",
    "try:\n",
    "    b3 = Box(10,20)\n",
    "    print(b3)\n",
    "except ValueError as err:\n",
    "    print(err)"
   ]
  },
  {
   "cell_type": "code",
   "execution_count": 16,
   "metadata": {},
   "outputs": [
    {
     "name": "stdout",
     "output_type": "stream",
     "text": [
      "W=10 H=10 L=10\n",
      "W=10 H=30 L=20\n",
      "Box.__init__() missing 1 required positional argument: 'height'\n"
     ]
    }
   ],
   "source": [
    "# Υπερφόρτωση κατασκευαστή με χρήση στατικών μεθόδων\n",
    "\n",
    "class Box:\n",
    "    def __init__(self, width, length, height):\n",
    "        self.width = width\n",
    "        self.length = length\n",
    "        self.height = height\n",
    "\n",
    "    @staticmethod\n",
    "    def create_equal_sides_box(width):\n",
    "        return Box(width, width, width)\n",
    "\n",
    "    @staticmethod\n",
    "    def create_box(width, length, height):\n",
    "        return Box(width, length, height)\n",
    "\n",
    "    def __str__(self):\n",
    "        return f\"W={self.width} H={self.height} L={self.length}\"\n",
    "\n",
    "\n",
    "b1 = Box.create_equal_sides_box(10)\n",
    "print(b1)\n",
    "\n",
    "b2 = Box.create_box(10,20,30)\n",
    "print(b2)\n",
    "\n",
    "try:\n",
    "    b3 = Box(10,20)\n",
    "    print(b3)\n",
    "except TypeError as err:\n",
    "    print(err)"
   ]
  },
  {
   "cell_type": "code",
   "execution_count": null,
   "metadata": {},
   "outputs": [],
   "source": []
  }
 ],
 "metadata": {
  "kernelspec": {
   "display_name": "Python 3",
   "language": "python",
   "name": "python3"
  },
  "language_info": {
   "codemirror_mode": {
    "name": "ipython",
    "version": 3
   },
   "file_extension": ".py",
   "mimetype": "text/x-python",
   "name": "python",
   "nbconvert_exporter": "python",
   "pygments_lexer": "ipython3",
   "version": "3.10.0"
  }
 },
 "nbformat": 4,
 "nbformat_minor": 2
}
