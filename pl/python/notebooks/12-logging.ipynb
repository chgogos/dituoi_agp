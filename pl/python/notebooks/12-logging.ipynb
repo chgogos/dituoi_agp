{
 "metadata": {
  "language_info": {
   "codemirror_mode": {
    "name": "ipython",
    "version": 3
   },
   "file_extension": ".py",
   "mimetype": "text/x-python",
   "name": "python",
   "nbconvert_exporter": "python",
   "pygments_lexer": "ipython3",
   "version": "3.8.0-final"
  },
  "orig_nbformat": 2,
  "kernelspec": {
   "name": "python3",
   "display_name": "Python 3.8.0 64-bit",
   "metadata": {
    "interpreter": {
     "hash": "2334294e789e06453e89f7d5c3c2573679701f9bb5b76ad2158f91cca5c9244c"
    }
   }
  }
 },
 "nbformat": 4,
 "nbformat_minor": 2,
 "cells": [
  {
   "source": [
    "# Logging\n",
    "\n",
    "Το logging μπορεί να χρησιμοποιηθεί έτσι ώστε να καταγράφονται χρήσιμες πληροφορίες κατά την εκτέλεση του προγράμματος. Είναι προτιμότερο να χρησιμοποιηθεί σε σχέση με τις εντολές print καθώς η παραγόμενη έξοδος μπορεί πολύ εύκολα να απενεργοποιηθεί ή να κατευθυνθεί προς κάποιο αρχείο κειμένου."
   ],
   "cell_type": "markdown",
   "metadata": {}
  },
  {
   "cell_type": "code",
   "execution_count": null,
   "metadata": {},
   "outputs": [],
   "source": [
    "# logs απευθείας στην οθόνη\n",
    "\n",
    "import logging\n",
    "logging.basicConfig() # εμφάνιση μηνυμάτων στην οθόνη\n",
    "logging.getLogger().setLevel(logging.INFO)\n",
    "\n",
    "logging.debug(\"Αυτό είναι ένα μήνυμα DEBUG\")\n",
    "logging.info(\"Αυτό είναι ένα μήνυμα INFO\")\n",
    "logging.warning(\"Αυτό είναι ένα μήνυμα WARNING\")\n",
    "logging.error(\"Αυτό είναι ένα μήνυμα ERROR\")\n",
    "logging.critical(\"Αυτό είναι ένα μήνυμα CRITICAL\")"
   ]
  },
  {
   "cell_type": "code",
   "execution_count": null,
   "metadata": {},
   "outputs": [],
   "source": [
    "# logs σε αρχείο (το filemode=\"w\" σημαίνει ότι τα νέα logs θα γράφονται πάνω στα παλιά)\n",
    "import logging\n",
    "logging.basicConfig(filename=\"sample.log\", filemode=\"w\", level=logging.INFO)\n",
    "\n",
    "logging.debug(\"Αυτό είναι ένα μήνυμα DEBUG\")\n",
    "logging.info(\"Αυτό είναι ένα μήνυμα INFO\")\n",
    "logging.warning(\"Αυτό είναι ένα μήνυμα WARNING\")\n",
    "logging.error(\"Αυτό είναι ένα μήνυμα ERROR\")\n",
    "logging.critical(\"Αυτό είναι ένα μήνυμα CRITICAL\")"
   ]
  },
  {
   "cell_type": "code",
   "execution_count": null,
   "metadata": {},
   "outputs": [],
   "source": [
    "# ξεχωριστοί loggers\n",
    "import logging\n",
    "logging.basicConfig() \n",
    "logger1 = logging.getLogger(\"logger1\")\n",
    "logger1.setLevel(logging.INFO)\n",
    "logger2 = logging.getLogger(\"logger2\")\n",
    "logger2.setLevel(logging.ERROR)\n",
    "\n",
    "logger1.info(\"Αυτό είναι ένα μήνυμα INFO\")\n",
    "logger1.critical(\"Αυτό είναι ένα μήνυμα CRITICAL\")\n",
    "logger2.info(\"Αυτό είναι ένα μήνυμα INFO\")\n",
    "logger2.critical(\"Αυτό είναι ένα μήνυμα CRITICAL\")"
   ]
  },
  {
   "cell_type": "code",
   "execution_count": null,
   "metadata": {},
   "outputs": [],
   "source": [
    "# Μορφοποίηση logs\n",
    "import logging\n",
    "\n",
    "logging.basicConfig()\n",
    "logger = logging.getLogger(\"myLogger\")\n",
    "logger.setLevel(logging.INFO)\n",
    "logger.handlers.clear()\n",
    "ch = logging.StreamHandler()\n",
    "ch.setFormatter(logging.Formatter('%(asctime)s - %(levelname)s - %(message)s'))\n",
    "logger.addHandler(ch)\n",
    "logger.propagate = False\n",
    "logger.info(\"Αυτό είναι ένα μήνυμα INFO\")"
   ]
  },
  {
   "cell_type": "code",
   "execution_count": null,
   "metadata": {},
   "outputs": [],
   "source": []
  }
 ]
}