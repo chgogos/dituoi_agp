{
 "metadata": {
  "language_info": {
   "codemirror_mode": {
    "name": "ipython",
    "version": 3
   },
   "file_extension": ".py",
   "mimetype": "text/x-python",
   "name": "python",
   "nbconvert_exporter": "python",
   "pygments_lexer": "ipython3",
   "version": "3.8.0-final"
  },
  "orig_nbformat": 2,
  "kernelspec": {
   "name": "python3",
   "display_name": "Python 3.8.0 64-bit",
   "metadata": {
    "interpreter": {
     "hash": "2334294e789e06453e89f7d5c3c2573679701f9bb5b76ad2158f91cca5c9244c"
    }
   }
  }
 },
 "nbformat": 4,
 "nbformat_minor": 2,
 "cells": [
  {
   "source": [
    "# Testing"
   ],
   "cell_type": "markdown",
   "metadata": {}
  },
  {
   "source": [
    "## doctest\n",
    "Παραδείγματα εκτέλεσης κώδικα και αποτελέσματα μπορούν να ενσωματωθούν στα docstrings των συναρτήσεων"
   ],
   "cell_type": "markdown",
   "metadata": {}
  },
  {
   "cell_type": "code",
   "execution_count": null,
   "metadata": {},
   "outputs": [],
   "source": [
    "# dtest.py\n",
    "\n",
    "def fun(a,b):\n",
    "    \"\"\"\n",
    "    >>> fun(1,2)\n",
    "    3\n",
    "    >>> fun(-2,2)\n",
    "    0\n",
    "    \"\"\"\n",
    "    return a+b"
   ]
  },
  {
   "source": [
    "Έλεγχος της συνάρτησης fun στο αρχείο dtest.py από τη γραμμή εντολών.\n",
    "\n",
    "    $ python -m doctest dtest1.py"
   ],
   "cell_type": "markdown",
   "metadata": {}
  },
  {
   "cell_type": "code",
   "execution_count": null,
   "metadata": {},
   "outputs": [],
   "source": [
    "# Εκτέλεση των doctests μέσα από το notebook\n",
    "\n",
    "import doctest\n",
    "doctest.testmod()"
   ]
  },
  {
   "source": [
    "## unittest\n",
    "\n",
    "Το module unittest είναι ενσωματωμένο στην Python και επιτρέπει την εφαρμογή των αρχών του TDD (Test Driven Development). Η βασική ιδέα στο TDD είναι ότι κανείς γράφει πρώτα τα tests που ελέγχουν την απαιτούμενη λειτουργικότητα πριν γράψει τον κώδικα που την υλοποιεί. Αρχικά, τα tests αποτυγχάνουν και στη συνέχεια καθώς συμπληρώνεται ο κώδικας τα tests θα πρέπει να επιτυγχάνουν. Επίσης αν χρειαστεί να αλλάξει στο μέλλον ο κώδικας, η επιτυχής εκτέλεση αυτών των tests θα σημαίνει ότι υπάρχουν μικρότερες πιθανότητες να έχει δημιουργηθεί κάποιο πρόβλημα στον υπάρχοντα κώδικα."
   ],
   "cell_type": "markdown",
   "metadata": {}
  },
  {
   "source": [
    "### Παράδειγμα \n",
    "\n",
    "Δίνεται η ακτίνα ενός κύκλου, ζητείται ο υπολογισμός της διαφοράς των εμβαδών των δύο τετραγώνων (του εγγεγραμμένου στον κύκλο και του περιγεγραμμένου στον κύκλο) \n",
    "\n",
    "![](https://edabit-challenges.s3.amazonaws.com/scale.png)\n",
    "\n",
    "<https://edabit.com/challenge/NNhkGocuPMcryW7GP>\n",
    "\n",
    "    Examples\n",
    "    square_areas_difference(5) ➞ 50\n",
    "    square_areas_difference(6) ➞ 72\n",
    "    square_areas_difference(7) ➞ 98\n",
    "\n"
   ],
   "cell_type": "markdown",
   "metadata": {}
  },
  {
   "cell_type": "code",
   "execution_count": null,
   "metadata": {},
   "outputs": [],
   "source": [
    "import unittest\n",
    "\n",
    "def square_areas_difference(r):\n",
    "    pass\n",
    "\n",
    "class TestSquares(unittest.TestCase):\n",
    "\n",
    "    def test_samples(self):\n",
    "        self.assertEqual(square_areas_difference(5), 50)\n",
    "        self.assertEqual(square_areas_difference(6), 72)\n",
    "        self.assertEqual(square_areas_difference(7), 98)\n",
    "\n",
    "unittest.main(argv=[''], verbosity=2, exit=False);"
   ]
  },
  {
   "cell_type": "code",
   "execution_count": null,
   "metadata": {},
   "outputs": [],
   "source": [
    "import unittest\n",
    "import math\n",
    "\n",
    "def square_areas_difference(r):\n",
    "    outer_area = 2 * r * 2 * r\n",
    "    inner_area = 2 * r * r\n",
    "    return outer_area - inner_area\n",
    "\n",
    "\n",
    "class TestSquares(unittest.TestCase):\n",
    "\n",
    "    def test_samples(self):\n",
    "        self.assertEqual(square_areas_difference(5), 50)\n",
    "        self.assertEqual(square_areas_difference(6), 72)\n",
    "        self.assertEqual(square_areas_difference(7), 98)\n",
    "\n",
    "unittest.main(argv=[''], verbosity=2, exit=False);"
   ]
  },
  {
   "cell_type": "code",
   "execution_count": null,
   "metadata": {},
   "outputs": [],
   "source": []
  }
 ]
}