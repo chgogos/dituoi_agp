{
 "metadata": {
  "language_info": {
   "codemirror_mode": {
    "name": "ipython",
    "version": 3
   },
   "file_extension": ".py",
   "mimetype": "text/x-python",
   "name": "python",
   "nbconvert_exporter": "python",
   "pygments_lexer": "ipython3",
   "version": "3.8.0-final"
  },
  "orig_nbformat": 2,
  "kernelspec": {
   "name": "python3",
   "display_name": "Python 3.8.0 64-bit",
   "metadata": {
    "interpreter": {
     "hash": "2334294e789e06453e89f7d5c3c2573679701f9bb5b76ad2158f91cca5c9244c"
    }
   }
  }
 },
 "nbformat": 4,
 "nbformat_minor": 2,
 "cells": [
  {
   "source": [
    "    Τμήμα Πληροφορικής και Τηλεπικοινωνιών - Άρτα \n",
    "    Πανεπιστήμιο Ιωαννίνων \n",
    "\n",
    "    Γκόγκος Χρήστος \n",
    "    http://chgogos.github.io/\n",
    "    Εαρινό εξάμηνο 2020-2021"
   ],
   "cell_type": "markdown",
   "metadata": {}
  },
  {
   "source": [
    "# CSV module\n",
    "\n",
    "Tα CSV (Comma Separated Values) αρχεία είναι αρχεία κειμένου όπου κάθε γραμμή  περιέχει τον ίδιο αριθμό τιμών πεδίων που χωρίζονται μεταξύ τους με κόμμα ή με κάποιο άλλο διαχωριστικό σύμβολο. Ένα αρχείο CSV μπορεί να έχει  στην πρώτη γραμμή του τα ονόματα των πεδίων. Τα CSV αρχεία πολλές φορές προτιμώνται από αρχεία Excel ή από Βάσεις Δεδομένων λόγω της απλότητάς τους και της δυνατότητας ανάγνωσής τους χωρίς ιδιαίτερο λογισμικό.\n"
   ],
   "cell_type": "markdown",
   "metadata": {}
  },
  {
   "source": [
    "## Ανάγνωση αρχείων CSV"
   ],
   "cell_type": "markdown",
   "metadata": {}
  },
  {
   "cell_type": "code",
   "execution_count": 1,
   "metadata": {},
   "outputs": [
    {
     "output_type": "stream",
     "name": "stdout",
     "text": [
      "['Dialect', 'DictReader', 'DictWriter', 'Error', 'QUOTE_ALL', 'QUOTE_MINIMAL', 'QUOTE_NONE', 'QUOTE_NONNUMERIC', 'Sniffer', 'StringIO', '_Dialect', '__all__', '__builtins__', '__cached__', '__doc__', '__file__', '__loader__', '__name__', '__package__', '__spec__', '__version__', 'excel', 'excel_tab', 'field_size_limit', 'get_dialect', 'list_dialects', 're', 'reader', 'register_dialect', 'unix_dialect', 'unregister_dialect', 'writer']\n"
     ]
    }
   ],
   "source": [
    "# Το module csv\n",
    "\n",
    "import csv\n",
    "\n",
    "print(dir(csv)) # λειτουργίες που υποστηρίζει το module csv"
   ]
  },
  {
   "cell_type": "code",
   "execution_count": 2,
   "metadata": {},
   "outputs": [
    {
     "output_type": "stream",
     "name": "stdout",
     "text": [
      "['Date', 'Open', 'High', 'Low', 'Close', 'Volume', 'Adj Close']\n['8/19/2014', '585.002622', '587.342658', '584.002627', '586.862643', '978600', '586.862643']\n"
     ]
    }
   ],
   "source": [
    "# Ανάγνωση των περιεχομένων ενός csv αρχείου\n",
    "\n",
    "import csv\n",
    "\n",
    "path = \"../../../datasets/google_stock_data.csv\"\n",
    "file = open(path, newline='') # διασφάλιση ορθής λειτουργίας σε όλα τα συστήματα (Windows/Linux/MacOS)\n",
    "\n",
    "reader = csv.reader(file)\n",
    "header = next(reader)\n",
    "data = [row for row in reader]\n",
    "file.close()\n",
    "\n",
    "\n",
    "print(header)\n",
    "print(data[0])"
   ]
  },
  {
   "cell_type": "code",
   "execution_count": 3,
   "metadata": {},
   "outputs": [
    {
     "output_type": "stream",
     "name": "stdout",
     "text": [
      "[datetime.datetime(2014, 8, 19, 0, 0), 585.002622, 587.342658, 584.002627, 586.862643, 978600, 586.862643]\n"
     ]
    }
   ],
   "source": [
    "# Ανάγνωση των περιεχομένων ενός csv αρχείου, μετατροπή κάθε τιμής στον κατάλληλο τύπο\n",
    "\n",
    "import csv\n",
    "import datetime as dt\n",
    "\n",
    "path = \"../../../datasets/google_stock_data.csv\"\n",
    "file = open(path, newline='')\n",
    "reader = csv.reader(file)\n",
    "header = next(reader)\n",
    "data = []\n",
    "for row in reader:\n",
    "    date = dt.datetime.strptime(row[0], '%m/%d/%Y')\n",
    "    open_price = float(row[1])\n",
    "    high = float(row[2])\n",
    "    low = float(row[3])\n",
    "    close = float(row[4])\n",
    "    volume = int(row[5])\n",
    "    adj_close = float(row[6])\n",
    "    data.append([date, open_price, high, low, close, volume, adj_close])\n",
    "\n",
    "file.close()\n",
    "print(data[0])"
   ]
  },
  {
   "cell_type": "code",
   "execution_count": 4,
   "metadata": {},
   "outputs": [
    {
     "output_type": "stream",
     "name": "stdout",
     "text": [
      "[datetime.datetime(2014, 8, 19, 0, 0), 585.002622, 587.342658, 584.002627, 586.862643, 978600, 586.862643]\n"
     ]
    }
   ],
   "source": [
    "# Ανάγνωση των περιεχομένων ενός csv αρχείου με DictReader (κάθε γραμμή που διαβάζεται τοποθετείται σε ένα λεξικό με κλειδιά τα ονόματα που ορίζονται στην πρώτη γραμμή του csv αρχείου)\n",
    "\n",
    "import csv\n",
    "import datetime as dt\n",
    "\n",
    "path = \"../../../datasets/google_stock_data.csv\"\n",
    "file = open(path, newline='')\n",
    "reader = csv.DictReader(file, delimiter=',')\n",
    "data = []\n",
    "for row in reader:\n",
    "    date = dt.datetime.strptime(row[\"Date\"], '%m/%d/%Y')\n",
    "    open_price = float(row[\"Open\"])\n",
    "    high = float(row[\"High\"])\n",
    "    low = float(row[\"Low\"])\n",
    "    close = float(row[\"Close\"])\n",
    "    volume = int(row[\"Volume\"])\n",
    "    adj_close = float(row[\"Adj Close\"])\n",
    "    data.append([date, open_price, high, low, close, volume, adj_close])\n",
    "\n",
    "print(data[0])"
   ]
  },
  {
   "source": [
    "## Εγγραφή σε αρχεία CSV"
   ],
   "cell_type": "markdown",
   "metadata": {}
  },
  {
   "cell_type": "code",
   "execution_count": 5,
   "metadata": {},
   "outputs": [],
   "source": [
    "# Ανάγνωση από το αρχείο google_stock_data.csv και εγγραφή στο αρχείο google_stock_data_output με τη διαφορά ανάμεσα σε high και low για κάθε ημέρα\n",
    "\n",
    "path_in = \"../../../datasets/google_stock_data.csv\"\n",
    "path_out = \"../../../datasets/google_stock_data_output.csv\"\n",
    "\n",
    "file_in = open(path_in, \"r\", newline='')\n",
    "file_out = open(path_out, \"w\", newline='')\n",
    "reader = csv.reader(file_in)\n",
    "writer = csv.writer(file_out)\n",
    "header = next(reader)\n",
    "writer.writerow([\"Date\", \"High-Low\"])\n",
    "for row in reader:\n",
    "    line = [row[0], float(row[2])-float(row[3])]\n",
    "    writer.writerow(line)\n",
    "\n",
    "file_in.close()\n",
    "file_out.close()"
   ]
  },
  {
   "source": [
    "## Φόρτωση αρχείου csv με το module pandas"
   ],
   "cell_type": "markdown",
   "metadata": {}
  },
  {
   "cell_type": "code",
   "execution_count": 6,
   "metadata": {},
   "outputs": [
    {
     "output_type": "stream",
     "name": "stdout",
     "text": [
      "Min=99.190173 Max=1226.802152\n"
     ]
    },
    {
     "output_type": "execute_result",
     "data": {
      "text/plain": [
       "        Date        Open        High         Low       Close   Volume  \\\n",
       "0  8/19/2014  585.002622  587.342658  584.002627  586.862643   978600   \n",
       "1  8/18/2014  576.112580  584.512631  576.002598  582.162619  1284100   \n",
       "2  8/15/2014  577.862619  579.382595  570.522603  573.482626  1519100   \n",
       "3  8/14/2014  576.182596  577.902645  570.882599  574.652582   985400   \n",
       "4  8/13/2014  567.312567  575.002602  565.752564  574.782577  1439200   \n",
       "\n",
       "    Adj Close  \n",
       "0  586.862643  \n",
       "1  582.162619  \n",
       "2  573.482626  \n",
       "3  574.652582  \n",
       "4  574.782577  "
      ],
      "text/html": "<div>\n<style scoped>\n    .dataframe tbody tr th:only-of-type {\n        vertical-align: middle;\n    }\n\n    .dataframe tbody tr th {\n        vertical-align: top;\n    }\n\n    .dataframe thead th {\n        text-align: right;\n    }\n</style>\n<table border=\"1\" class=\"dataframe\">\n  <thead>\n    <tr style=\"text-align: right;\">\n      <th></th>\n      <th>Date</th>\n      <th>Open</th>\n      <th>High</th>\n      <th>Low</th>\n      <th>Close</th>\n      <th>Volume</th>\n      <th>Adj Close</th>\n    </tr>\n  </thead>\n  <tbody>\n    <tr>\n      <th>0</th>\n      <td>8/19/2014</td>\n      <td>585.002622</td>\n      <td>587.342658</td>\n      <td>584.002627</td>\n      <td>586.862643</td>\n      <td>978600</td>\n      <td>586.862643</td>\n    </tr>\n    <tr>\n      <th>1</th>\n      <td>8/18/2014</td>\n      <td>576.112580</td>\n      <td>584.512631</td>\n      <td>576.002598</td>\n      <td>582.162619</td>\n      <td>1284100</td>\n      <td>582.162619</td>\n    </tr>\n    <tr>\n      <th>2</th>\n      <td>8/15/2014</td>\n      <td>577.862619</td>\n      <td>579.382595</td>\n      <td>570.522603</td>\n      <td>573.482626</td>\n      <td>1519100</td>\n      <td>573.482626</td>\n    </tr>\n    <tr>\n      <th>3</th>\n      <td>8/14/2014</td>\n      <td>576.182596</td>\n      <td>577.902645</td>\n      <td>570.882599</td>\n      <td>574.652582</td>\n      <td>985400</td>\n      <td>574.652582</td>\n    </tr>\n    <tr>\n      <th>4</th>\n      <td>8/13/2014</td>\n      <td>567.312567</td>\n      <td>575.002602</td>\n      <td>565.752564</td>\n      <td>574.782577</td>\n      <td>1439200</td>\n      <td>574.782577</td>\n    </tr>\n  </tbody>\n</table>\n</div>"
     },
     "metadata": {},
     "execution_count": 6
    }
   ],
   "source": [
    "# Ανάγνωση αρχείου csv με pandas, εύρεση ελάχιστης και μέγιστης τιμής στήλης, 5 πρώτες εγγραφές του dataframe\n",
    "\n",
    "import pandas as pd\n",
    "\n",
    "path = \"../../../datasets/google_stock_data.csv\"\n",
    "df = pd.read_csv(path)\n",
    "print(f'Min={df[\"Open\"].min()} Max={df[\"Open\"].max()}')\n",
    "df.head()"
   ]
  },
  {
   "cell_type": "code",
   "execution_count": 7,
   "metadata": {},
   "outputs": [
    {
     "output_type": "execute_result",
     "data": {
      "text/plain": [
       "              Open         High          Low        Close        Volume  \\\n",
       "count  2518.000000  2518.000000  2518.000000  2518.000000  2.518000e+03   \n",
       "mean    531.307896   536.556826   525.527511   531.053709  9.972915e+06   \n",
       "std     207.220666   207.883263   206.235535   207.098828  8.723761e+06   \n",
       "min      99.190173   101.740174    95.960165   100.010169  7.900000e+03   \n",
       "25%     407.405694   411.748211   401.900699   406.633193  4.463600e+06   \n",
       "50%     522.250881   527.430908   516.361597   522.265891  7.097300e+06   \n",
       "75%     609.461032   614.991046   603.941036   609.828571  1.276325e+07   \n",
       "max    1226.802152  1228.882066  1218.602083  1220.172036  8.254150e+07   \n",
       "\n",
       "         Adj Close  \n",
       "count  2518.000000  \n",
       "mean    276.438775  \n",
       "std     118.297875  \n",
       "min      49.955130  \n",
       "25%     203.113483  \n",
       "50%     261.943505  \n",
       "75%     312.366913  \n",
       "max     609.476541  "
      ],
      "text/html": "<div>\n<style scoped>\n    .dataframe tbody tr th:only-of-type {\n        vertical-align: middle;\n    }\n\n    .dataframe tbody tr th {\n        vertical-align: top;\n    }\n\n    .dataframe thead th {\n        text-align: right;\n    }\n</style>\n<table border=\"1\" class=\"dataframe\">\n  <thead>\n    <tr style=\"text-align: right;\">\n      <th></th>\n      <th>Open</th>\n      <th>High</th>\n      <th>Low</th>\n      <th>Close</th>\n      <th>Volume</th>\n      <th>Adj Close</th>\n    </tr>\n  </thead>\n  <tbody>\n    <tr>\n      <th>count</th>\n      <td>2518.000000</td>\n      <td>2518.000000</td>\n      <td>2518.000000</td>\n      <td>2518.000000</td>\n      <td>2.518000e+03</td>\n      <td>2518.000000</td>\n    </tr>\n    <tr>\n      <th>mean</th>\n      <td>531.307896</td>\n      <td>536.556826</td>\n      <td>525.527511</td>\n      <td>531.053709</td>\n      <td>9.972915e+06</td>\n      <td>276.438775</td>\n    </tr>\n    <tr>\n      <th>std</th>\n      <td>207.220666</td>\n      <td>207.883263</td>\n      <td>206.235535</td>\n      <td>207.098828</td>\n      <td>8.723761e+06</td>\n      <td>118.297875</td>\n    </tr>\n    <tr>\n      <th>min</th>\n      <td>99.190173</td>\n      <td>101.740174</td>\n      <td>95.960165</td>\n      <td>100.010169</td>\n      <td>7.900000e+03</td>\n      <td>49.955130</td>\n    </tr>\n    <tr>\n      <th>25%</th>\n      <td>407.405694</td>\n      <td>411.748211</td>\n      <td>401.900699</td>\n      <td>406.633193</td>\n      <td>4.463600e+06</td>\n      <td>203.113483</td>\n    </tr>\n    <tr>\n      <th>50%</th>\n      <td>522.250881</td>\n      <td>527.430908</td>\n      <td>516.361597</td>\n      <td>522.265891</td>\n      <td>7.097300e+06</td>\n      <td>261.943505</td>\n    </tr>\n    <tr>\n      <th>75%</th>\n      <td>609.461032</td>\n      <td>614.991046</td>\n      <td>603.941036</td>\n      <td>609.828571</td>\n      <td>1.276325e+07</td>\n      <td>312.366913</td>\n    </tr>\n    <tr>\n      <th>max</th>\n      <td>1226.802152</td>\n      <td>1228.882066</td>\n      <td>1218.602083</td>\n      <td>1220.172036</td>\n      <td>8.254150e+07</td>\n      <td>609.476541</td>\n    </tr>\n  </tbody>\n</table>\n</div>"
     },
     "metadata": {},
     "execution_count": 7
    }
   ],
   "source": [
    "# \"Γρήγορα\" στατιστικά για τις στήλες του dataframe\n",
    "\n",
    "df.describe()"
   ]
  },
  {
   "cell_type": "code",
   "execution_count": 8,
   "metadata": {},
   "outputs": [
    {
     "output_type": "execute_result",
     "data": {
      "text/plain": [
       "Date          object\n",
       "Open         float64\n",
       "High         float64\n",
       "Low          float64\n",
       "Close        float64\n",
       "Volume         int64\n",
       "Adj Close    float64\n",
       "dtype: object"
      ]
     },
     "metadata": {},
     "execution_count": 8
    }
   ],
   "source": [
    "df.dtypes"
   ]
  },
  {
   "cell_type": "code",
   "execution_count": 9,
   "metadata": {},
   "outputs": [
    {
     "output_type": "execute_result",
     "data": {
      "text/plain": [
       "Date         datetime64[ns]\n",
       "Open                float64\n",
       "High                float64\n",
       "Low                 float64\n",
       "Close               float64\n",
       "Volume                int64\n",
       "Adj Close           float64\n",
       "dtype: object"
      ]
     },
     "metadata": {},
     "execution_count": 9
    }
   ],
   "source": [
    "# Μετατροπή δεδομένων στήλης Date σε datetimes \n",
    "\n",
    "df['Date'] = pd.to_datetime(df['Date'])\n",
    "df.dtypes"
   ]
  },
  {
   "cell_type": "code",
   "execution_count": 10,
   "metadata": {},
   "outputs": [
    {
     "output_type": "execute_result",
     "data": {
      "text/plain": [
       "           Date        Open        High         Low       Close    Volume  \\\n",
       "2508 2004-09-01  102.700174  102.970180   99.670169  100.250171   9181600   \n",
       "2509 2004-08-31  102.300173  103.710180  102.160177  102.370175   4941200   \n",
       "2510 2004-08-30  105.280178  105.490184  102.010172  102.010172   5221400   \n",
       "2511 2004-08-27  108.100185  108.620186  105.690180  106.150181   6241200   \n",
       "2512 2004-08-26  104.950180  107.950188  104.660179  107.910182   7128600   \n",
       "2513 2004-08-25  104.960181  108.000187  103.880180  106.000184   9232100   \n",
       "2514 2004-08-24  111.240189  111.600192  103.570177  104.870176  15319700   \n",
       "2515 2004-08-23  110.750191  113.480193  109.050183  109.400185  18342800   \n",
       "2516 2004-08-20  101.010175  109.080187  100.500174  108.310183  22942800   \n",
       "2517 2004-08-19  100.000168  104.060182   95.960165  100.340176  44871300   \n",
       "\n",
       "      Adj Close  \n",
       "2508  50.075011  \n",
       "2509  51.133953  \n",
       "2510  50.954132  \n",
       "2511  53.022069  \n",
       "2512  53.901190  \n",
       "2513  52.947145  \n",
       "2514  52.382705  \n",
       "2515  54.645447  \n",
       "2516  54.100990  \n",
       "2517  50.119968  "
      ],
      "text/html": "<div>\n<style scoped>\n    .dataframe tbody tr th:only-of-type {\n        vertical-align: middle;\n    }\n\n    .dataframe tbody tr th {\n        vertical-align: top;\n    }\n\n    .dataframe thead th {\n        text-align: right;\n    }\n</style>\n<table border=\"1\" class=\"dataframe\">\n  <thead>\n    <tr style=\"text-align: right;\">\n      <th></th>\n      <th>Date</th>\n      <th>Open</th>\n      <th>High</th>\n      <th>Low</th>\n      <th>Close</th>\n      <th>Volume</th>\n      <th>Adj Close</th>\n    </tr>\n  </thead>\n  <tbody>\n    <tr>\n      <th>2508</th>\n      <td>2004-09-01</td>\n      <td>102.700174</td>\n      <td>102.970180</td>\n      <td>99.670169</td>\n      <td>100.250171</td>\n      <td>9181600</td>\n      <td>50.075011</td>\n    </tr>\n    <tr>\n      <th>2509</th>\n      <td>2004-08-31</td>\n      <td>102.300173</td>\n      <td>103.710180</td>\n      <td>102.160177</td>\n      <td>102.370175</td>\n      <td>4941200</td>\n      <td>51.133953</td>\n    </tr>\n    <tr>\n      <th>2510</th>\n      <td>2004-08-30</td>\n      <td>105.280178</td>\n      <td>105.490184</td>\n      <td>102.010172</td>\n      <td>102.010172</td>\n      <td>5221400</td>\n      <td>50.954132</td>\n    </tr>\n    <tr>\n      <th>2511</th>\n      <td>2004-08-27</td>\n      <td>108.100185</td>\n      <td>108.620186</td>\n      <td>105.690180</td>\n      <td>106.150181</td>\n      <td>6241200</td>\n      <td>53.022069</td>\n    </tr>\n    <tr>\n      <th>2512</th>\n      <td>2004-08-26</td>\n      <td>104.950180</td>\n      <td>107.950188</td>\n      <td>104.660179</td>\n      <td>107.910182</td>\n      <td>7128600</td>\n      <td>53.901190</td>\n    </tr>\n    <tr>\n      <th>2513</th>\n      <td>2004-08-25</td>\n      <td>104.960181</td>\n      <td>108.000187</td>\n      <td>103.880180</td>\n      <td>106.000184</td>\n      <td>9232100</td>\n      <td>52.947145</td>\n    </tr>\n    <tr>\n      <th>2514</th>\n      <td>2004-08-24</td>\n      <td>111.240189</td>\n      <td>111.600192</td>\n      <td>103.570177</td>\n      <td>104.870176</td>\n      <td>15319700</td>\n      <td>52.382705</td>\n    </tr>\n    <tr>\n      <th>2515</th>\n      <td>2004-08-23</td>\n      <td>110.750191</td>\n      <td>113.480193</td>\n      <td>109.050183</td>\n      <td>109.400185</td>\n      <td>18342800</td>\n      <td>54.645447</td>\n    </tr>\n    <tr>\n      <th>2516</th>\n      <td>2004-08-20</td>\n      <td>101.010175</td>\n      <td>109.080187</td>\n      <td>100.500174</td>\n      <td>108.310183</td>\n      <td>22942800</td>\n      <td>54.100990</td>\n    </tr>\n    <tr>\n      <th>2517</th>\n      <td>2004-08-19</td>\n      <td>100.000168</td>\n      <td>104.060182</td>\n      <td>95.960165</td>\n      <td>100.340176</td>\n      <td>44871300</td>\n      <td>50.119968</td>\n    </tr>\n  </tbody>\n</table>\n</div>"
     },
     "metadata": {},
     "execution_count": 10
    }
   ],
   "source": [
    "# 10 τελευταίες εγγραφές του dataframe\n",
    "\n",
    "df.tail(10)"
   ]
  },
  {
   "cell_type": "code",
   "execution_count": null,
   "metadata": {},
   "outputs": [],
   "source": []
  }
 ]
}