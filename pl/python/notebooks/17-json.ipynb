{
 "metadata": {
  "language_info": {
   "codemirror_mode": {
    "name": "ipython",
    "version": 3
   },
   "file_extension": ".py",
   "mimetype": "text/x-python",
   "name": "python",
   "nbconvert_exporter": "python",
   "pygments_lexer": "ipython3",
   "version": "3.8.0"
  },
  "orig_nbformat": 2,
  "kernelspec": {
   "name": "python3",
   "display_name": "Python 3.8.0 64-bit ('3.8.0-amd64': pyenv)",
   "metadata": {
    "interpreter": {
     "hash": "2334294e789e06453e89f7d5c3c2573679701f9bb5b76ad2158f91cca5c9244c"
    }
   }
  }
 },
 "nbformat": 4,
 "nbformat_minor": 2,
 "cells": [
  {
   "source": [
    "    Τμήμα Πληροφορικής και Τηλεπικοινωνιών - Άρτα \n",
    "    Πανεπιστήμιο Ιωαννίνων \n",
    "\n",
    "    Γκόγκος Χρήστος \n",
    "    http://chgogos.github.io/\n",
    "    Εαρινό εξάμηνο 2020-2021"
   ],
   "cell_type": "markdown",
   "metadata": {}
  },
  {
   "source": [
    "# JSON\n",
    "\n",
    "JSON (JavaScript Object Notation): διαδεδομένη \"ελαφριά\" μορφοποίηση δεδομένων, ιδανική για μεταφορά ανάμεσα σε πελάτη και εξυπηρέτη."
   ],
   "cell_type": "markdown",
   "metadata": {}
  },
  {
   "cell_type": "code",
   "execution_count": 3,
   "metadata": {},
   "outputs": [
    {
     "output_type": "stream",
     "name": "stdout",
     "text": [
      "['JSONDecodeError', 'JSONDecoder', 'JSONEncoder', '__all__', '__author__', '__builtins__', '__cached__', '__doc__', '__file__', '__loader__', '__name__', '__package__', '__path__', '__spec__', '__version__', '_default_decoder', '_default_encoder', 'codecs', 'decoder', 'detect_encoding', 'dump', 'dumps', 'encoder', 'load', 'loads', 'scanner']\n"
     ]
    }
   ],
   "source": [
    "# Λειτουργίες που υποστηρίζει το module json\n",
    "\n",
    "import json\n",
    "\n",
    "print(dir(json))"
   ]
  },
  {
   "cell_type": "code",
   "execution_count": 4,
   "metadata": {},
   "outputs": [
    {
     "output_type": "execute_result",
     "data": {
      "text/plain": [
       "{'firstName': 'Γιάννης',\n",
       " 'lastName': 'Παπαδόπουλος',\n",
       " 'age': 30,\n",
       " 'married': True,\n",
       " 'email': None,\n",
       " 'address': {'streetAddress': 'Ανεξαρτησίας 33',\n",
       "  'city': 'Άρτα',\n",
       "  'state': 'Ήπειρος',\n",
       "  'postalCode': '45221'},\n",
       " 'phoneNumbers': [{'type': 'home', 'number': '00302681123456'},\n",
       "  {'type': 'work', 'number': '00302681654321'},\n",
       "  {'type': 'mobile', 'number': '00306971234567'}]}"
      ]
     },
     "metadata": {},
     "execution_count": 4
    }
   ],
   "source": [
    "# Φόρτωση ενός json αρχείου\n",
    "\n",
    "path = \"../../../datasets/person.json\"\n",
    "json_f = open(path, \"r\", encoding=\"utf-8\")\n",
    "person = json.load(json_f)\n",
    "json_f.close()\n",
    "person"
   ]
  },
  {
   "cell_type": "code",
   "execution_count": 5,
   "metadata": {},
   "outputs": [
    {
     "output_type": "stream",
     "name": "stdout",
     "text": [
      "<class 'dict'>\nΓιάννης\n[{'type': 'home', 'number': '00302681123456'}, {'type': 'work', 'number': '00302681654321'}, {'type': 'mobile', 'number': '00306971234567'}]\n00302681123456\n"
     ]
    }
   ],
   "source": [
    "# Εμφάνιση περιεχομένων του λεξικού που φορτώθηκε από το json αρχείο\n",
    "\n",
    "print(type(person))\n",
    "print(person['firstName'])\n",
    "print(person['phoneNumbers'])\n",
    "print(person['phoneNumbers'][0]['number'])"
   ]
  },
  {
   "cell_type": "code",
   "execution_count": 6,
   "metadata": {},
   "outputs": [
    {
     "output_type": "execute_result",
     "data": {
      "text/plain": [
       "'{\"firstName\": \"\\\\u0393\\\\u03b9\\\\u03ac\\\\u03bd\\\\u03bd\\\\u03b7\\\\u03c2\", \"lastName\": \"\\\\u03a0\\\\u03b1\\\\u03c0\\\\u03b1\\\\u03b4\\\\u03cc\\\\u03c0\\\\u03bf\\\\u03c5\\\\u03bb\\\\u03bf\\\\u03c2\", \"age\": 30, \"married\": true, \"email\": null, \"address\": {\"streetAddress\": \"\\\\u0391\\\\u03bd\\\\u03b5\\\\u03be\\\\u03b1\\\\u03c1\\\\u03c4\\\\u03b7\\\\u03c3\\\\u03af\\\\u03b1\\\\u03c2 33\", \"city\": \"\\\\u0386\\\\u03c1\\\\u03c4\\\\u03b1\", \"state\": \"\\\\u0389\\\\u03c0\\\\u03b5\\\\u03b9\\\\u03c1\\\\u03bf\\\\u03c2\", \"postalCode\": \"45221\"}, \"phoneNumbers\": [{\"type\": \"home\", \"number\": \"00302681123456\"}, {\"type\": \"work\", \"number\": \"00302681654321\"}, {\"type\": \"mobile\", \"number\": \"00306971234567\"}]}'"
      ]
     },
     "metadata": {},
     "execution_count": 6
    }
   ],
   "source": [
    "# Επιστροφή ολόκληρου του json αντικειμένου ως λεκτικό\n",
    "\n",
    "json.dumps(person)"
   ]
  },
  {
   "cell_type": "code",
   "execution_count": 7,
   "metadata": {},
   "outputs": [
    {
     "output_type": "execute_result",
     "data": {
      "text/plain": [
       "'{\"firstName\": \"Γιάννης\", \"lastName\": \"Παπαδόπουλος\", \"age\": 30, \"married\": true, \"email\": null, \"address\": {\"streetAddress\": \"Ανεξαρτησίας 33\", \"city\": \"Άρτα\", \"state\": \"Ήπειρος\", \"postalCode\": \"45221\"}, \"phoneNumbers\": [{\"type\": \"home\", \"number\": \"00302681123456\"}, {\"type\": \"work\", \"number\": \"00302681654321\"}, {\"type\": \"mobile\", \"number\": \"00306971234567\"}]}'"
      ]
     },
     "metadata": {},
     "execution_count": 7
    }
   ],
   "source": [
    "# Επιστροφή ολόκληρου του json αντικειμένου ως λεκτικό με unicode χαρακτήρες\n",
    "\n",
    "json.dumps(person, ensure_ascii=False)"
   ]
  },
  {
   "cell_type": "code",
   "execution_count": 8,
   "metadata": {},
   "outputs": [
    {
     "output_type": "execute_result",
     "data": {
      "text/plain": [
       "{'firstName': 'Γιάννης',\n",
       " 'lastName': 'Παπαδόπουλος',\n",
       " 'age': 30,\n",
       " 'married': True,\n",
       " 'email': None,\n",
       " 'address': {'streetAddress': 'Ανεξαρτησίας 33',\n",
       "  'city': 'Άρτα',\n",
       "  'state': 'Ήπειρος',\n",
       "  'postalCode': '45221'},\n",
       " 'phoneNumbers': [{'type': 'home', 'number': '00302681123456'},\n",
       "  {'type': 'work', 'number': '00302681654321'},\n",
       "  {'type': 'mobile', 'number': '00306971234567'}]}"
      ]
     },
     "metadata": {},
     "execution_count": 8
    }
   ],
   "source": [
    "# Φόρτωση json δεδομένων από λεκτικό\n",
    "\n",
    "value ='{\"firstName\": \"Γιάννης\", \"lastName\": \"Παπαδόπουλος\", \"age\": 30, \"married\": true, \"email\": null, \"address\": {\"streetAddress\": \"Ανεξαρτησίας 33\", \"city\": \"Άρτα\", \"state\": \"Ήπειρος\", \"postalCode\": \"45221\"}, \"phoneNumbers\": [{\"type\": \"home\", \"number\": \"00302681123456\"}, {\"type\": \"work\", \"number\": \"00302681654321\"}, {\"type\": \"mobile\", \"number\": \"00306971234567\"}]}'\n",
    "\n",
    "json.loads(value)"
   ]
  },
  {
   "cell_type": "code",
   "execution_count": 9,
   "metadata": {},
   "outputs": [],
   "source": [
    "# Εγγραφή σε json αρχείο\n",
    "\n",
    "dit = {}\n",
    "dit[\"title\"]=\"Τμήμα Πληροφορικής και Τηλεπικοινωνιών\"\n",
    "dit[\"city\"]=\"Άρτα\"\n",
    "dit[\"site\"]=\"https://www.dit.uoi.gr/\"\n",
    "dit[\"established\"]=1998\n",
    "\n",
    "file = open(\"../../../datasets/dit.json\", \"w\", encoding=\"utf-8\")\n",
    "json.dump(dit, file, ensure_ascii=False)"
   ]
  },
  {
   "cell_type": "code",
   "execution_count": null,
   "metadata": {},
   "outputs": [],
   "source": []
  }
 ]
}