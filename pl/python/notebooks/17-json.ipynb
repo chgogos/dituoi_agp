{
 "metadata": {
  "language_info": {
   "codemirror_mode": {
    "name": "ipython",
    "version": 3
   },
   "file_extension": ".py",
   "mimetype": "text/x-python",
   "name": "python",
   "nbconvert_exporter": "python",
   "pygments_lexer": "ipython3",
   "version": "3.8.0-final"
  },
  "orig_nbformat": 2,
  "kernelspec": {
   "name": "python3",
   "display_name": "Python 3.8.0 64-bit",
   "metadata": {
    "interpreter": {
     "hash": "2334294e789e06453e89f7d5c3c2573679701f9bb5b76ad2158f91cca5c9244c"
    }
   }
  }
 },
 "nbformat": 4,
 "nbformat_minor": 2,
 "cells": [
  {
   "source": [
    "    Τμήμα Πληροφορικής και Τηλεπικοινωνιών - Άρτα \n",
    "    Πανεπιστήμιο Ιωαννίνων \n",
    "\n",
    "    Γκόγκος Χρήστος \n",
    "    http://chgogos.github.io/\n",
    "    Εαρινό εξάμηνο 2020-2021"
   ],
   "cell_type": "markdown",
   "metadata": {}
  },
  {
   "source": [
    "# JSON\n",
    "\n",
    "JSON (JavaScript Object Notation): διαδεδομένη \"ελαφριά\" μορφοποίηση δεδομένων, ιδανική για μεταφορά ανάμεσα σε πελάτη και εξυπηρέτη."
   ],
   "cell_type": "markdown",
   "metadata": {}
  },
  {
   "cell_type": "code",
   "execution_count": null,
   "metadata": {},
   "outputs": [],
   "source": [
    "# Λειτουργίες που υποστηρίζει το module json\n",
    "\n",
    "import json\n",
    "\n",
    "dir(json)"
   ]
  },
  {
   "cell_type": "code",
   "execution_count": null,
   "metadata": {},
   "outputs": [],
   "source": [
    "# Φόρτωση ενός json αρχείου\n",
    "\n",
    "path = \"../../../datasets/person.json\"\n",
    "json_f = open(path, \"r\", encoding=\"utf-8\")\n",
    "person = json.load(json_f)\n",
    "json_f.close()\n",
    "person"
   ]
  },
  {
   "cell_type": "code",
   "execution_count": null,
   "metadata": {},
   "outputs": [],
   "source": [
    "# Εμφάνιση περιεχομένων του λεξικού που φορτώθηκε από το json αρχείο\n",
    "\n",
    "print(type(person))\n",
    "print(person['firstName'])\n",
    "print(person['phoneNumbers'])\n",
    "print(person['phoneNumbers'][0]['number'])"
   ]
  },
  {
   "cell_type": "code",
   "execution_count": null,
   "metadata": {},
   "outputs": [],
   "source": [
    "# Επιστροφή ολόκληρου του json αντικειμένου ως λεκτικό\n",
    "\n",
    "json.dumps(person)"
   ]
  },
  {
   "cell_type": "code",
   "execution_count": null,
   "metadata": {},
   "outputs": [],
   "source": [
    "# Επιστροφή ολόκληρου του json αντικειμένου ως λεκτικό με unicode χαρακτήρες\n",
    "\n",
    "json.dumps(person, ensure_ascii=False)"
   ]
  },
  {
   "cell_type": "code",
   "execution_count": null,
   "metadata": {},
   "outputs": [],
   "source": [
    "# Φόρτωση json δεδομένων από λεκτικό\n",
    "\n",
    "value ='{\"firstName\": \"Γιάννης\", \"lastName\": \"Παπαδόπουλος\", \"age\": 30, \"married\": true, \"email\": null, \"address\": {\"streetAddress\": \"Ανεξαρτησίας 33\", \"city\": \"Άρτα\", \"state\": \"Ήπειρος\", \"postalCode\": \"45221\"}, \"phoneNumbers\": [{\"type\": \"home\", \"number\": \"00302681123456\"}, {\"type\": \"work\", \"number\": \"00302681654321\"}, {\"type\": \"mobile\", \"number\": \"00306971234567\"}]}'\n",
    "\n",
    "json.loads(value)"
   ]
  },
  {
   "cell_type": "code",
   "execution_count": null,
   "metadata": {},
   "outputs": [],
   "source": [
    "# Εγγραφή σε json αρχείο\n",
    "\n",
    "dit = {}\n",
    "dit[\"title\"]=\"Τμήμα Πληροφορικής και Τηλεπικοινωνιών\"\n",
    "dit[\"city\"]=\"Άρτα\"\n",
    "dit[\"site\"]=\"https://www.dit.uoi.gr/\"\n",
    "dit[\"established\"]=1998\n",
    "\n",
    "file = open(\"../../../datasets/dit.json\", \"w\", encoding=\"utf-8\")\n",
    "json.dump(dit, file, ensure_ascii=False)"
   ]
  }
 ]
}