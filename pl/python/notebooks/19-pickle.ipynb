{
 "cells": [
  {
   "cell_type": "markdown",
   "metadata": {},
   "source": [
    "    Τμήμα Πληροφορικής και Τηλεπικοινωνιών - Άρτα \n",
    "    Πανεπιστήμιο Ιωαννίνων \n",
    "\n",
    "    Γκόγκος Χρήστος \n",
    "    http://chgogos.github.io/\n",
    "    \n",
    "    Τελευταία ενημέρωση: 28/3/2022"
   ]
  },
  {
   "cell_type": "markdown",
   "metadata": {},
   "source": [
    "# pickle\n",
    "\n",
    "Το pickle module επιτρέπει τη \"σειριοποίηση\" (serialization) και \"αποσειριοποίηση\" (deserialization) αντικειμένων Python (π.χ. λίστες, λεξικά).\n",
    "\n",
    "Συνώνυμα pickling: serialization, marshalling, flattening"
   ]
  },
  {
   "cell_type": "code",
   "execution_count": 2,
   "metadata": {},
   "outputs": [
    {
     "name": "stdout",
     "output_type": "stream",
     "text": [
      "['ADDITEMS', 'APPEND', 'APPENDS', 'BINBYTES', 'BINBYTES8', 'BINFLOAT', 'BINGET', 'BININT', 'BININT1', 'BININT2', 'BINPERSID', 'BINPUT', 'BINSTRING', 'BINUNICODE', 'BINUNICODE8', 'BUILD', 'BYTEARRAY8', 'DEFAULT_PROTOCOL', 'DICT', 'DUP', 'EMPTY_DICT', 'EMPTY_LIST', 'EMPTY_SET', 'EMPTY_TUPLE', 'EXT1', 'EXT2', 'EXT4', 'FALSE', 'FLOAT', 'FRAME', 'FROZENSET', 'FunctionType', 'GET', 'GLOBAL', 'HIGHEST_PROTOCOL', 'INST', 'INT', 'LIST', 'LONG', 'LONG1', 'LONG4', 'LONG_BINGET', 'LONG_BINPUT', 'MARK', 'MEMOIZE', 'NEWFALSE', 'NEWOBJ', 'NEWOBJ_EX', 'NEWTRUE', 'NEXT_BUFFER', 'NONE', 'OBJ', 'PERSID', 'POP', 'POP_MARK', 'PROTO', 'PUT', 'PickleBuffer', 'PickleError', 'Pickler', 'PicklingError', 'PyStringMap', 'READONLY_BUFFER', 'REDUCE', 'SETITEM', 'SETITEMS', 'SHORT_BINBYTES', 'SHORT_BINSTRING', 'SHORT_BINUNICODE', 'STACK_GLOBAL', 'STOP', 'STRING', 'TRUE', 'TUPLE', 'TUPLE1', 'TUPLE2', 'TUPLE3', 'UNICODE', 'Unpickler', 'UnpicklingError', '_Framer', '_HAVE_PICKLE_BUFFER', '_Pickler', '_Stop', '_Unframer', '_Unpickler', '__all__', '__builtins__', '__cached__', '__doc__', '__file__', '__loader__', '__name__', '__package__', '__spec__', '_compat_pickle', '_dump', '_dumps', '_extension_cache', '_extension_registry', '_getattribute', '_inverted_registry', '_load', '_loads', '_test', '_tuplesize2code', 'bytes_types', 'codecs', 'compatible_formats', 'decode_long', 'dispatch_table', 'dump', 'dumps', 'encode_long', 'format_version', 'io', 'islice', 'load', 'loads', 'maxsize', 'pack', 'partial', 're', 'sys', 'unpack', 'whichmodule']\n"
     ]
    }
   ],
   "source": [
    "import pickle\n",
    "\n",
    "print(dir(pickle))"
   ]
  },
  {
   "cell_type": "code",
   "execution_count": 3,
   "metadata": {},
   "outputs": [
    {
     "data": {
      "text/plain": [
       "{'name': 'Nikos', 'age': 30, 'grades': [7.5, 8.5, 5]}"
      ]
     },
     "execution_count": 3,
     "metadata": {},
     "output_type": "execute_result"
    }
   ],
   "source": [
    "a_dict = {\n",
    "    'name': 'Nikos',\n",
    "    'age': 30,\n",
    "    'grades': [7.5, 8.5, 5]\n",
    "}\n",
    "a_dict"
   ]
  },
  {
   "cell_type": "code",
   "execution_count": 4,
   "metadata": {},
   "outputs": [],
   "source": [
    "# pickling του λεξικού a_dict\n",
    "\n",
    "with open('data.pkl', \"wb\") as pf:\n",
    "    pickle.dump(a_dict, pf)"
   ]
  },
  {
   "cell_type": "code",
   "execution_count": 5,
   "metadata": {},
   "outputs": [
    {
     "data": {
      "text/plain": [
       "{'name': 'Nikos', 'age': 30, 'grades': [7.5, 8.5, 5]}"
      ]
     },
     "execution_count": 5,
     "metadata": {},
     "output_type": "execute_result"
    }
   ],
   "source": [
    "# unpickling δεδομένων λεξικού από το αρχείο data.pkl\n",
    "\n",
    "with open('data.pkl', \"rb\") as pf:\n",
    "    b_dict = pickle.load(pf)\n",
    "b_dict"
   ]
  },
  {
   "cell_type": "markdown",
   "metadata": {},
   "source": [
    "### Συνθετότερες δομές και αποθήκευση πολλών δομών σε αρχεία pickle"
   ]
  },
  {
   "cell_type": "code",
   "execution_count": 8,
   "metadata": {},
   "outputs": [
    {
     "name": "stdout",
     "output_type": "stream",
     "text": [
      "{'name': 'Nikos', 'address': {'street': 'Eleftherias', 'number': 10}, 'grades': [10, 8, 5, 6]}\n",
      "{'a': [1, 2, 3], 'b': (1, 2, 3), 'c': {1, 2, 3}}\n",
      "[1, 2, {1, 2, 3}, (1, 2, 3), {'a': 1, 'b': 2}]\n"
     ]
    }
   ],
   "source": [
    "a = {\n",
    "    \"name\": \"Nikos\",\n",
    "    \"address\": {\"street\": \"Eleftherias\", \"number\": 10},\n",
    "    \"grades\": [10, 8, 5, 6],\n",
    "}\n",
    "\n",
    "b = {\"a\": [1, 2, 3], \"b\": (1, 2, 3), \"c\": {1, 2, 3}}\n",
    "\n",
    "c = [1,2, {1,2,3}, (1,2,3), {'a':1, 'b':2}]\n",
    "\n",
    "# αποθήκευση 3 δομών σε ένα αρχείο pickle\n",
    "with open('data2.pkl', \"wb\") as pf:\n",
    "    pickle.dump(a, pf)\n",
    "    pickle.dump(b, pf)\n",
    "    pickle.dump(c, pf)\n",
    "\n",
    "# ανάκτηση δεδομένων από το αρχείο pickle\n",
    "with open('data2.pkl', \"rb\") as pf:\n",
    "    x = pickle.load(pf)\n",
    "    y = pickle.load(pf)\n",
    "    z = pickle.load(pf)\n",
    "    \n",
    "print(x)\n",
    "print(y)\n",
    "print(z)"
   ]
  },
  {
   "cell_type": "markdown",
   "metadata": {},
   "source": []
  }
 ],
 "metadata": {
  "kernelspec": {
   "display_name": "Python 3.8.0 64-bit ('3.8.0-amd64': pyenv)",
   "metadata": {
    "interpreter": {
     "hash": "2334294e789e06453e89f7d5c3c2573679701f9bb5b76ad2158f91cca5c9244c"
    }
   },
   "name": "python3"
  },
  "language_info": {
   "codemirror_mode": {
    "name": "ipython",
    "version": 3
   },
   "file_extension": ".py",
   "mimetype": "text/x-python",
   "name": "python",
   "nbconvert_exporter": "python",
   "pygments_lexer": "ipython3",
   "version": "3.8.8"
  },
  "orig_nbformat": 2
 },
 "nbformat": 4,
 "nbformat_minor": 2
}
