{
 "metadata": {
  "language_info": {
   "codemirror_mode": {
    "name": "ipython",
    "version": 3
   },
   "file_extension": ".py",
   "mimetype": "text/x-python",
   "name": "python",
   "nbconvert_exporter": "python",
   "pygments_lexer": "ipython3",
   "version": "3.8.0-final"
  },
  "orig_nbformat": 2,
  "kernelspec": {
   "name": "python3",
   "display_name": "Python 3.8.0 64-bit",
   "metadata": {
    "interpreter": {
     "hash": "2334294e789e06453e89f7d5c3c2573679701f9bb5b76ad2158f91cca5c9244c"
    }
   }
  }
 },
 "nbformat": 4,
 "nbformat_minor": 2,
 "cells": [
  {
   "source": [
    "    Τμήμα Πληροφορικής και Τηλεπικοινωνιών - Άρτα \n",
    "    Πανεπιστήμιο Ιωαννίνων \n",
    "\n",
    "    Γκόγκος Χρήστος \n",
    "    http://chgogos.github.io/\n",
    "    Εαρινό εξάμηνο 2020-2021"
   ],
   "cell_type": "markdown",
   "metadata": {}
  },
  {
   "source": [
    "# pickle\n",
    "\n",
    "Το pickle module επιτρέπει τη \"σειριοποίηση\" (serialization) και \"αποσειριοποίηση\" (deserialization) αντικειμένων Python (π.χ. λίστες, λεξικά).\n",
    "\n",
    "Συνώνυμα pickling: serialization, marshalling, flattening"
   ],
   "cell_type": "markdown",
   "metadata": {}
  },
  {
   "cell_type": "code",
   "execution_count": null,
   "metadata": {},
   "outputs": [],
   "source": [
    "import pickle\n",
    "\n",
    "print(dir(pickle))"
   ]
  },
  {
   "cell_type": "code",
   "execution_count": null,
   "metadata": {},
   "outputs": [],
   "source": [
    "a_dict = {\n",
    "    'name': 'Nikos',\n",
    "    'age': 30,\n",
    "    'grades: [7.5, 8.5, 5]\n",
    "}\n",
    "a_dict"
   ]
  },
  {
   "cell_type": "code",
   "execution_count": null,
   "metadata": {},
   "outputs": [],
   "source": [
    "# pickling του λεξικού a_dict\n",
    "\n",
    "with open('data.pkl', \"wb\") as pf:\n",
    "    pickle.dump(a_dict, pf)"
   ]
  },
  {
   "cell_type": "code",
   "execution_count": null,
   "metadata": {},
   "outputs": [],
   "source": [
    "# unpickling δεδομένων λεξικού από το αρχείο data.pkl\n",
    "\n",
    "with open('data.pkl', \"rb\") as pf:\n",
    "    b_dict = pickle.load(pf)\n",
    "b_dict"
   ]
  }
 ]
}