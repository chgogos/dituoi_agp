{
 "metadata": {
  "language_info": {
   "codemirror_mode": {
    "name": "ipython",
    "version": 3
   },
   "file_extension": ".py",
   "mimetype": "text/x-python",
   "name": "python",
   "nbconvert_exporter": "python",
   "pygments_lexer": "ipython3",
   "version": "3.8.0-final"
  },
  "orig_nbformat": 2,
  "kernelspec": {
   "name": "python3",
   "display_name": "Python 3.8.0 64-bit",
   "metadata": {
    "interpreter": {
     "hash": "2334294e789e06453e89f7d5c3c2573679701f9bb5b76ad2158f91cca5c9244c"
    }
   }
  }
 },
 "nbformat": 4,
 "nbformat_minor": 2,
 "cells": [
  {
   "source": [
    "    Τμήμα Πληροφορικής και Τηλεπικοινωνιών - Άρτα \n",
    "    Πανεπιστήμιο Ιωαννίνων \n",
    "\n",
    "    Γκόγκος Χρήστος \n",
    "    http://chgogos.github.io/\n",
    "    Εαρινό εξάμηνο 2020-2021"
   ],
   "cell_type": "markdown",
   "metadata": {}
  },
  {
   "source": [
    "# Ημερομηνία και ώρα"
   ],
   "cell_type": "markdown",
   "metadata": {}
  },
  {
   "source": [
    "## datetime"
   ],
   "cell_type": "markdown",
   "metadata": {}
  },
  {
   "cell_type": "code",
   "execution_count": null,
   "metadata": {},
   "outputs": [],
   "source": [
    "import datetime\n",
    "\n",
    "print(dir(datetime))"
   ]
  },
  {
   "cell_type": "code",
   "execution_count": null,
   "metadata": {},
   "outputs": [],
   "source": [
    "# τρέχουσα ημερομηνία\n",
    "\n",
    "a_date = datetime.date.today()\n",
    "print(a_date)\n",
    "print(a_date.toordinal()) # αριθμός ημερών από 1/1/1\n",
    "\n",
    "print(\"#\"*40)\n",
    "b_date = a_date.replace(day=1, month=12)\n",
    "print(b_date)\n",
    "print(b_date.toordinal())\n",
    "\n",
    "print(\"#\"*40)\n",
    "c_date = datetime.date.fromordinal(700000)\n",
    "print(c_date)"
   ]
  },
  {
   "cell_type": "code",
   "execution_count": null,
   "metadata": {},
   "outputs": [],
   "source": [
    "# εμφάνιση ημερομηνιών με διάφορες μορφές\n",
    "\n",
    "print(datetime.date(2020,2,15))\n",
    "print(datetime.datetime.now())\n",
    "print(datetime.datetime.today().strftime(\"%Y%m%d\"))"
   ]
  },
  {
   "cell_type": "code",
   "execution_count": null,
   "metadata": {},
   "outputs": [],
   "source": [
    "# διαφορά μεταξύ ημερομηνιών\n",
    "\n",
    "d1 = datetime.datetime(1900, 1, 1)\n",
    "d2 = datetime.datetime(2000, 1, 1, 1, 1, 10)\n",
    "delta = d2 - d1\n",
    "print(delta)\n",
    "print(delta.days)\n",
    "print(delta.seconds)\n",
    "print(delta.total_seconds())"
   ]
  },
  {
   "cell_type": "code",
   "execution_count": null,
   "metadata": {},
   "outputs": [],
   "source": [
    "# ονόματα ημερών για τον Ιανουάριο του 2021\n",
    "\n",
    "for day in range(1, 32):\n",
    "    print(day, datetime.datetime(year=2020,month=1,day=day).strftime(\"%A\"), end= \" \")"
   ]
  },
  {
   "source": [
    "## time"
   ],
   "cell_type": "markdown",
   "metadata": {}
  },
  {
   "cell_type": "code",
   "execution_count": null,
   "metadata": {},
   "outputs": [],
   "source": [
    "import time\n",
    "print(dir(time))"
   ]
  },
  {
   "cell_type": "code",
   "execution_count": null,
   "metadata": {},
   "outputs": [],
   "source": [
    "print(time.gmtime(0)) # EPOCH TIME 1/1/1970 00:00:00"
   ]
  },
  {
   "cell_type": "code",
   "execution_count": null,
   "metadata": {},
   "outputs": [],
   "source": [
    "for x in [2,1,2,3,1]:\n",
    "    time.sleep(x)\n",
    "    print(f\"{time.ctime()} ύπνος για {x} δευτερόλεπτα\")"
   ]
  },
  {
   "cell_type": "code",
   "execution_count": null,
   "metadata": {},
   "outputs": [],
   "source": [
    "print(time.strftime(\"%Y-%m-%d-%H.%M.%S\",time.localtime()))"
   ]
  },
  {
   "cell_type": "code",
   "execution_count": null,
   "metadata": {},
   "outputs": [],
   "source": [
    "print(time.time())\n",
    "print(time.ctime(time.time()))"
   ]
  }
 ]
}