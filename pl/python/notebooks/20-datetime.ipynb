{
 "cells": [
  {
   "cell_type": "markdown",
   "metadata": {},
   "source": [
    "    Τμήμα Πληροφορικής και Τηλεπικοινωνιών - Άρτα \n",
    "    Πανεπιστήμιο Ιωαννίνων \n",
    "\n",
    "    Γκόγκος Χρήστος \n",
    "    http://chgogos.github.io/\n",
    "    \n",
    "    Τελευταία ενημέρωση: 15/6/2022"
   ]
  },
  {
   "cell_type": "markdown",
   "metadata": {},
   "source": [
    "# Ημερομηνία και ώρα\n",
    "\n",
    "## packages\n",
    "\n",
    "* datetime\n",
    "* dateutil (extensions to the standard datetime module)\n",
    "* time"
   ]
  },
  {
   "cell_type": "markdown",
   "metadata": {},
   "source": [
    "## datetime"
   ]
  },
  {
   "cell_type": "code",
   "execution_count": 2,
   "metadata": {},
   "outputs": [
    {
     "name": "stdout",
     "output_type": "stream",
     "text": [
      "['MAXYEAR', 'MINYEAR', '__builtins__', '__cached__', '__doc__', '__file__', '__loader__', '__name__', '__package__', '__spec__', 'date', 'datetime', 'datetime_CAPI', 'sys', 'time', 'timedelta', 'timezone', 'tzinfo']\n"
     ]
    }
   ],
   "source": [
    "import datetime\n",
    "\n",
    "print(dir(datetime))"
   ]
  },
  {
   "cell_type": "code",
   "execution_count": 3,
   "metadata": {},
   "outputs": [
    {
     "name": "stdout",
     "output_type": "stream",
     "text": [
      "2022-06-15\n",
      "738321\n",
      "########################################\n",
      "2022-12-01\n",
      "738490\n",
      "########################################\n",
      "1917-07-15\n"
     ]
    }
   ],
   "source": [
    "# τρέχουσα ημερομηνία\n",
    "\n",
    "a_date = datetime.date.today()\n",
    "print(a_date)\n",
    "print(a_date.toordinal()) # αριθμός ημερών από 1/1/1\n",
    "\n",
    "print(\"#\"*40)\n",
    "b_date = a_date.replace(day=1, month=12)\n",
    "print(b_date)\n",
    "print(b_date.toordinal())\n",
    "\n",
    "print(\"#\"*40)\n",
    "c_date = datetime.date.fromordinal(700000)\n",
    "print(c_date)"
   ]
  },
  {
   "cell_type": "code",
   "execution_count": 4,
   "metadata": {},
   "outputs": [
    {
     "name": "stdout",
     "output_type": "stream",
     "text": [
      "2020-02-15\n",
      "2022-06-15 19:41:10.954619\n",
      "2022/06/15\n",
      "20220615194110\n"
     ]
    }
   ],
   "source": [
    "# εμφάνιση ημερομηνιών με διάφορες μορφές\n",
    "\n",
    "print(datetime.date(2020,2,15))\n",
    "print(datetime.datetime.now())\n",
    "print(datetime.datetime.today().strftime(\"%Y/%m/%d\"))\n",
    "print(datetime.datetime.today().strftime(\"%Y%m%d%H%M%S\"))"
   ]
  },
  {
   "cell_type": "code",
   "execution_count": 5,
   "metadata": {},
   "outputs": [
    {
     "name": "stdout",
     "output_type": "stream",
     "text": [
      "36524 days, 1:01:10\n",
      "36524\n",
      "3670\n",
      "3155677270.0\n"
     ]
    }
   ],
   "source": [
    "# διαφορά μεταξύ ημερομηνιών\n",
    "\n",
    "d1 = datetime.datetime(1900, 1, 1)\n",
    "d2 = datetime.datetime(2000, 1, 1, 1, 1, 10)\n",
    "delta = d2 - d1\n",
    "print(delta)\n",
    "print(delta.days)\n",
    "print(delta.seconds)\n",
    "print(delta.total_seconds())"
   ]
  },
  {
   "cell_type": "code",
   "execution_count": 12,
   "metadata": {},
   "outputs": [
    {
     "name": "stdout",
     "output_type": "stream",
     "text": [
      "1 Wednesday 2 Thursday 3 Friday 4 Saturday 5 Sunday 6 Monday 7 Tuesday 8 Wednesday 9 Thursday 10 Friday 11 Saturday 12 Sunday 13 Monday 14 Tuesday 15 Wednesday 16 Thursday 17 Friday 18 Saturday 19 Sunday 20 Monday 21 Tuesday 22 Wednesday 23 Thursday 24 Friday 25 Saturday 26 Sunday 27 Monday 28 Tuesday 29 Wednesday 30 Thursday 31 Friday "
     ]
    }
   ],
   "source": [
    "# ονόματα ημερών για τον Ιανουάριο του 2021\n",
    "\n",
    "for day in range(1, 32):\n",
    "    print(day, datetime.datetime(year=2020,month=1,day=day).strftime(\"%A\"), end= \" \")"
   ]
  },
  {
   "cell_type": "markdown",
   "metadata": {},
   "source": [
    "## dateutil"
   ]
  },
  {
   "cell_type": "code",
   "execution_count": 7,
   "metadata": {},
   "outputs": [],
   "source": [
    "# εγκατάσταση dateutil μέσα από το jupyter είτε με pip είτε με conda\n",
    "\n",
    "# import sys\n",
    "# ! {sys.executable} -m pip install python-dateutil\n",
    "\n",
    "# import sys\n",
    "# ! conda install --yes --prefix {sys.prefix} python-dateutil"
   ]
  },
  {
   "cell_type": "code",
   "execution_count": 6,
   "metadata": {},
   "outputs": [
    {
     "name": "stdout",
     "output_type": "stream",
     "text": [
      "[datetime.datetime(2022, 6, 17, 0, 0),\n",
      " datetime.datetime(2022, 6, 20, 0, 0),\n",
      " datetime.datetime(2022, 6, 24, 0, 0),\n",
      " datetime.datetime(2022, 6, 27, 0, 0),\n",
      " datetime.datetime(2022, 7, 1, 0, 0),\n",
      " datetime.datetime(2022, 7, 4, 0, 0),\n",
      " datetime.datetime(2022, 7, 8, 0, 0),\n",
      " datetime.datetime(2022, 7, 11, 0, 0),\n",
      " datetime.datetime(2022, 7, 15, 0, 0),\n",
      " datetime.datetime(2022, 7, 18, 0, 0)]\n"
     ]
    }
   ],
   "source": [
    "# rrule για επαναλαμβανόμενα γεγονότα\n",
    "\n",
    "from dateutil.rrule import rrule, WEEKLY, MO, FR\n",
    "from pprint import pprint\n",
    "from dateutil.parser import parse\n",
    "\n",
    "# 10 επόμενες Δευτέρες ή Παρασκευές μετά τις 15/6/2022\n",
    "dates = rrule(WEEKLY, count=10, byweekday=(MO,FR), dtstart=parse(\"20220615\"))\n",
    "pprint(list(dates))"
   ]
  },
  {
   "cell_type": "code",
   "execution_count": 3,
   "metadata": {},
   "outputs": [
    {
     "name": "stdout",
     "output_type": "stream",
     "text": [
      "1971-01-06 18:00:00\n"
     ]
    }
   ],
   "source": [
    "# fuzzy parsing λεκτικών σε ημερομηνίες και ώρες\n",
    "\n",
    "from dateutil.parser import parse\n",
    "\n",
    "dt = parse(\"January 6 - 1971 at 6:00PM\", fuzzy=True)\n",
    "print(dt)"
   ]
  },
  {
   "cell_type": "markdown",
   "metadata": {},
   "source": [
    "## time"
   ]
  },
  {
   "cell_type": "code",
   "execution_count": 7,
   "metadata": {},
   "outputs": [
    {
     "name": "stdout",
     "output_type": "stream",
     "text": [
      "['_STRUCT_TM_ITEMS', '__doc__', '__loader__', '__name__', '__package__', '__spec__', 'altzone', 'asctime', 'ctime', 'daylight', 'get_clock_info', 'gmtime', 'localtime', 'mktime', 'monotonic', 'monotonic_ns', 'perf_counter', 'perf_counter_ns', 'process_time', 'process_time_ns', 'sleep', 'strftime', 'strptime', 'struct_time', 'thread_time', 'thread_time_ns', 'time', 'time_ns', 'timezone', 'tzname']\n"
     ]
    }
   ],
   "source": [
    "import time\n",
    "print(dir(time))"
   ]
  },
  {
   "cell_type": "code",
   "execution_count": 8,
   "metadata": {},
   "outputs": [
    {
     "name": "stdout",
     "output_type": "stream",
     "text": [
      "time.struct_time(tm_year=1970, tm_mon=1, tm_mday=1, tm_hour=0, tm_min=0, tm_sec=0, tm_wday=3, tm_yday=1, tm_isdst=0)\n"
     ]
    }
   ],
   "source": [
    "print(time.gmtime(0)) # EPOCH TIME 1/1/1970 00:00:00"
   ]
  },
  {
   "cell_type": "code",
   "execution_count": 9,
   "metadata": {},
   "outputs": [
    {
     "name": "stdout",
     "output_type": "stream",
     "text": [
      "Wed Jun 15 19:41:13 2022 ύπνος για 2 δευτερόλεπτα\n",
      "Wed Jun 15 19:41:14 2022 ύπνος για 1 δευτερόλεπτα\n",
      "Wed Jun 15 19:41:16 2022 ύπνος για 2 δευτερόλεπτα\n",
      "Wed Jun 15 19:41:19 2022 ύπνος για 3 δευτερόλεπτα\n",
      "Wed Jun 15 19:41:20 2022 ύπνος για 1 δευτερόλεπτα\n"
     ]
    }
   ],
   "source": [
    "for x in [2,1,2,3,1]:\n",
    "    time.sleep(x)\n",
    "    print(f\"{time.ctime()} ύπνος για {x} δευτερόλεπτα\")"
   ]
  },
  {
   "cell_type": "code",
   "execution_count": 10,
   "metadata": {},
   "outputs": [
    {
     "name": "stdout",
     "output_type": "stream",
     "text": [
      "2022-06-15-19.41.20\n"
     ]
    }
   ],
   "source": [
    "print(time.strftime(\"%Y-%m-%d-%H.%M.%S\",time.localtime()))"
   ]
  },
  {
   "cell_type": "code",
   "execution_count": 11,
   "metadata": {},
   "outputs": [
    {
     "name": "stdout",
     "output_type": "stream",
     "text": [
      "1655311280.6745455\n",
      "Wed Jun 15 19:41:20 2022\n"
     ]
    }
   ],
   "source": [
    "print(time.time())\n",
    "print(time.ctime(time.time()))"
   ]
  }
 ],
 "metadata": {
  "kernelspec": {
   "display_name": "Python 3.8.13 ('myenv')",
   "language": "python",
   "name": "python3"
  },
  "language_info": {
   "codemirror_mode": {
    "name": "ipython",
    "version": 3
   },
   "file_extension": ".py",
   "mimetype": "text/x-python",
   "name": "python",
   "nbconvert_exporter": "python",
   "pygments_lexer": "ipython3",
   "version": "3.8.13"
  },
  "orig_nbformat": 2,
  "vscode": {
   "interpreter": {
    "hash": "974659bc90c8ddddc11b19c7e94fd91162a2277b0607bb1c923d993f45e68608"
   }
  }
 },
 "nbformat": 4,
 "nbformat_minor": 2
}
