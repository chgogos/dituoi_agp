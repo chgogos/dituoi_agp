{
 "metadata": {
  "language_info": {
   "codemirror_mode": {
    "name": "ipython",
    "version": 3
   },
   "file_extension": ".py",
   "mimetype": "text/x-python",
   "name": "python",
   "nbconvert_exporter": "python",
   "pygments_lexer": "ipython3",
   "version": "3.8.0-final"
  },
  "orig_nbformat": 2,
  "kernelspec": {
   "name": "python3",
   "display_name": "Python 3.8.0 64-bit",
   "metadata": {
    "interpreter": {
     "hash": "2334294e789e06453e89f7d5c3c2573679701f9bb5b76ad2158f91cca5c9244c"
    }
   }
  }
 },
 "nbformat": 4,
 "nbformat_minor": 2,
 "cells": [
  {
   "source": [
    "    Τμήμα Πληροφορικής και Τηλεπικοινωνιών - Άρτα \n",
    "    Πανεπιστήμιο Ιωαννίνων \n",
    "\n",
    "    Γκόγκος Χρήστος \n",
    "    http://chgogos.github.io/\n",
    "    Εαρινό εξάμηνο 2020-2021"
   ],
   "cell_type": "markdown",
   "metadata": {}
  },
  {
   "source": [
    "# Ημερομηνία και ώρα"
   ],
   "cell_type": "markdown",
   "metadata": {}
  },
  {
   "source": [
    "## datetime"
   ],
   "cell_type": "markdown",
   "metadata": {}
  },
  {
   "cell_type": "code",
   "execution_count": 2,
   "metadata": {},
   "outputs": [
    {
     "output_type": "stream",
     "name": "stdout",
     "text": [
      "2020-02-15\n2021-03-06 21:22:35.217735\n20210306\n"
     ]
    }
   ],
   "source": [
    "# \n",
    "import datetime\n",
    "\n",
    "print(datetime.date(2020,2,15))\n",
    "print(datetime.datetime.now())\n",
    "print(datetime.datetime.today().strftime(\"%Y%m%d\"))"
   ]
  },
  {
   "cell_type": "code",
   "execution_count": 3,
   "metadata": {},
   "outputs": [
    {
     "output_type": "stream",
     "name": "stdout",
     "text": [
      "36524 days, 1:01:10\n36524\n3670\n3155677270.0\n"
     ]
    }
   ],
   "source": [
    "d1 = datetime.datetime(1900, 1, 1)\n",
    "d2 = datetime.datetime(2000, 1, 1, 1, 1, 10)\n",
    "delta = d2 - d1\n",
    "print(delta)\n",
    "print(delta.days)\n",
    "print(delta.seconds)\n",
    "print(delta.total_seconds())"
   ]
  },
  {
   "cell_type": "code",
   "execution_count": 11,
   "metadata": {},
   "outputs": [
    {
     "output_type": "stream",
     "name": "stdout",
     "text": [
      "1 Wednesday 2 Thursday 3 Friday 4 Saturday 5 Sunday 6 Monday 7 Tuesday 8 Wednesday 9 Thursday 10 Friday 11 Saturday 12 Sunday 13 Monday 14 Tuesday 15 Wednesday 16 Thursday 17 Friday 18 Saturday 19 Sunday 20 Monday 21 Tuesday 22 Wednesday 23 Thursday 24 Friday 25 Saturday 26 Sunday 27 Monday 28 Tuesday 29 Wednesday 30 Thursday 31 Friday "
     ]
    }
   ],
   "source": [
    "# ονόματα ημερών για τον Ιανουάριο του 2021\n",
    "\n",
    "for day in range(1, 32):\n",
    "    print(day, datetime.datetime(year=2020,month=1,day=day).strftime(\"%A\"), end= \" \")"
   ]
  },
  {
   "source": [
    "## time"
   ],
   "cell_type": "markdown",
   "metadata": {}
  },
  {
   "cell_type": "code",
   "execution_count": 34,
   "metadata": {},
   "outputs": [
    {
     "output_type": "stream",
     "name": "stdout",
     "text": [
      "time.struct_time(tm_year=1970, tm_mon=1, tm_mday=1, tm_hour=0, tm_min=0, tm_sec=0, tm_wday=3, tm_yday=1, tm_isdst=0)\n"
     ]
    }
   ],
   "source": [
    "import time\n",
    "print(time.gmtime(0)) # EPOCH TIME 1/1/1970 00:00:00"
   ]
  },
  {
   "cell_type": "code",
   "execution_count": 35,
   "metadata": {},
   "outputs": [
    {
     "output_type": "stream",
     "name": "stdout",
     "text": [
      "Wed Feb 24 02:03:07 2021 ύπνος για 2 δευτερόλεπτα\n",
      "Wed Feb 24 02:03:08 2021 ύπνος για 1 δευτερόλεπτα\n",
      "Wed Feb 24 02:03:10 2021 ύπνος για 2 δευτερόλεπτα\n",
      "Wed Feb 24 02:03:13 2021 ύπνος για 3 δευτερόλεπτα\n",
      "Wed Feb 24 02:03:14 2021 ύπνος για 1 δευτερόλεπτα\n"
     ]
    }
   ],
   "source": [
    "for x in [2,1,2,3,1]:\n",
    "    time.sleep(x)\n",
    "    print(f\"{time.ctime()} ύπνος για {x} δευτερόλεπτα\")"
   ]
  },
  {
   "cell_type": "code",
   "execution_count": 36,
   "metadata": {},
   "outputs": [
    {
     "output_type": "stream",
     "name": "stdout",
     "text": [
      "2021-02-24-02.03.14\n"
     ]
    }
   ],
   "source": [
    "print(time.strftime(\"%Y-%m-%d-%H.%M.%S\",time.localtime()))"
   ]
  },
  {
   "cell_type": "code",
   "execution_count": 37,
   "metadata": {},
   "outputs": [
    {
     "output_type": "stream",
     "name": "stdout",
     "text": [
      "1614124994.8657916\nWed Feb 24 02:03:14 2021\n"
     ]
    }
   ],
   "source": [
    "print(time.time())\n",
    "print(time.ctime(time.time()))"
   ]
  }
 ]
}