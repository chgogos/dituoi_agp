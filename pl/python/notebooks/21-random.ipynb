{
 "metadata": {
  "language_info": {
   "codemirror_mode": {
    "name": "ipython",
    "version": 3
   },
   "file_extension": ".py",
   "mimetype": "text/x-python",
   "name": "python",
   "nbconvert_exporter": "python",
   "pygments_lexer": "ipython3",
   "version": "3.8.0-final"
  },
  "orig_nbformat": 2,
  "kernelspec": {
   "name": "python3",
   "display_name": "Python 3.8.0 64-bit",
   "metadata": {
    "interpreter": {
     "hash": "2334294e789e06453e89f7d5c3c2573679701f9bb5b76ad2158f91cca5c9244c"
    }
   }
  }
 },
 "nbformat": 4,
 "nbformat_minor": 2,
 "cells": [
  {
   "source": [
    "    Τμήμα Πληροφορικής και Τηλεπικοινωνιών - Άρτα \n",
    "    Πανεπιστήμιο Ιωαννίνων \n",
    "\n",
    "    Γκόγκος Χρήστος \n",
    "    http://chgogos.github.io/\n",
    "    Εαρινό εξάμηνο 2020-2021"
   ],
   "cell_type": "markdown",
   "metadata": {}
  },
  {
   "source": [
    "# Δημιουργία ψευδοτυχαίων τιμών\n"
   ],
   "cell_type": "markdown",
   "metadata": {}
  },
  {
   "cell_type": "code",
   "execution_count": 21,
   "metadata": {},
   "outputs": [
    {
     "output_type": "stream",
     "name": "stdout",
     "text": [
      "['BPF', 'LOG4', 'NV_MAGICCONST', 'RECIP_BPF', 'Random', 'SG_MAGICCONST', 'SystemRandom', 'TWOPI', '_Sequence', '_Set', '__all__', '__builtins__', '__cached__', '__doc__', '__file__', '__loader__', '__name__', '__package__', '__spec__', '_accumulate', '_acos', '_bisect', '_ceil', '_cos', '_e', '_exp', '_inst', '_log', '_os', '_pi', '_random', '_repeat', '_sha512', '_sin', '_sqrt', '_test', '_test_generator', '_urandom', '_warn', 'betavariate', 'choice', 'choices', 'expovariate', 'gammavariate', 'gauss', 'getrandbits', 'getstate', 'lognormvariate', 'normalvariate', 'paretovariate', 'randint', 'random', 'randrange', 'sample', 'seed', 'setstate', 'shuffle', 'triangular', 'uniform', 'vonmisesvariate', 'weibullvariate']\n"
     ]
    }
   ],
   "source": [
    "import random\n",
    "\n",
    "print(dir(random))"
   ]
  },
  {
   "cell_type": "code",
   "execution_count": 22,
   "metadata": {},
   "outputs": [
    {
     "output_type": "stream",
     "name": "stdout",
     "text": [
      "0.1813831152421378\n0.3669993026636249\n0.1992448651336125\n0.8887719677975175\n0.7859454176506308\n0.3642538644086477\n0.9122765626339393\n0.15628891920734522\n0.28355184050661963\n0.07151624975990778\n"
     ]
    }
   ],
   "source": [
    "# 10 τυχαίες τιμές στο διάστημα [0,1) ομοιόμορφη κατανομή (λήψη διαφορετικών τιμών σε κάθε εκτέλεση του κώδικα)\n",
    "\n",
    "for i in range(10):\n",
    "    print(random.random())"
   ]
  },
  {
   "cell_type": "code",
   "execution_count": 23,
   "metadata": {},
   "outputs": [
    {
     "output_type": "stream",
     "name": "stdout",
     "text": [
      "0.9664535356921388\n0.4407325991753527\n0.007491470058587191\n0.9109759624491242\n0.939268997363764\n0.5822275730589491\n0.6715634814879851\n0.08393822683708396\n0.7664809327917963\n0.23680977536311776\n"
     ]
    }
   ],
   "source": [
    "# 10 τυχαίες τιμές στο διάστημα [0,1) ομοιόμορφη κατανομή (λήψη ίδιων τιμών σε κάθε εκτέλεση του κώδικα)\n",
    "\n",
    "seed = 1234\n",
    "random.seed(seed)\n",
    "for i in range(10):\n",
    "    print(random.random())\n",
    "\n",
    "random.seed(None) # πλέον, θα χρησιμοποιείται ως seed η τρέχουσα ώρα"
   ]
  },
  {
   "cell_type": "code",
   "execution_count": 24,
   "metadata": {},
   "outputs": [
    {
     "output_type": "stream",
     "name": "stdout",
     "text": [
      "11.31588302346212\n12.408107523327693\n13.75344336617813\n12.265568904099228\n10.183070288193004\n14.162527036683917\n12.870541193176134\n10.756770087199975\n12.328542710707188\n14.795397640200113\n"
     ]
    }
   ],
   "source": [
    "# 10 τυχαίες τιμές στο διάστημα [10,15) ομοιόμορφη κατανομή\n",
    "\n",
    "for i in range(10):\n",
    "    print(random.uniform(10,15))"
   ]
  },
  {
   "cell_type": "code",
   "execution_count": 25,
   "metadata": {},
   "outputs": [
    {
     "output_type": "stream",
     "name": "stdout",
     "text": [
      "2.9624539467989504\n-4.390351753733196\n-6.141744808046857\n-19.026123247177328\n16.417279868485725\n1.4054322325727902\n1.8192158921323296\n-8.331451250437569\n0.6615094533441341\n4.42146087432644\n"
     ]
    }
   ],
   "source": [
    "# 10 τυχαίες τιμές επιλεγμένες με βάση την κανονική κατανομή (μέση τιμή=0,τυπική απόκλιση=10)\n",
    "\n",
    "for i in range(10):\n",
    "    print(random.normalvariate(0, 10))"
   ]
  },
  {
   "cell_type": "code",
   "execution_count": 26,
   "metadata": {},
   "outputs": [
    {
     "output_type": "stream",
     "name": "stdout",
     "text": [
      "5\n4\n6\n4\n2\n5\n1\n5\n1\n3\n"
     ]
    }
   ],
   "source": [
    "# 10 τυχαίες διακριτές ακέραιες τιμές στο διάστημα [1,6]\n",
    "\n",
    "for i in range(10):\n",
    "    print(random.randint(1,6))"
   ]
  },
  {
   "cell_type": "code",
   "execution_count": 27,
   "metadata": {},
   "outputs": [
    {
     "output_type": "stream",
     "name": "stdout",
     "text": [
      "32\n32\n32\n32\n4\n8\n16\n16\n16\n8\n"
     ]
    }
   ],
   "source": [
    "# 10 επιλογές τυχαίων τιμών από μια λίστα\n",
    "\n",
    "a_list = [1,2,4,8,16,32]\n",
    "\n",
    "for i in range(10):\n",
    "    print(random.choice(a_list))"
   ]
  },
  {
   "cell_type": "code",
   "execution_count": 28,
   "metadata": {},
   "outputs": [
    {
     "output_type": "stream",
     "name": "stdout",
     "text": [
      "[0, 1, 2, 3, 4, 5, 6, 7, 8]\n"
     ]
    }
   ],
   "source": [
    "# επιλογή 9 τιμών από μια λίστα 10 τιμών (κάθε τιμή μπορεί να επιλεγεί 1 μόνο φορά)\n",
    "\n",
    "a_list = [0,1,2,3,4,5,6,7,8,9]\n",
    "selected = random.sample(a_list, 9)\n",
    "print(sorted(selected))"
   ]
  },
  {
   "cell_type": "code",
   "execution_count": 29,
   "metadata": {},
   "outputs": [
    {
     "output_type": "stream",
     "name": "stdout",
     "text": [
      "[16, 8, 32, 2, 4, 1]\n[16, 4, 1, 2, 8, 32]\n[16, 2, 1, 32, 8, 4]\n[2, 1, 8, 32, 4, 16]\n[1, 32, 4, 16, 8, 2]\n[32, 16, 1, 4, 2, 8]\n[16, 32, 2, 4, 1, 8]\n[1, 4, 8, 16, 32, 2]\n[16, 2, 1, 4, 8, 32]\n[16, 1, 32, 2, 8, 4]\n"
     ]
    }
   ],
   "source": [
    "# ανακάτεμα στοιχείων λίστας (10 φορές)\n",
    "a_list = [1,2,4,8,16,32]\n",
    "\n",
    "for i in range(0,10):\n",
    "    random.shuffle(a_list)\n",
    "    print(a_list)\n"
   ]
  },
  {
   "cell_type": "code",
   "execution_count": null,
   "metadata": {},
   "outputs": [],
   "source": []
  }
 ]
}