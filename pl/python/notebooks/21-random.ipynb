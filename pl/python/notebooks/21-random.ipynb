{
 "cells": [
  {
   "cell_type": "markdown",
   "metadata": {},
   "source": [
    "    Τμήμα Πληροφορικής και Τηλεπικοινωνιών - Άρτα \n",
    "    Πανεπιστήμιο Ιωαννίνων \n",
    "\n",
    "    Γκόγκος Χρήστος \n",
    "    http://chgogos.github.io/\n",
    "    \n",
    "    Τελευταία ενημέρωση: 17/3/2022"
   ]
  },
  {
   "cell_type": "markdown",
   "metadata": {},
   "source": [
    "# Δημιουργία ψευδοτυχαίων τιμών\n"
   ]
  },
  {
   "cell_type": "code",
   "execution_count": 1,
   "metadata": {},
   "outputs": [
    {
     "name": "stdout",
     "output_type": "stream",
     "text": [
      "['BPF', 'LOG4', 'NV_MAGICCONST', 'RECIP_BPF', 'Random', 'SG_MAGICCONST', 'SystemRandom', 'TWOPI', '_Sequence', '_Set', '__all__', '__builtins__', '__cached__', '__doc__', '__file__', '__loader__', '__name__', '__package__', '__spec__', '_accumulate', '_acos', '_bisect', '_ceil', '_cos', '_e', '_exp', '_inst', '_log', '_os', '_pi', '_random', '_repeat', '_sha512', '_sin', '_sqrt', '_test', '_test_generator', '_urandom', '_warn', 'betavariate', 'choice', 'choices', 'expovariate', 'gammavariate', 'gauss', 'getrandbits', 'getstate', 'lognormvariate', 'normalvariate', 'paretovariate', 'randint', 'random', 'randrange', 'sample', 'seed', 'setstate', 'shuffle', 'triangular', 'uniform', 'vonmisesvariate', 'weibullvariate']\n"
     ]
    }
   ],
   "source": [
    "import random\n",
    "\n",
    "print(dir(random))"
   ]
  },
  {
   "cell_type": "code",
   "execution_count": 2,
   "metadata": {},
   "outputs": [
    {
     "name": "stdout",
     "output_type": "stream",
     "text": [
      "0.3607468162062385\n",
      "0.1212808370742775\n",
      "0.8204938888206832\n",
      "0.9721454413721192\n",
      "0.5390148369864065\n",
      "0.029093442432604477\n",
      "0.9288600659839987\n",
      "0.005897395060783461\n",
      "0.032127749344165624\n",
      "0.9850396706784733\n"
     ]
    }
   ],
   "source": [
    "# 10 τυχαίες τιμές στο διάστημα [0,1) ομοιόμορφη κατανομή (λήψη διαφορετικών τιμών σε κάθε εκτέλεση του κώδικα)\n",
    "\n",
    "for i in range(10):\n",
    "    print(random.random())"
   ]
  },
  {
   "cell_type": "code",
   "execution_count": 3,
   "metadata": {},
   "outputs": [
    {
     "name": "stdout",
     "output_type": "stream",
     "text": [
      "0.9664535356921388\n",
      "0.4407325991753527\n",
      "0.007491470058587191\n",
      "0.9109759624491242\n",
      "0.939268997363764\n",
      "0.5822275730589491\n",
      "0.6715634814879851\n",
      "0.08393822683708396\n",
      "0.7664809327917963\n",
      "0.23680977536311776\n"
     ]
    }
   ],
   "source": [
    "# 10 τυχαίες τιμές στο διάστημα [0,1) ομοιόμορφη κατανομή (λήψη ίδιων τιμών σε κάθε εκτέλεση του κώδικα)\n",
    "\n",
    "seed = 1234\n",
    "random.seed(seed)\n",
    "for i in range(10):\n",
    "    print(random.random())\n",
    "\n",
    "random.seed(None) # πλέον, θα χρησιμοποιείται ως seed η τρέχουσα ώρα"
   ]
  },
  {
   "cell_type": "code",
   "execution_count": 4,
   "metadata": {},
   "outputs": [
    {
     "name": "stdout",
     "output_type": "stream",
     "text": [
      "12.921026717570676\n",
      "12.94408718351801\n",
      "13.163521671376275\n",
      "11.536173606600633\n",
      "10.975284960554418\n",
      "10.911222883035574\n",
      "13.918128188695626\n",
      "12.469024705518722\n",
      "12.707336878891212\n",
      "11.041334530114725\n"
     ]
    }
   ],
   "source": [
    "# 10 τυχαίες τιμές στο διάστημα [10,15) ομοιόμορφη κατανομή\n",
    "\n",
    "for i in range(10):\n",
    "    print(random.uniform(10,15))"
   ]
  },
  {
   "cell_type": "code",
   "execution_count": 5,
   "metadata": {},
   "outputs": [
    {
     "name": "stdout",
     "output_type": "stream",
     "text": [
      "9.941092479573234\n",
      "-10.791656204723983\n",
      "-1.373598402876757\n",
      "-0.18696159156626935\n",
      "7.218022662500721\n",
      "-6.963989529209023\n",
      "-9.403607404579393\n",
      "1.9814507505901677\n",
      "6.881843355243985\n",
      "6.2732844269048496\n"
     ]
    }
   ],
   "source": [
    "# 10 τυχαίες τιμές επιλεγμένες με βάση την κανονική κατανομή (μέση τιμή=0,τυπική απόκλιση=10)\n",
    "\n",
    "for i in range(10):\n",
    "    print(random.normalvariate(0, 10))"
   ]
  },
  {
   "cell_type": "code",
   "execution_count": 6,
   "metadata": {},
   "outputs": [
    {
     "name": "stdout",
     "output_type": "stream",
     "text": [
      "1\n",
      "2\n",
      "6\n",
      "2\n",
      "3\n",
      "6\n",
      "6\n",
      "6\n",
      "3\n",
      "2\n"
     ]
    }
   ],
   "source": [
    "# 10 τυχαίες διακριτές ακέραιες τιμές στο διάστημα [1,6]\n",
    "\n",
    "for i in range(10):\n",
    "    print(random.randint(1,6))"
   ]
  },
  {
   "cell_type": "code",
   "execution_count": 7,
   "metadata": {},
   "outputs": [
    {
     "name": "stdout",
     "output_type": "stream",
     "text": [
      "32\n",
      "16\n",
      "2\n",
      "16\n",
      "2\n",
      "32\n",
      "2\n",
      "2\n",
      "8\n",
      "16\n"
     ]
    }
   ],
   "source": [
    "# 10 επιλογές τυχαίων τιμών από μια λίστα\n",
    "\n",
    "a_list = [1,2,4,8,16,32]\n",
    "\n",
    "for i in range(10):\n",
    "    print(random.choice(a_list))"
   ]
  },
  {
   "cell_type": "code",
   "execution_count": 8,
   "metadata": {},
   "outputs": [
    {
     "name": "stdout",
     "output_type": "stream",
     "text": [
      "[0, 1, 2, 4, 5, 6, 7, 8, 9]\n"
     ]
    }
   ],
   "source": [
    "# επιλογή 9 τιμών από μια λίστα 10 τιμών (κάθε τιμή μπορεί να επιλεγεί 1 μόνο φορά)\n",
    "\n",
    "a_list = [0,1,2,3,4,5,6,7,8,9]\n",
    "selected = random.sample(a_list, 9)\n",
    "print(sorted(selected))"
   ]
  },
  {
   "cell_type": "code",
   "execution_count": 9,
   "metadata": {},
   "outputs": [
    {
     "name": "stdout",
     "output_type": "stream",
     "text": [
      "[16, 8, 4, 1, 32, 2]\n",
      "[16, 2, 8, 1, 4, 32]\n",
      "[1, 32, 16, 4, 2, 8]\n",
      "[4, 1, 32, 8, 2, 16]\n",
      "[16, 1, 2, 32, 8, 4]\n",
      "[32, 16, 4, 8, 1, 2]\n",
      "[4, 1, 2, 32, 16, 8]\n",
      "[1, 32, 16, 8, 4, 2]\n",
      "[1, 16, 4, 32, 2, 8]\n",
      "[16, 8, 32, 4, 1, 2]\n"
     ]
    }
   ],
   "source": [
    "# ανακάτεμα στοιχείων λίστας (10 φορές)\n",
    "a_list = [1,2,4,8,16,32]\n",
    "\n",
    "for i in range(10):\n",
    "    random.shuffle(a_list)\n",
    "    print(a_list)\n"
   ]
  },
  {
   "cell_type": "code",
   "execution_count": null,
   "metadata": {},
   "outputs": [],
   "source": []
  }
 ],
 "metadata": {
  "kernelspec": {
   "display_name": "Python 3.8.0 64-bit ('3.8.0-amd64': pyenv)",
   "metadata": {
    "interpreter": {
     "hash": "2334294e789e06453e89f7d5c3c2573679701f9bb5b76ad2158f91cca5c9244c"
    }
   },
   "name": "python3"
  },
  "language_info": {
   "codemirror_mode": {
    "name": "ipython",
    "version": 3
   },
   "file_extension": ".py",
   "mimetype": "text/x-python",
   "name": "python",
   "nbconvert_exporter": "python",
   "pygments_lexer": "ipython3",
   "version": "3.8.0"
  },
  "orig_nbformat": 2
 },
 "nbformat": 4,
 "nbformat_minor": 2
}
