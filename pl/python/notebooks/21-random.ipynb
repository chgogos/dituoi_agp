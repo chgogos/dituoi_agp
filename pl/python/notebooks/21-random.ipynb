{
 "metadata": {
  "language_info": {
   "codemirror_mode": {
    "name": "ipython",
    "version": 3
   },
   "file_extension": ".py",
   "mimetype": "text/x-python",
   "name": "python",
   "nbconvert_exporter": "python",
   "pygments_lexer": "ipython3",
   "version": "3.8.0-final"
  },
  "orig_nbformat": 2,
  "kernelspec": {
   "name": "python3",
   "display_name": "Python 3.8.0 64-bit",
   "metadata": {
    "interpreter": {
     "hash": "2334294e789e06453e89f7d5c3c2573679701f9bb5b76ad2158f91cca5c9244c"
    }
   }
  }
 },
 "nbformat": 4,
 "nbformat_minor": 2,
 "cells": [
  {
   "source": [
    "    Τμήμα Πληροφορικής και Τηλεπικοινωνιών - Άρτα \n",
    "    Πανεπιστήμιο Ιωαννίνων \n",
    "\n",
    "    Γκόγκος Χρήστος \n",
    "    http://chgogos.github.io/\n",
    "    Εαρινό εξάμηνο 2020-2021"
   ],
   "cell_type": "markdown",
   "metadata": {}
  },
  {
   "source": [
    "# Δημιουργία ψευδοτυχαίων τιμών\n"
   ],
   "cell_type": "markdown",
   "metadata": {}
  },
  {
   "cell_type": "code",
   "execution_count": null,
   "metadata": {},
   "outputs": [],
   "source": [
    "import random\n",
    "\n",
    "print(dir(random))"
   ]
  },
  {
   "cell_type": "code",
   "execution_count": null,
   "metadata": {},
   "outputs": [],
   "source": [
    "# 10 τυχαίες τιμές στο διάστημα [0,1) ομοιόμορφη κατανομή (λήψη διαφορετικών τιμών σε κάθε εκτέλεση του κώδικα)\n",
    "\n",
    "for i in range(10):\n",
    "    print(random.random())"
   ]
  },
  {
   "cell_type": "code",
   "execution_count": null,
   "metadata": {},
   "outputs": [],
   "source": [
    "# 10 τυχαίες τιμές στο διάστημα [0,1) ομοιόμορφη κατανομή (λήψη ίδιων τιμών σε κάθε εκτέλεση του κώδικα)\n",
    "\n",
    "seed = 1234\n",
    "random.seed(seed)\n",
    "for i in range(10):\n",
    "    print(random.random())\n",
    "\n",
    "random.seed(None) # πλέον, θα χρησιμοποιείται ως seed η τρέχουσα ώρα"
   ]
  },
  {
   "cell_type": "code",
   "execution_count": null,
   "metadata": {},
   "outputs": [],
   "source": [
    "# 10 τυχαίες τιμές στο διάστημα [10,15) ομοιόμορφη κατανομή\n",
    "\n",
    "for i in range(10):\n",
    "    print(random.uniform(10,15))"
   ]
  },
  {
   "cell_type": "code",
   "execution_count": null,
   "metadata": {},
   "outputs": [],
   "source": [
    "# 10 τυχαίες τιμές επιλεγμένες με βάση την κανονική κατανομή (μέση τιμή=0,τυπική απόκλιση=10)\n",
    "\n",
    "for i in range(10):\n",
    "    print(random.normalvariate(0, 10))"
   ]
  },
  {
   "cell_type": "code",
   "execution_count": null,
   "metadata": {},
   "outputs": [],
   "source": [
    "# 10 τυχαίες διακριτές ακέραιες τιμές στο διάστημα [1,6]\n",
    "\n",
    "for i in range(10):\n",
    "    print(random.randint(1,6))"
   ]
  },
  {
   "cell_type": "code",
   "execution_count": null,
   "metadata": {},
   "outputs": [],
   "source": [
    "# 10 επιλογές τυχαίων τιμών από μια λίστα\n",
    "\n",
    "a_list = [1,2,4,8,16,32]\n",
    "\n",
    "for i in range(10):\n",
    "    print(random.choice(a_list))"
   ]
  },
  {
   "cell_type": "code",
   "execution_count": null,
   "metadata": {},
   "outputs": [],
   "source": [
    "# ανακάτεμα στοιχείων λίστας (10 φορές)\n",
    "a_list = [1,2,4,8,16,32]\n",
    "\n",
    "for i in range(0,10):\n",
    "    random.shuffle(a_list)\n",
    "    print(a_list)\n"
   ]
  },
  {
   "cell_type": "code",
   "execution_count": null,
   "metadata": {},
   "outputs": [],
   "source": []
  }
 ]
}