{
 "metadata": {
  "language_info": {
   "codemirror_mode": {
    "name": "ipython",
    "version": 3
   },
   "file_extension": ".py",
   "mimetype": "text/x-python",
   "name": "python",
   "nbconvert_exporter": "python",
   "pygments_lexer": "ipython3",
   "version": "3.8.0-final"
  },
  "orig_nbformat": 2,
  "kernelspec": {
   "name": "python3",
   "display_name": "Python 3.8.0 64-bit",
   "metadata": {
    "interpreter": {
     "hash": "2334294e789e06453e89f7d5c3c2573679701f9bb5b76ad2158f91cca5c9244c"
    }
   }
  }
 },
 "nbformat": 4,
 "nbformat_minor": 2,
 "cells": [
  {
   "source": [
    "    Τμήμα Πληροφορικής και Τηλεπικοινωνιών - Άρτα \n",
    "    Πανεπιστήμιο Ιωαννίνων \n",
    "\n",
    "    Γκόγκος Χρήστος \n",
    "    http://chgogos.github.io/\n",
    "    Εαρινό εξάμηνο 2020-2021"
   ],
   "cell_type": "markdown",
   "metadata": {}
  },
  {
   "source": [
    "# Δημιουργία ψευδοτυχαίων τιμών\n"
   ],
   "cell_type": "markdown",
   "metadata": {}
  },
  {
   "cell_type": "code",
   "execution_count": 2,
   "metadata": {},
   "outputs": [
    {
     "output_type": "stream",
     "name": "stdout",
     "text": [
      "['BPF', 'LOG4', 'NV_MAGICCONST', 'RECIP_BPF', 'Random', 'SG_MAGICCONST', 'SystemRandom', 'TWOPI', '_Sequence', '_Set', '__all__', '__builtins__', '__cached__', '__doc__', '__file__', '__loader__', '__name__', '__package__', '__spec__', '_accumulate', '_acos', '_bisect', '_ceil', '_cos', '_e', '_exp', '_inst', '_log', '_os', '_pi', '_random', '_repeat', '_sha512', '_sin', '_sqrt', '_test', '_test_generator', '_urandom', '_warn', 'betavariate', 'choice', 'choices', 'expovariate', 'gammavariate', 'gauss', 'getrandbits', 'getstate', 'lognormvariate', 'normalvariate', 'paretovariate', 'randint', 'random', 'randrange', 'sample', 'seed', 'setstate', 'shuffle', 'triangular', 'uniform', 'vonmisesvariate', 'weibullvariate']\n"
     ]
    }
   ],
   "source": [
    "import random\n",
    "\n",
    "print(dir(random))"
   ]
  },
  {
   "cell_type": "code",
   "execution_count": 3,
   "metadata": {},
   "outputs": [
    {
     "output_type": "stream",
     "name": "stdout",
     "text": [
      "0.7011348657076754\n0.4348844792891374\n0.6041455044109514\n0.19837684445321901\n0.566433354526863\n0.12197983919493349\n0.01047379458708353\n0.3046888677546036\n0.549996580636079\n0.7395906953181294\n"
     ]
    }
   ],
   "source": [
    "# 10 τυχαίες τιμές στο διάστημα [0,1) ομοιόμορφη κατανομή (λήψη διαφορετικών τιμών σε κάθε εκτέλεση του κώδικα)\n",
    "\n",
    "for i in range(10):\n",
    "    print(random.random())"
   ]
  },
  {
   "cell_type": "code",
   "execution_count": 4,
   "metadata": {},
   "outputs": [
    {
     "output_type": "stream",
     "name": "stdout",
     "text": [
      "0.9664535356921388\n0.4407325991753527\n0.007491470058587191\n0.9109759624491242\n0.939268997363764\n0.5822275730589491\n0.6715634814879851\n0.08393822683708396\n0.7664809327917963\n0.23680977536311776\n"
     ]
    }
   ],
   "source": [
    "# 10 τυχαίες τιμές στο διάστημα [0,1) ομοιόμορφη κατανομή (λήψη ίδιων τιμών σε κάθε εκτέλεση του κώδικα)\n",
    "\n",
    "seed = 1234\n",
    "random.seed(seed)\n",
    "for i in range(10):\n",
    "    print(random.random())\n",
    "\n",
    "random.seed(None) # πλέον, θα χρησιμοποιείται ως seed η τρέχουσα ώρα"
   ]
  },
  {
   "cell_type": "code",
   "execution_count": 4,
   "metadata": {},
   "outputs": [
    {
     "output_type": "stream",
     "name": "stdout",
     "text": [
      "12.008503792149511\n11.24982332413754\n11.826967145768732\n11.096785630588762\n14.550891401651565\n13.62136716341368\n11.470002938263551\n12.857879343705841\n10.531992790668163\n14.888975402430429\n"
     ]
    }
   ],
   "source": [
    "# 10 τυχαίες τιμές στο διάστημα [10,15) ομοιόμορφη κατανομή\n",
    "\n",
    "for i in range(10):\n",
    "    print(random.uniform(10,15))"
   ]
  },
  {
   "cell_type": "code",
   "execution_count": 5,
   "metadata": {},
   "outputs": [
    {
     "output_type": "stream",
     "name": "stdout",
     "text": [
      "-6.3360864263445595\n17.2934608418232\n-5.6365703023679705\n8.892065234617782\n-1.262155756618245\n-6.148342991441961\n-15.14013945561777\n-1.1886769663503287\n6.243963973801252\n-5.899268640206941\n"
     ]
    }
   ],
   "source": [
    "# 10 τυχαίες τιμές επιλεγμένες με βάση την κανονική κατανομή (μέση τιμή=0,τυπική απόκλιση=10)\n",
    "\n",
    "for i in range(10):\n",
    "    print(random.normalvariate(0, 10))"
   ]
  },
  {
   "cell_type": "code",
   "execution_count": 6,
   "metadata": {},
   "outputs": [
    {
     "output_type": "stream",
     "name": "stdout",
     "text": [
      "1\n4\n5\n2\n3\n5\n5\n3\n2\n5\n"
     ]
    }
   ],
   "source": [
    "# 10 τυχαίες διακριτές ακέραιες τιμές στο διάστημα [1,6]\n",
    "\n",
    "for i in range(10):\n",
    "    print(random.randint(1,6))"
   ]
  },
  {
   "cell_type": "code",
   "execution_count": 7,
   "metadata": {},
   "outputs": [
    {
     "output_type": "stream",
     "name": "stdout",
     "text": [
      "4\n2\n8\n8\n1\n16\n16\n2\n32\n32\n"
     ]
    }
   ],
   "source": [
    "# 10 επιλογές τυχαίων τιμών από μια λίστα\n",
    "\n",
    "a_list = [1,2,4,8,16,32]\n",
    "\n",
    "for i in range(10):\n",
    "    print(random.choice(a_list))"
   ]
  },
  {
   "cell_type": "code",
   "execution_count": 9,
   "metadata": {},
   "outputs": [
    {
     "output_type": "stream",
     "name": "stdout",
     "text": [
      "[2, 4, 32, 8, 16, 1]\n[2, 16, 32, 1, 4, 8]\n[8, 1, 4, 16, 2, 32]\n[8, 4, 2, 16, 1, 32]\n[32, 2, 1, 8, 16, 4]\n[32, 4, 2, 1, 8, 16]\n[8, 16, 2, 32, 1, 4]\n[4, 2, 32, 16, 8, 1]\n[2, 4, 1, 32, 16, 8]\n[16, 32, 1, 2, 4, 8]\n"
     ]
    }
   ],
   "source": [
    "# ανακάτεμα στοιχείων λίστας (10 φορές)\n",
    "a_list = [1,2,4,8,16,32]\n",
    "\n",
    "for i in range(0,10):\n",
    "    random.shuffle(a_list)\n",
    "    print(a_list)\n"
   ]
  },
  {
   "cell_type": "code",
   "execution_count": null,
   "metadata": {},
   "outputs": [],
   "source": []
  }
 ]
}