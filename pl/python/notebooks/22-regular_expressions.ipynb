{
 "metadata": {
  "language_info": {
   "codemirror_mode": {
    "name": "ipython",
    "version": 3
   },
   "file_extension": ".py",
   "mimetype": "text/x-python",
   "name": "python",
   "nbconvert_exporter": "python",
   "pygments_lexer": "ipython3",
   "version": "3.8.0-final"
  },
  "orig_nbformat": 2,
  "kernelspec": {
   "name": "python3",
   "display_name": "Python 3.8.0 64-bit ('versions': pyenv)",
   "metadata": {
    "interpreter": {
     "hash": "2334294e789e06453e89f7d5c3c2573679701f9bb5b76ad2158f91cca5c9244c"
    }
   }
  }
 },
 "nbformat": 4,
 "nbformat_minor": 2,
 "cells": [
  {
   "source": [
    "    Τμήμα Πληροφορικής και Τηλεπικοινωνιών - Άρτα \n",
    "    Πανεπιστήμιο Ιωαννίνων \n",
    "\n",
    "    Γκόγκος Χρήστος \n",
    "    http://chgogos.github.io/\n",
    "    Εαρινό εξάμηνο 2020-2021"
   ],
   "cell_type": "markdown",
   "metadata": {}
  },
  {
   "source": [
    "# Κανονικές εκφράσεις\n",
    "\n",
    "Ειδικοί χαρακτήρες: . ^ $ * + ? { } [ ] \\ | ( )\n",
    "\n",
    "| χαρακτήρας | περιγραφή |\n",
    "|----|--------------|\n",
    "|.  | οποιοσδήποτε χαρακτήρας |\n",
    "|\\d | οποιοδήποτε ψηφίο (0-9) |\n",
    "|\\D | οτιδήποτε δεν είναι ψηφίο (0-9) |\n",
    "|\\w | χαρακτήρας λέξης (a-z, A-Z, 0-9, _) |\n",
    "|\\W | οτιδήποτε δεν είναι χαρακτήρας λέξης (a-z, A-Z, 0-9, _) |\n",
    "|\\s | κενός χαρακτήρας (διάστημα, tab, αλλαγή γραμμής) |\n",
    "|\\S | μη κενός χαρακτήρας (διάστημα, tab, αλλαγή γραμμής) | \n",
    "\n",
    "**Οριοθέτες** \n",
    "\n",
    "| οριοθέτης | περιγραφή |\n",
    "|-----------|-------------|\n",
    "|\\b         | όριο λέξης |\n",
    "|\\B         | όχι όριο λέξης |\n",
    "|^          | αρχή λεκτικού | \n",
    "|$          | τέλος λεκτικού | \n",
    "\n",
    "\n",
    "**Σύνολο χαρακτήρων**: ορίζεται μέσα σε αγκύλες [], π.χ. το σύνολο χαρακτήρων \\[aei\\] αντιστοιχεί σε έναν από τους χαρακτήρες a,e,i\n",
    "\n",
    "**Ειδικοί χαρακτήρες για σύνολα χαρακτήρων**: - ^\n",
    "* \\[a-zA-Z\\]  αντιστοιχεί σε έναν χαρακτήρα από a μέχρι και z πεζό ή κεφαλαίο\n",
    "* \\[^a\\]bc αντιστοιχεί σε κείμενο που δεν ξεκινά με a και συνεχίζει με bc\n",
    "\n",
    "**Ποσοδείκτες**\n",
    "\n",
    "| ποσοδείκτης | περιγραφή |\n",
    "|-----------|-------------|\n",
    "|*         | 0 ή περισσότερο |\n",
    "|+         | 1 ή περισσότερο |\n",
    "|?         | 0 ή 1 |\n",
    "|{3}         | ακριβώς 3 |\n",
    "|{3,4}         | περιοχή τιμών (ελάχιστο, μέγιστο) |\n",
    "\n",
    "**Ομάδες**: ορίζονται με παρενθέσεις () και το |\n",
    "\n",
    "\n",
    "\n"
   ],
   "cell_type": "markdown",
   "metadata": {}
  },
  {
   "cell_type": "code",
   "execution_count": null,
   "metadata": {},
   "outputs": [],
   "source": [
    "#"
   ]
  },
  {
   "cell_type": "code",
   "execution_count": 2,
   "metadata": {},
   "outputs": [
    {
     "output_type": "stream",
     "name": "stdout",
     "text": [
      "['A', 'ASCII', 'DEBUG', 'DOTALL', 'I', 'IGNORECASE', 'L', 'LOCALE', 'M', 'MULTILINE', 'Match', 'Pattern', 'RegexFlag', 'S', 'Scanner', 'T', 'TEMPLATE', 'U', 'UNICODE', 'VERBOSE', 'X', '_MAXCACHE', '__all__', '__builtins__', '__cached__', '__doc__', '__file__', '__loader__', '__name__', '__package__', '__spec__', '__version__', '_cache', '_compile', '_compile_repl', '_expand', '_locale', '_pickle', '_special_chars_map', '_subx', 'compile', 'copyreg', 'enum', 'error', 'escape', 'findall', 'finditer', 'fullmatch', 'functools', 'match', 'purge', 'search', 'split', 'sre_compile', 'sre_parse', 'sub', 'subn', 'template']\n"
     ]
    }
   ],
   "source": [
    "import re\n",
    "\n",
    "print(dir(re))"
   ]
  },
  {
   "cell_type": "code",
   "execution_count": 39,
   "metadata": {},
   "outputs": [
    {
     "output_type": "stream",
     "name": "stdout",
     "text": [
      "<re.Match object; span=(7, 12), match='happy'> happy\n<re.Match object; span=(43, 48), match='happy'> happy\n<re.Match object; span=(82, 87), match='happy'> happy\n<re.Match object; span=(109, 114), match='happy'> happy\n"
     ]
    }
   ],
   "source": [
    "# finditer βρίσκει όλα τα ταιριάσματα (matches) και τις θέσεις τους\n",
    "\n",
    "text = '''I felt happy because I saw the others were happy and because I knew I should feel happy, but I wasn’t really happy.\n",
    "'''\n",
    "\n",
    "pattern = re.compile(r'happy')\n",
    "matches =  pattern.finditer(text)\n",
    "\n",
    "for match in matches:\n",
    "    print(match, match.group(0))"
   ]
  },
  {
   "cell_type": "code",
   "execution_count": 8,
   "metadata": {},
   "outputs": [
    {
     "output_type": "stream",
     "name": "stdout",
     "text": [
      "<re.Match object; span=(7, 12), match='happy'>\n<re.Match object; span=(43, 48), match='happy'>\n<re.Match object; span=(82, 87), match='happy'>\n<re.Match object; span=(111, 116), match='happy'>\n"
     ]
    }
   ],
   "source": [
    "# ταίριασμα κειμένου σε αρχείο\n",
    "\n",
    "pattern = re.compile(r'happy')\n",
    "\n",
    "with open('../../../datasets/text_for_regex_experiments.txt', 'r') as f:\n",
    "    contents = f.read()\n",
    "\n",
    "    matches = pattern.finditer(contents)\n",
    "\n",
    "    for match in matches:\n",
    "        print(match)"
   ]
  },
  {
   "cell_type": "code",
   "execution_count": 14,
   "metadata": {},
   "outputs": [
    {
     "output_type": "stream",
     "name": "stdout",
     "text": [
      "['happy', 'happy', 'happy', 'happy']\n"
     ]
    }
   ],
   "source": [
    "# findall επιστρέφει τα ταιριάσματα ως μια λίστα λεκτικών, αν περιέχει ομάδες θα επιστρέψει μόνο τις ομάδες\n",
    "\n",
    "pattern = re.compile(r'happy')\n",
    "\n",
    "with open('../../../datasets/text_for_regex_experiments.txt', 'r') as f:\n",
    "    contents = f.read()\n",
    "\n",
    "    matches = pattern.findall(contents)\n",
    "\n",
    "    print(matches)"
   ]
  },
  {
   "cell_type": "code",
   "execution_count": 19,
   "metadata": {},
   "outputs": [
    {
     "output_type": "stream",
     "name": "stdout",
     "text": [
      "<re.Match object; span=(0, 6), match='I felt'>\n"
     ]
    }
   ],
   "source": [
    "# match επιστρέφει μόνο το πρώτο ταίριασμα, εξετάζοντας μόνο την αρχή του λεκτικού\n",
    "\n",
    "pattern = re.compile(r'I felt')\n",
    "\n",
    "with open('../../../datasets/text_for_regex_experiments.txt', 'r') as f:\n",
    "    contents = f.read()\n",
    "\n",
    "    matches = pattern.match(contents)\n",
    "\n",
    "    print(matches)"
   ]
  },
  {
   "cell_type": "code",
   "execution_count": 20,
   "metadata": {},
   "outputs": [
    {
     "output_type": "stream",
     "name": "stdout",
     "text": [
      "<re.Match object; span=(7, 12), match='happy'>\n"
     ]
    }
   ],
   "source": [
    "# search επιστρέφει μόνο το πρώτο ταίριασμα \n",
    "\n",
    "pattern = re.compile(r'happy')\n",
    "\n",
    "with open('../../../datasets/text_for_regex_experiments.txt', 'r') as f:\n",
    "    contents = f.read()\n",
    "\n",
    "    matches = pattern.search(contents)\n",
    "\n",
    "    print(matches)"
   ]
  },
  {
   "cell_type": "code",
   "execution_count": 47,
   "metadata": {},
   "outputs": [
    {
     "output_type": "stream",
     "name": "stdout",
     "text": [
      "entire match: happy\nfirst group: pp\nsecond group: y\nentire match: happy\nfirst group: pp\nsecond group: y\nentire match: happy\nfirst group: pp\nsecond group: y\nentire match: happy\nfirst group: pp\nsecond group: y\n"
     ]
    }
   ],
   "source": [
    "# Χειρισμός δεδομένων από groups\n",
    "\n",
    "text = '''I felt happy because I saw the others were happy and because I knew I should feel happy, but I wasn’t really happy.\n",
    "'''\n",
    "\n",
    "pattern = re.compile(r'ha(pp)(y)') # ορίζονται 2 groups το (pp) και το (y), κάθε φορά που θα βρίσκεται ένα ταίριασμα το πρώτο group θα είναι το (pp) και το δεύτερο το (y)\n",
    "matches =  pattern.finditer(text)\n",
    "\n",
    "for match in matches:\n",
    "    print('entire match:', match.group(0)) # entire match\n",
    "    print('first group:', match.group(1)) # the first group in the match\n",
    "    print('second group:', match.group(2)) # the second group in the match \n"
   ]
  },
  {
   "source": [
    "### re.sub\n",
    "\n",
    "Σύνταξη: re.sub(pattern, repl, string, count=0, flag=0)\n",
    "\n",
    "Εντοπισμός ενός προτύπου (pattern) σε ένα λεκτικό (string) και αντικατάστασή του με ένα άλλο λεκτικό (string)"
   ],
   "cell_type": "markdown",
   "metadata": {}
  },
  {
   "cell_type": "code",
   "execution_count": null,
   "metadata": {},
   "outputs": [],
   "source": [
    "# flags\n",
    "# re.IGNORECASE  -> re.I\n",
    "# re.VERBOSE  -> re.X\n",
    "\n",
    "\n",
    "re.search(r'''\n",
    "    (\\w+)   # Ομάδα 1: ταίριασμα 1 ή περισσότερων γραμμάτων, αριθμών ή κάτω παύλες\n",
    "    \\s+     # 1 ή περισσότεροι κενοί χαρακτήρες\n",
    "    \\1      # ταίριασμα με την πρώτη ομάδα\n",
    "''', 'text to be searched', re.VERBOSE)"
   ]
  },
  {
   "cell_type": "code",
   "execution_count": 8,
   "metadata": {},
   "outputs": [
    {
     "output_type": "execute_result",
     "data": {
      "text/plain": [
       "\"User's mobile number is *******890\""
      ]
     },
     "metadata": {},
     "execution_count": 8
    }
   ],
   "source": [
    "# μπορεί να χρησιμοποιηθεί συνάρτηση στη θέση της repl παραμέτρου\n",
    "\n",
    "def keep_last_3chars(s):\n",
    "    return '*' * (len(s[0])-3) + s[0][-3:]\n",
    "\n",
    "re.sub(r'\\d+', keep_last_3chars, 'User\\'s mobile number is 1234567890')"
   ]
  },
  {
   "cell_type": "code",
   "execution_count": 9,
   "metadata": {},
   "outputs": [
    {
     "output_type": "execute_result",
     "data": {
      "text/plain": [
       "\"User's mobile number is *\""
      ]
     },
     "metadata": {},
     "execution_count": 9
    }
   ],
   "source": [
    "re.sub(r'\\d', '*', 'User\\'s mobile number is 1234567890')"
   ]
  },
  {
   "source": [
    "## Παραδείγματα regexes\n",
    "\n",
    "https://cs.lmu.edu/~ray/notes/regex/"
   ],
   "cell_type": "markdown",
   "metadata": {}
  },
  {
   "cell_type": "code",
   "execution_count": 37,
   "metadata": {},
   "outputs": [
    {
     "output_type": "stream",
     "name": "stdout",
     "text": [
      "['gray', 'grey']\n"
     ]
    }
   ],
   "source": [
    "text = 'gray grey'\n",
    "pattern = re.compile(r'gray|grey')\n",
    "print([x.group(0) for x in pattern.finditer(text)])"
   ]
  },
  {
   "cell_type": "code",
   "execution_count": 49,
   "metadata": {},
   "outputs": [
    {
     "output_type": "stream",
     "name": "stdout",
     "text": [
      "['gray', 'grey']\n"
     ]
    }
   ],
   "source": [
    "text = 'gray grey'\n",
    "pattern = re.compile(r'gr(a|e)y')\n",
    "print([x.group(0) for x in pattern.finditer(text)])\n"
   ]
  },
  {
   "cell_type": "code",
   "execution_count": 50,
   "metadata": {},
   "outputs": [
    {
     "output_type": "stream",
     "name": "stdout",
     "text": [
      "['gray', 'grey']\n"
     ]
    }
   ],
   "source": [
    "text = 'gray grey'\n",
    "pattern = re.compile(r'gr[ae]y')\n",
    "print([x.group(0) for x in pattern.finditer(text)])\n"
   ]
  },
  {
   "cell_type": "code",
   "execution_count": 51,
   "metadata": {},
   "outputs": [
    {
     "output_type": "stream",
     "name": "stdout",
     "text": [
      "['babble', 'bebble', 'bibble', 'bobble', 'bubble']\n"
     ]
    }
   ],
   "source": [
    "text = 'babble, bebble, bibble, bobble, bubble'\n",
    "pattern = re.compile(r'b[aeiou]bble')\n",
    "print([x.group(0) for x in pattern.finditer(text)])"
   ]
  },
  {
   "cell_type": "code",
   "execution_count": 52,
   "metadata": {},
   "outputs": [
    {
     "output_type": "stream",
     "name": "stdout",
     "text": [
      "['bat', 'cat', 'hat', 'mat', 'nat', 'oat', 'pat', 'Pat', 'ot']\n"
     ]
    }
   ],
   "source": [
    "text = 'bat, cat, hat, mat, nat, oat, pat, Pat, ot'\n",
    "pattern = re.compile(r'[b-chm-pP]at|ot')\n",
    "print([x.group(0) for x in pattern.finditer(text)])"
   ]
  },
  {
   "cell_type": "code",
   "execution_count": 63,
   "metadata": {},
   "outputs": [
    {
     "output_type": "stream",
     "name": "stdout",
     "text": [
      "['color', 'colour']\n"
     ]
    }
   ],
   "source": [
    "text = 'color, colour'\n",
    "pattern = re.compile(r'colou?r')\n",
    "print([x.group(0) for x in pattern.finditer(text)])"
   ]
  },
  {
   "cell_type": "code",
   "execution_count": 65,
   "metadata": {},
   "outputs": [
    {
     "output_type": "stream",
     "name": "stdout",
     "text": [
      "['ggle', 'gogle', 'google', 'gooogle', 'goooogle']\n"
     ]
    }
   ],
   "source": [
    "text = 'ggle, gogle, google, gooogle, goooogle'\n",
    "pattern = re.compile(r'go*gle')\n",
    "print([x.group(0) for x in pattern.finditer(text)])"
   ]
  },
  {
   "cell_type": "code",
   "execution_count": 67,
   "metadata": {},
   "outputs": [
    {
     "output_type": "stream",
     "name": "stdout",
     "text": [
      "['gogle', 'google', 'gooogle', 'goooogle']\n"
     ]
    }
   ],
   "source": [
    "text = 'gogle, google, gooogle, goooogle'\n",
    "pattern = re.compile(r'go+gle')\n",
    "print([x.group(0) for x in pattern.finditer(text)])"
   ]
  },
  {
   "cell_type": "code",
   "execution_count": 68,
   "metadata": {},
   "outputs": [
    {
     "output_type": "stream",
     "name": "stdout",
     "text": [
      "['google', 'googoogle', 'googoogoogle', 'googoogoogoogle']\n"
     ]
    }
   ],
   "source": [
    "text = 'google, googoogle, googoogoogle, googoogoogoogle'\n",
    "pattern = re.compile(r'g(oog)+le')\n",
    "print([x.group(0) for x in pattern.finditer(text)])\n"
   ]
  },
  {
   "cell_type": "code",
   "execution_count": 69,
   "metadata": {},
   "outputs": [
    {
     "output_type": "stream",
     "name": "stdout",
     "text": [
      "['zzz']\n"
     ]
    }
   ],
   "source": [
    "text = 'zzz'\n",
    "pattern = re.compile(r'z{3}')\n",
    "print([x.group(0) for x in pattern.finditer(text)])"
   ]
  },
  {
   "cell_type": "code",
   "execution_count": 70,
   "metadata": {},
   "outputs": [
    {
     "output_type": "stream",
     "name": "stdout",
     "text": [
      "['zzz', 'zzzz', 'zzzzz', 'zzzzzz']\n"
     ]
    }
   ],
   "source": [
    "text = 'zzz, zzzz, zzzzz, zzzzzz'\n",
    "pattern = re.compile(r'z{3,6}')\n",
    "print([x.group(0) for x in pattern.finditer(text)])"
   ]
  },
  {
   "cell_type": "code",
   "execution_count": 71,
   "metadata": {},
   "outputs": [
    {
     "output_type": "stream",
     "name": "stdout",
     "text": [
      "['zzz', 'zzzz', 'zzzzz']\n"
     ]
    }
   ],
   "source": [
    "text = 'zzz, zzzz, zzzzz'\n",
    "pattern = re.compile(r'z{3,}')\n",
    "print([x.group(0) for x in pattern.finditer(text)])"
   ]
  },
  {
   "cell_type": "code",
   "execution_count": 85,
   "metadata": {},
   "outputs": [
    {
     "output_type": "stream",
     "name": "stdout",
     "text": [
      "['Brainf**k', 'brainf**k']\n"
     ]
    }
   ],
   "source": [
    "text = 'Brainf**k, brainf**k'\n",
    "pattern = re.compile(r'[Bb]rainf\\*\\*k')\n",
    "print([x.group(0) for x in pattern.finditer(text)])"
   ]
  },
  {
   "cell_type": "code",
   "execution_count": 87,
   "metadata": {},
   "outputs": [
    {
     "output_type": "stream",
     "name": "stdout",
     "text": [
      "['0', '1', '2', '3', '4', '5', '6', '7', '8', '9']\n"
     ]
    }
   ],
   "source": [
    "text = '0,1,2,3,4,5,6,7,8,9'\n",
    "pattern = re.compile(r'\\d')\n",
    "print([x.group(0) for x in pattern.finditer(text)])"
   ]
  },
  {
   "cell_type": "code",
   "execution_count": 72,
   "metadata": {},
   "outputs": [
    {
     "output_type": "stream",
     "name": "stdout",
     "text": [
      "['']\n"
     ]
    }
   ],
   "source": [
    "text = ''\n",
    "pattern = re.compile(r'\\d')\n",
    "print([x.group(0) for x in pattern.finditer(text)])"
   ]
  },
  {
   "cell_type": "code",
   "execution_count": 4,
   "metadata": {},
   "outputs": [
    {
     "output_type": "stream",
     "name": "stdout",
     "text": [
      "['1', '17', '36']\n"
     ]
    }
   ],
   "source": [
    "# ακέραιοι αριθμοί από το 1 μέχρι και το 36\n",
    "text = '1 17 36'\n",
    "pattern = re.compile(r'\\b([1-9]|[12]\\d|3[0-6])\\b')\n",
    "print([x.group(0) for x in pattern.finditer(text)])"
   ]
  },
  {
   "cell_type": "code",
   "execution_count": 10,
   "metadata": {},
   "outputs": [
    {
     "output_type": "stream",
     "name": "stdout",
     "text": [
      "['Hello\\nworld']\n"
     ]
    }
   ],
   "source": [
    "text = '''Hello\n",
    "world'''\n",
    "pattern = re.compile(r'Hello\\nworld')\n",
    "print([x.group(0) for x in pattern.finditer(text)])"
   ]
  },
  {
   "cell_type": "code",
   "execution_count": 13,
   "metadata": {},
   "outputs": [
    {
     "output_type": "stream",
     "name": "stdout",
     "text": [
      "['abcdeyz', 'abkkkyz']\n"
     ]
    }
   ],
   "source": [
    "text = 'abcdeyz abkkkyz'\n",
    "pattern = re.compile(r'ab...yz')\n",
    "print([x.group(0) for x in pattern.finditer(text)])"
   ]
  },
  {
   "cell_type": "code",
   "execution_count": 14,
   "metadata": {},
   "outputs": [
    {
     "output_type": "stream",
     "name": "stdout",
     "text": [
      "['5', '16', '7.22', '18.23']\n"
     ]
    }
   ],
   "source": [
    "text = '5 16 7.22 18.23'\n",
    "pattern = re.compile(r'\\d+(\\.\\d\\d)?')\n",
    "print([x.group(0) for x in pattern.finditer(text)])"
   ]
  },
  {
   "cell_type": "code",
   "execution_count": 17,
   "metadata": {},
   "outputs": [
    {
     "output_type": "stream",
     "name": "stdout",
     "text": [
      "['a', 'b', 'c', '+']\n"
     ]
    }
   ],
   "source": [
    "# contains any character other than an i, asterisk, ampersand, 2, or at-sign.\n",
    "text = 'abci2+&@'\n",
    "pattern = re.compile(r'[^i*&2@]')\n",
    "print([x.group(0) for x in pattern.finditer(text)])"
   ]
  },
  {
   "cell_type": "code",
   "execution_count": 22,
   "metadata": {},
   "outputs": [
    {
     "output_type": "stream",
     "name": "stdout",
     "text": [
      "['']\n"
     ]
    }
   ],
   "source": [
    "text = ''\n",
    "pattern = re.compile(r'')\n",
    "print([x.group(0) for x in pattern.finditer(text)])"
   ]
  },
  {
   "cell_type": "code",
   "execution_count": 80,
   "metadata": {},
   "outputs": [
    {
     "output_type": "stream",
     "name": "stdout",
     "text": [
      "['']\n"
     ]
    }
   ],
   "source": [
    "text = ''\n",
    "pattern = re.compile(r'')\n",
    "print([x.group(0) for x in pattern.finditer(text)])"
   ]
  },
  {
   "cell_type": "code",
   "execution_count": 81,
   "metadata": {},
   "outputs": [
    {
     "output_type": "stream",
     "name": "stdout",
     "text": [
      "['']\n"
     ]
    }
   ],
   "source": [
    "text = ''\n",
    "pattern = re.compile(r'')\n",
    "print([x.group(0) for x in pattern.finditer(text)])"
   ]
  },
  {
   "cell_type": "code",
   "execution_count": 82,
   "metadata": {},
   "outputs": [
    {
     "output_type": "stream",
     "name": "stdout",
     "text": [
      "['']\n"
     ]
    }
   ],
   "source": [
    "text = ''\n",
    "pattern = re.compile(r'')\n",
    "print([x.group(0) for x in pattern.finditer(text)])"
   ]
  },
  {
   "cell_type": "code",
   "execution_count": 83,
   "metadata": {},
   "outputs": [
    {
     "output_type": "stream",
     "name": "stdout",
     "text": [
      "['']\n"
     ]
    }
   ],
   "source": [
    "text = ''\n",
    "pattern = re.compile(r'')\n",
    "print([x.group(0) for x in pattern.finditer(text)])"
   ]
  },
  {
   "cell_type": "code",
   "execution_count": 84,
   "metadata": {},
   "outputs": [
    {
     "output_type": "stream",
     "name": "stdout",
     "text": [
      "['']\n"
     ]
    }
   ],
   "source": [
    "text = ''\n",
    "pattern = re.compile(r'')\n",
    "print([x.group(0) for x in pattern.finditer(text)])"
   ]
  },
  {
   "cell_type": "code",
   "execution_count": null,
   "metadata": {},
   "outputs": [],
   "source": []
  }
 ]
}