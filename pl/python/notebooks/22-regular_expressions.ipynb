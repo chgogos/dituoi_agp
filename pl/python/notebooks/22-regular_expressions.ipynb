{
 "metadata": {
  "language_info": {
   "codemirror_mode": {
    "name": "ipython",
    "version": 3
   },
   "file_extension": ".py",
   "mimetype": "text/x-python",
   "name": "python",
   "nbconvert_exporter": "python",
   "pygments_lexer": "ipython3",
   "version": "3.8.0-final"
  },
  "orig_nbformat": 2,
  "kernelspec": {
   "name": "python3",
   "display_name": "Python 3.8.0 64-bit",
   "metadata": {
    "interpreter": {
     "hash": "2334294e789e06453e89f7d5c3c2573679701f9bb5b76ad2158f91cca5c9244c"
    }
   }
  }
 },
 "nbformat": 4,
 "nbformat_minor": 2,
 "cells": [
  {
   "source": [
    "    Τμήμα Πληροφορικής και Τηλεπικοινωνιών - Άρτα \n",
    "    Πανεπιστήμιο Ιωαννίνων \n",
    "\n",
    "    Γκόγκος Χρήστος \n",
    "    http://chgogos.github.io/\n",
    "    Εαρινό εξάμηνο 2020-2021"
   ],
   "cell_type": "markdown",
   "metadata": {}
  },
  {
   "source": [
    "# Κανονικές εκφράσεις\n",
    "\n",
    "Ειδικοί χαρακτήρες: . ^ $ * + ? { } [ ] \\ | ( )\n",
    "\n",
    "| χαρακτήρας | περιγραφή |\n",
    "|----|--------------|\n",
    "|.  | οποιοσδήποτε χαρακτήρας |\n",
    "|\\d | οποιοδήποτε ψηφίο (0-9) |\n",
    "|\\D | οτιδήποτε δεν είναι ψηφίο (0-9) |\n",
    "|\\w | χαρακτήρας λέξης (a-z, A-Z, 0-9, _) |\n",
    "|\\W | οτιδήποτε δεν είναι χαρακτήρας λέξης (a-z, A-Z, 0-9, _) |\n",
    "|\\s | κενός χαρακτήρας (διάστημα, tab, αλλαγή γραμμής) |\n",
    "|\\S | μη κενός χαρακτήρας (διάστημα, tab, αλλαγή γραμμής) | \n",
    "\n",
    "**Οριοθέτες** \n",
    "\n",
    "| οριοθέτης | περιγραφή |\n",
    "|-----------|-------------|\n",
    "|\\b         | όριο λέξης |\n",
    "|\\B         | όχι όριο λέξης |\n",
    "|^          | αρχή συμβολοσειράς | \n",
    "|$          | τέλος συμβολοσειράς | \n",
    "\n",
    "\n",
    "**Σύνολο χαρακτήρων**: ορίζεται μέσα σε αγκύλες [], π.χ. το σύνολο χαρακτήρων \\[aei\\] αντιστοιχεί σε έναν από τους χαρακτήρες a,e,i\n",
    "\n",
    "**Ειδικοί χαρακτήρες για σύνολα χαρακτήρων**: - ^\n",
    "* \\[a-zA-Z\\]  αντιστοιχεί σε έναν χαρακτήρα από a μέχρι και z πεζό ή κεφαλαίο\n",
    "* \\[^a\\]bc αντιστοιχεί σε κείμενο που δεν ξεκινά με a και συνεχίζει με bc\n",
    "\n",
    "**Ποσοδείκτες**\n",
    "\n",
    "| ποσοδείκτης | περιγραφή |\n",
    "|-----------|-------------|\n",
    "|*         | 0 ή περισσότερο |\n",
    "|+         | 1 ή περισσότερο |\n",
    "|?         | 0 ή 1 |\n",
    "|{3}         | ακριβώς 3 |\n",
    "|{3,4}         | περιοχή τιμών (ελάχιστο, μέγιστο) |\n",
    "|{3,}         | τουλάχιστον 3 |\n",
    "\n",
    "**Ομάδες**: ορίζονται με παρενθέσεις ()\n",
    "\n",
    "\n",
    "\n"
   ],
   "cell_type": "markdown",
   "metadata": {}
  },
  {
   "source": [
    "## Το module re\n",
    "\n",
    "Αναγνώριση προτύπων (patterns) σε κείμενο με χρήση της finditer"
   ],
   "cell_type": "markdown",
   "metadata": {}
  },
  {
   "cell_type": "code",
   "execution_count": null,
   "metadata": {},
   "outputs": [],
   "source": [
    "import re\n",
    "\n",
    "print(dir(re))"
   ]
  },
  {
   "cell_type": "code",
   "execution_count": null,
   "metadata": {},
   "outputs": [],
   "source": [
    "# Η finditer βρίσκει όλα τα ταιριάσματα (matches) και τις θέσεις τους\n",
    "# Πέρα από την finditer μπορούν να χρησιμοποιηθούν και άλλες συναρτήσεις όπως οι findall, match και search (παραδείγματα στη συνέχεια)\n",
    "\n",
    "text = '''I felt happy because I saw the others were happy and because I knew I should feel happy, but I wasn’t really happy.\n",
    "'''\n",
    "\n",
    "pattern = re.compile(r'happy|because')\n",
    "matches =  pattern.finditer(text)\n",
    "for match in matches:\n",
    "    print(match)\n",
    "\n",
    "print(\"#\" * 40)\n",
    "\n",
    "# συλλογή αποτελεσμάτων σε λίστα με comprehension (σε 1 γραμμή)\n",
    "print([x for x in re.compile(r'happy|because').finditer(text)])"
   ]
  },
  {
   "source": [
    "## Παραδείγματα ειδικών χαρακτήρων, οριοθετών, ποσοδεικτών και ομάδων σε κανονικές εκφράσεις"
   ],
   "cell_type": "markdown",
   "metadata": {}
  },
  {
   "cell_type": "code",
   "execution_count": null,
   "metadata": {},
   "outputs": [],
   "source": [
    "# Ο ειδικός χαρακτήρας | \n",
    "\n",
    "text = 'προστακτικός λογικός συναρτησιακός'\n",
    "pattern = re.compile(r'προστακτικός|λογικός|συναρτησιακός')\n",
    "print([x for x in pattern.finditer(text)])"
   ]
  },
  {
   "cell_type": "code",
   "execution_count": null,
   "metadata": {},
   "outputs": [],
   "source": [
    "# Παρενθέσεις\n",
    "\n",
    "text = 'προγραμματισμός προγραμματιστής'\n",
    "pattern = re.compile(r'προγραμματι(σμός|στής)')\n",
    "print([x for x in pattern.finditer(text)])"
   ]
  },
  {
   "cell_type": "code",
   "execution_count": null,
   "metadata": {},
   "outputs": [],
   "source": [
    "# Αλλαγή γραμμής\n",
    "\n",
    "text = '''Γλώσσες\n",
    "Προγραμματισμού'''\n",
    "pattern = re.compile(r'Γλώσσες\\nΠρογραμματισμού')\n",
    "print([x for x in pattern.finditer(text)])"
   ]
  },
  {
   "cell_type": "code",
   "execution_count": null,
   "metadata": {},
   "outputs": [],
   "source": [
    "# Σύνολα χαρακτήρων με []\n",
    "\n",
    "text = 'λογικό λογική'\n",
    "pattern = re.compile(r'λογικ[όή]')\n",
    "print([x for x in pattern.finditer(text)])\n"
   ]
  },
  {
   "cell_type": "code",
   "execution_count": null,
   "metadata": {},
   "outputs": [],
   "source": [
    "# Σύνολα χαρακτήρων με []\n",
    "\n",
    "text = 'αβηθικ αγηθικ αδηθικ αεηθικ αζηθικ'\n",
    "pattern = re.compile(r'α[βγδεζ]ηθικ') # ένας οποιοσδήποτε χαρακτήρας από τους β, γ, δ, ε ή ζ πρέπει να υπάρχει ανάμεσα στο α και στο ηθικ\n",
    "print([x.group(0) for x in pattern.finditer(text)])"
   ]
  },
  {
   "cell_type": "code",
   "execution_count": null,
   "metadata": {},
   "outputs": [],
   "source": [
    "# Σύνολα χαρακτήρων με []\n",
    "\n",
    "text = 'αβχψω αγχψω αδχψω αεχψω ακχψω αΒχψω αΓχψω αΔχψω'\n",
    "pattern = re.compile(r'α[β-εκΒ-Δ]χψω') # ένας οποιοσδήποτε χαρακτήρας από τους β μέχρι και ε, κ, Β μέχρι και Δ πρέπει να υπάρχει ανάμεσα στο α και στο χψω\n",
    "print([x for x in pattern.finditer(text)])"
   ]
  },
  {
   "cell_type": "code",
   "execution_count": null,
   "metadata": {},
   "outputs": [],
   "source": [
    "# Σύνολα χαρακτήρων με []\n",
    "\n",
    "text = 'αβω αγω αδω αεω αζω'\n",
    "pattern = re.compile(r'α[^βδ]ω') # οποιοσήποτε χαρακτήρας εκτός από τους β και δ πρέπει να υπάρχει ανάμεσα από το α και το ω\n",
    "print([x for x in pattern.finditer(text)])"
   ]
  },
  {
   "cell_type": "code",
   "execution_count": null,
   "metadata": {},
   "outputs": [],
   "source": [
    "# Ο ποσοδείκτης ?\n",
    "\n",
    "text = 'αβγδεζ, αβγδζ'\n",
    "pattern = re.compile(r'αβγδε?ζ') # ο χαρακτήρας ε μπορεί να υπάρχει ή να μην υπάρχει\n",
    "print([x for x in pattern.finditer(text)])"
   ]
  },
  {
   "cell_type": "code",
   "execution_count": null,
   "metadata": {},
   "outputs": [],
   "source": [
    "# Ο ποσοδείκτης *\n",
    "\n",
    "text = 'αγδεζ αβγδεζ αββγδεζ αβββγδεζ'\n",
    "pattern = re.compile(r'αβ*γδεζ') # ο χαρακτήρας β μπορεί να μην υπάρχει ή να υπάρχει 1 ή περισσότερες φορές\n",
    "print([x for x in pattern.finditer(text)])"
   ]
  },
  {
   "cell_type": "code",
   "execution_count": null,
   "metadata": {},
   "outputs": [],
   "source": [
    "# Ο ποσοδείκτης +\n",
    "\n",
    "text = 'αγδεζ αβγδεζ αββγδεζ αβββγδεζ'\n",
    "pattern = re.compile(r'αβ+γδεζ') # ο χαρακτήρας β μπορεί να υπάρχει 1 ή περισσότερες φορές\n",
    "print([x for x in pattern.finditer(text)])"
   ]
  },
  {
   "cell_type": "code",
   "execution_count": null,
   "metadata": {},
   "outputs": [],
   "source": [
    "# Παρενθέσεις και +\n",
    "\n",
    "text = 'αβγδεζ αβγβγδεζ αβγβγβγδεζ'\n",
    "pattern = re.compile(r'α(βγ)+δεζ') # η συμβολοσειρά βγ μπορεί να υπάρχει 1 ή περισσότερες φορές\n",
    "print([x for x in pattern.finditer(text)])"
   ]
  },
  {
   "cell_type": "code",
   "execution_count": null,
   "metadata": {},
   "outputs": [],
   "source": [
    "# Ο ποσοδείκτης {}\n",
    "\n",
    "text = 'α αα ααα αααα ααααα'\n",
    "pattern = re.compile(r'α{2}') # η συμβολοσειρά αα\n",
    "print([x for x in pattern.finditer(text)])"
   ]
  },
  {
   "cell_type": "code",
   "execution_count": null,
   "metadata": {},
   "outputs": [],
   "source": [
    "# Ο ποσοδείκτης {}\n",
    "\n",
    "text = 'α αα ααα αααα ααααα'\n",
    "pattern = re.compile(r'α{2,4}') # οι συμβολοσειρές αα ααα αααα\n",
    "print([x for x in pattern.finditer(text)])"
   ]
  },
  {
   "cell_type": "code",
   "execution_count": null,
   "metadata": {},
   "outputs": [],
   "source": [
    "# Ο ποσοδείκτης {}\n",
    "\n",
    "text = 'α αα ααα αααα ααααα'\n",
    "pattern = re.compile(r'α{2,}') # η συμβολοσειρές αα, ααα, αααα κλπ\n",
    "print([x for x in pattern.finditer(text)])"
   ]
  },
  {
   "cell_type": "code",
   "execution_count": null,
   "metadata": {},
   "outputs": [],
   "source": [
    "# Escape ειδικών χαρακτήρων με το \\\n",
    "\n",
    "text = 'C*B*L F*RTR.N'\n",
    "pattern = re.compile(r'C\\*B\\*L|F\\*RTR\\.N') # escape των ειδικών χαρακτήρων * και .\n",
    "print([x for x in pattern.finditer(text)])"
   ]
  },
  {
   "cell_type": "code",
   "execution_count": null,
   "metadata": {},
   "outputs": [],
   "source": [
    "# Ο χαρακτήρας \\d (ψηφίο)\n",
    "\n",
    "text = 'α 1 β 2 γ 3 δ 4 ... ω 24'\n",
    "pattern = re.compile(r'\\d')\n",
    "print([x for x in pattern.finditer(text)])"
   ]
  },
  {
   "cell_type": "code",
   "execution_count": null,
   "metadata": {},
   "outputs": [],
   "source": [
    "# O οριοθέτης λέξεων \\b\n",
    "\n",
    "text = 'αβγ δεζη θι κλμ'\n",
    "pattern = re.compile(r'\\b\\w{3}\\b') # αρχή λέξης, 3 χαρακτήρες, τέλος λέξης\n",
    "print([x for x in pattern.finditer(text)])"
   ]
  },
  {
   "cell_type": "code",
   "execution_count": null,
   "metadata": {},
   "outputs": [],
   "source": [
    "# O αντίστροφος οριοθέτης λέξεων \\B\n",
    "\n",
    "text = 'αβγ δεζη θι κλμ'\n",
    "pattern = re.compile(r'\\b\\w{3}\\B') # αρχή λέξης, 3 χαρακτήρες, όχι τέλος λέξης\n",
    "print([x for x in pattern.finditer(text)])"
   ]
  },
  {
   "cell_type": "code",
   "execution_count": null,
   "metadata": {},
   "outputs": [],
   "source": [
    "# Ο ειδικός χαρακτήρας .\n",
    "\n",
    "text = 'αβγδε α123ε αχψωε'\n",
    "pattern = re.compile(r'α...ε')\n",
    "print([x for x in pattern.finditer(text)])"
   ]
  },
  {
   "cell_type": "code",
   "execution_count": null,
   "metadata": {},
   "outputs": [],
   "source": [
    "# αρχή κειμένου (ο ειδικός χαρακτήρας ^)\n",
    "\n",
    "text = 'αβγδ αβγδε αβγδεζ'\n",
    "pattern = re.compile(r'^αβγ*')\n",
    "print([x for x in pattern.finditer(text)])"
   ]
  },
  {
   "cell_type": "code",
   "execution_count": null,
   "metadata": {},
   "outputs": [],
   "source": [
    "# τέλος κειμένου (ο ειδικός χαρακτήρας $)\n",
    "\n",
    "text = 'αβγδεζ αβγδεζ αβγδεζ'\n",
    "pattern = re.compile(r'δεζ$')\n",
    "print([x for x in pattern.finditer(text)])"
   ]
  },
  {
   "cell_type": "code",
   "execution_count": null,
   "metadata": {},
   "outputs": [],
   "source": [
    "# οτιδήποτε δεν είναι ψηφίο \n",
    "\n",
    "text = 'α1β2 γ3δ4 ε5ζ6 η7θ8'\n",
    "pattern = re.compile(r'\\D')\n",
    "print([x.group(0) for x in pattern.finditer(text)])"
   ]
  },
  {
   "cell_type": "code",
   "execution_count": null,
   "metadata": {},
   "outputs": [],
   "source": [
    "# οτιδήποτε είναι χαρακτήρας λέξης\n",
    "\n",
    "text = '* @ α1β2 γ3δ4 ε5ζ6 η7θ8 _'\n",
    "pattern = re.compile(r'\\w')\n",
    "print([x.group(0) for x in pattern.finditer(text)])"
   ]
  },
  {
   "cell_type": "code",
   "execution_count": null,
   "metadata": {},
   "outputs": [],
   "source": [
    "# οτιδήποτε δεν είναι χαρακτήρας λέξης\n",
    "\n",
    "text = '* @ α1β2 γ3δ4 ε5ζ6 η7θ8 _'\n",
    "pattern = re.compile(r'\\W')\n",
    "print([x.group(0) for x in pattern.finditer(text)])"
   ]
  },
  {
   "cell_type": "code",
   "execution_count": null,
   "metadata": {},
   "outputs": [],
   "source": [
    "# οτιδήποτε είναι κενό (whitespace)\n",
    "\n",
    "text = '* @ α1β2 γ3δ4 ε5ζ6 η7θ8 _  '\n",
    "pattern = re.compile(r'\\s')\n",
    "print([x.group(0) for x in pattern.finditer(text)])"
   ]
  },
  {
   "cell_type": "code",
   "execution_count": null,
   "metadata": {},
   "outputs": [],
   "source": [
    "# οτιδήποτε δεν είναι κενό (non whitespace)\n",
    "\n",
    "text = '* @ α1β2 γ3δ4 ε5ζ6 η7θ8 _  '\n",
    "pattern = re.compile(r'\\S')\n",
    "print([x.group(0) for x in pattern.finditer(text)])"
   ]
  },
  {
   "source": [
    "## Ομάδες (groups)\n",
    "Με τις ομάδες είναι δυνατόν να ληφθούν τμήματα από το κείμενο που ταιριάζει στο πρότυπο που αναζητείται. Τα τμήματα αυτά σημειώνονται με παρενθέσεις και ονομάζονται ομάδες. "
   ],
   "cell_type": "markdown",
   "metadata": {}
  },
  {
   "cell_type": "code",
   "execution_count": null,
   "metadata": {},
   "outputs": [],
   "source": [
    "# ομάδες \n",
    "# group() ή group(0) είναι όλο το ταίριασμα\n",
    "# group(1) είναι η πρώτη ομάδα\n",
    "# group(2) είναι η πρώτη ομάδα \n",
    "# κ.ο.κ.\n",
    "\n",
    "text = 'Επικοινωνήστε με τα emails: john.doe@company.com ή jane.doe@institute.org'\n",
    "pattern = re.compile(r'([\\w\\.-]+)@([\\w-]+\\.(\\w{2,3}))')\n",
    "for match in pattern.finditer(text):\n",
    "    print(f'match={match.group()} group1={match.group(1)} group2={match.group(2)} group3={match.group(3)}')"
   ]
  },
  {
   "cell_type": "code",
   "execution_count": null,
   "metadata": {},
   "outputs": [],
   "source": [
    "# αναφορές σε ομάδες\n",
    "\n",
    "text = 'αα-αα β-β αβ-αβ αβ-βα'\n",
    "pattern = re.compile(r'(\\w{2})-\\1') # το \\1 αναφέρεται στην πρώτη ομάδα\n",
    "print([x.group(0) for x in pattern.finditer(text)])"
   ]
  },
  {
   "source": [
    "## Regexes που χρησιμοποιούνται συχνά"
   ],
   "cell_type": "markdown",
   "metadata": {}
  },
  {
   "cell_type": "code",
   "execution_count": null,
   "metadata": {},
   "outputs": [],
   "source": [
    "# Ακέραιοι αριθμοί σε συγκεκριμένο εύρος (π.χ. ακέραιοι από το 1 μέχρι το 42)\n",
    "\n",
    "text = '1 18 35 42 56'\n",
    "pattern = re.compile(r'\\b([1-9]|[123]\\d|4[0-2])\\b') \n",
    "print([x for x in pattern.finditer(text)])"
   ]
  },
  {
   "cell_type": "code",
   "execution_count": null,
   "metadata": {},
   "outputs": [],
   "source": [
    "# Πραγματικοί αριθμοί\n",
    "text = '3.1415'\n",
    "pattern = re.compile(r'^[+-]?([0-9]*[.])?[0-9]+$') \n",
    "print([x for x in pattern.finditer(text)])"
   ]
  },
  {
   "cell_type": "code",
   "execution_count": null,
   "metadata": {},
   "outputs": [],
   "source": [
    "# Διευθύνσεις email (δείτε και το http://www.ex-parrot.com/~pdw/Mail-RFC822-Address.html)\n",
    "\n",
    "text = \"john@company.com\"\n",
    "pattern = re.compile(r'^([\\w\\.-]+)@([\\w-]+\\.(\\w{2,3}))$')\n",
    "print([x for x in pattern.finditer(text)])"
   ]
  },
  {
   "cell_type": "code",
   "execution_count": null,
   "metadata": {},
   "outputs": [],
   "source": [
    "# URLs"
   ]
  },
  {
   "cell_type": "code",
   "execution_count": null,
   "metadata": {},
   "outputs": [],
   "source": [
    "# Τηλεφωνικοί αριθμοί \n",
    "\n",
    "text = \"2681012345\"\n",
    "pattern = re.compile(r'^\\d{10}$')\n",
    "print([x for x in pattern.finditer(text)])"
   ]
  },
  {
   "cell_type": "code",
   "execution_count": null,
   "metadata": {},
   "outputs": [],
   "source": [
    "# IP διευθύνσεις"
   ]
  },
  {
   "cell_type": "code",
   "execution_count": null,
   "metadata": {},
   "outputs": [],
   "source": [
    "# Ταχυδρομικοί κώδικες"
   ]
  },
  {
   "cell_type": "code",
   "execution_count": null,
   "metadata": {},
   "outputs": [],
   "source": [
    "# Αριθμοί φορολογικού μητρώου"
   ]
  },
  {
   "source": [
    "## Άνοιγμα αρχείου και αναζήτηση προτύπων σε αυτό με regex"
   ],
   "cell_type": "markdown",
   "metadata": {}
  },
  {
   "cell_type": "code",
   "execution_count": null,
   "metadata": {},
   "outputs": [],
   "source": [
    "# ταίριασμα κειμένου σε αρχείο\n",
    "\n",
    "pattern = re.compile(r'happy')\n",
    "\n",
    "# άνοιγμα αρχείου με context manager\n",
    "with open('../../../datasets/text_for_regex_experiments.txt', 'r') as f:\n",
    "    contents = f.read()\n",
    "\n",
    "    matches = pattern.finditer(contents)\n",
    "\n",
    "    for match in matches:\n",
    "        print(match)"
   ]
  },
  {
   "source": [
    "## Άλλες συναρτήσεις εντοπισμού regexes\n",
    "\n",
    "Εκτός από τη finditer υπάρχουν και άλλες συναρτήσεις εντοπισμού προτύπων όπως οι findall, match και search"
   ],
   "cell_type": "markdown",
   "metadata": {}
  },
  {
   "cell_type": "code",
   "execution_count": null,
   "metadata": {},
   "outputs": [],
   "source": [
    "# Η findall επιστρέφει τα ταιριάσματα ως μια λίστα λεκτικών, αν το πρότυπο περιέχει ομάδες θα επιστρέψει μόνο τις ομάδες\n",
    "\n",
    "pattern = re.compile(r'happy')\n",
    "\n",
    "with open('../../../datasets/text_for_regex_experiments.txt', 'r') as f:\n",
    "    contents = f.read()\n",
    "    matches = pattern.findall(contents)\n",
    "    print(matches)\n",
    "\n",
    "print('*'*40)\n",
    "\n",
    "pattern = re.compile(r'ha(pp)y')\n",
    "with open('../../../datasets/text_for_regex_experiments.txt', 'r') as f:\n",
    "    contents = f.read()\n",
    "    matches = pattern.findall(contents)\n",
    "    print(matches)"
   ]
  },
  {
   "cell_type": "code",
   "execution_count": null,
   "metadata": {},
   "outputs": [],
   "source": [
    "# H match επιστρέφει μόνο το πρώτο ταίριασμα, εξετάζοντας μόνο την αρχή του λεκτικού\n",
    "\n",
    "pattern = re.compile(r'I felt')\n",
    "\n",
    "with open('../../../datasets/text_for_regex_experiments.txt', 'r') as f:\n",
    "    contents = f.read()\n",
    "    matches = pattern.match(contents)\n",
    "    print(matches)"
   ]
  },
  {
   "cell_type": "code",
   "execution_count": null,
   "metadata": {},
   "outputs": [],
   "source": [
    "# Η search επιστρέφει μόνο το πρώτο ταίριασμα \n",
    "\n",
    "pattern = re.compile(r'happy')\n",
    "\n",
    "with open('../../../datasets/text_for_regex_experiments.txt', 'r') as f:\n",
    "    contents = f.read()\n",
    "    matches = pattern.search(contents)\n",
    "    print(matches)"
   ]
  },
  {
   "source": [
    "## Flags και regex με σχόλια\n",
    "\n",
    "* re.IGNORECASE  -> re.I\n",
    "* re.VERBOSE  -> re.X ()"
   ],
   "cell_type": "markdown",
   "metadata": {}
  },
  {
   "cell_type": "code",
   "execution_count": null,
   "metadata": {},
   "outputs": [],
   "source": [
    "# flags\n",
    "\n",
    "pattern = r'''\n",
    "    (\\w+)   # Ομάδα 1: ταίριασμα 1 ή περισσότερων γραμμάτων, αριθμών ή κάτω παύλες\n",
    "    \\s+     # 1 ή περισσότεροι κενοί χαρακτήρες\n",
    "    \\1      # ταίριασμα με την πρώτη ομάδα\n",
    "''' \n",
    "print(re.search(pattern, 'x_z  X_Z', re.VERBOSE | re.IGNORECASE))"
   ]
  },
  {
   "source": [
    "## Αντικατάσταση προτύπων regex σε κείμενο με την re.sub\n",
    "\n",
    "Σύνταξη: re.sub(pattern, repl, string, count=0, flag=0)\n",
    "\n",
    "Εντοπισμός ενός προτύπου (pattern) σε ένα λεκτικό (string) και αντικατάστασή του με ένα άλλο λεκτικό (string)"
   ],
   "cell_type": "markdown",
   "metadata": {}
  },
  {
   "cell_type": "code",
   "execution_count": null,
   "metadata": {},
   "outputs": [],
   "source": [
    "# sub\n",
    "\n",
    "text = '''I felt happy because I saw the others were happy and because I knew I should feel happy, but I wasn’t really happy.\n",
    "'''\n",
    "\n",
    "new_text = re.sub(r'happy|because', '<missing word>', text)\n",
    "print(new_text)"
   ]
  },
  {
   "cell_type": "code",
   "execution_count": null,
   "metadata": {},
   "outputs": [],
   "source": [
    "# αντικατάσταση όλων των ψηφίων με *\n",
    "\n",
    "new_text = re.sub(r'\\d', '*', 'Ο αριθμός τηλεφώνου του χρήστη είναι 1234567890')\n",
    "print(new_text)"
   ]
  },
  {
   "cell_type": "code",
   "execution_count": null,
   "metadata": {},
   "outputs": [],
   "source": [
    "# μπορεί να χρησιμοποιηθεί συνάρτηση στη θέση της repl παραμέτρου, έτσι ώστε να επιτευχθεί εξυπνότερη συμπεριφορά (π.χ. διατήρηση εμφάνισης των 3 τελευταίων ψηφίων του αριθμού)\n",
    "\n",
    "def keep_last_3(s):\n",
    "    return '*' * (len(s[0])-3) + s[0][-3:]\n",
    "\n",
    "new_text = re.sub(r'\\d+', keep_last_3, 'Ο αριθμός τηλεφώνου του χρήστη είναι 1234567890')\n",
    "print(new_text)"
   ]
  },
  {
   "source": [
    "## Διάσπαση λεκτικών με την re.split\n",
    "\n",
    "Η re.split επιστρέφει μια λίστα που προκύπτει από τη διάσπαση του λεκτικού στα σημεία που γίνεται match"
   ],
   "cell_type": "markdown",
   "metadata": {}
  },
  {
   "cell_type": "code",
   "execution_count": null,
   "metadata": {},
   "outputs": [],
   "source": [
    "# split\n",
    "\n",
    "text = '''I felt happy because I saw the others were happy and because I knew I should feel happy, but I wasn’t really happy.\n",
    "'''\n",
    "\n",
    "a_list = re.split(r'happy', text)\n",
    "\n",
    "print(a_list)"
   ]
  },
  {
   "source": [
    "## Greedy και non-greedy ταιριάσματα\n",
    "\n",
    "    *  --> greedy\n",
    "    *? --> non  greedy"
   ],
   "cell_type": "markdown",
   "metadata": {}
  },
  {
   "cell_type": "code",
   "execution_count": null,
   "metadata": {},
   "outputs": [],
   "source": [
    "text = 'αβγδεζηθικαλμνξοπρστυφχψωα'\n",
    "match = re.search(r'α.*α', text) # greedy match\n",
    "print(match)\n",
    "match = re.search(r'α.*?α', text) # non-greedy match\n",
    "print(match)"
   ]
  },
  {
   "cell_type": "code",
   "execution_count": null,
   "metadata": {},
   "outputs": [],
   "source": []
  }
 ]
}