{
 "cells": [
  {
   "cell_type": "markdown",
   "metadata": {},
   "source": [
    "    Τμήμα Πληροφορικής και Τηλεπικοινωνιών - Άρτα \n",
    "    Πανεπιστήμιο Ιωαννίνων \n",
    "\n",
    "    Γκόγκος Χρήστος \n",
    "    http://chgogos.github.io/\n",
    "    \n",
    "    Τελευταία ενημέρωση: 16/3/2022"
   ]
  },
  {
   "cell_type": "markdown",
   "metadata": {},
   "source": [
    "# Κανονικές εκφράσεις\n",
    "\n",
    "Μια κανονική έκφραση είναι μια ακολουθία χαρακτήρων που ορίζει ένα μοτίβο αναζήτησης (search pattern) για ένα κείμενο. Για τη σύνταξη μοτίβων αναζήτησης μπορούν να χρησιμοποιηθούν τα ακόλουθα:\n",
    "\n",
    "Ειδικοί χαρακτήρες: . ^ $ * + ? { } [ ] \\ | ( )\n",
    "\n",
    "| χαρακτήρας | περιγραφή |\n",
    "|----|--------------|\n",
    "|.  | οποιοσδήποτε χαρακτήρας |\n",
    "|\\d | οποιοδήποτε ψηφίο (0-9) |\n",
    "|\\D | οτιδήποτε δεν είναι ψηφίο (0-9) |\n",
    "|\\w | χαρακτήρας λέξης (a-z, A-Z, 0-9, _) |\n",
    "|\\W | οτιδήποτε δεν είναι χαρακτήρας λέξης (a-z, A-Z, 0-9, _) |\n",
    "|\\s | κενός χαρακτήρας (διάστημα, tab, αλλαγή γραμμής) |\n",
    "|\\S | μη κενός χαρακτήρας (διάστημα, tab, αλλαγή γραμμής) | \n",
    "\n",
    "**Οριοθέτες** \n",
    "\n",
    "| οριοθέτης | περιγραφή |\n",
    "|-----------|-------------|\n",
    "|\\b         | όριο λέξης |\n",
    "|\\B         | όχι όριο λέξης |\n",
    "|^          | αρχή συμβολοσειράς | \n",
    "|$          | τέλος συμβολοσειράς | \n",
    "\n",
    "\n",
    "**Σύνολο χαρακτήρων**: ορίζεται μέσα σε αγκύλες [], π.χ. το σύνολο χαρακτήρων \\[aei\\] αντιστοιχεί σε έναν από τους χαρακτήρες a,e,i\n",
    "\n",
    "**Ειδικοί χαρακτήρες για σύνολα χαρακτήρων**: - ^\n",
    "* \\[a-zA-Z\\]  αντιστοιχεί σε έναν χαρακτήρα από a μέχρι και z πεζό ή κεφαλαίο\n",
    "* \\[^a\\]bc αντιστοιχεί σε κείμενο που δεν ξεκινά με a και συνεχίζει με bc\n",
    "\n",
    "**Ποσοδείκτες**\n",
    "\n",
    "| ποσοδείκτης | περιγραφή |\n",
    "|-----------|-------------|\n",
    "|*         | 0 ή περισσότερο |\n",
    "|+         | 1 ή περισσότερο |\n",
    "|?         | 0 ή 1 |\n",
    "|{3}         | ακριβώς 3 |\n",
    "|{3,4}         | περιοχή τιμών (ελάχιστο, μέγιστο) |\n",
    "|{3,}         | τουλάχιστον 3 |\n",
    "\n",
    "**Ομάδες**: ορίζονται με παρενθέσεις ()\n",
    "\n",
    "\n",
    "\n"
   ]
  },
  {
   "cell_type": "markdown",
   "metadata": {},
   "source": [
    "## Το module re\n",
    "\n",
    "Αναγνώριση προτύπων (patterns) σε κείμενο με χρήση της finditer"
   ]
  },
  {
   "cell_type": "code",
   "execution_count": 1,
   "metadata": {},
   "outputs": [
    {
     "name": "stdout",
     "output_type": "stream",
     "text": [
      "['A', 'ASCII', 'DEBUG', 'DOTALL', 'I', 'IGNORECASE', 'L', 'LOCALE', 'M', 'MULTILINE', 'Match', 'Pattern', 'RegexFlag', 'S', 'Scanner', 'T', 'TEMPLATE', 'U', 'UNICODE', 'VERBOSE', 'X', '_MAXCACHE', '__all__', '__builtins__', '__cached__', '__doc__', '__file__', '__loader__', '__name__', '__package__', '__spec__', '__version__', '_cache', '_compile', '_compile_repl', '_expand', '_locale', '_pickle', '_special_chars_map', '_subx', 'compile', 'copyreg', 'enum', 'error', 'escape', 'findall', 'finditer', 'fullmatch', 'functools', 'match', 'purge', 'search', 'split', 'sre_compile', 'sre_parse', 'sub', 'subn', 'template']\n"
     ]
    }
   ],
   "source": [
    "import re\n",
    "\n",
    "print(dir(re))"
   ]
  },
  {
   "cell_type": "code",
   "execution_count": 2,
   "metadata": {},
   "outputs": [
    {
     "name": "stdout",
     "output_type": "stream",
     "text": [
      "<re.Match object; span=(7, 12), match='happy'>\n",
      "<re.Match object; span=(13, 20), match='because'>\n",
      "<re.Match object; span=(43, 48), match='happy'>\n",
      "<re.Match object; span=(53, 60), match='because'>\n",
      "<re.Match object; span=(82, 87), match='happy'>\n",
      "<re.Match object; span=(109, 114), match='happy'>\n",
      "########################################\n",
      "[<re.Match object; span=(7, 12), match='happy'>, <re.Match object; span=(13, 20), match='because'>, <re.Match object; span=(43, 48), match='happy'>, <re.Match object; span=(53, 60), match='because'>, <re.Match object; span=(82, 87), match='happy'>, <re.Match object; span=(109, 114), match='happy'>]\n"
     ]
    }
   ],
   "source": [
    "# Η finditer βρίσκει όλα τα ταιριάσματα (matches) και τις θέσεις τους\n",
    "# Πέρα από την finditer μπορούν να χρησιμοποιηθούν και άλλες συναρτήσεις όπως οι findall, match και search (παραδείγματα στη συνέχεια)\n",
    "\n",
    "text = '''I felt happy because I saw the others were happy and because I knew I should feel happy, but I wasn’t really happy.\n",
    "'''\n",
    "\n",
    "pattern = re.compile(r'happy|because')\n",
    "matches =  pattern.finditer(text)\n",
    "for match in matches:\n",
    "    print(match)\n",
    "\n",
    "print(\"#\" * 40)\n",
    "\n",
    "# συλλογή αποτελεσμάτων σε λίστα με comprehension (σε 1 γραμμή)\n",
    "print([x for x in re.compile(r'happy|because').finditer(text)])"
   ]
  },
  {
   "cell_type": "markdown",
   "metadata": {},
   "source": [
    "## Παραδείγματα ειδικών χαρακτήρων, οριοθετών, ποσοδεικτών και ομάδων σε κανονικές εκφράσεις"
   ]
  },
  {
   "cell_type": "code",
   "execution_count": 3,
   "metadata": {},
   "outputs": [
    {
     "name": "stdout",
     "output_type": "stream",
     "text": [
      "[<re.Match object; span=(0, 12), match='προστακτικός'>, <re.Match object; span=(13, 20), match='λογικός'>, <re.Match object; span=(21, 34), match='συναρτησιακός'>]\n"
     ]
    }
   ],
   "source": [
    "# Ο ειδικός χαρακτήρας | \n",
    "\n",
    "text = 'προστακτικός λογικός συναρτησιακός'\n",
    "pattern = re.compile(r'προστακτικός|λογικός|συναρτησιακός')\n",
    "print([x for x in pattern.finditer(text)])"
   ]
  },
  {
   "cell_type": "code",
   "execution_count": 4,
   "metadata": {},
   "outputs": [
    {
     "name": "stdout",
     "output_type": "stream",
     "text": [
      "[<re.Match object; span=(0, 15), match='προγραμματισμός'>, <re.Match object; span=(16, 31), match='προγραμματιστής'>]\n"
     ]
    }
   ],
   "source": [
    "# Παρενθέσεις\n",
    "\n",
    "text = 'προγραμματισμός προγραμματιστής'\n",
    "pattern = re.compile(r'προγραμματι(σμός|στής)')\n",
    "print([x for x in pattern.finditer(text)])"
   ]
  },
  {
   "cell_type": "code",
   "execution_count": 5,
   "metadata": {},
   "outputs": [
    {
     "name": "stdout",
     "output_type": "stream",
     "text": [
      "[<re.Match object; span=(0, 23), match='Γλώσσες\\nΠρογραμματισμού'>]\n"
     ]
    }
   ],
   "source": [
    "# Αλλαγή γραμμής\n",
    "\n",
    "text = '''Γλώσσες\n",
    "Προγραμματισμού'''\n",
    "pattern = re.compile(r'Γλώσσες\\nΠρογραμματισμού')\n",
    "print([x for x in pattern.finditer(text)])"
   ]
  },
  {
   "cell_type": "code",
   "execution_count": 6,
   "metadata": {},
   "outputs": [
    {
     "name": "stdout",
     "output_type": "stream",
     "text": [
      "[<re.Match object; span=(0, 6), match='λογικό'>, <re.Match object; span=(7, 13), match='λογική'>]\n"
     ]
    }
   ],
   "source": [
    "# Σύνολα χαρακτήρων με []\n",
    "\n",
    "text = 'λογικό λογική'\n",
    "pattern = re.compile(r'λογικ[όή]')\n",
    "print([x for x in pattern.finditer(text)])\n"
   ]
  },
  {
   "cell_type": "code",
   "execution_count": 7,
   "metadata": {},
   "outputs": [
    {
     "name": "stdout",
     "output_type": "stream",
     "text": [
      "['αβηθικ', 'αγηθικ', 'αδηθικ', 'αεηθικ', 'αζηθικ']\n"
     ]
    }
   ],
   "source": [
    "# Σύνολα χαρακτήρων με []\n",
    "\n",
    "text = 'αβηθικ αγηθικ αδηθικ αεηθικ αζηθικ'\n",
    "pattern = re.compile(r'α[βγδεζ]ηθικ') # ένας οποιοσδήποτε χαρακτήρας από τους β, γ, δ, ε ή ζ πρέπει να υπάρχει ανάμεσα στο α και στο ηθικ\n",
    "print([x.group(0) for x in pattern.finditer(text)])"
   ]
  },
  {
   "cell_type": "code",
   "execution_count": 8,
   "metadata": {},
   "outputs": [
    {
     "name": "stdout",
     "output_type": "stream",
     "text": [
      "[<re.Match object; span=(0, 5), match='αβχψω'>, <re.Match object; span=(6, 11), match='αγχψω'>, <re.Match object; span=(12, 17), match='αδχψω'>, <re.Match object; span=(18, 23), match='αεχψω'>, <re.Match object; span=(24, 29), match='ακχψω'>, <re.Match object; span=(30, 35), match='αΒχψω'>, <re.Match object; span=(36, 41), match='αΓχψω'>, <re.Match object; span=(42, 47), match='αΔχψω'>]\n"
     ]
    }
   ],
   "source": [
    "# Σύνολα χαρακτήρων με []\n",
    "\n",
    "text = 'αβχψω αγχψω αδχψω αεχψω ακχψω αΒχψω αΓχψω αΔχψω'\n",
    "pattern = re.compile(r'α[β-εκΒ-Δ]χψω') # ένας οποιοσδήποτε χαρακτήρας από τους β μέχρι και ε, κ, Β μέχρι και Δ πρέπει να υπάρχει ανάμεσα στο α και στο χψω\n",
    "print([x for x in pattern.finditer(text)])"
   ]
  },
  {
   "cell_type": "code",
   "execution_count": 9,
   "metadata": {},
   "outputs": [
    {
     "name": "stdout",
     "output_type": "stream",
     "text": [
      "[<re.Match object; span=(4, 7), match='αγω'>, <re.Match object; span=(12, 15), match='αεω'>, <re.Match object; span=(16, 19), match='αζω'>]\n"
     ]
    }
   ],
   "source": [
    "# Σύνολα χαρακτήρων με []\n",
    "\n",
    "text = 'αβω αγω αδω αεω αζω'\n",
    "pattern = re.compile(r'α[^βδ]ω') # οποιοσδήποτε χαρακτήρας εκτός από τους β και δ πρέπει να υπάρχει ανάμεσα από το α και το ω\n",
    "print([x for x in pattern.finditer(text)])"
   ]
  },
  {
   "cell_type": "code",
   "execution_count": 10,
   "metadata": {},
   "outputs": [
    {
     "name": "stdout",
     "output_type": "stream",
     "text": [
      "[<re.Match object; span=(0, 6), match='αβγδεζ'>, <re.Match object; span=(8, 13), match='αβγδζ'>]\n"
     ]
    }
   ],
   "source": [
    "# Ο ποσοδείκτης ?\n",
    "\n",
    "text = 'αβγδεζ, αβγδζ'\n",
    "pattern = re.compile(r'αβγδε?ζ') # ο χαρακτήρας ε μπορεί να υπάρχει ή να μην υπάρχει\n",
    "print([x for x in pattern.finditer(text)])"
   ]
  },
  {
   "cell_type": "code",
   "execution_count": 11,
   "metadata": {},
   "outputs": [
    {
     "name": "stdout",
     "output_type": "stream",
     "text": [
      "[<re.Match object; span=(0, 5), match='αγδεζ'>, <re.Match object; span=(6, 12), match='αβγδεζ'>, <re.Match object; span=(13, 20), match='αββγδεζ'>, <re.Match object; span=(21, 29), match='αβββγδεζ'>]\n"
     ]
    }
   ],
   "source": [
    "# Ο ποσοδείκτης *\n",
    "\n",
    "text = 'αγδεζ αβγδεζ αββγδεζ αβββγδεζ'\n",
    "pattern = re.compile(r'αβ*γδεζ') # ο χαρακτήρας β μπορεί να μην υπάρχει ή να υπάρχει 1 ή περισσότερες φορές\n",
    "print([x for x in pattern.finditer(text)])"
   ]
  },
  {
   "cell_type": "code",
   "execution_count": 12,
   "metadata": {},
   "outputs": [
    {
     "name": "stdout",
     "output_type": "stream",
     "text": [
      "[<re.Match object; span=(6, 12), match='αβγδεζ'>, <re.Match object; span=(13, 20), match='αββγδεζ'>, <re.Match object; span=(21, 29), match='αβββγδεζ'>]\n"
     ]
    }
   ],
   "source": [
    "# Ο ποσοδείκτης +\n",
    "\n",
    "text = 'αγδεζ αβγδεζ αββγδεζ αβββγδεζ'\n",
    "pattern = re.compile(r'αβ+γδεζ') # ο χαρακτήρας β μπορεί να υπάρχει 1 ή περισσότερες φορές\n",
    "print([x for x in pattern.finditer(text)])"
   ]
  },
  {
   "cell_type": "code",
   "execution_count": 13,
   "metadata": {},
   "outputs": [
    {
     "name": "stdout",
     "output_type": "stream",
     "text": [
      "[<re.Match object; span=(0, 6), match='αβγδεζ'>, <re.Match object; span=(7, 15), match='αβγβγδεζ'>, <re.Match object; span=(16, 26), match='αβγβγβγδεζ'>]\n"
     ]
    }
   ],
   "source": [
    "# Παρενθέσεις και +\n",
    "\n",
    "text = 'αβγδεζ αβγβγδεζ αβγβγβγδεζ'\n",
    "pattern = re.compile(r'α(βγ)+δεζ') # η συμβολοσειρά βγ μπορεί να υπάρχει 1 ή περισσότερες φορές\n",
    "print([x for x in pattern.finditer(text)])"
   ]
  },
  {
   "cell_type": "code",
   "execution_count": 14,
   "metadata": {},
   "outputs": [
    {
     "name": "stdout",
     "output_type": "stream",
     "text": [
      "[<re.Match object; span=(2, 4), match='αα'>, <re.Match object; span=(5, 7), match='αα'>, <re.Match object; span=(9, 11), match='αα'>, <re.Match object; span=(11, 13), match='αα'>, <re.Match object; span=(14, 16), match='αα'>, <re.Match object; span=(16, 18), match='αα'>]\n"
     ]
    }
   ],
   "source": [
    "# Ο ποσοδείκτης {}\n",
    "\n",
    "text = 'α αα ααα αααα ααααα'\n",
    "pattern = re.compile(r'α{2}') # η συμβολοσειρά αα\n",
    "print([x for x in pattern.finditer(text)])"
   ]
  },
  {
   "cell_type": "code",
   "execution_count": 15,
   "metadata": {},
   "outputs": [
    {
     "name": "stdout",
     "output_type": "stream",
     "text": [
      "[<re.Match object; span=(2, 4), match='αα'>, <re.Match object; span=(5, 8), match='ααα'>, <re.Match object; span=(9, 13), match='αααα'>, <re.Match object; span=(14, 18), match='αααα'>]\n"
     ]
    }
   ],
   "source": [
    "# Ο ποσοδείκτης {}\n",
    "\n",
    "text = 'α αα ααα αααα ααααα'\n",
    "pattern = re.compile(r'α{2,4}') # οι συμβολοσειρές αα ααα αααα\n",
    "print([x for x in pattern.finditer(text)])"
   ]
  },
  {
   "cell_type": "code",
   "execution_count": 16,
   "metadata": {},
   "outputs": [
    {
     "name": "stdout",
     "output_type": "stream",
     "text": [
      "[<re.Match object; span=(2, 4), match='αα'>, <re.Match object; span=(5, 8), match='ααα'>, <re.Match object; span=(9, 13), match='αααα'>, <re.Match object; span=(14, 19), match='ααααα'>]\n"
     ]
    }
   ],
   "source": [
    "# Ο ποσοδείκτης {}\n",
    "\n",
    "text = 'α αα ααα αααα ααααα'\n",
    "pattern = re.compile(r'α{2,}') # η συμβολοσειρές αα, ααα, αααα κλπ\n",
    "print([x for x in pattern.finditer(text)])"
   ]
  },
  {
   "cell_type": "code",
   "execution_count": 17,
   "metadata": {},
   "outputs": [
    {
     "name": "stdout",
     "output_type": "stream",
     "text": [
      "[<re.Match object; span=(0, 5), match='C*B*L'>, <re.Match object; span=(6, 13), match='F*RTR.N'>]\n"
     ]
    }
   ],
   "source": [
    "# Escape ειδικών χαρακτήρων με το \\\n",
    "\n",
    "text = 'C*B*L F*RTR.N'\n",
    "pattern = re.compile(r'C\\*B\\*L|F\\*RTR\\.N') # escape των ειδικών χαρακτήρων * και .\n",
    "print([x for x in pattern.finditer(text)])"
   ]
  },
  {
   "cell_type": "code",
   "execution_count": 18,
   "metadata": {},
   "outputs": [
    {
     "name": "stdout",
     "output_type": "stream",
     "text": [
      "[<re.Match object; span=(2, 3), match='1'>, <re.Match object; span=(6, 7), match='2'>, <re.Match object; span=(10, 11), match='3'>, <re.Match object; span=(14, 15), match='4'>, <re.Match object; span=(22, 23), match='2'>, <re.Match object; span=(23, 24), match='4'>]\n"
     ]
    }
   ],
   "source": [
    "# Ο χαρακτήρας \\d (ψηφίο)\n",
    "\n",
    "text = 'α 1 β 2 γ 3 δ 4 ... ω 24'\n",
    "pattern = re.compile(r'\\d')\n",
    "print([x for x in pattern.finditer(text)])"
   ]
  },
  {
   "cell_type": "code",
   "execution_count": 19,
   "metadata": {},
   "outputs": [
    {
     "name": "stdout",
     "output_type": "stream",
     "text": [
      "[<re.Match object; span=(0, 3), match='αβγ'>, <re.Match object; span=(12, 15), match='κλμ'>]\n"
     ]
    }
   ],
   "source": [
    "# O οριοθέτης λέξεων \\b\n",
    "\n",
    "text = 'αβγ δεζη θι κλμ'\n",
    "pattern = re.compile(r'\\b\\w{3}\\b') # αρχή λέξης, 3 χαρακτήρες, τέλος λέξης\n",
    "print([x for x in pattern.finditer(text)])"
   ]
  },
  {
   "cell_type": "code",
   "execution_count": 20,
   "metadata": {},
   "outputs": [
    {
     "name": "stdout",
     "output_type": "stream",
     "text": [
      "[<re.Match object; span=(4, 7), match='δεζ'>]\n"
     ]
    }
   ],
   "source": [
    "# O αντίστροφος οριοθέτης λέξεων \\B\n",
    "\n",
    "text = 'αβγ δεζη θι κλμ'\n",
    "pattern = re.compile(r'\\b\\w{3}\\B') # αρχή λέξης, 3 χαρακτήρες, όχι τέλος λέξης\n",
    "print([x for x in pattern.finditer(text)])"
   ]
  },
  {
   "cell_type": "code",
   "execution_count": 21,
   "metadata": {},
   "outputs": [
    {
     "name": "stdout",
     "output_type": "stream",
     "text": [
      "[<re.Match object; span=(0, 5), match='αβγδε'>, <re.Match object; span=(6, 11), match='α123ε'>, <re.Match object; span=(12, 17), match='αχψωε'>]\n"
     ]
    }
   ],
   "source": [
    "# Ο ειδικός χαρακτήρας .\n",
    "\n",
    "text = 'αβγδε α123ε αχψωε'\n",
    "pattern = re.compile(r'α...ε')\n",
    "print([x for x in pattern.finditer(text)])"
   ]
  },
  {
   "cell_type": "code",
   "execution_count": 22,
   "metadata": {},
   "outputs": [
    {
     "name": "stdout",
     "output_type": "stream",
     "text": [
      "[<re.Match object; span=(0, 3), match='αβγ'>]\n"
     ]
    }
   ],
   "source": [
    "# αρχή κειμένου (ο ειδικός χαρακτήρας ^)\n",
    "\n",
    "text = 'αβγδ αβγδε αβγδεζ'\n",
    "pattern = re.compile(r'^αβγ*')\n",
    "print([x for x in pattern.finditer(text)])"
   ]
  },
  {
   "cell_type": "code",
   "execution_count": 23,
   "metadata": {},
   "outputs": [
    {
     "name": "stdout",
     "output_type": "stream",
     "text": [
      "[<re.Match object; span=(17, 20), match='δεζ'>]\n"
     ]
    }
   ],
   "source": [
    "# τέλος κειμένου (ο ειδικός χαρακτήρας $)\n",
    "\n",
    "text = 'αβγδεζ αβγδεζ αβγδεζ'\n",
    "pattern = re.compile(r'δεζ$')\n",
    "print([x for x in pattern.finditer(text)])"
   ]
  },
  {
   "cell_type": "code",
   "execution_count": 24,
   "metadata": {},
   "outputs": [
    {
     "name": "stdout",
     "output_type": "stream",
     "text": [
      "['α', 'β', ' ', 'γ', 'δ', ' ', 'ε', 'ζ', ' ', 'η', 'θ']\n"
     ]
    }
   ],
   "source": [
    "# οτιδήποτε δεν είναι ψηφίο \n",
    "\n",
    "text = 'α1β2 γ3δ4 ε5ζ6 η7θ8'\n",
    "pattern = re.compile(r'\\D')\n",
    "print([x.group(0) for x in pattern.finditer(text)])"
   ]
  },
  {
   "cell_type": "code",
   "execution_count": 25,
   "metadata": {},
   "outputs": [
    {
     "name": "stdout",
     "output_type": "stream",
     "text": [
      "['α', '1', 'β', '2', 'γ', '3', 'δ', '4', 'ε', '5', 'ζ', '6', 'η', '7', 'θ', '8', '_']\n"
     ]
    }
   ],
   "source": [
    "# οτιδήποτε είναι χαρακτήρας λέξης\n",
    "\n",
    "text = '* @ α1β2 γ3δ4 ε5ζ6 η7θ8 _'\n",
    "pattern = re.compile(r'\\w')\n",
    "print([x.group(0) for x in pattern.finditer(text)])"
   ]
  },
  {
   "cell_type": "code",
   "execution_count": 26,
   "metadata": {},
   "outputs": [
    {
     "name": "stdout",
     "output_type": "stream",
     "text": [
      "['*', ' ', '@', ' ', ' ', ' ', ' ', ' ']\n"
     ]
    }
   ],
   "source": [
    "# οτιδήποτε δεν είναι χαρακτήρας λέξης\n",
    "\n",
    "text = '* @ α1β2 γ3δ4 ε5ζ6 η7θ8 _'\n",
    "pattern = re.compile(r'\\W')\n",
    "print([x.group(0) for x in pattern.finditer(text)])"
   ]
  },
  {
   "cell_type": "code",
   "execution_count": 27,
   "metadata": {},
   "outputs": [
    {
     "name": "stdout",
     "output_type": "stream",
     "text": [
      "[' ', ' ', ' ', ' ', ' ', ' ', ' ', ' ']\n"
     ]
    }
   ],
   "source": [
    "# οτιδήποτε είναι κενό (whitespace)\n",
    "\n",
    "text = '* @ α1β2 γ3δ4 ε5ζ6 η7θ8 _  '\n",
    "pattern = re.compile(r'\\s')\n",
    "print([x.group(0) for x in pattern.finditer(text)])"
   ]
  },
  {
   "cell_type": "code",
   "execution_count": 28,
   "metadata": {},
   "outputs": [
    {
     "name": "stdout",
     "output_type": "stream",
     "text": [
      "['*', '@', 'α', '1', 'β', '2', 'γ', '3', 'δ', '4', 'ε', '5', 'ζ', '6', 'η', '7', 'θ', '8', '_']\n"
     ]
    }
   ],
   "source": [
    "# οτιδήποτε δεν είναι κενό (non whitespace)\n",
    "\n",
    "text = '* @ α1β2 γ3δ4 ε5ζ6 η7θ8 _  '\n",
    "pattern = re.compile(r'\\S')\n",
    "print([x.group(0) for x in pattern.finditer(text)])"
   ]
  },
  {
   "cell_type": "markdown",
   "metadata": {},
   "source": [
    "## Ομάδες (groups)\n",
    "Με τις ομάδες είναι δυνατόν να ληφθούν τμήματα από το κείμενο που ταιριάζει στο πρότυπο που αναζητείται. Τα τμήματα αυτά σημειώνονται με παρενθέσεις και ονομάζονται ομάδες. "
   ]
  },
  {
   "cell_type": "code",
   "execution_count": 29,
   "metadata": {},
   "outputs": [
    {
     "name": "stdout",
     "output_type": "stream",
     "text": [
      "match=john.doe@company.com group1=john.doe group2=company.com group3=com\n",
      "match=jane.doe@institute.org group1=jane.doe group2=institute.org group3=org\n"
     ]
    }
   ],
   "source": [
    "# ομάδες \n",
    "# group() ή group(0) είναι όλο το ταίριασμα\n",
    "# group(1) είναι η πρώτη ομάδα\n",
    "# group(2) είναι η πρώτη ομάδα \n",
    "# κ.ο.κ.\n",
    "\n",
    "text = 'Επικοινωνήστε με τα emails: john.doe@company.com ή jane.doe@institute.org'\n",
    "pattern = re.compile(r'([\\w\\.-]+)@([\\w-]+\\.(\\w{2,3}))')\n",
    "for match in pattern.finditer(text):\n",
    "    print(f'match={match.group()} group1={match.group(1)} group2={match.group(2)} group3={match.group(3)}')"
   ]
  },
  {
   "cell_type": "code",
   "execution_count": 30,
   "metadata": {},
   "outputs": [
    {
     "name": "stdout",
     "output_type": "stream",
     "text": [
      "['αα-αα', 'αβ-αβ']\n"
     ]
    }
   ],
   "source": [
    "# αναφορές σε ομάδες\n",
    "# π.χ. ζεύγη 2 χαρακτήρων που χωρίζονται με παύλα και επαναλαμβάνονται\n",
    "\n",
    "text = 'αα-αα β-β αβ-αβ αβ-βα'\n",
    "pattern = re.compile(r'(\\w{2})-\\1') # το \\1 αναφέρεται στην πρώτη ομάδα\n",
    "print([x.group(0) for x in pattern.finditer(text)])"
   ]
  },
  {
   "cell_type": "code",
   "execution_count": 50,
   "metadata": {},
   "outputs": [
    {
     "name": "stdout",
     "output_type": "stream",
     "text": [
      "['area ', 'bomb ', 'example']\n"
     ]
    }
   ],
   "source": [
    "# λέξεις που ξεκινούν και τελειώνουν με τον ίδιο χαρακτήρα\n",
    "\n",
    "text = 'area circle bomb urgent example'\n",
    "pattern = re.compile(r'\\b([a-z])[a-z]*\\1(\\W|$)') # το \\1 αναφέρεται στην πρώτη ομάδα\n",
    "print([x.group(0) for x in pattern.finditer(text)])"
   ]
  },
  {
   "cell_type": "markdown",
   "metadata": {},
   "source": [
    "## Regexes που χρησιμοποιούνται συχνά"
   ]
  },
  {
   "cell_type": "code",
   "execution_count": 31,
   "metadata": {},
   "outputs": [
    {
     "name": "stdout",
     "output_type": "stream",
     "text": [
      "[<re.Match object; span=(0, 1), match='1'>, <re.Match object; span=(2, 4), match='18'>, <re.Match object; span=(5, 7), match='35'>, <re.Match object; span=(8, 10), match='42'>]\n"
     ]
    }
   ],
   "source": [
    "# Ακέραιοι αριθμοί σε συγκεκριμένο εύρος (π.χ. ακέραιοι από το 1 μέχρι και το 42)\n",
    "\n",
    "text = '1 18 35 42 56'\n",
    "pattern = re.compile(r'\\b([1-9]|[123]\\d|4[0-2])\\b') \n",
    "print([x for x in pattern.finditer(text)])"
   ]
  },
  {
   "cell_type": "code",
   "execution_count": 32,
   "metadata": {},
   "outputs": [
    {
     "name": "stdout",
     "output_type": "stream",
     "text": [
      "[<re.Match object; span=(0, 6), match='3.1415'>]\n"
     ]
    }
   ],
   "source": [
    "# Πραγματικοί αριθμοί\n",
    "text = '3.1415'\n",
    "pattern = re.compile(r'^[+-]?([0-9]*[.])?[0-9]+$') \n",
    "print([x for x in pattern.finditer(text)])"
   ]
  },
  {
   "cell_type": "code",
   "execution_count": 33,
   "metadata": {},
   "outputs": [
    {
     "name": "stdout",
     "output_type": "stream",
     "text": [
      "[<re.Match object; span=(0, 16), match='john@company.com'>]\n"
     ]
    }
   ],
   "source": [
    "# Διευθύνσεις email (δείτε και το http://www.ex-parrot.com/~pdw/Mail-RFC822-Address.html)\n",
    "\n",
    "text = \"john@company.com\"\n",
    "pattern = re.compile(r'^([\\w\\.-]+)@([\\w-]+\\.(\\w{2,3}))$')\n",
    "print([x for x in pattern.finditer(text)])"
   ]
  },
  {
   "cell_type": "code",
   "execution_count": 34,
   "metadata": {},
   "outputs": [
    {
     "name": "stdout",
     "output_type": "stream",
     "text": [
      "[<re.Match object; span=(0, 10), match='2681012345'>]\n"
     ]
    }
   ],
   "source": [
    "# Τηλεφωνικοί αριθμοί \n",
    "\n",
    "text = \"2681012345\"\n",
    "pattern = re.compile(r'^\\d{10}$')\n",
    "print([x for x in pattern.finditer(text)])"
   ]
  },
  {
   "cell_type": "markdown",
   "metadata": {},
   "source": [
    "## Άνοιγμα αρχείου και αναζήτηση προτύπων σε αυτό με regex"
   ]
  },
  {
   "cell_type": "code",
   "execution_count": 35,
   "metadata": {},
   "outputs": [
    {
     "name": "stdout",
     "output_type": "stream",
     "text": [
      "I felt happy because I saw the others were happy and because I knew I should feel happy, but I wasnβ€™t really happy.\n",
      "I felt sad because I saw the others were sad and because I knew I should feel sad, but I wasnβ€™t really sad.\n",
      "<re.Match object; span=(7, 12), match='happy'>\n",
      "<re.Match object; span=(43, 48), match='happy'>\n",
      "<re.Match object; span=(82, 87), match='happy'>\n",
      "<re.Match object; span=(111, 116), match='happy'>\n"
     ]
    }
   ],
   "source": [
    "# ταίριασμα κειμένου σε αρχείο\n",
    "\n",
    "pattern = re.compile(r'happy')\n",
    "\n",
    "# άνοιγμα αρχείου με context manager\n",
    "with open('../../../datasets/text_for_regex_experiments.txt', 'r') as f:\n",
    "    contents = f.read()\n",
    "\n",
    "print(contents)\n",
    "\n",
    "matches = pattern.finditer(contents)\n",
    "\n",
    "for match in matches:\n",
    "    print(match)"
   ]
  },
  {
   "cell_type": "markdown",
   "metadata": {},
   "source": [
    "## Άλλες συναρτήσεις εντοπισμού regexes\n",
    "\n",
    "Εκτός από τη finditer υπάρχουν και άλλες συναρτήσεις εντοπισμού προτύπων όπως οι findall, match και search"
   ]
  },
  {
   "cell_type": "code",
   "execution_count": 36,
   "metadata": {},
   "outputs": [
    {
     "name": "stdout",
     "output_type": "stream",
     "text": [
      "['happy', 'happy', 'happy', 'happy']\n",
      "****************************************\n",
      "['pp', 'pp', 'pp', 'pp']\n"
     ]
    }
   ],
   "source": [
    "# Η findall επιστρέφει τα ταιριάσματα ως μια λίστα λεκτικών, αν το πρότυπο περιέχει ομάδες θα επιστρέψει μόνο τις ομάδες\n",
    "\n",
    "pattern = re.compile(r'happy')\n",
    "\n",
    "with open('../../../datasets/text_for_regex_experiments.txt', 'r') as f:\n",
    "    contents = f.read()\n",
    "\n",
    "matches = pattern.findall(contents)\n",
    "print(matches)\n",
    "\n",
    "print('*'*40)\n",
    "\n",
    "pattern = re.compile(r'ha(pp)y')\n",
    "with open('../../../datasets/text_for_regex_experiments.txt', 'r') as f:\n",
    "    contents = f.read()\n",
    "\n",
    "matches = pattern.findall(contents)\n",
    "print(matches)"
   ]
  },
  {
   "cell_type": "code",
   "execution_count": 37,
   "metadata": {},
   "outputs": [
    {
     "name": "stdout",
     "output_type": "stream",
     "text": [
      "None\n"
     ]
    }
   ],
   "source": [
    "# H match επιστρέφει μόνο το πρώτο ταίριασμα, εξετάζοντας μόνο από την αρχή του λεκτικού μέχρι το τέλος της πρώτης γραμμής\n",
    "\n",
    "pattern = re.compile(r'sad')\n",
    "\n",
    "with open('../../../datasets/text_for_regex_experiments.txt', 'r') as f:\n",
    "    contents = f.read()\n",
    "\n",
    "matches = pattern.match(contents)\n",
    "print(matches)"
   ]
  },
  {
   "cell_type": "code",
   "execution_count": 38,
   "metadata": {},
   "outputs": [
    {
     "name": "stdout",
     "output_type": "stream",
     "text": [
      "<re.Match object; span=(125, 128), match='sad'>\n"
     ]
    }
   ],
   "source": [
    "# Η search επιστρέφει μόνο το πρώτο ταίριασμα, εξετάζοντας όλες τις γραμμές του λεκτικού\n",
    "\n",
    "pattern = re.compile(r'sad')\n",
    "\n",
    "with open('../../../datasets/text_for_regex_experiments.txt', 'r') as f:\n",
    "    contents = f.read()\n",
    "\n",
    "matches = pattern.search(contents)\n",
    "print(matches)"
   ]
  },
  {
   "cell_type": "markdown",
   "metadata": {},
   "source": [
    "## Flags και regex με σχόλια\n",
    "\n",
    "* re.IGNORECASE  -> re.I\n",
    "* re.VERBOSE  -> re.X ()"
   ]
  },
  {
   "cell_type": "code",
   "execution_count": 39,
   "metadata": {},
   "outputs": [
    {
     "name": "stdout",
     "output_type": "stream",
     "text": [
      "<re.Match object; span=(0, 8), match='x_z  X_Z'>\n"
     ]
    }
   ],
   "source": [
    "# flags\n",
    "\n",
    "pattern = r'''\n",
    "    (\\w+)   # Ομάδα 1: ταίριασμα 1 ή περισσότερων γραμμάτων, αριθμών ή κάτω παύλες\n",
    "    \\s+     # 1 ή περισσότεροι κενοί χαρακτήρες\n",
    "    \\1      # ταίριασμα με την πρώτη ομάδα\n",
    "''' \n",
    "print(re.search(pattern, 'x_z  X_Z', re.VERBOSE | re.IGNORECASE))"
   ]
  },
  {
   "cell_type": "markdown",
   "metadata": {},
   "source": [
    "## Αντικατάσταση προτύπων regex σε κείμενο με την re.sub\n",
    "\n",
    "Σύνταξη: re.sub(pattern, repl, string, count=0, flag=0)\n",
    "\n",
    "Εντοπισμός ενός προτύπου (pattern) σε ένα λεκτικό (string) και αντικατάστασή του με ένα άλλο λεκτικό (string)"
   ]
  },
  {
   "cell_type": "code",
   "execution_count": 40,
   "metadata": {},
   "outputs": [
    {
     "name": "stdout",
     "output_type": "stream",
     "text": [
      "I felt <missing word> <missing word> I saw the others were <missing word> and <missing word> I knew I should feel <missing word>, but I wasn’t really <missing word>.\n",
      "\n"
     ]
    }
   ],
   "source": [
    "# sub\n",
    "\n",
    "text = '''I felt happy because I saw the others were happy and because I knew I should feel happy, but I wasn’t really happy.\n",
    "'''\n",
    "\n",
    "new_text = re.sub(r'happy|because', '<missing word>', text)\n",
    "print(new_text)"
   ]
  },
  {
   "cell_type": "code",
   "execution_count": 41,
   "metadata": {},
   "outputs": [
    {
     "name": "stdout",
     "output_type": "stream",
     "text": [
      "Ο αριθμός τηλεφώνου του χρήστη είναι **********\n"
     ]
    }
   ],
   "source": [
    "# αντικατάσταση όλων των ψηφίων με *\n",
    "\n",
    "new_text = re.sub(r'\\d', repl='*', string='Ο αριθμός τηλεφώνου του χρήστη είναι 1234567890')\n",
    "print(new_text)"
   ]
  },
  {
   "cell_type": "code",
   "execution_count": 42,
   "metadata": {},
   "outputs": [
    {
     "name": "stdout",
     "output_type": "stream",
     "text": [
      "Ο αριθμός τηλεφώνου του χρήστη είναι *******890\n"
     ]
    }
   ],
   "source": [
    "# μπορεί να χρησιμοποιηθεί συνάρτηση στη θέση της repl παραμέτρου, έτσι ώστε να επιτευχθεί εξυπνότερη συμπεριφορά (π.χ. διατήρηση εμφάνισης των 3 τελευταίων ψηφίων του αριθμού)\n",
    "\n",
    "def keep_last_3(s):\n",
    "    return '*' * (len(s[0])-3) + s[0][-3:]\n",
    "\n",
    "new_text = re.sub(r'\\d+', repl=keep_last_3, string='Ο αριθμός τηλεφώνου του χρήστη είναι 1234567890')\n",
    "print(new_text)"
   ]
  },
  {
   "cell_type": "markdown",
   "metadata": {},
   "source": [
    "## Διάσπαση λεκτικών με την re.split\n",
    "\n",
    "Η re.split επιστρέφει μια λίστα που προκύπτει από τη διάσπαση του λεκτικού στα σημεία που γίνεται match"
   ]
  },
  {
   "cell_type": "code",
   "execution_count": 43,
   "metadata": {},
   "outputs": [
    {
     "name": "stdout",
     "output_type": "stream",
     "text": [
      "['I felt ', ' because I saw the others were ', ' and because I knew I should feel ', ', but I wasn’t really ', '.\\n']\n"
     ]
    }
   ],
   "source": [
    "# split\n",
    "\n",
    "text = '''I felt happy because I saw the others were happy and because I knew I should feel happy, but I wasn’t really happy.\n",
    "'''\n",
    "\n",
    "a_list = re.split(r'happy', text)\n",
    "\n",
    "print(a_list)"
   ]
  },
  {
   "cell_type": "markdown",
   "metadata": {},
   "source": [
    "## Greedy και non-greedy ταιριάσματα\n",
    "\n",
    "    *  --> greedy 0 ή περισσότερα\n",
    "    *? --> non greedy 0 ή περισσότερα\n",
    "    +  --> greedy 1 ή περισσότερα\n",
    "    +? --> non greedy 1 ή περισσότερα"
   ]
  },
  {
   "cell_type": "code",
   "execution_count": 44,
   "metadata": {},
   "outputs": [
    {
     "name": "stdout",
     "output_type": "stream",
     "text": [
      "<re.Match object; span=(0, 26), match='αβγδεζηθικαλμνξοπρστυφχψωα'>\n",
      "<re.Match object; span=(0, 11), match='αβγδεζηθικα'>\n"
     ]
    }
   ],
   "source": [
    "text = 'αβγδεζηθικαλμνξοπρστυφχψωα'\n",
    "match = re.search(r'α.*α', text) # greedy match\n",
    "print(match)\n",
    "match = re.search(r'α.*?α', text) # non-greedy match\n",
    "print(match)"
   ]
  },
  {
   "cell_type": "markdown",
   "metadata": {},
   "source": [
    "## Επιπλέον παραδείγματα με κανονικές εκφράσεις"
   ]
  },
  {
   "cell_type": "code",
   "execution_count": 1,
   "metadata": {},
   "outputs": [
    {
     "data": {
      "text/plain": [
       "\" The Zen of Python, by Tim Peters  Beautiful is better than ugly. Explicit is better than implicit. Simple is better than complex. Complex is better than complicated. Flat is better than nested. Sparse is better than dense. Readability counts. Special cases aren't special enough to break the rules. Although practicality beats purity. Errors should never pass silently. Unless explicitly silenced. In the face of ambiguity, refuse the temptation to guess. There should be one-- and preferably only one --obvious way to do it. Although that way may not be obvious at first unless you're Dutch. Now is better than never. Although never is often better than *right* now. If the implementation is hard to explain, it's a bad idea. If the implementation is easy to explain, it may be a good idea. Namespaces are one honking great idea -- let's do more of those! \""
      ]
     },
     "execution_count": 1,
     "metadata": {},
     "output_type": "execute_result"
    }
   ],
   "source": [
    "txt = \"\"\"\n",
    "The Zen of Python, by Tim Peters\n",
    "\n",
    "Beautiful is better than ugly.\n",
    "Explicit is better than implicit.\n",
    "Simple is better than complex.\n",
    "Complex is better than complicated.\n",
    "Flat is better than nested.\n",
    "Sparse is better than dense.\n",
    "Readability counts.\n",
    "Special cases aren't special enough to break the rules.\n",
    "Although practicality beats purity.\n",
    "Errors should never pass silently.\n",
    "Unless explicitly silenced.\n",
    "In the face of ambiguity, refuse the temptation to guess.\n",
    "There should be one-- and preferably only one --obvious way to do it.\n",
    "Although that way may not be obvious at first unless you're Dutch.\n",
    "Now is better than never.\n",
    "Although never is often better than *right* now.\n",
    "If the implementation is hard to explain, it's a bad idea.\n",
    "If the implementation is easy to explain, it may be a good idea.\n",
    "Namespaces are one honking great idea -- let's do more of those!\n",
    "\"\"\"\n",
    "\n",
    "txt = txt.replace(\"\\n\", \" \")\n",
    "txt"
   ]
  },
  {
   "cell_type": "code",
   "execution_count": 10,
   "metadata": {},
   "outputs": [
    {
     "data": {
      "text/plain": [
       "['The',\n",
       " 'Zen',\n",
       " 'Python',\n",
       " 'Tim',\n",
       " 'Peters',\n",
       " 'Beautiful',\n",
       " 'Explicit',\n",
       " 'Simple',\n",
       " 'Complex',\n",
       " 'Flat',\n",
       " 'Sparse',\n",
       " 'Readability',\n",
       " 'Special',\n",
       " 'Although',\n",
       " 'Errors',\n",
       " 'Unless',\n",
       " 'In',\n",
       " 'There',\n",
       " 'Although',\n",
       " 'Dutch',\n",
       " 'Now',\n",
       " 'Although',\n",
       " 'If',\n",
       " 'If',\n",
       " 'Namespaces']"
      ]
     },
     "execution_count": 10,
     "metadata": {},
     "output_type": "execute_result"
    }
   ],
   "source": [
    "import re\n",
    "\n",
    "# όλες οι λέξεις με κεφαλαίο το πρώτο γράμμα\n",
    "re.findall(r\"[A-Z]\\w*\", txt)"
   ]
  },
  {
   "cell_type": "code",
   "execution_count": 11,
   "metadata": {},
   "outputs": [
    {
     "data": {
      "text/plain": [
       "['enough', 'explicitly', 'explain', 'easy', 'explain']"
      ]
     },
     "execution_count": 11,
     "metadata": {},
     "output_type": "execute_result"
    }
   ],
   "source": [
    "# όλες οι λέξεις που ξεκινούν με το χαρακτήρα e\n",
    "re.findall(r\"\\be.*?\\b\", txt)"
   ]
  },
  {
   "cell_type": "code",
   "execution_count": 12,
   "metadata": {},
   "outputs": [
    {
     "data": {
      "text/plain": [
       "['The',\n",
       " 'Zen',\n",
       " 'of',\n",
       " 'Python',\n",
       " 'by',\n",
       " 'Tim',\n",
       " 'Peters',\n",
       " 'Beautiful',\n",
       " 'is',\n",
       " 'better',\n",
       " 'than',\n",
       " 'ugly',\n",
       " 'Explicit',\n",
       " 'is',\n",
       " 'better',\n",
       " 'than',\n",
       " 'implicit',\n",
       " 'Simple',\n",
       " 'is',\n",
       " 'better',\n",
       " 'than',\n",
       " 'complex',\n",
       " 'Complex',\n",
       " 'is',\n",
       " 'better',\n",
       " 'than',\n",
       " 'complicated',\n",
       " 'Flat',\n",
       " 'is',\n",
       " 'better',\n",
       " 'than',\n",
       " 'nested',\n",
       " 'Sparse',\n",
       " 'is',\n",
       " 'better',\n",
       " 'than',\n",
       " 'dense',\n",
       " 'Readability',\n",
       " 'counts',\n",
       " 'Special',\n",
       " 'cases',\n",
       " 'aren',\n",
       " \"'\",\n",
       " 't',\n",
       " 'special',\n",
       " 'enough',\n",
       " 'to',\n",
       " 'break',\n",
       " 'the',\n",
       " 'rules',\n",
       " 'Although',\n",
       " 'practicality',\n",
       " 'beats',\n",
       " 'purity',\n",
       " 'Errors',\n",
       " 'should',\n",
       " 'never',\n",
       " 'pass',\n",
       " 'silently',\n",
       " 'Unless',\n",
       " 'explicitly',\n",
       " 'silenced',\n",
       " 'In',\n",
       " 'the',\n",
       " 'face',\n",
       " 'of',\n",
       " 'ambiguity',\n",
       " 'refuse',\n",
       " 'the',\n",
       " 'temptation',\n",
       " 'to',\n",
       " 'guess',\n",
       " 'There',\n",
       " 'should',\n",
       " 'be',\n",
       " 'one',\n",
       " 'and',\n",
       " 'preferably',\n",
       " 'only',\n",
       " 'one',\n",
       " 'obvious',\n",
       " 'way',\n",
       " 'to',\n",
       " 'do',\n",
       " 'it',\n",
       " 'Although',\n",
       " 'that',\n",
       " 'way',\n",
       " 'may',\n",
       " 'not',\n",
       " 'be',\n",
       " 'obvious',\n",
       " 'at',\n",
       " 'first',\n",
       " 'unless',\n",
       " 'you',\n",
       " \"'\",\n",
       " 're',\n",
       " 'Dutch',\n",
       " 'Now',\n",
       " 'is',\n",
       " 'better',\n",
       " 'than',\n",
       " 'never',\n",
       " 'Although',\n",
       " 'never',\n",
       " 'is',\n",
       " 'often',\n",
       " 'better',\n",
       " 'than',\n",
       " 'right',\n",
       " 'now',\n",
       " 'If',\n",
       " 'the',\n",
       " 'implementation',\n",
       " 'is',\n",
       " 'hard',\n",
       " 'to',\n",
       " 'explain',\n",
       " 'it',\n",
       " \"'\",\n",
       " 's',\n",
       " 'a',\n",
       " 'bad',\n",
       " 'idea',\n",
       " 'If',\n",
       " 'the',\n",
       " 'implementation',\n",
       " 'is',\n",
       " 'easy',\n",
       " 'to',\n",
       " 'explain',\n",
       " 'it',\n",
       " 'may',\n",
       " 'be',\n",
       " 'a',\n",
       " 'good',\n",
       " 'idea',\n",
       " 'Namespaces',\n",
       " 'are',\n",
       " 'one',\n",
       " 'honking',\n",
       " 'great',\n",
       " 'idea',\n",
       " 'let',\n",
       " \"'\",\n",
       " 's',\n",
       " 'do',\n",
       " 'more',\n",
       " 'of',\n",
       " 'those']"
      ]
     },
     "execution_count": 12,
     "metadata": {},
     "output_type": "execute_result"
    }
   ],
   "source": [
    "# όλες οι λέξεις\n",
    "re.findall(r\"\\b\\S+?\\b\", txt)"
   ]
  },
  {
   "cell_type": "code",
   "execution_count": 18,
   "metadata": {},
   "outputs": [
    {
     "data": {
      "text/plain": [
       "['python',\n",
       " 'peters',\n",
       " 'better',\n",
       " 'better',\n",
       " 'simple',\n",
       " 'better',\n",
       " 'complex',\n",
       " 'complex',\n",
       " 'better',\n",
       " 'better',\n",
       " 'nested',\n",
       " 'sparse',\n",
       " 'better',\n",
       " 'dense',\n",
       " 'counts',\n",
       " 'special',\n",
       " 'cases',\n",
       " 'special',\n",
       " 'enough',\n",
       " 'break',\n",
       " 'rules',\n",
       " 'beats',\n",
       " 'purity',\n",
       " 'errors',\n",
       " 'should',\n",
       " 'never',\n",
       " 'unless',\n",
       " 'refuse',\n",
       " 'guess',\n",
       " 'there',\n",
       " 'should',\n",
       " 'obvious',\n",
       " 'obvious',\n",
       " 'first',\n",
       " 'unless',\n",
       " 'dutch',\n",
       " 'better',\n",
       " 'never',\n",
       " 'never',\n",
       " 'often',\n",
       " 'better',\n",
       " 'right',\n",
       " 'explain',\n",
       " 'explain',\n",
       " 'honking',\n",
       " 'great',\n",
       " 'those']"
      ]
     },
     "execution_count": 18,
     "metadata": {},
     "output_type": "execute_result"
    }
   ],
   "source": [
    "# όλες οι λέξεις με 5 έως και 7 χαρακτήρες \n",
    "re.findall(r\"\\b[a-z]{5,7}\\b\", txt.lower())"
   ]
  },
  {
   "cell_type": "code",
   "execution_count": 16,
   "metadata": {},
   "outputs": [
    {
     "data": {
      "text/plain": [
       "['The Zen of Python, by Tim Peters  Beautiful is better than ugly',\n",
       " 'Explicit is better than implicit',\n",
       " 'Simple is better than complex',\n",
       " 'Complex is better than complicated',\n",
       " 'Flat is better than nested',\n",
       " 'Sparse is better than dense',\n",
       " 'Readability counts',\n",
       " \"Special cases aren't special enough to break the rules\",\n",
       " 'Although practicality beats purity',\n",
       " 'Errors should never pass silently',\n",
       " 'Unless explicitly silenced',\n",
       " 'In the face of ambiguity, refuse the temptation to guess',\n",
       " 'There should be one-- and preferably only one --obvious way to do it',\n",
       " \"Although that way may not be obvious at first unless you're Dutch\",\n",
       " 'Now is better than never',\n",
       " 'Although never is often better than *right* now',\n",
       " \"If the implementation is hard to explain, it's a bad idea\",\n",
       " 'If the implementation is easy to explain, it may be a good idea']"
      ]
     },
     "execution_count": 16,
     "metadata": {},
     "output_type": "execute_result"
    }
   ],
   "source": [
    "# όλες οι προτάσεις\n",
    "re.findall(r\"\\s(.*?)\\.\", txt)"
   ]
  },
  {
   "cell_type": "code",
   "execution_count": 20,
   "metadata": {},
   "outputs": [
    {
     "data": {
      "text/plain": [
       "['that']"
      ]
     },
     "execution_count": 20,
     "metadata": {},
     "output_type": "execute_result"
    }
   ],
   "source": [
    "# όλες οι λέξεις που ξεκινούν και τελειώνουν με τον ίδιο χαρακτήρα\n",
    "[x[0] + x[1] for x in re.findall(r\"\\b([a-z])(\\S+?\\1)\\b\", txt)]"
   ]
  },
  {
   "cell_type": "code",
   "execution_count": null,
   "metadata": {},
   "outputs": [],
   "source": []
  }
 ],
 "metadata": {
  "interpreter": {
   "hash": "f40a6e13c37d34a8e08b5b5c92d22f0cb84668e50c3976fc188360a208488fc1"
  },
  "kernelspec": {
   "display_name": "Python 3.8.0 64-bit",
   "language": "python",
   "name": "python3"
  },
  "language_info": {
   "codemirror_mode": {
    "name": "ipython",
    "version": 3
   },
   "file_extension": ".py",
   "mimetype": "text/x-python",
   "name": "python",
   "nbconvert_exporter": "python",
   "pygments_lexer": "ipython3",
   "version": "3.8.8"
  },
  "orig_nbformat": 2
 },
 "nbformat": 4,
 "nbformat_minor": 2
}
