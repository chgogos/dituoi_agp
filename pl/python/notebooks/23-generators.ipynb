{
 "metadata": {
  "language_info": {
   "codemirror_mode": {
    "name": "ipython",
    "version": 3
   },
   "file_extension": ".py",
   "mimetype": "text/x-python",
   "name": "python",
   "nbconvert_exporter": "python",
   "pygments_lexer": "ipython3",
   "version": "3.8.0"
  },
  "orig_nbformat": 2,
  "kernelspec": {
   "name": "python380jvsc74a57bd02334294e789e06453e89f7d5c3c2573679701f9bb5b76ad2158f91cca5c9244c",
   "display_name": "Python 3.8.0 64-bit ('3.8.0-amd64': pyenv)"
  }
 },
 "nbformat": 4,
 "nbformat_minor": 2,
 "cells": [
  {
   "source": [
    "    Τμήμα Πληροφορικής και Τηλεπικοινωνιών - Άρτα \n",
    "    Πανεπιστήμιο Ιωαννίνων \n",
    "\n",
    "    Γκόγκος Χρήστος \n",
    "    http://chgogos.github.io/\n",
    "    Εαρινό εξάμηνο 2020-2021"
   ],
   "cell_type": "markdown",
   "metadata": {}
  },
  {
   "source": [
    "# Generators\n",
    "\n",
    "Οι generators επιτρέπουν τη λήψη μιας τιμής τη φορά και όχι την αποθήκευση στη μνήμη όλης της ακολουθίας τιμών αν αυτό δεν χρειάζεται.\n",
    "\n",
    "Για παράδειγμα, η ακόλουθη εντολή δημιουργεί μια μεγάλη λίστα στη μνήμη\n",
    "\n",
    "    x = [i**2 for i in range(1000000)] \n",
    "\n",
    "Ωστόσο, αν δεν είναι απαραίτητο να διατηρούνται όλα τα στοιχεία στη μνήμη μπορούμε να χρησιμοποιήσουμε έναν generator έτσι ώστε να υπάρχει στη μνήμη μόνο μια τιμή τη φορά από την ακολουθία που χειριζόμαστε.\n",
    "\n",
    "Οι generators μπορούν να αναπαραστήσουν ακόμα και μια άπειρη σειρά από την οποία θα λαμβάνεται μια τιμή τη φορά."
   ],
   "cell_type": "markdown",
   "metadata": {}
  },
  {
   "cell_type": "code",
   "execution_count": 1,
   "metadata": {},
   "outputs": [
    {
     "output_type": "stream",
     "name": "stdout",
     "text": [
      "333332833333500000\n",
      "****************************************\n",
      "333332833333500000\n",
      "****************************************\n",
      "333332833333500000\n",
      "****************************************\n",
      "333332833333500000\n"
     ]
    }
   ],
   "source": [
    "# Παράδειγμα άθροισης τιμών με λίστα και με generators\n",
    "\n",
    "x = [i**2 for i in range(1000000)]\n",
    "print(sum(x))\n",
    "\n",
    "print('*'*40)\n",
    "s = 0 \n",
    "for v in x:\n",
    "    s  += v\n",
    "print(s)\n",
    "\n",
    "print('*'*40)\n",
    "s = 0 \n",
    "for v in range(1000000):\n",
    "    s  += v**2\n",
    "print(s)\n",
    "\n",
    "print('*'*40)\n",
    "def gen(n):\n",
    "    for i in range(n):\n",
    "        yield i**2\n",
    "s = 0 \n",
    "for v in gen(1000000):\n",
    "    s  += v\n",
    "print(s)"
   ]
  },
  {
   "cell_type": "code",
   "execution_count": 2,
   "metadata": {},
   "outputs": [
    {
     "output_type": "stream",
     "name": "stdout",
     "text": [
      "0\n1\n4\n9\n16\n"
     ]
    }
   ],
   "source": [
    "# generator με κλάση\n",
    "# Expert Python Tutorial #5 - Generators https://www.youtube.com/watch?v=2eiFCQ-YAf4\n",
    "\n",
    "class Gen:\n",
    "    def __init__(self, n):\n",
    "        self.n = n\n",
    "        self.last = 0\n",
    "\n",
    "    def __next__(self):\n",
    "        return self.next()\n",
    "\n",
    "    def next(self):\n",
    "        if self.last == self.n:\n",
    "            raise StopIteration()\n",
    "        rv = self.last ** 2\n",
    "        self.last += 1\n",
    "        return rv\n",
    "\n",
    "g = Gen(5)\n",
    "while True:\n",
    "    try:\n",
    "        print(next(g))\n",
    "    except:\n",
    "        break"
   ]
  },
  {
   "cell_type": "code",
   "execution_count": 3,
   "metadata": {},
   "outputs": [
    {
     "output_type": "stream",
     "name": "stdout",
     "text": [
      "0\n1\n4\n9\n16\n"
     ]
    }
   ],
   "source": [
    "# generator με συνάρτηση\n",
    "\n",
    "def gen(n):\n",
    "    for i in range(n):\n",
    "        yield i**2\n",
    "\n",
    "g = gen(5)\n",
    "for i in g:\n",
    "    print(i)"
   ]
  },
  {
   "cell_type": "code",
   "execution_count": 4,
   "metadata": {},
   "outputs": [
    {
     "output_type": "stream",
     "name": "stdout",
     "text": [
      "0\n1\n4\n9\n16\n****************************************\n0\n1\n4\n9\n16\n"
     ]
    }
   ],
   "source": [
    "# generator πάνω στα στοιχεία μιας λίστας\n",
    "\n",
    "def gen(nums):\n",
    "    for i in nums:\n",
    "        yield i**2\n",
    "\n",
    "g = gen([0,1,2,3,4])\n",
    "for i in g:\n",
    "    print(i)\n",
    "\n",
    "print('*' * 40)\n",
    "\n",
    "g = gen([0,1,2,3,4])\n",
    "for _ in range(5):\n",
    "    print(next(g))"
   ]
  },
  {
   "cell_type": "code",
   "execution_count": 5,
   "metadata": {},
   "outputs": [
    {
     "output_type": "stream",
     "name": "stdout",
     "text": [
      "Nick\nMaria\nPetros\nKostas\nGiannis\n"
     ]
    }
   ],
   "source": [
    "# Ένας generator που παράγει ονόματα\n",
    "\n",
    "def names_gen():\n",
    "    yield 'Nick'\n",
    "    yield 'Maria'\n",
    "    yield 'Petros'\n",
    "    yield 'Kostas'\n",
    "    yield 'Giannis'\n",
    "\n",
    "g = names_gen()\n",
    "\n",
    "print(next(g))\n",
    "print(next(g))\n",
    "print(next(g))\n",
    "print(next(g))\n",
    "print(next(g))\n",
    "# print(next(g)) # StopIteration"
   ]
  },
  {
   "cell_type": "code",
   "execution_count": 6,
   "metadata": {
    "tags": []
   },
   "outputs": [
    {
     "output_type": "stream",
     "name": "stdout",
     "text": [
      "0\n1\n4\n9\n16\n****************************************\n0\n1\n4\n9\n16\n****************************************\n87616 bytes\n112 bytes\n"
     ]
    }
   ],
   "source": [
    "# Απαιτήσεις μνήμης generators\n",
    "\n",
    "import sys\n",
    "\n",
    "def gen(n):\n",
    "    for i in range(n):\n",
    "        yield i**2\n",
    "\n",
    "x = [i**2 for i in range(10000)] # δημιουργείται λίστα 10000 τιμών\n",
    "for i in range(5):\n",
    "    print(x[i])\n",
    "\n",
    "print('*' * 40)\n",
    "g = gen(10000)\n",
    "for _ in range(5):\n",
    "    print(next(g))\n",
    "\n",
    "print('*' * 40)\n",
    "print(sys.getsizeof(x), 'bytes')\n",
    "print(sys.getsizeof(g), 'bytes')"
   ]
  },
  {
   "cell_type": "code",
   "execution_count": 7,
   "metadata": {},
   "outputs": [
    {
     "output_type": "stream",
     "name": "stdout",
     "text": [
      "1962\n"
     ]
    }
   ],
   "source": [
    "## Χρήση generator για την επεξεργασία ενός μεγάλου αρχείου (καταμέτρηση γραμμών)\n",
    "\n",
    "def gen_file_reader(file_path):\n",
    "    for row in open(file_path, \"r\"):\n",
    "        yield row\n",
    "\n",
    "file_path = '../../../datasets/metamorphosis.txt' # έστω ότι πρόκειται για ένα μεγάλο αρχείο για το οποίο θέλουμε απλά να μετρήσουμε το πλήθος γραμμών του, χωρίς να διατηρούμε όλα τα περιεχόμενά του στη μνήμη\n",
    "lines = 0\n",
    "for row in gen_file_reader(file_path):\n",
    "    lines += 1\n",
    "print(lines)"
   ]
  },
  {
   "cell_type": "code",
   "execution_count": null,
   "metadata": {},
   "outputs": [],
   "source": []
  }
 ]
}