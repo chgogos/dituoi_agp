{
 "metadata": {
  "language_info": {
   "codemirror_mode": {
    "name": "ipython",
    "version": 3
   },
   "file_extension": ".py",
   "mimetype": "text/x-python",
   "name": "python",
   "nbconvert_exporter": "python",
   "pygments_lexer": "ipython3",
   "version": "3.8.0-final"
  },
  "orig_nbformat": 2,
  "kernelspec": {
   "name": "python3",
   "display_name": "Python 3.8.0 64-bit",
   "metadata": {
    "interpreter": {
     "hash": "2334294e789e06453e89f7d5c3c2573679701f9bb5b76ad2158f91cca5c9244c"
    }
   }
  }
 },
 "nbformat": 4,
 "nbformat_minor": 2,
 "cells": [
  {
   "source": [
    "    Τμήμα Πληροφορικής και Τηλεπικοινωνιών - Άρτα \n",
    "    Πανεπιστήμιο Ιωαννίνων \n",
    "\n",
    "    Γκόγκος Χρήστος \n",
    "    http://chgogos.github.io/\n",
    "    Εαρινό εξάμηνο 2020-2021"
   ],
   "cell_type": "markdown",
   "metadata": {}
  },
  {
   "source": [
    "# itertools\n",
    "\n",
    "Επιτρέπει τη χρήση iterators με αποδοτικό τρόπο. Οι iterators επιτρέπουν τη διάσχιση δεδομένων στη σειρά.\n"
   ],
   "cell_type": "markdown",
   "metadata": {}
  },
  {
   "cell_type": "code",
   "execution_count": null,
   "metadata": {},
   "outputs": [],
   "source": [
    "import itertools\n",
    "\n",
    "print(dir(itertools))"
   ]
  },
  {
   "cell_type": "code",
   "execution_count": null,
   "metadata": {},
   "outputs": [],
   "source": [
    "# Τα ακόλουθα παραδείγματα είναι από τη "
   ]
  },
  {
   "cell_type": "code",
   "execution_count": null,
   "metadata": {},
   "outputs": [],
   "source": [
    "# count - μετρητής\n",
    "\n",
    "counter = itertools.count()\n",
    "\n",
    "for i in counter:\n",
    "    if i > 5:\n",
    "        break\n",
    "    print(i)"
   ]
  },
  {
   "cell_type": "code",
   "execution_count": null,
   "metadata": {},
   "outputs": [],
   "source": [
    "# παράδειγμα χρήσης του itertools.count()\n",
    "# προσθήκη δεικτών στα στοιχεία λίστας\n",
    "\n",
    "a_list = [23, 45, 34, 77]\n",
    "b_list = list(zip(itertools.count(), a_list))\n",
    "b_list"
   ]
  },
  {
   "cell_type": "code",
   "execution_count": null,
   "metadata": {},
   "outputs": [],
   "source": [
    "# ορισμός αρχικής τιμής και βήματος στον μετρητή\n",
    "\n",
    "counter = itertools.count(start=5, step=0.5)\n",
    "print(next(counter))\n",
    "print(next(counter))\n",
    "print(next(counter))"
   ]
  },
  {
   "cell_type": "code",
   "execution_count": null,
   "metadata": {},
   "outputs": [],
   "source": [
    "# zip_longest - συμπληρώνει με None για τα στοιχεία που δεν βρίσκει αντίστοιχα στη μικρότερη λίστα\n",
    "\n",
    "a_list = [23, 45, 34, 77]\n",
    "list(itertools.zip_longest(a_list, range(10)))"
   ]
  },
  {
   "cell_type": "code",
   "execution_count": null,
   "metadata": {},
   "outputs": [],
   "source": [
    "# cycle\n",
    "\n",
    "counter = itertools.cycle([\"ON\", \"OFF\"])\n",
    "print(next(counter))\n",
    "print(next(counter))\n",
    "print(next(counter))\n",
    "print(next(counter))"
   ]
  },
  {
   "cell_type": "code",
   "execution_count": null,
   "metadata": {},
   "outputs": [],
   "source": [
    "# repeat\n",
    "\n",
    "counter = itertools.repeat(42, times = 3)\n",
    "\n",
    "print(next(counter))\n",
    "print(next(counter))\n",
    "print(next(counter))\n",
    "# print(next(counter)) # StopIteration "
   ]
  },
  {
   "cell_type": "code",
   "execution_count": null,
   "metadata": {},
   "outputs": [],
   "source": [
    "# starmap (δέχεται ως όρισμα μια λίστα με tuples)\n",
    "\n",
    "list(itertools.starmap(pow, [(0,2), (1,2), (2,2), (3,2)]))\n",
    "\n",
    "# ισοδύναμο αποτέλεσμα με την map η οποία δέχεται ως ορίσματα iterables\n",
    "\n",
    "print(list(map(pow, [0,1,2,3], [2,2,2,2])))\n",
    "print(list(map(pow, [0,1,2,3], itertools.repeat(2))))"
   ]
  },
  {
   "cell_type": "code",
   "execution_count": null,
   "metadata": {},
   "outputs": [],
   "source": [
    "# combinations (η σειρά δεν έχει έχει σημασία)\n",
    "# συνδυασμοί γραμμάτων ανά δύο\n",
    "\n",
    "letters = ['a', 'b', 'c', 'd']\n",
    "result = itertools.combinations(letters, 2)\n",
    "print(list(result))"
   ]
  },
  {
   "cell_type": "code",
   "execution_count": null,
   "metadata": {},
   "outputs": [],
   "source": [
    "# permutations (η σειρά έχει σημασία)\n",
    "# διατάξεις γραμμάτων ανά δύο\n",
    "\n",
    "letters = ['a', 'b', 'c', 'd']\n",
    "result = itertools.permutations(letters, 2)\n",
    "print(list(result))"
   ]
  },
  {
   "cell_type": "code",
   "execution_count": null,
   "metadata": {},
   "outputs": [],
   "source": [
    "# product \n",
    "# καρτεσιανό γινόμενο [0,1,2] Χ [0,1,2] Χ [0,1,2]\n",
    "\n",
    "numbers = [0,1,2]\n",
    "result = itertools.product(numbers, repeat = 3)\n",
    "print(list(result))"
   ]
  },
  {
   "cell_type": "code",
   "execution_count": null,
   "metadata": {},
   "outputs": [],
   "source": [
    "# combinations_with_replacement\n",
    "# συνδυασμοί με μήκος 3, επιτρέπεται η επανάληψη στοιχείων\n",
    "\n",
    "numbers = [0,1,2]\n",
    "result = itertools.combinations_with_replacement(numbers, 3)\n",
    "print(list(result))"
   ]
  },
  {
   "cell_type": "code",
   "execution_count": null,
   "metadata": {},
   "outputs": [],
   "source": [
    "# chain\n",
    "\n",
    "letters = ['a', 'b', 'c']\n",
    "numbers = [0, 1, 2]\n",
    "\n",
    "combined = letters + numbers # η νέα λίστα δημιουργείται στη μνήμη, αν οι επιμέρους λίστες είναι μεγάλες τότε έχουμε σπατάλη μνήμης\n",
    "\n",
    "combined2 = itertools.chain(letters, numbers) # αποδοτικό για μεγάλες λίστες\n",
    "for i in combined2:\n",
    "    print(i)"
   ]
  },
  {
   "cell_type": "code",
   "execution_count": null,
   "metadata": {},
   "outputs": [],
   "source": [
    "# islice\n",
    "\n",
    "result = itertools.islice(range(10),1,10,2)\n",
    "\n",
    "for i in result:\n",
    "    print(i)"
   ]
  },
  {
   "cell_type": "code",
   "execution_count": null,
   "metadata": {},
   "outputs": [],
   "source": [
    "# compress\n",
    "\n",
    "letters = ['a', 'b', 'c', 'd']\n",
    "selectors = [True, True, False, True]\n",
    "\n",
    "results = itertools.compress(letters, selectors)\n",
    "\n",
    "for i in results:\n",
    "    print(i)"
   ]
  },
  {
   "cell_type": "code",
   "execution_count": null,
   "metadata": {},
   "outputs": [],
   "source": [
    "# accumulate\n",
    "\n",
    "import operator\n",
    "\n",
    "numbers = [1, 2, 3, 4, 5]\n",
    "\n",
    "results = itertools.accumulate(numbers)\n",
    "\n",
    "for i in results:\n",
    "    print(i)\n",
    "\n",
    "print('#' * 40)\n",
    "\n",
    "results = itertools.accumulate(numbers, operator.mul)\n",
    "\n",
    "for i in results:\n",
    "    print(i)"
   ]
  },
  {
   "cell_type": "code",
   "execution_count": null,
   "metadata": {},
   "outputs": [],
   "source": [
    "# groupby\n",
    "\n",
    "people = [\n",
    "    {\n",
    "        'name':'John',\n",
    "        'city':'NY'\n",
    "    },\n",
    "    {\n",
    "        'name':'Jane',\n",
    "        'city':'NY'\n",
    "    }, \n",
    "    {\n",
    "        'name':'Bob',\n",
    "        'city':'Athens'\n",
    "    },\n",
    "    {\n",
    "        'name':'Anna',\n",
    "        'city':'Athens'\n",
    "    }\n",
    "]\n",
    "\n",
    "def get_city(person):\n",
    "    return person['city']\n",
    "\n",
    "person_group = itertools.groupby(people, get_city)\n",
    "\n",
    "for k, g in person_group:\n",
    "    print(k,g)\n",
    "\n",
    "print(\"#\"*40)\n",
    "\n",
    "person_group = itertools.groupby(people, get_city)\n",
    "\n",
    "for k, g in person_group:\n",
    "    print(k)\n",
    "    for p in g:\n",
    "        print(p['name'])\n",
    "    print()"
   ]
  },
  {
   "cell_type": "code",
   "execution_count": null,
   "metadata": {},
   "outputs": [],
   "source": [
    "# tee \n",
    "\n",
    "numbers = [1, 2, 3, 4, 5]\n",
    "\n",
    "copy1, copy2 = itertools.tee(numbers)\n",
    "\n",
    "for i in copy1:\n",
    "    print(i)\n",
    "\n",
    "print(\"#\"*40)\n",
    "\n",
    "for i in copy2:\n",
    "    print(i)"
   ]
  },
  {
   "cell_type": "code",
   "execution_count": null,
   "metadata": {},
   "outputs": [],
   "source": []
  }
 ]
}