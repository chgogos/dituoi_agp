{
 "metadata": {
  "language_info": {
   "codemirror_mode": {
    "name": "ipython",
    "version": 3
   },
   "file_extension": ".py",
   "mimetype": "text/x-python",
   "name": "python",
   "nbconvert_exporter": "python",
   "pygments_lexer": "ipython3",
   "version": "3.8.0"
  },
  "orig_nbformat": 2,
  "kernelspec": {
   "name": "python380jvsc74a57bd02334294e789e06453e89f7d5c3c2573679701f9bb5b76ad2158f91cca5c9244c",
   "display_name": "Python 3.8.0 64-bit ('3.8.0-amd64': pyenv)"
  }
 },
 "nbformat": 4,
 "nbformat_minor": 2,
 "cells": [
  {
   "source": [
    "    Τμήμα Πληροφορικής και Τηλεπικοινωνιών - Άρτα \n",
    "    Πανεπιστήμιο Ιωαννίνων \n",
    "\n",
    "    Γκόγκος Χρήστος \n",
    "    http://chgogos.github.io/\n",
    "    Εαρινό εξάμηνο 2020-2021"
   ],
   "cell_type": "markdown",
   "metadata": {}
  },
  {
   "source": [
    "# itertools\n",
    "\n",
    "Επιτρέπει τη χρήση iterators με αποδοτικό τρόπο. Οι iterators επιτρέπουν τη διάσχιση δεδομένων στη σειρά.\n"
   ],
   "cell_type": "markdown",
   "metadata": {}
  },
  {
   "cell_type": "code",
   "execution_count": 1,
   "metadata": {},
   "outputs": [
    {
     "output_type": "stream",
     "name": "stdout",
     "text": [
      "['__doc__', '__loader__', '__name__', '__package__', '__spec__', '_grouper', '_tee', '_tee_dataobject', 'accumulate', 'chain', 'combinations', 'combinations_with_replacement', 'compress', 'count', 'cycle', 'dropwhile', 'filterfalse', 'groupby', 'islice', 'permutations', 'product', 'repeat', 'starmap', 'takewhile', 'tee', 'zip_longest']\n"
     ]
    }
   ],
   "source": [
    "import itertools\n",
    "\n",
    "print(dir(itertools))"
   ]
  },
  {
   "cell_type": "code",
   "execution_count": 2,
   "metadata": {},
   "outputs": [],
   "source": [
    "# Τα ακόλουθα παραδείγματα είναι από τη "
   ]
  },
  {
   "cell_type": "code",
   "execution_count": 3,
   "metadata": {},
   "outputs": [
    {
     "output_type": "stream",
     "name": "stdout",
     "text": [
      "0\n1\n2\n3\n4\n5\n"
     ]
    }
   ],
   "source": [
    "# count - μετρητής\n",
    "\n",
    "counter = itertools.count()\n",
    "\n",
    "for i in counter:\n",
    "    if i > 5:\n",
    "        break\n",
    "    print(i)"
   ]
  },
  {
   "cell_type": "code",
   "execution_count": 4,
   "metadata": {},
   "outputs": [
    {
     "output_type": "execute_result",
     "data": {
      "text/plain": [
       "[(0, 23), (1, 45), (2, 34), (3, 77)]"
      ]
     },
     "metadata": {},
     "execution_count": 4
    }
   ],
   "source": [
    "# παράδειγμα χρήσης του itertools.count()\n",
    "# προσθήκη δεικτών στα στοιχεία λίστας\n",
    "\n",
    "a_list = [23, 45, 34, 77]\n",
    "b_list = list(zip(itertools.count(), a_list))\n",
    "b_list"
   ]
  },
  {
   "cell_type": "code",
   "execution_count": 5,
   "metadata": {},
   "outputs": [
    {
     "output_type": "stream",
     "name": "stdout",
     "text": [
      "5\n5.5\n6.0\n"
     ]
    }
   ],
   "source": [
    "# ορισμός αρχικής τιμής και βήματος στον μετρητή\n",
    "\n",
    "counter = itertools.count(start=5, step=0.5)\n",
    "print(next(counter))\n",
    "print(next(counter))\n",
    "print(next(counter))"
   ]
  },
  {
   "cell_type": "code",
   "execution_count": 6,
   "metadata": {},
   "outputs": [
    {
     "output_type": "execute_result",
     "data": {
      "text/plain": [
       "[(23, 0),\n",
       " (45, 1),\n",
       " (34, 2),\n",
       " (77, 3),\n",
       " (None, 4),\n",
       " (None, 5),\n",
       " (None, 6),\n",
       " (None, 7),\n",
       " (None, 8),\n",
       " (None, 9)]"
      ]
     },
     "metadata": {},
     "execution_count": 6
    }
   ],
   "source": [
    "# zip_longest - συμπληρώνει με None για τα στοιχεία που δεν βρίσκει αντίστοιχα στη μικρότερη λίστα\n",
    "\n",
    "a_list = [23, 45, 34, 77]\n",
    "list(itertools.zip_longest(a_list, range(10)))"
   ]
  },
  {
   "cell_type": "code",
   "execution_count": 7,
   "metadata": {},
   "outputs": [
    {
     "output_type": "stream",
     "name": "stdout",
     "text": [
      "ON\nOFF\nON\nOFF\n"
     ]
    }
   ],
   "source": [
    "# cycle\n",
    "\n",
    "counter = itertools.cycle([\"ON\", \"OFF\"])\n",
    "print(next(counter))\n",
    "print(next(counter))\n",
    "print(next(counter))\n",
    "print(next(counter))"
   ]
  },
  {
   "cell_type": "code",
   "execution_count": 8,
   "metadata": {},
   "outputs": [
    {
     "output_type": "stream",
     "name": "stdout",
     "text": [
      "42\n42\n42\n"
     ]
    }
   ],
   "source": [
    "# repeat\n",
    "\n",
    "counter = itertools.repeat(42, times = 3)\n",
    "\n",
    "print(next(counter))\n",
    "print(next(counter))\n",
    "print(next(counter))\n",
    "# print(next(counter)) # StopIteration "
   ]
  },
  {
   "cell_type": "code",
   "execution_count": 9,
   "metadata": {},
   "outputs": [
    {
     "output_type": "stream",
     "name": "stdout",
     "text": [
      "[0, 1, 4, 9]\n[0, 1, 4, 9]\n"
     ]
    }
   ],
   "source": [
    "# starmap (δέχεται ως όρισμα μια λίστα με tuples)\n",
    "\n",
    "list(itertools.starmap(pow, [(0,2), (1,2), (2,2), (3,2)]))\n",
    "\n",
    "# ισοδύναμο αποτέλεσμα με την map η οποία δέχεται ως ορίσματα iterables\n",
    "\n",
    "print(list(map(pow, [0,1,2,3], [2,2,2,2])))\n",
    "print(list(map(pow, [0,1,2,3], itertools.repeat(2))))"
   ]
  },
  {
   "cell_type": "code",
   "execution_count": 10,
   "metadata": {},
   "outputs": [
    {
     "output_type": "stream",
     "name": "stdout",
     "text": [
      "[('a', 'b'), ('a', 'c'), ('a', 'd'), ('b', 'c'), ('b', 'd'), ('c', 'd')]\n"
     ]
    }
   ],
   "source": [
    "# combinations (η σειρά δεν έχει έχει σημασία)\n",
    "# συνδυασμοί γραμμάτων ανά δύο\n",
    "\n",
    "letters = ['a', 'b', 'c', 'd']\n",
    "result = itertools.combinations(letters, 2)\n",
    "print(list(result))"
   ]
  },
  {
   "cell_type": "code",
   "execution_count": 11,
   "metadata": {},
   "outputs": [
    {
     "output_type": "stream",
     "name": "stdout",
     "text": [
      "[('a', 'b'), ('a', 'c'), ('a', 'd'), ('b', 'a'), ('b', 'c'), ('b', 'd'), ('c', 'a'), ('c', 'b'), ('c', 'd'), ('d', 'a'), ('d', 'b'), ('d', 'c')]\n"
     ]
    }
   ],
   "source": [
    "# permutations (η σειρά έχει σημασία)\n",
    "# διατάξεις γραμμάτων ανά δύο\n",
    "\n",
    "letters = ['a', 'b', 'c', 'd']\n",
    "result = itertools.permutations(letters, 2)\n",
    "print(list(result))"
   ]
  },
  {
   "cell_type": "code",
   "execution_count": 12,
   "metadata": {},
   "outputs": [
    {
     "output_type": "stream",
     "name": "stdout",
     "text": [
      "[(0, 0, 0), (0, 0, 1), (0, 0, 2), (0, 1, 0), (0, 1, 1), (0, 1, 2), (0, 2, 0), (0, 2, 1), (0, 2, 2), (1, 0, 0), (1, 0, 1), (1, 0, 2), (1, 1, 0), (1, 1, 1), (1, 1, 2), (1, 2, 0), (1, 2, 1), (1, 2, 2), (2, 0, 0), (2, 0, 1), (2, 0, 2), (2, 1, 0), (2, 1, 1), (2, 1, 2), (2, 2, 0), (2, 2, 1), (2, 2, 2)]\n"
     ]
    }
   ],
   "source": [
    "# product \n",
    "# καρτεσιανό γινόμενο [0,1,2] Χ [0,1,2] Χ [0,1,2]\n",
    "\n",
    "numbers = [0,1,2]\n",
    "result = itertools.product(numbers, repeat = 3)\n",
    "print(list(result))"
   ]
  },
  {
   "cell_type": "code",
   "execution_count": 13,
   "metadata": {},
   "outputs": [
    {
     "output_type": "stream",
     "name": "stdout",
     "text": [
      "[(0, 0, 0), (0, 0, 1), (0, 0, 2), (0, 1, 1), (0, 1, 2), (0, 2, 2), (1, 1, 1), (1, 1, 2), (1, 2, 2), (2, 2, 2)]\n"
     ]
    }
   ],
   "source": [
    "# combinations_with_replacement\n",
    "# συνδυασμοί με μήκος 3, επιτρέπεται η επανάληψη στοιχείων\n",
    "\n",
    "numbers = [0,1,2]\n",
    "result = itertools.combinations_with_replacement(numbers, 3)\n",
    "print(list(result))"
   ]
  },
  {
   "cell_type": "code",
   "execution_count": 14,
   "metadata": {},
   "outputs": [
    {
     "output_type": "stream",
     "name": "stdout",
     "text": [
      "a\nb\nc\n0\n1\n2\n"
     ]
    }
   ],
   "source": [
    "# chain\n",
    "\n",
    "letters = ['a', 'b', 'c']\n",
    "numbers = [0, 1, 2]\n",
    "\n",
    "combined = letters + numbers # η νέα λίστα δημιουργείται στη μνήμη, αν οι επιμέρους λίστες είναι μεγάλες τότε έχουμε σπατάλη μνήμης\n",
    "\n",
    "combined2 = itertools.chain(letters, numbers) # αποδοτικό για μεγάλες λίστες\n",
    "for i in combined2:\n",
    "    print(i)"
   ]
  },
  {
   "cell_type": "code",
   "execution_count": 15,
   "metadata": {},
   "outputs": [
    {
     "output_type": "stream",
     "name": "stdout",
     "text": [
      "1\n3\n5\n7\n9\n"
     ]
    }
   ],
   "source": [
    "# islice\n",
    "\n",
    "result = itertools.islice(range(10),1,10,2)\n",
    "\n",
    "for i in result:\n",
    "    print(i)"
   ]
  },
  {
   "cell_type": "code",
   "execution_count": 16,
   "metadata": {},
   "outputs": [
    {
     "output_type": "stream",
     "name": "stdout",
     "text": [
      "a\nb\nd\n"
     ]
    }
   ],
   "source": [
    "# compress\n",
    "\n",
    "letters = ['a', 'b', 'c', 'd']\n",
    "selectors = [True, True, False, True]\n",
    "\n",
    "results = itertools.compress(letters, selectors)\n",
    "\n",
    "for i in results:\n",
    "    print(i)"
   ]
  },
  {
   "cell_type": "code",
   "execution_count": 17,
   "metadata": {},
   "outputs": [
    {
     "output_type": "stream",
     "name": "stdout",
     "text": [
      "1\n3\n6\n10\n15\n########################################\n1\n2\n6\n24\n120\n"
     ]
    }
   ],
   "source": [
    "# accumulate\n",
    "\n",
    "import operator\n",
    "\n",
    "numbers = [1, 2, 3, 4, 5]\n",
    "\n",
    "results = itertools.accumulate(numbers)\n",
    "\n",
    "for i in results:\n",
    "    print(i)\n",
    "\n",
    "print('#' * 40)\n",
    "\n",
    "results = itertools.accumulate(numbers, operator.mul)\n",
    "\n",
    "for i in results:\n",
    "    print(i)"
   ]
  },
  {
   "cell_type": "code",
   "execution_count": 18,
   "metadata": {},
   "outputs": [
    {
     "output_type": "stream",
     "name": "stdout",
     "text": [
      "NY <itertools._grouper object at 0x0000023CD671C040>\nAthens <itertools._grouper object at 0x0000023CD6706340>\n########################################\nNY\nJohn\nJane\n\nAthens\nBob\nAnna\n\n"
     ]
    }
   ],
   "source": [
    "# groupby\n",
    "\n",
    "people = [\n",
    "    {\n",
    "        'name':'John',\n",
    "        'city':'NY'\n",
    "    },\n",
    "    {\n",
    "        'name':'Jane',\n",
    "        'city':'NY'\n",
    "    }, \n",
    "    {\n",
    "        'name':'Bob',\n",
    "        'city':'Athens'\n",
    "    },\n",
    "    {\n",
    "        'name':'Anna',\n",
    "        'city':'Athens'\n",
    "    }\n",
    "]\n",
    "\n",
    "def get_city(person):\n",
    "    return person['city']\n",
    "\n",
    "person_group = itertools.groupby(people, get_city)\n",
    "\n",
    "for k, g in person_group:\n",
    "    print(k,g)\n",
    "\n",
    "print(\"#\"*40)\n",
    "\n",
    "person_group = itertools.groupby(people, get_city)\n",
    "\n",
    "for k, g in person_group:\n",
    "    print(k)\n",
    "    for p in g:\n",
    "        print(p['name'])\n",
    "    print()"
   ]
  },
  {
   "cell_type": "code",
   "execution_count": 19,
   "metadata": {},
   "outputs": [
    {
     "output_type": "stream",
     "name": "stdout",
     "text": [
      "1\n2\n3\n4\n5\n########################################\n1\n2\n3\n4\n5\n"
     ]
    }
   ],
   "source": [
    "# tee \n",
    "\n",
    "numbers = [1, 2, 3, 4, 5]\n",
    "\n",
    "copy1, copy2 = itertools.tee(numbers)\n",
    "\n",
    "for i in copy1:\n",
    "    print(i)\n",
    "\n",
    "print(\"#\"*40)\n",
    "\n",
    "for i in copy2:\n",
    "    print(i)"
   ]
  },
  {
   "cell_type": "code",
   "execution_count": null,
   "metadata": {},
   "outputs": [],
   "source": []
  }
 ]
}