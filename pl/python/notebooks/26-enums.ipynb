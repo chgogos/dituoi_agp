{
 "metadata": {
  "language_info": {
   "codemirror_mode": {
    "name": "ipython",
    "version": 3
   },
   "file_extension": ".py",
   "mimetype": "text/x-python",
   "name": "python",
   "nbconvert_exporter": "python",
   "pygments_lexer": "ipython3",
   "version": "3.8.0"
  },
  "orig_nbformat": 2,
  "kernelspec": {
   "name": "python380jvsc74a57bd02334294e789e06453e89f7d5c3c2573679701f9bb5b76ad2158f91cca5c9244c",
   "display_name": "Python 3.8.0 64-bit ('3.8.0-amd64': pyenv)"
  }
 },
 "nbformat": 4,
 "nbformat_minor": 2,
 "cells": [
  {
   "source": [
    "    Τμήμα Πληροφορικής και Τηλεπικοινωνιών - Άρτα \n",
    "    Πανεπιστήμιο Ιωαννίνων \n",
    "\n",
    "    Γκόγκος Χρήστος \n",
    "    http://chgogos.github.io/\n",
    "    Εαρινό εξάμηνο 2020-2021"
   ],
   "cell_type": "markdown",
   "metadata": {}
  },
  {
   "source": [
    "# Enums\n",
    "\n",
    "Τα Enums (enumerations) είναι συμβολικά ονόματα που μπορούν να χρησιμοποιηθούν στη θέση σταθερών"
   ],
   "cell_type": "markdown",
   "metadata": {}
  },
  {
   "cell_type": "code",
   "execution_count": 1,
   "metadata": {},
   "outputs": [
    {
     "output_type": "stream",
     "name": "stdout",
     "text": [
      "Days.Wed\n<enum 'Days'>\n<Days.Wed: 4>\nWed\n4\nTrue\nTrue\nDays.Sat\nDays.Sat\nDays.Sat\n"
     ]
    }
   ],
   "source": [
    "import enum\n",
    "\n",
    "class Days(enum.Enum):\n",
    "    Sun = 1\n",
    "    Mon = 2\n",
    "    Tue = 3\n",
    "    Wed = 4\n",
    "    Thu = 5\n",
    "    Fri = 6\n",
    "    Sat = 7\n",
    "\n",
    "a_day = Days.Wed\n",
    "print(a_day)\n",
    "print(type(a_day))\n",
    "print(repr(a_day))\n",
    "print(a_day.name)\n",
    "print(a_day.value)\n",
    "print(a_day in Days)\n",
    "print(Days.Wed != Days.Mon)\n",
    "\n",
    "# 3 εναλλακτικοί τρόποι εμφάνισης μιας enum τιμής\n",
    "print(Days.Sat)\n",
    "print(Days['Sat'])\n",
    "print(Days(7))"
   ]
  },
  {
   "cell_type": "code",
   "execution_count": 2,
   "metadata": {},
   "outputs": [
    {
     "output_type": "stream",
     "name": "stdout",
     "text": [
      "Days.Sun Sun 1\nDays.Mon Mon 2\nDays.Tue Tue 3\nDays.Wed Wed 4\nDays.Thu Thu 5\nDays.Fri Fri 6\nDays.Sat Sat 7\n"
     ]
    }
   ],
   "source": [
    "# Διάσχιση enumeration\n",
    "\n",
    "for day in Days:\n",
    "    print(day, day.name, day.value)"
   ]
  },
  {
   "cell_type": "code",
   "execution_count": 3,
   "metadata": {},
   "outputs": [
    {
     "output_type": "stream",
     "name": "stdout",
     "text": [
      "{<Days.Mon: 2>: 'Python', <Days.Tue: 3>: 'C++', <Days.Wed: 4>: 'Python', <Days.Thu: 5>: 'Haskell', <Days.Fri: 6>: 'Haskell'}\n"
     ]
    }
   ],
   "source": [
    "# Τα enums μπορούν να χρησιμοποιηθούν ως κλειδιά σε λεξικά και σύνολα καθώς είναι hashable\n",
    "\n",
    "study = {}\n",
    "\n",
    "study[Days.Mon] = 'Python'\n",
    "study[Days.Tue] = 'C++'\n",
    "study[Days.Wed] = 'Python'\n",
    "study[Days.Thu] = 'Haskell'\n",
    "study[Days.Fri] = 'Haskell'\n",
    "\n",
    "print(study)"
   ]
  },
  {
   "cell_type": "code",
   "execution_count": null,
   "metadata": {},
   "outputs": [],
   "source": []
  }
 ]
}