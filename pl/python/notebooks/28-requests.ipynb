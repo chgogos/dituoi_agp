{
 "metadata": {
  "language_info": {
   "codemirror_mode": {
    "name": "ipython",
    "version": 3
   },
   "file_extension": ".py",
   "mimetype": "text/x-python",
   "name": "python",
   "nbconvert_exporter": "python",
   "pygments_lexer": "ipython3",
   "version": "3.8.0-final"
  },
  "orig_nbformat": 2,
  "kernelspec": {
   "name": "python3",
   "display_name": "Python 3.8.0 64-bit",
   "metadata": {
    "interpreter": {
     "hash": "2334294e789e06453e89f7d5c3c2573679701f9bb5b76ad2158f91cca5c9244c"
    }
   }
  }
 },
 "nbformat": 4,
 "nbformat_minor": 2,
 "cells": [
  {
   "source": [
    "    Τμήμα Πληροφορικής και Τηλεπικοινωνιών - Άρτα \n",
    "    Πανεπιστήμιο Ιωαννίνων \n",
    "\n",
    "    Γκόγκος Χρήστος \n",
    "    http://chgogos.github.io/\n",
    "    Εαρινό εξάμηνο 2020-2021"
   ],
   "cell_type": "markdown",
   "metadata": {}
  },
  {
   "source": [
    "# requests (HTTP for Humans)\n",
    "\n",
    "Η requests είναι μια HTTP βιβλιοθήκη μέσω της οποίας μπορεί να πραγματοποιηθούν οι ενέργειες get, post, delete και update σε URLs. Επιπλέον, παρέχει δυνατότητες για χειρισμό cookies, sessions και authentication."
   ],
   "cell_type": "markdown",
   "metadata": {}
  },
  {
   "cell_type": "code",
   "execution_count": null,
   "metadata": {},
   "outputs": [],
   "source": [
    "! pip install requests"
   ]
  },
  {
   "cell_type": "code",
   "execution_count": 1,
   "metadata": {},
   "outputs": [
    {
     "output_type": "stream",
     "name": "stdout",
     "text": [
      "<Response [200]>\n['__attrs__', '__bool__', '__class__', '__delattr__', '__dict__', '__dir__', '__doc__', '__enter__', '__eq__', '__exit__', '__format__', '__ge__', '__getattribute__', '__getstate__', '__gt__', '__hash__', '__init__', '__init_subclass__', '__iter__', '__le__', '__lt__', '__module__', '__ne__', '__new__', '__nonzero__', '__reduce__', '__reduce_ex__', '__repr__', '__setattr__', '__setstate__', '__sizeof__', '__str__', '__subclasshook__', '__weakref__', '_content', '_content_consumed', '_next', 'apparent_encoding', 'close', 'connection', 'content', 'cookies', 'elapsed', 'encoding', 'headers', 'history', 'is_permanent_redirect', 'is_redirect', 'iter_content', 'iter_lines', 'json', 'links', 'next', 'ok', 'raise_for_status', 'raw', 'reason', 'request', 'status_code', 'text', 'url']\n"
     ]
    }
   ],
   "source": [
    "import requests\n",
    "\n",
    "resp = requests.get('https://www.dit.uoi.gr/members.php')\n",
    "\n",
    "print(resp)\n",
    "print(dir(resp))"
   ]
  },
  {
   "cell_type": "code",
   "execution_count": null,
   "metadata": {},
   "outputs": [],
   "source": [
    "resp.text[:100]"
   ]
  },
  {
   "cell_type": "code",
   "execution_count": 3,
   "metadata": {},
   "outputs": [],
   "source": [
    "r = requests.get('https://upload.wikimedia.org/wikipedia/commons/9/99/ClaudeShannon_MFO3807.jpg')\n",
    "with open('wiki.jpg', 'wb') as f:\n",
    "    f.write(r.content)"
   ]
  },
  {
   "cell_type": "code",
   "execution_count": 4,
   "metadata": {},
   "outputs": [
    {
     "output_type": "stream",
     "name": "stdout",
     "text": [
      "200\n{'Date': 'Mon, 29 Mar 2021 14:14:37 GMT', 'Etag': 'cf987164fbc21a5225e5873cf46f28ba', 'Server': 'ATS/8.0.8', 'Content-Type': 'image/jpeg', 'Content-Length': '62785', 'X-Object-Meta-Sha1Base36': 'hii81jn0jlg4ru9r03jtgl12ssg4nth', 'Last-Modified': 'Sat, 22 Jun 2019 22:37:28 GMT', 'X-Timestamp': '1561243047.13068', 'Age': '5', 'X-Cache': 'cp3059 hit, cp3051 hit/1', 'X-Cache-Status': 'hit-front', 'Server-Timing': 'cache;desc=\"hit-front\", host;desc=\"cp3051\"', 'Strict-Transport-Security': 'max-age=106384710; includeSubDomains; preload', 'Report-To': '{ \"group\": \"wm_nel\", \"max_age\": 86400, \"endpoints\": [{ \"url\": \"https://intake-logging.wikimedia.org/v1/events?stream=w3c.reportingapi.network_error&schema_uri=/w3c/reportingapi/network_error/1.0.0\" }] }', 'NEL': '{ \"report_to\": \"wm_nel\", \"max_age\": 86400, \"failure_fraction\": 0.05, \"success_fraction\": 0.0}', 'X-Client-IP': '2a02:2149:880a:4f00:2851:fb98:7210:ee19', 'Access-Control-Allow-Origin': '*', 'Access-Control-Expose-Headers': 'Age, Date, Content-Length, Content-Range, X-Content-Duration, X-Cache', 'Timing-Allow-Origin': '*', 'Accept-Ranges': 'bytes', 'Connection': 'keep-alive'}\n"
     ]
    }
   ],
   "source": [
    "print(r.status_code)\n",
    "print(r.headers)"
   ]
  },
  {
   "cell_type": "code",
   "execution_count": 5,
   "metadata": {},
   "outputs": [
    {
     "output_type": "stream",
     "name": "stdout",
     "text": [
      "https://httpbin.org/get?page=2&count=25\n{\n  \"args\": {\n    \"count\": \"25\", \n    \"page\": \"2\"\n  }, \n  \"headers\": {\n    \"Accept\": \"*/*\", \n    \"Accept-Encoding\": \"gzip, deflate\", \n    \"Host\": \"httpbin.org\", \n    \"User-Agent\": \"python-requests/2.25.1\", \n    \"X-Amzn-Trace-Id\": \"Root=1-6061e0da-694201431347ef7f301519b5\"\n  }, \n  \"origin\": \"188.4.70.44\", \n  \"url\": \"https://httpbin.org/get?page=2&count=25\"\n}\n\n"
     ]
    }
   ],
   "source": [
    "# httpbin.org testing site\n",
    "\n",
    "import requests\n",
    "\n",
    "payload = {'page':2, 'count':25}\n",
    "r = requests.get('https://httpbin.org/get', params=payload)\n",
    "\n",
    "print(r.url)\n",
    "print(r.text)"
   ]
  },
  {
   "cell_type": "code",
   "execution_count": 6,
   "metadata": {},
   "outputs": [
    {
     "output_type": "stream",
     "name": "stdout",
     "text": [
      "https://httpbin.org/post\n{\n  \"args\": {}, \n  \"data\": \"\", \n  \"files\": {}, \n  \"form\": {\n    \"password\": \"testing\", \n    \"username\": \"john\"\n  }, \n  \"headers\": {\n    \"Accept\": \"*/*\", \n    \"Accept-Encoding\": \"gzip, deflate\", \n    \"Content-Length\": \"30\", \n    \"Content-Type\": \"application/x-www-form-urlencoded\", \n    \"Host\": \"httpbin.org\", \n    \"User-Agent\": \"python-requests/2.25.1\", \n    \"X-Amzn-Trace-Id\": \"Root=1-6061e0db-575625253c5aef915a5b53ba\"\n  }, \n  \"json\": null, \n  \"origin\": \"188.4.70.44\", \n  \"url\": \"https://httpbin.org/post\"\n}\n\n{'args': {}, 'data': '', 'files': {}, 'form': {'password': 'testing', 'username': 'john'}, 'headers': {'Accept': '*/*', 'Accept-Encoding': 'gzip, deflate', 'Content-Length': '30', 'Content-Type': 'application/x-www-form-urlencoded', 'Host': 'httpbin.org', 'User-Agent': 'python-requests/2.25.1', 'X-Amzn-Trace-Id': 'Root=1-6061e0db-575625253c5aef915a5b53ba'}, 'json': None, 'origin': '188.4.70.44', 'url': 'https://httpbin.org/post'}\n{'password': 'testing', 'username': 'john'}\n"
     ]
    }
   ],
   "source": [
    "import requests\n",
    "\n",
    "payload = {'username':'john', 'password':'testing'}\n",
    "r = requests.post('https://httpbin.org/post', data=payload)\n",
    "\n",
    "print(r.url)\n",
    "print(r.text)\n",
    "print(r.json())\n",
    "\n",
    "r_dict = r.json()\n",
    "\n",
    "print(r_dict['form'])"
   ]
  },
  {
   "cell_type": "code",
   "execution_count": 7,
   "metadata": {},
   "outputs": [
    {
     "output_type": "stream",
     "name": "stdout",
     "text": [
      "{\n  \"authenticated\": true, \n  \"user\": \"john\"\n}\n\n<Response [200]>\n"
     ]
    }
   ],
   "source": [
    "# authentication (basic-auth)\n",
    "\n",
    "# https://hhtpbin.org/basic-auth/john/1234\n",
    "\n",
    "import requests\n",
    "\n",
    "r = requests.get('https://httpbin.org/basic-auth/john/1234', auth=('john', '1234'))\n",
    "\n",
    "print(r.text)\n",
    "print(r)\n"
   ]
  },
  {
   "cell_type": "code",
   "execution_count": 12,
   "metadata": {},
   "outputs": [
    {
     "output_type": "stream",
     "name": "stdout",
     "text": [
      "Timeout\n"
     ]
    }
   ],
   "source": [
    "# timeout \n",
    "\n",
    "import requests\n",
    "\n",
    "try:\n",
    "    r = requests.get('https://httpbin.org/delay/5', timeout=3)\n",
    "    print(r.text)\n",
    "    print(r)\n",
    "except requests.exceptions.ReadTimeout:\n",
    "    print(\"Timeout\")"
   ]
  },
  {
   "cell_type": "code",
   "execution_count": null,
   "metadata": {},
   "outputs": [],
   "source": []
  }
 ]
}