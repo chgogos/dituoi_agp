{
 "metadata": {
  "language_info": {
   "codemirror_mode": {
    "name": "ipython",
    "version": 3
   },
   "file_extension": ".py",
   "mimetype": "text/x-python",
   "name": "python",
   "nbconvert_exporter": "python",
   "pygments_lexer": "ipython3",
   "version": "3.8.0"
  },
  "orig_nbformat": 2,
  "kernelspec": {
   "name": "python380jvsc74a57bd02334294e789e06453e89f7d5c3c2573679701f9bb5b76ad2158f91cca5c9244c",
   "display_name": "Python 3.8.0 64-bit"
  }
 },
 "nbformat": 4,
 "nbformat_minor": 2,
 "cells": [
  {
   "source": [
    "    Τμήμα Πληροφορικής και Τηλεπικοινωνιών - Άρτα \n",
    "    Πανεπιστήμιο Ιωαννίνων \n",
    "\n",
    "    Γκόγκος Χρήστος \n",
    "    http://chgogos.github.io/\n",
    "    Εαρινό εξάμηνο 2020-2021"
   ],
   "cell_type": "markdown",
   "metadata": {}
  },
  {
   "source": [
    "# Beautiful Soup 4\n",
    "\n"
   ],
   "cell_type": "markdown",
   "metadata": {}
  },
  {
   "cell_type": "code",
   "execution_count": null,
   "metadata": {},
   "outputs": [],
   "source": [
    "# Εγκατάσταση του Beautiful Soup 4\n",
    "\n",
    "! pip install beautifulsoup4"
   ]
  },
  {
   "cell_type": "code",
   "execution_count": 1,
   "metadata": {},
   "outputs": [
    {
     "output_type": "stream",
     "name": "stdout",
     "text": [
      "['BeautifulSoup', 'BeautifulStoneSoup', 'CData', 'Comment', 'Counter', 'DEFAULT_OUTPUT_ENCODING', 'Declaration', 'Doctype', 'FeatureNotFound', 'GuessedAtParserWarning', 'MarkupResemblesLocatorWarning', 'NavigableString', 'PYTHON_SPECIFIC_ENCODINGS', 'PageElement', 'ParserRejectedMarkup', 'ProcessingInstruction', 'ResultSet', 'Script', 'SoupStrainer', 'StopParsing', 'Stylesheet', 'Tag', 'TemplateString', 'UnicodeDammit', '__all__', '__author__', '__builtins__', '__cached__', '__copyright__', '__doc__', '__file__', '__license__', '__loader__', '__name__', '__package__', '__path__', '__spec__', '__version__', '_s', '_soup', 'builder', 'builder_registry', 'dammit', 'element', 'formatter', 'os', 're', 'sys', 'traceback', 'warnings']\n"
     ]
    }
   ],
   "source": [
    "import bs4\n",
    "print(dir(bs4))"
   ]
  },
  {
   "cell_type": "code",
   "execution_count": 2,
   "metadata": {},
   "outputs": [
    {
     "output_type": "stream",
     "name": "stdout",
     "text": [
      "['ASCII_SPACES', 'DEFAULT_BUILDER_FEATURES', 'NO_PARSER_SPECIFIED_WARNING', 'ROOT_TAG_NAME', '__bool__', '__call__', '__class__', '__contains__', '__copy__', '__delattr__', '__delitem__', '__dict__', '__dir__', '__doc__', '__eq__', '__format__', '__ge__', '__getattr__', '__getattribute__', '__getitem__', '__getstate__', '__gt__', '__hash__', '__init__', '__init_subclass__', '__iter__', '__le__', '__len__', '__lt__', '__module__', '__ne__', '__new__', '__reduce__', '__reduce_ex__', '__repr__', '__setattr__', '__setitem__', '__sizeof__', '__str__', '__subclasshook__', '__unicode__', '__weakref__', '_all_strings', '_check_markup_is_url', '_decode_markup', '_feed', '_find_all', '_find_one', '_is_xml', '_lastRecursiveChild', '_last_descendant', '_linkage_fixer', '_popToTag', '_should_pretty_print', 'append', 'childGenerator', 'children', 'clear', 'decode', 'decode_contents', 'decompose', 'decomposed', 'descendants', 'encode', 'encode_contents', 'endData', 'extend', 'extract', 'fetchNextSiblings', 'fetchParents', 'fetchPrevious', 'fetchPreviousSiblings', 'find', 'findAll', 'findAllNext', 'findAllPrevious', 'findChild', 'findChildren', 'findNext', 'findNextSibling', 'findNextSiblings', 'findParent', 'findParents', 'findPrevious', 'findPreviousSibling', 'findPreviousSiblings', 'find_all', 'find_all_next', 'find_all_previous', 'find_next', 'find_next_sibling', 'find_next_siblings', 'find_parent', 'find_parents', 'find_previous', 'find_previous_sibling', 'find_previous_siblings', 'format_string', 'formatter_for_name', 'get', 'getText', 'get_attribute_list', 'get_text', 'handle_data', 'handle_endtag', 'handle_starttag', 'has_attr', 'has_key', 'index', 'insert', 'insert_after', 'insert_before', 'isSelfClosing', 'is_empty_element', 'new_string', 'new_tag', 'next', 'nextGenerator', 'nextSibling', 'nextSiblingGenerator', 'next_elements', 'next_siblings', 'object_was_parsed', 'parentGenerator', 'parents', 'parserClass', 'popTag', 'prettify', 'previous', 'previousGenerator', 'previousSibling', 'previousSiblingGenerator', 'previous_elements', 'previous_siblings', 'pushTag', 'recursiveChildGenerator', 'renderContents', 'replaceWith', 'replaceWithChildren', 'replace_with', 'replace_with_children', 'reset', 'select', 'select_one', 'setup', 'smooth', 'string', 'string_container', 'strings', 'stripped_strings', 'text', 'unwrap', 'wrap']\n"
     ]
    }
   ],
   "source": [
    "from bs4 import BeautifulSoup\n",
    "print(dir(BeautifulSoup))"
   ]
  },
  {
   "source": [
    "## Scraping πινάκων \n",
    "\n",
    "<https://webscraper.io/test-sites/tables>"
   ],
   "cell_type": "markdown",
   "metadata": {}
  },
  {
   "cell_type": "code",
   "execution_count": 3,
   "metadata": {},
   "outputs": [
    {
     "output_type": "stream",
     "name": "stdout",
     "text": [
      "<Response [200]>\n<!DOCTYPE html>\n<html lang=\"en\">\n<head>\n\n\t\t\t<!-- Anti-flicker snippet (recommended)  -->\n<style>.asy\n"
     ]
    }
   ],
   "source": [
    "import requests\n",
    "resp = requests.get('https://webscraper.io/test-sites/tables')\n",
    "print(resp)\n",
    "print(resp.text[:100])"
   ]
  },
  {
   "cell_type": "code",
   "execution_count": 4,
   "metadata": {},
   "outputs": [
    {
     "output_type": "stream",
     "name": "stdout",
     "text": [
      "<table class=\"table table-bordered\">\n<thead>\n<tr>\n<th>#</th>\n<th>First Name</th>\n<th>Last Name</th>\n<th>Username</th>\n</tr>\n</thead>\n<tbody>\n<tr>\n<td>1</td>\n<td>Mark</td>\n<td>Otto</td>\n<td>@mdo</td>\n</tr>\n<tr>\n<td>2</td>\n<td>Jacob</td>\n<td>Thornton</td>\n<td>@fat</td>\n</tr>\n<tr>\n<td>3</td>\n<td>Larry</td>\n<td>the Bird</td>\n<td>@twitter</td>\n</tr>\n</tbody>\n</table>\n"
     ]
    }
   ],
   "source": [
    "# Λήψη της HTML για τον πρώτο πίνακα της σελίδας https://webscraper.io/test-sites/tables\n",
    "\n",
    "from bs4 import BeautifulSoup\n",
    "\n",
    "soup = BeautifulSoup(resp.text, features='lxml')\n",
    "first_table = soup.findAll('table')[0]\n",
    "print(first_table)"
   ]
  },
  {
   "cell_type": "code",
   "execution_count": 5,
   "metadata": {},
   "outputs": [
    {
     "output_type": "stream",
     "name": "stdout",
     "text": [
      "1 Mark Otto @mdo\n2 Jacob Thornton @fat\n3 Larry the Bird @twitter\n"
     ]
    }
   ],
   "source": [
    "# scraping των δεδομένων του πρώτου πίνακα της σελίδας https://webscraper.io/test-sites/tables\n",
    "\n",
    "from bs4 import BeautifulSoup\n",
    "\n",
    "soup = BeautifulSoup(resp.text)\n",
    "first_table = soup.findAll('table')[0]\n",
    "\n",
    "for tr in first_table.tbody.findAll(\"tr\"):\n",
    "    cells = tr.findAll(\"td\")\n",
    "    print(cells[0].text, cells[1].text, cells[2].text, cells[3].text)"
   ]
  },
  {
   "cell_type": "code",
   "execution_count": null,
   "metadata": {},
   "outputs": [],
   "source": []
  }
 ]
}