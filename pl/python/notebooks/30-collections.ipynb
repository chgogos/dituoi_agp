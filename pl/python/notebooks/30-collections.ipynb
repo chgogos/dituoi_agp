{
 "metadata": {
  "language_info": {
   "codemirror_mode": {
    "name": "ipython",
    "version": 3
   },
   "file_extension": ".py",
   "mimetype": "text/x-python",
   "name": "python",
   "nbconvert_exporter": "python",
   "pygments_lexer": "ipython3",
   "version": "3.8.0"
  },
  "orig_nbformat": 2,
  "kernelspec": {
   "name": "python380jvsc74a57bd02334294e789e06453e89f7d5c3c2573679701f9bb5b76ad2158f91cca5c9244c",
   "display_name": "Python 3.8.0 64-bit ('3.8.0-amd64': pyenv)"
  }
 },
 "nbformat": 4,
 "nbformat_minor": 2,
 "cells": [
  {
   "source": [
    "    Τμήμα Πληροφορικής και Τηλεπικοινωνιών - Άρτα \n",
    "    Πανεπιστήμιο Ιωαννίνων \n",
    "\n",
    "    Γκόγκος Χρήστος \n",
    "    http://chgogos.github.io/\n",
    "    Εαρινό εξάμηνο 2020-2021\n",
    "\n",
    "# Collections module\n",
    "\n",
    "Πέρα από containers όπως τα list, tuple, dict και set, το module collections (πρωτοεμφανίστηκε στην Python 2.4) παρέχει τη δυνατότητα χρήσης επιπλέον δομών δεδομένων. Τέτοιες δομές είναι οι ακόλουθες:\n",
    "\n",
    "* Counter\n",
    "* ChainMap\n",
    "* defaultdict\n",
    "* deque\n",
    "* namedtuple\n",
    "* OrderedDict"
   ],
   "cell_type": "markdown",
   "metadata": {}
  },
  {
   "source": [
    "## Counter"
   ],
   "cell_type": "markdown",
   "metadata": {}
  },
  {
   "cell_type": "code",
   "execution_count": 11,
   "metadata": {},
   "outputs": [
    {
     "output_type": "stream",
     "name": "stdout",
     "text": [
      "Counter({4: 5, 3: 2, 5: 2, 7: 2, 8: 2, 1: 1, 2: 1})\n5\n[(4, 5), (3, 2)]\n[4, 4, 4, 4, 4, 1, 3, 3, 5, 5, 7, 7, 8, 8, 2]\n"
     ]
    }
   ],
   "source": [
    "from collections import Counter\n",
    "\n",
    "a_list = [4,1,3,4,5,7,8,3,2,4,5,7,8,4,4]\n",
    "counts = Counter(a_list)\n",
    "print(counts)\n",
    "print(counts[4])\n",
    "print(counts.most_common(2))\n",
    "print(list(counts.elements()))"
   ]
  },
  {
   "source": [
    "## ChainMap\n",
    "\n",
    "Συνδυάζει πολλά λεξικά σε μια δομή.\n"
   ],
   "cell_type": "markdown",
   "metadata": {}
  },
  {
   "cell_type": "code",
   "execution_count": 52,
   "metadata": {},
   "outputs": [
    {
     "output_type": "stream",
     "name": "stdout",
     "text": [
      "ChainMap({'a': 1, 'b': 1}, {'c': 1, 'd': 1})\n########################################\n['c', 'd', 'a', 'b']\n########################################\n[1, 1, 1, 1]\n########################################\nChainMap({'e': 1}, {'a': 1, 'b': 1}, {'c': 1, 'd': 1})\n########################################\nChainMap({'e': 1}, {'a': 100, 'b': 1}, {'c': 1, 'd': 1})\n"
     ]
    }
   ],
   "source": [
    "from collections import ChainMap\n",
    "\n",
    "a_dict1 = {'a':1, 'b':1}\n",
    "a_dict2 = {'c':1, 'd':1}\n",
    "a_chain_map = ChainMap(a_dict1, a_dict2) # δημιουργία ενός ChainMap με δύο λεξικά\n",
    "print(a_chain_map)\n",
    "print('#'* 40)\n",
    "print(list(a_chain_map.keys())) # τα κλειδιά από όλα τα λεξικά\n",
    "print('#'* 40)\n",
    "print(list(a_chain_map.values())) # οι τιμές από όλα τα λεξικά\n",
    "print('#'* 40)\n",
    "a_dict3 = {'e':1}\n",
    "a_chain_map = a_chain_map.new_child(a_dict3) # προσθήκη ενός ακόμα λεξικού και δημιουργία νέου ChainMap\n",
    "print(a_chain_map)\n",
    "a_dict1['a'] = 100 # αλλαγές στα λεξικά που χρησιμοποιούνται στο ChainMap αντικατοπτρίζονται και στο ChainMap\n",
    "print('#'* 40)\n",
    "print(a_chain_map)"
   ]
  },
  {
   "source": [
    "## defaultdict\n",
    "\n",
    "Επιτρέπει την αποφυγή KeyError αν γίνεται προσπάθεια αναφοράς σε στοιχείο λεξικού με κλειδί που δεν υπάρχει στο λεξικό."
   ],
   "cell_type": "markdown",
   "metadata": {}
  },
  {
   "cell_type": "code",
   "execution_count": 1,
   "metadata": {},
   "outputs": [
    {
     "output_type": "stream",
     "name": "stdout",
     "text": [
      "{'a': 2, 'b': 1, 'c': 1}\n########################################\ndefaultdict(<class 'int'>, {'a': 2, 'b': 1, 'c': 1})\n"
     ]
    }
   ],
   "source": [
    "from collections import defaultdict\n",
    "\n",
    "a_list = ['a', 'b', 'c', 'a']\n",
    "\n",
    "# αντιμετώπιση πιθανού KeyError σε \"απλό\" λεξικό\n",
    "a_dict = {}\n",
    "for x in a_list:\n",
    "    if x not in a_dict: # έτσι ώστε να αποφευχθεί KeyError\n",
    "        a_dict[x] = 1  \n",
    "    else:\n",
    "        a_dict[x] += 1\n",
    "\n",
    "print(a_dict)\n",
    "\n",
    "print('#'* 40)\n",
    "\n",
    "# a_ddict = defaultdict(lambda: 0)\n",
    "a_ddict = defaultdict(int)\n",
    "for x in a_list:\n",
    "    a_ddict[x] += 1\n",
    "\n",
    "print(a_ddict)"
   ]
  },
  {
   "cell_type": "code",
   "execution_count": 2,
   "metadata": {},
   "outputs": [
    {
     "output_type": "stream",
     "name": "stdout",
     "text": [
      "Name:Nikos Age:22\nName:Maria Age:25\nName:Petros Age:Not found\n"
     ]
    }
   ],
   "source": [
    "# ορισμός της προκαθορισμένης συμπεριφοράς με ειδική συνάρτηση\n",
    "\n",
    "def default_value():\n",
    "    return \"Not found\"\n",
    "\n",
    "a_ddict = defaultdict(default_value)\n",
    "\n",
    "a_ddict[\"Nikos\"] = 22\n",
    "a_ddict[\"Maria\"] = 25\n",
    "\n",
    "for x in (\"Nikos\", \"Maria\", \"Petros\"):\n",
    "    print(f'Name:{x} Age:{a_ddict[x]}')"
   ]
  },
  {
   "cell_type": "code",
   "execution_count": 4,
   "metadata": {},
   "outputs": [
    {
     "output_type": "stream",
     "name": "stdout",
     "text": [
      "Name:Nikos Age:22\nName:Maria Age:25\nName:Petros Age:NOT FOUND\n"
     ]
    }
   ],
   "source": [
    "# ορισμός της προκαθορισμένης συμπεριφοράς με lambda\n",
    "\n",
    "a_ddict = defaultdict(lambda: \"NOT FOUND\")\n",
    "\n",
    "a_ddict[\"Nikos\"] = 22\n",
    "a_ddict[\"Maria\"] = 25\n",
    "\n",
    "for x in (\"Nikos\", \"Maria\", \"Petros\"):\n",
    "    print(f'Name:{x} Age:{a_ddict[x]}')"
   ]
  },
  {
   "source": [
    "## Deque\n",
    "\n",
    "Ένα deque δημιουργείται περνώντας του μια λίστα ως παράμετρο. Στη συνέχεια μπορεί να χρησιμοποιηθεί για γρήγορες εισαγωγές και διαγραφές στοιχείων"
   ],
   "cell_type": "markdown",
   "metadata": {}
  },
  {
   "cell_type": "code",
   "execution_count": 42,
   "metadata": {},
   "outputs": [
    {
     "output_type": "stream",
     "name": "stdout",
     "text": [
      "deque(['Nikos', 'Maria'])\n########################################\ndeque(['Petros', 'Nikos', 'Maria', 'Kostas'])\n########################################\ndeque(['Maria'])\n"
     ]
    }
   ],
   "source": [
    "# δημιουργία deque, προσθήκη στοιχείων στο τέλος ή στην αρχή του deque, αφαίρεση στοιχείων από το τέλος ή την αρχή του deque\n",
    "\n",
    "from collections import deque\n",
    "\n",
    "a_list = [\"Nikos\", \"Maria\"]\n",
    "a_deque = deque(a_list)\n",
    "print(a_deque)\n",
    "\n",
    "print(\"#\"*40)\n",
    "\n",
    "a_deque.append(\"Kostas\")\n",
    "a_deque.appendleft(\"Petros\")\n",
    "print(a_deque)\n",
    "\n",
    "print(\"#\"*40)\n",
    "\n",
    "a_deque.pop()\n",
    "a_deque.popleft()\n",
    "a_deque.popleft()\n",
    "print(a_deque)\n"
   ]
  },
  {
   "cell_type": "code",
   "execution_count": 43,
   "metadata": {},
   "outputs": [
    {
     "output_type": "stream",
     "name": "stdout",
     "text": [
      "4\n"
     ]
    }
   ],
   "source": [
    "# καταμέτρηση στοιχείου deque\n",
    "\n",
    "a_deque = [1,1,1,2,2,1]\n",
    "print(a_deque.count(1))"
   ]
  },
  {
   "source": [
    "## namedtuple\n",
    "\n",
    "Τα namedtuples αντιστοιχούν ένα όνομα με κάθε θέση ενός tuple, έτσι ώστε να μπορεί να γίνεται η αναφορά σε επιμέρους στοιχεία του tuple ευκολότερα (χωρίς τη χρήση αριθμητικών δεικτών)"
   ],
   "cell_type": "markdown",
   "metadata": {}
  },
  {
   "cell_type": "code",
   "execution_count": 60,
   "metadata": {},
   "outputs": [
    {
     "output_type": "stream",
     "name": "stdout",
     "text": [
      "point(x=1, y=5, z=6, color='RED')\n1 5 6 RED\n1 5 6 BLUE\n"
     ]
    }
   ],
   "source": [
    "from collections import namedtuple\n",
    "\n",
    "Point = namedtuple('point', 'x,y,z,color')\n",
    "\n",
    "p1 = Point(1,5,6, 'RED')\n",
    "print(p1)\n",
    "print(p1.x, p1.y, p1.z, p1.color)\n",
    "p2 = p1._replace(color='BLUE') # δημιουγία νέου tuple με αλλαγή στο πεδίο color\n",
    "print(p1.x, p1.y, p1.z, p2.color)"
   ]
  },
  {
   "source": [
    "## OrderedDict\n",
    "\n",
    "Τα OrderedDict εγγυώνται ότι η σειρά με την οποία θα διανύονται τα περιεχόμενα ενός λεξικού θα είναι η ίδια με την σειρά με την οποία τα ζεύγη (κλειδί, τιμή) έχουν εισαχθεί στο λεξικό."
   ],
   "cell_type": "markdown",
   "metadata": {}
  },
  {
   "cell_type": "code",
   "execution_count": 61,
   "metadata": {},
   "outputs": [
    {
     "output_type": "stream",
     "name": "stdout",
     "text": [
      "a 7\nc 3\nb 2\n########################################\na 7\nc 3\nb 2\n########################################\nb 2\nc 3\na 7\n"
     ]
    }
   ],
   "source": [
    "from collections import OrderedDict\n",
    "\n",
    "# από την έκδοση 3.7 της python και τα dictionaries της python είναι ordered (διατεταγμένα)\n",
    "a_dict = {'a':7, 'c': 3, 'b':2 }\n",
    "for k in a_dict:\n",
    "    print(k, a_dict[k])\n",
    "\n",
    "print('#'* 40)\n",
    "\n",
    "an_odict = OrderedDict(a_dict)\n",
    "for k in an_odict:\n",
    "    print(k, an_odict[k])\n",
    "\n",
    "print('#'* 40)\n",
    "\n",
    "an_odict.move_to_end('a')\n",
    "an_odict.move_to_end('b', last=False)\n",
    "for k in an_odict:\n",
    "    print(k, an_odict[k])"
   ]
  }
 ]
}