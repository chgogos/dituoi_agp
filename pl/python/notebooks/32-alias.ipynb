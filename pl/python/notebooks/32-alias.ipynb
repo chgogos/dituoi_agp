{
 "cells": [
  {
   "cell_type": "markdown",
   "metadata": {},
   "source": [
    "    Τμήμα Πληροφορικής και Τηλεπικοινωνιών - Άρτα \n",
    "    Πανεπιστήμιο Ιωαννίνων \n",
    "\n",
    "    Γκόγκος Χρήστος \n",
    "    http://chgogos.github.io/\n",
    "    \n",
    "    Τελευταία ενημέρωση: 24/3/2022"
   ]
  },
  {
   "cell_type": "markdown",
   "metadata": {},
   "source": [
    "# Aliasing\n",
    "\n",
    "Ένα alias είναι ένα επιπλέον όνομα για ένα τμήμα δεδομένων.\n",
    "Αν τα δεδομένα είναι mutable τότε μπορεί να προκύψουν ορισμένα δύσκολα στον εντοπισμό σφάλματα.\n",
    "\n",
    "* mutable data types: λίστες, λεξικά, σύνολα και κλάσεις ορισμένες από το χρήστη\n",
    "* immutable data types: int, float, decimal, bool, string, tuple, range, ...\n",
    "\n",
    "Το aliasing επιτρέπει στον κώδικα, σε ορισμένες περιπτώσεις, να είναι αποδοτικότερος διότι αποτρέπει αντιγραφές δεδομένων (π.χ. η δημιουργία ενός alias για μια λίστα με 1.000.000 στοιχεία είναι αποδοτικότερη από την αντιγραφή της)"
   ]
  },
  {
   "cell_type": "code",
   "execution_count": 1,
   "metadata": {},
   "outputs": [
    {
     "name": "stdout",
     "output_type": "stream",
     "text": [
      "140733096263328\n",
      "140733096263360\n",
      "########################################\n",
      "2302860146416\n",
      "2302877802928\n",
      "########################################\n",
      "2302876079424\n",
      "2302876079424\n",
      "########################################\n",
      "2302877928128\n",
      "2302877928128\n"
     ]
    }
   ],
   "source": [
    "# mutable vs immutable τύποι δεδομένων\n",
    "\n",
    "x = 1 # immutable\n",
    "print(id(x))\n",
    "x += 1 \n",
    "print(id(x)) \n",
    "\n",
    "print(\"#\" * 40)\n",
    "y = \"Άρτα\" # immutable\n",
    "print(id(y))\n",
    "y += \" Arta\" \n",
    "print(id(y)) \n",
    "\n",
    "print(\"#\" * 40)\n",
    "z = [1,2,3] # mutable\n",
    "print(id(z)) \n",
    "z += [4,5,6]\n",
    "print(id(z))\n",
    "\n",
    "print(\"#\" * 40)\n",
    "class Person:\n",
    "    pass\n",
    "\n",
    "p = Person() # mutable\n",
    "p.name = \"Νίκος\" \n",
    "print(id(p))\n",
    "p.name = \"Πέτρος\"\n",
    "print(id(p))"
   ]
  },
  {
   "cell_type": "code",
   "execution_count": 2,
   "metadata": {},
   "outputs": [
    {
     "name": "stdout",
     "output_type": "stream",
     "text": [
      "Άρτα\n",
      "Άρτα\n",
      "########################################\n",
      "Άρτα\n",
      "Άρτα Ιωάννινα\n"
     ]
    }
   ],
   "source": [
    "# Aliasing έχουμε όταν μια μεταβλητή ανατίθεται σε μια άλλη μεταβλητή\n",
    "\n",
    "x = 'Άρτα'\n",
    "y = x # το x και το y δείχνουν στα ίδια δεδομένα\n",
    "\n",
    "print(x)\n",
    "print(y)\n",
    "\n",
    "print(\"#\" * 40)\n",
    "\n",
    "# τα λεκτικά είναι immutable\n",
    "y += ' Ιωάννινα'\n",
    "print(x)\n",
    "print(y)"
   ]
  },
  {
   "cell_type": "code",
   "execution_count": 3,
   "metadata": {},
   "outputs": [
    {
     "name": "stdout",
     "output_type": "stream",
     "text": [
      "['Άρτα', 'Ιωάννινα', 'Πρέβεζα', 'Ηγουμενίτσα']\n",
      "['Άρτα', 'Ιωάννινα', 'Πρέβεζα', 'Ηγουμενίτσα']\n"
     ]
    }
   ],
   "source": [
    "# Οι λίστες όμως είναι mutable\n",
    "\n",
    "a_list = ['Άρτα', 'Ιωάννινα', 'Πρέβεζα']\n",
    "b_list = a_list\n",
    "\n",
    "a_list.append('Ηγουμενίτσα')\n",
    "\n",
    "print(a_list)\n",
    "print(b_list)"
   ]
  },
  {
   "cell_type": "code",
   "execution_count": 8,
   "metadata": {},
   "outputs": [
    {
     "name": "stdout",
     "output_type": "stream",
     "text": [
      "[['Άρτα', 'Ιωάννινα', 'Πρέβεζα'], ['Άρτα', 'Ιωάννινα', 'Πρέβεζα']]\n",
      "[['Arta', 'Ιωάννινα', 'Πρέβεζα'], ['Arta', 'Ιωάννινα', 'Πρέβεζα']]\n"
     ]
    }
   ],
   "source": [
    "# παράδειγμα με aliases στα στοιχεία μιας λίστας\n",
    "\n",
    "a_list = ['Άρτα', 'Ιωάννινα', 'Πρέβεζα']\n",
    "b_list = [a_list, a_list]\n",
    "print(b_list)\n",
    "b_list[0][0] = 'Arta'\n",
    "print(b_list)"
   ]
  },
  {
   "cell_type": "code",
   "execution_count": 5,
   "metadata": {},
   "outputs": [
    {
     "name": "stdout",
     "output_type": "stream",
     "text": [
      "[[9, 10, 11, 12], [9, 10, 11, 12], [9, 10, 11, 12]]\n"
     ]
    }
   ],
   "source": [
    "# υλοποίηση ενός 2D πίνακα (3 Χ 4) ως μια λίστα 3 στοιχείων με κάθε στοιχείο μια λίστα 4 στοιχείων, συμπλήρωση του πίνακα με τις ακόλουθες τιμές\n",
    "# 1  2  3  4\n",
    "# 5  6  7  8\n",
    "# 9 10 11 12\n",
    "\n",
    "# λάθος υλοποίηση (και οι 3 γραμμές δείχνουν στην ίδια λίστα 4 ακεραίων)\n",
    "table = [[0]*4] * 3\n",
    "c = 1\n",
    "for i in range(3):\n",
    "    for j in range(4):\n",
    "        table[i][j] = c\n",
    "        c += 1\n",
    "\n",
    "print(table)"
   ]
  },
  {
   "cell_type": "code",
   "execution_count": 6,
   "metadata": {},
   "outputs": [
    {
     "name": "stdout",
     "output_type": "stream",
     "text": [
      "[[1, 2, 3, 4], [5, 6, 7, 8], [9, 10, 11, 12]]\n"
     ]
    }
   ],
   "source": [
    "# σωστή υλοποίηση 2D πίνακα (3Χ4)\n",
    "\n",
    "table = []\n",
    "c = 1\n",
    "for i in range(3):\n",
    "    row = []\n",
    "    for j in range(4):\n",
    "        row.append(c)\n",
    "        c += 1\n",
    "    table.append(row)\n",
    "\n",
    "print(table)"
   ]
  },
  {
   "cell_type": "code",
   "execution_count": 7,
   "metadata": {},
   "outputs": [
    {
     "name": "stdout",
     "output_type": "stream",
     "text": [
      "[[1, 2, 3, 4], [5, 6, 7, 8], [9, 10, 11, 12]]\n"
     ]
    }
   ],
   "source": [
    "# σωστή υλοποίηση 2D πίνακα (3Χ4) με χρήση comprehensions\n",
    "\n",
    "table = [[0 for j in range(4)] for  i in range(3)]\n",
    "\n",
    "c = 1\n",
    "for i in range(3):\n",
    "    for j in range(4):\n",
    "        table[i][j] = c\n",
    "        c += 1\n",
    "\n",
    "print(table)"
   ]
  }
 ],
 "metadata": {
  "kernelspec": {
   "display_name": "Python 3.8.0 64-bit",
   "metadata": {
    "interpreter": {
     "hash": "2334294e789e06453e89f7d5c3c2573679701f9bb5b76ad2158f91cca5c9244c"
    }
   },
   "name": "python3"
  },
  "language_info": {
   "codemirror_mode": {
    "name": "ipython",
    "version": 3
   },
   "file_extension": ".py",
   "mimetype": "text/x-python",
   "name": "python",
   "nbconvert_exporter": "python",
   "pygments_lexer": "ipython3",
   "version": "3.8.8"
  },
  "orig_nbformat": 2
 },
 "nbformat": 4,
 "nbformat_minor": 2
}
