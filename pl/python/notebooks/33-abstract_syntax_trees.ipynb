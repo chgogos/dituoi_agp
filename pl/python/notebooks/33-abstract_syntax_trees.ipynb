{
 "metadata": {
  "language_info": {
   "codemirror_mode": {
    "name": "ipython",
    "version": 3
   },
   "file_extension": ".py",
   "mimetype": "text/x-python",
   "name": "python",
   "nbconvert_exporter": "python",
   "pygments_lexer": "ipython3",
   "version": "3.8.0"
  },
  "orig_nbformat": 2,
  "kernelspec": {
   "name": "python380jvsc74a57bd02334294e789e06453e89f7d5c3c2573679701f9bb5b76ad2158f91cca5c9244c",
   "display_name": "Python 3.8.0 64-bit ('3.8.0-amd64': pyenv)"
  }
 },
 "nbformat": 4,
 "nbformat_minor": 2,
 "cells": [
  {
   "source": [
    "    Τμήμα Πληροφορικής και Τηλεπικοινωνιών - Άρτα \n",
    "    Πανεπιστήμιο Ιωαννίνων \n",
    "\n",
    "    Γκόγκος Χρήστος \n",
    "    http://chgogos.github.io/\n",
    "    Εαρινό εξάμηνο 2020-2021"
   ],
   "cell_type": "markdown",
   "metadata": {}
  },
  {
   "source": [
    "# Abstract Syntax Trees\n",
    "\n",
    "Τα Abstract Syntax Trees (ASTs) είναι δομές που χρησιμοποιούνται κατά τη συντακτική ανάλυση προγραμμάτων έτσι ώστε να επαληθευτεί η συμφωνία τους με τη γραμματική της γλώσσας προγραμματισμού. Τα ASTs στη συνέχεια χρησιμοποιούνται για τη μετατροπή του πηγαίου κώδικα σε εκτελέσιμο δυαδικό κωδικα.\n",
    "\n",
    "Ο μεταγλωττιστής εντοπίζει αρχικά τα tokens του πηγαίου κώδικα και στη συνέχεια δημιουργεί με αυτά το AST, όπου τα φύλλα του δένδρου είναι τερματικά σύμβολα, οι εσωτερικοί κόμβοι του δένδρου είναι μη-τερματικά σύμβολα και οι ακμές του δένδρου καθορίζονται από τη γραμματική της γλώσσας.\n",
    "\n",
    "H Python είναι ταυτόχρονα compiled και interpreted γλώσσα προγραμματισμού (υβριδική)\n",
    "\n",
    "source_code -> parse tree -> AST -> byte-code"
   ],
   "cell_type": "markdown",
   "metadata": {}
  },
  {
   "source": [
    "## To module ast\n",
    "\n",
    "To module ast μπορεί να χρησιμοποιηθεί για τη δημιουργία του AST ενός κώδικα Python"
   ],
   "cell_type": "markdown",
   "metadata": {}
  },
  {
   "cell_type": "code",
   "execution_count": 2,
   "metadata": {},
   "outputs": [
    {
     "output_type": "execute_result",
     "data": {
      "text/plain": [
       "\"Module(body=[Assign(targets=[Name(id='x', ctx=Store())], value=BinOp(left=Constant(value=1, kind=None), op=Add(), right=Constant(value=2, kind=None)), type_comment=None)], type_ignores=[])\""
      ]
     },
     "metadata": {},
     "execution_count": 2
    }
   ],
   "source": [
    "import ast\n",
    "\n",
    "src_code = 'x = 1 + 2'\n",
    "tree = ast.parse(src_code, mode='exec')\n",
    "ast.dump(tree)"
   ]
  },
  {
   "source": [
    "## To module astpretty"
   ],
   "cell_type": "markdown",
   "metadata": {}
  },
  {
   "cell_type": "code",
   "execution_count": 3,
   "metadata": {},
   "outputs": [
    {
     "output_type": "stream",
     "name": "stdout",
     "text": [
      "Requirement already satisfied: astpretty in c:\\users\\chgogos\\.pyenv\\pyenv-win\\versions\\3.8.0-amd64\\lib\\site-packages (2.1.0)\n"
     ]
    }
   ],
   "source": [
    "!pip install astpretty"
   ]
  },
  {
   "cell_type": "code",
   "execution_count": 4,
   "metadata": {},
   "outputs": [
    {
     "output_type": "stream",
     "name": "stdout",
     "text": [
      "Module(\n    body=[\n        Assign(\n            lineno=1,\n            col_offset=0,\n            end_lineno=1,\n            end_col_offset=9,\n            targets=[Name(lineno=1, col_offset=0, end_lineno=1, end_col_offset=1, id='x', ctx=Store())],\n            value=BinOp(\n                lineno=1,\n                col_offset=4,\n                end_lineno=1,\n                end_col_offset=9,\n                left=Constant(lineno=1, col_offset=4, end_lineno=1, end_col_offset=5, value=1, kind=None),\n                op=Add(),\n                right=Constant(lineno=1, col_offset=8, end_lineno=1, end_col_offset=9, value=2, kind=None),\n            ),\n            type_comment=None,\n        ),\n    ],\n    type_ignores=[],\n)\n"
     ]
    }
   ],
   "source": [
    "import ast\n",
    "import astpretty\n",
    "\n",
    "src_code = \"x = 1 + 2\"\n",
    "tree = ast.parse(src_code)\n",
    "astpretty.pprint(tree)"
   ]
  },
  {
   "source": [
    "## Το module dis"
   ],
   "cell_type": "markdown",
   "metadata": {}
  },
  {
   "cell_type": "code",
   "execution_count": 7,
   "metadata": {},
   "outputs": [
    {
     "output_type": "stream",
     "name": "stdout",
     "text": [
      "########################################\n<module>\n########################################\n()\n########################################\n2\n########################################\n(<code object fun at 0x000002A653EF9BE0, file \"<string>\", line 2>, 'fun', 3, None)\n########################################\n0\n########################################\nb'd\\x00d\\x01\\x84\\x00Z\\x00e\\x00d\\x02\\x83\\x01Z\\x01e\\x02e\\x01\\x83\\x01\\x01\\x00d\\x03S\\x00'\n########################################\n6\n########################################\n  2           0 LOAD_CONST               0 (<code object fun at 0x000002A653EF9BE0, file \"<string>\", line 2>)\n              2 LOAD_CONST               1 ('fun')\n              4 MAKE_FUNCTION            0\n              6 STORE_NAME               0 (fun)\n\n  4           8 LOAD_NAME                0 (fun)\n             10 LOAD_CONST               2 (3)\n             12 CALL_FUNCTION            1\n             14 STORE_NAME               1 (y)\n\n  5          16 LOAD_NAME                2 (print)\n             18 LOAD_NAME                1 (y)\n             20 CALL_FUNCTION            1\n             22 POP_TOP\n             24 LOAD_CONST               3 (None)\n             26 RETURN_VALUE\n\nDisassembly of <code object fun at 0x000002A653EF9BE0, file \"<string>\", line 2>:\n  3           0 LOAD_CONST               1 (2)\n              2 LOAD_FAST                0 (x)\n              4 BINARY_MULTIPLY\n              6 RETURN_VALUE\n"
     ]
    }
   ],
   "source": [
    "import dis\n",
    "\n",
    "src_code = \"\"\"\n",
    "def fun(x):\n",
    "    return 2*x\n",
    "y = fun(3)\n",
    "print(y)\n",
    "\"\"\"\n",
    "tree = ast.parse(src_code, mode='exec')\n",
    "\n",
    "# code objects: εσωτερική αναπαράσταση ενός τμήματος κώδικα που περιέχει τις εντολές του κώδικα καθώς και πληροφορίες για την εκτέλεση του κώδικα\n",
    "compiled = compile(tree, '<string>', mode='exec')\n",
    "print(\"#\" * 40)\n",
    "print(compiled.co_name)\n",
    "print(\"#\" * 40)\n",
    "print(compiled.co_varnames)\n",
    "print(\"#\" * 40)\n",
    "print(compiled.co_stacksize)\n",
    "print(\"#\" * 40)\n",
    "print(compiled.co_consts)\n",
    "print(\"#\" * 40)\n",
    "print(compiled.co_argcount)\n",
    "print(\"#\" * 40)\n",
    "print(compiled.co_code)\n",
    "print(\"#\" * 40)\n",
    "exec(compiled)\n",
    "print(\"#\" * 40)\n",
    "dis.dis(compiled)"
   ]
  },
  {
   "cell_type": "code",
   "execution_count": null,
   "metadata": {},
   "outputs": [],
   "source": []
  }
 ]
}