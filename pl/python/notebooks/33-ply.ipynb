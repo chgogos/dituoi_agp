{
 "metadata": {
  "language_info": {
   "codemirror_mode": {
    "name": "ipython",
    "version": 3
   },
   "file_extension": ".py",
   "mimetype": "text/x-python",
   "name": "python",
   "nbconvert_exporter": "python",
   "pygments_lexer": "ipython3",
   "version": "3.8.0"
  },
  "orig_nbformat": 2,
  "kernelspec": {
   "name": "python380jvsc74a57bd02334294e789e06453e89f7d5c3c2573679701f9bb5b76ad2158f91cca5c9244c",
   "display_name": "Python 3.8.0 64-bit"
  }
 },
 "nbformat": 4,
 "nbformat_minor": 2,
 "cells": [
  {
   "source": [
    "# PLY\n",
    "\n",
    "To PLY είναι υλοποίηση σε Python για τα εργαλεία κατασκευής lex (λογισμικό παραγωγής λεκτικού αναλυτή) και yacc (λογισμικό παραγωγής συντακτικού αναλυτή)"
   ],
   "cell_type": "markdown",
   "metadata": {}
  },
  {
   "source": [
    "## Δημιουργία απλού υπολογιστή πράξεων με το PLY\n",
    "\n",
    "https://www.youtube.com/playlist?list=PLBOh8f9FoHHg7Ed_4yKhIbq4lIJAlonn8"
   ],
   "cell_type": "markdown",
   "metadata": {}
  },
  {
   "cell_type": "code",
   "execution_count": 24,
   "metadata": {},
   "outputs": [],
   "source": [
    "import ply.lex as lex\n",
    "import ply.yacc as yacc\n",
    "import sys"
   ]
  },
  {
   "cell_type": "code",
   "execution_count": 25,
   "metadata": {},
   "outputs": [],
   "source": [
    "# Δημιουργία tokens\n",
    "\n",
    "tokens = [\n",
    "    'INT', \n",
    "    'FLOAT',\n",
    "    'NAME',\n",
    "    'PLUS',\n",
    "    'MINUS',\n",
    "    'DIVIDE',\n",
    "    'MULTIPLY',\n",
    "    'EQUALS'\n",
    "]\n",
    "\n",
    "t_PLUS = r'\\+'\n",
    "t_MINUS = r'\\-'\n",
    "t_MULTIPLY = r'\\*'\n",
    "t_DIVIDE = r'\\/'\n",
    "t_EQUALS = r'\\='\n",
    "\n",
    "t_ignore = r' '\n",
    "\n",
    "def t_FLOAT(t):\n",
    "    r'\\d+\\.\\d+'\n",
    "    t.value = float(t.value)\n",
    "    return t\n",
    "\n",
    "def t_INT(t):\n",
    "    r'\\d+'\n",
    "    t.value = int(t.value)\n",
    "    return t\n",
    "\n",
    "def t_NAME(t):\n",
    "    r'[a-zA-Z_][a-zA-Z_0-9]*'\n",
    "    t.type = 'NAME'\n",
    "    return t\n",
    "\n",
    "def t_error(t):\n",
    "    print(\"Illegal characters!\")\n",
    "    t.lexer.skip(1)\n"
   ]
  },
  {
   "cell_type": "code",
   "execution_count": 26,
   "metadata": {},
   "outputs": [
    {
     "output_type": "stream",
     "name": "stdout",
     "text": [
      "LexToken(NAME,'x',1,0)\nLexToken(EQUALS,'=',1,2)\nLexToken(INT,1,1,4)\nLexToken(PLUS,'+',1,6)\nLexToken(INT,2,1,8)\n"
     ]
    }
   ],
   "source": [
    "# lexer\n",
    "\n",
    "__file__ = \"33-PLY.ipynb\" # https://stackoverflow.com/questions/36393114/using-ply-with-ipython-jupyter\n",
    "\n",
    "lexer = lex.lex()\n",
    "\n",
    "lexer.input(\"x = 1 + 2\")\n",
    "while True:\n",
    "    tok = lexer.token()\n",
    "    if not tok:\n",
    "        break\n",
    "    print(tok)"
   ]
  },
  {
   "cell_type": "code",
   "execution_count": 27,
   "metadata": {},
   "outputs": [
    {
     "output_type": "stream",
     "name": "stderr",
     "text": [
      "Generating LALR tables\n"
     ]
    }
   ],
   "source": [
    "# parser \n",
    "\n",
    "precedence = (\n",
    "    ('left', 'PLUS', 'MINUS'),\n",
    "    ('left', 'MULTIPLY', 'DIVIDE')\n",
    ")\n",
    "\n",
    "def p_calc(p):\n",
    "    '''\n",
    "    calc : expression\n",
    "         | var_assign\n",
    "         | empty\n",
    "    '''\n",
    "    print(p[1])\n",
    "\n",
    "# expression\n",
    "def p_expression(p):\n",
    "    '''\n",
    "    expression : expression MULTIPLY expression\n",
    "               | expression DIVIDE expression\n",
    "               | expression PLUS expression\n",
    "               | expression MINUS expression\n",
    "    '''\n",
    "    p[0] = (p[2], p[1], p[3])\n",
    "\n",
    "def p_expression_int_float(p):\n",
    "    '''\n",
    "    expression : INT\n",
    "               | FLOAT\n",
    "    '''\n",
    "    p[0] = p[1]\n",
    "\n",
    "def p_expression_var(p):\n",
    "    '''\n",
    "    expression : NAME\n",
    "    '''\n",
    "    p[0] = ('var', p[1])\n",
    "\n",
    "# var_assign\n",
    "def p_var_assign(p):\n",
    "    '''\n",
    "    var_assign : NAME EQUALS expression\n",
    "    '''\n",
    "    p[0] = ('=', p[1], p[3])\n",
    "\n",
    "# empty\n",
    "def p_empty(p):\n",
    "    '''\n",
    "    empty : \n",
    "    '''\n",
    "    p[0] = None\n",
    "\n",
    "def p_error(p):\n",
    "    print(\"Syntax error\")\n",
    "\n",
    "parser = yacc.yacc(write_tables=False)"
   ]
  },
  {
   "cell_type": "code",
   "execution_count": 28,
   "metadata": {},
   "outputs": [
    {
     "output_type": "stream",
     "name": "stdout",
     "text": [
      "('=', 'x', ('+', 1, ('*', ('var', 'a'), ('var', 'b'))))\n"
     ]
    }
   ],
   "source": [
    "s = 'x = 1 + a * b'\n",
    "parser.parse(s)"
   ]
  },
  {
   "cell_type": "code",
   "execution_count": 29,
   "metadata": {},
   "outputs": [
    {
     "output_type": "stream",
     "name": "stdout",
     "text": [
      "None\n"
     ]
    }
   ],
   "source": [
    "s = ''\n",
    "parser.parse(s)"
   ]
  },
  {
   "cell_type": "code",
   "execution_count": 47,
   "metadata": {},
   "outputs": [
    {
     "output_type": "stream",
     "name": "stderr",
     "text": [
      "Generating LALR tables\n"
     ]
    }
   ],
   "source": [
    "# parser\n",
    "\n",
    "precedence = (\n",
    "    ('left', 'PLUS', 'MINUS'),\n",
    "    ('left', 'MULTIPLY', 'DIVIDE')\n",
    ")\n",
    "\n",
    "def p_calc(p):\n",
    "    '''\n",
    "    calc : expression\n",
    "         | var_assign\n",
    "         | empty\n",
    "    '''\n",
    "    res = run(p[1])\n",
    "    if res is not None:\n",
    "        print(res)\n",
    "\n",
    "# expression\n",
    "def p_expression(p):\n",
    "    '''\n",
    "    expression : expression MULTIPLY expression\n",
    "               | expression DIVIDE expression\n",
    "               | expression PLUS expression\n",
    "               | expression MINUS expression\n",
    "    '''\n",
    "    p[0] = (p[2], p[1], p[3])\n",
    "\n",
    "def p_expression_int_float(p):\n",
    "    '''\n",
    "    expression : INT\n",
    "               | FLOAT\n",
    "    '''\n",
    "    p[0] = p[1]\n",
    "\n",
    "def p_expression_var(p):\n",
    "    '''\n",
    "    expression : NAME\n",
    "    '''\n",
    "    p[0] = ('var', p[1])\n",
    "\n",
    "# var_assign\n",
    "def p_var_assign(p):\n",
    "    '''\n",
    "    var_assign : NAME EQUALS expression\n",
    "    '''\n",
    "    p[0] = ('=', p[1], p[3])\n",
    "\n",
    "# empty\n",
    "def p_empty(p):\n",
    "    '''\n",
    "    empty : \n",
    "    '''\n",
    "    p[0] = None\n",
    "\n",
    "# error\n",
    "def p_error(p):\n",
    "    print(\"Syntax error\")\n",
    "\n",
    "\n",
    "locals={}\n",
    "# run\n",
    "def run(p):\n",
    "    if type(p) == tuple:\n",
    "        if p[0] == '+':\n",
    "            return run(p[1]) + run(p[2])\n",
    "        elif p[0] == '-':\n",
    "            return run(p[1]) - run(p[2])\n",
    "        elif p[0] == '*':\n",
    "            return run(p[1]) * run(p[2])\n",
    "        elif p[0] == '/':\n",
    "            return run(p[1]) / run(p[2])\n",
    "        elif p[0] == '=':\n",
    "            locals[p[1]] = run(p[2])\n",
    "            print(f\"Variable '{p[1]}' set to {locals[p[1]]}\")\n",
    "        elif p[0] == 'var':\n",
    "            if p[1] not in locals:\n",
    "                return \"Undeclared variable found!\"\n",
    "            else:\n",
    "                return locals[p[1]]\n",
    "    else:\n",
    "        return p\n",
    "    \n",
    "parser = yacc.yacc(write_tables=False)"
   ]
  },
  {
   "cell_type": "code",
   "execution_count": 48,
   "metadata": {},
   "outputs": [
    {
     "output_type": "stream",
     "name": "stdout",
     "text": [
      "7\n"
     ]
    }
   ],
   "source": [
    "s = '1 + 2 * 3'\n",
    "parser.parse(s)"
   ]
  },
  {
   "cell_type": "code",
   "execution_count": 51,
   "metadata": {},
   "outputs": [
    {
     "output_type": "stream",
     "name": "stdout",
     "text": [
      "Variable 'a' set to 1\nVariable 'b' set to 99\nVariable 'x' set to 799.5\n1599.0\n"
     ]
    }
   ],
   "source": [
    "parser.parse('a = 1')\n",
    "parser.parse('b = 99')\n",
    "parser.parse('x = 7.5 * a + 8 * b')\n",
    "parser.parse('x*2')"
   ]
  },
  {
   "cell_type": "code",
   "execution_count": null,
   "metadata": {},
   "outputs": [],
   "source": []
  }
 ]
}