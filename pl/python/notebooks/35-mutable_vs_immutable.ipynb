{
 "cells": [
  {
   "cell_type": "markdown",
   "metadata": {},
   "source": [
    "    Τμήμα Πληροφορικής και Τηλεπικοινωνιών - Άρτα \n",
    "    Πανεπιστήμιο Ιωαννίνων \n",
    "\n",
    "    Γκόγκος Χρήστος \n",
    "    http://chgogos.github.io/\n",
    "    \n",
    "    Τελευταία ενημέρωση: 17/3/2022"
   ]
  },
  {
   "cell_type": "markdown",
   "metadata": {},
   "source": [
    "# Mutable vs immutable αντικείμενα\n",
    "\n",
    "* **immutable** είναι ένα αντικείμενο που η τιμή του δεν μπορεί να αλλάξει\n",
    "* **mutable** είναι ένα αντικείμενο που η τιμή του μπορεί να αλλάξει\n"
   ]
  },
  {
   "cell_type": "code",
   "execution_count": 32,
   "metadata": {},
   "outputs": [
    {
     "name": "stdout",
     "output_type": "stream",
     "text": [
      "140733066313376 <class 'int'> 1\n",
      "140733066313408 <class 'int'> 2\n",
      "140733066313376\n",
      "########################################\n",
      "2840863145536 <class 'list'> [1, 2, 3]\n",
      "2840863145536 <class 'list'> [1, 2, 3, 4]\n"
     ]
    }
   ],
   "source": [
    "# Οι ακέραιοι, οι πραγματικοί, τα λεκτικά, οι λογικές τιμές, οι πλειάδες κ.α. είναι immutable αντικείμενα\n",
    "\n",
    "a = 1\n",
    "print(id(a), type(a), a)\n",
    "a += 1 \n",
    "print(id(a), type(a), a)\n",
    "print(id(1))\n",
    "\n",
    "print(\"#\"*40)\n",
    "\n",
    "# Οι λίστες, τα λεξικά, τα σύνολα κ.α. είναι mutable αντικείμενα\n",
    "\n",
    "a = [1,2,3]\n",
    "print(id(a), type(a), a)\n",
    "a.append(4)\n",
    "print(id(a), type(a), a)"
   ]
  },
  {
   "cell_type": "markdown",
   "metadata": {},
   "source": [
    "## mutable αντικείμενα"
   ]
  },
  {
   "cell_type": "code",
   "execution_count": 33,
   "metadata": {},
   "outputs": [
    {
     "name": "stdout",
     "output_type": "stream",
     "text": [
      "2840866833088 <class 'list'> [1, 2, 3]\n",
      "2840866833088 <class 'list'> [-1, 2, 3, 4]\n"
     ]
    }
   ],
   "source": [
    "# λίστες\n",
    "\n",
    "a_list = [1,2,3]\n",
    "print(id(a_list), type(a_list), a_list)\n",
    "a_list.append(4)\n",
    "a_list[0]=-1\n",
    "print(id(a_list), type(a_list), a_list)"
   ]
  },
  {
   "cell_type": "code",
   "execution_count": 34,
   "metadata": {},
   "outputs": [
    {
     "name": "stdout",
     "output_type": "stream",
     "text": [
      "2840866858176 <class 'dict'> {'101': 'Nikos', '201': 'Maria'}\n",
      "2840866858176 <class 'dict'> {'101': 'Kostas', '201': 'Maria', '401': 'Eleni'}\n"
     ]
    }
   ],
   "source": [
    "# λεξικά\n",
    "\n",
    "a_dict = {'101':'Nikos', '201':'Maria'}\n",
    "print(id(a_dict), type(a_dict), a_dict)\n",
    "a_dict['101'] =  'Kostas'\n",
    "a_dict['401'] = 'Eleni'\n",
    "print(id(a_dict), type(a_dict), a_dict)"
   ]
  },
  {
   "cell_type": "code",
   "execution_count": 35,
   "metadata": {},
   "outputs": [
    {
     "name": "stdout",
     "output_type": "stream",
     "text": [
      "2840866485856 <class 'set'> {1, 2, 3}\n",
      "2840866485856 <class 'set'> {1, 3, 4}\n"
     ]
    }
   ],
   "source": [
    "# σύνολα\n",
    "\n",
    "a_set = {1,2,3}\n",
    "print(id(a_set), type(a_set), a_set)\n",
    "a_set.add(4)\n",
    "a_set.remove(2)\n",
    "print(id(a_set), type(a_set), a_set)"
   ]
  },
  {
   "cell_type": "markdown",
   "metadata": {},
   "source": [
    "## immutable αντικείμενα"
   ]
  },
  {
   "cell_type": "code",
   "execution_count": 36,
   "metadata": {},
   "outputs": [
    {
     "name": "stdout",
     "output_type": "stream",
     "text": [
      "2840870826128 <class 'str'> Άρτα\n",
      "2840871026960 <class 'str'> Άρτα Ήπειρος\n"
     ]
    }
   ],
   "source": [
    "# λεκτικά\n",
    "\n",
    "s = \"Άρτα\"\n",
    "print(id(s), type(s), s)\n",
    "s = \"Άρτα\" + \" Ήπειρος\"\n",
    "print(id(s), type(s), s)"
   ]
  },
  {
   "cell_type": "code",
   "execution_count": 37,
   "metadata": {},
   "outputs": [
    {
     "name": "stdout",
     "output_type": "stream",
     "text": [
      "2840866783360 <class 'tuple'> (1, 2, 3)\n",
      "2840870827776 <class 'tuple'> (1, 2, 3, 1, 2, 3)\n"
     ]
    }
   ],
   "source": [
    "# πλειάδες\n",
    "\n",
    "t = (1,2,3)\n",
    "print(id(t), type(t), t)\n",
    "t = t * 2\n",
    "print(id(t), type(t), t)"
   ]
  },
  {
   "cell_type": "markdown",
   "metadata": {},
   "source": [
    "## Extra παραδείγματα "
   ]
  },
  {
   "cell_type": "code",
   "execution_count": 38,
   "metadata": {},
   "outputs": [
    {
     "data": {
      "text/plain": [
       "(1, [-1, 3, 4], 5)"
      ]
     },
     "execution_count": 38,
     "metadata": {},
     "output_type": "execute_result"
    }
   ],
   "source": [
    "# τα tuples είναι immutable αλλα αν περιέχουν mutable στοιχεία (π.χ. λίστες) αυτά μπορούν να αλλάζουν\n",
    "\n",
    "t = (1,[2,3,4],5)\n",
    "t[1][0]=-1 \n",
    "t"
   ]
  },
  {
   "cell_type": "code",
   "execution_count": 49,
   "metadata": {},
   "outputs": [
    {
     "name": "stdout",
     "output_type": "stream",
     "text": [
      "1\n",
      "1\n"
     ]
    }
   ],
   "source": [
    "# παράδειγμα κλήσης συνάρτησης που δεν τροποποιεί το όρισμα διότι το όρισμα είναι immutable\n",
    "\n",
    "def fun(a):\n",
    "    a += 1\n",
    "\n",
    "# η τιμή του ορίσματος x δεν αλλάζει μετά την κλήση της συνάρτησης, διότι το x είναι immutable\n",
    "x = 1\n",
    "print(x)\n",
    "fun(x)\n",
    "print(x)"
   ]
  },
  {
   "cell_type": "code",
   "execution_count": 40,
   "metadata": {},
   "outputs": [
    {
     "name": "stdout",
     "output_type": "stream",
     "text": [
      "[1, 2, 3]\n",
      "[1, 2, 3, 4]\n"
     ]
    }
   ],
   "source": [
    "# παράδειγμα κλήσης συνάρτησης που τροποποιεί το όρισμα\n",
    "\n",
    "def fun(a):\n",
    "    a.append(4)\n",
    "\n",
    "# η τιμή του ορίσματος x αλλάζει μετά την κλήση της συνάρτησης, διότι το x είναι immutable\n",
    "x = [1,2,3]\n",
    "print(x)\n",
    "fun(x)\n",
    "print(x)\n"
   ]
  },
  {
   "cell_type": "code",
   "execution_count": 43,
   "metadata": {},
   "outputs": [
    {
     "name": "stdout",
     "output_type": "stream",
     "text": [
      "2840863153856 [1, 2, 3, 4]\n",
      "2840863153856 [1, 2, 3, 4]\n"
     ]
    }
   ],
   "source": [
    "# ανάθεση μιας μεταβλητής που περιέχει λίστα σε μια άλλη μεταβλητή, σημαίνει ότι και οι δύο μεταβλητές είναι αναφορές προς την ίδια λίστα\n",
    "\n",
    "a = [1, 2, 3]\n",
    "b = a\n",
    "a.append(4)\n",
    "print(id(a), a)\n",
    "print(id(b), b)"
   ]
  },
  {
   "cell_type": "code",
   "execution_count": 47,
   "metadata": {},
   "outputs": [
    {
     "name": "stdout",
     "output_type": "stream",
     "text": [
      "2840880986688 [1, 2, 3, 4]\n",
      "2840866814016 [1, 2, 3]\n"
     ]
    }
   ],
   "source": [
    "# αντιγραφή λίστας κατά την ανάθεση (α' τρόπος)\n",
    "\n",
    "a = [1, 2, 3]\n",
    "b = a[:]\n",
    "a.append(4)\n",
    "print(id(a), a)\n",
    "print(id(b), b)"
   ]
  },
  {
   "cell_type": "code",
   "execution_count": 48,
   "metadata": {},
   "outputs": [
    {
     "name": "stdout",
     "output_type": "stream",
     "text": [
      "2840866736896 [1, 2, 3, 4]\n",
      "2840866856128 [1, 2, 3]\n"
     ]
    }
   ],
   "source": [
    "# αντιγραφή λίστας κατά την ανάθεση (β' τρόπος)\n",
    "\n",
    "import copy\n",
    "\n",
    "a = [1, 2, 3]\n",
    "b = copy.copy(a)\n",
    "a.append(4)\n",
    "print(id(a), a)\n",
    "print(id(b), b)"
   ]
  },
  {
   "cell_type": "code",
   "execution_count": null,
   "metadata": {},
   "outputs": [],
   "source": []
  }
 ],
 "metadata": {
  "interpreter": {
   "hash": "f40a6e13c37d34a8e08b5b5c92d22f0cb84668e50c3976fc188360a208488fc1"
  },
  "kernelspec": {
   "display_name": "Python 3.8.8 ('myenv')",
   "language": "python",
   "name": "python3"
  },
  "language_info": {
   "codemirror_mode": {
    "name": "ipython",
    "version": 3
   },
   "file_extension": ".py",
   "mimetype": "text/x-python",
   "name": "python",
   "nbconvert_exporter": "python",
   "pygments_lexer": "ipython3",
   "version": "3.8.8"
  },
  "orig_nbformat": 4
 },
 "nbformat": 4,
 "nbformat_minor": 2
}
