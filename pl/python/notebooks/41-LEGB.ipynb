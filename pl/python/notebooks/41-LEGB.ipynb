{
 "metadata": {
  "language_info": {
   "codemirror_mode": {
    "name": "ipython",
    "version": 3
   },
   "file_extension": ".py",
   "mimetype": "text/x-python",
   "name": "python",
   "nbconvert_exporter": "python",
   "pygments_lexer": "ipython3",
   "version": "3.8.0-final"
  },
  "orig_nbformat": 2,
  "kernelspec": {
   "name": "python3",
   "display_name": "Python 3.8.0 64-bit",
   "metadata": {
    "interpreter": {
     "hash": "2334294e789e06453e89f7d5c3c2573679701f9bb5b76ad2158f91cca5c9244c"
    }
   }
  }
 },
 "nbformat": 4,
 "nbformat_minor": 2,
 "cells": [
  {
   "source": [
    "# Εμβέλεια μεταβλητών στην Python\n",
    "\n",
    "LEGB = Local, Enclosing, Global, Built-in\n",
    "\n",
    "Local: τοπικές μεταβλητές που ορίζονται σε συναρτήσεις\n",
    "\n",
    "Enclosing: αφορά συναρτήσεις που περιέχουν συναρτήσεις\n",
    "\n",
    "Global: καθολικές μεταβλητές \n",
    "\n",
    "Built-in: ονόματα που έχου προ-ανατεθεί στην Python\n",
    "\n",
    "https://www.youtube.com/watch?v=QVdf0LgmICw\n"
   ],
   "cell_type": "markdown",
   "metadata": {}
  },
  {
   "cell_type": "code",
   "execution_count": 7,
   "metadata": {},
   "outputs": [
    {
     "output_type": "stream",
     "name": "stdout",
     "text": [
      "local_y\nglobal_x\nglobal_x\n"
     ]
    }
   ],
   "source": [
    "x = 'global x'\n",
    "\n",
    "def test():\n",
    "    y = 'local y' # η μεταβλητή y \"ζει\" μόνο μέσα στη συνάρτηση test\n",
    "    print(y) \n",
    "    print(x) # η μεταβλητή x είναι ορατή και μέσα στη συνάρτηση test καθώς είναι global\n",
    "\n",
    "test()\n",
    "print(x)\n",
    "# print(y) # NameError: name 'y' is not defined"
   ]
  },
  {
   "cell_type": "code",
   "execution_count": 8,
   "metadata": {},
   "outputs": [
    {
     "output_type": "stream",
     "name": "stdout",
     "text": [
      "local_x\nglobal_x\n"
     ]
    }
   ],
   "source": [
    "x = 'global x'\n",
    "\n",
    "def test():\n",
    "    x = 'local x' # η μεταβλητή x \"ζει\" μόνο μέσα στη συνάρτηση test\n",
    "    print(x)\n",
    "\n",
    "test()\n",
    "print(x)"
   ]
  },
  {
   "cell_type": "code",
   "execution_count": 9,
   "metadata": {},
   "outputs": [
    {
     "output_type": "stream",
     "name": "stdout",
     "text": [
      "local_x\nlocal_x\n"
     ]
    }
   ],
   "source": [
    "x = 'global x'\n",
    "\n",
    "def test():\n",
    "    global x # θεωρείται κακή πρακτική η χρήση global\n",
    "    x = 'local x' \n",
    "    print(x)\n",
    "\n",
    "test()\n",
    "print(x)"
   ]
  },
  {
   "cell_type": "code",
   "execution_count": 12,
   "metadata": {},
   "outputs": [
    {
     "output_type": "stream",
     "name": "stdout",
     "text": [
      "local x\nlocal z\n"
     ]
    }
   ],
   "source": [
    "x = 'global x'\n",
    "\n",
    "def test(z): # η μεταβλητή z \"ζει\" μόνο μέσα στη συνάρτηση test\n",
    "    x = 'local x' # η μεταβλητή x \"ζει\" μόνο μέσα στη συνάρτηση test\n",
    "    print(x)\n",
    "    print(z)\n",
    "\n",
    "test('local z')\n"
   ]
  },
  {
   "cell_type": "code",
   "execution_count": 16,
   "metadata": {},
   "outputs": [
    {
     "output_type": "stream",
     "name": "stdout",
     "text": [
      "['ArithmeticError', 'AssertionError', 'AttributeError', 'BaseException', 'BlockingIOError', 'BrokenPipeError', 'BufferError', 'BytesWarning', 'ChildProcessError', 'ConnectionAbortedError', 'ConnectionError', 'ConnectionRefusedError', 'ConnectionResetError', 'DeprecationWarning', 'EOFError', 'Ellipsis', 'EnvironmentError', 'Exception', 'False', 'FileExistsError', 'FileNotFoundError', 'FloatingPointError', 'FutureWarning', 'GeneratorExit', 'IOError', 'ImportError', 'ImportWarning', 'IndentationError', 'IndexError', 'InterruptedError', 'IsADirectoryError', 'KeyError', 'KeyboardInterrupt', 'LookupError', 'MemoryError', 'ModuleNotFoundError', 'NameError', 'None', 'NotADirectoryError', 'NotImplemented', 'NotImplementedError', 'OSError', 'OverflowError', 'PendingDeprecationWarning', 'PermissionError', 'ProcessLookupError', 'RecursionError', 'ReferenceError', 'ResourceWarning', 'RuntimeError', 'RuntimeWarning', 'StopAsyncIteration', 'StopIteration', 'SyntaxError', 'SyntaxWarning', 'SystemError', 'SystemExit', 'TabError', 'TimeoutError', 'True', 'TypeError', 'UnboundLocalError', 'UnicodeDecodeError', 'UnicodeEncodeError', 'UnicodeError', 'UnicodeTranslateError', 'UnicodeWarning', 'UserWarning', 'ValueError', 'Warning', 'WindowsError', 'ZeroDivisionError', '__IPYTHON__', '__build_class__', '__debug__', '__doc__', '__import__', '__loader__', '__name__', '__package__', '__spec__', 'abs', 'all', 'any', 'ascii', 'bin', 'bool', 'breakpoint', 'bytearray', 'bytes', 'callable', 'chr', 'classmethod', 'compile', 'complex', 'copyright', 'credits', 'delattr', 'dict', 'dir', 'display', 'divmod', 'enumerate', 'eval', 'exec', 'filter', 'float', 'format', 'frozenset', 'get_ipython', 'getattr', 'globals', 'hasattr', 'hash', 'help', 'hex', 'id', 'input', 'int', 'isinstance', 'issubclass', 'iter', 'len', 'license', 'list', 'locals', 'map', 'max', 'memoryview', 'min', 'next', 'object', 'oct', 'open', 'ord', 'pow', 'print', 'property', 'range', 'repr', 'reversed', 'round', 'set', 'setattr', 'slice', 'sorted', 'staticmethod', 'str', 'sum', 'super', 'tuple', 'type', 'vars', 'zip']\n1\n"
     ]
    }
   ],
   "source": [
    "# builtins\n",
    "\n",
    "import builtins\n",
    "\n",
    "print(dir(builtins))\n",
    "\n",
    "m = min([5,1,4,2,3])\n",
    "print(m)"
   ]
  },
  {
   "cell_type": "code",
   "execution_count": 22,
   "metadata": {},
   "outputs": [],
   "source": [
    "def min():\n",
    "    pass\n",
    "\n",
    "# m = min([5,1,4,2,3]) # TypeError: min() takes 0 positional arguments but 1 was given"
   ]
  },
  {
   "cell_type": "code",
   "execution_count": 24,
   "metadata": {},
   "outputs": [
    {
     "output_type": "stream",
     "name": "stdout",
     "text": [
      "inner x\nouter x\n"
     ]
    }
   ],
   "source": [
    "# enclosing (1/3)\n",
    "\n",
    "def outer():\n",
    "    x = 'outer x'\n",
    "    def inner():\n",
    "        x = 'inner x'\n",
    "        print(x)\n",
    "    inner()\n",
    "    print(x)\n",
    "\n",
    "outer()\n"
   ]
  },
  {
   "cell_type": "code",
   "execution_count": 25,
   "metadata": {},
   "outputs": [
    {
     "output_type": "stream",
     "name": "stdout",
     "text": [
      "outer x\nouter x\n"
     ]
    }
   ],
   "source": [
    "# enclosing (2/3)\n",
    "\n",
    "def outer():\n",
    "    x = 'outer x'\n",
    "    def inner():\n",
    "        # x = 'inner x'\n",
    "        print(x)\n",
    "    inner()\n",
    "    print(x)\n",
    "\n",
    "outer()"
   ]
  },
  {
   "cell_type": "code",
   "execution_count": 28,
   "metadata": {},
   "outputs": [
    {
     "output_type": "stream",
     "name": "stdout",
     "text": [
      "inner x\ninner x\n"
     ]
    }
   ],
   "source": [
    "# nonlocal\n",
    "# enclosing (3/3)\n",
    "\n",
    "def outer():\n",
    "    x = 'outer x'\n",
    "    def inner():\n",
    "        nonlocal x # προκειμένου να γίνει αναφορά στη μεταβλητή x της εξωτερικής συνάρτησης outer\n",
    "        x = 'inner x'\n",
    "        print(x)\n",
    "    inner()\n",
    "    print(x)\n",
    "\n",
    "outer()"
   ]
  },
  {
   "cell_type": "code",
   "execution_count": null,
   "metadata": {},
   "outputs": [],
   "source": []
  }
 ]
}