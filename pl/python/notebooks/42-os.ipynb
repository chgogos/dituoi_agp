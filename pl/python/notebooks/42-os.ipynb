{
 "cells": [
  {
   "cell_type": "markdown",
   "metadata": {},
   "source": [
    "# os\n",
    "\n",
    "To module os"
   ]
  },
  {
   "cell_type": "markdown",
   "metadata": {},
   "source": [
    "    Τμήμα Πληροφορικής και Τηλεπικοινωνιών - Άρτα \n",
    "    Πανεπιστήμιο Ιωαννίνων \n",
    "\n",
    "    Γκόγκος Χρήστος \n",
    "    http://chgogos.github.io/\n",
    "    Τελευταία ενημέρωση: 19/3/2022"
   ]
  },
  {
   "cell_type": "markdown",
   "metadata": {},
   "source": [
    "To module os επιτρέπει τη χρήση λειτουργικότητας του Λειτουργικού Συστήματος. Επιτρέπει την πλοήγηση στο σύστημα αρχείων, τη λήψη πληροφοριών σχετικά με τα αρχεία και τους καταλόγους, τη μετονομάσια αρχείων, τη λήψη μεταβλητών συστήματος κ.α."
   ]
  },
  {
   "cell_type": "code",
   "execution_count": 1,
   "metadata": {},
   "outputs": [],
   "source": [
    "import os # builtin module"
   ]
  },
  {
   "cell_type": "code",
   "execution_count": 2,
   "metadata": {},
   "outputs": [
    {
     "name": "stdout",
     "output_type": "stream",
     "text": [
      "e:\\git_repos\\dituoi_agp\\pl\\python\\notebooks\n"
     ]
    }
   ],
   "source": [
    "# τρέχον κατάλογος\n",
    "cwd = os.getcwd()\n",
    "print(cwd)"
   ]
  },
  {
   "cell_type": "code",
   "execution_count": 3,
   "metadata": {},
   "outputs": [
    {
     "name": "stdout",
     "output_type": "stream",
     "text": [
      "['advent2020_18.txt', 'cal_housing.csv', 'cal_housing.xls', 'cal_housing.xlsx', 'dit.json', 'dummy.txt', 'google_stock_data.csv', 'google_stock_data_output.csv', 'greek_cities.csv', 'index.md', 'iris.csv', 'itc2021', 'metamorphosis.txt', 'ml-100k', 'movies.json', 'movies.xml', 'notes.xml', 'person.json', 'person.xml', 'person.yaml', 'tasks_example.ini', 'text_for_regex_experiments.txt']\n"
     ]
    }
   ],
   "source": [
    "# πλοήγηση σε καταλόγους και εμφάνιση λίστας αρχείων \n",
    "os.chdir(\"../../../datasets\") # αλλαγή τρέχοντος καταλόγου\n",
    "print(os.listdir(\".\")) # επιστροφή λίστας με τα αρχεία ενός καταλόγου\n",
    "os.chdir(cwd) # επιστροφή στον αρχικό κατάλογο"
   ]
  },
  {
   "cell_type": "code",
   "execution_count": 4,
   "metadata": {},
   "outputs": [
    {
     "name": "stdout",
     "output_type": "stream",
     "text": [
      "['advent2020_18.txt', 'cal_housing.csv', 'cal_housing.xls', 'cal_housing.xlsx', 'dit.json', 'dummy.txt', 'google_stock_data.csv', 'google_stock_data_output.csv', 'greek_cities.csv', 'index.md', 'iris.csv', 'itc2021', 'metamorphosis.txt', 'ml-100k', 'movies.json', 'movies.xml', 'notes.xml', 'person.json', 'person.xml', 'person.yaml', 'tasks_example.ini', 'temp', 'text_for_regex_experiments.txt']\n",
      "########################################\n",
      "['advent2020_18.txt', 'cal_housing.csv', 'cal_housing.xls', 'cal_housing.xlsx', 'dit.json', 'dummy.txt', 'google_stock_data.csv', 'google_stock_data_output.csv', 'greek_cities.csv', 'index.md', 'iris.csv', 'itc2021', 'metamorphosis.txt', 'ml-100k', 'movies.json', 'movies.xml', 'notes.xml', 'person.json', 'person.xml', 'person.yaml', 'tasks_example.ini', 'text_for_regex_experiments.txt']\n"
     ]
    }
   ],
   "source": [
    "# δημιουργία νέου καταλόγου και διαγραφή καταλόγου\n",
    "cwd = os.getcwd()\n",
    "os.chdir(\"../../../datasets\")\n",
    "os.mkdir(\"temp\") # <-- δημιουργία καταλόγου\n",
    "print(os.listdir(\".\"))\n",
    "os.rmdir(\"temp\") # <-- διαγραφή καταλόγου\n",
    "print(\"#\" * 40)\n",
    "print(os.listdir(\".\"))\n",
    "os.chdir(cwd)"
   ]
  },
  {
   "cell_type": "code",
   "execution_count": 8,
   "metadata": {},
   "outputs": [
    {
     "name": "stdout",
     "output_type": "stream",
     "text": [
      "os.stat_result(st_mode=33206, st_ino=1407374884946797, st_dev=7073154, st_nlink=1, st_uid=0, st_gid=0, st_size=1616, st_atime=1647352327, st_mtime=1614503455, st_ctime=1613688567)\n",
      "2021-02-28 11:10:55.267291\n"
     ]
    }
   ],
   "source": [
    "# λήψη πληροφοριών για ένα αρχείο\n",
    "print(os.stat('os.ipynb'))\n",
    "from datetime import datetime\n",
    "print(datetime.fromtimestamp(os.stat('os.ipynb').st_mtime))"
   ]
  },
  {
   "cell_type": "code",
   "execution_count": 5,
   "metadata": {},
   "outputs": [
    {
     "name": "stdout",
     "output_type": "stream",
     "text": [
      "Current path: .\n",
      "Directories: ['itc2021', 'ml-100k']\n",
      "Files: ['advent2020_18.txt', 'cal_housing.csv', 'cal_housing.xls', 'cal_housing.xlsx', 'dit.json', 'dummy.txt', 'google_stock_data.csv', 'google_stock_data_output.csv', 'greek_cities.csv', 'index.md', 'iris.csv', 'metamorphosis.txt', 'movies.json', 'movies.xml', 'notes.xml', 'person.json', 'person.xml', 'person.yaml', 'tasks_example.ini', 'text_for_regex_experiments.txt']\n",
      "########################################\n",
      "Current path: .\\itc2021\n",
      "Directories: []\n",
      "Files: ['ITC2021_Test8_SolGenMethodA.json', 'ITC2021_Test8_SolGenMethodA.xml', 'ITC2021_Test8_SolGenMethodA.yaml']\n",
      "########################################\n",
      "Current path: .\\ml-100k\n",
      "Directories: []\n",
      "Files: ['README', 'u.data', 'u.item']\n",
      "########################################\n"
     ]
    }
   ],
   "source": [
    "# διάσχιση δένδρου καταλόγων\n",
    "cwd = os.getcwd()\n",
    "os.chdir(\"../../../datasets\")\n",
    "for dirpath, dirnames, filenames in os.walk(\".\"):\n",
    "    print(\"Current path:\", dirpath)\n",
    "    print(\"Directories:\", dirnames)\n",
    "    print(\"Files:\", filenames)\n",
    "    print(\"#\" * 40)\n",
    "os.chdir(cwd)    "
   ]
  },
  {
   "cell_type": "code",
   "execution_count": 12,
   "metadata": {},
   "outputs": [],
   "source": [
    "# μεταβλητές περιβάλλοντος\n",
    "\n",
    "# print(os.environ['PATH'])\n",
    "# print(os.getenv('PATH')) # εναλλακτικά"
   ]
  },
  {
   "cell_type": "code",
   "execution_count": 7,
   "metadata": {},
   "outputs": [
    {
     "name": "stdout",
     "output_type": "stream",
     "text": [
      "8\n"
     ]
    }
   ],
   "source": [
    "# πληροφορίες για τον H/Y\n",
    "print(os.cpu_count())"
   ]
  },
  {
   "cell_type": "code",
   "execution_count": 20,
   "metadata": {},
   "outputs": [
    {
     "name": "stdout",
     "output_type": "stream",
     "text": [
      "test.txt\n",
      "('/home/sub', 'test.txt')\n",
      "('/home/sub/test', '.txt')\n",
      "False\n"
     ]
    }
   ],
   "source": [
    "# λήψη  καταλόγου, ονόματος αρχείου και επέκτασης αρχείου στο οποίο αντιστοιχεί μια διαδρομή προς ένα αρχείο\n",
    "print(os.path.basename('/home/sub/test.txt')) \n",
    "print(os.path.split('/home/sub/test.txt'))\n",
    "print(os.path.splitext('/home/sub/test.txt'))\n",
    "print(os.path.exists('/home/sub/test.txt')) # έλεγχος αν το αρχείο υπάρχει"
   ]
  },
  {
   "cell_type": "code",
   "execution_count": 25,
   "metadata": {},
   "outputs": [
    {
     "name": "stdout",
     "output_type": "stream",
     "text": [
      "False\n",
      "True\n"
     ]
    }
   ],
   "source": [
    "# έλεγχος αν μια διαδρομή οδηγεί σε αρχείο ή σε κατάλογο\n",
    "print(os.path.isdir('os.ipynb'))\n",
    "print(os.path.isfile('os.ipynb'))"
   ]
  }
 ],
 "metadata": {
  "kernelspec": {
   "display_name": "Python 3.8.0 64-bit",
   "metadata": {
    "interpreter": {
     "hash": "2334294e789e06453e89f7d5c3c2573679701f9bb5b76ad2158f91cca5c9244c"
    }
   },
   "name": "python3"
  },
  "language_info": {
   "codemirror_mode": {
    "name": "ipython",
    "version": 3
   },
   "file_extension": ".py",
   "mimetype": "text/x-python",
   "name": "python",
   "nbconvert_exporter": "python",
   "pygments_lexer": "ipython3",
   "version": "3.8.8"
  },
  "orig_nbformat": 2
 },
 "nbformat": 4,
 "nbformat_minor": 2
}
