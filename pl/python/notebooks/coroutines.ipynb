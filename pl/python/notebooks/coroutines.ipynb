{
 "metadata": {
  "language_info": {
   "codemirror_mode": {
    "name": "ipython",
    "version": 3
   },
   "file_extension": ".py",
   "mimetype": "text/x-python",
   "name": "python",
   "nbconvert_exporter": "python",
   "pygments_lexer": "ipython3",
   "version": "3.8.0"
  },
  "orig_nbformat": 2,
  "kernelspec": {
   "name": "python380jvsc74a57bd02334294e789e06453e89f7d5c3c2573679701f9bb5b76ad2158f91cca5c9244c",
   "display_name": "Python 3.8.0 64-bit"
  }
 },
 "nbformat": 4,
 "nbformat_minor": 2,
 "cells": [
  {
   "cell_type": "code",
   "execution_count": 2,
   "metadata": {},
   "outputs": [
    {
     "output_type": "stream",
     "name": "stdout",
     "text": [
      "Hi\n"
     ]
    }
   ],
   "source": [
    "def fun():\n",
    "    print('Hi')\n",
    "fun()"
   ]
  },
  {
   "cell_type": "code",
   "execution_count": 3,
   "metadata": {},
   "outputs": [
    {
     "output_type": "execute_result",
     "data": {
      "text/plain": [
       "<coroutine object fun at 0x0000022ABB490040>"
      ]
     },
     "metadata": {},
     "execution_count": 3
    }
   ],
   "source": [
    "async def fun():\n",
    "    print('hi')\n",
    "fun()"
   ]
  },
  {
   "source": [
    "Οι coroutines είναι παρόμοιες με τους generators. Ωστόσο\n",
    "\n",
    "* Οι generators παράγουν δεδομένα\n",
    "* Οι coroutines καταναλώνουν δεδομένα\n",
    "\n",
    "Η διαφορά τους υποδηλώνεται με τη διαφορετική χρήση της λέξης κλειδιού yield.\n",
    "\n",
    "https://stackabuse.com/coroutines-in-python/"
   ],
   "cell_type": "markdown",
   "metadata": {}
  },
  {
   "cell_type": "code",
   "execution_count": 4,
   "metadata": {},
   "outputs": [
    {
     "output_type": "stream",
     "name": "stdout",
     "text": [
      "Enter coroutine\nFirst value\nSecond value\nExit coroutine\n"
     ]
    }
   ],
   "source": [
    "def bare_bones():\n",
    "    print(\"Enter coroutine\")\n",
    "    try:\n",
    "        while True:\n",
    "            value = (yield)\n",
    "            print(value)\n",
    "    except GeneratorExit:\n",
    "        print(\"Exit coroutine\")\n",
    "\n",
    "coroutine = bare_bones()\n",
    "next(coroutine)\n",
    "coroutine.send(\"First value\")\n",
    "coroutine.send(\"Second value\")\n",
    "coroutine.close()"
   ]
  },
  {
   "cell_type": "code",
   "execution_count": null,
   "metadata": {},
   "outputs": [],
   "source": []
  }
 ]
}