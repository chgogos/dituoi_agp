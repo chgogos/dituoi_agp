{
 "cells": [
  {
   "cell_type": "markdown",
   "metadata": {},
   "source": [
    "    Τμήμα Πληροφορικής και Τηλεπικοινωνιών - Άρτα \n",
    "    Πανεπιστήμιο Ιωαννίνων \n",
    "\n",
    "    Γκόγκος Χρήστος \n",
    "    http://chgogos.github.io/\n",
    "    \n",
    "    Τελευταία ενημέρωση: 16/4/2022"
   ]
  },
  {
   "cell_type": "markdown",
   "metadata": {},
   "source": [
    "# Data classes\n",
    "\n",
    "Τα data classes υπάρχουν στην Python από την έκδοση 3.7 και μετά\n",
    "\n",
    "Τα data classes επιτρέπουν τη γρήγορη δημιουργία αντικειμένων, την παρουσίασή τους και τη διάταξή τους."
   ]
  },
  {
   "cell_type": "code",
   "execution_count": 5,
   "metadata": {},
   "outputs": [
    {
     "name": "stdout",
     "output_type": "stream",
     "text": [
      "<__main__.Person object at 0x000002E976297F70>\n",
      "<__main__.Person object at 0x000002E9762971F0>\n"
     ]
    }
   ],
   "source": [
    "# Example from : https://www.youtube.com/watch?v=vRVVyl9uaZc\n",
    "# Μια απλή κλάση\n",
    "\n",
    "class Person:\n",
    "    name: str\n",
    "    age: int\n",
    "\n",
    "    def __init__(self, name, age):\n",
    "        self.name = name\n",
    "        self.age = age\n",
    "\n",
    "p1 = Person(\"Nikos\", 30)\n",
    "p2 = Person(\"Sofia\", 32)\n",
    "\n",
    "print(p1)\n",
    "print(p2)"
   ]
  },
  {
   "cell_type": "code",
   "execution_count": 1,
   "metadata": {},
   "outputs": [
    {
     "name": "stdout",
     "output_type": "stream",
     "text": [
      "Person(name='Nikos', age=30)\n",
      "(30, 'Nikos', 30)\n",
      "{'sort_index': 30, 'name': 'Nikos', 'age': 30}\n",
      "Person(name='Sofia', age=32)\n",
      "True\n",
      "True\n"
     ]
    }
   ],
   "source": [
    "from dataclasses import dataclass, field, astuple, asdict\n",
    "\n",
    "@dataclass(order=True)\n",
    "class Person:\n",
    "    sort_index: int = field(init=False, repr=False)\n",
    "    name: str\n",
    "    age: int = 20\n",
    "\n",
    "    def __post_init__(self):\n",
    "        self.sort_index = self.age\n",
    "        # object.__setattr__(self, 'sort_index', self.strength)\n",
    "        \n",
    "p1 = Person(\"Nikos\", 30)\n",
    "p2 = Person(\"Sofia\", 32)\n",
    "p3 = Person(\"Sofia\", 32)\n",
    "p4 = Person(\"Petros\")\n",
    "\n",
    "print(p1)\n",
    "print(astuple(p1))\n",
    "print(asdict(p1))\n",
    "print(p2)\n",
    "\n",
    "print(p2==p3)\n",
    "print(p2>p1)  # order by age"
   ]
  },
  {
   "cell_type": "code",
   "execution_count": 6,
   "metadata": {},
   "outputs": [
    {
     "name": "stdout",
     "output_type": "stream",
     "text": [
      "[('__eq__', <function __create_fn__.<locals>.__eq__ at 0x0000027BC47845E0>),\n",
      " ('__ge__', <function __create_fn__.<locals>.__ge__ at 0x0000027BC4784820>),\n",
      " ('__gt__', <function __create_fn__.<locals>.__gt__ at 0x0000027BC4784790>),\n",
      " ('__init__', <function __create_fn__.<locals>.__init__ at 0x0000027BC47843A0>),\n",
      " ('__le__', <function __create_fn__.<locals>.__le__ at 0x0000027BC4784700>),\n",
      " ('__lt__', <function __create_fn__.<locals>.__lt__ at 0x0000027BC4784670>),\n",
      " ('__post_init__', <function Person.__post_init__ at 0x0000027BC4784310>),\n",
      " ('__repr__', <function __create_fn__.<locals>.__repr__ at 0x0000027BC4784430>)]\n"
     ]
    }
   ],
   "source": [
    "# μέθοδοι που υλοποιούνται αύτόματα σε dataclasses\n",
    "\n",
    "from pprint import pprint\n",
    "import inspect \n",
    "\n",
    "pprint(inspect.getmembers(Person, inspect.isfunction))"
   ]
  },
  {
   "cell_type": "code",
   "execution_count": null,
   "metadata": {},
   "outputs": [],
   "source": []
  }
 ],
 "metadata": {
  "interpreter": {
   "hash": "f40a6e13c37d34a8e08b5b5c92d22f0cb84668e50c3976fc188360a208488fc1"
  },
  "kernelspec": {
   "display_name": "Python 3.8.13 ('myenv')",
   "language": "python",
   "name": "python3"
  },
  "language_info": {
   "codemirror_mode": {
    "name": "ipython",
    "version": 3
   },
   "file_extension": ".py",
   "mimetype": "text/x-python",
   "name": "python",
   "nbconvert_exporter": "python",
   "pygments_lexer": "ipython3",
   "version": "3.8.13"
  },
  "orig_nbformat": 4
 },
 "nbformat": 4,
 "nbformat_minor": 2
}
