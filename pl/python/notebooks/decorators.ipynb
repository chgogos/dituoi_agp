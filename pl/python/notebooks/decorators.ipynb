{
 "metadata": {
  "language_info": {
   "codemirror_mode": {
    "name": "ipython",
    "version": 3
   },
   "file_extension": ".py",
   "mimetype": "text/x-python",
   "name": "python",
   "nbconvert_exporter": "python",
   "pygments_lexer": "ipython3",
   "version": "3.8.0"
  },
  "orig_nbformat": 2,
  "kernelspec": {
   "name": "python380jvsc74a57bd02334294e789e06453e89f7d5c3c2573679701f9bb5b76ad2158f91cca5c9244c",
   "display_name": "Python 3.8.0 64-bit ('3.8.0-amd64': pyenv)"
  }
 },
 "nbformat": 4,
 "nbformat_minor": 2,
 "cells": [
  {
   "source": [
    "# Decorators\n",
    "\n",
    "Decorator είναι μια συνάρτηση που λαμβάνει μια άλλη συνάρτηση ως όρισμα, προσθέτει κάποια λειτουργικότητα και επιστρέφει μια άλλη συνάρτηση χωρίς να αλλάζει τον κώδικα της συνάρτησης που δέχεται ως όρισμα\n",
    "\n",
    "Παραδείγματα από το https://www.youtube.com/watch?v=FsAPt_9Bf3U"
   ],
   "cell_type": "markdown",
   "metadata": {}
  },
  {
   "cell_type": "code",
   "execution_count": 7,
   "metadata": {},
   "outputs": [
    {
     "output_type": "stream",
     "name": "stdout",
     "text": [
      "wrapper executed this before display\ndisplay function ran\n"
     ]
    }
   ],
   "source": [
    "# functions as decorators\n",
    "\n",
    "def decorator_function(original_function):\n",
    "    def wrapper_function():\n",
    "        print(f'wrapper executed this before {original_function.__name__}')\n",
    "        return original_function()\n",
    "    return wrapper_function\n",
    "\n",
    "def display():\n",
    "    print('display function ran')\n",
    "\n",
    "decorated_display = decorator_function(display)\n",
    "decorated_display()"
   ]
  },
  {
   "cell_type": "code",
   "execution_count": 1,
   "metadata": {},
   "outputs": [
    {
     "output_type": "stream",
     "name": "stdout",
     "text": [
      "wrapper executed this before display\ndisplay function ran\n"
     ]
    }
   ],
   "source": [
    "# ισοδύναμο με το παραπάνω\n",
    "\n",
    "def decorator_function(original_function):\n",
    "    def wrapper_function():\n",
    "        print(f'wrapper executed this before {original_function.__name__}')\n",
    "        return original_function()\n",
    "    return wrapper_function\n",
    "\n",
    "@decorator_function\n",
    "def display():\n",
    "    print('display function ran')\n",
    "\n",
    "display()"
   ]
  },
  {
   "cell_type": "code",
   "execution_count": 13,
   "metadata": {},
   "outputs": [
    {
     "output_type": "stream",
     "name": "stdout",
     "text": [
      "wrapper executed this before display\ndisplay function ran\nwrapper executed this before display_info\ndisplay_info ran with arguments John 25\n"
     ]
    }
   ],
   "source": [
    "# με ορίσματα\n",
    "\n",
    "def decorator_function(original_function):\n",
    "    def wrapper_function(*args, **kwargs):\n",
    "        print(f'wrapper executed this before {original_function.__name__}')\n",
    "        return original_function(*args, **kwargs)\n",
    "    return wrapper_function\n",
    "\n",
    "@decorator_function\n",
    "def display():\n",
    "    print('display function ran')\n",
    "\n",
    "@decorator_function\n",
    "def display_info(name, age):\n",
    "    print(f'display_info ran with arguments {name} {age}')\n",
    "\n",
    "display()\n",
    "display_info('John', 25)"
   ]
  },
  {
   "cell_type": "code",
   "execution_count": 16,
   "metadata": {},
   "outputs": [
    {
     "output_type": "stream",
     "name": "stdout",
     "text": [
      "call method executed this before display\ndisplay function ran\ncall method executed this before display_info\ndisplay_info ran with arguments John 25\n"
     ]
    }
   ],
   "source": [
    "# classes as decorators\n",
    "\n",
    "class decorator_class(object):\n",
    "    def __init__(self, original_function):\n",
    "        self.original_function = original_function\n",
    "\n",
    "    def __call__(self, *args, **kwargs):\n",
    "        print(f'call method executed this before {self.original_function.__name__}')\n",
    "        return self.original_function(*args, **kwargs)\n",
    "\n",
    "@decorator_class\n",
    "def display():\n",
    "    print('display function ran')\n",
    "\n",
    "@decorator_class\n",
    "def display_info(name, age):\n",
    "    print(f'display_info ran with arguments {name} {age}')\n",
    "\n",
    "display()\n",
    "display_info('John', 25)"
   ]
  },
  {
   "cell_type": "code",
   "execution_count": 18,
   "metadata": {},
   "outputs": [
    {
     "output_type": "stream",
     "name": "stderr",
     "text": [
      "INFO:root:Ran with args: ('John', 25) and kwargs: {}\n",
      "display_info ran with arguments John 25\n"
     ]
    }
   ],
   "source": [
    "# πρακτικά παραδείγματα decorators\n",
    "\n",
    "def my_logger(orig_func):\n",
    "    import logging\n",
    "    logging.basicConfig(level = logging.INFO)\n",
    "\n",
    "    def wrapper(*args, **kwargs):\n",
    "        logging.info(f'Ran with args: {args} and kwargs: {kwargs}')\n",
    "        return orig_func(*args, **kwargs)\n",
    "\n",
    "    return wrapper\n",
    "\n",
    "\n",
    "@my_logger\n",
    "def display_info(name, age):\n",
    "    print(f'display_info ran with arguments {name} {age}')\n",
    "\n",
    "display_info('John', 25)"
   ]
  },
  {
   "cell_type": "code",
   "execution_count": 21,
   "metadata": {},
   "outputs": [
    {
     "output_type": "stream",
     "name": "stdout",
     "text": [
      "display_info ran with arguments John 25\n('display_info', 1.01481032371521)\n"
     ]
    }
   ],
   "source": [
    "# πρακτικά παραδείγματα decorators\n",
    "\n",
    "def my_timer(orig_func):\n",
    "    import time\n",
    "\n",
    "    def wrapper(*args, **kwargs):\n",
    "        t1 = time.time()\n",
    "        result = orig_func(*args, **kwargs)\n",
    "        t2 = time.time() - t1\n",
    "        print(f'{orig_func.__name__, t2}')\n",
    "\n",
    "    return wrapper\n",
    "\n",
    "import time\n",
    "\n",
    "@my_timer\n",
    "def display_info(name, age):\n",
    "    time.sleep(1)\n",
    "    print(f'display_info ran with arguments {name} {age}')\n",
    "\n",
    "display_info('John', 25)"
   ]
  },
  {
   "cell_type": "code",
   "execution_count": 23,
   "metadata": {},
   "outputs": [
    {
     "output_type": "stream",
     "name": "stderr",
     "text": [
      "INFO:root:Ran with args: ('John', 25) and kwargs: {}\n",
      "display_info ran with arguments John 25\n",
      "('display_info', 0.0010013580322265625)\n"
     ]
    }
   ],
   "source": [
    "# chain decorators\n",
    "from functools import wraps\n",
    "\n",
    "\n",
    "def my_logger(orig_func):\n",
    "    import logging\n",
    "    logging.basicConfig(level = logging.INFO)\n",
    "\n",
    "    @wraps(orig_func)\n",
    "    def wrapper(*args, **kwargs):\n",
    "        logging.info(f'Ran with args: {args} and kwargs: {kwargs}')\n",
    "        return orig_func(*args, **kwargs)\n",
    "\n",
    "    return wrapper\n",
    "\n",
    "def my_timer(orig_func):\n",
    "    import time\n",
    "\n",
    "    @wraps(orig_func)\n",
    "    def wrapper(*args, **kwargs):\n",
    "        t1 = time.time()\n",
    "        result = orig_func(*args, **kwargs)\n",
    "        t2 = time.time() - t1\n",
    "        print(f'{orig_func.__name__, t2}')\n",
    "\n",
    "    return wrapper\n",
    "\n",
    "@my_logger\n",
    "@my_timer\n",
    "def display_info(name, age):\n",
    "    print(f'display_info ran with arguments {name} {age}')\n",
    "\n",
    "display_info('John', 25)"
   ]
  },
  {
   "cell_type": "code",
   "execution_count": null,
   "metadata": {},
   "outputs": [],
   "source": []
  }
 ]
}