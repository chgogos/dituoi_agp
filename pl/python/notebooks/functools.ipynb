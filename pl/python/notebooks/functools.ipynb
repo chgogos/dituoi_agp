{
 "metadata": {
  "language_info": {
   "codemirror_mode": {
    "name": "ipython",
    "version": 3
   },
   "file_extension": ".py",
   "mimetype": "text/x-python",
   "name": "python",
   "nbconvert_exporter": "python",
   "pygments_lexer": "ipython3",
   "version": "3.8.0"
  },
  "orig_nbformat": 2,
  "kernelspec": {
   "name": "python380jvsc74a57bd02334294e789e06453e89f7d5c3c2573679701f9bb5b76ad2158f91cca5c9244c",
   "display_name": "Python 3.8.0 64-bit ('3.8.0-amd64': pyenv)"
  }
 },
 "nbformat": 4,
 "nbformat_minor": 2,
 "cells": [
  {
   "source": [
    "    Τμήμα Πληροφορικής και Τηλεπικοινωνιών - Άρτα \n",
    "    Πανεπιστήμιο Ιωαννίνων \n",
    "\n",
    "    Γκόγκος Χρήστος \n",
    "    http://chgogos.github.io/\n",
    "    Εαρινό εξάμηνο 2020-2021"
   ],
   "cell_type": "markdown",
   "metadata": {}
  },
  {
   "source": [
    "# functools\n",
    "\n",
    "Το module functools αφορά higher order functions (συναρτήσεις υψηλότερης τάξης)"
   ],
   "cell_type": "markdown",
   "metadata": {}
  },
  {
   "cell_type": "code",
   "execution_count": 1,
   "metadata": {},
   "outputs": [
    {
     "output_type": "stream",
     "name": "stdout",
     "text": [
      "['RLock', 'WRAPPER_ASSIGNMENTS', 'WRAPPER_UPDATES', '_CacheInfo', '_HashedSeq', '_NOT_FOUND', '__all__', '__builtins__', '__cached__', '__doc__', '__file__', '__loader__', '__name__', '__package__', '__spec__', '_c3_merge', '_c3_mro', '_compose_mro', '_convert', '_find_impl', '_ge_from_gt', '_ge_from_le', '_ge_from_lt', '_gt_from_ge', '_gt_from_le', '_gt_from_lt', '_initial_missing', '_le_from_ge', '_le_from_gt', '_le_from_lt', '_lru_cache_wrapper', '_lt_from_ge', '_lt_from_gt', '_lt_from_le', '_make_key', '_unwrap_partial', 'cached_property', 'cmp_to_key', 'get_cache_token', 'lru_cache', 'namedtuple', 'partial', 'partialmethod', 'recursive_repr', 'reduce', 'singledispatch', 'singledispatchmethod', 'total_ordering', 'update_wrapper', 'wraps']\n"
     ]
    }
   ],
   "source": [
    "import functools\n",
    "\n",
    "print(dir(functools))"
   ]
  },
  {
   "source": [
    "## functools.partial\n",
    "\n",
    "Πρόκειται για μια higher order function που επιτρέπει τη μερική αποτίμηση (partial application) μιας συνάρτησης\n"
   ],
   "cell_type": "markdown",
   "metadata": {}
  },
  {
   "cell_type": "code",
   "execution_count": 2,
   "metadata": {},
   "outputs": [
    {
     "output_type": "stream",
     "name": "stdout",
     "text": [
      "10\n10\n10\n10\n"
     ]
    }
   ],
   "source": [
    "def my_func4(a,b,c,d):\n",
    "    return a + b + c + d\n",
    "\n",
    "my_func3 = functools.partial(my_func4, 1)\n",
    "my_func2 = functools.partial(my_func3, 2)\n",
    "my_func1 = functools.partial(my_func2, 3)\n",
    "\n",
    "print(my_func4(1,2,3,4))\n",
    "print(my_func3(2,3,4))\n",
    "print(my_func2(3,4))\n",
    "print(my_func1(4))"
   ]
  },
  {
   "source": [
    "## functools.lru_cache\n",
    "LRU = Least Recently Used\n",
    "\n",
    "Αποθηκεύει το αποτέλεσμα από την τελευταία εκτέλεση της συνάρτησης στη μνήμη και όταν η συνάρτηση πρόκειται να εκτελεστεί ξανά επιστρέφει την αποθηκευμένη τιμή εφόσον την βρει εκεί αλλιώς προχωρά στην εκτέλεση της συνάρτησης."
   ],
   "cell_type": "markdown",
   "metadata": {}
  },
  {
   "cell_type": "code",
   "execution_count": 11,
   "metadata": {},
   "outputs": [
    {
     "output_type": "stream",
     "name": "stdout",
     "text": [
      "Αποτέλεσμα 9227465, χρειάστηκαν 2.73813796043396 δευτερόλεπτα \n"
     ]
    }
   ],
   "source": [
    "from time import time\n",
    "\n",
    "def fibo(n):\n",
    "    if n<=1:\n",
    "        return n\n",
    "    else:\n",
    "        return fibo(n-1) + fibo(n-2)\n",
    "\n",
    "start = time()\n",
    "f35 = fibo(35)\n",
    "print(f'Αποτέλεσμα {f35}, χρειάστηκαν {time()-start} δευτερόλεπτα ')\n"
   ]
  },
  {
   "cell_type": "code",
   "execution_count": 15,
   "metadata": {},
   "outputs": [
    {
     "output_type": "stream",
     "name": "stdout",
     "text": [
      "Αποτέλεσμα 9227465, χρειάστηκαν 0.0 δευτερόλεπτα \n"
     ]
    }
   ],
   "source": [
    "@functools.lru_cache(maxsize=128)\n",
    "def fibo_cached(n):\n",
    "    if n<=1:\n",
    "        return n\n",
    "    else:\n",
    "        return fibo_cached(n-1) + fibo_cached(n-2)\n",
    "\n",
    "start = time()\n",
    "f35 = fibo_cached(35)\n",
    "print(f'Αποτέλεσμα {f35}, χρειάστηκαν {time()-start} δευτερόλεπτα ')\n"
   ]
  },
  {
   "source": [
    "## functools singledispatch\n",
    "\n",
    "H singledispatch επιτρέπει την υπερφόρτωση συναρτήσεων καθώς μετατρέπει μια συνάρτηση σε γενερική με διαφορετική συμπεριφορά ανάλογα με το τύπο δεδoμένων του πρώτου ορίσματός της."
   ],
   "cell_type": "markdown",
   "metadata": {}
  },
  {
   "cell_type": "code",
   "execution_count": 27,
   "metadata": {},
   "outputs": [
    {
     "output_type": "stream",
     "name": "stdout",
     "text": [
      "έλαβα έναν ακέραιο\nέλαβα μια λίστα ή ένα tuple\nέλαβα μια λίστα ή ένα tuple\nπροκαθορισμένη υλοποίηση\n"
     ]
    }
   ],
   "source": [
    "# singledispatch\n",
    "\n",
    "@functools.singledispatch\n",
    "def my_func(x):\n",
    "    print(\"προκαθορισμένη υλοποίηση\")\n",
    "\n",
    "@my_func.register(int)\n",
    "def _(x):\n",
    "    print(\"έλαβα έναν ακέραιο\")\n",
    "\n",
    "@my_func.register(list)\n",
    "@my_func.register(tuple)\n",
    "def _(x):\n",
    "    print(\"έλαβα μια λίστα ή ένα tuple\")\n",
    "\n",
    "my_func(5)\n",
    "my_func([7,1,2])\n",
    "my_func((7,1,2))\n",
    "my_func(1.2)"
   ]
  },
  {
   "source": [
    "## functools reduce\n",
    "\n",
    "Η functools.reduce λειτουργεί ως εξής:\n",
    "\n",
    "* Στην πρώτη επανάληψη, η συνάρτηση εφαρμόζεται στο πρώτο στοιχείο της ακολουθίας και στην αρχική τιμή (αν δεν παρέχεται αρχική τιμή η συνάρτηση εφαρμόζεται στα δύο πρώτα στοιχεία της ακολουθίας)\n",
    "* Στις επόμενες επαναλήψεις, η συνάρτηση εφαρμόζεται στο αποτέλεσμα που έχει υπολογιστεί στην προηγούμενη κάθε φορά επανάληψη και στο επόμενο στοιχείο της ακολουθίας και μέχρι να εξαντληθεί η ακολουθία"
   ],
   "cell_type": "markdown",
   "metadata": {}
  },
  {
   "cell_type": "code",
   "execution_count": 32,
   "metadata": {},
   "outputs": [
    {
     "output_type": "stream",
     "name": "stdout",
     "text": [
      "15\n115\n5\n1\n"
     ]
    }
   ],
   "source": [
    "# reduce (τα 2 πρώτα ορίσματα μια συνάρτηση, και ένα iterable)\n",
    "a_list = [1,2,3,4,5]\n",
    "\n",
    "print(functools.reduce(lambda a, b: a+b, a_list)) # άθροισμα τιμών λίστας\n",
    "print(functools.reduce(lambda a, b: a+b, a_list, 100)) # άθροισμα τιμών λίστας με αρχική τιμή 100\n",
    "print(functools.reduce(max, a_list)) # μέγιστο λίστας\n",
    "print(functools.reduce(min, a_list)) # ελάχιστο λίστας"
   ]
  },
  {
   "source": [
    "## functools total_ordering"
   ],
   "cell_type": "markdown",
   "metadata": {}
  },
  {
   "cell_type": "code",
   "execution_count": 8,
   "metadata": {},
   "outputs": [],
   "source": [
    "# Ορίζουμε μόνο τη συμπεριφορά για το == και το < και συμπληρώνεται η συμπεριφορά για τους υπόλοιπους τελεστές σύγκρισης\n",
    "\n",
    "\n",
    "@functools.total_ordering\n",
    "class Employee:\n",
    "\n",
    "    def __init__(self, name, salary):\n",
    "        self.name = name\n",
    "        self.salary = salary\n",
    "\n",
    "    def __eq__(self, other):\n",
    "        return self.salary == other.salary\n",
    "\n",
    "    def __lt__(self, other):\n",
    "        return self.salary < other.salary"
   ]
  },
  {
   "cell_type": "code",
   "execution_count": 11,
   "metadata": {},
   "outputs": [
    {
     "output_type": "stream",
     "name": "stdout",
     "text": [
      "False\nTrue\nFalse\nTrue\nFalse\nTrue\n"
     ]
    }
   ],
   "source": [
    "e1 = Employee(\"John\", 1500)\n",
    "e2 = Employee(\"Jane\", 1600)\n",
    "\n",
    "print(e1 == e2)\n",
    "print(e1 != e2)\n",
    "print(e1 > e2)\n",
    "print(e1 < e2)\n",
    "print(e1 >= e2)\n",
    "print(e1 <= e2)"
   ]
  },
  {
   "cell_type": "code",
   "execution_count": null,
   "metadata": {},
   "outputs": [],
   "source": []
  }
 ]
}