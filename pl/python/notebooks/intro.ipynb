{
 "metadata": {
  "language_info": {
   "codemirror_mode": {
    "name": "ipython",
    "version": 3
   },
   "file_extension": ".py",
   "mimetype": "text/x-python",
   "name": "python",
   "nbconvert_exporter": "python",
   "pygments_lexer": "ipython3",
   "version": "3.8.0"
  },
  "orig_nbformat": 2,
  "kernelspec": {
   "name": "python3",
   "display_name": "Python 3.8.0 64-bit ('3.8.0-amd64': pyenv)",
   "metadata": {
    "interpreter": {
     "hash": "2334294e789e06453e89f7d5c3c2573679701f9bb5b76ad2158f91cca5c9244c"
    }
   }
  }
 },
 "nbformat": 4,
 "nbformat_minor": 2,
 "cells": [
  {
   "cell_type": "code",
   "execution_count": 2,
   "metadata": {},
   "outputs": [
    {
     "output_type": "stream",
     "name": "stdout",
     "text": [
      "5\n7.2\nΆρτα\nTrue\nNone\n"
     ]
    }
   ],
   "source": [
    "x = 5\n",
    "print(x)\n",
    "x = 7.2\n",
    "print(x)\n",
    "x = 'Άρτα'\n",
    "print(x)\n",
    "x = True\n",
    "print(x)\n",
    "x = None\n",
    "print(x)"
   ]
  },
  {
   "cell_type": "code",
   "execution_count": 7,
   "metadata": {},
   "outputs": [
    {
     "output_type": "stream",
     "name": "stdout",
     "text": [
      "5 8\n"
     ]
    }
   ],
   "source": [
    "x,y = 5,8\n",
    "print(x, y)"
   ]
  },
  {
   "cell_type": "code",
   "execution_count": 5,
   "metadata": {},
   "outputs": [
    {
     "output_type": "execute_result",
     "data": {
      "text/plain": [
       "True"
      ]
     },
     "metadata": {},
     "execution_count": 5
    }
   ],
   "source": [
    "x = 8\n",
    "5 < x < 10 # ισοδύναμο με 5 < x and x < 10"
   ]
  },
  {
   "cell_type": "code",
   "execution_count": 7,
   "metadata": {},
   "outputs": [
    {
     "output_type": "stream",
     "name": "stdout",
     "text": [
      "3.3333333333333335\n3\n1\n1024\n10715086071862673209484250490600018105614048117055336074437503883703510511249361224931983788156958581275946729175531468251871452856923140435984577574698574803934567774824230985421074605062371141877954182153046474983581941267398767559165543946077062914571196477686542167660429831652624386837205668069376\n"
     ]
    }
   ],
   "source": [
    "print(10/3)\n",
    "print(10//3)\n",
    "print(10%3)\n",
    "print(2**10)\n",
    "print(2**1000)"
   ]
  },
  {
   "cell_type": "code",
   "execution_count": 32,
   "metadata": {},
   "outputs": [
    {
     "output_type": "stream",
     "name": "stdout",
     "text": [
      "3.141592653589793\n2.718281828459045\n6.283185307179586\ninf\n-inf\nnan\n5.0\n10.0\n10.0\n2.0\n2.0\n9.0\n45.0\n3.141592653589793\n0.7071067811865476\n0.7071067811865476\n0.9999999999999999\n"
     ]
    }
   ],
   "source": [
    "import math\n",
    "\n",
    "# σταθερές\n",
    "print(math.pi)\n",
    "print(math.e)\n",
    "print(math.tau)\n",
    "print(math.inf)\n",
    "print(-math.inf)\n",
    "print(math.nan)\n",
    "\n",
    "# λογάριθμος\n",
    "x = math.e ** 5\n",
    "print(math.log(x)) # φυσικός λογάριθμος του 2\n",
    "print(math.log(1024, 2)) # δυαδικός λογάριθμος του 1024\n",
    "print(math.log2(1024)) # δυαδικός λογάριθμος του 1024\n",
    "print(math.log(100, 10)) # δεκαδικός λογάριθμος του 100\n",
    "print(math.log10(100)) # δεκαδικός λογάριθμος του 100\n",
    "\n",
    "# τετραγωνική ρίζα\n",
    "print(math.sqrt(81))\n",
    "\n",
    "# τριγωνομετρικές συναρτήσεις\n",
    "print(math.degrees(math.pi/4))\n",
    "print(math.radians(180))\n",
    "print(math.sin(math.pi/4))\n",
    "print(math.cos(math.pi/4))\n",
    "print(math.tan(math.pi/4))"
   ]
  },
  {
   "cell_type": "code",
   "execution_count": null,
   "metadata": {},
   "outputs": [],
   "source": [
    "## Μιγαδικοί αριθμοί"
   ]
  },
  {
   "cell_type": "code",
   "execution_count": 3,
   "metadata": {},
   "outputs": [
    {
     "output_type": "stream",
     "name": "stdout",
     "text": [
      "αβγδεζ\nαβγ αβγ αβγ αβγ αβγ αβγ αβγ αβγ αβγ αβγ \n"
     ]
    }
   ],
   "source": [
    "## Πράξεις σε λεκτικά\n",
    "\n",
    "print(\"αβγ\"+\"δεζ\")\n",
    "print(\"αβγ \"*10)"
   ]
  },
  {
   "cell_type": "code",
   "execution_count": null,
   "metadata": {},
   "outputs": [],
   "source": []
  }
 ]
}