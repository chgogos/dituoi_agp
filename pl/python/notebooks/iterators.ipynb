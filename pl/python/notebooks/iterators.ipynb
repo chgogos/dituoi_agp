{
 "metadata": {
  "language_info": {
   "codemirror_mode": {
    "name": "ipython",
    "version": 3
   },
   "file_extension": ".py",
   "mimetype": "text/x-python",
   "name": "python",
   "nbconvert_exporter": "python",
   "pygments_lexer": "ipython3",
   "version": "3.8.0-final"
  },
  "orig_nbformat": 2,
  "kernelspec": {
   "name": "python3",
   "display_name": "Python 3.8.0 64-bit",
   "metadata": {
    "interpreter": {
     "hash": "2334294e789e06453e89f7d5c3c2573679701f9bb5b76ad2158f91cca5c9244c"
    }
   }
  }
 },
 "nbformat": 4,
 "nbformat_minor": 2,
 "cells": [
  {
   "source": [
    "# Iterators"
   ],
   "cell_type": "markdown",
   "metadata": {}
  },
  {
   "cell_type": "code",
   "execution_count": 9,
   "metadata": {},
   "outputs": [
    {
     "output_type": "stream",
     "name": "stdout",
     "text": [
      "1\n2\n3\n['__add__', '__class__', '__contains__', '__delattr__', '__delitem__', '__dir__', '__doc__', '__eq__', '__format__', '__ge__', '__getattribute__', '__getitem__', '__gt__', '__hash__', '__iadd__', '__imul__', '__init__', '__init_subclass__', '__iter__', '__le__', '__len__', '__lt__', '__mul__', '__ne__', '__new__', '__reduce__', '__reduce_ex__', '__repr__', '__reversed__', '__rmul__', '__setattr__', '__setitem__', '__sizeof__', '__str__', '__subclasshook__', 'append', 'clear', 'copy', 'count', 'extend', 'index', 'insert', 'pop', 'remove', 'reverse', 'sort']\n"
     ]
    }
   ],
   "source": [
    "# Iterables: λίστες, tuples, λεξικά, λεκτικά κ.α., μπορούν να διανυθούν, πρέπει να παρέχουν τη μέθοδο __iter__()\n",
    "\n",
    "nums = [1,2,3]\n",
    "\n",
    "for num in nums:\n",
    "    print(num)\n",
    "print(dir(nums))"
   ]
  },
  {
   "cell_type": "code",
   "execution_count": 11,
   "metadata": {},
   "outputs": [
    {
     "output_type": "stream",
     "name": "stdout",
     "text": [
      "['__class__', '__delattr__', '__dir__', '__doc__', '__eq__', '__format__', '__ge__', '__getattribute__', '__gt__', '__hash__', '__init__', '__init_subclass__', '__iter__', '__le__', '__length_hint__', '__lt__', '__ne__', '__new__', '__next__', '__reduce__', '__reduce_ex__', '__repr__', '__setattr__', '__setstate__', '__sizeof__', '__str__', '__subclasshook__']\n1\n2\n3\n"
     ]
    }
   ],
   "source": [
    "# Iterator = αντικείμενο που διατηρεί μια κατάσταση (state) έτσι ώστε να μπορεί να θυμάται σε ποιο σημείο βρίσκεται κατά τη διάρκεια της διάσχισης ενός iterable. Για να είναι ένα αντικείμενο Iterator πρέπει να παρέχει τη μέθοδο __next__()\n",
    "\n",
    "nums = [1,2,3]\n",
    "\n",
    "itr = nums.__iter__() # κλήση της dunder μεθόδου __iter__()\n",
    "intr = iter(nums) # εναλλακτικά καλείται και με αυτό τον τρόπο\n",
    "\n",
    "print(dir(itr))\n",
    "\n",
    "print(next(itr))\n",
    "print(next(itr))\n",
    "print(next(itr))\n",
    "# print(next(itr)) # StopIteration "
   ]
  },
  {
   "cell_type": "code",
   "execution_count": 12,
   "metadata": {},
   "outputs": [
    {
     "output_type": "stream",
     "name": "stdout",
     "text": [
      "1\n2\n3\n"
     ]
    }
   ],
   "source": [
    "nums = [1,2,3]\n",
    "itr = iter(nums)\n",
    "\n",
    "while True:\n",
    "    try:\n",
    "        item = next(itr)\n",
    "        print(item)\n",
    "    except StopIteration:\n",
    "        break"
   ]
  },
  {
   "cell_type": "code",
   "execution_count": 13,
   "metadata": {},
   "outputs": [
    {
     "output_type": "stream",
     "name": "stdout",
     "text": [
      "1\n2\n3\n4\n5\n6\n7\n8\n9\n"
     ]
    }
   ],
   "source": [
    "# Δημιουργία ενός iterable που είναι επίσης και iterator\n",
    "\n",
    "class MyRange:\n",
    "    def __init__(self, start, end):\n",
    "        self.value=start\n",
    "        self.end=end\n",
    "\n",
    "    def __iter__(self):\n",
    "        return self\n",
    "\n",
    "    def __next__(self):\n",
    "        if self.value >= self.end:\n",
    "            raise StopIteration\n",
    "        current = self.value\n",
    "        self.value+=1\n",
    "        return current\n",
    "\n",
    "nums = MyRange(1,10)\n",
    "\n",
    "for num in nums:\n",
    "    print(num)\n"
   ]
  },
  {
   "cell_type": "code",
   "execution_count": 15,
   "metadata": {},
   "outputs": [
    {
     "output_type": "stream",
     "name": "stdout",
     "text": [
      "1\n2\n3\n4\n5\n6\n7\n8\n9\n"
     ]
    }
   ],
   "source": [
    "# Ισοδύναμος με τον προηγούμενο κώδικα που χρησιμοποιεί generator\n",
    "\n",
    "def my_range(start, end):\n",
    "    current = start\n",
    "    while current<end:\n",
    "        yield current\n",
    "        current += 1\n",
    "\n",
    "nums = my_range(1,10)\n",
    "\n",
    "for num in nums:\n",
    "    print(num)"
   ]
  },
  {
   "cell_type": "code",
   "execution_count": null,
   "metadata": {},
   "outputs": [],
   "source": []
  }
 ]
}