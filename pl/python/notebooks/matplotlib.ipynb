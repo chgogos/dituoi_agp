{
 "cells": [
  {
   "cell_type": "markdown",
   "metadata": {},
   "source": [
    "    Τμήμα Πληροφορικής και Τηλεπικοινωνιών - Άρτα \n",
    "    Πανεπιστήμιο Ιωαννίνων \n",
    "\n",
    "    Γκόγκος Χρήστος \n",
    "    http://chgogos.github.io/\n",
    "    \n",
    "    Τελευταία ενημέρωση: 2/4/2022"
   ]
  },
  {
   "cell_type": "markdown",
   "metadata": {},
   "source": [
    "# matplotlib"
   ]
  },
  {
   "cell_type": "code",
   "execution_count": 2,
   "metadata": {},
   "outputs": [],
   "source": [
    "import matplotlib.pyplot as plt\n",
    "import pandas as pd\n"
   ]
  },
  {
   "cell_type": "code",
   "execution_count": 3,
   "metadata": {},
   "outputs": [
    {
     "data": {
      "text/html": [
       "<div>\n",
       "<style scoped>\n",
       "    .dataframe tbody tr th:only-of-type {\n",
       "        vertical-align: middle;\n",
       "    }\n",
       "\n",
       "    .dataframe tbody tr th {\n",
       "        vertical-align: top;\n",
       "    }\n",
       "\n",
       "    .dataframe thead th {\n",
       "        text-align: right;\n",
       "    }\n",
       "</style>\n",
       "<table border=\"1\" class=\"dataframe\">\n",
       "  <thead>\n",
       "    <tr style=\"text-align: right;\">\n",
       "      <th></th>\n",
       "      <th>Date</th>\n",
       "      <th>Abap</th>\n",
       "      <th>Ada</th>\n",
       "      <th>C/C++</th>\n",
       "      <th>C#</th>\n",
       "      <th>Cobol</th>\n",
       "      <th>Dart</th>\n",
       "      <th>Delphi/Pascal</th>\n",
       "      <th>Go</th>\n",
       "      <th>Groovy</th>\n",
       "      <th>...</th>\n",
       "      <th>PHP</th>\n",
       "      <th>Python</th>\n",
       "      <th>R</th>\n",
       "      <th>Ruby</th>\n",
       "      <th>Rust</th>\n",
       "      <th>Scala</th>\n",
       "      <th>Swift</th>\n",
       "      <th>TypeScript</th>\n",
       "      <th>VBA</th>\n",
       "      <th>Visual Basic</th>\n",
       "    </tr>\n",
       "  </thead>\n",
       "  <tbody>\n",
       "    <tr>\n",
       "      <th>0</th>\n",
       "      <td>July 2004</td>\n",
       "      <td>0.34</td>\n",
       "      <td>0.36</td>\n",
       "      <td>10.08</td>\n",
       "      <td>4.71</td>\n",
       "      <td>0.43</td>\n",
       "      <td>0.0</td>\n",
       "      <td>2.82</td>\n",
       "      <td>0.0</td>\n",
       "      <td>0.03</td>\n",
       "      <td>...</td>\n",
       "      <td>18.75</td>\n",
       "      <td>2.53</td>\n",
       "      <td>0.39</td>\n",
       "      <td>0.33</td>\n",
       "      <td>0.08</td>\n",
       "      <td>0.03</td>\n",
       "      <td>0.0</td>\n",
       "      <td>0.0</td>\n",
       "      <td>1.44</td>\n",
       "      <td>8.56</td>\n",
       "    </tr>\n",
       "    <tr>\n",
       "      <th>1</th>\n",
       "      <td>August 2004</td>\n",
       "      <td>0.36</td>\n",
       "      <td>0.36</td>\n",
       "      <td>9.81</td>\n",
       "      <td>4.99</td>\n",
       "      <td>0.46</td>\n",
       "      <td>0.0</td>\n",
       "      <td>2.67</td>\n",
       "      <td>0.0</td>\n",
       "      <td>0.07</td>\n",
       "      <td>...</td>\n",
       "      <td>19.26</td>\n",
       "      <td>2.64</td>\n",
       "      <td>0.41</td>\n",
       "      <td>0.40</td>\n",
       "      <td>0.09</td>\n",
       "      <td>0.03</td>\n",
       "      <td>0.0</td>\n",
       "      <td>0.0</td>\n",
       "      <td>1.46</td>\n",
       "      <td>8.57</td>\n",
       "    </tr>\n",
       "    <tr>\n",
       "      <th>2</th>\n",
       "      <td>September 2004</td>\n",
       "      <td>0.41</td>\n",
       "      <td>0.41</td>\n",
       "      <td>9.63</td>\n",
       "      <td>5.06</td>\n",
       "      <td>0.51</td>\n",
       "      <td>0.0</td>\n",
       "      <td>2.65</td>\n",
       "      <td>0.0</td>\n",
       "      <td>0.08</td>\n",
       "      <td>...</td>\n",
       "      <td>19.49</td>\n",
       "      <td>2.72</td>\n",
       "      <td>0.40</td>\n",
       "      <td>0.41</td>\n",
       "      <td>0.10</td>\n",
       "      <td>0.03</td>\n",
       "      <td>0.0</td>\n",
       "      <td>0.0</td>\n",
       "      <td>1.55</td>\n",
       "      <td>8.41</td>\n",
       "    </tr>\n",
       "    <tr>\n",
       "      <th>3</th>\n",
       "      <td>October 2004</td>\n",
       "      <td>0.40</td>\n",
       "      <td>0.38</td>\n",
       "      <td>9.50</td>\n",
       "      <td>5.31</td>\n",
       "      <td>0.53</td>\n",
       "      <td>0.0</td>\n",
       "      <td>2.77</td>\n",
       "      <td>0.0</td>\n",
       "      <td>0.09</td>\n",
       "      <td>...</td>\n",
       "      <td>19.34</td>\n",
       "      <td>2.92</td>\n",
       "      <td>0.42</td>\n",
       "      <td>0.46</td>\n",
       "      <td>0.11</td>\n",
       "      <td>0.04</td>\n",
       "      <td>0.0</td>\n",
       "      <td>0.0</td>\n",
       "      <td>1.61</td>\n",
       "      <td>8.49</td>\n",
       "    </tr>\n",
       "    <tr>\n",
       "      <th>4</th>\n",
       "      <td>November 2004</td>\n",
       "      <td>0.38</td>\n",
       "      <td>0.38</td>\n",
       "      <td>9.52</td>\n",
       "      <td>5.24</td>\n",
       "      <td>0.55</td>\n",
       "      <td>0.0</td>\n",
       "      <td>2.76</td>\n",
       "      <td>0.0</td>\n",
       "      <td>0.07</td>\n",
       "      <td>...</td>\n",
       "      <td>19.43</td>\n",
       "      <td>2.84</td>\n",
       "      <td>0.41</td>\n",
       "      <td>0.45</td>\n",
       "      <td>0.13</td>\n",
       "      <td>0.04</td>\n",
       "      <td>0.0</td>\n",
       "      <td>0.0</td>\n",
       "      <td>1.50</td>\n",
       "      <td>8.24</td>\n",
       "    </tr>\n",
       "  </tbody>\n",
       "</table>\n",
       "<p>5 rows × 29 columns</p>\n",
       "</div>"
      ],
      "text/plain": [
       "             Date  Abap   Ada  C/C++    C#  Cobol  Dart  Delphi/Pascal   Go  \\\n",
       "0       July 2004  0.34  0.36  10.08  4.71   0.43   0.0           2.82  0.0   \n",
       "1     August 2004  0.36  0.36   9.81  4.99   0.46   0.0           2.67  0.0   \n",
       "2  September 2004  0.41  0.41   9.63  5.06   0.51   0.0           2.65  0.0   \n",
       "3    October 2004  0.40  0.38   9.50  5.31   0.53   0.0           2.77  0.0   \n",
       "4   November 2004  0.38  0.38   9.52  5.24   0.55   0.0           2.76  0.0   \n",
       "\n",
       "   Groovy  ...    PHP  Python     R  Ruby  Rust  Scala  Swift  TypeScript  \\\n",
       "0    0.03  ...  18.75    2.53  0.39  0.33  0.08   0.03    0.0         0.0   \n",
       "1    0.07  ...  19.26    2.64  0.41  0.40  0.09   0.03    0.0         0.0   \n",
       "2    0.08  ...  19.49    2.72  0.40  0.41  0.10   0.03    0.0         0.0   \n",
       "3    0.09  ...  19.34    2.92  0.42  0.46  0.11   0.04    0.0         0.0   \n",
       "4    0.07  ...  19.43    2.84  0.41  0.45  0.13   0.04    0.0         0.0   \n",
       "\n",
       "    VBA  Visual Basic  \n",
       "0  1.44          8.56  \n",
       "1  1.46          8.57  \n",
       "2  1.55          8.41  \n",
       "3  1.61          8.49  \n",
       "4  1.50          8.24  \n",
       "\n",
       "[5 rows x 29 columns]"
      ]
     },
     "execution_count": 3,
     "metadata": {},
     "output_type": "execute_result"
    }
   ],
   "source": [
    "df = pd.read_csv(\"../../../datasets/Most Popular Programming Languages from 2004 to 2022.csv\")\n",
    "df.head()"
   ]
  },
  {
   "cell_type": "code",
   "execution_count": 4,
   "metadata": {},
   "outputs": [],
   "source": [
    "# plot, bar, scatter"
   ]
  },
  {
   "cell_type": "code",
   "execution_count": 11,
   "metadata": {},
   "outputs": [
    {
     "data": {
      "image/png": "[encoded data removed]",
      "text/plain": [
       "<Figure size 432x288 with 1 Axes>"
      ]
     },
     "metadata": {
      "needs_background": "light"
     },
     "output_type": "display_data"
    }
   ],
   "source": [
    "plt.plot(df.loc[::20, 'Date'], df.loc[::20, 'Python'])\n",
    "plt.xticks(fontsize=9, rotation=45)\n",
    "plt.show()"
   ]
  },
  {
   "cell_type": "code",
   "execution_count": 6,
   "metadata": {},
   "outputs": [
    {
     "data": {
      "image/png": "[encoded data removed]",
      "text/plain": [
       "<Figure size 432x288 with 1 Axes>"
      ]
     },
     "metadata": {
      "needs_background": "light"
     },
     "output_type": "display_data"
    }
   ],
   "source": [
    "# γραφική παράσταση με σημεία\n",
    "\n",
    "# df_jan2022 = df.loc[df['Date']=='January 2022']\n",
    "\n",
    "plt.plot(df.loc[210, ['C/C++','C#', 'Java', 'Python', 'PHP', 'Julia']], label='δημοφιλία', color='red', marker='o', linestyle = 'None')\n",
    "plt.title(df.iloc[210, 0])\n",
    "plt.xlabel('Γλώσσες προγραμματισμού')\n",
    "plt.ylabel('Ποσοστό')\n",
    "plt.legend(fontsize=10)\n",
    "plt.show()"
   ]
  },
  {
   "cell_type": "code",
   "execution_count": 7,
   "metadata": {},
   "outputs": [
    {
     "data": {
      "image/png": "[encoded data removed]",
      "text/plain": [
       "<Figure size 432x288 with 1 Axes>"
      ]
     },
     "metadata": {
      "needs_background": "light"
     },
     "output_type": "display_data"
    }
   ],
   "source": [
    "# δύο γραφικές παραστάσεις στο ίδιο γράφημα\n",
    "\n",
    "plt.plot(df.loc[0, ['C/C++','C#', 'Java', 'Python', 'PHP', 'Julia']], label='Jul2004', color='blue', marker='x', linestyle='None')\n",
    "plt.plot(df.loc[210, ['C/C++','C#', 'Java', 'Python', 'PHP', 'Julia']], label='Jan2022', color='red', marker='o', linestyle='None')\n",
    "plt.title('Δημοφιλία γλωσσών προγραμματισμού')\n",
    "plt.xlabel('Γλώσσες προγραμματισμού')\n",
    "plt.ylabel('Ποσοστό')\n",
    "plt.legend(fontsize=10)\n",
    "plt.show()"
   ]
  },
  {
   "cell_type": "code",
   "execution_count": 8,
   "metadata": {},
   "outputs": [],
   "source": [
    "# γράφημα με υπογραφήματα \n"
   ]
  },
  {
   "cell_type": "code",
   "execution_count": null,
   "metadata": {},
   "outputs": [],
   "source": []
  }
 ],
 "metadata": {
  "interpreter": {
   "hash": "f40a6e13c37d34a8e08b5b5c92d22f0cb84668e50c3976fc188360a208488fc1"
  },
  "kernelspec": {
   "display_name": "Python 3.8.13 ('myenv')",
   "language": "python",
   "name": "python3"
  },
  "language_info": {
   "codemirror_mode": {
    "name": "ipython",
    "version": 3
   },
   "file_extension": ".py",
   "mimetype": "text/x-python",
   "name": "python",
   "nbconvert_exporter": "python",
   "pygments_lexer": "ipython3",
   "version": "3.8.13"
  },
  "orig_nbformat": 4
 },
 "nbformat": 4,
 "nbformat_minor": 2
}
