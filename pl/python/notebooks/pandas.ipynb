{
 "cells": [
  {
   "cell_type": "markdown",
   "metadata": {},
   "source": [
    "    Τμήμα Πληροφορικής και Τηλεπικοινωνιών - Άρτα \n",
    "    Πανεπιστήμιο Ιωαννίνων \n",
    "\n",
    "    Γκόγκος Χρήστος \n",
    "    http://chgogos.github.io/\n",
    "    \n",
    "    Τελευταία ενημέρωση: 1/3/2022"
   ]
  },
  {
   "cell_type": "markdown",
   "metadata": {},
   "source": [
    "# Pandas\n",
    "\n"
   ]
  },
  {
   "cell_type": "code",
   "execution_count": 12,
   "metadata": {},
   "outputs": [],
   "source": [
    "import numpy as np\n",
    "from pandas import Series, DataFrame\n",
    "import matplotlib.pyplot as plt"
   ]
  },
  {
   "cell_type": "markdown",
   "metadata": {},
   "source": [
    "## Series\n",
    "\n",
    "Πρόκειται για μονοδιάστατες σειρές δεδομένων, ένας πίνακας δεδομένων μαζί με ένα πίνακα ετικετών (δεικτών)"
   ]
  },
  {
   "cell_type": "code",
   "execution_count": 13,
   "metadata": {},
   "outputs": [
    {
     "name": "stdout",
     "output_type": "stream",
     "text": [
      "0    1\n",
      "1    2\n",
      "2    3\n",
      "3    4\n",
      "4    5\n",
      "dtype: int64\n",
      "########################################\n",
      "[1 2 3 4 5]\n",
      "########################################\n",
      "RangeIndex(start=0, stop=5, step=1)\n"
     ]
    }
   ],
   "source": [
    "s1 = Series([1, 2, 3, 4, 5])\n",
    "print(s1)\n",
    "print(\"#\" * 40)\n",
    "print(s1.values)\n",
    "print(\"#\" * 40)\n",
    "print(s1.index)\n"
   ]
  },
  {
   "cell_type": "code",
   "execution_count": 14,
   "metadata": {},
   "outputs": [
    {
     "name": "stdout",
     "output_type": "stream",
     "text": [
      "a    1\n",
      "b    2\n",
      "c    3\n",
      "d    4\n",
      "e    5\n",
      "dtype: int64\n"
     ]
    }
   ],
   "source": [
    "# ορισμός custom δεικτών αντί για 0,1,2,...\n",
    "\n",
    "# απευθείας\n",
    "s2 = Series([1, 2, 3, 4, 5], index = [\"a\", \"b\", \"c\", \"d\", \"e\"])\n",
    "print(s2)\n"
   ]
  },
  {
   "cell_type": "code",
   "execution_count": 15,
   "metadata": {},
   "outputs": [
    {
     "name": "stdout",
     "output_type": "stream",
     "text": [
      "1\n",
      "########################################\n",
      "a    1\n",
      "b    2\n",
      "c    3\n",
      "dtype: int64\n",
      "########################################\n",
      "1\n",
      "########################################\n",
      "a    1\n",
      "e    5\n",
      "dtype: int64\n",
      "########################################\n",
      "b    2\n",
      "c    3\n",
      "d    4\n",
      "e    5\n",
      "dtype: int64\n"
     ]
    }
   ],
   "source": [
    "# προσπέλαση στοιχείων με δείκτες και custom δείκτες\n",
    "\n",
    "print(s2[0]) \n",
    "print(\"#\" * 40)\n",
    "print(s2[0:3])\n",
    "print(\"#\" * 40)\n",
    "print(s2['a'])\n",
    "print(\"#\" * 40)\n",
    "print(s2[['a','e']]) \n",
    "print(\"#\" * 40)\n",
    "print(s2['b':'e'])"
   ]
  },
  {
   "cell_type": "code",
   "execution_count": 16,
   "metadata": {},
   "outputs": [
    {
     "name": "stdout",
     "output_type": "stream",
     "text": [
      "a    1\n",
      "b    2\n",
      "c    3\n",
      "d    4\n",
      "e    5\n",
      "dtype: int64\n",
      "########################################\n",
      "max 5\n",
      "min 1\n",
      "mean 3.0\n",
      "median 3.0\n",
      "count 5\n"
     ]
    }
   ],
   "source": [
    "# συναρτήσεις στατιστικής\n",
    "\n",
    "print(s2)\n",
    "print(\"#\" * 40)\n",
    "print('max', s2.max())\n",
    "print('min', s2.min())\n",
    "print('mean', s2.mean())\n",
    "print('median', s2.median())\n",
    "print('count', s2.count())"
   ]
  },
  {
   "cell_type": "code",
   "execution_count": 17,
   "metadata": {},
   "outputs": [
    {
     "name": "stdout",
     "output_type": "stream",
     "text": [
      "nikos     10\n",
      "maria      9\n",
      "petros     4\n",
      "dtype: int64\n",
      "########################################\n",
      "name\n",
      "nikos     10\n",
      "maria      9\n",
      "petros     4\n",
      "Name: grades, dtype: int64\n"
     ]
    }
   ],
   "source": [
    "# δημιουργία Series από λεξικό\n",
    "\n",
    "a_dict = {\n",
    "    \"nikos\": 10,\n",
    "    \"maria\": 9,\n",
    "    \"petros\": 4\n",
    "}\n",
    "\n",
    "s3 = Series(a_dict)\n",
    "print(s3)\n",
    "\n",
    "print(\"#\" * 40)\n",
    "\n",
    "# ανάθεση ονόματος στη σειρά και ονόματος στο δείκτη της σειράς\n",
    "s3.name = \"grades\"\n",
    "s3.index.name = \"name\"\n",
    "print(s3)"
   ]
  },
  {
   "cell_type": "code",
   "execution_count": 18,
   "metadata": {},
   "outputs": [
    {
     "name": "stdout",
     "output_type": "stream",
     "text": [
      "a    0.471435\n",
      "b   -1.190976\n",
      "c    1.432707\n",
      "d   -0.312652\n",
      "e   -0.720589\n",
      "dtype: float64\n",
      "########################################\n",
      "a    0.471435\n",
      "b   -1.190976\n",
      "c    1.432707\n",
      "d   -0.312652\n",
      "e   -0.720589\n",
      "f         NaN\n",
      "g         NaN\n",
      "dtype: float64\n",
      "########################################\n",
      "a    0.471435\n",
      "b   -1.190976\n",
      "c    1.432707\n",
      "d   -0.312652\n",
      "e   -0.720589\n",
      "f         NaN\n",
      "g         NaN\n",
      "h   -1.000000\n",
      "i   -1.000000\n",
      "dtype: float64\n",
      "########################################\n"
     ]
    }
   ],
   "source": [
    "# επαναδεικτοδότηση σε σειρές\n",
    "\n",
    "np.random.seed(1234)\n",
    "s4 = Series(np.random.randn(5), index = ['a','b','c','d', 'e'])\n",
    "print(s4)\n",
    "print(\"#\" * 40)\n",
    "s4 = s4.reindex(['a','b','c','d', 'e','f','g'])\n",
    "print(s4)\n",
    "print(\"#\" * 40)\n",
    "s4 = s4.reindex(['a','b','c','d', 'e','f','g','h','i'], fill_value=-1)\n",
    "print(s4)\n",
    "print(\"#\" * 40)"
   ]
  },
  {
   "cell_type": "code",
   "execution_count": 19,
   "metadata": {},
   "outputs": [
    {
     "name": "stdout",
     "output_type": "stream",
     "text": [
      "a    0.471435\n",
      "b   -1.190976\n",
      "c    1.432707\n",
      "d   -0.312652\n",
      "e   -0.720589\n",
      "h   -1.000000\n",
      "i   -1.000000\n",
      "dtype: float64\n"
     ]
    }
   ],
   "source": [
    "# Διαγραφή στοιχείων από σειρά\n",
    "\n",
    "s4 = s4.drop(['f','g'])\n",
    "print(s4)"
   ]
  },
  {
   "cell_type": "markdown",
   "metadata": {},
   "source": [
    "## DataFrames\n",
    "\n",
    "Τα DataFrames είναι δομές δεδομένων σε μορφή πίνακα. Περιέχουν μια διατεταγμένη λίστα στηλών με κάθε στήλη να μπορεί να έχει διαφορετικό τύπο δεδομένων. Επίσης, διαθέτει δείκτες τόσο για τις στήλες όσο και για τις γραμμές του πίνακα."
   ]
  },
  {
   "cell_type": "code",
   "execution_count": 20,
   "metadata": {},
   "outputs": [
    {
     "name": "stdout",
     "output_type": "stream",
     "text": [
      "     name  grade  absences\n",
      "0   nikos     10         0\n",
      "1   maria      9         4\n",
      "2  petros      4         2\n"
     ]
    }
   ],
   "source": [
    "# Δημιουργία DataFrame (α' τρόπος από μια λίστα με λίστες)\n",
    "\n",
    "data = [[\"nikos\", 10, 0], [\"maria\", 9, 4], [\"petros\", 4, 2]]\n",
    "\n",
    "df_grades = DataFrame(data, columns=['name', 'grade', 'absences'])\n",
    "print(df_grades)\n"
   ]
  },
  {
   "cell_type": "code",
   "execution_count": 21,
   "metadata": {},
   "outputs": [
    {
     "name": "stdout",
     "output_type": "stream",
     "text": [
      "     name  grade  absences\n",
      "0   nikos     10         0\n",
      "1   maria      9         1\n",
      "2  petros      4         2\n"
     ]
    }
   ],
   "source": [
    "# Δημιουργία DataFrame (β' τρόπος από λεξικό)\n",
    "# Τα κλειδία του λεξικού αποτελούν τις στήλες του DataFrame,\n",
    "# πρέπει να περιέχουν ως values λίστες με ίδιο πλήθος στοιχείων\n",
    "\n",
    "data = {\n",
    "    \"name\": [\"nikos\", \"maria\", \"petros\"],\n",
    "    \"grade\": [10, 9, 4],\n",
    "    \"absences\": [0, 1, 2],\n",
    "}\n",
    "df_grades = DataFrame(data)\n",
    "print(df_grades)"
   ]
  },
  {
   "cell_type": "code",
   "execution_count": 22,
   "metadata": {},
   "outputs": [
    {
     "name": "stdout",
     "output_type": "stream",
     "text": [
      "     name  absences  grade semester\n",
      "0   nikos         0     10      NaN\n",
      "1   maria         1      9      NaN\n",
      "2  petros         2      4      NaN\n"
     ]
    }
   ],
   "source": [
    "# αλλαγή σειράς στηλών, προσθήκη νέας στήλης\n",
    "\n",
    "df_grades2 = DataFrame(data, columns = ['name', 'absences', 'grade', 'semester'])\n",
    "print(df_grades2)"
   ]
  },
  {
   "cell_type": "code",
   "execution_count": 23,
   "metadata": {},
   "outputs": [
    {
     "name": "stdout",
     "output_type": "stream",
     "text": [
      "        name  grade  absences\n",
      "1234   nikos     10         0\n",
      "1235   maria      9         1\n",
      "1236  petros      4         2\n"
     ]
    }
   ],
   "source": [
    "# ορισμός custom δεικτών γραμμών\n",
    "\n",
    "df_grades3 = DataFrame(data, index=[1234, 1235, 1236])\n",
    "print(df_grades3)"
   ]
  },
  {
   "cell_type": "code",
   "execution_count": 24,
   "metadata": {},
   "outputs": [
    {
     "name": "stdout",
     "output_type": "stream",
     "text": [
      "        grade  absences\n",
      "nikos      10         0\n",
      "maria       9         1\n",
      "petros      4         2\n"
     ]
    }
   ],
   "source": [
    "# ορισμός κλειδιών λεξικού ως δεικτών γραμμών\n",
    "\n",
    "df_grades4 = DataFrame(data, columns=['grade', 'absences'], index=data['name'])\n",
    "print(df_grades4)"
   ]
  },
  {
   "cell_type": "code",
   "execution_count": 25,
   "metadata": {},
   "outputs": [
    {
     "data": {
      "image/png": "[encoded data removed]",
      "text/plain": [
       "<Figure size 432x288 with 1 Axes>"
      ]
     },
     "metadata": {
      "needs_background": "light"
     },
     "output_type": "display_data"
    }
   ],
   "source": [
    "# απευθείας δημιουργία γραφήματος από ένα DataFrame\n",
    "\n",
    "df_grades4.plot()\n",
    "plt.show()"
   ]
  },
  {
   "cell_type": "code",
   "execution_count": 26,
   "metadata": {},
   "outputs": [
    {
     "name": "stdout",
     "output_type": "stream",
     "text": [
      "nikos     10\n",
      "maria      9\n",
      "petros     4\n",
      "Name: grade, dtype: int64\n",
      "########################################\n",
      "nikos     10\n",
      "maria      9\n",
      "petros     4\n",
      "Name: grade, dtype: int64\n"
     ]
    }
   ],
   "source": [
    "# πρόσβαση στα δεδομένα μιας στήλης ως σειρά δεδομένων (με 2 τρόπους)\n",
    "\n",
    "print(df_grades4[\"grade\"])\n",
    "print(\"#\" * 40)\n",
    "print(df_grades4.grade)\n"
   ]
  },
  {
   "cell_type": "code",
   "execution_count": 27,
   "metadata": {},
   "outputs": [
    {
     "name": "stdout",
     "output_type": "stream",
     "text": [
      "grade       10\n",
      "absences     0\n",
      "Name: nikos, dtype: int64\n",
      "########################################\n",
      "grade       10\n",
      "absences     0\n",
      "Name: nikos, dtype: int64\n"
     ]
    }
   ],
   "source": [
    "# ανάκτηση δεδομένων συγκεκριμένης σειράς (row) του DataFrame με loc και iloc\n",
    "\n",
    "print(df_grades4.loc['nikos'])\n",
    "print(\"#\" * 40)\n",
    "print(df_grades4.iloc[0])"
   ]
  },
  {
   "cell_type": "code",
   "execution_count": 28,
   "metadata": {},
   "outputs": [
    {
     "name": "stdout",
     "output_type": "stream",
     "text": [
      "        grade  absences\n",
      "nikos      10         0\n",
      "maria       9         1\n",
      "petros      4         2\n",
      "########################################\n",
      "grade       9\n",
      "absences    1\n",
      "Name: maria, dtype: int64\n",
      "########################################\n",
      "9\n",
      "########################################\n",
      "9\n",
      "########################################\n",
      "9\n"
     ]
    }
   ],
   "source": [
    "# προσπέλαση στοιχείων\n",
    "\n",
    "print(df_grades4)\n",
    "print(\"#\" * 40)\n",
    "print(df_grades4.loc['maria']) # όλη η γραμμή\n",
    "print(\"#\" * 40)\n",
    "print(df_grades4.loc['maria']['grade']) # ένα στοιχείο μιας γραμμής (α' τρόπος)\n",
    "print(\"#\" * 40)\n",
    "print(df_grades4.loc['maria','grade']) # ένα στοιχείο μιας γραμμής (β' τρόπος) - πλέον συνηθισμένος\n",
    "print(\"#\" * 40)\n",
    "print(df_grades4.loc['maria'][0]) # ένα στοιχείο μιας γραμμής (γ' τρόπος)\n"
   ]
  },
  {
   "cell_type": "code",
   "execution_count": 29,
   "metadata": {},
   "outputs": [
    {
     "data": {
      "text/html": [
       "<div>\n",
       "<style scoped>\n",
       "    .dataframe tbody tr th:only-of-type {\n",
       "        vertical-align: middle;\n",
       "    }\n",
       "\n",
       "    .dataframe tbody tr th {\n",
       "        vertical-align: top;\n",
       "    }\n",
       "\n",
       "    .dataframe thead th {\n",
       "        text-align: right;\n",
       "    }\n",
       "</style>\n",
       "<table border=\"1\" class=\"dataframe\">\n",
       "  <thead>\n",
       "    <tr style=\"text-align: right;\">\n",
       "      <th></th>\n",
       "      <th>grade</th>\n",
       "      <th>absences</th>\n",
       "    </tr>\n",
       "  </thead>\n",
       "  <tbody>\n",
       "    <tr>\n",
       "      <th>nikos</th>\n",
       "      <td>10</td>\n",
       "      <td>0</td>\n",
       "    </tr>\n",
       "    <tr>\n",
       "      <th>maria</th>\n",
       "      <td>10</td>\n",
       "      <td>1</td>\n",
       "    </tr>\n",
       "    <tr>\n",
       "      <th>petros</th>\n",
       "      <td>10</td>\n",
       "      <td>2</td>\n",
       "    </tr>\n",
       "  </tbody>\n",
       "</table>\n",
       "</div>"
      ],
      "text/plain": [
       "        grade  absences\n",
       "nikos      10         0\n",
       "maria      10         1\n",
       "petros     10         2"
      ]
     },
     "execution_count": 29,
     "metadata": {},
     "output_type": "execute_result"
    }
   ],
   "source": [
    "# αλλαγή τιμών στήλης (όλες οι γραμμές λαμβάνουν την ίδια τιμή)\n",
    "\n",
    "df_grades4['grade'] = 10\n",
    "df_grades4"
   ]
  },
  {
   "cell_type": "code",
   "execution_count": 30,
   "metadata": {},
   "outputs": [
    {
     "data": {
      "text/html": [
       "<div>\n",
       "<style scoped>\n",
       "    .dataframe tbody tr th:only-of-type {\n",
       "        vertical-align: middle;\n",
       "    }\n",
       "\n",
       "    .dataframe tbody tr th {\n",
       "        vertical-align: top;\n",
       "    }\n",
       "\n",
       "    .dataframe thead th {\n",
       "        text-align: right;\n",
       "    }\n",
       "</style>\n",
       "<table border=\"1\" class=\"dataframe\">\n",
       "  <thead>\n",
       "    <tr style=\"text-align: right;\">\n",
       "      <th></th>\n",
       "      <th>grade</th>\n",
       "      <th>absences</th>\n",
       "    </tr>\n",
       "  </thead>\n",
       "  <tbody>\n",
       "    <tr>\n",
       "      <th>nikos</th>\n",
       "      <td>10</td>\n",
       "      <td>0</td>\n",
       "    </tr>\n",
       "    <tr>\n",
       "      <th>maria</th>\n",
       "      <td>9</td>\n",
       "      <td>1</td>\n",
       "    </tr>\n",
       "    <tr>\n",
       "      <th>petros</th>\n",
       "      <td>5</td>\n",
       "      <td>2</td>\n",
       "    </tr>\n",
       "  </tbody>\n",
       "</table>\n",
       "</div>"
      ],
      "text/plain": [
       "        grade  absences\n",
       "nikos      10         0\n",
       "maria       9         1\n",
       "petros      5         2"
      ]
     },
     "execution_count": 30,
     "metadata": {},
     "output_type": "execute_result"
    }
   ],
   "source": [
    "# αλλαγή τιμών στήλης \n",
    "\n",
    "df_grades4['grade'] = [10,9,5]\n",
    "df_grades4"
   ]
  },
  {
   "cell_type": "code",
   "execution_count": 31,
   "metadata": {},
   "outputs": [
    {
     "data": {
      "text/html": [
       "<div>\n",
       "<style scoped>\n",
       "    .dataframe tbody tr th:only-of-type {\n",
       "        vertical-align: middle;\n",
       "    }\n",
       "\n",
       "    .dataframe tbody tr th {\n",
       "        vertical-align: top;\n",
       "    }\n",
       "\n",
       "    .dataframe thead th {\n",
       "        text-align: right;\n",
       "    }\n",
       "</style>\n",
       "<table border=\"1\" class=\"dataframe\">\n",
       "  <thead>\n",
       "    <tr style=\"text-align: right;\">\n",
       "      <th></th>\n",
       "      <th>grade</th>\n",
       "      <th>absences</th>\n",
       "      <th>semester</th>\n",
       "    </tr>\n",
       "  </thead>\n",
       "  <tbody>\n",
       "    <tr>\n",
       "      <th>nikos</th>\n",
       "      <td>10</td>\n",
       "      <td>0</td>\n",
       "      <td>unknown</td>\n",
       "    </tr>\n",
       "    <tr>\n",
       "      <th>maria</th>\n",
       "      <td>9</td>\n",
       "      <td>1</td>\n",
       "      <td>unknown</td>\n",
       "    </tr>\n",
       "    <tr>\n",
       "      <th>petros</th>\n",
       "      <td>5</td>\n",
       "      <td>2</td>\n",
       "      <td>unknown</td>\n",
       "    </tr>\n",
       "  </tbody>\n",
       "</table>\n",
       "</div>"
      ],
      "text/plain": [
       "        grade  absences semester\n",
       "nikos      10         0  unknown\n",
       "maria       9         1  unknown\n",
       "petros      5         2  unknown"
      ]
     },
     "execution_count": 31,
     "metadata": {},
     "output_type": "execute_result"
    }
   ],
   "source": [
    "# προσθήκη νέας στήλης \n",
    "\n",
    "df_grades4['semester'] = \"unknown\"\n",
    "df_grades4"
   ]
  },
  {
   "cell_type": "code",
   "execution_count": 32,
   "metadata": {},
   "outputs": [
    {
     "data": {
      "text/html": [
       "<div>\n",
       "<style scoped>\n",
       "    .dataframe tbody tr th:only-of-type {\n",
       "        vertical-align: middle;\n",
       "    }\n",
       "\n",
       "    .dataframe tbody tr th {\n",
       "        vertical-align: top;\n",
       "    }\n",
       "\n",
       "    .dataframe thead th {\n",
       "        text-align: right;\n",
       "    }\n",
       "</style>\n",
       "<table border=\"1\" class=\"dataframe\">\n",
       "  <thead>\n",
       "    <tr style=\"text-align: right;\">\n",
       "      <th></th>\n",
       "      <th>grade</th>\n",
       "      <th>absences</th>\n",
       "      <th>semester</th>\n",
       "    </tr>\n",
       "  </thead>\n",
       "  <tbody>\n",
       "    <tr>\n",
       "      <th>nikos</th>\n",
       "      <td>10</td>\n",
       "      <td>0</td>\n",
       "      <td>1</td>\n",
       "    </tr>\n",
       "    <tr>\n",
       "      <th>maria</th>\n",
       "      <td>9</td>\n",
       "      <td>1</td>\n",
       "      <td>1</td>\n",
       "    </tr>\n",
       "    <tr>\n",
       "      <th>petros</th>\n",
       "      <td>5</td>\n",
       "      <td>2</td>\n",
       "      <td>2</td>\n",
       "    </tr>\n",
       "  </tbody>\n",
       "</table>\n",
       "</div>"
      ],
      "text/plain": [
       "        grade  absences  semester\n",
       "nikos      10         0         1\n",
       "maria       9         1         1\n",
       "petros      5         2         2"
      ]
     },
     "execution_count": 32,
     "metadata": {},
     "output_type": "execute_result"
    }
   ],
   "source": [
    "# προσθήκη νέας στήλης ορίζοντας περιεχόμενα ανά γραμμή\n",
    "\n",
    "df_grades4['semester'] = [1,1,2]\n",
    "df_grades4"
   ]
  },
  {
   "cell_type": "code",
   "execution_count": 33,
   "metadata": {},
   "outputs": [
    {
     "data": {
      "text/html": [
       "<div>\n",
       "<style scoped>\n",
       "    .dataframe tbody tr th:only-of-type {\n",
       "        vertical-align: middle;\n",
       "    }\n",
       "\n",
       "    .dataframe tbody tr th {\n",
       "        vertical-align: top;\n",
       "    }\n",
       "\n",
       "    .dataframe thead th {\n",
       "        text-align: right;\n",
       "    }\n",
       "</style>\n",
       "<table border=\"1\" class=\"dataframe\">\n",
       "  <thead>\n",
       "    <tr style=\"text-align: right;\">\n",
       "      <th></th>\n",
       "      <th>absences</th>\n",
       "      <th>semester</th>\n",
       "    </tr>\n",
       "  </thead>\n",
       "  <tbody>\n",
       "    <tr>\n",
       "      <th>nikos</th>\n",
       "      <td>0</td>\n",
       "      <td>1</td>\n",
       "    </tr>\n",
       "    <tr>\n",
       "      <th>maria</th>\n",
       "      <td>1</td>\n",
       "      <td>1</td>\n",
       "    </tr>\n",
       "    <tr>\n",
       "      <th>petros</th>\n",
       "      <td>2</td>\n",
       "      <td>2</td>\n",
       "    </tr>\n",
       "  </tbody>\n",
       "</table>\n",
       "</div>"
      ],
      "text/plain": [
       "        absences  semester\n",
       "nikos          0         1\n",
       "maria          1         1\n",
       "petros         2         2"
      ]
     },
     "execution_count": 33,
     "metadata": {},
     "output_type": "execute_result"
    }
   ],
   "source": [
    "# επιλογή συγκεκριμένων στηλών\n",
    "\n",
    "df_grades4[['absences','semester']] "
   ]
  },
  {
   "cell_type": "code",
   "execution_count": 34,
   "metadata": {},
   "outputs": [
    {
     "data": {
      "text/html": [
       "<div>\n",
       "<style scoped>\n",
       "    .dataframe tbody tr th:only-of-type {\n",
       "        vertical-align: middle;\n",
       "    }\n",
       "\n",
       "    .dataframe tbody tr th {\n",
       "        vertical-align: top;\n",
       "    }\n",
       "\n",
       "    .dataframe thead th {\n",
       "        text-align: right;\n",
       "    }\n",
       "</style>\n",
       "<table border=\"1\" class=\"dataframe\">\n",
       "  <thead>\n",
       "    <tr style=\"text-align: right;\">\n",
       "      <th></th>\n",
       "      <th>grade</th>\n",
       "      <th>absences</th>\n",
       "      <th>semester</th>\n",
       "    </tr>\n",
       "  </thead>\n",
       "  <tbody>\n",
       "    <tr>\n",
       "      <th>nikos</th>\n",
       "      <td>10</td>\n",
       "      <td>0</td>\n",
       "      <td>1</td>\n",
       "    </tr>\n",
       "    <tr>\n",
       "      <th>petros</th>\n",
       "      <td>5</td>\n",
       "      <td>2</td>\n",
       "      <td>2</td>\n",
       "    </tr>\n",
       "  </tbody>\n",
       "</table>\n",
       "</div>"
      ],
      "text/plain": [
       "        grade  absences  semester\n",
       "nikos      10         0         1\n",
       "petros      5         2         2"
      ]
     },
     "execution_count": 34,
     "metadata": {},
     "output_type": "execute_result"
    }
   ],
   "source": [
    "# διαγραφή γραμμής\n",
    "\n",
    "df_grades4 = df_grades4.drop('maria')\n",
    "df_grades4"
   ]
  },
  {
   "cell_type": "code",
   "execution_count": 35,
   "metadata": {},
   "outputs": [
    {
     "data": {
      "text/html": [
       "<div>\n",
       "<style scoped>\n",
       "    .dataframe tbody tr th:only-of-type {\n",
       "        vertical-align: middle;\n",
       "    }\n",
       "\n",
       "    .dataframe tbody tr th {\n",
       "        vertical-align: top;\n",
       "    }\n",
       "\n",
       "    .dataframe thead th {\n",
       "        text-align: right;\n",
       "    }\n",
       "</style>\n",
       "<table border=\"1\" class=\"dataframe\">\n",
       "  <thead>\n",
       "    <tr style=\"text-align: right;\">\n",
       "      <th></th>\n",
       "      <th>grade</th>\n",
       "    </tr>\n",
       "  </thead>\n",
       "  <tbody>\n",
       "    <tr>\n",
       "      <th>nikos</th>\n",
       "      <td>10</td>\n",
       "    </tr>\n",
       "    <tr>\n",
       "      <th>petros</th>\n",
       "      <td>5</td>\n",
       "    </tr>\n",
       "  </tbody>\n",
       "</table>\n",
       "</div>"
      ],
      "text/plain": [
       "        grade\n",
       "nikos      10\n",
       "petros      5"
      ]
     },
     "execution_count": 35,
     "metadata": {},
     "output_type": "execute_result"
    }
   ],
   "source": [
    "# διαγραφή στηλών \n",
    "df_grades4 = df_grades4.drop(['absences', 'semester'], axis=1)\n",
    "df_grades4"
   ]
  },
  {
   "cell_type": "code",
   "execution_count": 36,
   "metadata": {},
   "outputs": [
    {
     "data": {
      "text/html": [
       "<div>\n",
       "<style scoped>\n",
       "    .dataframe tbody tr th:only-of-type {\n",
       "        vertical-align: middle;\n",
       "    }\n",
       "\n",
       "    .dataframe tbody tr th {\n",
       "        vertical-align: top;\n",
       "    }\n",
       "\n",
       "    .dataframe thead th {\n",
       "        text-align: right;\n",
       "    }\n",
       "</style>\n",
       "<table border=\"1\" class=\"dataframe\">\n",
       "  <thead>\n",
       "    <tr style=\"text-align: right;\">\n",
       "      <th></th>\n",
       "      <th>a</th>\n",
       "      <th>b</th>\n",
       "      <th>c</th>\n",
       "    </tr>\n",
       "  </thead>\n",
       "  <tbody>\n",
       "    <tr>\n",
       "      <th>r1</th>\n",
       "      <td>0</td>\n",
       "      <td>1</td>\n",
       "      <td>2</td>\n",
       "    </tr>\n",
       "    <tr>\n",
       "      <th>r2</th>\n",
       "      <td>3</td>\n",
       "      <td>4</td>\n",
       "      <td>5</td>\n",
       "    </tr>\n",
       "    <tr>\n",
       "      <th>r3</th>\n",
       "      <td>6</td>\n",
       "      <td>7</td>\n",
       "      <td>8</td>\n",
       "    </tr>\n",
       "    <tr>\n",
       "      <th>r4</th>\n",
       "      <td>9</td>\n",
       "      <td>10</td>\n",
       "      <td>11</td>\n",
       "    </tr>\n",
       "  </tbody>\n",
       "</table>\n",
       "</div>"
      ],
      "text/plain": [
       "    a   b   c\n",
       "r1  0   1   2\n",
       "r2  3   4   5\n",
       "r3  6   7   8\n",
       "r4  9  10  11"
      ]
     },
     "execution_count": 36,
     "metadata": {},
     "output_type": "execute_result"
    }
   ],
   "source": [
    "# Στοίχιση (aligning)\n",
    "\n",
    "df1 = DataFrame(np.arange(12).reshape(4,3), index = ['r1', 'r2', 'r3', 'r4'],  columns = ['a', 'b', 'c'])\n",
    "df1"
   ]
  },
  {
   "cell_type": "code",
   "execution_count": 37,
   "metadata": {},
   "outputs": [
    {
     "data": {
      "text/html": [
       "<div>\n",
       "<style scoped>\n",
       "    .dataframe tbody tr th:only-of-type {\n",
       "        vertical-align: middle;\n",
       "    }\n",
       "\n",
       "    .dataframe tbody tr th {\n",
       "        vertical-align: top;\n",
       "    }\n",
       "\n",
       "    .dataframe thead th {\n",
       "        text-align: right;\n",
       "    }\n",
       "</style>\n",
       "<table border=\"1\" class=\"dataframe\">\n",
       "  <thead>\n",
       "    <tr style=\"text-align: right;\">\n",
       "      <th></th>\n",
       "      <th>name</th>\n",
       "      <th>grade</th>\n",
       "      <th>absences</th>\n",
       "    </tr>\n",
       "  </thead>\n",
       "  <tbody>\n",
       "    <tr>\n",
       "      <th>0</th>\n",
       "      <td>NIKOS</td>\n",
       "      <td>10</td>\n",
       "      <td>0</td>\n",
       "    </tr>\n",
       "    <tr>\n",
       "      <th>1</th>\n",
       "      <td>MARIA</td>\n",
       "      <td>9</td>\n",
       "      <td>1</td>\n",
       "    </tr>\n",
       "    <tr>\n",
       "      <th>2</th>\n",
       "      <td>PETROS</td>\n",
       "      <td>4</td>\n",
       "      <td>2</td>\n",
       "    </tr>\n",
       "  </tbody>\n",
       "</table>\n",
       "</div>"
      ],
      "text/plain": [
       "     name  grade  absences\n",
       "0   NIKOS     10         0\n",
       "1   MARIA      9         1\n",
       "2  PETROS      4         2"
      ]
     },
     "execution_count": 37,
     "metadata": {},
     "output_type": "execute_result"
    }
   ],
   "source": [
    "# Mapping (μετατροπή της στήλης name σε κεφαλαία)\n",
    "\n",
    "df_grades5 = df_grades\n",
    "df_grades5['name'] = df_grades5['name'].apply(lambda x:x.upper())\n",
    "df_grades5"
   ]
  },
  {
   "cell_type": "code",
   "execution_count": 38,
   "metadata": {},
   "outputs": [
    {
     "data": {
      "text/html": [
       "<div>\n",
       "<style scoped>\n",
       "    .dataframe tbody tr th:only-of-type {\n",
       "        vertical-align: middle;\n",
       "    }\n",
       "\n",
       "    .dataframe tbody tr th {\n",
       "        vertical-align: top;\n",
       "    }\n",
       "\n",
       "    .dataframe thead th {\n",
       "        text-align: right;\n",
       "    }\n",
       "</style>\n",
       "<table border=\"1\" class=\"dataframe\">\n",
       "  <thead>\n",
       "    <tr style=\"text-align: right;\">\n",
       "      <th></th>\n",
       "      <th>name</th>\n",
       "      <th>grade</th>\n",
       "      <th>absences</th>\n",
       "    </tr>\n",
       "  </thead>\n",
       "  <tbody>\n",
       "    <tr>\n",
       "      <th>2</th>\n",
       "      <td>PETROS</td>\n",
       "      <td>4</td>\n",
       "      <td>2</td>\n",
       "    </tr>\n",
       "    <tr>\n",
       "      <th>1</th>\n",
       "      <td>MARIA</td>\n",
       "      <td>9</td>\n",
       "      <td>1</td>\n",
       "    </tr>\n",
       "    <tr>\n",
       "      <th>0</th>\n",
       "      <td>NIKOS</td>\n",
       "      <td>10</td>\n",
       "      <td>0</td>\n",
       "    </tr>\n",
       "  </tbody>\n",
       "</table>\n",
       "</div>"
      ],
      "text/plain": [
       "     name  grade  absences\n",
       "2  PETROS      4         2\n",
       "1   MARIA      9         1\n",
       "0   NIKOS     10         0"
      ]
     },
     "execution_count": 38,
     "metadata": {},
     "output_type": "execute_result"
    }
   ],
   "source": [
    "# ταξινόμηση με βάση το index (δείκτες σειρών) σε φθίνουσα σειρά\n",
    "\n",
    "df_grades5.sort_index(ascending=False)"
   ]
  },
  {
   "cell_type": "code",
   "execution_count": 39,
   "metadata": {},
   "outputs": [
    {
     "data": {
      "text/html": [
       "<div>\n",
       "<style scoped>\n",
       "    .dataframe tbody tr th:only-of-type {\n",
       "        vertical-align: middle;\n",
       "    }\n",
       "\n",
       "    .dataframe tbody tr th {\n",
       "        vertical-align: top;\n",
       "    }\n",
       "\n",
       "    .dataframe thead th {\n",
       "        text-align: right;\n",
       "    }\n",
       "</style>\n",
       "<table border=\"1\" class=\"dataframe\">\n",
       "  <thead>\n",
       "    <tr style=\"text-align: right;\">\n",
       "      <th></th>\n",
       "      <th>absences</th>\n",
       "      <th>grade</th>\n",
       "      <th>name</th>\n",
       "    </tr>\n",
       "  </thead>\n",
       "  <tbody>\n",
       "    <tr>\n",
       "      <th>0</th>\n",
       "      <td>0</td>\n",
       "      <td>10</td>\n",
       "      <td>NIKOS</td>\n",
       "    </tr>\n",
       "    <tr>\n",
       "      <th>1</th>\n",
       "      <td>1</td>\n",
       "      <td>9</td>\n",
       "      <td>MARIA</td>\n",
       "    </tr>\n",
       "    <tr>\n",
       "      <th>2</th>\n",
       "      <td>2</td>\n",
       "      <td>4</td>\n",
       "      <td>PETROS</td>\n",
       "    </tr>\n",
       "  </tbody>\n",
       "</table>\n",
       "</div>"
      ],
      "text/plain": [
       "   absences  grade    name\n",
       "0         0     10   NIKOS\n",
       "1         1      9   MARIA\n",
       "2         2      4  PETROS"
      ]
     },
     "execution_count": 39,
     "metadata": {},
     "output_type": "execute_result"
    }
   ],
   "source": [
    "# ταξινόμηση με βάση το column (ετικέτες στηλών)\n",
    "\n",
    "df_grades5.sort_index(axis=1)"
   ]
  },
  {
   "cell_type": "code",
   "execution_count": 40,
   "metadata": {},
   "outputs": [
    {
     "data": {
      "text/html": [
       "<div>\n",
       "<style scoped>\n",
       "    .dataframe tbody tr th:only-of-type {\n",
       "        vertical-align: middle;\n",
       "    }\n",
       "\n",
       "    .dataframe tbody tr th {\n",
       "        vertical-align: top;\n",
       "    }\n",
       "\n",
       "    .dataframe thead th {\n",
       "        text-align: right;\n",
       "    }\n",
       "</style>\n",
       "<table border=\"1\" class=\"dataframe\">\n",
       "  <thead>\n",
       "    <tr style=\"text-align: right;\">\n",
       "      <th></th>\n",
       "      <th>name</th>\n",
       "      <th>grade</th>\n",
       "      <th>absences</th>\n",
       "    </tr>\n",
       "  </thead>\n",
       "  <tbody>\n",
       "    <tr>\n",
       "      <th>1</th>\n",
       "      <td>MARIA</td>\n",
       "      <td>9</td>\n",
       "      <td>1</td>\n",
       "    </tr>\n",
       "    <tr>\n",
       "      <th>0</th>\n",
       "      <td>NIKOS</td>\n",
       "      <td>10</td>\n",
       "      <td>0</td>\n",
       "    </tr>\n",
       "    <tr>\n",
       "      <th>2</th>\n",
       "      <td>PETROS</td>\n",
       "      <td>4</td>\n",
       "      <td>2</td>\n",
       "    </tr>\n",
       "  </tbody>\n",
       "</table>\n",
       "</div>"
      ],
      "text/plain": [
       "     name  grade  absences\n",
       "1   MARIA      9         1\n",
       "0   NIKOS     10         0\n",
       "2  PETROS      4         2"
      ]
     },
     "execution_count": 40,
     "metadata": {},
     "output_type": "execute_result"
    }
   ],
   "source": [
    "# ταξινόμηση με βάση τα περιεχόμενα στήλης\n",
    "\n",
    "df_grades5.sort_values('name')"
   ]
  },
  {
   "cell_type": "code",
   "execution_count": 41,
   "metadata": {},
   "outputs": [
    {
     "data": {
      "text/html": [
       "<div>\n",
       "<style scoped>\n",
       "    .dataframe tbody tr th:only-of-type {\n",
       "        vertical-align: middle;\n",
       "    }\n",
       "\n",
       "    .dataframe tbody tr th {\n",
       "        vertical-align: top;\n",
       "    }\n",
       "\n",
       "    .dataframe thead th {\n",
       "        text-align: right;\n",
       "    }\n",
       "</style>\n",
       "<table border=\"1\" class=\"dataframe\">\n",
       "  <thead>\n",
       "    <tr style=\"text-align: right;\">\n",
       "      <th></th>\n",
       "      <th>name</th>\n",
       "      <th>grade</th>\n",
       "      <th>absences</th>\n",
       "    </tr>\n",
       "  </thead>\n",
       "  <tbody>\n",
       "    <tr>\n",
       "      <th>2</th>\n",
       "      <td>PETROS</td>\n",
       "      <td>4</td>\n",
       "      <td>2</td>\n",
       "    </tr>\n",
       "    <tr>\n",
       "      <th>1</th>\n",
       "      <td>MARIA</td>\n",
       "      <td>9</td>\n",
       "      <td>1</td>\n",
       "    </tr>\n",
       "    <tr>\n",
       "      <th>0</th>\n",
       "      <td>NIKOS</td>\n",
       "      <td>10</td>\n",
       "      <td>0</td>\n",
       "    </tr>\n",
       "  </tbody>\n",
       "</table>\n",
       "</div>"
      ],
      "text/plain": [
       "     name  grade  absences\n",
       "2  PETROS      4         2\n",
       "1   MARIA      9         1\n",
       "0   NIKOS     10         0"
      ]
     },
     "execution_count": 41,
     "metadata": {},
     "output_type": "execute_result"
    }
   ],
   "source": [
    "df_grades5.sort_values(by=['grade','absences'], ascending=[True, False])"
   ]
  },
  {
   "cell_type": "code",
   "execution_count": 50,
   "metadata": {},
   "outputs": [
    {
     "data": {
      "text/html": [
       "<div>\n",
       "<style scoped>\n",
       "    .dataframe tbody tr th:only-of-type {\n",
       "        vertical-align: middle;\n",
       "    }\n",
       "\n",
       "    .dataframe tbody tr th {\n",
       "        vertical-align: top;\n",
       "    }\n",
       "\n",
       "    .dataframe thead th {\n",
       "        text-align: right;\n",
       "    }\n",
       "</style>\n",
       "<table border=\"1\" class=\"dataframe\">\n",
       "  <thead>\n",
       "    <tr style=\"text-align: right;\">\n",
       "      <th></th>\n",
       "      <th>grade</th>\n",
       "      <th>absences</th>\n",
       "    </tr>\n",
       "  </thead>\n",
       "  <tbody>\n",
       "    <tr>\n",
       "      <th>min</th>\n",
       "      <td>4.000000</td>\n",
       "      <td>0.0</td>\n",
       "    </tr>\n",
       "    <tr>\n",
       "      <th>max</th>\n",
       "      <td>10.000000</td>\n",
       "      <td>2.0</td>\n",
       "    </tr>\n",
       "    <tr>\n",
       "      <th>mean</th>\n",
       "      <td>7.666667</td>\n",
       "      <td>1.0</td>\n",
       "    </tr>\n",
       "    <tr>\n",
       "      <th>median</th>\n",
       "      <td>9.000000</td>\n",
       "      <td>1.0</td>\n",
       "    </tr>\n",
       "  </tbody>\n",
       "</table>\n",
       "</div>"
      ],
      "text/plain": [
       "            grade  absences\n",
       "min      4.000000       0.0\n",
       "max     10.000000       2.0\n",
       "mean     7.666667       1.0\n",
       "median   9.000000       1.0"
      ]
     },
     "execution_count": 50,
     "metadata": {},
     "output_type": "execute_result"
    }
   ],
   "source": [
    "# συναθροιστικές συναρτήσεις\n",
    "\n",
    "df_grades5[[\"grade\", \"absences\"]].agg(['min','max','mean','median'])"
   ]
  },
  {
   "cell_type": "code",
   "execution_count": 42,
   "metadata": {},
   "outputs": [
    {
     "data": {
      "text/plain": [
       "0  name         NIKOS\n",
       "   grade           10\n",
       "   absences         0\n",
       "1  name         MARIA\n",
       "   grade            9\n",
       "   absences         1\n",
       "2  name        PETROS\n",
       "   grade            4\n",
       "   absences         2\n",
       "dtype: object"
      ]
     },
     "execution_count": 42,
     "metadata": {},
     "output_type": "execute_result"
    }
   ],
   "source": [
    "# stack\n",
    "\n",
    "df_grades6 = df_grades5.stack()\n",
    "df_grades6"
   ]
  },
  {
   "cell_type": "code",
   "execution_count": 43,
   "metadata": {},
   "outputs": [
    {
     "data": {
      "text/html": [
       "<div>\n",
       "<style scoped>\n",
       "    .dataframe tbody tr th:only-of-type {\n",
       "        vertical-align: middle;\n",
       "    }\n",
       "\n",
       "    .dataframe tbody tr th {\n",
       "        vertical-align: top;\n",
       "    }\n",
       "\n",
       "    .dataframe thead th {\n",
       "        text-align: right;\n",
       "    }\n",
       "</style>\n",
       "<table border=\"1\" class=\"dataframe\">\n",
       "  <thead>\n",
       "    <tr style=\"text-align: right;\">\n",
       "      <th></th>\n",
       "      <th>name</th>\n",
       "      <th>grade</th>\n",
       "      <th>absences</th>\n",
       "    </tr>\n",
       "  </thead>\n",
       "  <tbody>\n",
       "    <tr>\n",
       "      <th>0</th>\n",
       "      <td>NIKOS</td>\n",
       "      <td>10</td>\n",
       "      <td>0</td>\n",
       "    </tr>\n",
       "    <tr>\n",
       "      <th>1</th>\n",
       "      <td>MARIA</td>\n",
       "      <td>9</td>\n",
       "      <td>1</td>\n",
       "    </tr>\n",
       "    <tr>\n",
       "      <th>2</th>\n",
       "      <td>PETROS</td>\n",
       "      <td>4</td>\n",
       "      <td>2</td>\n",
       "    </tr>\n",
       "  </tbody>\n",
       "</table>\n",
       "</div>"
      ],
      "text/plain": [
       "     name grade absences\n",
       "0   NIKOS    10        0\n",
       "1   MARIA     9        1\n",
       "2  PETROS     4        2"
      ]
     },
     "execution_count": 43,
     "metadata": {},
     "output_type": "execute_result"
    }
   ],
   "source": [
    "#unstack\n",
    "\n",
    "df_grades6.unstack()"
   ]
  },
  {
   "cell_type": "markdown",
   "metadata": {},
   "source": [
    "## Φόρτωση δεδομένων από αρχεία κειμένου"
   ]
  },
  {
   "cell_type": "code",
   "execution_count": 44,
   "metadata": {},
   "outputs": [],
   "source": [
    "import pandas as pd\n",
    "import numpy as np"
   ]
  },
  {
   "cell_type": "code",
   "execution_count": 45,
   "metadata": {},
   "outputs": [
    {
     "data": {
      "text/html": [
       "<div>\n",
       "<style scoped>\n",
       "    .dataframe tbody tr th:only-of-type {\n",
       "        vertical-align: middle;\n",
       "    }\n",
       "\n",
       "    .dataframe tbody tr th {\n",
       "        vertical-align: top;\n",
       "    }\n",
       "\n",
       "    .dataframe thead th {\n",
       "        text-align: right;\n",
       "    }\n",
       "</style>\n",
       "<table border=\"1\" class=\"dataframe\">\n",
       "  <thead>\n",
       "    <tr style=\"text-align: right;\">\n",
       "      <th></th>\n",
       "      <th>City</th>\n",
       "      <th>Perfecture</th>\n",
       "      <th>Population</th>\n",
       "    </tr>\n",
       "  </thead>\n",
       "  <tbody>\n",
       "    <tr>\n",
       "      <th>0</th>\n",
       "      <td>ΑΘΗΝΑ</td>\n",
       "      <td>ΑΤΤΙΚΗΣ</td>\n",
       "      <td>3218218</td>\n",
       "    </tr>\n",
       "    <tr>\n",
       "      <th>1</th>\n",
       "      <td>ΘΕΣΣΑΛΟΝΙΚΗ</td>\n",
       "      <td>ΚΕΝΤΡΙΚΗΣ ΜΑΚΕΔΟΝΙΑΣ</td>\n",
       "      <td>789191</td>\n",
       "    </tr>\n",
       "    <tr>\n",
       "      <th>2</th>\n",
       "      <td>ΠΑΤΡΑ</td>\n",
       "      <td>ΔΥΤΙΚΗΣ ΕΛΛΑΔΑΣ</td>\n",
       "      <td>168202</td>\n",
       "    </tr>\n",
       "    <tr>\n",
       "      <th>3</th>\n",
       "      <td>ΗΡΑΚΛΕΙΟ</td>\n",
       "      <td>ΚΡΗΤΗΣ</td>\n",
       "      <td>153653</td>\n",
       "    </tr>\n",
       "    <tr>\n",
       "      <th>4</th>\n",
       "      <td>ΛΑΡΙΣΑ</td>\n",
       "      <td>ΘΕΣΣΑΛΙΑ</td>\n",
       "      <td>144651</td>\n",
       "    </tr>\n",
       "    <tr>\n",
       "      <th>5</th>\n",
       "      <td>ΒΟΛΟΣ</td>\n",
       "      <td>ΘΕΣΣΑΛΙΑ</td>\n",
       "      <td>118707</td>\n",
       "    </tr>\n",
       "    <tr>\n",
       "      <th>6</th>\n",
       "      <td>ΙΩΑΝΝΙΝΑ</td>\n",
       "      <td>ΗΠΕΙΡΟΣ</td>\n",
       "      <td>65574</td>\n",
       "    </tr>\n",
       "    <tr>\n",
       "      <th>7</th>\n",
       "      <td>ΤΡΙΚΑΛΑ</td>\n",
       "      <td>ΘΕΣΣΑΛΙΑ</td>\n",
       "      <td>61653</td>\n",
       "    </tr>\n",
       "    <tr>\n",
       "      <th>8</th>\n",
       "      <td>ΧΑΛΚΙΔΑ</td>\n",
       "      <td>ΣΤΕΡΕΑΣ ΕΛΛΑΔΑΣ</td>\n",
       "      <td>59125</td>\n",
       "    </tr>\n",
       "    <tr>\n",
       "      <th>9</th>\n",
       "      <td>ΣΕΡΡΕΣ</td>\n",
       "      <td>ΚΕΝΤΡΙΚΗΣ ΜΑΚΕΔΟΝΙΑΣ</td>\n",
       "      <td>58287</td>\n",
       "    </tr>\n",
       "  </tbody>\n",
       "</table>\n",
       "</div>"
      ],
      "text/plain": [
       "          City            Perfecture  Population\n",
       "0        ΑΘΗΝΑ               ΑΤΤΙΚΗΣ     3218218\n",
       "1  ΘΕΣΣΑΛΟΝΙΚΗ  ΚΕΝΤΡΙΚΗΣ ΜΑΚΕΔΟΝΙΑΣ      789191\n",
       "2        ΠΑΤΡΑ       ΔΥΤΙΚΗΣ ΕΛΛΑΔΑΣ      168202\n",
       "3     ΗΡΑΚΛΕΙΟ                ΚΡΗΤΗΣ      153653\n",
       "4       ΛΑΡΙΣΑ              ΘΕΣΣΑΛΙΑ      144651\n",
       "5        ΒΟΛΟΣ              ΘΕΣΣΑΛΙΑ      118707\n",
       "6     ΙΩΑΝΝΙΝΑ               ΗΠΕΙΡΟΣ       65574\n",
       "7      ΤΡΙΚΑΛΑ              ΘΕΣΣΑΛΙΑ       61653\n",
       "8      ΧΑΛΚΙΔΑ       ΣΤΕΡΕΑΣ ΕΛΛΑΔΑΣ       59125\n",
       "9       ΣΕΡΡΕΣ  ΚΕΝΤΡΙΚΗΣ ΜΑΚΕΔΟΝΙΑΣ       58287"
      ]
     },
     "execution_count": 45,
     "metadata": {},
     "output_type": "execute_result"
    }
   ],
   "source": [
    "fn = \"../../../datasets/greek_cities.csv\"\n",
    "df = pd.read_csv(fn)\n",
    "df"
   ]
  },
  {
   "cell_type": "code",
   "execution_count": 46,
   "metadata": {},
   "outputs": [
    {
     "data": {
      "text/html": [
       "<div>\n",
       "<style scoped>\n",
       "    .dataframe tbody tr th:only-of-type {\n",
       "        vertical-align: middle;\n",
       "    }\n",
       "\n",
       "    .dataframe tbody tr th {\n",
       "        vertical-align: top;\n",
       "    }\n",
       "\n",
       "    .dataframe thead th {\n",
       "        text-align: right;\n",
       "    }\n",
       "</style>\n",
       "<table border=\"1\" class=\"dataframe\">\n",
       "  <thead>\n",
       "    <tr style=\"text-align: right;\">\n",
       "      <th></th>\n",
       "      <th></th>\n",
       "      <th>Population</th>\n",
       "    </tr>\n",
       "    <tr>\n",
       "      <th>Perfecture</th>\n",
       "      <th>City</th>\n",
       "      <th></th>\n",
       "    </tr>\n",
       "  </thead>\n",
       "  <tbody>\n",
       "    <tr>\n",
       "      <th>ΑΤΤΙΚΗΣ</th>\n",
       "      <th>ΑΘΗΝΑ</th>\n",
       "      <td>3218218</td>\n",
       "    </tr>\n",
       "    <tr>\n",
       "      <th>ΚΕΝΤΡΙΚΗΣ ΜΑΚΕΔΟΝΙΑΣ</th>\n",
       "      <th>ΘΕΣΣΑΛΟΝΙΚΗ</th>\n",
       "      <td>789191</td>\n",
       "    </tr>\n",
       "    <tr>\n",
       "      <th>ΔΥΤΙΚΗΣ ΕΛΛΑΔΑΣ</th>\n",
       "      <th>ΠΑΤΡΑ</th>\n",
       "      <td>168202</td>\n",
       "    </tr>\n",
       "    <tr>\n",
       "      <th>ΚΡΗΤΗΣ</th>\n",
       "      <th>ΗΡΑΚΛΕΙΟ</th>\n",
       "      <td>153653</td>\n",
       "    </tr>\n",
       "    <tr>\n",
       "      <th rowspan=\"2\" valign=\"top\">ΘΕΣΣΑΛΙΑ</th>\n",
       "      <th>ΛΑΡΙΣΑ</th>\n",
       "      <td>144651</td>\n",
       "    </tr>\n",
       "    <tr>\n",
       "      <th>ΒΟΛΟΣ</th>\n",
       "      <td>118707</td>\n",
       "    </tr>\n",
       "    <tr>\n",
       "      <th>ΗΠΕΙΡΟΣ</th>\n",
       "      <th>ΙΩΑΝΝΙΝΑ</th>\n",
       "      <td>65574</td>\n",
       "    </tr>\n",
       "    <tr>\n",
       "      <th>ΘΕΣΣΑΛΙΑ</th>\n",
       "      <th>ΤΡΙΚΑΛΑ</th>\n",
       "      <td>61653</td>\n",
       "    </tr>\n",
       "    <tr>\n",
       "      <th>ΣΤΕΡΕΑΣ ΕΛΛΑΔΑΣ</th>\n",
       "      <th>ΧΑΛΚΙΔΑ</th>\n",
       "      <td>59125</td>\n",
       "    </tr>\n",
       "    <tr>\n",
       "      <th>ΚΕΝΤΡΙΚΗΣ ΜΑΚΕΔΟΝΙΑΣ</th>\n",
       "      <th>ΣΕΡΡΕΣ</th>\n",
       "      <td>58287</td>\n",
       "    </tr>\n",
       "  </tbody>\n",
       "</table>\n",
       "</div>"
      ],
      "text/plain": [
       "                                  Population\n",
       "Perfecture           City                   \n",
       "ΑΤΤΙΚΗΣ              ΑΘΗΝΑ           3218218\n",
       "ΚΕΝΤΡΙΚΗΣ ΜΑΚΕΔΟΝΙΑΣ ΘΕΣΣΑΛΟΝΙΚΗ      789191\n",
       "ΔΥΤΙΚΗΣ ΕΛΛΑΔΑΣ      ΠΑΤΡΑ            168202\n",
       "ΚΡΗΤΗΣ               ΗΡΑΚΛΕΙΟ         153653\n",
       "ΘΕΣΣΑΛΙΑ             ΛΑΡΙΣΑ           144651\n",
       "                     ΒΟΛΟΣ            118707\n",
       "ΗΠΕΙΡΟΣ              ΙΩΑΝΝΙΝΑ          65574\n",
       "ΘΕΣΣΑΛΙΑ             ΤΡΙΚΑΛΑ           61653\n",
       "ΣΤΕΡΕΑΣ ΕΛΛΑΔΑΣ      ΧΑΛΚΙΔΑ           59125\n",
       "ΚΕΝΤΡΙΚΗΣ ΜΑΚΕΔΟΝΙΑΣ ΣΕΡΡΕΣ            58287"
      ]
     },
     "execution_count": 46,
     "metadata": {},
     "output_type": "execute_result"
    }
   ],
   "source": [
    "# hierarchical indexing\n",
    "\n",
    "df = pd.read_csv(fn, index_col=['Perfecture','City'])\n",
    "df"
   ]
  },
  {
   "cell_type": "code",
   "execution_count": 47,
   "metadata": {},
   "outputs": [
    {
     "data": {
      "text/html": [
       "<div>\n",
       "<style scoped>\n",
       "    .dataframe tbody tr th:only-of-type {\n",
       "        vertical-align: middle;\n",
       "    }\n",
       "\n",
       "    .dataframe tbody tr th {\n",
       "        vertical-align: top;\n",
       "    }\n",
       "\n",
       "    .dataframe thead th {\n",
       "        text-align: right;\n",
       "    }\n",
       "</style>\n",
       "<table border=\"1\" class=\"dataframe\">\n",
       "  <thead>\n",
       "    <tr style=\"text-align: right;\">\n",
       "      <th></th>\n",
       "      <th>Population</th>\n",
       "    </tr>\n",
       "    <tr>\n",
       "      <th>City</th>\n",
       "      <th></th>\n",
       "    </tr>\n",
       "  </thead>\n",
       "  <tbody>\n",
       "    <tr>\n",
       "      <th>ΛΑΡΙΣΑ</th>\n",
       "      <td>144651</td>\n",
       "    </tr>\n",
       "    <tr>\n",
       "      <th>ΒΟΛΟΣ</th>\n",
       "      <td>118707</td>\n",
       "    </tr>\n",
       "    <tr>\n",
       "      <th>ΤΡΙΚΑΛΑ</th>\n",
       "      <td>61653</td>\n",
       "    </tr>\n",
       "  </tbody>\n",
       "</table>\n",
       "</div>"
      ],
      "text/plain": [
       "         Population\n",
       "City               \n",
       "ΛΑΡΙΣΑ       144651\n",
       "ΒΟΛΟΣ        118707\n",
       "ΤΡΙΚΑΛΑ       61653"
      ]
     },
     "execution_count": 47,
     "metadata": {},
     "output_type": "execute_result"
    }
   ],
   "source": [
    "df.loc['ΘΕΣΣΑΛΙΑ']"
   ]
  },
  {
   "cell_type": "code",
   "execution_count": null,
   "metadata": {},
   "outputs": [],
   "source": []
  }
 ],
 "metadata": {
  "interpreter": {
   "hash": "5acf9e6ddcd6e56ed6a5d0b8356452ff4041af10724d472c7eae2ea2b3311c0a"
  },
  "kernelspec": {
   "display_name": "Python 3.8.0 64-bit ('3.8.0-amd64': pyenv)",
   "language": "python",
   "name": "python3"
  },
  "language_info": {
   "codemirror_mode": {
    "name": "ipython",
    "version": 3
   },
   "file_extension": ".py",
   "mimetype": "text/x-python",
   "name": "python",
   "nbconvert_exporter": "python",
   "pygments_lexer": "ipython3",
   "version": "3.8.13"
  },
  "orig_nbformat": 2
 },
 "nbformat": 4,
 "nbformat_minor": 2
}
