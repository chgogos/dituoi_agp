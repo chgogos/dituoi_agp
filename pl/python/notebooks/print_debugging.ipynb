{
 "cells": [
  {
   "cell_type": "markdown",
   "source": [
    "# Print debugging"
   ],
   "metadata": {}
  },
  {
   "cell_type": "code",
   "execution_count": 13,
   "source": [
    "# print debugging\n",
    "\n",
    "def fun(x):\n",
    "    print(\"Inside function fun\")\n",
    "    return 2*x\n",
    "\n",
    "print(fun(5))"
   ],
   "outputs": [
    {
     "output_type": "stream",
     "name": "stdout",
     "text": [
      "Inside function fun\n",
      "10\n"
     ]
    }
   ],
   "metadata": {}
  },
  {
   "cell_type": "code",
   "execution_count": 12,
   "source": [
    "# print debugging using icecream\n",
    "\n",
    "from icecream import ic\n",
    "\n",
    "def fun(x):\n",
    "    ic()\n",
    "    return 2*x\n",
    "\n",
    "ic.configureOutput(prefix='dbg| ', includeContext=True)\n",
    "\n",
    "ic(fun(5))"
   ],
   "outputs": [
    {
     "output_type": "stream",
     "name": "stderr",
     "text": [
      "dbg| <ipython-input-12-a3c287bcc248>:2 in fun() at 12:58:26.575\n",
      "dbg| <ipython-input-12-a3c287bcc248>:7 in <module>- fun(5): 10\n"
     ]
    },
    {
     "output_type": "execute_result",
     "data": {
      "text/plain": [
       "10"
      ]
     },
     "metadata": {},
     "execution_count": 12
    }
   ],
   "metadata": {}
  },
  {
   "cell_type": "code",
   "execution_count": null,
   "source": [
    "# print debugging using snoop\n",
    "\n",
    "import snoop\n",
    "\n"
   ],
   "outputs": [],
   "metadata": {}
  }
 ],
 "metadata": {
  "orig_nbformat": 4,
  "language_info": {
   "name": "python"
  }
 },
 "nbformat": 4,
 "nbformat_minor": 2
}