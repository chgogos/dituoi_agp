{
 "cells": [
  {
   "cell_type": "markdown",
   "source": [
    "# Print debugging"
   ],
   "metadata": {}
  },
  {
   "cell_type": "code",
   "execution_count": 13,
   "source": [
    "# print debugging\n",
    "\n",
    "def fun(x):\n",
    "    print(\"Inside function fun\")\n",
    "    return 2*x\n",
    "\n",
    "print(fun(5))"
   ],
   "outputs": [
    {
     "output_type": "stream",
     "name": "stdout",
     "text": [
      "Inside function fun\n",
      "10\n"
     ]
    }
   ],
   "metadata": {}
  },
  {
   "cell_type": "code",
   "execution_count": 12,
   "source": [
    "# print debugging using icecream\n",
    "\n",
    "from icecream import ic\n",
    "\n",
    "def fun(x):\n",
    "    ic()\n",
    "    return 2*x\n",
    "\n",
    "ic.configureOutput(prefix='dbg| ', includeContext=True)\n",
    "\n",
    "ic(fun(5))"
   ],
   "outputs": [
    {
     "output_type": "stream",
     "name": "stderr",
     "text": [
      "dbg| <ipython-input-12-a3c287bcc248>:2 in fun() at 12:58:26.575\n",
      "dbg| <ipython-input-12-a3c287bcc248>:7 in <module>- fun(5): 10\n"
     ]
    },
    {
     "output_type": "execute_result",
     "data": {
      "text/plain": [
       "10"
      ]
     },
     "metadata": {},
     "execution_count": 12
    }
   ],
   "metadata": {}
  },
  {
   "cell_type": "code",
   "execution_count": 14,
   "source": [
    "# print debugging using snoop\n",
    "\n",
    "import snoop\n",
    "\n",
    "@snoop\n",
    "def fun(x):\n",
    "    return 2*x\n",
    "\n",
    "fun(5) "
   ],
   "outputs": [
    {
     "output_type": "stream",
     "name": "stderr",
     "text": [
      "13:04:37.89 >>> Call to fun in File \"<ipython-input-14-7cae81cf42e1>\", line 6\n",
      "13:04:37.89 ...... x = 5\n",
      "13:04:37.89    6 | def fun(x):\n",
      "13:04:37.93    7 |     return 2*x\n",
      "13:04:37.93 <<< Return value from fun: 10\n"
     ]
    },
    {
     "output_type": "execute_result",
     "data": {
      "text/plain": [
       "10"
      ]
     },
     "metadata": {},
     "execution_count": 14
    }
   ],
   "metadata": {}
  },
  {
   "cell_type": "code",
   "execution_count": 17,
   "source": [
    "from snoop import pp\n",
    "\n",
    "a_list=[10,5,2]\n",
    "a_dict ={'key1':10, 'key2':20}\n",
    "pp(a_list)\n",
    "pp(a_dict)\n"
   ],
   "outputs": [
    {
     "output_type": "stream",
     "name": "stderr",
     "text": [
      "13:12:30.02 LOG:\n",
      "13:12:30.04 .... a_list = [10, 5, 2]\n",
      "13:12:30.05 LOG:\n",
      "13:12:30.06 .... a_dict = {'key1': 10, 'key2': 20}\n"
     ]
    },
    {
     "output_type": "execute_result",
     "data": {
      "text/plain": [
       "{'key1': 10, 'key2': 20}"
      ]
     },
     "metadata": {},
     "execution_count": 17
    }
   ],
   "metadata": {}
  },
  {
   "cell_type": "code",
   "execution_count": null,
   "source": [],
   "outputs": [],
   "metadata": {}
  }
 ],
 "metadata": {
  "orig_nbformat": 4,
  "language_info": {
   "name": "python"
  }
 },
 "nbformat": 4,
 "nbformat_minor": 2
}