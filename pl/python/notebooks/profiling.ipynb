{
 "metadata": {
  "language_info": {
   "codemirror_mode": {
    "name": "ipython",
    "version": 3
   },
   "file_extension": ".py",
   "mimetype": "text/x-python",
   "name": "python",
   "nbconvert_exporter": "python",
   "pygments_lexer": "ipython3",
   "version": "3.8.0-final"
  },
  "orig_nbformat": 2,
  "kernelspec": {
   "name": "python3",
   "display_name": "Python 3.8.0 64-bit",
   "metadata": {
    "interpreter": {
     "hash": "2334294e789e06453e89f7d5c3c2573679701f9bb5b76ad2158f91cca5c9244c"
    }
   }
  }
 },
 "nbformat": 4,
 "nbformat_minor": 2,
 "cells": [
  {
   "source": [
    "    Τμήμα Πληροφορικής και Τηλεπικοινωνιών - Άρτα \n",
    "    Πανεπιστήμιο Ιωαννίνων \n",
    "\n",
    "    Γκόγκος Χρήστος \n",
    "    http://chgogos.github.io/\n",
    "    Εαρινό εξάμηνο 2020-2021"
   ],
   "cell_type": "markdown",
   "metadata": {}
  },
  {
   "source": [
    "# Profiling"
   ],
   "cell_type": "markdown",
   "metadata": {}
  },
  {
   "cell_type": "code",
   "execution_count": 4,
   "metadata": {},
   "outputs": [
    {
     "output_type": "stream",
     "name": "stdout",
     "text": [
      "Collecting memory_profiler\n  Downloading memory_profiler-0.58.0.tar.gz (36 kB)\nCollecting psutil\n  Downloading psutil-5.8.0-cp38-cp38-win_amd64.whl (245 kB)\nBuilding wheels for collected packages: memory-profiler\n  Building wheel for memory-profiler (setup.py): started\n  Building wheel for memory-profiler (setup.py): finished with status 'done'\n  Created wheel for memory-profiler: filename=memory_profiler-0.58.0-py3-none-any.whl size=30183 sha256=dfdd042bdae29f51cd5fc83052516e2787f893a459420935eddc7065804da53a\n  Stored in directory: c:\\users\\chgogos\\appdata\\local\\pip\\cache\\wheels\\6a\\37\\3e\\d9e8ebaf73956a3ebd2ee41869444dbd2a702d7142bcf93c42\nSuccessfully built memory-profiler\nInstalling collected packages: psutil, memory-profiler\nSuccessfully installed memory-profiler-0.58.0 psutil-5.8.0\n"
     ]
    }
   ],
   "source": [
    "!pip install memory_profiler"
   ]
  },
  {
   "cell_type": "code",
   "execution_count": 16,
   "metadata": {},
   "outputs": [
    {
     "output_type": "stream",
     "name": "stdout",
     "text": [
      "['CodeMap', 'LineProfiler', 'LogFile', 'Magics', 'MemTimer', 'MemitResult', 'MemoryProfilerMagics', 'Pipe', 'Process', 'SIGKILL', 'TimeStamper', '_CLEAN_GLOBALS', '_CMD_USAGE', '_TWO_20', '_TimeStamperCM', '__builtins__', '__cached__', '__doc__', '__file__', '__loader__', '__name__', '__package__', '__spec__', '__version__', '_find_script', '_func_exec', '_get_child_memory', '_get_memory', 'builtins', 'choose_backend', 'contextmanager', 'coroutine', 'exec_with_profiler', 'has_tracemalloc', 'inspect', 'iscoroutinefunction', 'line_cell_magic', 'linecache', 'load_ipython_extension', 'logging', 'magics_class', 'memory_usage', 'os', 'partial', 'pdb', 'profile', 'psutil', 'run_module_with_profiler', 'show_results', 'subprocess', 'sys', 'time', 'traceback', 'tracemalloc', 'warnings', 'wraps']\n",
      "[65.73046875]\n",
      "[104.11328125]\n"
     ]
    }
   ],
   "source": [
    "import memory_profiler\n",
    "\n",
    "print(dir(memory_profiler))\n",
    "\n",
    "print(memory_profiler.memory_usage())\n",
    "a_list = list(range(1000000))\n",
    "print(memory_profiler.memory_usage())\n"
   ]
  },
  {
   "cell_type": "code",
   "execution_count": null,
   "metadata": {},
   "outputs": [],
   "source": []
  }
 ]
}