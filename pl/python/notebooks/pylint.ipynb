{
 "metadata": {
  "language_info": {
   "codemirror_mode": {
    "name": "ipython",
    "version": 3
   },
   "file_extension": ".py",
   "mimetype": "text/x-python",
   "name": "python",
   "nbconvert_exporter": "python",
   "pygments_lexer": "ipython3",
   "version": "3.8.0-final"
  },
  "orig_nbformat": 2,
  "kernelspec": {
   "name": "python3",
   "display_name": "Python 3.8.0 64-bit ('versions': pyenv)",
   "metadata": {
    "interpreter": {
     "hash": "2334294e789e06453e89f7d5c3c2573679701f9bb5b76ad2158f91cca5c9244c"
    }
   }
  }
 },
 "nbformat": 4,
 "nbformat_minor": 2,
 "cells": [
  {
   "cell_type": "code",
   "execution_count": 2,
   "metadata": {},
   "outputs": [
    {
     "output_type": "stream",
     "name": "stdout",
     "text": [
      "Requirement already satisfied: pylint in c:\\users\\chgogos\\appdata\\roaming\\python\\python38\\site-packages (2.5.3)\nRequirement already satisfied: colorama in c:\\users\\chgogos\\appdata\\roaming\\python\\python38\\site-packages (from pylint) (0.4.3)\nRequirement already satisfied: mccabe<0.7,>=0.6 in c:\\users\\chgogos\\appdata\\roaming\\python\\python38\\site-packages (from pylint) (0.6.1)\nRequirement already satisfied: isort<5,>=4.2.5 in c:\\users\\chgogos\\appdata\\roaming\\python\\python38\\site-packages (from pylint) (4.3.21)\nRequirement already satisfied: toml>=0.7.1 in c:\\users\\chgogos\\.pyenv\\pyenv-win\\versions\\3.8.0-amd64\\lib\\site-packages (from pylint) (0.10.2)\nRequirement already satisfied: astroid<=2.5,>=2.4.0 in c:\\users\\chgogos\\appdata\\roaming\\python\\python38\\site-packages (from pylint) (2.4.2)\nRequirement already satisfied: wrapt~=1.11 in c:\\users\\chgogos\\appdata\\roaming\\python\\python38\\site-packages (from astroid<=2.5,>=2.4.0->pylint) (1.12.1)\nRequirement already satisfied: lazy-object-proxy==1.4.* in c:\\users\\chgogos\\appdata\\roaming\\python\\python38\\site-packages (from astroid<=2.5,>=2.4.0->pylint) (1.4.3)\nRequirement already satisfied: six~=1.12 in c:\\users\\chgogos\\.pyenv\\pyenv-win\\versions\\3.8.0-amd64\\lib\\site-packages (from astroid<=2.5,>=2.4.0->pylint) (1.15.0)\n"
     ]
    }
   ],
   "source": [
    "!pip install pylint"
   ]
  },
  {
   "cell_type": "code",
   "execution_count": null,
   "metadata": {},
   "outputs": [],
   "source": []
  }
 ]
}