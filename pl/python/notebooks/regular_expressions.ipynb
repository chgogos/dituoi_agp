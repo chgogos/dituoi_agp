{
 "metadata": {
  "language_info": {
   "codemirror_mode": {
    "name": "ipython",
    "version": 3
   },
   "file_extension": ".py",
   "mimetype": "text/x-python",
   "name": "python",
   "nbconvert_exporter": "python",
   "pygments_lexer": "ipython3",
   "version": "3.8.0-final"
  },
  "orig_nbformat": 2,
  "kernelspec": {
   "name": "python3",
   "display_name": "Python 3.8.0 64-bit",
   "metadata": {
    "interpreter": {
     "hash": "2334294e789e06453e89f7d5c3c2573679701f9bb5b76ad2158f91cca5c9244c"
    }
   }
  }
 },
 "nbformat": 4,
 "nbformat_minor": 2,
 "cells": [
  {
   "source": [
    "    Τμήμα Πληροφορικής και Τηλεπικοινωνιών - Άρτα \n",
    "    Πανεπιστήμιο Ιωαννίνων \n",
    "\n",
    "    Γκόγκος Χρήστος \n",
    "    http://chgogos.github.io/\n",
    "    Εαρινό εξάμηνο 2020-2021"
   ],
   "cell_type": "markdown",
   "metadata": {}
  },
  {
   "source": [
    "# Κανονικές εκφράσεις\n",
    "\n",
    "Ειδικοί χαρακτήρες: . ^ $ * + ? { } [ ] \\ | ( )\n",
    "\n",
    "| χαρακτήρας | περιγραφή |\n",
    "|----|--------------|\n",
    "|.  | οποιοσδήποτε χαρακτήρας |\n",
    "|\\d | οποιοδήποτε ψηφίο (0-9) |\n",
    "|\\D | οτιδήποτε δεν είναι ψηφίο (0-9) |\n",
    "|\\w | χαρακτήρας λέξης (a-z, A-Z, 0-9, _) |\n",
    "|\\W | οτιδήποτε δεν είναι χαρακτήρας λέξης (a-z, A-Z, 0-9, _) |\n",
    "|\\s | κενός χαρακτήρας (διάστημα, tab, αλλαγή γραμμής) |\n",
    "|\\S | μη κενός χαρακτήρας (διάστημα, tab, αλλαγή γραμμής) | \n",
    "\n",
    "**Οριοθέτες** \n",
    "\n",
    "| οριοθέτης | περιγραφή |\n",
    "|-----------|-------------|\n",
    "|\\b         | όριο λέξης |\n",
    "|\\B         | όχι όριο λέξης |\n",
    "|^          | αρχή λεκτικού | \n",
    "|$          | τέλος λεκτικού | \n",
    "\n",
    "\n",
    "**Σύνολο χαρακτήρων**: ορίζεται μέσα σε αγκύλες [], π.χ. το σύνολο χαρακτήρων \\[aei\\] αντιστοιχεί σε έναν από τους χαρακτήρες a,e,i\n",
    "\n",
    "**Ειδικοί χαρακτήρες για σύνολα χαρακτήρων**: - ^\n",
    "* \\[a-zA-Z\\]  αντιστοιχεί σε έναν χαρακτήρα από a μέχρι και z πεζό ή κεφαλαίο\n",
    "* \\[^a\\]bc αντιστοιχεί σε κείμενο που δεν ξεκινά με a και συνεχίζει με bc\n",
    "\n",
    "**Ποσοδείκτες**\n",
    "\n",
    "| ποσοδείκτης | περιγραφή |\n",
    "|-----------|-------------|\n",
    "|*         | 0 ή περισσότερο |\n",
    "|+         | 1 ή περισσότερο |\n",
    "|?         | 0 ή 1 |\n",
    "|{3}         | ακριβώς 3 |\n",
    "|{3,4}         | περιοχή τιμών (ελάχιστο, μέγιστο) |\n",
    "\n",
    "**Ομάδες**: ορίζονται με παρενθέσεις () και το |\n",
    "\n",
    "\n",
    "\n"
   ],
   "cell_type": "markdown",
   "metadata": {}
  },
  {
   "cell_type": "code",
   "execution_count": 2,
   "metadata": {},
   "outputs": [],
   "source": [
    "import re\n",
    "\n"
   ]
  },
  {
   "cell_type": "code",
   "execution_count": null,
   "metadata": {},
   "outputs": [],
   "source": [
    "# finditer βρίσκει όλα τα ταιριάσματα (matches) και τις θέσεις τους\n",
    "\n",
    "text = '''\n",
    "\n",
    "'''\n",
    "\n",
    "pattern = re.compile(r'abc')\n",
    "matches =  pattern.finditer(text)\n",
    "\n",
    "for match in matches:\n",
    "    print(match)"
   ]
  },
  {
   "cell_type": "code",
   "execution_count": null,
   "metadata": {},
   "outputs": [],
   "source": [
    "# ταίριασμα κειμένου σε αρχείο\n",
    "\n",
    "with open('data.txt', 'r') as f:\n",
    "    contents = f.read()\n",
    "\n",
    "    matches = pattern.finditer(contents)\n",
    "\n",
    "    for match in matches:\n",
    "        print(match)"
   ]
  },
  {
   "cell_type": "code",
   "execution_count": null,
   "metadata": {},
   "outputs": [],
   "source": [
    "# findall επιστρέφει τα ταιριάσματα ως μια λίστα λεκτικών, αν περιέχει ομάδες θα επιστρέψει μόνο τις ομάδες\n",
    "\n"
   ]
  },
  {
   "cell_type": "code",
   "execution_count": null,
   "metadata": {},
   "outputs": [],
   "source": [
    "# match επιστρέφει μόνο το πρώτο ταίριασμα, εξετάζοντας μόνο την αρχή του λεκτικού"
   ]
  },
  {
   "cell_type": "code",
   "execution_count": null,
   "metadata": {},
   "outputs": [],
   "source": [
    "# search επιστρέφει μόνο το πρώτο ταίριασμα "
   ]
  },
  {
   "cell_type": "code",
   "execution_count": null,
   "metadata": {},
   "outputs": [],
   "source": [
    "# Παραδείγματα regexes\n",
    "\n",
    "# email\n",
    "\n",
    "# τηλέφωνο\n",
    "\n"
   ]
  },
  {
   "cell_type": "code",
   "execution_count": null,
   "metadata": {},
   "outputs": [],
   "source": [
    "# Χειρισμός δεδομένων από groups\n",
    "\n",
    "text = '''\n",
    "\n",
    "'''\n",
    "\n",
    "pattern = re.compile(r'abc')\n",
    "matches =  pattern.finditer(text)\n",
    "\n",
    "for match in matches:\n",
    "    print(match.group(0)) # entire match\n",
    "    print(match.group(1)) # the first group in the match\n",
    "    print(match.group(2)) # the second group in the match \n"
   ]
  },
  {
   "cell_type": "code",
   "execution_count": null,
   "metadata": {},
   "outputs": [],
   "source": [
    "# flags\n",
    "# re.IGNORECASE  -> re.I\n",
    "# re.VERBOSE  -> re.X\n",
    "\n",
    "\n",
    "re.search(r'''\n",
    "    (\\w+)   # Ομάδα 1: ταίριασμα 1 ή περισσότερων γραμμάτων, αριθμών ή κάτω παύλες\n",
    "    \\s+     # 1 ή περισσότεροι κενοί χαρακτήρες\n",
    "    \\1      # ταίριασμα με την πρώτη ομάδα\n",
    "''', 'text to be searched', re.VERBOSE)"
   ]
  },
  {
   "source": [
    "### re.sub\n",
    "\n",
    "Σύνταξη: re.sub(pattern, repl, string, count=0, flag=0)\n",
    "\n",
    "Εντοπισμός ενός προτύπου (pattern) σε ένα λεκτικό (string) και αντικατάστασή του με ένα άλλο λεκτικό (string)"
   ],
   "cell_type": "markdown",
   "metadata": {}
  },
  {
   "cell_type": "code",
   "execution_count": 9,
   "metadata": {},
   "outputs": [
    {
     "output_type": "execute_result",
     "data": {
      "text/plain": [
       "\"User's mobile number is *\""
      ]
     },
     "metadata": {},
     "execution_count": 9
    }
   ],
   "source": [
    "re.sub(r'\\d', '*', 'User\\'s mobile number is 1234567890')"
   ]
  },
  {
   "cell_type": "code",
   "execution_count": 8,
   "metadata": {},
   "outputs": [
    {
     "output_type": "execute_result",
     "data": {
      "text/plain": [
       "\"User's mobile number is *******890\""
      ]
     },
     "metadata": {},
     "execution_count": 8
    }
   ],
   "source": [
    "# μπορεί να χρησιμοποιηθεί συνάρτηση στη θέση της repl παραμέτρου\n",
    "\n",
    "def keep_last_3chars(s):\n",
    "    return '*' * (len(s[0])-3) + s[0][-3:]\n",
    "\n",
    "re.sub(r'\\d+', keep_last_3chars, 'User\\'s mobile number is 1234567890')"
   ]
  },
  {
   "cell_type": "code",
   "execution_count": null,
   "metadata": {},
   "outputs": [],
   "source": []
  }
 ]
}