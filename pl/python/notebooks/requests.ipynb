{
 "metadata": {
  "language_info": {
   "codemirror_mode": {
    "name": "ipython",
    "version": 3
   },
   "file_extension": ".py",
   "mimetype": "text/x-python",
   "name": "python",
   "nbconvert_exporter": "python",
   "pygments_lexer": "ipython3",
   "version": "3.8.0-final"
  },
  "orig_nbformat": 2,
  "kernelspec": {
   "name": "python3",
   "display_name": "Python 3.8.0 64-bit ('versions': pyenv)",
   "metadata": {
    "interpreter": {
     "hash": "2334294e789e06453e89f7d5c3c2573679701f9bb5b76ad2158f91cca5c9244c"
    }
   }
  }
 },
 "nbformat": 4,
 "nbformat_minor": 2,
 "cells": [
  {
   "source": [
    "# requests (HTTP for Humans)"
   ],
   "cell_type": "markdown",
   "metadata": {}
  },
  {
   "cell_type": "code",
   "execution_count": 2,
   "metadata": {},
   "outputs": [
    {
     "output_type": "stream",
     "name": "stdout",
     "text": [
      "Requirement already satisfied: requests in c:\\users\\chgogos\\.pyenv\\pyenv-win\\versions\\3.8.0-amd64\\lib\\site-packages (2.25.1)\nRequirement already satisfied: idna<3,>=2.5 in c:\\users\\chgogos\\.pyenv\\pyenv-win\\versions\\3.8.0-amd64\\lib\\site-packages (from requests) (2.10)\nRequirement already satisfied: chardet<5,>=3.0.2 in c:\\users\\chgogos\\.pyenv\\pyenv-win\\versions\\3.8.0-amd64\\lib\\site-packages (from requests) (4.0.0)\nRequirement already satisfied: certifi>=2017.4.17 in c:\\users\\chgogos\\.pyenv\\pyenv-win\\versions\\3.8.0-amd64\\lib\\site-packages (from requests) (2020.12.5)\nRequirement already satisfied: urllib3<1.27,>=1.21.1 in c:\\users\\chgogos\\.pyenv\\pyenv-win\\versions\\3.8.0-amd64\\lib\\site-packages (from requests) (1.26.3)\n"
     ]
    }
   ],
   "source": [
    "! pip install requests"
   ]
  },
  {
   "cell_type": "code",
   "execution_count": 6,
   "metadata": {},
   "outputs": [
    {
     "output_type": "stream",
     "name": "stdout",
     "text": [
      "<Response [200]>\n['__attrs__', '__bool__', '__class__', '__delattr__', '__dict__', '__dir__', '__doc__', '__enter__', '__eq__', '__exit__', '__format__', '__ge__', '__getattribute__', '__getstate__', '__gt__', '__hash__', '__init__', '__init_subclass__', '__iter__', '__le__', '__lt__', '__module__', '__ne__', '__new__', '__nonzero__', '__reduce__', '__reduce_ex__', '__repr__', '__setattr__', '__setstate__', '__sizeof__', '__str__', '__subclasshook__', '__weakref__', '_content', '_content_consumed', '_next', 'apparent_encoding', 'close', 'connection', 'content', 'cookies', 'elapsed', 'encoding', 'headers', 'history', 'is_permanent_redirect', 'is_redirect', 'iter_content', 'iter_lines', 'json', 'links', 'next', 'ok', 'raise_for_status', 'raw', 'reason', 'request', 'status_code', 'text', 'url']\n"
     ]
    }
   ],
   "source": [
    "import requests\n",
    "\n",
    "resp = requests.get('https://www.dit.uoi.gr/members.php')\n",
    "\n",
    "print(resp)\n",
    "print(dir(resp))"
   ]
  },
  {
   "cell_type": "code",
   "execution_count": 7,
   "metadata": {},
   "outputs": [
    {
     "output_type": "execute_result",
     "data": {
      "text/plain": [
       " class=\"tr\"><td class=\"tdh\" align=\"center\"><center><img src=\"./img/staff/e.s.photo.jpg\" height=\"82\" width=\"82\"></center>\\n\\t\\t\\t\\t<br><center><a class=\"one\" href=\"./staff.php?id=11\">Στεργίου Ελευθέριος</a></center></td>\\n\\t\\t\\t\\t<td class=\"tdh\"><center>ΔΕΠ<br>ΑΝΑΠΛΗΡΩΤΗΣ ΚΑΘΗΓΗΤΗΣ<br></center></td>\\n\\t\\t\\t\\t<td class=\"tdh\"><a class=\"two\" href=\"mailto:ster@uoi.gr\"><center>ster@uoi.gr</a><br><a class=\"t\" href=\"tel:26810 50346\">26810 50346</a></center></td>\\n\\t\\t\\t\\t<td class=\"tdh\"><a class=\"one\" href=\"./staff.php?id=11\"><center>Βιογραφικό</a><br><br><a class=\"one\" href=\"http://#\" target=\"_blank\">Προσωπική Σελίδα</a></center></td></tr><tr class=\"tr\"><td class=\"tdh\" align=\"center\"><center><img src=\"./img/staff/st.jpg\" height=\"82\" width=\"82\"></center>\\n\\t\\t\\t\\t<br><center><a class=\"one\" href=\"./staff.php?id=12\">Στύλιος Χρυσόστομος</a></center></td>\\n\\t\\t\\t\\t<td class=\"tdh\"><center>ΔΕΠ<br>ΚΑΘΗΓΗΤΗΣ<br></center></td>\\n\\t\\t\\t\\t<td class=\"tdh\"><a class=\"two\" href=\"mailto:stylios@uoi.gr\"><center>stylios@uoi.gr</a><br><a class=\"t\" href=\"tel:26810 50451\">26810 50451</a></center></td>\\n\\t\\t\\t\\t<td class=\"tdh\"><a class=\"one\" href=\"./staff.php?id=12\"><center>Βιογραφικό</a><br><br><a class=\"one\" href=\"http://kic.uoi.gr\" target=\"_blank\">Προσωπική Σελίδα</a></center></td></tr><tr class=\"tr\"><td class=\"tdh\" align=\"center\"><center><img src=\"./img/staff/tzallas.jpg\" height=\"82\" width=\"82\"></center>\\n\\t\\t\\t\\t<br><center><a class=\"one\" href=\"./staff.php?id=13\">Τζάλλας Αλέξανδρος</a></center></td>\\n\\t\\t\\t\\t<td class=\"tdh\"><center>ΔΕΠ<br>ΕΠΙΚΟΥΡΟΣ ΚΑΘΗΓΗΤΗΣ<br></center></td>\\n\\t\\t\\t\\t<td class=\"tdh\"><a class=\"two\" href=\"mailto:tzallas@uoi.gr\"><center>tzallas@uoi.gr</a><br><a class=\"t\" href=\"tel:26810 50250\">26810 50250</a></center></td>\\n\\t\\t\\t\\t<td class=\"tdh\"><a class=\"one\" href=\"./staff.php?id=13\"><center>Βιογραφικό</a><br><br><a class=\"one\" href=\"http://scholar.google.com/citations?user=Jrpqo_QAAAAJ&hl=el\" target=\"_blank\">Προσωπική Σελίδα</a></center></td></tr><tr class=\"tr\"><td class=\"tdh\" align=\"center\"><center><img src=\"./img/staff/tsoul.jpg\" height=\"82\" width=\"82\"></center>\\n\\t\\t\\t\\t<br><center><a class=\"one\" href=\"./staff.php?id=14\">Τσούλος Ιωάννης</a></center></td>\\n\\t\\t\\t\\t<td class=\"tdh\"><center>ΔΕΠ<br>ΑΝΑΠΛΗΡΩΤΗΣ ΚΑΘΗΓΗΤΗΣ<br></center></td>\\n\\t\\t\\t\\t<td class=\"tdh\"><a class=\"two\" href=\"mailto:itsoulos@uoi.gr\"><center>itsoulos@uoi.gr</a><br><a class=\"t\" href=\"tel:26810 50447\">26810 50447</a></center></td>\\n\\t\\t\\t\\t<td class=\"tdh\"><a class=\"one\" href=\"./staff.php?id=14\"><center>Βιογραφικό</a><br><br><a class=\"one\" href=\"http://#\" target=\"_blank\">Προσωπική Σελίδα</a></center></td></tr><tr class=\"tr\"><td class=\"tdh\" align=\"center\"><center><img src=\"./img/staff/foutsitzi.jpg\" height=\"82\" width=\"82\"></center>\\n\\t\\t\\t\\t<br><center><a class=\"one\" href=\"./staff.php?id=15\">Φουτσιτζή Γεωργία</a></center></td>\\n\\t\\t\\t\\t<td class=\"tdh\"><center>ΔΕΠ<br><br></center></td>\\n\\t\\t\\t\\t<td class=\"tdh\"><a class=\"two\" href=\"mailto:gfoutsi@uoi.gr\"><center>gfoutsi@uoi.gr</a><br><a class=\"t\" href=\"tel:\"></a></center></td>\\n\\t\\t\\t\\t<td class=\"tdh\"><a class=\"one\" href=\"./staff.php?id=15\"><center>Βιογραφικό</a><br><br><a class=\"one\" href=\"http://#\" target=\"_blank\">Προσωπική Σελίδα</a></center></td></tr></table></center></div>\\n<hr class=\"new3\">\\n<h3 style=\"font-family:calibri; color: #000099;\"><center><b>Εργαστηριακό Διδακτικό Προσωπικό (ΕΔΙΠ) <b></center></h3>\\n\\n\\t\\t\\t<center><table class=\"tab\">\\n\\t\\t\\t<td class=\"tdh\"><center>Ονοματεπώνυμο</center></td>\\n\\t\\t\\t<td class=\"tdh\"><center>Μέλος<br>Κατάσταση<br>Βαθμίδα</center></td>\\n\\t\\t\\t<td class=\"tdh\"><center>Email<br>Τηλέφωνο</center></td>\\n\\t\\t\\t<td class=\"tdh\"><center>Βιογραφικό<br>Ιστοσελίδα</center></td></tr><tr class=\"tr\"><td class=\"tdh\" align=\"center\"><center><img src=\"./img/staff/woman.png\" height=\"82\" width=\"82\"></center>\\n\\t\\t\\t\\t<br><center><a class=\"one\" href=\"./staff.php?id=16\">Μαργαρίτη Σπυριδούλα</a></center></td>\\n\\t\\t\\t\\t<td class=\"tdh\"><center>ΕΔΙΠ<br><br>Α</center></td>\\n\\t\\t\\t\\t<td class=\"tdh\"><a class=\"two\" href=\"mailto:smargar@uoi.gr\"><center>smargar@uoi.gr</a><br><a class=\"t\" href=\"tel:26810 50507\">26810 50507</a></center></td>\\n\\t\\t\\t\\t<td class=\"tdh\"><a class=\"one\" href=\"./staff.php?id=16\"><center>Βιογραφικό</a><br><br><a class=\"one\" href=\"http://#\" target=\"_blank\">Προσωπική Σελίδα</a></center></td></tr><tr class=\"tr\"><td class=\"tdh\" align=\"center\"><center><img src=\"./img/staff/char.jpg\" height=\"82\" width=\"82\"></center>\\n\\t\\t\\t\\t<br><center><a class=\"one\" href=\"./staff.php?id=17\">Χαριλόγης Βασίλειος</a></center></td>\\n\\t\\t\\t\\t<td class=\"tdh\"><center>ΕΔΙΠ<br><br>Α</center></td>\\n\\t\\t\\t\\t<td class=\"tdh\"><a class=\"two\" href=\"mailto:charilog@uoi.gr\"><center>charilog@uoi.gr</a><br><a class=\"t\" href=\"tel:26810 50508\">26810 50508</a></center></td>\\n\\t\\t\\t\\t<td class=\"tdh\"><a class=\"one\" href=\"./staff.php?id=17\"><center>Βιογραφικό</a><br><br><a class=\"one\" href=\"http://dit.uoi.gr\" target=\"_blank\">Προσωπική Σελίδα</a></center></td></tr></table></center>\\n<hr class=\"new3\">\\n<h3 style=\"font-family:calibri; color: #000099;\"><center><b>Πανεπιστημιακοί Υπότροφοι <b></center></h3>\\n\\n\\t\\t\\t<center><table class=\"tab\">\\n\\t\\t\\t<td class=\"tdh\"><center>Ονοματεπώνυμο</center></td>\\n\\t\\t\\t<td class=\"tdh\"><center>Μέλος<br>Κατάσταση<br>Βαθμίδα</center></td>\\n\\t\\t\\t<td class=\"tdh\"><center>Email<br>Τηλέφωνο</center></td>\\n\\t\\t\\t<td class=\"tdh\"><center>Βιογραφικό<br>Ιστοσελίδα</center></td></tr><tr class=\"tr\"><td class=\"tdh\" align=\"center\"><center><img src=\"./img/staff/GeorgiouGeorgePhoto.jpg\" height=\"82\" width=\"82\"></center>\\n\\t\\t\\t\\t<br><center><a class=\"one\" href=\"./staff.php?id=18\">Γεωργίου Γεώργιος</a></center></td>\\n\\t\\t\\t\\t<td class=\"tdh\"><center>ΠΥ<br><br></center></td>\\n\\t\\t\\t\\t<td class=\"tdh\"><a class=\"two\" href=\"mailto:ggeorg@teiep.gr\"><center>ggeorg@teiep.gr</a><br><a class=\"t\" href=\"tel:\"></a></center></td>\\n\\t\\t\\t\\t<td class=\"tdh\"><a class=\"one\" href=\"./staff.php?id=18\"><center>Βιογραφικό</a><br><br><a class=\"one\" href=\"http://#\" target=\"_blank\">Προσωπική Σελίδα</a></center></td></tr><tr class=\"tr\"><td class=\"tdh\" align=\"center\"><center><img src=\"./img/staff/Snapshot_20180112_5.JPG\" height=\"82\" width=\"82\"></center>\\n\\t\\t\\t\\t<br><center><a class=\"one\" href=\"./staff.php?id=19\">Δημόπουλος Δημήτριος</a></center></td>\\n\\t\\t\\t\\t<td class=\"tdh\"><center>ΠΥ<br><br></center></td>\\n\\t\\t\\t\\t<td class=\"tdh\"><a class=\"two\" href=\"mailto:ddimop@uoi.gr\"><center>ddimop@uoi.gr</a><br><a class=\"t\" href=\"tel:\"></a></center></td>\\n\\t\\t\\t\\t<td class=\"tdh\"><a class=\"one\" href=\"./staff.php?id=19\"><center>Βιογραφικό</a><br><br><a class=\"one\" href=\"http://#\" target=\"_blank\">Προσωπική Σελίδα</a></center></td></tr><tr class=\"tr\"><td class=\"tdh\" align=\"center\"><center><img src=\"./img/staff/man.png\" height=\"82\" width=\"82\"></center>\\n\\t\\t\\t\\t<br><center><a class=\"one\" href=\"./staff.php?id=26\">Καρβούνης Ευάγγελος</a></center></td>\\n\\t\\t\\t\\t<td class=\"tdh\"><center>ΠΥ<br><br></center></td>\\n\\t\\t\\t\\t<td class=\"tdh\"><a class=\"two\" href=\"mailto:\"><center></a><br><a class=\"t\" href=\"tel:\"></a></center></td>\\n\\t\\t\\t\\t<td class=\"tdh\"><a class=\"one\" href=\"./staff.php?id=26\"><center>Βιογραφικό</a><br><br><a class=\"one\" href=\"http://#\" target=\"_blank\">Προσωπική Σελίδα</a></center></td></tr></table></center><hr class=\"new3\">\\n<h3 style=\"font-family:calibri; color: #000099;\"><center><b>Υπότροφοι Απόκτησης Διδακτικής Εμπειρίας <b></center></h3>\\t\\n\\n\\t\\t\\t<center><table class=\"tab\">\\n\\t\\t\\t<td class=\"tdh\"><center>Ονοματεπώνυμο</center></td>\\n\\t\\t\\t<td class=\"tdh\"><center>Μέλος<br>Κατάσταση<br>Βαθμίδα</center></td>\\n\\t\\t\\t<td class=\"tdh\"><center>Email<br>Τηλέφωνο</center></td>\\n\\t\\t\\t<td class=\"tdh\"><center>Βιογραφικό<br>Ιστοσελίδα</center></td></tr><tr class=\"tr\"><td class=\"tdh\" align=\"center\"><center><img src=\"./img/staff/votis.jpg\" height=\"82\" width=\"82\"></center>\\n\\t\\t\\t\\t<br><center><a class=\"one\" href=\"./staff.php?id=21\">Βότης Κωνσταντίνος</a></center></td>\\n\\t\\t\\t\\t<td class=\"tdh\"><center>ΥΑΔΕ<br><br></center></td>\\n\\t\\t\\t\\t<td class=\"tdh\"><a class=\"two\" href=\"mailto:cvotis@uoi.gr\"><center>cvotis@uoi.gr</a><br><a class=\"t\" href=\"tel:\"></a></center></td>\\n\\t\\t\\t\\t<td class=\"tdh\"><a class=\"one\" href=\"./staff.php?id=21\"><center>Βιογραφικό</a><br><br><a class=\"one\" href=\"http://#\" target=\"_blank\">Προσωπική Σελίδα</a></center></td></tr><tr class=\"tr\"><td class=\"tdh\" align=\"center\"><center><img src=\"./img/staff/woman.png\" height=\"82\" width=\"82\"></center>\\n\\t\\t\\t\\t<br><center><a class=\"one\" href=\"./staff.php?id=22\">Ευαγγέλου Σοφία</a></center></td>\\n\\t\\t\\t\\t<td class=\"tdh\"><center>ΥΑΔΕ<br><br></center></td>\\n\\t\\t\\t\\t<td class=\"tdh\"><a class=\"two\" href=\"mailto:sevag@uoi.gr\"><center>sevag@uoi.gr</a><br><a class=\"t\" href=\"tel:\"></a></center></td>\\n\\t\\t\\t\\t<td class=\"tdh\"><a class=\"one\" href=\"./staff.php?id=22\"><center>Βιογραφικό</a><br><br><a class=\"one\" href=\"http://#\" target=\"_blank\">Προσωπική Σελίδα</a></center></td></tr><tr class=\"tr\"><td class=\"tdh\" align=\"center\"><center><img src=\"./img/staff/karvelis_image.jpg\" height=\"82\" width=\"82\"></center>\\n\\t\\t\\t\\t<br><center><a class=\"one\" href=\"./staff.php?id=23\">Καρβέλης Πέτρος</a></center></td>\\n\\t\\t\\t\\t<td class=\"tdh\"><center>ΥΑΔΕ<br><br></center></td>\\n\\t\\t\\t\\t<td class=\"tdh\"><a class=\"two\" href=\"mailto:pkarvelis@uoi.gr\"><center>pkarvelis@uoi.gr</a><br><a class=\"t\" href=\"tel:\"></a></center></td>\\n\\t\\t\\t\\t<td class=\"tdh\"><a class=\"one\" href=\"./staff.php?id=23\"><center>Βιογραφικό</a><br><br><a class=\"one\" href=\"http://#\" target=\"_blank\">Προσωπική Σελίδα</a></center></td></tr><tr class=\"tr\"><td class=\"tdh\" align=\"center\"><center><img src=\"./img/staff/raptis.jpg\" height=\"82\" width=\"82\"></center>\\n\\t\\t\\t\\t<br><center><a class=\"one\" href=\"./staff.php?id=24\">Ράπτης Βασίλειος</a></center></td>\\n\\t\\t\\t\\t<td class=\"tdh\"><center>ΥΑΔΕ<br><br></center></td>\\n\\t\\t\\t\\t<td class=\"tdh\"><a class=\"two\" href=\"mailto:vraptis@teiep.gr\"><center>vraptis@teiep.gr</a><br><a class=\"t\" href=\"tel:\"></a></center></td>\\n\\t\\t\\t\\t<td class=\"tdh\"><a class=\"one\" href=\"./staff.php?id=24\"><center>Βιογραφικό</a><br><br><a class=\"one\" href=\"http://#\" target=\"_blank\">Προσωπική Σελίδα</a></center></td></tr><tr class=\"tr\"><td class=\"tdh\" align=\"center\"><center><img src=\"./img/staff/georgios_tsoumanis-300x273.jpg\" height=\"82\" width=\"82\"></center>\\n\\t\\t\\t\\t<br><center><a class=\"one\" href=\"./staff.php?id=25\">Τσουμάνης Γεώργιος</a></center></td>\\n\\t\\t\\t\\t<td class=\"tdh\"><center>ΥΑΔΕ<br><br></center></td>\\n\\t\\t\\t\\t<td class=\"tdh\"><a class=\"two\" href=\"mailto:gtsoum@uoi.gr\"><center>gtsoum@uoi.gr</a><br><a class=\"t\" href=\"tel:\"></a></center></td>\\n\\t\\t\\t\\t<td class=\"tdh\"><a class=\"one\" href=\"./staff.php?id=25\"><center>Βιογραφικό</a><br><br><a class=\"one\" href=\"http://#\" target=\"_blank\">Προσωπική Σελίδα</a></center></td></tr></table></center><!--<hr class=\"new3\">-->\\n</div></div><div class=\"col-lg-12 col-sm-12 spacer\"></div></div></div></div></div></section><footer>\\n\\n  <section id=\"testimonials\">\\n        <div class=\"container  wow fadeIn animated\">\\n            <div class=\"row\">\\n                <div class=\\'col-md-offset-2 col-md-8 text-center\\'>\\n               <div class=\"footerlogomain hover-effect \"></div>\\n                <!--  <div class=\"footer-logo hover-effect \"></div> -->\\n                <h4>Τμήμα Πληροφορικής & Τηλεπικοινωνιών</h4>\\n                <h4>Σχολή Πληροφορικής & Τηλεπικοινωνιών</h4>\\n              <!--  <h3>Πανεπιστήμιο Ιωαννίνων</h3> -->\\n                </div>\\n            </div>\\n\\n        </div>\\n       </section><!-- End testimonials -->\\n\\n   <section id=\"socialssection\">\\n        <div class=\"container\">\\n            <div class=\"row\">\\n            <ul id=\"follow_us\" class=\"text-center\">\\n      <div class=\"col-md-3 col-sm-3  wow fadeIn animated\"><li><a href=\"https://www.facebook.com/dit.uoi.gr/\" target=\"_blank\"><i class=\"icon-facebook\"></i></li>Η σελίδα μας</a></div>\\n      <div class=\"col-md-3 col-sm-3  wow fadeIn animated\"><li><a href=\"https://www.facebook.com/groups/456725808252801/\" target=\"_blank\"><i class=\"icon-facebook\"></i></li>Ενεργά μέλη</a></div>\\n      <div class=\"col-md-3 col-sm-3  wow fadeIn animated\"><li><a href=\"https://www.facebook.com/groups/2386799491646913/\" target=\"_blank\"><i class=\"icon-facebook\"></i></li>Απόφοιτοι</a></div>\\n      <div class=\"col-md-3 col-sm-3  wow fadeIn animated\"><li><a href=\"https://www.instagram.com/dit.uoi/\" target=\"_blank\"><i class=\"icon-instagram\"></i></li>Instagram</a></div>\\n</ul></div>\\n\\t</div>\\n\\t </div>\\n       </section><!-- End socials -->\\n\\n  <div class=\"container\" id=\"nav-footer\">\\n  <div class=\"row text-left\">\\n\\n\\n\\n\\n    <div class=\"col-md-3 col-sm-3 text-center  wow fadeIn animated\">\\n      <h4>Η ΕΦΑΡΜΟΓΗ ΜΑΣ</h4>\\n      <ul>\\n            <li> <a href=\"https://play.google.com/store/apps/details?id=com.teiep.ce&hl=el\" target=\"_blank\"><img src=\"img/logos/footerlogo1.png\" class=\"footerlogo centerdiv\"></a>     \\n      </ul>\\n            <h4>ΣΤΑΤΙΣΤΙΚΑ</h4>\\n      <ul>\\n              <li>  Χρήστες Online: 22</li>\\n      </ul>\\n    </div>\\n\\n      \\t    <div class=\"col-md-offset-1 col-md-4 col-sm-offset-1 col-sm-4 text-center wow fadeIn animated\">\\n      <ul>\\n               \\n                      \\t<a href=\"https://www.uoi.gr/\"><div class=\"footerlogouoi\"></div></a>\\n                      \\t <h4>Πανεπιστήμιο Ιωαννίνων</h4>\\n                <!--<h5>Τμ. Πληροφορικής & Τηλεπικοινωνιών</h5>-->\\n<br>\\n<p><a href=\"./credits.php\"><b>Υποστήριξη site</b></a></p>\\n      </ul>\\n    </div>\\n     <div class=\"col-md-3 col-sm-3 col-md-offset-1 col-sm-offset-1 text-center wow fadeIn animated\">\\n      <ul>\\n                <h4>Επικοινωνία</h4>\\n                <a href=\"./contact.php\">\\n        <li><strong class=\"phone\">ΤΗΛ: 26810 50350</strong><br><strong class=\"phone\"> 26810 50341</strong><br><!--<small>ΤΗΛ 3: 26810 50499</small>--></li>\\n                <li><strong class=\"phone\">ΦΑΞ: 26810 50340</strong></li>\\n       <!-- <li>Κωστακιοί Άρτας ΤΚ: 47150<li>-->\\n          <li>Βρείτε μας στο χάρτη!<li></a>\\n      </ul>\\n      <h4>Ευχαριστίες</h4>\\n      <ul>\\n              <li><a href=\"./credits.php\">Ομάδα Aνάπτυξης</a></li>\\n      </ul>\\n    </div><!-- End col-md-4 -->\\n\\t\\n    <!-- End col-md-4 --><!--\\n    <div class=\"col-md-3 col-sm-3  wow fadeIn animated\">\\n      <h4>ΓΙΑ ΤΟΝ ΦΟΙΤΗΤΗ</h4>\\n      <ul>\\n                <li><a href=\"/news.php\">Αρχείο Ανακοινώσεων</a></li>\\n                 <li><a href=\"/e-class/\" target=\"_blank\">Ασύγχρονη Τηλεκπαίδευση</a></li>\\n                 <li><a href=\"https://classweb.uoi.gr/\" target=\"_blank\">Βαθμοί (Νέο σύστημα)</a></li>\\n                 <li><a href=\"https://gmweb.teiep.gr/unistudent/\" target=\"_blank\">Βαθμοί (Παλιό σύστημα ΤΕΙ Ηπείρου)</a></li>\\n                 <li><a href=\"/advisor.php\">Σύμβουλος Καθηγητής</a></li>\\n                 <li><a href=\"http://mail.ce.teiep.gr/mail/\" target=\"_blank\">Ηλεκτρονικό Ταχυδρομείο</a></li>\\n                 <li><a href=\"http://myweb.ce.teiep.gr/\" target=\"_blank\">Προσωπικές Ιστοσελίδες</a></li>\\n                 <li><a href=\"http://sonetto.teiep.gr/student/\" target=\"_blank\">Ηλεκτρονικό Εργαστήρι</a></li>\\n                   <li><a href=\"https://eregister.it.minedu.gov.gr/\" target=\"_blank\">Eγγραφές Nεοεισαχθέντων</a></li>\\n                     <li><a href=\"http://eudoxus.gr/\" target=\"_blank\">Εύδοξος</a></li>\\n                     <li><a href=\"http://academicid.minedu.gov.gr/\" target=\"_blank\">Ακαδημαική ταυτότητα</a></li>\\n                    <li><a href=\"/download.php\">Χρήσιμα Αρχεία</a></li>\\n                    <li><a href=\"/poll.php\">Αρχείο δημοσκοπήσεων</a></li>\\n                   < <li><a href=\"/searchq.php\">Αναζήτηση</a></li>\\n                    <li><a href=\"/evaluations.php\">Αξιολογήσεις</a></li>\\n                   <li><a href=\"/index2.php?id=147\">Πολιτική Διασφάλισης Ποιότητας</a></li>\\n      </ul>\\n    </div> -->\\n   <!-- <div class=\"col-md-3 col-sm-3  wow fadeIn animated\">\\n      <h4>ΣΥΝΔΕΣΜΟΙ</h4>\\n      <ul>\\n                 <li><a href=\"https://www.uoi.gr/\" target=\"_blank\">Πανεπιστήμιο Ιωαννίνων</a></li>\\n                 <li><a href=\"http://erasmus.teiep.gr/\" target=\"_blank\">Lifelong learning program erasmus</a></li>\\n                 <li><a href=\"https://dasta.teiep.gr/index.php/grafeiodiasyndesis\" target=\"_blank\">Γραφείο Διασύνδεσης</a></li>\\n                 <li><a href=\"https://dasta.teiep.gr/\" target=\"_blank\">Γραφείο Πρακτικής Άσκησης</a></li>\\n                 <li><a href=\"https://wwwlib.teiep.gr/\" target=\"_blank\">Βιβλιοθήκη</a></li>\\n                 <li><a href=\"http://web.teiep.gr/noc/\" target=\"_blank\">Κέντρο Δικτύων</a></li>\\n                     <li><a href=\"index2.php?id=141\">Επιχειρηματικότητα και Καινοτομία</a></li>\\n                     <li><a href=\"index2.php?id=140\">Ελεύθερα Εργαστήρια</a></li>\\n                     <li><a href=\"http://conference.ce.teiep.gr/\" target=\"_blank\">Συνέδριο</a></li>\\n                 <li><a href=\"/labmuseum.php\">Βιωματικό Εργαστήριο & Μουσείο</a></li>\\n                    <li><a href=\"/links.php\">Καταχωρηθείτε</a></li>\\n                     <li><a href=\"/files/anak_200617.pdf\" target=\"_blank\">Ηλεκτρονικός Λογαριασμός</a></li>\\n                     <li><a href=\"index2.php?id=145\">Πες την γνώμη σου</a></li>\\n                 <li><a href=\"index2.php?id=31\">Πληροφορίες για την Άρτα</a></li>\\n      </ul>\\n    </div> -->\\n\\n  </div><!-- End row -->\\n</div>\\n\\n\\t<div id=\"copy_right\"><a href=\"./quality-policy.php?id=8\" target=\"_blank\">Όροι Χρήσης</a><br>Copyright © www.dit.uoi.gr 2006-2021. All Rights Reserved!</div>\\n \\n\\n\\n</footer>\\n\\n    <!--=========== END FOOTER SECTION ================--> \\n\\n    \\t\\n\\n    <!-- Update by Andreas Zorpidis 5/10/2019 -->\\n<!-- Back to top button -->\\n<a id=\"backtotop\"></a>\\n\\n\\n<script>\\n  var btn = $(\\'#backtotop\\');\\n\\n$(window).scroll(function() {\\n  if ($(window).scrollTop() > 300) {\\n    btn.addClass(\\'show\\');\\n  } else {\\n    btn.removeClass(\\'show\\');\\n  }\\n});\\n\\nbtn.on(\\'click\\', function(e) {\\n  e.preventDefault();\\n  $(\\'html, body\\').animate({scrollTop:0}, \\'300\\');\\n});\\n\\n\\n</script>\\n\\n    <!-- JQUERY -->\\n    <script src=\"js/jquery-2.2.4.min.js\"></script>\\n\\n<!-- jQuery REVOLUTION Slider  -->\\n<script type=\"text/javascript\" src=\"rs-plugin/js/jquery.themepunch.plugins.min.js\"></script>\\n<script type=\"text/javascript\" src=\"rs-plugin/js/jquery.themepunch.revolution.min.js\"></script>\\n<script type=\"text/javascript\">\\n\\n    var revapi;\\n\\n    jQuery(document).ready(function() {\\n\\n         revapi = jQuery(\\'.tp-banner\\').revolution(\\n        {\\n          delay:9000,\\n          startwidth:1700,\\n          startheight:600,\\n          hideThumbs:true,\\n          navigationType:\"none\",\\n          fullWidth:\"on\",\\n          forceFullWidth:\"on\"\\n        });\\n\\n    }); //ready\\n\\n  </script>\\n  \\n    <!-- OTHER JS --> \\n    <script src=\"js/superfish.js\"></script>\\n    <script src=\"js/bootstrap.min.js\"></script>\\n    <script src=\"js/all.js\"></script>\\n    <script src=\"js/retina.min.js\"></script>\\n    <script src=\"js/jquery.fitvids.js\"></script> <!-- for video responsive-->\\n    <script src=\"js/jquery.placeholder.js\"></script>\\n    <script src=\"js/functions.js\"></script>\\n    <script src=\"js/classie.js\"></script>\\n    <script src=\"js/uisearch.js\"></script>\\n    <script src=\"js/remove-upcase-accents.js\"></script>\\n\\n    <script>new UISearch( document.getElementById( \\'sb-search\\' ) );</script>\\n    <script>$(\".video\").fitVids();</script>\\n     <!-- FANCYBOX -->\\n    <script  src=\"js/fancybox/source/jquery.fancybox.pack.js?v=2.1.4\" type=\"text/javascript\"></script> \\n    <script src=\"js/fancybox/source/helpers/jquery.fancybox-media.js?v=1.0.5\" type=\"text/javascript\"></script> \\n    <script src=\"js/fancy_func.js\" type=\"text/javascript\"></script> \\n    <!-- Update by Andreas Zorpidis 5/10/2019 END -->\\n\\t<script>\\r\\nwindow.ga=window.ga||function(){(ga.q=ga.q||[]).push(arguments)};ga.l=+new Date;\\r\\nga(\\'create\\', \\'UA-174035347-1\\', \\'auto\\');\\r\\nga(\\'send\\', \\'pageview\\');\\r\\n</script>\\r\\n<script async src=\\'https://www.google-analytics.com/analytics.js\\'></script>  </body>\\n\\n</html></body>\\n</html>\\t\\n'"
      ]
     },
     "metadata": {},
     "execution_count": 7
    }
   ],
   "source": [
    "resp.text"
   ]
  },
  {
   "cell_type": "code",
   "execution_count": 12,
   "metadata": {},
   "outputs": [],
   "source": [
    "r = requests.get('https://upload.wikimedia.org/wikipedia/commons/9/99/ClaudeShannon_MFO3807.jpg')\n",
    "with open('wiki.jpg', 'wb') as f:\n",
    "    f.write(r.content)"
   ]
  },
  {
   "cell_type": "code",
   "execution_count": 10,
   "metadata": {},
   "outputs": [
    {
     "output_type": "stream",
     "name": "stdout",
     "text": [
      "200\n{'Date': 'Wed, 10 Mar 2021 19:06:15 GMT', 'Vary': 'Accept-Encoding,Cookie,Authorization', 'Server': 'ATS/8.0.8', 'X-Content-Type-Options': 'nosniff', 'P3p': 'CP=\"See https://en.wikipedia.org/wiki/Special:CentralAutoLogin/P3P for more info.\"', 'Content-Language': 'en', 'X-Request-Id': 'YEfMUwpAEKcAAWrknW8AAABE', 'Last-Modified': 'Tue, 09 Mar 2021 19:17:17 GMT', 'Content-Type': 'text/html; charset=UTF-8', 'Content-Encoding': 'gzip', 'Age': '15373', 'X-Cache': 'cp3064 miss, cp3060 hit/9', 'X-Cache-Status': 'hit-front', 'Server-Timing': 'cache;desc=\"hit-front\"', 'Strict-Transport-Security': 'max-age=106384710; includeSubDomains; preload', 'Report-To': '{ \"group\": \"wm_nel\", \"max_age\": 86400, \"endpoints\": [{ \"url\": \"https://intake-logging.wikimedia.org/v1/events?stream=w3c.reportingapi.network_error&schema_uri=/w3c/reportingapi/network_error/1.0.0\" }] }', 'NEL': '{ \"report_to\": \"wm_nel\", \"max_age\": 86400, \"failure_fraction\": 0.05, \"success_fraction\": 0.0}', 'Set-Cookie': 'WMF-Last-Access=10-Mar-2021;Path=/;HttpOnly;secure;Expires=Sun, 11 Apr 2021 12:00:00 GMT, WMF-Last-Access-Global=10-Mar-2021;Path=/;Domain=.wikipedia.org;HttpOnly;secure;Expires=Sun, 11 Apr 2021 12:00:00 GMT, GeoIP=GR:I:Athens:37.98:23.74:v4; Path=/; secure; Domain=.wikipedia.org', 'X-Client-IP': '2a02:2149:885a:7900:e81e:2e2c:dd7f:f115', 'Cache-Control': 'private, s-maxage=0, max-age=0, must-revalidate', 'Accept-Ranges': 'bytes', 'Content-Length': '67654', 'Connection': 'keep-alive'}\n"
     ]
    }
   ],
   "source": [
    "print(r.status_code)\n",
    "print(r.headers)"
   ]
  },
  {
   "cell_type": "code",
   "execution_count": 14,
   "metadata": {},
   "outputs": [
    {
     "output_type": "stream",
     "name": "stdout",
     "text": [
      "https://httpbin.org/get?page=2&count=25\n{\n  \"args\": {\n    \"count\": \"25\", \n    \"page\": \"2\"\n  }, \n  \"headers\": {\n    \"Accept\": \"*/*\", \n    \"Accept-Encoding\": \"gzip, deflate\", \n    \"Host\": \"httpbin.org\", \n    \"User-Agent\": \"python-requests/2.25.1\", \n    \"X-Amzn-Trace-Id\": \"Root=1-604955fc-224e254f3ab0699013153280\"\n  }, \n  \"origin\": \"62.1.164.158\", \n  \"url\": \"https://httpbin.org/get?page=2&count=25\"\n}\n\n"
     ]
    }
   ],
   "source": [
    "# httpbin.org testing site\n",
    "\n",
    "\n",
    "import requests\n",
    "\n",
    "payload = {'page':2, 'count':25}\n",
    "r = requests.get('https://httpbin.org/get', params=payload)\n",
    "\n",
    "print(r.url)\n",
    "print(r.text)"
   ]
  },
  {
   "cell_type": "code",
   "execution_count": 17,
   "metadata": {},
   "outputs": [
    {
     "output_type": "stream",
     "name": "stdout",
     "text": [
      "https://httpbin.org/post\n{\n  \"args\": {}, \n  \"data\": \"\", \n  \"files\": {}, \n  \"form\": {\n    \"passord\": \"testing\", \n    \"username\": \"john\"\n  }, \n  \"headers\": {\n    \"Accept\": \"*/*\", \n    \"Accept-Encoding\": \"gzip, deflate\", \n    \"Content-Length\": \"29\", \n    \"Content-Type\": \"application/x-www-form-urlencoded\", \n    \"Host\": \"httpbin.org\", \n    \"User-Agent\": \"python-requests/2.25.1\", \n    \"X-Amzn-Trace-Id\": \"Root=1-604956bf-3c40f23068a2835b67cdbd2d\"\n  }, \n  \"json\": null, \n  \"origin\": \"62.1.164.158\", \n  \"url\": \"https://httpbin.org/post\"\n}\n\n{'args': {}, 'data': '', 'files': {}, 'form': {'passord': 'testing', 'username': 'john'}, 'headers': {'Accept': '*/*', 'Accept-Encoding': 'gzip, deflate', 'Content-Length': '29', 'Content-Type': 'application/x-www-form-urlencoded', 'Host': 'httpbin.org', 'User-Agent': 'python-requests/2.25.1', 'X-Amzn-Trace-Id': 'Root=1-604956bf-3c40f23068a2835b67cdbd2d'}, 'json': None, 'origin': '62.1.164.158', 'url': 'https://httpbin.org/post'}\n{'passord': 'testing', 'username': 'john'}\n"
     ]
    }
   ],
   "source": [
    "import requests\n",
    "\n",
    "payload = {'username':'john', 'password':'testing'}\n",
    "r = requests.post('https://httpbin.org/post', data=payload)\n",
    "\n",
    "print(r.url)\n",
    "print(r.text)\n",
    "print(r.json())\n",
    "\n",
    "r_dict = r.json()\n",
    "\n",
    "print(r_dict['form'])"
   ]
  },
  {
   "cell_type": "code",
   "execution_count": 19,
   "metadata": {},
   "outputs": [
    {
     "output_type": "stream",
     "name": "stdout",
     "text": [
      "{\n  \"authenticated\": true, \n  \"user\": \"john\"\n}\n\n<Response [200]>\n"
     ]
    }
   ],
   "source": [
    "# authentication (basic-auth)\n",
    "\n",
    "# https://hhtpbin.org/basic-auth/john/1234\n",
    "\n",
    "import requests\n",
    "\n",
    "r = requests.get('https://httpbin.org/basic-auth/john/1234', auth=('john', '1234'))\n",
    "\n",
    "print(r.text)\n",
    "print(r)\n"
   ]
  },
  {
   "cell_type": "code",
   "execution_count": 20,
   "metadata": {},
   "outputs": [
    {
     "output_type": "error",
     "ename": "ReadTimeout",
     "evalue": "HTTPSConnectionPool(host='httpbin.org', port=443): Read timed out. (read timeout=3)",
     "traceback": [
      "\u001b[1;31m---------------------------------------------------------------------------\u001b[0m",
      "\u001b[1;31mtimeout\u001b[0m                                   Traceback (most recent call last)",
      "\u001b[1;32m~\\.pyenv\\pyenv-win\\versions\\3.8.0-amd64\\lib\\site-packages\\urllib3\\connectionpool.py\u001b[0m in \u001b[0;36m_make_request\u001b[1;34m(self, conn, method, url, timeout, chunked, **httplib_request_kw)\u001b[0m\n\u001b[0;32m    444\u001b[0m                     \u001b[1;31m# Otherwise it looks like a bug in the code.\u001b[0m\u001b[1;33m\u001b[0m\u001b[1;33m\u001b[0m\u001b[1;33m\u001b[0m\u001b[0m\n\u001b[1;32m--> 445\u001b[1;33m                     \u001b[0msix\u001b[0m\u001b[1;33m.\u001b[0m\u001b[0mraise_from\u001b[0m\u001b[1;33m(\u001b[0m\u001b[0me\u001b[0m\u001b[1;33m,\u001b[0m \u001b[1;32mNone\u001b[0m\u001b[1;33m)\u001b[0m\u001b[1;33m\u001b[0m\u001b[1;33m\u001b[0m\u001b[0m\n\u001b[0m\u001b[0;32m    446\u001b[0m         \u001b[1;32mexcept\u001b[0m \u001b[1;33m(\u001b[0m\u001b[0mSocketTimeout\u001b[0m\u001b[1;33m,\u001b[0m \u001b[0mBaseSSLError\u001b[0m\u001b[1;33m,\u001b[0m \u001b[0mSocketError\u001b[0m\u001b[1;33m)\u001b[0m \u001b[1;32mas\u001b[0m \u001b[0me\u001b[0m\u001b[1;33m:\u001b[0m\u001b[1;33m\u001b[0m\u001b[1;33m\u001b[0m\u001b[0m\n",
      "\u001b[1;32m~\\.pyenv\\pyenv-win\\versions\\3.8.0-amd64\\lib\\site-packages\\urllib3\\packages\\six.py\u001b[0m in \u001b[0;36mraise_from\u001b[1;34m(value, from_value)\u001b[0m\n",
      "\u001b[1;32m~\\.pyenv\\pyenv-win\\versions\\3.8.0-amd64\\lib\\site-packages\\urllib3\\connectionpool.py\u001b[0m in \u001b[0;36m_make_request\u001b[1;34m(self, conn, method, url, timeout, chunked, **httplib_request_kw)\u001b[0m\n\u001b[0;32m    439\u001b[0m                 \u001b[1;32mtry\u001b[0m\u001b[1;33m:\u001b[0m\u001b[1;33m\u001b[0m\u001b[1;33m\u001b[0m\u001b[0m\n\u001b[1;32m--> 440\u001b[1;33m                     \u001b[0mhttplib_response\u001b[0m \u001b[1;33m=\u001b[0m \u001b[0mconn\u001b[0m\u001b[1;33m.\u001b[0m\u001b[0mgetresponse\u001b[0m\u001b[1;33m(\u001b[0m\u001b[1;33m)\u001b[0m\u001b[1;33m\u001b[0m\u001b[1;33m\u001b[0m\u001b[0m\n\u001b[0m\u001b[0;32m    441\u001b[0m                 \u001b[1;32mexcept\u001b[0m \u001b[0mBaseException\u001b[0m \u001b[1;32mas\u001b[0m \u001b[0me\u001b[0m\u001b[1;33m:\u001b[0m\u001b[1;33m\u001b[0m\u001b[1;33m\u001b[0m\u001b[0m\n",
      "\u001b[1;32m~\\.pyenv\\pyenv-win\\versions\\3.8.0-amd64\\lib\\http\\client.py\u001b[0m in \u001b[0;36mgetresponse\u001b[1;34m(self)\u001b[0m\n\u001b[0;32m   1321\u001b[0m             \u001b[1;32mtry\u001b[0m\u001b[1;33m:\u001b[0m\u001b[1;33m\u001b[0m\u001b[1;33m\u001b[0m\u001b[0m\n\u001b[1;32m-> 1322\u001b[1;33m                 \u001b[0mresponse\u001b[0m\u001b[1;33m.\u001b[0m\u001b[0mbegin\u001b[0m\u001b[1;33m(\u001b[0m\u001b[1;33m)\u001b[0m\u001b[1;33m\u001b[0m\u001b[1;33m\u001b[0m\u001b[0m\n\u001b[0m\u001b[0;32m   1323\u001b[0m             \u001b[1;32mexcept\u001b[0m \u001b[0mConnectionError\u001b[0m\u001b[1;33m:\u001b[0m\u001b[1;33m\u001b[0m\u001b[1;33m\u001b[0m\u001b[0m\n",
      "\u001b[1;32m~\\.pyenv\\pyenv-win\\versions\\3.8.0-amd64\\lib\\http\\client.py\u001b[0m in \u001b[0;36mbegin\u001b[1;34m(self)\u001b[0m\n\u001b[0;32m    302\u001b[0m         \u001b[1;32mwhile\u001b[0m \u001b[1;32mTrue\u001b[0m\u001b[1;33m:\u001b[0m\u001b[1;33m\u001b[0m\u001b[1;33m\u001b[0m\u001b[0m\n\u001b[1;32m--> 303\u001b[1;33m             \u001b[0mversion\u001b[0m\u001b[1;33m,\u001b[0m \u001b[0mstatus\u001b[0m\u001b[1;33m,\u001b[0m \u001b[0mreason\u001b[0m \u001b[1;33m=\u001b[0m \u001b[0mself\u001b[0m\u001b[1;33m.\u001b[0m\u001b[0m_read_status\u001b[0m\u001b[1;33m(\u001b[0m\u001b[1;33m)\u001b[0m\u001b[1;33m\u001b[0m\u001b[1;33m\u001b[0m\u001b[0m\n\u001b[0m\u001b[0;32m    304\u001b[0m             \u001b[1;32mif\u001b[0m \u001b[0mstatus\u001b[0m \u001b[1;33m!=\u001b[0m \u001b[0mCONTINUE\u001b[0m\u001b[1;33m:\u001b[0m\u001b[1;33m\u001b[0m\u001b[1;33m\u001b[0m\u001b[0m\n",
      "\u001b[1;32m~\\.pyenv\\pyenv-win\\versions\\3.8.0-amd64\\lib\\http\\client.py\u001b[0m in \u001b[0;36m_read_status\u001b[1;34m(self)\u001b[0m\n\u001b[0;32m    263\u001b[0m     \u001b[1;32mdef\u001b[0m \u001b[0m_read_status\u001b[0m\u001b[1;33m(\u001b[0m\u001b[0mself\u001b[0m\u001b[1;33m)\u001b[0m\u001b[1;33m:\u001b[0m\u001b[1;33m\u001b[0m\u001b[1;33m\u001b[0m\u001b[0m\n\u001b[1;32m--> 264\u001b[1;33m         \u001b[0mline\u001b[0m \u001b[1;33m=\u001b[0m \u001b[0mstr\u001b[0m\u001b[1;33m(\u001b[0m\u001b[0mself\u001b[0m\u001b[1;33m.\u001b[0m\u001b[0mfp\u001b[0m\u001b[1;33m.\u001b[0m\u001b[0mreadline\u001b[0m\u001b[1;33m(\u001b[0m\u001b[0m_MAXLINE\u001b[0m \u001b[1;33m+\u001b[0m \u001b[1;36m1\u001b[0m\u001b[1;33m)\u001b[0m\u001b[1;33m,\u001b[0m \u001b[1;34m\"iso-8859-1\"\u001b[0m\u001b[1;33m)\u001b[0m\u001b[1;33m\u001b[0m\u001b[1;33m\u001b[0m\u001b[0m\n\u001b[0m\u001b[0;32m    265\u001b[0m         \u001b[1;32mif\u001b[0m \u001b[0mlen\u001b[0m\u001b[1;33m(\u001b[0m\u001b[0mline\u001b[0m\u001b[1;33m)\u001b[0m \u001b[1;33m>\u001b[0m \u001b[0m_MAXLINE\u001b[0m\u001b[1;33m:\u001b[0m\u001b[1;33m\u001b[0m\u001b[1;33m\u001b[0m\u001b[0m\n",
      "\u001b[1;32m~\\.pyenv\\pyenv-win\\versions\\3.8.0-amd64\\lib\\socket.py\u001b[0m in \u001b[0;36mreadinto\u001b[1;34m(self, b)\u001b[0m\n\u001b[0;32m    668\u001b[0m             \u001b[1;32mtry\u001b[0m\u001b[1;33m:\u001b[0m\u001b[1;33m\u001b[0m\u001b[1;33m\u001b[0m\u001b[0m\n\u001b[1;32m--> 669\u001b[1;33m                 \u001b[1;32mreturn\u001b[0m \u001b[0mself\u001b[0m\u001b[1;33m.\u001b[0m\u001b[0m_sock\u001b[0m\u001b[1;33m.\u001b[0m\u001b[0mrecv_into\u001b[0m\u001b[1;33m(\u001b[0m\u001b[0mb\u001b[0m\u001b[1;33m)\u001b[0m\u001b[1;33m\u001b[0m\u001b[1;33m\u001b[0m\u001b[0m\n\u001b[0m\u001b[0;32m    670\u001b[0m             \u001b[1;32mexcept\u001b[0m \u001b[0mtimeout\u001b[0m\u001b[1;33m:\u001b[0m\u001b[1;33m\u001b[0m\u001b[1;33m\u001b[0m\u001b[0m\n",
      "\u001b[1;32m~\\.pyenv\\pyenv-win\\versions\\3.8.0-amd64\\lib\\ssl.py\u001b[0m in \u001b[0;36mrecv_into\u001b[1;34m(self, buffer, nbytes, flags)\u001b[0m\n\u001b[0;32m   1240\u001b[0m                   self.__class__)\n\u001b[1;32m-> 1241\u001b[1;33m             \u001b[1;32mreturn\u001b[0m \u001b[0mself\u001b[0m\u001b[1;33m.\u001b[0m\u001b[0mread\u001b[0m\u001b[1;33m(\u001b[0m\u001b[0mnbytes\u001b[0m\u001b[1;33m,\u001b[0m \u001b[0mbuffer\u001b[0m\u001b[1;33m)\u001b[0m\u001b[1;33m\u001b[0m\u001b[1;33m\u001b[0m\u001b[0m\n\u001b[0m\u001b[0;32m   1242\u001b[0m         \u001b[1;32melse\u001b[0m\u001b[1;33m:\u001b[0m\u001b[1;33m\u001b[0m\u001b[1;33m\u001b[0m\u001b[0m\n",
      "\u001b[1;32m~\\.pyenv\\pyenv-win\\versions\\3.8.0-amd64\\lib\\ssl.py\u001b[0m in \u001b[0;36mread\u001b[1;34m(self, len, buffer)\u001b[0m\n\u001b[0;32m   1098\u001b[0m             \u001b[1;32mif\u001b[0m \u001b[0mbuffer\u001b[0m \u001b[1;32mis\u001b[0m \u001b[1;32mnot\u001b[0m \u001b[1;32mNone\u001b[0m\u001b[1;33m:\u001b[0m\u001b[1;33m\u001b[0m\u001b[1;33m\u001b[0m\u001b[0m\n\u001b[1;32m-> 1099\u001b[1;33m                 \u001b[1;32mreturn\u001b[0m \u001b[0mself\u001b[0m\u001b[1;33m.\u001b[0m\u001b[0m_sslobj\u001b[0m\u001b[1;33m.\u001b[0m\u001b[0mread\u001b[0m\u001b[1;33m(\u001b[0m\u001b[0mlen\u001b[0m\u001b[1;33m,\u001b[0m \u001b[0mbuffer\u001b[0m\u001b[1;33m)\u001b[0m\u001b[1;33m\u001b[0m\u001b[1;33m\u001b[0m\u001b[0m\n\u001b[0m\u001b[0;32m   1100\u001b[0m             \u001b[1;32melse\u001b[0m\u001b[1;33m:\u001b[0m\u001b[1;33m\u001b[0m\u001b[1;33m\u001b[0m\u001b[0m\n",
      "\u001b[1;31mtimeout\u001b[0m: The read operation timed out",
      "\nDuring handling of the above exception, another exception occurred:\n",
      "\u001b[1;31mReadTimeoutError\u001b[0m                          Traceback (most recent call last)",
      "\u001b[1;32m~\\.pyenv\\pyenv-win\\versions\\3.8.0-amd64\\lib\\site-packages\\requests\\adapters.py\u001b[0m in \u001b[0;36msend\u001b[1;34m(self, request, stream, timeout, verify, cert, proxies)\u001b[0m\n\u001b[0;32m    438\u001b[0m             \u001b[1;32mif\u001b[0m \u001b[1;32mnot\u001b[0m \u001b[0mchunked\u001b[0m\u001b[1;33m:\u001b[0m\u001b[1;33m\u001b[0m\u001b[1;33m\u001b[0m\u001b[0m\n\u001b[1;32m--> 439\u001b[1;33m                 resp = conn.urlopen(\n\u001b[0m\u001b[0;32m    440\u001b[0m                     \u001b[0mmethod\u001b[0m\u001b[1;33m=\u001b[0m\u001b[0mrequest\u001b[0m\u001b[1;33m.\u001b[0m\u001b[0mmethod\u001b[0m\u001b[1;33m,\u001b[0m\u001b[1;33m\u001b[0m\u001b[1;33m\u001b[0m\u001b[0m\n",
      "\u001b[1;32m~\\.pyenv\\pyenv-win\\versions\\3.8.0-amd64\\lib\\site-packages\\urllib3\\connectionpool.py\u001b[0m in \u001b[0;36murlopen\u001b[1;34m(self, method, url, body, headers, retries, redirect, assert_same_host, timeout, pool_timeout, release_conn, chunked, body_pos, **response_kw)\u001b[0m\n\u001b[0;32m    754\u001b[0m \u001b[1;33m\u001b[0m\u001b[0m\n\u001b[1;32m--> 755\u001b[1;33m             retries = retries.increment(\n\u001b[0m\u001b[0;32m    756\u001b[0m                 \u001b[0mmethod\u001b[0m\u001b[1;33m,\u001b[0m \u001b[0murl\u001b[0m\u001b[1;33m,\u001b[0m \u001b[0merror\u001b[0m\u001b[1;33m=\u001b[0m\u001b[0me\u001b[0m\u001b[1;33m,\u001b[0m \u001b[0m_pool\u001b[0m\u001b[1;33m=\u001b[0m\u001b[0mself\u001b[0m\u001b[1;33m,\u001b[0m \u001b[0m_stacktrace\u001b[0m\u001b[1;33m=\u001b[0m\u001b[0msys\u001b[0m\u001b[1;33m.\u001b[0m\u001b[0mexc_info\u001b[0m\u001b[1;33m(\u001b[0m\u001b[1;33m)\u001b[0m\u001b[1;33m[\u001b[0m\u001b[1;36m2\u001b[0m\u001b[1;33m]\u001b[0m\u001b[1;33m\u001b[0m\u001b[1;33m\u001b[0m\u001b[0m\n",
      "\u001b[1;32m~\\.pyenv\\pyenv-win\\versions\\3.8.0-amd64\\lib\\site-packages\\urllib3\\util\\retry.py\u001b[0m in \u001b[0;36mincrement\u001b[1;34m(self, method, url, response, error, _pool, _stacktrace)\u001b[0m\n\u001b[0;32m    530\u001b[0m             \u001b[1;32mif\u001b[0m \u001b[0mread\u001b[0m \u001b[1;32mis\u001b[0m \u001b[1;32mFalse\u001b[0m \u001b[1;32mor\u001b[0m \u001b[1;32mnot\u001b[0m \u001b[0mself\u001b[0m\u001b[1;33m.\u001b[0m\u001b[0m_is_method_retryable\u001b[0m\u001b[1;33m(\u001b[0m\u001b[0mmethod\u001b[0m\u001b[1;33m)\u001b[0m\u001b[1;33m:\u001b[0m\u001b[1;33m\u001b[0m\u001b[1;33m\u001b[0m\u001b[0m\n\u001b[1;32m--> 531\u001b[1;33m                 \u001b[1;32mraise\u001b[0m \u001b[0msix\u001b[0m\u001b[1;33m.\u001b[0m\u001b[0mreraise\u001b[0m\u001b[1;33m(\u001b[0m\u001b[0mtype\u001b[0m\u001b[1;33m(\u001b[0m\u001b[0merror\u001b[0m\u001b[1;33m)\u001b[0m\u001b[1;33m,\u001b[0m \u001b[0merror\u001b[0m\u001b[1;33m,\u001b[0m \u001b[0m_stacktrace\u001b[0m\u001b[1;33m)\u001b[0m\u001b[1;33m\u001b[0m\u001b[1;33m\u001b[0m\u001b[0m\n\u001b[0m\u001b[0;32m    532\u001b[0m             \u001b[1;32melif\u001b[0m \u001b[0mread\u001b[0m \u001b[1;32mis\u001b[0m \u001b[1;32mnot\u001b[0m \u001b[1;32mNone\u001b[0m\u001b[1;33m:\u001b[0m\u001b[1;33m\u001b[0m\u001b[1;33m\u001b[0m\u001b[0m\n",
      "\u001b[1;32m~\\.pyenv\\pyenv-win\\versions\\3.8.0-amd64\\lib\\site-packages\\urllib3\\packages\\six.py\u001b[0m in \u001b[0;36mreraise\u001b[1;34m(tp, value, tb)\u001b[0m\n\u001b[0;32m    734\u001b[0m                 \u001b[1;32mraise\u001b[0m \u001b[0mvalue\u001b[0m\u001b[1;33m.\u001b[0m\u001b[0mwith_traceback\u001b[0m\u001b[1;33m(\u001b[0m\u001b[0mtb\u001b[0m\u001b[1;33m)\u001b[0m\u001b[1;33m\u001b[0m\u001b[1;33m\u001b[0m\u001b[0m\n\u001b[1;32m--> 735\u001b[1;33m             \u001b[1;32mraise\u001b[0m \u001b[0mvalue\u001b[0m\u001b[1;33m\u001b[0m\u001b[1;33m\u001b[0m\u001b[0m\n\u001b[0m\u001b[0;32m    736\u001b[0m         \u001b[1;32mfinally\u001b[0m\u001b[1;33m:\u001b[0m\u001b[1;33m\u001b[0m\u001b[1;33m\u001b[0m\u001b[0m\n",
      "\u001b[1;32m~\\.pyenv\\pyenv-win\\versions\\3.8.0-amd64\\lib\\site-packages\\urllib3\\connectionpool.py\u001b[0m in \u001b[0;36murlopen\u001b[1;34m(self, method, url, body, headers, retries, redirect, assert_same_host, timeout, pool_timeout, release_conn, chunked, body_pos, **response_kw)\u001b[0m\n\u001b[0;32m    698\u001b[0m             \u001b[1;31m# Make the request on the httplib connection object.\u001b[0m\u001b[1;33m\u001b[0m\u001b[1;33m\u001b[0m\u001b[1;33m\u001b[0m\u001b[0m\n\u001b[1;32m--> 699\u001b[1;33m             httplib_response = self._make_request(\n\u001b[0m\u001b[0;32m    700\u001b[0m                 \u001b[0mconn\u001b[0m\u001b[1;33m,\u001b[0m\u001b[1;33m\u001b[0m\u001b[1;33m\u001b[0m\u001b[0m\n",
      "\u001b[1;32m~\\.pyenv\\pyenv-win\\versions\\3.8.0-amd64\\lib\\site-packages\\urllib3\\connectionpool.py\u001b[0m in \u001b[0;36m_make_request\u001b[1;34m(self, conn, method, url, timeout, chunked, **httplib_request_kw)\u001b[0m\n\u001b[0;32m    446\u001b[0m         \u001b[1;32mexcept\u001b[0m \u001b[1;33m(\u001b[0m\u001b[0mSocketTimeout\u001b[0m\u001b[1;33m,\u001b[0m \u001b[0mBaseSSLError\u001b[0m\u001b[1;33m,\u001b[0m \u001b[0mSocketError\u001b[0m\u001b[1;33m)\u001b[0m \u001b[1;32mas\u001b[0m \u001b[0me\u001b[0m\u001b[1;33m:\u001b[0m\u001b[1;33m\u001b[0m\u001b[1;33m\u001b[0m\u001b[0m\n\u001b[1;32m--> 447\u001b[1;33m             \u001b[0mself\u001b[0m\u001b[1;33m.\u001b[0m\u001b[0m_raise_timeout\u001b[0m\u001b[1;33m(\u001b[0m\u001b[0merr\u001b[0m\u001b[1;33m=\u001b[0m\u001b[0me\u001b[0m\u001b[1;33m,\u001b[0m \u001b[0murl\u001b[0m\u001b[1;33m=\u001b[0m\u001b[0murl\u001b[0m\u001b[1;33m,\u001b[0m \u001b[0mtimeout_value\u001b[0m\u001b[1;33m=\u001b[0m\u001b[0mread_timeout\u001b[0m\u001b[1;33m)\u001b[0m\u001b[1;33m\u001b[0m\u001b[1;33m\u001b[0m\u001b[0m\n\u001b[0m\u001b[0;32m    448\u001b[0m             \u001b[1;32mraise\u001b[0m\u001b[1;33m\u001b[0m\u001b[1;33m\u001b[0m\u001b[0m\n",
      "\u001b[1;32m~\\.pyenv\\pyenv-win\\versions\\3.8.0-amd64\\lib\\site-packages\\urllib3\\connectionpool.py\u001b[0m in \u001b[0;36m_raise_timeout\u001b[1;34m(self, err, url, timeout_value)\u001b[0m\n\u001b[0;32m    335\u001b[0m         \u001b[1;32mif\u001b[0m \u001b[0misinstance\u001b[0m\u001b[1;33m(\u001b[0m\u001b[0merr\u001b[0m\u001b[1;33m,\u001b[0m \u001b[0mSocketTimeout\u001b[0m\u001b[1;33m)\u001b[0m\u001b[1;33m:\u001b[0m\u001b[1;33m\u001b[0m\u001b[1;33m\u001b[0m\u001b[0m\n\u001b[1;32m--> 336\u001b[1;33m             raise ReadTimeoutError(\n\u001b[0m\u001b[0;32m    337\u001b[0m                 \u001b[0mself\u001b[0m\u001b[1;33m,\u001b[0m \u001b[0murl\u001b[0m\u001b[1;33m,\u001b[0m \u001b[1;34m\"Read timed out. (read timeout=%s)\"\u001b[0m \u001b[1;33m%\u001b[0m \u001b[0mtimeout_value\u001b[0m\u001b[1;33m\u001b[0m\u001b[1;33m\u001b[0m\u001b[0m\n",
      "\u001b[1;31mReadTimeoutError\u001b[0m: HTTPSConnectionPool(host='httpbin.org', port=443): Read timed out. (read timeout=3)",
      "\nDuring handling of the above exception, another exception occurred:\n",
      "\u001b[1;31mReadTimeout\u001b[0m                               Traceback (most recent call last)",
      "\u001b[1;32m<ipython-input-20-0f4b8adb9fc1>\u001b[0m in \u001b[0;36m<module>\u001b[1;34m\u001b[0m\n\u001b[0;32m      3\u001b[0m \u001b[1;32mimport\u001b[0m \u001b[0mrequests\u001b[0m\u001b[1;33m\u001b[0m\u001b[1;33m\u001b[0m\u001b[0m\n\u001b[0;32m      4\u001b[0m \u001b[1;33m\u001b[0m\u001b[0m\n\u001b[1;32m----> 5\u001b[1;33m \u001b[0mr\u001b[0m \u001b[1;33m=\u001b[0m \u001b[0mrequests\u001b[0m\u001b[1;33m.\u001b[0m\u001b[0mget\u001b[0m\u001b[1;33m(\u001b[0m\u001b[1;34m'https://httpbin.org/delay/5'\u001b[0m\u001b[1;33m,\u001b[0m \u001b[0mtimeout\u001b[0m\u001b[1;33m=\u001b[0m\u001b[1;36m3\u001b[0m\u001b[1;33m)\u001b[0m\u001b[1;33m\u001b[0m\u001b[1;33m\u001b[0m\u001b[0m\n\u001b[0m\u001b[0;32m      6\u001b[0m \u001b[1;33m\u001b[0m\u001b[0m\n\u001b[0;32m      7\u001b[0m \u001b[0mprint\u001b[0m\u001b[1;33m(\u001b[0m\u001b[0mr\u001b[0m\u001b[1;33m.\u001b[0m\u001b[0mtext\u001b[0m\u001b[1;33m)\u001b[0m\u001b[1;33m\u001b[0m\u001b[1;33m\u001b[0m\u001b[0m\n",
      "\u001b[1;32m~\\.pyenv\\pyenv-win\\versions\\3.8.0-amd64\\lib\\site-packages\\requests\\api.py\u001b[0m in \u001b[0;36mget\u001b[1;34m(url, params, **kwargs)\u001b[0m\n\u001b[0;32m     74\u001b[0m \u001b[1;33m\u001b[0m\u001b[0m\n\u001b[0;32m     75\u001b[0m     \u001b[0mkwargs\u001b[0m\u001b[1;33m.\u001b[0m\u001b[0msetdefault\u001b[0m\u001b[1;33m(\u001b[0m\u001b[1;34m'allow_redirects'\u001b[0m\u001b[1;33m,\u001b[0m \u001b[1;32mTrue\u001b[0m\u001b[1;33m)\u001b[0m\u001b[1;33m\u001b[0m\u001b[1;33m\u001b[0m\u001b[0m\n\u001b[1;32m---> 76\u001b[1;33m     \u001b[1;32mreturn\u001b[0m \u001b[0mrequest\u001b[0m\u001b[1;33m(\u001b[0m\u001b[1;34m'get'\u001b[0m\u001b[1;33m,\u001b[0m \u001b[0murl\u001b[0m\u001b[1;33m,\u001b[0m \u001b[0mparams\u001b[0m\u001b[1;33m=\u001b[0m\u001b[0mparams\u001b[0m\u001b[1;33m,\u001b[0m \u001b[1;33m**\u001b[0m\u001b[0mkwargs\u001b[0m\u001b[1;33m)\u001b[0m\u001b[1;33m\u001b[0m\u001b[1;33m\u001b[0m\u001b[0m\n\u001b[0m\u001b[0;32m     77\u001b[0m \u001b[1;33m\u001b[0m\u001b[0m\n\u001b[0;32m     78\u001b[0m \u001b[1;33m\u001b[0m\u001b[0m\n",
      "\u001b[1;32m~\\.pyenv\\pyenv-win\\versions\\3.8.0-amd64\\lib\\site-packages\\requests\\api.py\u001b[0m in \u001b[0;36mrequest\u001b[1;34m(method, url, **kwargs)\u001b[0m\n\u001b[0;32m     59\u001b[0m     \u001b[1;31m# cases, and look like a memory leak in others.\u001b[0m\u001b[1;33m\u001b[0m\u001b[1;33m\u001b[0m\u001b[1;33m\u001b[0m\u001b[0m\n\u001b[0;32m     60\u001b[0m     \u001b[1;32mwith\u001b[0m \u001b[0msessions\u001b[0m\u001b[1;33m.\u001b[0m\u001b[0mSession\u001b[0m\u001b[1;33m(\u001b[0m\u001b[1;33m)\u001b[0m \u001b[1;32mas\u001b[0m \u001b[0msession\u001b[0m\u001b[1;33m:\u001b[0m\u001b[1;33m\u001b[0m\u001b[1;33m\u001b[0m\u001b[0m\n\u001b[1;32m---> 61\u001b[1;33m         \u001b[1;32mreturn\u001b[0m \u001b[0msession\u001b[0m\u001b[1;33m.\u001b[0m\u001b[0mrequest\u001b[0m\u001b[1;33m(\u001b[0m\u001b[0mmethod\u001b[0m\u001b[1;33m=\u001b[0m\u001b[0mmethod\u001b[0m\u001b[1;33m,\u001b[0m \u001b[0murl\u001b[0m\u001b[1;33m=\u001b[0m\u001b[0murl\u001b[0m\u001b[1;33m,\u001b[0m \u001b[1;33m**\u001b[0m\u001b[0mkwargs\u001b[0m\u001b[1;33m)\u001b[0m\u001b[1;33m\u001b[0m\u001b[1;33m\u001b[0m\u001b[0m\n\u001b[0m\u001b[0;32m     62\u001b[0m \u001b[1;33m\u001b[0m\u001b[0m\n\u001b[0;32m     63\u001b[0m \u001b[1;33m\u001b[0m\u001b[0m\n",
      "\u001b[1;32m~\\.pyenv\\pyenv-win\\versions\\3.8.0-amd64\\lib\\site-packages\\requests\\sessions.py\u001b[0m in \u001b[0;36mrequest\u001b[1;34m(self, method, url, params, data, headers, cookies, files, auth, timeout, allow_redirects, proxies, hooks, stream, verify, cert, json)\u001b[0m\n\u001b[0;32m    540\u001b[0m         }\n\u001b[0;32m    541\u001b[0m         \u001b[0msend_kwargs\u001b[0m\u001b[1;33m.\u001b[0m\u001b[0mupdate\u001b[0m\u001b[1;33m(\u001b[0m\u001b[0msettings\u001b[0m\u001b[1;33m)\u001b[0m\u001b[1;33m\u001b[0m\u001b[1;33m\u001b[0m\u001b[0m\n\u001b[1;32m--> 542\u001b[1;33m         \u001b[0mresp\u001b[0m \u001b[1;33m=\u001b[0m \u001b[0mself\u001b[0m\u001b[1;33m.\u001b[0m\u001b[0msend\u001b[0m\u001b[1;33m(\u001b[0m\u001b[0mprep\u001b[0m\u001b[1;33m,\u001b[0m \u001b[1;33m**\u001b[0m\u001b[0msend_kwargs\u001b[0m\u001b[1;33m)\u001b[0m\u001b[1;33m\u001b[0m\u001b[1;33m\u001b[0m\u001b[0m\n\u001b[0m\u001b[0;32m    543\u001b[0m \u001b[1;33m\u001b[0m\u001b[0m\n\u001b[0;32m    544\u001b[0m         \u001b[1;32mreturn\u001b[0m \u001b[0mresp\u001b[0m\u001b[1;33m\u001b[0m\u001b[1;33m\u001b[0m\u001b[0m\n",
      "\u001b[1;32m~\\.pyenv\\pyenv-win\\versions\\3.8.0-amd64\\lib\\site-packages\\requests\\sessions.py\u001b[0m in \u001b[0;36msend\u001b[1;34m(self, request, **kwargs)\u001b[0m\n\u001b[0;32m    653\u001b[0m \u001b[1;33m\u001b[0m\u001b[0m\n\u001b[0;32m    654\u001b[0m         \u001b[1;31m# Send the request\u001b[0m\u001b[1;33m\u001b[0m\u001b[1;33m\u001b[0m\u001b[1;33m\u001b[0m\u001b[0m\n\u001b[1;32m--> 655\u001b[1;33m         \u001b[0mr\u001b[0m \u001b[1;33m=\u001b[0m \u001b[0madapter\u001b[0m\u001b[1;33m.\u001b[0m\u001b[0msend\u001b[0m\u001b[1;33m(\u001b[0m\u001b[0mrequest\u001b[0m\u001b[1;33m,\u001b[0m \u001b[1;33m**\u001b[0m\u001b[0mkwargs\u001b[0m\u001b[1;33m)\u001b[0m\u001b[1;33m\u001b[0m\u001b[1;33m\u001b[0m\u001b[0m\n\u001b[0m\u001b[0;32m    656\u001b[0m \u001b[1;33m\u001b[0m\u001b[0m\n\u001b[0;32m    657\u001b[0m         \u001b[1;31m# Total elapsed time of the request (approximately)\u001b[0m\u001b[1;33m\u001b[0m\u001b[1;33m\u001b[0m\u001b[1;33m\u001b[0m\u001b[0m\n",
      "\u001b[1;32m~\\.pyenv\\pyenv-win\\versions\\3.8.0-amd64\\lib\\site-packages\\requests\\adapters.py\u001b[0m in \u001b[0;36msend\u001b[1;34m(self, request, stream, timeout, verify, cert, proxies)\u001b[0m\n\u001b[0;32m    527\u001b[0m                 \u001b[1;32mraise\u001b[0m \u001b[0mSSLError\u001b[0m\u001b[1;33m(\u001b[0m\u001b[0me\u001b[0m\u001b[1;33m,\u001b[0m \u001b[0mrequest\u001b[0m\u001b[1;33m=\u001b[0m\u001b[0mrequest\u001b[0m\u001b[1;33m)\u001b[0m\u001b[1;33m\u001b[0m\u001b[1;33m\u001b[0m\u001b[0m\n\u001b[0;32m    528\u001b[0m             \u001b[1;32melif\u001b[0m \u001b[0misinstance\u001b[0m\u001b[1;33m(\u001b[0m\u001b[0me\u001b[0m\u001b[1;33m,\u001b[0m \u001b[0mReadTimeoutError\u001b[0m\u001b[1;33m)\u001b[0m\u001b[1;33m:\u001b[0m\u001b[1;33m\u001b[0m\u001b[1;33m\u001b[0m\u001b[0m\n\u001b[1;32m--> 529\u001b[1;33m                 \u001b[1;32mraise\u001b[0m \u001b[0mReadTimeout\u001b[0m\u001b[1;33m(\u001b[0m\u001b[0me\u001b[0m\u001b[1;33m,\u001b[0m \u001b[0mrequest\u001b[0m\u001b[1;33m=\u001b[0m\u001b[0mrequest\u001b[0m\u001b[1;33m)\u001b[0m\u001b[1;33m\u001b[0m\u001b[1;33m\u001b[0m\u001b[0m\n\u001b[0m\u001b[0;32m    530\u001b[0m             \u001b[1;32melse\u001b[0m\u001b[1;33m:\u001b[0m\u001b[1;33m\u001b[0m\u001b[1;33m\u001b[0m\u001b[0m\n\u001b[0;32m    531\u001b[0m                 \u001b[1;32mraise\u001b[0m\u001b[1;33m\u001b[0m\u001b[1;33m\u001b[0m\u001b[0m\n",
      "\u001b[1;31mReadTimeout\u001b[0m: HTTPSConnectionPool(host='httpbin.org', port=443): Read timed out. (read timeout=3)"
     ]
    }
   ],
   "source": [
    "# timeout \n",
    "\n",
    "import requests\n",
    "\n",
    "r = requests.get('https://httpbin.org/delay/5', timeout=3)\n",
    "\n",
    "print(r.text)\n",
    "print(r)\n"
   ]
  },
  {
   "cell_type": "code",
   "execution_count": null,
   "metadata": {},
   "outputs": [],
   "source": []
  }
 ]
}