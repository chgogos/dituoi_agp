{
 "metadata": {
  "language_info": {
   "codemirror_mode": {
    "name": "ipython",
    "version": 3
   },
   "file_extension": ".py",
   "mimetype": "text/x-python",
   "name": "python",
   "nbconvert_exporter": "python",
   "pygments_lexer": "ipython3",
   "version": "3.8.0-final"
  },
  "orig_nbformat": 2,
  "kernelspec": {
   "name": "python3",
   "display_name": "Python 3.8.0 64-bit",
   "metadata": {
    "interpreter": {
     "hash": "2334294e789e06453e89f7d5c3c2573679701f9bb5b76ad2158f91cca5c9244c"
    }
   }
  }
 },
 "nbformat": 4,
 "nbformat_minor": 2,
 "cells": [
  {
   "source": [
    "    Τμήμα Πληροφορικής και Τηλεπικοινωνιών - Άρτα \n",
    "    Πανεπιστήμιο Ιωαννίνων \n",
    "\n",
    "    Γκόγκος Χρήστος \n",
    "    http://chgogos.github.io/\n",
    "    Εαρινό εξάμηνο 2020-2021"
   ],
   "cell_type": "markdown",
   "metadata": {}
  },
  {
   "source": [
    "# Εργαστήριο 1"
   ],
   "cell_type": "markdown",
   "metadata": {}
  },
  {
   "source": [
    "## Άσκηση 1\n",
    "Ποια είναι τα 5 πρώτα ψηφία του αποτελέσματος που προκύπτει από την ακόλουθη πράξη;\n",
    "\n",
    "<img src=\"https://render.githubusercontent.com/render/math?math=\\sqrt{\\frac{2^{101}}{\\pi^{53} %2B 11^{17}}}\" width=\"100\">"
   ],
   "cell_type": "markdown",
   "metadata": {}
  },
  {
   "cell_type": "code",
   "execution_count": 34,
   "metadata": {},
   "outputs": [
    {
     "output_type": "stream",
     "name": "stdout",
     "text": [
      "106.54747304668045\n"
     ]
    }
   ],
   "source": [
    "import math\n",
    "x = math.sqrt(2**101/(math.pi**53 + 11**17))\n",
    "print(x)\n",
    "\n",
    "# τα 5 πρώτα ψηφία του αποτελέσματος είναι 1,0,6,5 και 4"
   ]
  },
  {
   "source": [
    "## Άσκηση 2\n",
    "Γράψτε τις εντολές με τις οποίες μπορούμε να παράξουμε από το κείμενο \"Τμήμα Πληροφορικής και Τηλεπικοινωνιών\" το κείμενο.\n",
    "\n",
    "ΠΛΗΡΟΦΟΡΙΚΉΣ & ΤΗΛΕΠΙΚΟΙΝΩΝΙΏΝ - ΠΛΗΡΟΦΟΡΙΚΉΣ & ΤΗΛΕΠΙΚΟΙΝΩΝΙΏΝ - ΠΛΗΡΟΦΟΡΙΚΉΣ & ΤΗΛΕΠΙΚΟΙΝΩΝΙΏΝ - ΠΛΗΡΟΦΟΡΙΚΉΣ & ΤΗΛΕΠΙΚΟΙΝΩΝΙΏΝ - ΠΛΗΡΟΦΟΡΙΚΉΣ & ΤΗΛΕΠΙΚΟΙΝΩΝΙΏΝ"
   ],
   "cell_type": "markdown",
   "metadata": {}
  },
  {
   "cell_type": "code",
   "execution_count": 35,
   "metadata": {},
   "outputs": [
    {
     "output_type": "execute_result",
     "data": {
      "text/plain": [
       "'ΠΛΗΡΟΦΟΡΙΚΉΣ & ΤΗΛΕΠΙΚΟΙΝΩΝΙΏΝ - ΠΛΗΡΟΦΟΡΙΚΉΣ & ΤΗΛΕΠΙΚΟΙΝΩΝΙΏΝ - ΠΛΗΡΟΦΟΡΙΚΉΣ & ΤΗΛΕΠΙΚΟΙΝΩΝΙΏΝ - ΠΛΗΡΟΦΟΡΙΚΉΣ & ΤΗΛΕΠΙΚΟΙΝΩΝΙΏΝ - ΠΛΗΡΟΦΟΡΙΚΉΣ & ΤΗΛΕΠΙΚΟΙΝΩΝΙΏΝ'"
      ]
     },
     "metadata": {},
     "execution_count": 35
    }
   ],
   "source": [
    "s = \"Τμήμα Πληροφορικής και Τηλεπικοινωνιών\"\n",
    "((s[6:19]+'&'+s[-16:]+\" - \").upper()*5)[:-3] # 44 χαρακτήρες"
   ]
  },
  {
   "source": [
    "## Άσκηση 3\n",
    "\n",
    "1. Δώστε ένα παράδειγμα πλειάδας με 3 ακέραιες τιμές.\n",
    "2. Δώστε ένα παράδειγμα λίστας με 1 ακέραιο, 1 πραγματικό και 1 λεκτικό. Προσθέστε στη λίστα ως στοιχείο την πλειάδα\n",
    "3. Δώστε ένα παράδειγμα λεξικού με κλειδιά λεκτικά και τιμές ζεύγη πραγματικών τιμών. Εντοπίστε τις [γεωγραφικές συντεταγμένες](https://www.maps.ie/coordinates.html) (πλάτος και μήκος) της Άρτας, των Ιωαννίνων, της Πρέβεζας και της Ηγουμενίτσας και εισάγετε στο λεξικό εγγραφές με κλειδί το όνομα της πόλης και τιμές τις αντίστοιχες πλειάδες."
   ],
   "cell_type": "markdown",
   "metadata": {}
  },
  {
   "cell_type": "code",
   "execution_count": 36,
   "metadata": {},
   "outputs": [
    {
     "output_type": "stream",
     "name": "stdout",
     "text": [
      "(5, 10, 17)\n[1, 3.5, 'arta', (5, 10, 17)]\n{'arta': (39.161555, 20.9858503), 'ioannina': (39.6097822, 20.9264579), 'preveza': (38.959267, 20.751715), 'igoumenitsa': (39.5045294, 20.2650921)}\n"
     ]
    }
   ],
   "source": [
    "t = (5,10,17)\n",
    "print(t)\n",
    "l = [1, 3.5, 'arta']\n",
    "l.append(t)\n",
    "print(l)\n",
    "d = {}\n",
    "d[\"arta\"] = (39.161555, 20.9858503)\n",
    "d[\"ioannina\"] = (39.6097822, 20.9264579)\n",
    "d[\"preveza\"] = (38.959267, 20.751715)\n",
    "d[\"igoumenitsa\"] = (39.5045294, 20.2650921)\n",
    "print(d)"
   ]
  },
  {
   "source": [
    "# Εργαστήριο 2"
   ],
   "cell_type": "markdown",
   "metadata": {}
  },
  {
   "source": [
    "## Άσκηση 1\n",
    "\n",
    "Γράψτε ένα πρόγραμμα που να δέχεται ένα κείμενο και να επιστρέφει τη λέξη του κειμένου με το μεγαλύτερο μήκος. Αν υπάρχουν περισσότερες από μια λέξεις με το ίδιο μεγαλύτερο μήκος εμφανίστε μια οποιαδήποτε από αυτές. Προσπαθήστε να δώσετε τη συντομότερη λύση. "
   ],
   "cell_type": "markdown",
   "metadata": {}
  },
  {
   "cell_type": "code",
   "execution_count": 37,
   "metadata": {},
   "outputs": [],
   "source": [
    "txt = \"\"\"\n",
    "Το Lorem Ipsum είναι απλά ένα κείμενο χωρίς νόημα για τους επαγγελματίες της τυπογραφίας και στοιχειοθεσίας Το Lorem Ipsum είναι το επαγγελματικό πρότυπο όσον αφορά το κείμενο χωρίς νόημα, από τον 15ο αιώνα, όταν ένας ανώνυμος τυπογράφος πήρε ένα δοκίμιο και ανακάτεψε τις λέξεις για να δημιουργήσει ένα δείγμα βιβλίου Όχι μόνο επιβίωσε πέντε αιώνες αλλά κυριάρχησε στην ηλεκτρονική στοιχειοθεσία παραμένοντας με κάθε τρόπο αναλλοίωτο Έγινε δημοφιλές τη δεκαετία του '60 με την έκδοση των δειγμάτων της Letraset όπου περιελάμβαναν αποσπάσματα του Lorem Ipsum και πιο πρόσφατα με το λογισμικό ηλεκτρονικής σελιδοποίησης όπως το Aldus PageMaker που περιείχαν εκδοχές του Lorem Ipsum\n",
    "\"\"\"\n",
    "words = txt.split(' ')"
   ]
  },
  {
   "cell_type": "code",
   "execution_count": 38,
   "metadata": {},
   "outputs": [
    {
     "output_type": "stream",
     "name": "stdout",
     "text": [
      "στοιχειοθεσίας\n"
     ]
    }
   ],
   "source": [
    "# Α' λύση\n",
    "longest = ''\n",
    "for w in words: \n",
    "    if len(w)>len(longest):\n",
    "        longest = w\n",
    "print(longest)"
   ]
  },
  {
   "cell_type": "code",
   "execution_count": 39,
   "metadata": {},
   "outputs": [
    {
     "output_type": "stream",
     "name": "stdout",
     "text": [
      "στοιχειοθεσίας\n"
     ]
    }
   ],
   "source": [
    "# Α' λύση (συντομότερη)\n",
    "longest = max(words, key=len)\n",
    "print(longest)"
   ]
  },
  {
   "cell_type": "code",
   "execution_count": 40,
   "metadata": {},
   "outputs": [
    {
     "output_type": "stream",
     "name": "stdout",
     "text": [
      "14 ['στοιχειοθεσίας']\n13 ['επαγγελματίες', 'επαγγελματικό', 'στοιχειοθεσία', 'περιελάμβαναν', 'σελιδοποίησης']\n12 ['δημιουργήσει', 'παραμένοντας', 'ηλεκτρονικής']\n11 ['τυπογραφίας', 'ηλεκτρονική', 'αποσπάσματα']\n10 ['τυπογράφος', 'κυριάρχησε', 'αναλλοίωτο']\n9 ['ανακάτεψε', 'δημοφιλές', 'δειγμάτων', 'λογισμικό', 'PageMaker', 'περιείχαν']\n8 ['ανώνυμος', 'επιβίωσε', 'δεκαετία', 'Letraset', 'πρόσφατα']\n7 ['κείμενο', 'πρότυπο', 'κείμενο', 'δοκίμιο', 'βιβλίου', 'εκδοχές']\n6 ['νόημα,', 'αιώνα,', 'λέξεις', 'δείγμα', 'αιώνες', 'έκδοση', 'Ipsum\\n']\n5 ['Lorem', 'Ipsum', 'είναι', 'χωρίς', 'νόημα', 'Lorem', 'Ipsum', 'είναι', 'αφορά', 'χωρίς', 'πέντε', 'τρόπο', 'Έγινε', 'Lorem', 'Ipsum', 'Aldus', 'Lorem']\n4 ['απλά', 'τους', 'όσον', 'όταν', 'ένας', 'πήρε', 'μόνο', 'αλλά', 'στην', 'κάθε', 'όπου', 'όπως']\n3 ['\\nΤο', 'ένα', 'για', 'της', 'και', 'από', 'τον', '15ο', 'ένα', 'και', 'τις', 'για', 'ένα', 'Όχι', 'του', \"'60\", 'την', 'των', 'της', 'του', 'και', 'πιο', 'που', 'του']\n2 ['Το', 'το', 'το', 'να', 'με', 'τη', 'με', 'με', 'το', 'το']\n1 []\n"
     ]
    }
   ],
   "source": [
    "# Εμφάνιση όλων των λέξεων με βάση το μέγεθός τους ξεκινώντας από τις μεγαλύτερες σε μήκος και συνεχίζοντας προς τις μικρότερες σε μήκος\n",
    "\n",
    "for length in range(len(longest), 0, -1):\n",
    "    a_list = [x for x in words if len(x)==length]\n",
    "    print(length, a_list)"
   ]
  },
  {
   "source": [
    "## Άσκηση 2\n",
    "\n",
    "Για την ακόλουθη λίστα τιμών 56, 37, 77, 90, 16, 11 γράψτε comprehensions που να κάνουν τα ακόλουθα:\n",
    "\n",
    "1. Να δημιουργεί νέα λίστα μόνο με τις τιμές που είναι μεγαλύτερες από το μέσο όρο των τιμών\n",
    "2. Να δημιουργεί νέα λίστα με ζεύγη τιμών που το πρώτο στοιχείο κάθε ζεύγους να είναι η ίδια τιμή και δεύτερο στοιχείο μια λογική τιμή με τιμή True αν η τιμή είναι άρτια αλλιώς η τιμή False\n",
    "2. Να δημιουργεί νέα λίστα με τα ψηφία κάθε τιμής σε αντίστροφη σειρά"
   ],
   "cell_type": "markdown",
   "metadata": {}
  },
  {
   "cell_type": "code",
   "execution_count": 41,
   "metadata": {},
   "outputs": [
    {
     "output_type": "stream",
     "name": "stdout",
     "text": [
      "[56, 77, 90]\n"
     ]
    }
   ],
   "source": [
    "a = [56, 37, 77, 90, 16, 11]\n",
    "\n",
    "b = [x for x in a if x > sum(a)/len(a)]\n",
    "print(b)"
   ]
  },
  {
   "cell_type": "code",
   "execution_count": 42,
   "metadata": {},
   "outputs": [
    {
     "output_type": "execute_result",
     "data": {
      "text/plain": [
       "[(56, True), (37, False), (77, False), (90, True), (16, True), (11, False)]"
      ]
     },
     "metadata": {},
     "execution_count": 42
    }
   ],
   "source": [
    "c = [(x, x%2==0) for x in a]\n",
    "c"
   ]
  },
  {
   "cell_type": "code",
   "execution_count": 43,
   "metadata": {},
   "outputs": [
    {
     "output_type": "execute_result",
     "data": {
      "text/plain": [
       "[65, 73, 77, 9, 61, 11]"
      ]
     },
     "metadata": {},
     "execution_count": 43
    }
   ],
   "source": [
    "d = [int(str(x)[::-1]) for x in a]\n",
    "d"
   ]
  },
  {
   "source": [
    "## Άσκηση 3\n",
    "Κατεβάστε σε txt μορφή το βιβλίο Μεταμόρφωση του Φ. Κάφκα από το <https://www.gutenberg.org/ebooks/5200>. Υπολογίστε το ποσοστό εμφάνισης του κάθε χαρακτήρα από Α μέχρι και Ζ μέσα στο κείμενο. Ποιοι είναι οι 3 χαρακτήρες που εμφανίζονται συχνότερα;\n",
    "\n",
    "Δείτε και το <https://stackoverflow.com/questions/3169051/build-an-ascii-chart-of-the-most-commonly-used-words-in-a-given-text#3170549>"
   ],
   "cell_type": "markdown",
   "metadata": {}
  },
  {
   "cell_type": "code",
   "execution_count": 44,
   "metadata": {},
   "outputs": [
    {
     "output_type": "execute_result",
     "data": {
      "text/plain": [
       "'B'"
      ]
     },
     "metadata": {},
     "execution_count": 44
    }
   ],
   "source": [
    "chr(66)"
   ]
  },
  {
   "cell_type": "code",
   "execution_count": 45,
   "metadata": {},
   "outputs": [
    {
     "output_type": "stream",
     "name": "stdout",
     "text": [
      "A 7.55%\n",
      "B 1.48%\n",
      "C 2.06%\n",
      "D 4.48%\n",
      "E 12.74%\n",
      "F 2.25%\n",
      "G 2.53%\n",
      "H 7.60%\n",
      "I 6.42%\n",
      "J 0.10%\n",
      "K 0.82%\n",
      "L 4.21%\n",
      "M 2.45%\n",
      "N 6.33%\n",
      "O 8.00%\n",
      "P 1.35%\n",
      "Q 0.10%\n",
      "R 5.85%\n",
      "S 6.08%\n",
      "T 9.66%\n",
      "U 2.64%\n",
      "V 0.88%\n",
      "W 2.54%\n",
      "X 0.11%\n",
      "Y 1.75%\n",
      "Z 0.02%\n"
     ]
    }
   ],
   "source": [
    "letters = {}\n",
    "for c in range(ord('A'), ord('Z')+1):\n",
    "    letters[chr(c)]=0\n",
    "\n",
    "with open(\"../../../datasets/metamorphosis.txt\", \"r\") as f:\n",
    "    for line in f:\n",
    "        for c in line.upper():\n",
    "            if c in letters:\n",
    "                letters[c] += 1\n",
    "\n",
    "total = sum(letters.values())\n",
    "for k in letters:\n",
    "    print(f'{k} {letters[k]/total* 100:.2f}%')"
   ]
  },
  {
   "source": [
    "# Εργαστήριο 3"
   ],
   "cell_type": "markdown",
   "metadata": {}
  },
  {
   "source": [
    "## Άσκηση 1"
   ],
   "cell_type": "markdown",
   "metadata": {}
  },
  {
   "source": [
    "Γράψτε μια συνάρτηση που να δέχεται δύο λεκτικά ίσου μήκους και να επιστρέφει την απόσταση Hamming (δηλαδή το πλήθος των αντίστοιχων χαρακτήρων που διαφέρουν στα δύο λεκτικά)\n",
    "\n",
    "<http://rosalind.info/problems/hamm/>"
   ],
   "cell_type": "markdown",
   "metadata": {}
  },
  {
   "cell_type": "code",
   "execution_count": 46,
   "metadata": {},
   "outputs": [
    {
     "output_type": "stream",
     "name": "stdout",
     "text": [
      "7\n"
     ]
    }
   ],
   "source": [
    "def hamming_distance(s, t):\n",
    "    assert len(s) == len(t), \"Λεκτικά διαφορετικού μήκους\"\n",
    "    c = 0\n",
    "    for i in range(len(s)):\n",
    "        if s[i] != t[i]:\n",
    "            c += 1\n",
    "    return c\n",
    "\n",
    "s = \"GAGCCTACTAACGGGAT\"\n",
    "t = \"CATCGTAATGACGGCCT\"\n",
    "\n",
    "hd = hamming_distance(s,t)\n",
    "print(hd)"
   ]
  },
  {
   "source": [
    "## Άσκηση 2\n",
    "\n",
    "Δίνεται ο ακόλουθος κώδικας που ορίζει την κλάση Juice και υπερφορτώνει τον τελεστή +. \n",
    "* Προσθέστε το επιπλέον πεδίο τιμή (price).\n",
    "* Όταν εφαρμόζεται ο τελεστής πρόσθεσης ο νέος χυμός να έχει τιμή αναλογικά ίση με βάση την τιμή του κάθε χυμού.\n",
    "* Προσθέστε τη μέθοδο pour() που να δέχεται ως παράμετρο μια τιμή από το 0% μέχρι το 100% και να επιστρέφει ένα νέο αντικείμενο Juice με το  χυμό που προκύπτει αν ληφθεί το αντίστοιχο ποσοστό περιεχομένου από το καλών αντικείμενο.\n",
    "\n",
    "Προσαρμογή από το <https://www.sololearn.com/learning/1073>\n",
    "\n",
    "    class Juice:\n",
    "        def __init__(self, name, capacity):\n",
    "            self.name = name\n",
    "            self.capacity = capacity\n",
    "\n",
    "        def __str__(self):\n",
    "            return (self.name + ' ('+str(self.capacity)+'L)')\n",
    "\n",
    "        def __add__(self, other):\n",
    "            return Juice(self.name + '&' + other.name, self.capacity + other.capacity)\n",
    "\n",
    "    a = Juice('Orange', 1.5)\n",
    "    b = Juice('Apple', 2.0)\n",
    "\n",
    "    result = a + b\n",
    "    print(result)"
   ],
   "cell_type": "markdown",
   "metadata": {}
  },
  {
   "cell_type": "code",
   "execution_count": 47,
   "metadata": {},
   "outputs": [
    {
     "output_type": "stream",
     "name": "stdout",
     "text": [
      "Orange (1.50L) 3.50 €\nApple (2.00L) 3.00 €\nOrange&Apple (3.50L) 3.21 €\nPouring 40.0% from Orange&Apple (3.50L) 3.21 €\nOrange&Apple (2.10L) 1.93 €\nOrange&Apple (1.40L) 1.29 €\n"
     ]
    }
   ],
   "source": [
    "class Juice:\n",
    "    def __init__(self, name, capacity, price):\n",
    "        self.name = name\n",
    "        self.capacity = capacity\n",
    "        self.price = price\n",
    "\n",
    "    def __str__(self):\n",
    "        return (f'{self.name} ({self.capacity:.2f}L) {self.price:.2f} €')\n",
    "\n",
    "    def __add__(self, other):\n",
    "        new_price = (self.price * self.capacity + other.price * other.capacity) / (self.capacity+other.capacity)\n",
    "        return Juice(self.name + '&' + other.name, self.capacity + other.capacity, new_price)\n",
    "\n",
    "    def pour(self, percentage):\n",
    "        assert 0.0 < percentage <= 1.0\n",
    "        print(f'Pouring {percentage*100}% from {str(self)}')\n",
    "        new_capacity = self.capacity * percentage\n",
    "        new_price = self.price * percentage\n",
    "        self.capacity = self.capacity - new_capacity\n",
    "        self.price = self.price - new_price\n",
    "        return Juice(self.name, new_capacity, new_price)\n",
    "\n",
    "a = Juice('Orange', 1.5, 3.5)\n",
    "b = Juice('Apple', 2.0, 3.0)\n",
    "print(a)\n",
    "print(b)\n",
    "\n",
    "result = a + b\n",
    "print(result)\n",
    "\n",
    "c = result.pour(0.4) \n",
    "print(result)\n",
    "print(c)\n"
   ]
  },
  {
   "source": [
    "## Άσκηση 3\n",
    "Γράψτε μια συνάρτηση που να ελέγχει αν μια φράση είναι παντόγραμμα, δηλαδή περιλαμβάνει και τα 24 γράμματα του Ελληνικού αλφαβήτου.\n",
    "\n",
    "Προσθέστε unittest για τον έλεγχο της συνάρτησης και με logging εμφανίστε πληροφορίες κατά την εκτέλεση της συνάρτησης όπως πλήθος γραμμάτων, πλήθος λέξεων και γράμματα που δεν υπάρχουν.\n",
    "\n",
    "    def is_pangram(s):\n",
    "        pass\n"
   ],
   "cell_type": "markdown",
   "metadata": {}
  },
  {
   "cell_type": "code",
   "execution_count": 81,
   "metadata": {},
   "outputs": [
    {
     "output_type": "stream",
     "name": "stderr",
     "text": [
      "DEBUG:root:Αριθμός χαρακτήρων=47, αριθμός λέξεων=7, χαρακτήρες που δεν υπάρχουν=['Δ', 'Ζ', 'Χ']\n",
      "Η ΦΡΑΣΗ \"Ο ΚΑΛΥΜΝΙΟΣ ΣΦΟΥΓΓΑΡΑΣ ΨΙΘΥΡΙΣΕ ΠΩΣ ΘΑ ΒΟΥΤΗΞΕΙ\" ΔΕΝ ΕΙΝΑΙ ΠΑΝΤΟΓΡΑΜΜΑ\n"
     ]
    }
   ],
   "source": [
    "import logging\n",
    "\n",
    "logging.basicConfig() \n",
    "logging.getLogger().setLevel(logging.DEBUG)\n",
    "\n",
    "def is_pangram(s):\n",
    "    greekletters = \"ΑΒΓΔΕΖΗΘΙΚΛΜΝΞΟΠΡΣΤΥΦΧΨΩ\"\n",
    "    a_set = set()\n",
    "    for c in greekletters:\n",
    "        a_set.add(c)\n",
    "    \n",
    "    for c in s:\n",
    "        c = c.upper()\n",
    "        if c in a_set:\n",
    "            a_set.remove(c)\n",
    "\n",
    "    chars = len(s)\n",
    "    words = len(s.split())\n",
    "    not_found = sorted(list(a_set))\n",
    "    logging.debug(f'Αριθμός χαρακτήρων={chars}, αριθμός λέξεων={words}, χαρακτήρες που δεν υπάρχουν={not_found}')\n",
    "    return len(a_set) == 0\n",
    "\n",
    "\n",
    "s = \"Ο ΚΑΛΥΜΝΙΟΣ ΣΦΟΥΓΓΑΡΑΣ ΨΙΘΥΡΙΣΕ ΠΩΣ ΘΑ ΒΟΥΤΗΞΕΙ\"\n",
    "print(f'Η ΦΡΑΣΗ \"{s}\"', end=' ')\n",
    "print(\"EINAI ΠΑΝΤΟΓΡΑΜΜΑ\" if is_pangram(s) else \"ΔΕΝ ΕΙΝΑΙ ΠΑΝΤΟΓΡΑΜΜΑ\")\n"
   ]
  },
  {
   "cell_type": "code",
   "execution_count": 86,
   "metadata": {},
   "outputs": [
    {
     "output_type": "stream",
     "name": "stderr",
     "text": [
      "test_samples (__main__.Pangram) ... ok\n",
      "test_samples (__main__.TestPangram) ... ok\n",
      "\n",
      "----------------------------------------------------------------------\n",
      "Ran 2 tests in 0.003s\n",
      "\n",
      "OK\n"
     ]
    }
   ],
   "source": [
    "import unittest\n",
    "\n",
    "logging.getLogger().setLevel(logging.INFO)\n",
    "\n",
    "class TestPangram(unittest.TestCase):\n",
    "\n",
    "    def test_samples(self):\n",
    "        self.assertEqual(is_pangram(\"ΑΒΓΔΕΖΗΘΙΚΛΜΝΞΟΠΡΣΤΥΦΧΨΩ\"), True)\n",
    "        self.assertEqual(is_pangram(\"ΑΒΓΔΕΖΗΘΙΚΛΜΝΞΟΠΡΣΤΥΦΧΨA\"), False)\n",
    "        self.assertEqual(is_pangram(\"ΞΕΣΚΕΠΑΖΩ ΤΗΝ ΨΥΧΟΦΘΟΡΟ ΒΔΕΛΥΓΜΙΑ\"), True)\n",
    "        self.assertEqual(is_pangram(\"Ο ΚΑΛΥΜΝΙΟΣ ΣΦΟΥΓΓΑΡΑΣ ΨΙΘΥΡΙΣΕ ΠΩΣ ΘΑ ΒΟΥΤΗΞΕΙ ΧΩΡΙΣ ΝΑ ΔΙΣΤΑΖΕΙ\"), True)\n",
    "\n",
    "unittest.main(argv=[''], verbosity=2, exit=False);"
   ]
  },
  {
   "cell_type": "code",
   "execution_count": null,
   "metadata": {},
   "outputs": [],
   "source": []
  }
 ]
}