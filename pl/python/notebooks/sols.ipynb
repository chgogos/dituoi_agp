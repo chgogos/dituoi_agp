{
 "metadata": {
  "language_info": {
   "codemirror_mode": {
    "name": "ipython",
    "version": 3
   },
   "file_extension": ".py",
   "mimetype": "text/x-python",
   "name": "python",
   "nbconvert_exporter": "python",
   "pygments_lexer": "ipython3",
   "version": "3.8.0-final"
  },
  "orig_nbformat": 2,
  "kernelspec": {
   "name": "python3",
   "display_name": "Python 3.8.0 64-bit",
   "metadata": {
    "interpreter": {
     "hash": "2334294e789e06453e89f7d5c3c2573679701f9bb5b76ad2158f91cca5c9244c"
    }
   }
  }
 },
 "nbformat": 4,
 "nbformat_minor": 2,
 "cells": [
  {
   "source": [
    "    Τμήμα Πληροφορικής και Τηλεπικοινωνιών - Άρτα \n",
    "    Πανεπιστήμιο Ιωαννίνων \n",
    "\n",
    "    Γκόγκος Χρήστος \n",
    "    http://chgogos.github.io/\n",
    "    Εαρινό εξάμηνο 2020-2021"
   ],
   "cell_type": "markdown",
   "metadata": {}
  },
  {
   "source": [
    "# Εργαστήριο 1"
   ],
   "cell_type": "markdown",
   "metadata": {}
  },
  {
   "source": [
    "## Άσκηση 1\n",
    "Ποια είναι τα 5 πρώτα ψηφία του αποτελέσματος που προκύπτει από την ακόλουθη πράξη;\n",
    "\n",
    "<img src=\"https://render.githubusercontent.com/render/math?math=\\sqrt{\\frac{2^{101}}{\\pi^{53} %2B 11^{17}}}\" width=\"100\">"
   ],
   "cell_type": "markdown",
   "metadata": {}
  },
  {
   "cell_type": "code",
   "execution_count": null,
   "metadata": {},
   "outputs": [],
   "source": [
    "import math\n",
    "x = math.sqrt(2**101/(math.pi**53 + 11**17))\n",
    "print(x)\n",
    "\n",
    "# τα 5 πρώτα ψηφία του αποτελέσματος είναι 1,0,6,5 και 4"
   ]
  },
  {
   "source": [
    "## Άσκηση 2\n",
    "Γράψτε τις εντολές με τις οποίες μπορούμε να παράξουμε από το κείμενο \"Τμήμα Πληροφορικής και Τηλεπικοινωνιών\" το κείμενο.\n",
    "\n",
    "ΠΛΗΡΟΦΟΡΙΚΉΣ & ΤΗΛΕΠΙΚΟΙΝΩΝΙΏΝ - ΠΛΗΡΟΦΟΡΙΚΉΣ & ΤΗΛΕΠΙΚΟΙΝΩΝΙΏΝ - ΠΛΗΡΟΦΟΡΙΚΉΣ & ΤΗΛΕΠΙΚΟΙΝΩΝΙΏΝ - ΠΛΗΡΟΦΟΡΙΚΉΣ & ΤΗΛΕΠΙΚΟΙΝΩΝΙΏΝ - ΠΛΗΡΟΦΟΡΙΚΉΣ & ΤΗΛΕΠΙΚΟΙΝΩΝΙΏΝ"
   ],
   "cell_type": "markdown",
   "metadata": {}
  },
  {
   "cell_type": "code",
   "execution_count": null,
   "metadata": {},
   "outputs": [],
   "source": [
    "s = \"Τμήμα Πληροφορικής και Τηλεπικοινωνιών\"\n",
    "((s[6:19]+'&'+s[-16:]+\" - \").upper()*5)[:-3] # 44 χαρακτήρες"
   ]
  },
  {
   "source": [
    "## Άσκηση 3\n",
    "\n",
    "1. Δώστε ένα παράδειγμα πλειάδας με 3 ακέραιες τιμές.\n",
    "2. Δώστε ένα παράδειγμα λίστας με 1 ακέραιο, 1 πραγματικό και 1 λεκτικό. Προσθέστε στη λίστα ως στοιχείο την πλειάδα\n",
    "3. Δώστε ένα παράδειγμα λεξικού με κλειδιά λεκτικά και τιμές ζεύγη πραγματικών τιμών. Εντοπίστε τις [γεωγραφικές συντεταγμένες](https://www.maps.ie/coordinates.html) (πλάτος και μήκος) της Άρτας, των Ιωαννίνων, της Πρέβεζας και της Ηγουμενίτσας και εισάγετε στο λεξικό εγγραφές με κλειδί το όνομα της πόλης και τιμές τις αντίστοιχες πλειάδες."
   ],
   "cell_type": "markdown",
   "metadata": {}
  },
  {
   "cell_type": "code",
   "execution_count": null,
   "metadata": {},
   "outputs": [],
   "source": [
    "t = (5,10,17)\n",
    "print(t)\n",
    "l = [1, 3.5, 'arta']\n",
    "l.append(t)\n",
    "print(l)\n",
    "d = {}\n",
    "d[\"arta\"] = (39.161555, 20.9858503)\n",
    "d[\"ioannina\"] = (39.6097822, 20.9264579)\n",
    "d[\"preveza\"] = (38.959267, 20.751715)\n",
    "d[\"igoumenitsa\"] = (39.5045294, 20.2650921)\n",
    "print(d)"
   ]
  },
  {
   "source": [
    "# Εργαστήριο 2"
   ],
   "cell_type": "markdown",
   "metadata": {}
  },
  {
   "source": [
    "## Άσκηση 1\n",
    "\n",
    "Γράψτε ένα πρόγραμμα που να δέχεται ένα κείμενο και να επιστρέφει τη λέξη του κειμένου με το μεγαλύτερο μήκος. Αν υπάρχουν περισσότερες από μια λέξεις με το ίδιο μεγαλύτερο μήκος εμφανίστε μια οποιαδήποτε από αυτές. Προσπαθήστε να δώσετε τη συντομότερη λύση. "
   ],
   "cell_type": "markdown",
   "metadata": {}
  },
  {
   "cell_type": "code",
   "execution_count": null,
   "metadata": {},
   "outputs": [],
   "source": [
    "txt = \"\"\"\n",
    "Το Lorem Ipsum είναι απλά ένα κείμενο χωρίς νόημα για τους επαγγελματίες της τυπογραφίας και στοιχειοθεσίας Το Lorem Ipsum είναι το επαγγελματικό πρότυπο όσον αφορά το κείμενο χωρίς νόημα, από τον 15ο αιώνα, όταν ένας ανώνυμος τυπογράφος πήρε ένα δοκίμιο και ανακάτεψε τις λέξεις για να δημιουργήσει ένα δείγμα βιβλίου Όχι μόνο επιβίωσε πέντε αιώνες αλλά κυριάρχησε στην ηλεκτρονική στοιχειοθεσία παραμένοντας με κάθε τρόπο αναλλοίωτο Έγινε δημοφιλές τη δεκαετία του '60 με την έκδοση των δειγμάτων της Letraset όπου περιελάμβαναν αποσπάσματα του Lorem Ipsum και πιο πρόσφατα με το λογισμικό ηλεκτρονικής σελιδοποίησης όπως το Aldus PageMaker που περιείχαν εκδοχές του Lorem Ipsum\n",
    "\"\"\"\n",
    "words = txt.split(' ')"
   ]
  },
  {
   "cell_type": "code",
   "execution_count": null,
   "metadata": {},
   "outputs": [],
   "source": [
    "# Α' λύση\n",
    "longest = ''\n",
    "for w in words: \n",
    "    if len(w)>len(longest):\n",
    "        longest = w\n",
    "print(longest)"
   ]
  },
  {
   "cell_type": "code",
   "execution_count": null,
   "metadata": {},
   "outputs": [],
   "source": [
    "# Α' λύση (συντομότερη)\n",
    "longest = max(words, key=len)\n",
    "print(longest)"
   ]
  },
  {
   "cell_type": "code",
   "execution_count": null,
   "metadata": {},
   "outputs": [],
   "source": [
    "# Εμφάνιση όλων των λέξεων με βάση το μέγεθός τους ξεκινώντας από τις μεγαλύτερες σε μήκος και συνεχίζοντας προς τις μικρότερες σε μήκος\n",
    "\n",
    "for length in range(len(longest), 0, -1):\n",
    "    a_list = [x for x in words if len(x)==length]\n",
    "    print(length, a_list)"
   ]
  },
  {
   "source": [
    "## Άσκηση 2\n",
    "\n",
    "Για την ακόλουθη λίστα τιμών 56, 37, 77, 90, 16, 11 γράψτε comprehensions που να κάνουν τα ακόλουθα:\n",
    "\n",
    "1. Να δημιουργεί νέα λίστα μόνο με τις τιμές που είναι μεγαλύτερες από το μέσο όρο των τιμών\n",
    "2. Να δημιουργεί νέα λίστα με ζεύγη τιμών που το πρώτο στοιχείο κάθε ζεύγους να είναι η ίδια τιμή και δεύτερο στοιχείο μια λογική τιμή με τιμή True αν η τιμή είναι άρτια αλλιώς η τιμή False\n",
    "2. Να δημιουργεί νέα λίστα με τα ψηφία κάθε τιμής σε αντίστροφη σειρά"
   ],
   "cell_type": "markdown",
   "metadata": {}
  },
  {
   "cell_type": "code",
   "execution_count": null,
   "metadata": {},
   "outputs": [],
   "source": [
    "a = [56, 37, 77, 90, 16, 11]\n",
    "\n",
    "b = [x for x in a if x > sum(a)/len(a)]\n",
    "print(b)"
   ]
  },
  {
   "cell_type": "code",
   "execution_count": null,
   "metadata": {},
   "outputs": [],
   "source": [
    "c = [(x, x%2==0) for x in a]\n",
    "c"
   ]
  },
  {
   "cell_type": "code",
   "execution_count": null,
   "metadata": {},
   "outputs": [],
   "source": [
    "d = [int(str(x)[::-1]) for x in a]\n",
    "d"
   ]
  },
  {
   "source": [
    "## Άσκηση 3\n",
    "Κατεβάστε σε txt μορφή το βιβλίο Μεταμόρφωση του Φ. Κάφκα από το <https://www.gutenberg.org/ebooks/5200>. Υπολογίστε το ποσοστό εμφάνισης του κάθε χαρακτήρα από Α μέχρι και Ζ μέσα στο κείμενο. Ποιοι είναι οι 3 χαρακτήρες που εμφανίζονται συχνότερα;\n",
    "\n",
    "Δείτε και το <https://stackoverflow.com/questions/3169051/build-an-ascii-chart-of-the-most-commonly-used-words-in-a-given-text#3170549>"
   ],
   "cell_type": "markdown",
   "metadata": {}
  },
  {
   "cell_type": "code",
   "execution_count": null,
   "metadata": {},
   "outputs": [],
   "source": [
    "chr(66)"
   ]
  },
  {
   "cell_type": "code",
   "execution_count": null,
   "metadata": {},
   "outputs": [],
   "source": [
    "letters = {}\n",
    "for c in range(ord('A'), ord('Z')+1):\n",
    "    letters[chr(c)]=0\n",
    "\n",
    "with open(\"../../../datasets/metamorphosis.txt\", \"r\") as f:\n",
    "    for line in f:\n",
    "        for c in line.upper():\n",
    "            if c in letters:\n",
    "                letters[c] += 1\n",
    "\n",
    "total = sum(letters.values())\n",
    "for k in letters:\n",
    "    print(f'{k} {letters[k]/total* 100:.2f}%')"
   ]
  },
  {
   "source": [
    "# Εργαστήριο 3"
   ],
   "cell_type": "markdown",
   "metadata": {}
  },
  {
   "source": [
    "## Άσκηση 1"
   ],
   "cell_type": "markdown",
   "metadata": {}
  },
  {
   "source": [
    "Γράψτε μια συνάρτηση που να δέχεται δύο λεκτικά ίσου μήκους και να επιστρέφει την απόσταση Hamming (δηλαδή το πλήθος των αντίστοιχων χαρακτήρων που διαφέρουν στα δύο λεκτικά)\n",
    "\n",
    "<http://rosalind.info/problems/hamm/>"
   ],
   "cell_type": "markdown",
   "metadata": {}
  },
  {
   "cell_type": "code",
   "execution_count": null,
   "metadata": {},
   "outputs": [],
   "source": [
    "def hamming_distance(s, t):\n",
    "    assert len(s) == len(t), \"Λεκτικά διαφορετικού μήκους\"\n",
    "    c = 0\n",
    "    for i in range(len(s)):\n",
    "        if s[i] != t[i]:\n",
    "            c += 1\n",
    "    return c\n",
    "\n",
    "s = \"GAGCCTACTAACGGGAT\"\n",
    "t = \"CATCGTAATGACGGCCT\"\n",
    "\n",
    "hd = hamming_distance(s,t)\n",
    "print(hd)"
   ]
  },
  {
   "source": [
    "## Άσκηση 2\n",
    "\n",
    "Δίνεται ο ακόλουθος κώδικας που ορίζει την κλάση Juice και υπερφορτώνει τον τελεστή +. \n",
    "* Προσθέστε το επιπλέον πεδίο τιμή (price).\n",
    "* Όταν εφαρμόζεται ο τελεστής πρόσθεσης ο νέος χυμός να έχει τιμή ίση με το άθροισμα τιμών των δύο χυμών.\n",
    "* Προσθέστε τη μέθοδο pour() που να δέχεται ως παράμετρο μια τιμή από το 0% μέχρι το 100% και να επιστρέφει ένα νέο αντικείμενο Juice με το  χυμό που προκύπτει αν ληφθεί το αντίστοιχο ποσοστό περιεχομένου από το καλών αντικείμενο.\n",
    "\n",
    "Προσαρμογή από το <https://www.sololearn.com/learning/1073>\n",
    "\n",
    "    class Juice:\n",
    "        def __init__(self, name, capacity):\n",
    "            self.name = name\n",
    "            self.capacity = capacity\n",
    "\n",
    "        def __str__(self):\n",
    "            return (self.name + ' ('+str(self.capacity)+'L)')\n",
    "\n",
    "        def __add__(self, other):\n",
    "            return Juice(self.name + '&' + other.name, self.capacity + other.capacity)\n",
    "\n",
    "    a = Juice('Orange', 1.5)\n",
    "    b = Juice('Apple', 2.0)\n",
    "\n",
    "    result = a + b\n",
    "    print(result)"
   ],
   "cell_type": "markdown",
   "metadata": {}
  },
  {
   "cell_type": "code",
   "execution_count": null,
   "metadata": {},
   "outputs": [],
   "source": [
    "class Juice:\n",
    "    def __init__(self, name, capacity, price):\n",
    "        self.name = name\n",
    "        self.capacity = capacity\n",
    "        self.price = price\n",
    "\n",
    "    def __str__(self):\n",
    "        return (f'{self.name} ({self.capacity:.2f}L) {self.price:.2f} €')\n",
    "\n",
    "    def __add__(self, other):\n",
    "        new_price = self.price + other.price\n",
    "        return Juice(self.name + '&' + other.name, self.capacity + other.capacity, new_price)\n",
    "\n",
    "    def pour(self, percentage):\n",
    "        assert 0.0 < percentage <= 1.0\n",
    "        print(f'Pouring {percentage*100}% from {str(self)}')\n",
    "        new_capacity = self.capacity * percentage\n",
    "        new_price = self.price * percentage\n",
    "        self.capacity = self.capacity - new_capacity\n",
    "        self.price = self.price - new_price\n",
    "        return Juice(self.name, new_capacity, new_price)\n",
    "\n",
    "a = Juice('Orange', 1.5, 3.5)\n",
    "b = Juice('Apple', 2.0, 3.0)\n",
    "print(a)\n",
    "print(b)\n",
    "\n",
    "result = a + b\n",
    "print(result)\n",
    "\n",
    "c = result.pour(0.4) \n",
    "print(result)\n",
    "print(c)\n"
   ]
  },
  {
   "source": [
    "## Άσκηση 3\n",
    "Γράψτε μια συνάρτηση που να ελέγχει αν μια φράση είναι παντόγραμμα, δηλαδή περιλαμβάνει και τα 24 γράμματα του Ελληνικού αλφαβήτου.\n",
    "\n",
    "Προσθέστε unittest για τον έλεγχο της συνάρτησης και με logging εμφανίστε πληροφορίες κατά την εκτέλεση της συνάρτησης όπως πλήθος γραμμάτων, πλήθος λέξεων και γράμματα που δεν υπάρχουν.\n",
    "\n",
    "    def is_pangram(s):\n",
    "        pass\n"
   ],
   "cell_type": "markdown",
   "metadata": {}
  },
  {
   "cell_type": "code",
   "execution_count": null,
   "metadata": {},
   "outputs": [],
   "source": [
    "import logging\n",
    "\n",
    "logging.basicConfig() \n",
    "logging.getLogger().setLevel(logging.DEBUG)\n",
    "\n",
    "def is_pangram(s):\n",
    "    greekletters = \"ΑΒΓΔΕΖΗΘΙΚΛΜΝΞΟΠΡΣΤΥΦΧΨΩ\"\n",
    "    a_set = set()\n",
    "    for c in greekletters:\n",
    "        a_set.add(c)\n",
    "    \n",
    "    for c in s:\n",
    "        c = c.upper()\n",
    "        if c in a_set:\n",
    "            a_set.remove(c)\n",
    "\n",
    "    chars = len(s)\n",
    "    words = len(s.split())\n",
    "    not_found = sorted(list(a_set))\n",
    "    logging.debug(f'Αριθμός χαρακτήρων={chars}, αριθμός λέξεων={words}, χαρακτήρες που δεν υπάρχουν={not_found}')\n",
    "    return len(a_set) == 0\n",
    "\n",
    "\n",
    "s = \"Ο ΚΑΛΥΜΝΙΟΣ ΣΦΟΥΓΓΑΡΑΣ ΨΙΘΥΡΙΣΕ ΠΩΣ ΘΑ ΒΟΥΤΗΞΕΙ\"\n",
    "print(f'Η ΦΡΑΣΗ \"{s}\"', end=' ')\n",
    "print(\"EINAI ΠΑΝΤΟΓΡΑΜΜΑ\" if is_pangram(s) else \"ΔΕΝ ΕΙΝΑΙ ΠΑΝΤΟΓΡΑΜΜΑ\")\n"
   ]
  },
  {
   "cell_type": "code",
   "execution_count": null,
   "metadata": {},
   "outputs": [],
   "source": [
    "import unittest\n",
    "\n",
    "logging.getLogger().setLevel(logging.INFO)\n",
    "\n",
    "class TestPangram(unittest.TestCase):\n",
    "\n",
    "    def test_samples(self):\n",
    "        self.assertEqual(is_pangram(\"ΑΒΓΔΕΖΗΘΙΚΛΜΝΞΟΠΡΣΤΥΦΧΨΩ\"), True)\n",
    "        self.assertEqual(is_pangram(\"ΑΒΓΔΕΖΗΘΙΚΛΜΝΞΟΠΡΣΤΥΦΧΨA\"), False)\n",
    "        self.assertEqual(is_pangram(\"ΞΕΣΚΕΠΑΖΩ ΤΗΝ ΨΥΧΟΦΘΟΡΟ ΒΔΕΛΥΓΜΙΑ\"), True)\n",
    "        self.assertEqual(is_pangram(\"Ο ΚΑΛΥΜΝΙΟΣ ΣΦΟΥΓΓΑΡΑΣ ΨΙΘΥΡΙΣΕ ΠΩΣ ΘΑ ΒΟΥΤΗΞΕΙ ΧΩΡΙΣ ΝΑ ΔΙΣΤΑΖΕΙ\"), True)\n",
    "\n",
    "unittest.main(argv=[''], verbosity=2, exit=False);"
   ]
  },
  {
   "source": [
    "# Εργαστήριο 4"
   ],
   "cell_type": "markdown",
   "metadata": {}
  },
  {
   "source": [
    "## Άσκηση 1\n",
    "\n",
    "Κατεβάστε το MovieLens 100K Dataset [ml-100k.zip](https://grouplens.org/datasets/movielens/100k/). \n",
    "\n",
    "Εντοπίστε το αρχείο u.data που περιέχει 100000 αξιολογήσεις από 943 χρήστες για 1682 ταινίες. \n",
    "\n",
    "Εντοπίστε το αρχείο u.item που περιέχει στοιχεία 1682 ταινιών. \n",
    "\n",
    "Hint: Δείτε το αρχείο README στο ml-100k.zip για περιγραφή των περιεχομένων των αρχείων.\n",
    "\n",
    "* Εντοπίστε τις 10 ταινίες με τις καλύτερες αξιολογήσεις κατά μέσο όρο λαμβάνοντας υπόψη μόνο ταινίες που έχουν λάβει τουλάχιστον 50 αξιολογήσεις η κάθε μια. Εμφανίστε τους τίτλους αυτών των ταινιών. "
   ],
   "cell_type": "markdown",
   "metadata": {}
  },
  {
   "cell_type": "code",
   "execution_count": null,
   "metadata": {
    "tags": []
   },
   "outputs": [],
   "source": [
    "# Φόρτωση του αρχείου με τις αξιολογήσεις\n",
    "\n",
    "import csv\n",
    "\n",
    "movies = {}\n",
    "with open('../../../datasets/ml-100k/u.data') as f:\n",
    "    csv_reader = csv.reader(f, delimiter='\\t')\n",
    "    for row in csv_reader:\n",
    "        user, movie_id, rating, timestamp = row\n",
    "        rating = int(rating)\n",
    "        if movie_id not in movies:\n",
    "            movies[movie_id] = [rating]\n",
    "        else:\n",
    "            movies[movie_id].append(rating)"
   ]
  },
  {
   "cell_type": "code",
   "execution_count": null,
   "metadata": {},
   "outputs": [],
   "source": [
    "# Διαγραφή ταινιών με λιγότερες από 50 αξιολογήσεις\n",
    "\n",
    "movies_to_be_deleted = []\n",
    "for movie in movies:\n",
    "    if len(movies[movie]) < 50:\n",
    "        movies_to_be_deleted.append(movie)\n",
    "\n",
    "print(len(movies))\n",
    "for movie in movies_to_be_deleted:\n",
    "    del movies[movie]\n",
    "print(len(movies))"
   ]
  },
  {
   "cell_type": "code",
   "execution_count": null,
   "metadata": {
    "tags": []
   },
   "outputs": [],
   "source": [
    "# Φόρτωση του αρχείου με τους τίτλους ταινιών\n",
    "\n",
    "titles = {}\n",
    "with open('../../../datasets/ml-100k/u.item') as f:\n",
    "    csv_reader = csv.reader(f, delimiter='|')\n",
    "    for row in csv_reader:\n",
    "        movie_id, title = row[0], row[1]\n",
    "        titles[movie_id] = title"
   ]
  },
  {
   "cell_type": "code",
   "execution_count": null,
   "metadata": {},
   "outputs": [],
   "source": [
    "# Μέση βαθμολογία ταινιών, ταξινόμηση, εμφάνιση 10 πρώτων\n",
    "\n",
    "movie_avg_rating = []\n",
    "for movie in movies:\n",
    "    movie_avg_rating.append((movie, sum(movies[movie])/len(movies[movie])))\n",
    "\n",
    "movie_avg_rating.sort(key=lambda x: x[1], reverse=True)\n",
    "\n",
    "for i in range(10):\n",
    "    movie_id = movie_avg_rating[i][0]\n",
    "    print(f'{titles[movie_id]:60} {movie_avg_rating[i][1]:.4f}' )"
   ]
  },
  {
   "source": [
    "## Άσκηση 2\n",
    "\n",
    "Κατεβάστε το ακόλουθο XML αρχείο που περιέχει το πρόγραμμα αγώνων ενός πρωταθλήματος. \n",
    "\n",
    "[ITC2021_Test8_SolGenMethodA.xml](https://www.sportscheduling.ugent.be/RobinX/Repository/ITC2021/Solutions/ITC2021_Test8_SolGenMethodA.xml)\n",
    "\n",
    "Για κάθε αγώνα εμφανίστε την απόσταση ανάμεσα στον αγώνα και στον επαναληπτικό του. Για παράδειγμα για τις ομάδες 0 και 1 ο αγώνας 0-1 γίνεται στην περίοδο 33 και ο επαναληπτικός αγώνας 1-0 γίνεται στην περίοδο 14, άρα η απόσταση των δύο αγώνων είναι 33-14=19 αγωνιστικές.\n",
    "\n",
    "Μετατρέψτε το XML αρχείο σε JSON και σε YAML. \n",
    "* [XML to JSON](https://jsonformatter.org/xml-to-json). \n",
    "* [XML to YAML](https://jsonformatter.org/xml-to-yaml). \n",
    "\n",
    "Λύστε το παραπάνω ερώτημα διαβάζοντας τα δεδομένα α) από το αρχείο JSON και β) από το αρχείο YAML.\n"
   ],
   "cell_type": "markdown",
   "metadata": {}
  },
  {
   "cell_type": "code",
   "execution_count": null,
   "metadata": {},
   "outputs": [],
   "source": [
    "# Ανάγνωση δεδομένων από το XML αρχείο\n",
    "\n",
    "import xml.etree.ElementTree as ET\n",
    "\n",
    "fn = \"../../../datasets/itc2021/ITC2021_Test8_SolGenMethodA.xml\"\n",
    "xml_f = open(fn, \"r\", encoding=\"utf-8\")\n",
    "tree = ET.ElementTree(file=xml_f)\n",
    "elem = tree.getroot()\n",
    "teams = set()\n",
    "matches = {}\n",
    "if elem.tag == \"Solution\":\n",
    "    for elem2 in list(elem):\n",
    "        if elem2.tag == \"Games\":\n",
    "            for elem3 in list(elem2):\n",
    "                if elem3.tag == \"ScheduledMatch\":\n",
    "                    home = int(elem3.attrib[\"home\"])\n",
    "                    away = int(elem3.attrib[\"away\"])\n",
    "                    slot = int(elem3.attrib[\"slot\"])\n",
    "                    matches[(home, away)] = slot\n",
    "                    teams.add(home)\n",
    "xml_f.close()"
   ]
  },
  {
   "cell_type": "code",
   "execution_count": null,
   "metadata": {},
   "outputs": [],
   "source": [
    "# Υπολογισμός διαφοράς αγωνιστικών ανάμεσα σε κάθε αγώνα και στον επαναληπτικό του\n",
    "nr_of_teams = len(teams)\n",
    "\n",
    "for team1 in range(nr_of_teams):\n",
    "    for team2 in range(team1+1, nr_of_teams):\n",
    "        slot1 =  matches[(team1, team2)]\n",
    "        slot2 =  matches[(team2, team1)]\n",
    "        print(f'Ομάδα {team1} εναντίον {team2} αγωνιστικές {slot1} & {slot2} διαφορά {abs(slot1-slot2)} ')"
   ]
  },
  {
   "cell_type": "code",
   "execution_count": null,
   "metadata": {},
   "outputs": [],
   "source": []
  }
 ]
}