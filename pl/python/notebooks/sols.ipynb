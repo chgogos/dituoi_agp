{
 "metadata": {
  "language_info": {
   "codemirror_mode": {
    "name": "ipython",
    "version": 3
   },
   "file_extension": ".py",
   "mimetype": "text/x-python",
   "name": "python",
   "nbconvert_exporter": "python",
   "pygments_lexer": "ipython3",
   "version": "3.8.0-final"
  },
  "orig_nbformat": 2,
  "kernelspec": {
   "name": "python3",
   "display_name": "Python 3.8.0 64-bit",
   "metadata": {
    "interpreter": {
     "hash": "2334294e789e06453e89f7d5c3c2573679701f9bb5b76ad2158f91cca5c9244c"
    }
   }
  }
 },
 "nbformat": 4,
 "nbformat_minor": 2,
 "cells": [
  {
   "source": [
    "    Τμήμα Πληροφορικής και Τηλεπικοινωνιών - Άρτα \n",
    "    Πανεπιστήμιο Ιωαννίνων \n",
    "\n",
    "    Γκόγκος Χρήστος \n",
    "    http://chgogos.github.io/\n",
    "    Εαρινό εξάμηνο 2020-2021"
   ],
   "cell_type": "markdown",
   "metadata": {}
  },
  {
   "source": [
    "# Εργαστήριο 1"
   ],
   "cell_type": "markdown",
   "metadata": {}
  },
  {
   "source": [
    "## Άσκηση 1\n",
    "Ποια είναι τα 5 πρώτα ψηφία του αποτελέσματος που προκύπτει από την ακόλουθη πράξη;\n",
    "\n",
    "<img src=\"https://render.githubusercontent.com/render/math?math=\\sqrt{\\frac{2^{101}}{\\pi^{53} %2B 11^{17}}}\" width=\"100\">"
   ],
   "cell_type": "markdown",
   "metadata": {}
  },
  {
   "cell_type": "code",
   "execution_count": 22,
   "metadata": {},
   "outputs": [
    {
     "output_type": "stream",
     "name": "stdout",
     "text": [
      "106.54747304668045\n"
     ]
    }
   ],
   "source": [
    "import math\n",
    "x = math.sqrt(2**101/(math.pi**53 + 11**17))\n",
    "print(x)\n",
    "\n",
    "# τα 5 πρώτα ψηφία του αποτελέσματος είναι 1,0,6,5 και 4"
   ]
  },
  {
   "source": [
    "## Άσκηση 2\n",
    "Γράψτε τις εντολές με τις οποίες μπορούμε να παράξουμε από το κείμενο \"Τμήμα Πληροφορικής και Τηλεπικοινωνιών\" το κείμενο.\n",
    "\n",
    "ΠΛΗΡΟΦΟΡΙΚΉΣ & ΤΗΛΕΠΙΚΟΙΝΩΝΙΏΝ - ΠΛΗΡΟΦΟΡΙΚΉΣ & ΤΗΛΕΠΙΚΟΙΝΩΝΙΏΝ - ΠΛΗΡΟΦΟΡΙΚΉΣ & ΤΗΛΕΠΙΚΟΙΝΩΝΙΏΝ - ΠΛΗΡΟΦΟΡΙΚΉΣ & ΤΗΛΕΠΙΚΟΙΝΩΝΙΏΝ - ΠΛΗΡΟΦΟΡΙΚΉΣ & ΤΗΛΕΠΙΚΟΙΝΩΝΙΏΝ"
   ],
   "cell_type": "markdown",
   "metadata": {}
  },
  {
   "cell_type": "code",
   "execution_count": 3,
   "metadata": {},
   "outputs": [
    {
     "output_type": "execute_result",
     "data": {
      "text/plain": [
       "'ΠΛΗΡΟΦΟΡΙΚΉΣ & ΤΗΛΕΠΙΚΟΙΝΩΝΙΏΝ - ΠΛΗΡΟΦΟΡΙΚΉΣ & ΤΗΛΕΠΙΚΟΙΝΩΝΙΏΝ - ΠΛΗΡΟΦΟΡΙΚΉΣ & ΤΗΛΕΠΙΚΟΙΝΩΝΙΏΝ - ΠΛΗΡΟΦΟΡΙΚΉΣ & ΤΗΛΕΠΙΚΟΙΝΩΝΙΏΝ - ΠΛΗΡΟΦΟΡΙΚΉΣ & ΤΗΛΕΠΙΚΟΙΝΩΝΙΏΝ'"
      ]
     },
     "metadata": {},
     "execution_count": 3
    }
   ],
   "source": [
    "s = \"Τμήμα Πληροφορικής και Τηλεπικοινωνιών\"\n",
    "((s[6:19]+'&'+s[-16:]+\" - \").upper()*5)[:-3] # 44 χαρακτήρες"
   ]
  },
  {
   "source": [
    "## Άσκηση 3\n",
    "\n",
    "1. Δώστε ένα παράδειγμα πλειάδας με 3 ακέραιες τιμές.\n",
    "2. Δώστε ένα παράδειγμα λίστας με 1 ακέραιο, 1 πραγματικό και 1 λεκτικό. Προσθέστε στη λίστα ως στοιχείο την πλειάδα\n",
    "3. Δώστε ένα παράδειγμα λεξικού με κλειδιά λεκτικά και τιμές ζεύγη πραγματικών τιμών. Εντοπίστε τις [γεωγραφικές συντεταγμένες](https://www.maps.ie/coordinates.html) (πλάτος και μήκος) της Άρτας, των Ιωαννίνων, της Πρέβεζας και της Ηγουμενίτσας και εισάγετε στο λεξικό εγγραφές με κλειδί το όνομα της πόλης και τιμές τις αντίστοιχες πλειάδες."
   ],
   "cell_type": "markdown",
   "metadata": {}
  },
  {
   "cell_type": "code",
   "execution_count": 38,
   "metadata": {},
   "outputs": [
    {
     "output_type": "stream",
     "name": "stdout",
     "text": [
      "(5, 10, 17)\n[1, 3.5, 'arta', (5, 10, 17)]\n{'arta': (39.161555, 20.9858503), 'ioannina': (39.6097822, 20.9264579), 'preveza': (38.959267, 20.751715), 'igoumenitsa': (39.5045294, 20.2650921)}\n"
     ]
    }
   ],
   "source": [
    "t = (5,10,17)\n",
    "print(t)\n",
    "l = [1, 3.5, 'arta']\n",
    "l.append(t)\n",
    "print(l)\n",
    "d = {}\n",
    "d[\"arta\"] = (39.161555, 20.9858503)\n",
    "d[\"ioannina\"] = (39.6097822, 20.9264579)\n",
    "d[\"preveza\"] = (38.959267, 20.751715)\n",
    "d[\"igoumenitsa\"] = (39.5045294, 20.2650921)\n",
    "print(d)"
   ]
  },
  {
   "source": [
    "# Εργαστήριο 2"
   ],
   "cell_type": "markdown",
   "metadata": {}
  },
  {
   "source": [
    "## Άσκηση 1"
   ],
   "cell_type": "markdown",
   "metadata": {}
  },
  {
   "cell_type": "code",
   "execution_count": null,
   "metadata": {},
   "outputs": [],
   "source": []
  }
 ]
}