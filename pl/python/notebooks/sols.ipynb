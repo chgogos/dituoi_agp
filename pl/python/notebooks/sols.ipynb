{
 "metadata": {
  "language_info": {
   "codemirror_mode": {
    "name": "ipython",
    "version": 3
   },
   "file_extension": ".py",
   "mimetype": "text/x-python",
   "name": "python",
   "nbconvert_exporter": "python",
   "pygments_lexer": "ipython3",
   "version": "3.8.0-final"
  },
  "orig_nbformat": 2,
  "kernelspec": {
   "name": "python3",
   "display_name": "Python 3.8.0 64-bit",
   "metadata": {
    "interpreter": {
     "hash": "2334294e789e06453e89f7d5c3c2573679701f9bb5b76ad2158f91cca5c9244c"
    }
   }
  }
 },
 "nbformat": 4,
 "nbformat_minor": 2,
 "cells": [
  {
   "source": [
    "    Τμήμα Πληροφορικής και Τηλεπικοινωνιών - Άρτα \n",
    "    Πανεπιστήμιο Ιωαννίνων \n",
    "\n",
    "    Γκόγκος Χρήστος \n",
    "    http://chgogos.github.io/\n",
    "    Εαρινό εξάμηνο 2020-2021"
   ],
   "cell_type": "markdown",
   "metadata": {}
  },
  {
   "source": [
    "# Εργαστήριο 1"
   ],
   "cell_type": "markdown",
   "metadata": {}
  },
  {
   "source": [
    "## Άσκηση 1\n",
    "Ποια είναι τα 5 πρώτα ψηφία του αποτελέσματος που προκύπτει από την ακόλουθη πράξη;\n",
    "\n",
    "<img src=\"https://render.githubusercontent.com/render/math?math=\\sqrt{\\frac{2^{101}}{\\pi^{53} %2B 11^{17}}}\" width=\"100\">"
   ],
   "cell_type": "markdown",
   "metadata": {}
  },
  {
   "cell_type": "code",
   "execution_count": 22,
   "metadata": {},
   "outputs": [
    {
     "output_type": "stream",
     "name": "stdout",
     "text": [
      "106.54747304668045\n"
     ]
    }
   ],
   "source": [
    "import math\n",
    "x = math.sqrt(2**101/(math.pi**53 + 11**17))\n",
    "print(x)\n",
    "\n",
    "# τα 5 πρώτα ψηφία του αποτελέσματος είναι 1,0,6,5 και 4"
   ]
  },
  {
   "source": [
    "## Άσκηση 2\n",
    "Γράψτε τις εντολές με τις οποίες μπορούμε να παράξουμε από το κείμενο \"Τμήμα Πληροφορικής και Τηλεπικοινωνιών\" το κείμενο.\n",
    "\n",
    "ΠΛΗΡΟΦΟΡΙΚΉΣ & ΤΗΛΕΠΙΚΟΙΝΩΝΙΏΝ - ΠΛΗΡΟΦΟΡΙΚΉΣ & ΤΗΛΕΠΙΚΟΙΝΩΝΙΏΝ - ΠΛΗΡΟΦΟΡΙΚΉΣ & ΤΗΛΕΠΙΚΟΙΝΩΝΙΏΝ - ΠΛΗΡΟΦΟΡΙΚΉΣ & ΤΗΛΕΠΙΚΟΙΝΩΝΙΏΝ - ΠΛΗΡΟΦΟΡΙΚΉΣ & ΤΗΛΕΠΙΚΟΙΝΩΝΙΏΝ"
   ],
   "cell_type": "markdown",
   "metadata": {}
  },
  {
   "cell_type": "code",
   "execution_count": 3,
   "metadata": {},
   "outputs": [
    {
     "output_type": "execute_result",
     "data": {
      "text/plain": [
       "'ΠΛΗΡΟΦΟΡΙΚΉΣ & ΤΗΛΕΠΙΚΟΙΝΩΝΙΏΝ - ΠΛΗΡΟΦΟΡΙΚΉΣ & ΤΗΛΕΠΙΚΟΙΝΩΝΙΏΝ - ΠΛΗΡΟΦΟΡΙΚΉΣ & ΤΗΛΕΠΙΚΟΙΝΩΝΙΏΝ - ΠΛΗΡΟΦΟΡΙΚΉΣ & ΤΗΛΕΠΙΚΟΙΝΩΝΙΏΝ - ΠΛΗΡΟΦΟΡΙΚΉΣ & ΤΗΛΕΠΙΚΟΙΝΩΝΙΏΝ'"
      ]
     },
     "metadata": {},
     "execution_count": 3
    }
   ],
   "source": [
    "s = \"Τμήμα Πληροφορικής και Τηλεπικοινωνιών\"\n",
    "((s[6:19]+'&'+s[-16:]+\" - \").upper()*5)[:-3] # 44 χαρακτήρες"
   ]
  },
  {
   "source": [
    "## Άσκηση 3\n",
    "\n",
    "1. Δώστε ένα παράδειγμα πλειάδας με 3 ακέραιες τιμές.\n",
    "2. Δώστε ένα παράδειγμα λίστας με 1 ακέραιο, 1 πραγματικό και 1 λεκτικό. Προσθέστε στη λίστα ως στοιχείο την πλειάδα\n",
    "3. Δώστε ένα παράδειγμα λεξικού με κλειδιά λεκτικά και τιμές ζεύγη πραγματικών τιμών. Εντοπίστε τις [γεωγραφικές συντεταγμένες](https://www.maps.ie/coordinates.html) (πλάτος και μήκος) της Άρτας, των Ιωαννίνων, της Πρέβεζας και της Ηγουμενίτσας και εισάγετε στο λεξικό εγγραφές με κλειδί το όνομα της πόλης και τιμές τις αντίστοιχες πλειάδες."
   ],
   "cell_type": "markdown",
   "metadata": {}
  },
  {
   "cell_type": "code",
   "execution_count": 38,
   "metadata": {},
   "outputs": [
    {
     "output_type": "stream",
     "name": "stdout",
     "text": [
      "(5, 10, 17)\n[1, 3.5, 'arta', (5, 10, 17)]\n{'arta': (39.161555, 20.9858503), 'ioannina': (39.6097822, 20.9264579), 'preveza': (38.959267, 20.751715), 'igoumenitsa': (39.5045294, 20.2650921)}\n"
     ]
    }
   ],
   "source": [
    "t = (5,10,17)\n",
    "print(t)\n",
    "l = [1, 3.5, 'arta']\n",
    "l.append(t)\n",
    "print(l)\n",
    "d = {}\n",
    "d[\"arta\"] = (39.161555, 20.9858503)\n",
    "d[\"ioannina\"] = (39.6097822, 20.9264579)\n",
    "d[\"preveza\"] = (38.959267, 20.751715)\n",
    "d[\"igoumenitsa\"] = (39.5045294, 20.2650921)\n",
    "print(d)"
   ]
  },
  {
   "source": [
    "# Εργαστήριο 2"
   ],
   "cell_type": "markdown",
   "metadata": {}
  },
  {
   "source": [
    "## Άσκηση 1\n",
    "\n",
    "Γράψτε ένα πρόγραμμα που να δέχεται ένα κείμενο και να επιστρέφει τη λέξη του κειμένου με το μεγαλύτερο μήκος. Αν υπάρχουν περισσότερες από μια λέξεις με το ίδιο μεγαλύτερο μήκος εμφανίστε μια οποιαδήποτε από αυτές. Προσπαθήστε να δώσετε τη συντομότερη λύση. "
   ],
   "cell_type": "markdown",
   "metadata": {}
  },
  {
   "cell_type": "code",
   "execution_count": 35,
   "metadata": {},
   "outputs": [],
   "source": [
    "txt = \"\"\"\n",
    "Το Lorem Ipsum είναι απλά ένα κείμενο χωρίς νόημα για τους επαγγελματίες της τυπογραφίας και στοιχειοθεσίας Το Lorem Ipsum είναι το επαγγελματικό πρότυπο όσον αφορά το κείμενο χωρίς νόημα, από τον 15ο αιώνα, όταν ένας ανώνυμος τυπογράφος πήρε ένα δοκίμιο και ανακάτεψε τις λέξεις για να δημιουργήσει ένα δείγμα βιβλίου Όχι μόνο επιβίωσε πέντε αιώνες αλλά κυριάρχησε στην ηλεκτρονική στοιχειοθεσία παραμένοντας με κάθε τρόπο αναλλοίωτο Έγινε δημοφιλές τη δεκαετία του '60 με την έκδοση των δειγμάτων της Letraset όπου περιελάμβαναν αποσπάσματα του Lorem Ipsum και πιο πρόσφατα με το λογισμικό ηλεκτρονικής σελιδοποίησης όπως το Aldus PageMaker που περιείχαν εκδοχές του Lorem Ipsum\n",
    "\"\"\"\n",
    "words = txt.split(' ')"
   ]
  },
  {
   "cell_type": "code",
   "execution_count": 36,
   "metadata": {},
   "outputs": [
    {
     "output_type": "stream",
     "name": "stdout",
     "text": [
      "στοιχειοθεσίας\n"
     ]
    }
   ],
   "source": [
    "# Α' λύση\n",
    "longest = ''\n",
    "for w in words: \n",
    "    if len(w)>len(longest):\n",
    "        longest = w\n",
    "print(longest)"
   ]
  },
  {
   "cell_type": "code",
   "execution_count": 37,
   "metadata": {},
   "outputs": [
    {
     "output_type": "stream",
     "name": "stdout",
     "text": [
      "στοιχειοθεσίας\n"
     ]
    }
   ],
   "source": [
    "# Α' λύση (συντομότερη)\n",
    "longest = max(words, key=len)\n",
    "print(longest)"
   ]
  },
  {
   "cell_type": "code",
   "execution_count": 38,
   "metadata": {},
   "outputs": [
    {
     "output_type": "stream",
     "name": "stdout",
     "text": [
      "14 ['στοιχειοθεσίας']\n13 ['επαγγελματίες', 'επαγγελματικό', 'στοιχειοθεσία', 'περιελάμβαναν', 'σελιδοποίησης']\n12 ['δημιουργήσει', 'παραμένοντας', 'ηλεκτρονικής']\n11 ['τυπογραφίας', 'ηλεκτρονική', 'αποσπάσματα']\n10 ['τυπογράφος', 'κυριάρχησε', 'αναλλοίωτο']\n9 ['ανακάτεψε', 'δημοφιλές', 'δειγμάτων', 'λογισμικό', 'PageMaker', 'περιείχαν']\n8 ['ανώνυμος', 'επιβίωσε', 'δεκαετία', 'Letraset', 'πρόσφατα']\n7 ['κείμενο', 'πρότυπο', 'κείμενο', 'δοκίμιο', 'βιβλίου', 'εκδοχές']\n6 ['νόημα,', 'αιώνα,', 'λέξεις', 'δείγμα', 'αιώνες', 'έκδοση', 'Ipsum\\n']\n5 ['Lorem', 'Ipsum', 'είναι', 'χωρίς', 'νόημα', 'Lorem', 'Ipsum', 'είναι', 'αφορά', 'χωρίς', 'πέντε', 'τρόπο', 'Έγινε', 'Lorem', 'Ipsum', 'Aldus', 'Lorem']\n4 ['απλά', 'τους', 'όσον', 'όταν', 'ένας', 'πήρε', 'μόνο', 'αλλά', 'στην', 'κάθε', 'όπου', 'όπως']\n3 ['\\nΤο', 'ένα', 'για', 'της', 'και', 'από', 'τον', '15ο', 'ένα', 'και', 'τις', 'για', 'ένα', 'Όχι', 'του', \"'60\", 'την', 'των', 'της', 'του', 'και', 'πιο', 'που', 'του']\n2 ['Το', 'το', 'το', 'να', 'με', 'τη', 'με', 'με', 'το', 'το']\n1 []\n"
     ]
    }
   ],
   "source": [
    "# Εμφάνιση όλων των λέξεων με βάση το μέγεθός τους ξεκινώντας από τις μεγαλύτερες σε μήκος και συνεχίζοντας προς τις μικρότερες σε μήκος\n",
    "\n",
    "for length in range(len(longest), 0, -1):\n",
    "    a_list = [x for x in words if len(x)==length]\n",
    "    print(length, a_list)"
   ]
  },
  {
   "source": [
    "## Άσκηση 2\n",
    "\n",
    "Για την ακόλουθη λίστα τιμών 56, 37, 77, 90, 16, 11 γράψτε comprehensions που να κάνουν τα ακόλουθα:\n",
    "\n",
    "1. Να δημιουργεί νέα λίστα μόνο με τις τιμές που είναι μεγαλύτερες από το μέσο όρο των τιμών\n",
    "2. Να δημιουργεί νέα λίστα με ζεύγη τιμών που το πρώτο στοιχείο κάθε ζεύγους να είναι η ίδια τιμή και δεύτερο στοιχείο μια λογική τιμή με τιμή True αν η τιμή είναι άρτια αλλιώς η τιμή False\n",
    "2. Να δημιουργεί νέα λίστα με τα ψηφία κάθε τιμής σε αντίστροφη σειρά"
   ],
   "cell_type": "markdown",
   "metadata": {}
  },
  {
   "cell_type": "code",
   "execution_count": 13,
   "metadata": {},
   "outputs": [
    {
     "output_type": "stream",
     "name": "stdout",
     "text": [
      "[56, 77, 90]\n"
     ]
    }
   ],
   "source": [
    "a = [56, 37, 77, 90, 16, 11]\n",
    "\n",
    "b = [x for x in a if x > sum(a)/len(a)]\n",
    "print(b)"
   ]
  },
  {
   "cell_type": "code",
   "execution_count": 15,
   "metadata": {},
   "outputs": [
    {
     "output_type": "execute_result",
     "data": {
      "text/plain": [
       "[(56, True), (37, False), (77, False), (90, True), (16, True), (11, False)]"
      ]
     },
     "metadata": {},
     "execution_count": 15
    }
   ],
   "source": [
    "c = [(x, x%2==0) for x in a]\n",
    "c"
   ]
  },
  {
   "cell_type": "code",
   "execution_count": 22,
   "metadata": {},
   "outputs": [
    {
     "output_type": "execute_result",
     "data": {
      "text/plain": [
       "[65, 73, 77, 9, 61, 11]"
      ]
     },
     "metadata": {},
     "execution_count": 22
    }
   ],
   "source": [
    "d = [int(str(x)[::-1]) for x in a]\n",
    "d"
   ]
  },
  {
   "source": [
    "## Άσκηση 3\n",
    "Κατεβάστε σε txt μορφή το βιβλίο Μεταμόρφωση του Φ. Κάφκα από το <https://www.gutenberg.org/ebooks/5200>. Υπολογίστε το ποσοστό εμφάνισης του κάθε χαρακτήρα από Α μέχρι και Ζ μέσα στο κείμενο. Ποιοι είναι οι 3 χαρακτήρες που εμφανίζονται συχνότερα;\n",
    "\n",
    "Δείτε και το <https://stackoverflow.com/questions/3169051/build-an-ascii-chart-of-the-most-commonly-used-words-in-a-given-text#3170549>"
   ],
   "cell_type": "markdown",
   "metadata": {}
  },
  {
   "cell_type": "code",
   "execution_count": 2,
   "metadata": {},
   "outputs": [
    {
     "output_type": "execute_result",
     "data": {
      "text/plain": [
       "'A'"
      ]
     },
     "metadata": {},
     "execution_count": 2
    }
   ],
   "source": [
    "chr(66)"
   ]
  },
  {
   "cell_type": "code",
   "execution_count": 60,
   "metadata": {},
   "outputs": [
    {
     "output_type": "stream",
     "name": "stdout",
     "text": [
      "A 7.55%\nB 1.48%\nC 2.06%\nD 4.48%\nE 12.74%\nF 2.25%\nG 2.53%\nH 7.60%\nI 6.42%\nJ 0.10%\nK 0.82%\nL 4.21%\nM 2.45%\nN 6.33%\nO 8.00%\nP 1.35%\nQ 0.10%\nR 5.85%\nS 6.08%\nT 9.66%\nU 2.64%\nV 0.88%\nW 2.54%\nX 0.11%\nY 1.75%\nZ 0.02%\n"
     ]
    }
   ],
   "source": [
    "letters = {}\n",
    "for c in range(ord('A'), ord('Z')+1):\n",
    "    letters[chr(c)]=0\n",
    "\n",
    "with open(\"../../../datasets/metamorphosis.txt\", \"r\") as f:\n",
    "    for line in f:\n",
    "        for c in line.upper():\n",
    "            if c in letters:\n",
    "                letters[c] += 1\n",
    "\n",
    "total = sum(letters.values())\n",
    "for k in letters:\n",
    "    print(f'{k} {letters[k]/total* 100:.2f}%')"
   ]
  },
  {
   "cell_type": "code",
   "execution_count": null,
   "metadata": {},
   "outputs": [],
   "source": []
  }
 ]
}