{
 "metadata": {
  "language_info": {
   "codemirror_mode": {
    "name": "ipython",
    "version": 3
   },
   "file_extension": ".py",
   "mimetype": "text/x-python",
   "name": "python",
   "nbconvert_exporter": "python",
   "pygments_lexer": "ipython3",
   "version": "3.8.0"
  },
  "orig_nbformat": 2,
  "kernelspec": {
   "name": "python380jvsc74a57bd02334294e789e06453e89f7d5c3c2573679701f9bb5b76ad2158f91cca5c9244c",
   "display_name": "Python 3.8.0 64-bit ('3.8.0-amd64': pyenv)"
  }
 },
 "nbformat": 4,
 "nbformat_minor": 2,
 "cells": [
  {
   "source": [
    "## Εργαστήριο 7 - Άσκηση 1\n",
    "\n",
    "** Λύση **\n",
    "\n",
    "Θα χρησιμοποιηθεί η ακόλουθη γραμματική η οποία δίνεται σε μορφή BNF.\n",
    "\n",
    "```\n",
    "TSKS      :: KEY_VALUE | COMMENT\n",
    "KEY_VALUE :: KEY \\s* '=' \\s* VALUE?\n",
    "KEY       :: \\w+\n",
    "VALUE     :: .+\n",
    "COMMENT   :: #.*\n",
    "```"
   ],
   "cell_type": "markdown",
   "metadata": {}
  },
  {
   "cell_type": "code",
   "execution_count": 1,
   "metadata": {},
   "outputs": [
    {
     "output_type": "stream",
     "name": "stdout",
     "text": [
      "key:TASK1->Job A\nkey:START2->10:00\nkey:FINISH3->10:30\nkey:TASK5->Job B\nkey:START6->NOT FOUND\nkey:FINISH7->10:40\nkey:TASK9->Job C\nkey:START10->10:40\nkey:FINISH11->11:00\nkey:TASK12->Job D\nkey:START13->NOT FOUND\nkey:FINISH14->NOT FOUND\n"
     ]
    }
   ],
   "source": [
    "import ply.lex as lex\n",
    "import ply.yacc as yacc\n",
    "\n",
    "tokens = (\"KEY\", \"VALUE\", \"COMMENT\")\n",
    "\n",
    "t_ignore = r' '\n",
    "\n",
    "t_ignore_COMMENT = r\"\\#.*\"\n",
    "\n",
    "def t_KEY(t): \n",
    "    r\"\\w+\"\n",
    "    t.value = t.value.upper() + str(t.lexer.lineno)\n",
    "    return t\n",
    "\n",
    "def t_VALUE(t):\n",
    "    r\"=.*\"\n",
    "    t.value = t.value[1:].strip()\n",
    "    if t.value == \"\":\n",
    "        t.value = \"NOT FOUND\"\n",
    "    return t\n",
    "\n",
    "def t_newline(t):\n",
    "    r\"\\n+\"\n",
    "    t.lexer.lineno += len(t.value)\n",
    "\n",
    "def t_error(t):\n",
    "    print(f\"Illegal character {t.value[0]}\")\n",
    "    t.lexer.skip(1)\n",
    "\n",
    "file = open(\"../../../datasets/tasks_example.ini\", \"r\")\n",
    "\n",
    "__file__ = \"sols.ipynb\" \n",
    "lexer = lex.lex()\n",
    "lexer.input(file.read())\n",
    "\n",
    "tasks_dict = {}\n",
    "\n",
    "key = None\n",
    "for tok in lexer:\n",
    "    if tok.type == \"KEY\":\n",
    "        key = tok.value\n",
    "    elif tok.type == \"VALUE\":\n",
    "        if key is None:\n",
    "            print(f\"Failed to parse: value {tok.value}\")\n",
    "        else:\n",
    "            tasks_dict[key] = tok.value\n",
    "            key = None\n",
    "\n",
    "for k in tasks_dict:\n",
    "    print(f'key:{k}->{tasks_dict[k]}')"
   ]
  },
  {
   "cell_type": "code",
   "execution_count": null,
   "metadata": {},
   "outputs": [],
   "source": []
  }
 ]
}