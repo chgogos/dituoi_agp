{
 "metadata": {
  "language_info": {
   "codemirror_mode": {
    "name": "ipython",
    "version": 3
   },
   "file_extension": ".py",
   "mimetype": "text/x-python",
   "name": "python",
   "nbconvert_exporter": "python",
   "pygments_lexer": "ipython3",
   "version": "3.8.0"
  },
  "orig_nbformat": 2,
  "kernelspec": {
   "name": "python380jvsc74a57bd02334294e789e06453e89f7d5c3c2573679701f9bb5b76ad2158f91cca5c9244c",
   "display_name": "Python 3.8.0 64-bit ('3.8.0-amd64': pyenv)"
  }
 },
 "nbformat": 4,
 "nbformat_minor": 2,
 "cells": [
  {
   "source": [
    "## Εργαστήριο 7 - Άσκηση 2β\n",
    "\n",
    "Advent of Code - Problem 18 (phase B)"
   ],
   "cell_type": "markdown",
   "metadata": {}
  },
  {
   "cell_type": "code",
   "execution_count": 1,
   "metadata": {},
   "outputs": [
    {
     "output_type": "stream",
     "name": "stdout",
     "text": [
      "LexToken(NUMBER,1,1,0)\nLexToken(PLUS,'+',1,2)\nLexToken(LPAREN,'(',1,4)\nLexToken(NUMBER,2,1,5)\nLexToken(TIMES,'*',1,7)\nLexToken(NUMBER,3,1,9)\nLexToken(RPAREN,')',1,10)\nLexToken(PLUS,'+',1,12)\nLexToken(LPAREN,'(',1,14)\nLexToken(NUMBER,4,1,15)\nLexToken(TIMES,'*',1,17)\nLexToken(LPAREN,'(',1,19)\nLexToken(NUMBER,5,1,20)\nLexToken(PLUS,'+',1,22)\nLexToken(NUMBER,6,1,24)\nLexToken(RPAREN,')',1,25)\nLexToken(RPAREN,')',1,26)\n"
     ]
    }
   ],
   "source": [
    "import ply.lex as lex\n",
    "\n",
    "tokens = (\n",
    "   'NUMBER',\n",
    "   'PLUS',\n",
    "   'TIMES',\n",
    "   'LPAREN',\n",
    "   'RPAREN',\n",
    ")\n",
    "\n",
    "t_PLUS    = r'\\+'\n",
    "t_TIMES   = r'\\*'\n",
    "t_LPAREN  = r'\\('\n",
    "t_RPAREN  = r'\\)'\n",
    "\n",
    "def t_NUMBER(t):\n",
    "    r'\\d'\n",
    "    t.value = int(t.value)    \n",
    "    return t\n",
    "\n",
    "t_ignore  = ' \\t\\n'\n",
    "\n",
    "def t_error(t):\n",
    "    print(\"Illegal character '%s'\" % t.value[0])\n",
    "    t.lexer.skip(1)\n",
    "\n",
    "__file__ = \"sols7_2b.ipynb\" \n",
    "lexer = lex.lex()\n",
    "\n",
    "data = '1 + (2 * 3) + (4 * (5 + 6))'\n",
    "\n",
    "lexer.input(data)\n",
    " \n",
    "for tok in lexer:\n",
    "    print(tok)"
   ]
  },
  {
   "cell_type": "code",
   "execution_count": 2,
   "metadata": {},
   "outputs": [
    {
     "output_type": "stream",
     "name": "stderr",
     "text": [
      "Generating LALR tables\n"
     ]
    },
    {
     "output_type": "execute_result",
     "data": {
      "text/plain": [
       "23340"
      ]
     },
     "metadata": {},
     "execution_count": 2
    }
   ],
   "source": [
    "import ply.yacc as yacc\n",
    "\n",
    "precedence = (\n",
    "     ('left', 'TIMES'),\n",
    "     ('left', 'PLUS'),\n",
    " )\n",
    "\n",
    "def p_expression_plus(p):\n",
    "     'expression : expression PLUS expression'\n",
    "     p[0] = p[1] + p[3]\n",
    "\n",
    "def p_expression_times(p):\n",
    "     'expression : expression TIMES expression'\n",
    "     p[0] = p[1] * p[3]\n",
    "\n",
    "def p_expression_term(p):\n",
    "     'expression : term'\n",
    "     p[0] = p[1]\n",
    "\n",
    "def p_term_num(p):\n",
    "     'term : NUMBER'\n",
    "     p[0] = p[1]\n",
    "\n",
    "def p_term_expression(p):\n",
    "     'term : LPAREN expression RPAREN'\n",
    "     p[0] = p[2]\n",
    "\n",
    "# Error rule for syntax errors\n",
    "def p_error(p):\n",
    "     print(\"Syntax error in input!\")\n",
    "\n",
    "# Build the parser\n",
    "parser = yacc.yacc(write_tables=False)\n",
    "\n",
    "# data = '1 + 2 * 3 + 4 * 5 + 6' # 231\n",
    "# data = '1 + (2 * 3) + (4 * (5 + 6))' # 51\n",
    "data = '((2 + 4 * 9) * (6 + 9 * 8 + 6) + 6) + 2 + 4 * 2' # 23340\n",
    "parser.parse(data)"
   ]
  },
  {
   "cell_type": "code",
   "execution_count": 3,
   "metadata": {
    "tags": []
   },
   "outputs": [
    {
     "output_type": "stream",
     "name": "stdout",
     "text": [
      "340789638435483\n"
     ]
    }
   ],
   "source": [
    "# advent2020 - problem18\n",
    "sum = 0\n",
    "with open(\"../../../datasets/advent2020_18.txt\") as fin:\n",
    "    for line in fin:\n",
    "        sum += parser.parse(line)\n",
    "print(sum)"
   ]
  },
  {
   "cell_type": "code",
   "execution_count": null,
   "metadata": {},
   "outputs": [],
   "source": []
  }
 ]
}