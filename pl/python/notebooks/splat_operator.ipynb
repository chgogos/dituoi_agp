{
 "cells": [
  {
   "cell_type": "markdown",
   "metadata": {},
   "source": [
    "# Arbitrary argument lists\n",
    "\n",
    "variadic arguments\n",
    "\n",
    "splat operator"
   ]
  },
  {
   "cell_type": "markdown",
   "metadata": {},
   "source": []
  },
  {
   "cell_type": "code",
   "execution_count": 2,
   "metadata": {},
   "outputs": [
    {
     "name": "stdout",
     "output_type": "stream",
     "text": [
      "30\n",
      "2450\n"
     ]
    }
   ],
   "source": [
    "def fun(q, *args):\n",
    "    \"\"\"sum variadic arguments that are divided by argument q\"\"\"\n",
    "    s = 0\n",
    "    for x in args:\n",
    "        if x % q == 0:\n",
    "            s += x\n",
    "    return s\n",
    "\n",
    "print(fun(2, 1, 2, 3, 4, 5, 6, 7, 8, 9, 10))\n",
    "\n",
    "# unpack argument list\n",
    "print(fun(2, *range(100)))\n"
   ]
  },
  {
   "cell_type": "code",
   "execution_count": null,
   "metadata": {},
   "outputs": [],
   "source": []
  }
 ],
 "metadata": {
  "kernelspec": {
   "display_name": "Python 3.8.13 ('myenv')",
   "language": "python",
   "name": "python3"
  },
  "language_info": {
   "codemirror_mode": {
    "name": "ipython",
    "version": 3
   },
   "file_extension": ".py",
   "mimetype": "text/x-python",
   "name": "python",
   "nbconvert_exporter": "python",
   "pygments_lexer": "ipython3",
   "version": "3.8.13"
  },
  "orig_nbformat": 4,
  "vscode": {
   "interpreter": {
    "hash": "974659bc90c8ddddc11b19c7e94fd91162a2277b0607bb1c923d993f45e68608"
   }
  }
 },
 "nbformat": 4,
 "nbformat_minor": 2
}
