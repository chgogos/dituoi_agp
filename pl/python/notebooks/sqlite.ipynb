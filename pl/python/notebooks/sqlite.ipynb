{
 "cells": [
  {
   "cell_type": "markdown",
   "metadata": {},
   "source": [
    "    Τμήμα Πληροφορικής και Τηλεπικοινωνιών - Άρτα \n",
    "    Πανεπιστήμιο Ιωαννίνων \n",
    "\n",
    "    Γκόγκος Χρήστος \n",
    "    http://chgogos.github.io/\n",
    "    \n",
    "    Τελευταία ενημέρωση: 2/4/2022"
   ]
  },
  {
   "cell_type": "markdown",
   "metadata": {},
   "source": [
    "# sqlite3"
   ]
  },
  {
   "cell_type": "code",
   "execution_count": null,
   "metadata": {},
   "outputs": [],
   "source": [
    "import sqlite3\n",
    "conn = sqlite3.connect(\"phoneboook.db\")\n",
    "cursor = conn.cursor()\n",
    "\n",
    "# δημιουργία πίνακα CONTACTS\n",
    "cursor.execute(\"\"\"\n",
    "    CREATE TABLE CONTACTS (\n",
    "        ID INTEGER NOT NULL,\n",
    "        NAME TEXT NOT NULL,\n",
    "        EMAIL TEXT\n",
    "        PRIMARY KEY(ID));\n",
    "    \"\"\")\n",
    "\n",
    "# δημιουργία πίνακα CALLS\n",
    "\n",
    "\n",
    "conn.commit()\n",
    "conn.close()"
   ]
  },
  {
   "cell_type": "code",
   "execution_count": null,
   "metadata": {},
   "outputs": [],
   "source": [
    "# εισαγωγή εγγραφών απευθείας με εντολή sql\n",
    "\n",
    "conn = sqlite3.connect(\"phoneboook.db\")\n",
    "cursor = conn.cursor()\n",
    "\n",
    "cursor.execute(\"\"\"\n",
    "                INSERT INTO CONTACTS(ID, NAME, EMAIL) \n",
    "                VALUES \n",
    "                (1, \"Nikos\", \"nikos@gmail.com\");\n",
    "                \"\"\")\n",
    "\n",
    "conn.commit()"
   ]
  },
  {
   "cell_type": "code",
   "execution_count": null,
   "metadata": {},
   "outputs": [],
   "source": [
    "# χειρισμός εξαίρεσης για εσφαλμένη εισαγωγή\n",
    "\n",
    "try:\n",
    "    cursor.execute(\"\"\"\n",
    "                INSERT INTO CONTACTS(ID, NAME, EMAIL) \n",
    "                VALUES \n",
    "                (1, \"Nikos\", \"nikos@gmail.com\");\n",
    "                \"\"\")\n",
    "    conn.commit()\n",
    "except sqlite3.Error as error:\n",
    "    print(\"Η εισαγωγή δεν έγινε\", error)"
   ]
  },
  {
   "cell_type": "code",
   "execution_count": null,
   "metadata": {},
   "outputs": [],
   "source": [
    "# εισαγωγή εγγραφών με host variables\n",
    "\n",
    "record = (2,\"Maria\", \"maria@gmail.com\")\n",
    "sql_stmt = \"\"\"INSERT INTO CONTACTS(ID, NAME, EMAIL) VALUES (?,?,?)\"\"\"\n",
    "\n",
    "cursor.execute(sql_stmt, record)\n",
    "conn.commit()"
   ]
  },
  {
   "cell_type": "code",
   "execution_count": null,
   "metadata": {},
   "outputs": [],
   "source": [
    "# μαζική εισαγωγή εγγραφών\n",
    "\n",
    "records = [(3, \"Kostas\", None),(4, \"Ioanna\", None)]\n",
    "sql_stmt = \"\"\"INSERT INTO CONTACTS(ID, NAME, EMAIL) VALUES (?,?,?)\"\"\"\n",
    "\n",
    "cursor.executemany(sql_stmt, records)\n",
    "conn.commit()"
   ]
  },
  {
   "cell_type": "code",
   "execution_count": null,
   "metadata": {},
   "outputs": [],
   "source": [
    "# διαγραφή εγγραφής\n",
    "\n",
    "sql_stmt = \"DELETE FROM CONTACTS WHERE ID=1\"\n",
    "\n",
    "cursor.execute(sql_stmt)\n",
    "\n",
    "if cursor.rowcount == 0:\n",
    "    print(\"Δεν έγινε η διαγραφή\")\n",
    "else:\n",
    "    print(f\"Πραγματοποιήθηκε διαγραφή {cursor.rowcount} εγγραφών\")\n",
    "conn.commit()"
   ]
  },
  {
   "cell_type": "code",
   "execution_count": null,
   "metadata": {},
   "outputs": [],
   "source": [
    "# διαγραφή εγγραφών με χρήση host variables"
   ]
  },
  {
   "cell_type": "code",
   "execution_count": null,
   "metadata": {},
   "outputs": [],
   "source": [
    "# μαζική διαγραφή εγγραφών"
   ]
  },
  {
   "cell_type": "code",
   "execution_count": null,
   "metadata": {},
   "outputs": [],
   "source": [
    "# ενημέρωση εγγραφών\n",
    "\n",
    "sql_stmt = \"\"\"UPDATE CONTACTS SET EMAIL=\"new@email.com\" WHERE ID=4\"\"\"\n",
    "\n",
    "cursor.execute(sql_stmt)\n",
    "conn.commit()"
   ]
  },
  {
   "cell_type": "code",
   "execution_count": null,
   "metadata": {},
   "outputs": [],
   "source": [
    "# ενημέρωση πολλών εγγραφών"
   ]
  },
  {
   "cell_type": "code",
   "execution_count": null,
   "metadata": {},
   "outputs": [],
   "source": [
    "# επιλογή εγγραφών\n",
    "\n",
    "sql_stmt=\"\"\"...\"\"\"\n",
    "cursor.execute(sql_stmt)\n",
    "rows = cursor.fetchall()\n",
    "for row in rows:\n",
    "    print(row[0], row[1], row[2])"
   ]
  }
 ],
 "metadata": {
  "interpreter": {
   "hash": "f40a6e13c37d34a8e08b5b5c92d22f0cb84668e50c3976fc188360a208488fc1"
  },
  "kernelspec": {
   "display_name": "Python 3.8.13 ('myenv')",
   "language": "python",
   "name": "python3"
  },
  "language_info": {
   "codemirror_mode": {
    "name": "ipython",
    "version": 3
   },
   "file_extension": ".py",
   "mimetype": "text/x-python",
   "name": "python",
   "nbconvert_exporter": "python",
   "pygments_lexer": "ipython3",
   "version": "3.8.13"
  },
  "orig_nbformat": 4
 },
 "nbformat": 4,
 "nbformat_minor": 2
}
