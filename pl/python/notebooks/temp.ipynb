{
 "cells": [
  {
   "cell_type": "code",
   "execution_count": null,
   "metadata": {},
   "outputs": [],
   "source": [
    "# η χρήση του _ για τη λήψη του τελευταίου αποτελέσματος\n",
    "\n",
    "x = 2**20\n",
    "_"
   ]
  },
  {
   "cell_type": "code",
   "execution_count": 20,
   "metadata": {},
   "outputs": [
    {
     "name": "stdout",
     "output_type": "stream",
     "text": [
      "1.6449240667982423\n",
      "25.8 ms ± 190 µs per loop (mean ± std. dev. of 7 runs, 10 loops each)\n",
      "857 µs ± 5.58 µs per loop (mean ± std. dev. of 7 runs, 1000 loops each)\n",
      "1.644924066798227\n"
     ]
    }
   ],
   "source": [
    "# Χρονομέτρηση κώδικα με το timeit\n",
    "\n",
    "n = 100000\n",
    "print(sum([1.0 / i ** 2 for i in range(1, n)]))\n",
    "%timeit sum([1. / i**2 for i in range(1,n)])\n",
    "\n",
    "import numpy as np\n",
    "\n",
    "%timeit np.sum(1. / np.arange(1.,n) ** 2)\n",
    "print(np.sum(1.0 / np.arange(1.0, n) ** 2))"
   ]
  },
  {
   "cell_type": "code",
   "execution_count": null,
   "metadata": {},
   "outputs": [],
   "source": [
    "# disassembler\n",
    "\n",
    "import dis\n",
    "\n",
    "\n",
    "def func(alist):\n",
    "    return len(alist)\n",
    "\n",
    "\n",
    "dis.dis(func)"
   ]
  },
  {
   "cell_type": "code",
   "execution_count": null,
   "metadata": {},
   "outputs": [],
   "source": [
    "# ισοδυναμία συναρτήσεων και λάμδα συναρτήσεων\n",
    "\n",
    "import dis\n",
    "\n",
    "\n",
    "def func(x, y):\n",
    "    return x + y\n",
    "\n",
    "\n",
    "print(dis.dis(func))\n",
    "\n",
    "f = lambda x, y: x + y\n",
    "\n",
    "print(dis.dis(f))"
   ]
  },
  {
   "cell_type": "code",
   "execution_count": 23,
   "metadata": {},
   "outputs": [
    {
     "name": "stderr",
     "output_type": "stream",
     "text": [
      "19:49:39 Αυτό είναι ένα μήνυμα INFO\n"
     ]
    }
   ],
   "source": [
    "import logging\n",
    "\n",
    "logging.basicConfig(format=\"%(asctime)s %(message)s\", datefmt=\"%H:%M:%S\")\n",
    "logger = logging.getLogger()\n",
    "logger.setLevel(logging.INFO)\n",
    "logger.info(\"Αυτό είναι ένα μήνυμα INFO\")"
   ]
  },
  {
   "cell_type": "code",
   "execution_count": null,
   "metadata": {},
   "outputs": [],
   "source": [
    "import sys\n",
    "\n",
    "print(sys.executable)"
   ]
  },
  {
   "source": [
    "## References\n"
   ],
   "cell_type": "markdown",
   "metadata": {}
  },
  {
   "cell_type": "code",
   "execution_count": 39,
   "metadata": {},
   "outputs": [
    {
     "output_type": "stream",
     "name": "stdout",
     "text": [
      "[42, 0, 0, 0]\n[42, 0, 0, 0]\n"
     ]
    }
   ],
   "source": [
    "a = [0,0,0,0]\n",
    "b = a # το b και το a δείχνουν στο ίδιο αντικείμενο\n",
    "b[0]=42\n",
    "print(a)\n",
    "print(b)"
   ]
  },
  {
   "source": [
    "## 2D arrays\n",
    "\n",
    "https://www.geeksforgeeks.org/python-using-2d-arrays-lists-the-right-way/"
   ],
   "cell_type": "markdown",
   "metadata": {}
  },
  {
   "cell_type": "code",
   "execution_count": 41,
   "metadata": {},
   "outputs": [
    {
     "output_type": "stream",
     "name": "stdout",
     "text": [
      "[1, 2, 0, 0, 0]\n"
     ]
    }
   ],
   "source": [
    "# Μονοδιάστατος πίνακας\n",
    "N = 5\n",
    "a = [0] * N\n",
    "a[0] = 1\n",
    "a[1] = 2\n",
    "print(a)"
   ]
  },
  {
   "cell_type": "code",
   "execution_count": 37,
   "metadata": {},
   "outputs": [
    {
     "output_type": "stream",
     "name": "stdout",
     "text": [
      "True\n[[4, 5, 6], [4, 5, 6]]\n"
     ]
    }
   ],
   "source": [
    "# 2d arrays in Python (example: 2X3 array of ints) - μη επιθυμητό αποτέλεσμα\n",
    "# http://www.pythontutor.com/visualize.html#code=rows%20%3D%202%0Acols%20%3D%203%0Aa%20%3D%20%5B%5B0%5D%20*%20cols%5D%20*%20rows%0A%0A%23%20%CE%B7%20%CF%80%CF%81%CF%8E%CF%84%CE%B7%20%CE%BA%CE%B1%CE%B9%20%CE%B7%20%CE%B4%CE%B5%CF%8D%CF%84%CE%B5%CF%81%CE%B7%20%CE%B3%CF%81%CE%B1%CE%BC%CE%BC%CE%AE%20%CF%84%CE%BF%CF%85%20%CF%80%CE%AF%CE%BD%CE%B1%CE%BA%CE%B1%20%CE%B4%CE%B5%CE%AF%CF%87%CE%BD%CE%BF%CF%85%CE%BD%20%CF%83%CF%84%CE%BF%20%CE%AF%CE%B4%CE%B9%CE%BF%20%CE%B1%CE%BD%CF%84%CE%B9%CE%BA%CE%B5%CE%AF%CE%BC%CE%B5%CE%BD%CE%BF%0Aa%5B0%5D%5B0%5D%20%3D%201%20%0Aa%5B0%5D%5B1%5D%20%3D%202%20%0Aa%5B0%5D%5B2%5D%20%3D%203%0Aa%5B1%5D%5B0%5D%20%3D%204%0Aa%5B1%5D%5B1%5D%20%3D%205%0Aa%5B1%5D%5B2%5D%20%3D%206%0Aprint%28a%5B0%5D%3D%3Da%5B1%5D%29%20%23%20True&cumulative=false&curInstr=0&heapPrimitives=nevernest&mode=display&origin=opt-frontend.js&py=3&rawInputLstJSON=%5B%5D&textReferences=false\n",
    "\n",
    "rows = 2\n",
    "cols = 3\n",
    "a = [[0] * cols] * rows\n",
    "\n",
    "# η πρώτη και η δεύτερη γραμμή του πίνακα δείχνουν στο ίδιο αντικείμενο\n",
    "a[0][0] = 1 \n",
    "a[0][1] = 2 \n",
    "a[0][2] = 3\n",
    "a[1][0] = 4\n",
    "a[1][1] = 5\n",
    "a[1][2] = 6\n",
    "print(a[0]==a[1]) # True\n",
    "print(a)"
   ]
  },
  {
   "cell_type": "code",
   "execution_count": 38,
   "metadata": {},
   "outputs": [
    {
     "output_type": "stream",
     "name": "stdout",
     "text": [
      "False\n[[1, 2, 3], [4, 5, 6]]\n"
     ]
    }
   ],
   "source": [
    "# 2d arrays in Python (example: 2X3 array of ints)\n",
    "# http://www.pythontutor.com/visualize.html#code=%23%202d%20arrays%20in%20Python%20%28example%3A%202X3%20array%20of%20ints%29%0Arows%20%3D%202%0Acols%20%3D%203%0Aa%20%3D%20%5B%5B0%20for%20j%20in%20range%28cols%29%5D%20for%20%20i%20in%20range%28rows%29%5D%0A%23%20a%20%3D%20%5B%5B0%5D%20*%20cols%20%20for%20%20i%20in%20range%28rows%29%5D%20%23%20%CE%B7%20%CE%B5%CE%BD%CE%B1%CE%BB%CE%BB%CE%B1%CE%BA%CF%84%CE%B9%CE%BA%CE%AC%0A%0Aa%5B0%5D%5B0%5D%20%3D%201%20%0Aa%5B0%5D%5B1%5D%20%3D%202%20%0Aa%5B0%5D%5B2%5D%20%3D%203%0Aa%5B1%5D%5B0%5D%20%3D%204%0Aa%5B1%5D%5B1%5D%20%3D%205%0Aa%5B1%5D%5B2%5D%20%3D%206&cumulative=false&curInstr=0&heapPrimitives=nevernest&mode=display&origin=opt-frontend.js&py=3&rawInputLstJSON=%5B%5D&textReferences=false\n",
    "\n",
    "rows = 2\n",
    "cols = 3\n",
    "a = [[0 for j in range(cols)] for  i in range(rows)]\n",
    "# a = [[0] * cols  for  i in range(rows)] # η εναλλακτικά\n",
    "\n",
    "a[0][0] = 1 \n",
    "a[0][1] = 2 \n",
    "a[0][2] = 3\n",
    "a[1][0] = 4\n",
    "a[1][1] = 5\n",
    "a[1][2] = 6\n",
    "print(a[0]==a[1]) # False\n",
    "print(a)"
   ]
  },
  {
   "cell_type": "code",
   "execution_count": 49,
   "metadata": {},
   "outputs": [
    {
     "output_type": "stream",
     "name": "stdout",
     "text": [
      "[[1 2 3]\n [4 5 6]]\n"
     ]
    }
   ],
   "source": [
    "# 2d array με το numpy (πίνακας 2x3 με ακεραίους από το 1 μέχρι το 6)\n",
    "\n",
    "import numpy as np\n",
    "\n",
    "a = np.empty((2,3), dtype=np.int32)\n",
    "a[0][0] = 1 \n",
    "a[0][1] = 2 \n",
    "a[0][2] = 3\n",
    "a[1][0] = 4\n",
    "a[1][1] = 5\n",
    "a[1][2] = 6\n",
    "print(a)"
   ]
  },
  {
   "cell_type": "code",
   "execution_count": 58,
   "metadata": {},
   "outputs": [
    {
     "output_type": "stream",
     "name": "stdout",
     "text": [
      "[[1 2 3]\n [4 5 6]]\n"
     ]
    }
   ],
   "source": [
    "# 2d array με το numpy (πίνακας 2x3 με ακεραίους από το 1 μέχρι το 6)\n",
    "\n",
    "import numpy as np\n",
    "\n",
    "a = np.zeros((2,3), dtype=np.int32)\n",
    "a[0][0] = 1 \n",
    "a[0][1] = 2 \n",
    "a[0][2] = 3\n",
    "a[1][0] = 4\n",
    "a[1][1] = 5\n",
    "a[1][2] = 6\n",
    "print(a)"
   ]
  },
  {
   "cell_type": "code",
   "execution_count": 59,
   "metadata": {},
   "outputs": [
    {
     "output_type": "stream",
     "name": "stdout",
     "text": [
      "[[1 2 3]\n [4 5 6]]\n"
     ]
    }
   ],
   "source": [
    "# 2d array με το numpy (πίνακας 2x3 με ακεραίους από το 1 μέχρι το 6)\n",
    "\n",
    "a = np.arange(1,7).reshape(2,3)\n",
    "print(a)"
   ]
  },
  {
   "cell_type": "code",
   "execution_count": 1,
   "metadata": {},
   "outputs": [
    {
     "output_type": "stream",
     "name": "stdout",
     "text": [
      "3\n3\n4\n"
     ]
    }
   ],
   "source": [
    "# magic methods (dunders)\n",
    "\n",
    "print(1 + 2)\n",
    "\n",
    "print(int.__add__(1, 2))\n",
    "\n",
    "print(\"test\".__len__())"
   ]
  },
  {
   "cell_type": "code",
   "execution_count": 8,
   "metadata": {},
   "outputs": [
    {
     "output_type": "stream",
     "name": "stdout",
     "text": [
      "100,000,000\n"
     ]
    }
   ],
   "source": [
    "# μεγάλοι αριθμοί (_ για το διαχωρισμό ψηφίων)\n",
    "\n",
    "x = 100_000_000\n",
    "print(f'{x:,}')"
   ]
  },
  {
   "cell_type": "code",
   "execution_count": 9,
   "metadata": {},
   "outputs": [
    {
     "output_type": "stream",
     "name": "stdout",
     "text": [
      "a 10\nb 20\nc 30\n"
     ]
    }
   ],
   "source": [
    "# zip\n",
    "\n",
    "a_list = ['a', 'b', 'c']\n",
    "b_list = [10,20,30]\n",
    "\n",
    "for a,b in zip(a_list, b_list):\n",
    "    print(a,b)"
   ]
  },
  {
   "cell_type": "code",
   "execution_count": 15,
   "metadata": {},
   "outputs": [
    {
     "output_type": "stream",
     "name": "stdout",
     "text": [
      "1 3\n1 2 [3, 4, 5]\n1 2 5\n"
     ]
    }
   ],
   "source": [
    "# αγνόηση τιμής\n",
    "\n",
    "x, _, y = 1,2,3\n",
    "\n",
    "print(x,y)\n",
    "\n",
    "x,y,*z = (1,2,3,4,5)\n",
    "\n",
    "print(x,y,z)\n",
    "\n",
    "x,y,*_, z = (1,2,3,4,5)\n",
    "print(x,y,z)"
   ]
  },
  {
   "cell_type": "code",
   "execution_count": 18,
   "metadata": {},
   "outputs": [
    {
     "output_type": "stream",
     "name": "stdout",
     "text": [
      "5 10\n5\n10\n"
     ]
    }
   ],
   "source": [
    "#setattr, getattr\n",
    "\n",
    "class Point:\n",
    "    pass\n",
    "\n",
    "p1 = Point()\n",
    "\n",
    "setattr(p1, 'x', 5)\n",
    "setattr(p1, 'y', 10)\n",
    "\n",
    "print(p1.x, p1.y)\n",
    "for k in ['x', 'y']:\n",
    "    print(getattr(p1, k))"
   ]
  },
  {
   "cell_type": "code",
   "execution_count": 21,
   "metadata": {},
   "outputs": [
    {
     "output_type": "stream",
     "name": "stdout",
     "text": [
      "[('a', 10), ('b', 20), ('c', 30)]\n"
     ]
    }
   ],
   "source": [
    "# εξάντληση iterator\n",
    "\n",
    "a_list = ['a', 'b', 'c']\n",
    "b_list = [10,20,30]\n",
    "\n",
    "ab = zip(a_list, b_list)\n",
    "print(list(ab)) # εξάντληση του iterator\n",
    "\n",
    "for a,b in ab:\n",
    "    print(a,b) \n"
   ]
  },
  {
   "cell_type": "code",
   "execution_count": null,
   "metadata": {},
   "outputs": [],
   "source": []
  }
 ],
 "metadata": {
  "kernelspec": {
   "display_name": "Python 3",
   "language": "python",
   "name": "python3"
  },
  "language_info": {
   "codemirror_mode": {
    "name": "ipython",
    "version": 3
   },
   "file_extension": ".py",
   "mimetype": "text/x-python",
   "name": "python",
   "nbconvert_exporter": "python",
   "pygments_lexer": "ipython3",
   "version": "3.8.0-final"
  }
 },
 "nbformat": 4,
 "nbformat_minor": 2
}