{
 "cells": [
  {
   "source": [
    "    Τμήμα Πληροφορικής και Τηλεπικοινωνιών - Άρτα \n",
    "    Πανεπιστήμιο Ιωαννίνων \n",
    "\n",
    "    Γκόγκος Χρήστος \n",
    "    http://chgogos.github.io/\n",
    "    Εαρινό εξάμηνο 2020-2021"
   ],
   "cell_type": "markdown",
   "metadata": {}
  },
  {
   "source": [
    "## Το _"
   ],
   "cell_type": "markdown",
   "metadata": {}
  },
  {
   "cell_type": "code",
   "execution_count": 10,
   "metadata": {},
   "outputs": [
    {
     "output_type": "execute_result",
     "data": {
      "text/plain": [
       "1048576"
      ]
     },
     "metadata": {},
     "execution_count": 10
    }
   ],
   "source": [
    "# η χρήση του _ για τη λήψη του τελευταίου αποτελέσματος\n",
    "\n",
    "2**20"
   ]
  },
  {
   "cell_type": "code",
   "execution_count": 11,
   "metadata": {},
   "outputs": [
    {
     "output_type": "execute_result",
     "data": {
      "text/plain": [
       "1048576"
      ]
     },
     "metadata": {},
     "execution_count": 11
    }
   ],
   "source": [
    "_"
   ]
  },
  {
   "source": [
    "## Χρονομέτρηση κώδικα με το %timeit"
   ],
   "cell_type": "markdown",
   "metadata": {}
  },
  {
   "cell_type": "code",
   "execution_count": 2,
   "metadata": {},
   "outputs": [
    {
     "output_type": "stream",
     "name": "stdout",
     "text": [
      "1.6449240667982423\n",
      "24.7 ms ± 615 µs per loop (mean ± std. dev. of 7 runs, 10 loops each)\n",
      "1.644924066798227\n",
      "834 µs ± 4.02 µs per loop (mean ± std. dev. of 7 runs, 1000 loops each)\n"
     ]
    }
   ],
   "source": [
    "n = 100000\n",
    "print(sum([1.0 / i ** 2 for i in range(1, n)]))\n",
    "%timeit sum([1. / i**2 for i in range(1,n)])\n",
    "\n",
    "import numpy as np\n",
    "\n",
    "print(np.sum(1.0 / np.arange(1.0, n) ** 2))\n",
    "%timeit np.sum(1. / np.arange(1.,n) ** 2)"
   ]
  },
  {
   "source": [
    "# disassembler"
   ],
   "cell_type": "markdown",
   "metadata": {}
  },
  {
   "cell_type": "code",
   "execution_count": null,
   "metadata": {},
   "outputs": [],
   "source": [
    "import dis\n",
    "\n",
    "\n",
    "def func(alist):\n",
    "    return len(alist)\n",
    "\n",
    "\n",
    "dis.dis(func)"
   ]
  },
  {
   "source": [
    "## Ισοδυναμία συναρτήσεων και λάμδα συναρτήσεων"
   ],
   "cell_type": "markdown",
   "metadata": {}
  },
  {
   "cell_type": "code",
   "execution_count": null,
   "metadata": {},
   "outputs": [],
   "source": [
    "import dis\n",
    "\n",
    "\n",
    "def func(x, y):\n",
    "    return x + y\n",
    "\n",
    "\n",
    "print(dis.dis(func))\n",
    "\n",
    "f = lambda x, y: x + y\n",
    "\n",
    "print(dis.dis(f))"
   ]
  },
  {
   "source": [
    "## Logging"
   ],
   "cell_type": "markdown",
   "metadata": {}
  },
  {
   "cell_type": "code",
   "execution_count": 13,
   "metadata": {},
   "outputs": [
    {
     "output_type": "stream",
     "name": "stderr",
     "text": [
      "13:54:05 Αυτό είναι ένα μήνυμα INFO\n"
     ]
    }
   ],
   "source": [
    "import logging\n",
    "\n",
    "logging.basicConfig(format=\"%(asctime)s %(message)s\", datefmt=\"%H:%M:%S\")\n",
    "logger = logging.getLogger()\n",
    "logger.setLevel(logging.INFO)\n",
    "logger.info(\"Αυτό είναι ένα μήνυμα INFO\")"
   ]
  },
  {
   "source": [
    "## sys"
   ],
   "cell_type": "markdown",
   "metadata": {}
  },
  {
   "cell_type": "code",
   "execution_count": 14,
   "metadata": {},
   "outputs": [
    {
     "output_type": "stream",
     "name": "stdout",
     "text": [
      "C:\\Users\\chgogos\\.pyenv\\pyenv-win\\versions\\3.8.0-amd64\\python.exe\n"
     ]
    }
   ],
   "source": [
    "import sys\n",
    "\n",
    "print(sys.executable)"
   ]
  },
  {
   "source": [
    "## References\n"
   ],
   "cell_type": "markdown",
   "metadata": {}
  },
  {
   "cell_type": "code",
   "execution_count": null,
   "metadata": {},
   "outputs": [],
   "source": [
    "a = [0,0,0,0]\n",
    "b = a # το b και το a δείχνουν στο ίδιο αντικείμενο\n",
    "b[0]=42\n",
    "print(a)\n",
    "print(b)"
   ]
  },
  {
   "source": [
    "## 2D arrays\n",
    "\n",
    "https://www.geeksforgeeks.org/python-using-2d-arrays-lists-the-right-way/"
   ],
   "cell_type": "markdown",
   "metadata": {}
  },
  {
   "cell_type": "code",
   "execution_count": null,
   "metadata": {},
   "outputs": [],
   "source": [
    "# Μονοδιάστατος πίνακας\n",
    "N = 5\n",
    "a = [0] * N\n",
    "a[0] = 1\n",
    "a[1] = 2\n",
    "print(a)"
   ]
  },
  {
   "cell_type": "code",
   "execution_count": null,
   "metadata": {},
   "outputs": [],
   "source": [
    "# 2d arrays in Python (example: 2X3 array of ints) - μη επιθυμητό αποτέλεσμα\n",
    "# http://www.pythontutor.com/visualize.html#mode=edit\n",
    "\n",
    "rows, cols = 2, 3\n",
    "a = [[0] * cols] * rows\n",
    "\n",
    "# η πρώτη και η δεύτερη γραμμή του πίνακα δείχνουν στο ίδιο αντικείμενο\n",
    "a[0][0] = 1 \n",
    "a[0][1] = 2 \n",
    "a[0][2] = 3\n",
    "a[1][0] = 4\n",
    "a[1][1] = 5\n",
    "a[1][2] = 6\n",
    "print(a[0]==a[1]) # True\n",
    "print(a)"
   ]
  },
  {
   "cell_type": "code",
   "execution_count": null,
   "metadata": {},
   "outputs": [],
   "source": [
    "# 2d arrays in Python (example: 2X3 array of ints)\n",
    "# http://www.pythontutor.com/visualize.html#mode=edit\n",
    "\n",
    "rows = 2\n",
    "cols = 3\n",
    "a = [[0 for j in range(cols)] for  i in range(rows)]\n",
    "# a = [[0] * cols  for  i in range(rows)] # η εναλλακτικά\n",
    "\n",
    "a[0][0] = 1 \n",
    "a[0][1] = 2 \n",
    "a[0][2] = 3\n",
    "a[1][0] = 4\n",
    "a[1][1] = 5\n",
    "a[1][2] = 6\n",
    "print(a[0]==a[1]) # False\n",
    "print(a)"
   ]
  },
  {
   "cell_type": "code",
   "execution_count": null,
   "metadata": {},
   "outputs": [],
   "source": [
    "# 2d array με το numpy (πίνακας 2x3 με ακεραίους από το 1 μέχρι το 6)\n",
    "\n",
    "import numpy as np\n",
    "\n",
    "a = np.empty((2,3), dtype=np.int32)\n",
    "a[0][0] = 1 \n",
    "a[0][1] = 2 \n",
    "a[0][2] = 3\n",
    "a[1][0] = 4\n",
    "a[1][1] = 5\n",
    "a[1][2] = 6\n",
    "print(a)"
   ]
  },
  {
   "cell_type": "code",
   "execution_count": null,
   "metadata": {},
   "outputs": [],
   "source": [
    "# 2d array με το numpy (πίνακας 2x3 με ακεραίους από το 1 μέχρι το 6)\n",
    "\n",
    "import numpy as np\n",
    "\n",
    "a = np.zeros((2,3), dtype=np.int32)\n",
    "a[0][0] = 1 \n",
    "a[0][1] = 2 \n",
    "a[0][2] = 3\n",
    "a[1][0] = 4\n",
    "a[1][1] = 5\n",
    "a[1][2] = 6\n",
    "print(a)"
   ]
  },
  {
   "cell_type": "code",
   "execution_count": null,
   "metadata": {},
   "outputs": [],
   "source": [
    "# 2d array με το numpy (πίνακας 2x3 με ακεραίους από το 1 μέχρι το 6)\n",
    "\n",
    "a = np.arange(1,7).reshape(2,3)\n",
    "print(a)"
   ]
  },
  {
   "source": [
    "## Magic methods"
   ],
   "cell_type": "markdown",
   "metadata": {}
  },
  {
   "cell_type": "code",
   "execution_count": null,
   "metadata": {},
   "outputs": [],
   "source": [
    "# magic methods (dunders)\n",
    "\n",
    "print(1 + 2)\n",
    "\n",
    "print(int.__add__(1, 2))\n",
    "\n",
    "print(\"test\".__len__())"
   ]
  },
  {
   "source": [
    "## Διαχωριστικά χιλιάδων"
   ],
   "cell_type": "markdown",
   "metadata": {}
  },
  {
   "cell_type": "code",
   "execution_count": null,
   "metadata": {},
   "outputs": [],
   "source": [
    "# μεγάλοι αριθμοί (_ για το διαχωρισμό ψηφίων)\n",
    "\n",
    "x = 100_000_000\n",
    "print(f'{x:,}')"
   ]
  },
  {
   "source": [
    "## Zip"
   ],
   "cell_type": "markdown",
   "metadata": {}
  },
  {
   "cell_type": "code",
   "execution_count": null,
   "metadata": {},
   "outputs": [],
   "source": [
    "# zip\n",
    "\n",
    "a_list = ['a', 'b', 'c']\n",
    "b_list = [10,20,30]\n",
    "\n",
    "for a,b in zip(a_list, b_list):\n",
    "    print(a,b)"
   ]
  },
  {
   "source": [
    "## Αγνόηση τιμών σε αναθέσεις"
   ],
   "cell_type": "markdown",
   "metadata": {}
  },
  {
   "cell_type": "code",
   "execution_count": null,
   "metadata": {},
   "outputs": [],
   "source": [
    "# αγνόηση τιμής\n",
    "\n",
    "x, _, y = 1,2,3\n",
    "\n",
    "print(x,y)\n",
    "\n",
    "x,y,*z = (1,2,3,4,5)\n",
    "\n",
    "print(x,y,z)\n",
    "\n",
    "x,y,*_, z = (1,2,3,4,5)\n",
    "print(x,y,z)"
   ]
  },
  {
   "cell_type": "code",
   "execution_count": null,
   "metadata": {},
   "outputs": [],
   "source": [
    "#setattr, getattr\n",
    "\n",
    "class Point:\n",
    "    pass\n",
    "\n",
    "p1 = Point()\n",
    "\n",
    "setattr(p1, 'x', 5)\n",
    "setattr(p1, 'y', 10)\n",
    "\n",
    "print(p1.x, p1.y)\n",
    "for k in ['x', 'y']:\n",
    "    print(getattr(p1, k))"
   ]
  },
  {
   "source": [
    "## Iterators"
   ],
   "cell_type": "markdown",
   "metadata": {}
  },
  {
   "cell_type": "code",
   "execution_count": null,
   "metadata": {},
   "outputs": [],
   "source": [
    "# εξάντληση iterator\n",
    "\n",
    "a_list = ['a', 'b', 'c']\n",
    "b_list = [10,20,30]\n",
    "\n",
    "ab = zip(a_list, b_list)\n",
    "print(list(ab)) # εξάντληση του iterator\n",
    "\n",
    "for a,b in ab:\n",
    "    print(a,b) \n"
   ]
  },
  {
   "source": [
    "## os.walk\n"
   ],
   "cell_type": "markdown",
   "metadata": {}
  },
  {
   "cell_type": "code",
   "execution_count": null,
   "metadata": {
    "tags": [
     "outputPrepend"
    ]
   },
   "outputs": [],
   "source": [
    "import os\n",
    "for root, dirs, files in os.walk(\"../\", topdown=False):\n",
    "   for name in files:\n",
    "      print(os.path.join(root, name))\n",
    "   for name in dirs:\n",
    "      print(os.path.join(root, name))"
   ]
  },
  {
   "source": [
    "## platform"
   ],
   "cell_type": "markdown",
   "metadata": {}
  },
  {
   "cell_type": "code",
   "execution_count": null,
   "metadata": {},
   "outputs": [],
   "source": [
    "import platform\n",
    "\n",
    "this_system = platform.uname()\n",
    "print(this_system)\n",
    "print(\"#\"*80)\n",
    "print(this_system.system)\n",
    "print(this_system.node)\n",
    "print(this_system.machine)\n",
    "print(this_system.processor)"
   ]
  },
  {
   "source": [
    "## Συνένωση λεκτικών"
   ],
   "cell_type": "markdown",
   "metadata": {}
  },
  {
   "cell_type": "code",
   "execution_count": null,
   "metadata": {},
   "outputs": [],
   "source": [
    "def fun1(x):\n",
    "    s = ''\n",
    "    for i in range(x):\n",
    "        s += str(i)\n",
    "    return s\n",
    "%timeit fun1(10000)"
   ]
  },
  {
   "cell_type": "code",
   "execution_count": null,
   "metadata": {},
   "outputs": [],
   "source": [
    "def fun2(x):\n",
    "    a_list = []\n",
    "    for i in range(x):\n",
    "        a_list.append(str(i))\n",
    "    s = ''.join(a_list)\n",
    "%timeit fun2(10000)"
   ]
  },
  {
   "source": [
    "## Function attributes\n",
    "\n",
    "Με παρόμοιο τρόπο με τον τρόπο που θέτουμε ιδιότητες σε κλάσεις και αντικείμενα μπορούμε να θέτουμε ιδιότητες σε συναρτήσεις"
   ],
   "cell_type": "markdown",
   "metadata": {}
  },
  {
   "cell_type": "code",
   "execution_count": null,
   "metadata": {},
   "outputs": [],
   "source": [
    "def fun(a):\n",
    "    fun.initial_value = a\n",
    "    a = a * 2\n",
    "    fun.intermediate_value =a\n",
    "    a = a + 2\n",
    "    fun.final_value = a\n",
    "    return a\n",
    "\n",
    "x = fun(3)\n",
    "print(x)\n",
    "print(fun.initial_value)\n",
    "print(fun.intermediate_value)\n",
    "print(fun.final_value)"
   ]
  },
  {
   "source": [
    "## eval και exec\n",
    "\n",
    "Μπορούμε να εκτελούμε δυναμικά κώδικα που έχει τοποθετηθεί σε ένα λεκτικό\n",
    "\n",
    "H eval δέχεται μια έκφραση και επιστρέφει την τιμή της\n",
    "\n",
    "Η exec δέχεται ένα μπλοκ κώδικα με εντολές Python και αγνοεί την τιμή που επιστρέφει η εκτέλεσή του. Τα δε αποτελέσματα λαμβάνονται μέσω των side effects που προκαλούνται από την εκτυέλεση του κώδικα."
   ],
   "cell_type": "markdown",
   "metadata": {}
  },
  {
   "cell_type": "code",
   "execution_count": null,
   "metadata": {},
   "outputs": [],
   "source": [
    "x = 1\n",
    "eval('x +1')"
   ]
  },
  {
   "cell_type": "code",
   "execution_count": null,
   "metadata": {},
   "outputs": [],
   "source": [
    "x = 1\n",
    "exec('x=2')\n",
    "print(x)"
   ]
  },
  {
   "cell_type": "code",
   "execution_count": 19,
   "metadata": {},
   "outputs": [
    {
     "output_type": "execute_result",
     "data": {
      "text/plain": [
       "573147844013817084101"
      ]
     },
     "metadata": {},
     "execution_count": 19
    }
   ],
   "source": [
    "from functools import lru_cache\n",
    "\n",
    "@lru_cache(maxsize=None)\n",
    "def fib(x):\n",
    "    if x <= 1:\n",
    "        return 1\n",
    "    else:\n",
    "        return fib(x-1) + fib(x-2)\n",
    "\n",
    "\n",
    "fib(100)"
   ]
  },
  {
   "source": [
    "## urllib"
   ],
   "cell_type": "markdown",
   "metadata": {}
  },
  {
   "cell_type": "code",
   "execution_count": null,
   "metadata": {},
   "outputs": [],
   "source": [
    "# from urllib import parse\n",
    "\n",
    "# params = {\"v=\":\"XXXX\", \"t\":\"0m10s\"}\n",
    "# querystring = parse.urlencode(params)\n",
    "# print(querystring)\n",
    "# url = \"https://...\" + \"?\" + querystring\n",
    "# resp = request.urlopen(url)"
   ]
  },
  {
   "source": [
    "## Various"
   ],
   "cell_type": "markdown",
   "metadata": {}
  },
  {
   "cell_type": "code",
   "execution_count": 20,
   "metadata": {},
   "outputs": [
    {
     "output_type": "stream",
     "name": "stdout",
     "text": [
      "2\n3\n5\n"
     ]
    }
   ],
   "source": [
    "import re\n",
    "\n",
    "# homeaways = \"AHAHAHHHAHAAHHAHHAHAAHAHAAHAHAH\"\n",
    "homeaways = \"AHHHAAHAH\"\n",
    "pattern = re.compile(r'(?=((HH)|(AA)))')\n",
    "matches = pattern.finditer(homeaways)\n",
    "for match in matches:\n",
    "    print(match.span()[0]+1)\n",
    "\n",
    "\n",
    "# results = [match.group(1) for match in re.finditer(r'(?=(HH))',homeaways)]\n",
    "# print(results)"
   ]
  },
  {
   "cell_type": "code",
   "execution_count": null,
   "metadata": {},
   "outputs": [],
   "source": []
  }
 ],
 "metadata": {
  "kernelspec": {
   "name": "python380jvsc74a57bd02334294e789e06453e89f7d5c3c2573679701f9bb5b76ad2158f91cca5c9244c",
   "display_name": "Python 3.8.0 64-bit ('3.8.0-amd64': pyenv)"
  },
  "language_info": {
   "codemirror_mode": {
    "name": "ipython",
    "version": 3
   },
   "file_extension": ".py",
   "mimetype": "text/x-python",
   "name": "python",
   "nbconvert_exporter": "python",
   "pygments_lexer": "ipython3",
   "version": "3.8.0"
  }
 },
 "nbformat": 4,
 "nbformat_minor": 2
}