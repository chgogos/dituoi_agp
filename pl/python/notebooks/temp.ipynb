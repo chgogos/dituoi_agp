{
 "cells": [
  {
   "cell_type": "markdown",
   "metadata": {},
   "source": [
    "    Τμήμα Πληροφορικής και Τηλεπικοινωνιών - Άρτα \n",
    "    Πανεπιστήμιο Ιωαννίνων \n",
    "\n",
    "    Γκόγκος Χρήστος \n",
    "    http://chgogos.github.io/\n",
    "    \n",
    "    Τελευταία ενημέρωση: 16/3/2022"
   ]
  },
  {
   "cell_type": "markdown",
   "metadata": {},
   "source": [
    "## Το _"
   ]
  },
  {
   "cell_type": "code",
   "execution_count": 10,
   "metadata": {},
   "outputs": [
    {
     "data": {
      "text/plain": [
       "1048576"
      ]
     },
     "execution_count": 10,
     "metadata": {},
     "output_type": "execute_result"
    }
   ],
   "source": [
    "# η χρήση του _ για τη λήψη του τελευταίου αποτελέσματος\n",
    "\n",
    "2**20"
   ]
  },
  {
   "cell_type": "code",
   "execution_count": 11,
   "metadata": {},
   "outputs": [
    {
     "data": {
      "text/plain": [
       "1048576"
      ]
     },
     "execution_count": 11,
     "metadata": {},
     "output_type": "execute_result"
    }
   ],
   "source": [
    "_"
   ]
  },
  {
   "cell_type": "code",
   "execution_count": 20,
   "metadata": {},
   "outputs": [
    {
     "data": {
      "text/plain": [
       "<function __main__.<lambda>(x, y)>"
      ]
     },
     "execution_count": 20,
     "metadata": {},
     "output_type": "execute_result"
    }
   ],
   "source": [
    "lambda x,y:x+y"
   ]
  },
  {
   "cell_type": "code",
   "execution_count": 21,
   "metadata": {},
   "outputs": [
    {
     "data": {
      "text/plain": [
       "3"
      ]
     },
     "execution_count": 21,
     "metadata": {},
     "output_type": "execute_result"
    }
   ],
   "source": [
    "_(1,2)"
   ]
  },
  {
   "cell_type": "markdown",
   "metadata": {},
   "source": [
    "## Χρονομέτρηση κώδικα με το %timeit"
   ]
  },
  {
   "cell_type": "code",
   "execution_count": 2,
   "metadata": {},
   "outputs": [
    {
     "name": "stdout",
     "output_type": "stream",
     "text": [
      "1.6449240667982423\n",
      "24.7 ms ± 615 µs per loop (mean ± std. dev. of 7 runs, 10 loops each)\n",
      "1.644924066798227\n",
      "834 µs ± 4.02 µs per loop (mean ± std. dev. of 7 runs, 1000 loops each)\n"
     ]
    }
   ],
   "source": [
    "n = 100000\n",
    "print(sum([1.0 / i ** 2 for i in range(1, n)]))\n",
    "%timeit sum([1. / i**2 for i in range(1,n)])\n",
    "\n",
    "import numpy as np\n",
    "\n",
    "print(np.sum(1.0 / np.arange(1.0, n) ** 2))\n",
    "%timeit np.sum(1. / np.arange(1.,n) ** 2)"
   ]
  },
  {
   "cell_type": "markdown",
   "metadata": {},
   "source": [
    "# disassembler"
   ]
  },
  {
   "cell_type": "code",
   "execution_count": null,
   "metadata": {},
   "outputs": [],
   "source": [
    "import dis\n",
    "\n",
    "\n",
    "def func(alist):\n",
    "    return len(alist)\n",
    "\n",
    "\n",
    "dis.dis(func)"
   ]
  },
  {
   "cell_type": "markdown",
   "metadata": {},
   "source": [
    "## Ισοδυναμία συναρτήσεων και λάμδα συναρτήσεων"
   ]
  },
  {
   "cell_type": "code",
   "execution_count": null,
   "metadata": {},
   "outputs": [],
   "source": [
    "import dis\n",
    "\n",
    "\n",
    "def func(x, y):\n",
    "    return x + y\n",
    "\n",
    "\n",
    "print(dis.dis(func))\n",
    "\n",
    "f = lambda x, y: x + y\n",
    "\n",
    "print(dis.dis(f))"
   ]
  },
  {
   "cell_type": "markdown",
   "metadata": {},
   "source": [
    "## Logging"
   ]
  },
  {
   "cell_type": "code",
   "execution_count": 13,
   "metadata": {},
   "outputs": [
    {
     "name": "stderr",
     "output_type": "stream",
     "text": [
      "13:54:05 Αυτό είναι ένα μήνυμα INFO\n"
     ]
    }
   ],
   "source": [
    "import logging\n",
    "\n",
    "logging.basicConfig(format=\"%(asctime)s %(message)s\", datefmt=\"%H:%M:%S\")\n",
    "logger = logging.getLogger()\n",
    "logger.setLevel(logging.INFO)\n",
    "logger.info(\"Αυτό είναι ένα μήνυμα INFO\")"
   ]
  },
  {
   "cell_type": "markdown",
   "metadata": {},
   "source": [
    "## sys"
   ]
  },
  {
   "cell_type": "code",
   "execution_count": 14,
   "metadata": {},
   "outputs": [
    {
     "name": "stdout",
     "output_type": "stream",
     "text": [
      "C:\\Users\\chgogos\\.pyenv\\pyenv-win\\versions\\3.8.0-amd64\\python.exe\n"
     ]
    }
   ],
   "source": [
    "import sys\n",
    "\n",
    "print(sys.executable)"
   ]
  },
  {
   "cell_type": "markdown",
   "metadata": {},
   "source": [
    "## References\n"
   ]
  },
  {
   "cell_type": "code",
   "execution_count": null,
   "metadata": {},
   "outputs": [],
   "source": [
    "a = [0,0,0,0]\n",
    "b = a # το b και το a δείχνουν στο ίδιο αντικείμενο\n",
    "b[0]=42\n",
    "print(a)\n",
    "print(b)"
   ]
  },
  {
   "cell_type": "markdown",
   "metadata": {},
   "source": [
    "## 2D arrays\n",
    "\n",
    "https://www.geeksforgeeks.org/python-using-2d-arrays-lists-the-right-way/"
   ]
  },
  {
   "cell_type": "code",
   "execution_count": null,
   "metadata": {},
   "outputs": [],
   "source": [
    "# Μονοδιάστατος πίνακας\n",
    "N = 5\n",
    "a = [0] * N\n",
    "a[0] = 1\n",
    "a[1] = 2\n",
    "print(a)"
   ]
  },
  {
   "cell_type": "code",
   "execution_count": null,
   "metadata": {},
   "outputs": [],
   "source": [
    "# 2d arrays in Python (example: 2X3 array of ints) - μη επιθυμητό αποτέλεσμα\n",
    "# http://www.pythontutor.com/visualize.html#mode=edit\n",
    "\n",
    "rows, cols = 2, 3\n",
    "a = [[0] * cols] * rows\n",
    "\n",
    "# η πρώτη και η δεύτερη γραμμή του πίνακα δείχνουν στο ίδιο αντικείμενο\n",
    "a[0][0] = 1 \n",
    "a[0][1] = 2 \n",
    "a[0][2] = 3\n",
    "a[1][0] = 4\n",
    "a[1][1] = 5\n",
    "a[1][2] = 6\n",
    "print(a[0]==a[1]) # True\n",
    "print(a)"
   ]
  },
  {
   "cell_type": "code",
   "execution_count": null,
   "metadata": {},
   "outputs": [],
   "source": [
    "# 2d arrays in Python (example: 2X3 array of ints)\n",
    "# http://www.pythontutor.com/visualize.html#mode=edit\n",
    "\n",
    "rows = 2\n",
    "cols = 3\n",
    "a = [[0 for j in range(cols)] for  i in range(rows)]\n",
    "# a = [[0] * cols  for  i in range(rows)] # η εναλλακτικά\n",
    "\n",
    "a[0][0] = 1 \n",
    "a[0][1] = 2 \n",
    "a[0][2] = 3\n",
    "a[1][0] = 4\n",
    "a[1][1] = 5\n",
    "a[1][2] = 6\n",
    "print(a[0]==a[1]) # False\n",
    "print(a)"
   ]
  },
  {
   "cell_type": "code",
   "execution_count": null,
   "metadata": {},
   "outputs": [],
   "source": [
    "# 2d array με το numpy (πίνακας 2x3 με ακεραίους από το 1 μέχρι το 6)\n",
    "\n",
    "import numpy as np\n",
    "\n",
    "a = np.empty((2,3), dtype=np.int32)\n",
    "a[0][0] = 1 \n",
    "a[0][1] = 2 \n",
    "a[0][2] = 3\n",
    "a[1][0] = 4\n",
    "a[1][1] = 5\n",
    "a[1][2] = 6\n",
    "print(a)"
   ]
  },
  {
   "cell_type": "code",
   "execution_count": null,
   "metadata": {},
   "outputs": [],
   "source": [
    "# 2d array με το numpy (πίνακας 2x3 με ακεραίους από το 1 μέχρι το 6)\n",
    "\n",
    "import numpy as np\n",
    "\n",
    "a = np.zeros((2,3), dtype=np.int32)\n",
    "a[0][0] = 1 \n",
    "a[0][1] = 2 \n",
    "a[0][2] = 3\n",
    "a[1][0] = 4\n",
    "a[1][1] = 5\n",
    "a[1][2] = 6\n",
    "print(a)"
   ]
  },
  {
   "cell_type": "code",
   "execution_count": null,
   "metadata": {},
   "outputs": [],
   "source": [
    "# 2d array με το numpy (πίνακας 2x3 με ακεραίους από το 1 μέχρι το 6)\n",
    "\n",
    "a = np.arange(1,7).reshape(2,3)\n",
    "print(a)"
   ]
  },
  {
   "cell_type": "markdown",
   "metadata": {},
   "source": [
    "## Magic methods"
   ]
  },
  {
   "cell_type": "code",
   "execution_count": null,
   "metadata": {},
   "outputs": [],
   "source": [
    "# magic methods (dunders)\n",
    "\n",
    "print(1 + 2)\n",
    "\n",
    "print(int.__add__(1, 2))\n",
    "\n",
    "print(\"test\".__len__())"
   ]
  },
  {
   "cell_type": "markdown",
   "metadata": {},
   "source": [
    "## Διαχωριστικά χιλιάδων"
   ]
  },
  {
   "cell_type": "code",
   "execution_count": null,
   "metadata": {},
   "outputs": [],
   "source": [
    "# μεγάλοι αριθμοί (_ για το διαχωρισμό ψηφίων)\n",
    "\n",
    "x = 100_000_000\n",
    "print(f'{x:,}')"
   ]
  },
  {
   "cell_type": "markdown",
   "metadata": {},
   "source": [
    "## Zip"
   ]
  },
  {
   "cell_type": "code",
   "execution_count": null,
   "metadata": {},
   "outputs": [],
   "source": [
    "# zip\n",
    "\n",
    "a_list = ['a', 'b', 'c']\n",
    "b_list = [10,20,30]\n",
    "\n",
    "for a,b in zip(a_list, b_list):\n",
    "    print(a,b)"
   ]
  },
  {
   "cell_type": "markdown",
   "metadata": {},
   "source": [
    "## Αγνόηση τιμών σε αναθέσεις"
   ]
  },
  {
   "cell_type": "code",
   "execution_count": null,
   "metadata": {},
   "outputs": [],
   "source": [
    "# αγνόηση τιμής\n",
    "\n",
    "x, _, y = 1,2,3\n",
    "\n",
    "print(x,y)\n",
    "\n",
    "x,y,*z = (1,2,3,4,5)\n",
    "\n",
    "print(x,y,z)\n",
    "\n",
    "x,y,*_, z = (1,2,3,4,5)\n",
    "print(x,y,z)"
   ]
  },
  {
   "cell_type": "code",
   "execution_count": null,
   "metadata": {},
   "outputs": [],
   "source": [
    "#setattr, getattr\n",
    "\n",
    "class Point:\n",
    "    pass\n",
    "\n",
    "p1 = Point()\n",
    "\n",
    "setattr(p1, 'x', 5)\n",
    "setattr(p1, 'y', 10)\n",
    "\n",
    "print(p1.x, p1.y)\n",
    "for k in ['x', 'y']:\n",
    "    print(getattr(p1, k))"
   ]
  },
  {
   "cell_type": "markdown",
   "metadata": {},
   "source": [
    "## Iterators"
   ]
  },
  {
   "cell_type": "code",
   "execution_count": null,
   "metadata": {},
   "outputs": [],
   "source": [
    "# εξάντληση iterator\n",
    "\n",
    "a_list = ['a', 'b', 'c']\n",
    "b_list = [10,20,30]\n",
    "\n",
    "ab = zip(a_list, b_list)\n",
    "print(list(ab)) # εξάντληση του iterator\n",
    "\n",
    "for a,b in ab:\n",
    "    print(a,b) \n"
   ]
  },
  {
   "cell_type": "markdown",
   "metadata": {},
   "source": [
    "## os.walk\n"
   ]
  },
  {
   "cell_type": "code",
   "execution_count": null,
   "metadata": {
    "tags": [
     "outputPrepend"
    ]
   },
   "outputs": [],
   "source": [
    "import os\n",
    "for root, dirs, files in os.walk(\"../\", topdown=False):\n",
    "   for name in files:\n",
    "      print(os.path.join(root, name))\n",
    "   for name in dirs:\n",
    "      print(os.path.join(root, name))"
   ]
  },
  {
   "cell_type": "markdown",
   "metadata": {},
   "source": [
    "## platform"
   ]
  },
  {
   "cell_type": "code",
   "execution_count": null,
   "metadata": {},
   "outputs": [],
   "source": [
    "import platform\n",
    "\n",
    "this_system = platform.uname()\n",
    "print(this_system)\n",
    "print(\"#\"*80)\n",
    "print(this_system.system)\n",
    "print(this_system.node)\n",
    "print(this_system.machine)\n",
    "print(this_system.processor)"
   ]
  },
  {
   "cell_type": "markdown",
   "metadata": {},
   "source": [
    "## Συνένωση λεκτικών"
   ]
  },
  {
   "cell_type": "code",
   "execution_count": null,
   "metadata": {},
   "outputs": [],
   "source": [
    "def fun1(x):\n",
    "    s = ''\n",
    "    for i in range(x):\n",
    "        s += str(i)\n",
    "    return s\n",
    "%timeit fun1(10000)"
   ]
  },
  {
   "cell_type": "code",
   "execution_count": null,
   "metadata": {},
   "outputs": [],
   "source": [
    "def fun2(x):\n",
    "    a_list = []\n",
    "    for i in range(x):\n",
    "        a_list.append(str(i))\n",
    "    s = ''.join(a_list)\n",
    "%timeit fun2(10000)"
   ]
  },
  {
   "cell_type": "markdown",
   "metadata": {},
   "source": [
    "## Function attributes\n",
    "\n",
    "Με παρόμοιο τρόπο με τον τρόπο που θέτουμε ιδιότητες σε κλάσεις και αντικείμενα μπορούμε να θέτουμε ιδιότητες σε συναρτήσεις"
   ]
  },
  {
   "cell_type": "code",
   "execution_count": null,
   "metadata": {},
   "outputs": [],
   "source": [
    "def fun(a):\n",
    "    fun.initial_value = a\n",
    "    a = a * 2\n",
    "    fun.intermediate_value =a\n",
    "    a = a + 2\n",
    "    fun.final_value = a\n",
    "    return a\n",
    "\n",
    "x = fun(3)\n",
    "print(x)\n",
    "print(fun.initial_value)\n",
    "print(fun.intermediate_value)\n",
    "print(fun.final_value)"
   ]
  },
  {
   "cell_type": "markdown",
   "metadata": {},
   "source": [
    "## eval και exec\n",
    "\n",
    "Μπορούμε να εκτελούμε δυναμικά κώδικα που έχει τοποθετηθεί σε ένα λεκτικό\n",
    "\n",
    "H eval δέχεται μια έκφραση και επιστρέφει την τιμή της\n",
    "\n",
    "Η exec δέχεται ένα μπλοκ κώδικα με εντολές Python και αγνοεί την τιμή που επιστρέφει η εκτέλεσή του. Τα δε αποτελέσματα λαμβάνονται μέσω των side effects που προκαλούνται από την εκτυέλεση του κώδικα."
   ]
  },
  {
   "cell_type": "code",
   "execution_count": null,
   "metadata": {},
   "outputs": [],
   "source": [
    "x = 1\n",
    "eval('x +1')"
   ]
  },
  {
   "cell_type": "code",
   "execution_count": null,
   "metadata": {},
   "outputs": [],
   "source": [
    "x = 1\n",
    "exec('x=2')\n",
    "print(x)"
   ]
  },
  {
   "cell_type": "code",
   "execution_count": 19,
   "metadata": {},
   "outputs": [
    {
     "data": {
      "text/plain": [
       "573147844013817084101"
      ]
     },
     "execution_count": 19,
     "metadata": {},
     "output_type": "execute_result"
    }
   ],
   "source": [
    "from functools import lru_cache\n",
    "\n",
    "@lru_cache(maxsize=None)\n",
    "def fib(x):\n",
    "    if x <= 1:\n",
    "        return 1\n",
    "    else:\n",
    "        return fib(x-1) + fib(x-2)\n",
    "\n",
    "\n",
    "fib(100)"
   ]
  },
  {
   "cell_type": "markdown",
   "metadata": {},
   "source": [
    "## urllib"
   ]
  },
  {
   "cell_type": "code",
   "execution_count": null,
   "metadata": {},
   "outputs": [],
   "source": [
    "# from urllib import parse\n",
    "\n",
    "# params = {\"v=\":\"XXXX\", \"t\":\"0m10s\"}\n",
    "# querystring = parse.urlencode(params)\n",
    "# print(querystring)\n",
    "# url = \"https://...\" + \"?\" + querystring\n",
    "# resp = request.urlopen(url)"
   ]
  },
  {
   "cell_type": "markdown",
   "metadata": {},
   "source": [
    "## Various"
   ]
  },
  {
   "cell_type": "code",
   "execution_count": 20,
   "metadata": {},
   "outputs": [
    {
     "name": "stdout",
     "output_type": "stream",
     "text": [
      "2\n",
      "3\n",
      "5\n"
     ]
    }
   ],
   "source": [
    "import re\n",
    "\n",
    "# homeaways = \"AHAHAHHHAHAAHHAHHAHAAHAHAAHAHAH\"\n",
    "homeaways = \"AHHHAAHAH\"\n",
    "pattern = re.compile(r'(?=((HH)|(AA)))')\n",
    "matches = pattern.finditer(homeaways)\n",
    "for match in matches:\n",
    "    print(match.span()[0]+1)\n",
    "\n",
    "\n",
    "# results = [match.group(1) for match in re.finditer(r'(?=(HH))',homeaways)]\n",
    "# print(results)"
   ]
  },
  {
   "cell_type": "markdown",
   "metadata": {},
   "source": [
    "## Type hints\n",
    "\n",
    "PEP484: Python will remain a dynamically typed language, and the authors have no desire to ever make type hints mandatory, even by convention.\n",
    "\n",
    "type checker http://mypy-lang.org/"
   ]
  },
  {
   "cell_type": "code",
   "execution_count": 7,
   "metadata": {},
   "outputs": [
    {
     "data": {
      "text/plain": [
       "<generator object fib at 0x0000025BDD1D5270>"
      ]
     },
     "execution_count": 7,
     "metadata": {},
     "output_type": "execute_result"
    }
   ],
   "source": [
    "def fib(n):\n",
    "    a, b = 0, 1\n",
    "    while a < n:\n",
    "        yield a\n",
    "        a, b = b, a+b\n",
    "fib(10)"
   ]
  },
  {
   "cell_type": "code",
   "execution_count": 11,
   "metadata": {},
   "outputs": [
    {
     "data": {
      "text/plain": [
       "<generator object fib at 0x0000025BDD1FCB30>"
      ]
     },
     "execution_count": 11,
     "metadata": {},
     "output_type": "execute_result"
    }
   ],
   "source": [
    "from typing import Iterator\n",
    "\n",
    "def fib(n: int) -> Iterator[int]:\n",
    "    a, b = 0, 1\n",
    "    while a < n:\n",
    "        yield a\n",
    "        a, b = b, a+b\n",
    "fib(10)"
   ]
  },
  {
   "cell_type": "code",
   "execution_count": 9,
   "metadata": {},
   "outputs": [
    {
     "name": "stdout",
     "output_type": "stream",
     "text": [
      "3\n",
      "hello world\n"
     ]
    }
   ],
   "source": [
    "def sum(a, b):\n",
    "    return a+b\n",
    "\n",
    "print(sum(1,2))\n",
    "print(sum('hello ','world'))"
   ]
  },
  {
   "cell_type": "code",
   "execution_count": 4,
   "metadata": {},
   "outputs": [
    {
     "name": "stdout",
     "output_type": "stream",
     "text": [
      "3\n",
      "hello world\n"
     ]
    }
   ],
   "source": [
    "# αν χρησιμοποιηθεί ένας typechecker όπως το mypy ή τότε θα εμφανίσει λάθος στην κλήση της συνάρτησης με οτιδήπιτε άλλο εκτός από λεκτικά\n",
    "\n",
    "def sum(a: int, b: int) -> int:\n",
    "    return a+b\n",
    "\n",
    "print(sum(1,2))\n",
    "print(sum('hello ','world'))"
   ]
  },
  {
   "cell_type": "markdown",
   "metadata": {},
   "source": [
    "## Asterisk"
   ]
  },
  {
   "cell_type": "code",
   "execution_count": 18,
   "metadata": {},
   "outputs": [
    {
     "data": {
      "text/plain": [
       "(6, 6)"
      ]
     },
     "execution_count": 18,
     "metadata": {},
     "output_type": "execute_result"
    }
   ],
   "source": [
    "def mult1(numbers):\n",
    "    result = 1\n",
    "    for x in  numbers:\n",
    "        result *= x\n",
    "    return result\n",
    "\n",
    "# *numbers means any number of arguments\n",
    "def mult2(*numbers):\n",
    "    result = 1\n",
    "    for x in  numbers:\n",
    "        result *= x\n",
    "    return result\n",
    "\n",
    "\n",
    "mult1([1,2,3]), mult2(1,2,3)"
   ]
  },
  {
   "cell_type": "code",
   "execution_count": 22,
   "metadata": {},
   "outputs": [
    {
     "data": {
      "text/plain": [
       "((0, 1, 2, 3, 4), [0, 1, 2, 3, 4])"
      ]
     },
     "execution_count": 22,
     "metadata": {},
     "output_type": "execute_result"
    }
   ],
   "source": [
    "# unpack an iterable\n",
    "\n",
    "x  = *range(5), \n",
    "y  = [*range(5)]\n",
    "x, y"
   ]
  },
  {
   "cell_type": "code",
   "execution_count": 23,
   "metadata": {},
   "outputs": [
    {
     "name": "stdout",
     "output_type": "stream",
     "text": [
      "['a', 'b']\n",
      "{'a': 1, 'b': 2}\n"
     ]
    }
   ],
   "source": [
    "# unpack a dictionary\n",
    "\n",
    "a_dict = {'a':1, 'b':2}\n",
    "print([*a_dict]) # unpack keys\n",
    "print({**a_dict})"
   ]
  },
  {
   "cell_type": "markdown",
   "metadata": {},
   "source": [
    "## Μερική αποτίμηση συναρτήσεων"
   ]
  },
  {
   "cell_type": "code",
   "execution_count": 2,
   "metadata": {},
   "outputs": [
    {
     "data": {
      "text/plain": [
       "20"
      ]
     },
     "execution_count": 2,
     "metadata": {},
     "output_type": "execute_result"
    }
   ],
   "source": [
    "from functools import partial\n",
    "from operator import add\n",
    "\n",
    "add5 = partial(add, 5)\n",
    "add5(15)"
   ]
  },
  {
   "cell_type": "markdown",
   "metadata": {},
   "source": [
    "## Laziness in Python\n",
    "\n",
    "[Computerphile - Laziness in Python](https://www.youtube.com/watch?v=5jwV3zxXc8E)"
   ]
  },
  {
   "cell_type": "code",
   "execution_count": 13,
   "metadata": {},
   "outputs": [],
   "source": [
    "def naturals(n):\n",
    "    yield n\n",
    "    yield from naturals(n+1)"
   ]
  },
  {
   "cell_type": "code",
   "execution_count": 14,
   "metadata": {},
   "outputs": [
    {
     "name": "stdout",
     "output_type": "stream",
     "text": [
      "2\n",
      "3\n"
     ]
    }
   ],
   "source": [
    "s = naturals(2)\n",
    "print(next(s))\n",
    "print(next(s))"
   ]
  },
  {
   "cell_type": "code",
   "execution_count": 15,
   "metadata": {},
   "outputs": [],
   "source": [
    "def sieve(s):\n",
    "    n = next(s)\n",
    "    yield n\n",
    "    yield from sieve(i for i in s if i%n!=0)"
   ]
  },
  {
   "cell_type": "code",
   "execution_count": 18,
   "metadata": {},
   "outputs": [
    {
     "name": "stdout",
     "output_type": "stream",
     "text": [
      "2\n",
      "3\n",
      "5\n",
      "7\n",
      "11\n"
     ]
    }
   ],
   "source": [
    "p = sieve(naturals(2))\n",
    "print(next(p))\n",
    "print(next(p))\n",
    "print(next(p))\n",
    "print(next(p))\n",
    "print(next(p))"
   ]
  },
  {
   "cell_type": "markdown",
   "metadata": {},
   "source": [
    "## Decorators\n",
    "\n",
    "<https://calmcode.io/decorators/introduction.html>"
   ]
  },
  {
   "cell_type": "code",
   "execution_count": 11,
   "metadata": {},
   "outputs": [
    {
     "name": "stdout",
     "output_type": "stream",
     "text": [
      "this function took: 1.5561513900756836\n",
      "this function took: 2.4216179847717285\n"
     ]
    },
    {
     "data": {
      "text/plain": [
       "('Done!', 'Done!', 'Done!')"
      ]
     },
     "execution_count": 11,
     "metadata": {},
     "output_type": "execute_result"
    }
   ],
   "source": [
    "import time\n",
    "import random\n",
    "\n",
    "def stopwatch(f):\n",
    "    def func(*args, **kwargs):\n",
    "        tic = time.time()\n",
    "        result = f(*args, **kwargs)\n",
    "        print(f\"this function took: {time.time() - tic}\")\n",
    "        return result\n",
    "    return func\n",
    "\n",
    "def sleep_random(s=1):\n",
    "    t = s + random.random()\n",
    "    time.sleep(t)\n",
    "    return \"Done!\"\n",
    "\n",
    "timed_sleep = stopwatch(sleep_random)\n",
    "\n",
    "# 2 functions that are similar but also different\n",
    "sleep_random(), timed_sleep(), timed_sleep(2),\n"
   ]
  },
  {
   "cell_type": "code",
   "execution_count": 15,
   "metadata": {},
   "outputs": [
    {
     "name": "stdout",
     "output_type": "stream",
     "text": [
      "this function took: 1.359205722808838\n",
      "this function took: 2.0083940029144287\n",
      "this function took: 2.6565752029418945\n"
     ]
    },
    {
     "data": {
      "text/plain": [
       "('Done', 'Done', 'Done')"
      ]
     },
     "execution_count": 15,
     "metadata": {},
     "output_type": "execute_result"
    }
   ],
   "source": [
    "\n",
    "\n",
    "import time\n",
    "import random\n",
    "from functools import wraps\n",
    "\n",
    "def stopwatch(f):\n",
    "    @wraps(f)\n",
    "    def func(*args, **kwargs):\n",
    "        tic = time.time()\n",
    "        result = f(*args, **kwargs)\n",
    "        print(f\"this function took: {time.time() - tic}\")\n",
    "        return result\n",
    "    return func\n",
    "\n",
    "@stopwatch\n",
    "def sleep_random(s=1):\n",
    "    '''This function sleeps at least for `s` seconds'''\n",
    "    t = s + random.random()\n",
    "    time.sleep(t)\n",
    "    return f\"Done\"\n",
    "\n",
    "# better syntax using @\n",
    "sleep_random(), sleep_random(1), sleep_random(2)"
   ]
  },
  {
   "cell_type": "code",
   "execution_count": 16,
   "metadata": {},
   "outputs": [
    {
     "name": "stdout",
     "output_type": "stream",
     "text": [
      "\u001b[1;31mSignature:\u001b[0m \u001b[0msleep_random\u001b[0m\u001b[1;33m(\u001b[0m\u001b[0ms\u001b[0m\u001b[1;33m=\u001b[0m\u001b[1;36m1\u001b[0m\u001b[1;33m)\u001b[0m\u001b[1;33m\u001b[0m\u001b[1;33m\u001b[0m\u001b[0m\n",
      "\u001b[1;31mDocstring:\u001b[0m This function sleeps at least for `s` seconds\n",
      "\u001b[1;31mFile:\u001b[0m      e:\\git_repos\\dituoi_agp\\pl\\python\\notebooks\\<ipython-input-15-888a7267799e>\n",
      "\u001b[1;31mType:\u001b[0m      function\n"
     ]
    }
   ],
   "source": [
    "?sleep_random"
   ]
  },
  {
   "cell_type": "markdown",
   "metadata": {},
   "source": [
    "## Εμφάνιση λίστας ακεραίων \n",
    "\n",
    "Με κόμματα μεταξύ των στοιχείων της λίστας"
   ]
  },
  {
   "cell_type": "code",
   "execution_count": 13,
   "metadata": {},
   "outputs": [
    {
     "name": "stdout",
     "output_type": "stream",
     "text": [
      "1, 2, 3, 4, 5, 6, 7, 8, 9, 10\n",
      "1, 2, 3, 4, 5, 6, 7, 8, 9, 10\n",
      "1, 2, 3, 4, 5, 6, 7, 8, 9, 10\n",
      "1, 2, 3, 4, 5, 6, 7, 8, 9, 10\n",
      "1, 2, 3, 4, 5, 6, 7, 8, 9, 10\n"
     ]
    }
   ],
   "source": [
    "a_list = list(range(1,11))\n",
    "\n",
    "# 1\n",
    "for x in a_list[:-1]:\n",
    "    print(\"{:d}\".format(x), end =\", \"),\n",
    "print(a_list[-1])\n",
    "\n",
    "# 2\n",
    "print(*a_list, sep=', ')\n",
    "\n",
    "# 3\n",
    "print(str(a_list).replace('[', '').replace(']',''))\n",
    "\n",
    "# 4\n",
    "print(str(a_list)[1:-1])\n",
    "\n",
    "# 5\n",
    "print(', '.join(map(str, a_list)))"
   ]
  },
  {
   "cell_type": "markdown",
   "metadata": {},
   "source": [
    "## Simple FP example"
   ]
  },
  {
   "cell_type": "code",
   "execution_count": 5,
   "metadata": {},
   "outputs": [
    {
     "name": "stdout",
     "output_type": "stream",
     "text": [
      "[5, 12, 21, 32]\n"
     ]
    }
   ],
   "source": [
    "def mult(x, y):\n",
    "    return x * y\n",
    "\n",
    "\n",
    "a = [1, 2, 3, 4]\n",
    "b = [5, 6, 7, 8]\n",
    "\n",
    "result = map(mult, a, b)\n",
    "print(list(result))\n"
   ]
  },
  {
   "cell_type": "markdown",
   "metadata": {},
   "source": [
    "## Αλφάβητο στα αγγλικά και στα ελληνικά"
   ]
  },
  {
   "cell_type": "code",
   "execution_count": 8,
   "metadata": {},
   "outputs": [
    {
     "name": "stdout",
     "output_type": "stream",
     "text": [
      "abcdefghijklmnopqrstuvwxyz\n",
      "abcdefghijklmnopqrstuvwxyz\n",
      "abcdefghijklmnopqrstuvwxyz\n",
      "ABCDEFGHIJKLMNOPQRSTUVWXYZ\n",
      "αβγδεζηθικλμνξοπρςστυφχψω\n",
      "ΑΒΓΔΕΖΗΘΙΚΛΜΝΞΟΠΡ΢ΣΤΥΦΧΨΩ\n"
     ]
    }
   ],
   "source": [
    "# αλφάβητο στα αγγλικά (1ος τρόπος)\n",
    "tmp = []\n",
    "for i in range(ord('a'), ord('z')+1):\n",
    "    tmp.append(chr(i))\n",
    "en_alphabet = \"\".join(tmp)\n",
    "print(en_alphabet)\n",
    "\n",
    "# αλφάβητο στα αγγλικά (2ος τρόπος)\n",
    "en_alphabet = \"\".join([chr(i) for i in range(ord('a'), ord('z')+1)])\n",
    "print(en_alphabet)\n",
    "\n",
    "# αλφάβητο στα αγγλικά (3ος τρόπος)\n",
    "import string\n",
    "print(string.ascii_lowercase)\n",
    "print(string.ascii_uppercase)\n",
    "\n",
    "# αλφάβητο στα ελληνικά (προσοχή στο ς)\n",
    "el_alphabet = \"\".join([chr(i) for i in range(ord('α'), ord('ω')+1)])\n",
    "print(el_alphabet)\n",
    "\n",
    "# αλφάβητο στα ελληνικά\n",
    "el_alphabet = \"\".join([chr(i) for i in range(ord('Α'), ord('Ω')+1)])\n",
    "print(el_alphabet)"
   ]
  },
  {
   "cell_type": "markdown",
   "metadata": {},
   "source": [
    "## f-strings\n",
    "\n",
    "https://martinheinz.dev/blog/70"
   ]
  },
  {
   "cell_type": "code",
   "execution_count": 6,
   "metadata": {},
   "outputs": [
    {
     "name": "stdout",
     "output_type": "stream",
     "text": [
      "2022-04-06\n",
      "2022-04-06\n",
      "04/06/22\n",
      "19:36:28\n",
      "19:36:28\n",
      "19:36:28\n"
     ]
    }
   ],
   "source": [
    "# εκτύπωση ημερομηνιών - χρόνου\n",
    "\n",
    "import datetime\n",
    "d = datetime.datetime.today()\n",
    "print(f\"{d:%Y-%m-%d}\")\n",
    "print(f\"{d:%F}\") \n",
    "print(f\"{d:%x}\") # locale preferred date\n",
    "\n",
    "print(f\"{d:%H:%M:%S}\") \n",
    "print(f\"{d:%T}\")\n",
    "print(f\"{d:%X}\") # locale preferred time"
   ]
  },
  {
   "cell_type": "code",
   "execution_count": 8,
   "metadata": {},
   "outputs": [
    {
     "name": "stdout",
     "output_type": "stream",
     "text": [
      "x=10, y=20\n",
      "x=10, y=20\n"
     ]
    }
   ],
   "source": [
    "# εκτύπωση ονομάτων μεταβλητών μαζί με τις τιμές τους\n",
    "\n",
    "x = 10\n",
    "y = 20\n",
    "print(f\"x={x}, y={y}\")\n",
    "print(f\"{x=}, {y=}\") # από την έκδοση 3.8 και μετά\n"
   ]
  },
  {
   "cell_type": "code",
   "execution_count": null,
   "metadata": {},
   "outputs": [],
   "source": []
  }
 ],
 "metadata": {
  "interpreter": {
   "hash": "2334294e789e06453e89f7d5c3c2573679701f9bb5b76ad2158f91cca5c9244c"
  },
  "kernelspec": {
   "display_name": "Python 3.8.0 64-bit ('3.8.0-amd64': pyenv)",
   "name": "python3"
  },
  "language_info": {
   "codemirror_mode": {
    "name": "ipython",
    "version": 3
   },
   "file_extension": ".py",
   "mimetype": "text/x-python",
   "name": "python",
   "nbconvert_exporter": "python",
   "pygments_lexer": "ipython3",
   "version": "3.10.0"
  }
 },
 "nbformat": 4,
 "nbformat_minor": 2
}
