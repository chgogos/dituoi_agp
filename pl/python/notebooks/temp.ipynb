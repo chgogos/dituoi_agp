{
 "cells": [
  {
   "cell_type": "markdown",
   "metadata": {},
   "source": [
    "    Τμήμα Πληροφορικής και Τηλεπικοινωνιών - Άρτα \n",
    "    Πανεπιστήμιο Ιωαννίνων \n",
    "\n",
    "    Γκόγκος Χρήστος \n",
    "    http://chgogos.github.io/\n",
    "    \n",
    "    Τελευταία ενημέρωση: 2/7/2022"
   ]
  },
  {
   "cell_type": "markdown",
   "metadata": {},
   "source": [
    "## Το _"
   ]
  },
  {
   "cell_type": "code",
   "execution_count": 12,
   "metadata": {},
   "outputs": [
    {
     "data": {
      "text/plain": [
       "1048576"
      ]
     },
     "execution_count": 12,
     "metadata": {},
     "output_type": "execute_result"
    }
   ],
   "source": [
    "# η χρήση του _ για τη λήψη του τελευταίου αποτελέσματος\n",
    "\n",
    "2**20"
   ]
  },
  {
   "cell_type": "code",
   "execution_count": 13,
   "metadata": {},
   "outputs": [
    {
     "data": {
      "text/plain": [
       "1048576"
      ]
     },
     "execution_count": 13,
     "metadata": {},
     "output_type": "execute_result"
    }
   ],
   "source": [
    "_"
   ]
  },
  {
   "cell_type": "code",
   "execution_count": 14,
   "metadata": {},
   "outputs": [
    {
     "data": {
      "text/plain": [
       "<function __main__.<lambda>(x, y)>"
      ]
     },
     "execution_count": 14,
     "metadata": {},
     "output_type": "execute_result"
    }
   ],
   "source": [
    "lambda x,y:x+y"
   ]
  },
  {
   "cell_type": "code",
   "execution_count": 15,
   "metadata": {},
   "outputs": [
    {
     "data": {
      "text/plain": [
       "3"
      ]
     },
     "execution_count": 15,
     "metadata": {},
     "output_type": "execute_result"
    }
   ],
   "source": [
    "_(1,2)"
   ]
  },
  {
   "cell_type": "markdown",
   "metadata": {},
   "source": [
    "## Χρονομέτρηση κώδικα με το %timeit"
   ]
  },
  {
   "cell_type": "code",
   "execution_count": 16,
   "metadata": {},
   "outputs": [
    {
     "name": "stdout",
     "output_type": "stream",
     "text": [
      "1.6449240667982423\n",
      "29.8 ms ± 1.07 ms per loop (mean ± std. dev. of 7 runs, 10 loops each)\n",
      "1.644924066798227\n",
      "858 µs ± 18.7 µs per loop (mean ± std. dev. of 7 runs, 1,000 loops each)\n"
     ]
    }
   ],
   "source": [
    "n = 100000\n",
    "print(sum([1.0 / i ** 2 for i in range(1, n)]))\n",
    "%timeit sum([1. / i**2 for i in range(1,n)])\n",
    "\n",
    "import numpy as np\n",
    "\n",
    "print(np.sum(1.0 / np.arange(1.0, n) ** 2))\n",
    "%timeit np.sum(1. / np.arange(1.,n) ** 2)"
   ]
  },
  {
   "cell_type": "markdown",
   "metadata": {},
   "source": [
    "# disassembler"
   ]
  },
  {
   "cell_type": "code",
   "execution_count": 17,
   "metadata": {},
   "outputs": [
    {
     "name": "stdout",
     "output_type": "stream",
     "text": [
      "  5           0 LOAD_GLOBAL              0 (len)\n",
      "              2 LOAD_FAST                0 (alist)\n",
      "              4 CALL_FUNCTION            1\n",
      "              6 RETURN_VALUE\n"
     ]
    }
   ],
   "source": [
    "import dis\n",
    "\n",
    "\n",
    "def func(alist):\n",
    "    return len(alist)\n",
    "\n",
    "\n",
    "dis.dis(func)"
   ]
  },
  {
   "cell_type": "markdown",
   "metadata": {},
   "source": [
    "## Ισοδυναμία συναρτήσεων και λάμδα συναρτήσεων"
   ]
  },
  {
   "cell_type": "code",
   "execution_count": 18,
   "metadata": {},
   "outputs": [
    {
     "name": "stdout",
     "output_type": "stream",
     "text": [
      "  5           0 LOAD_FAST                0 (x)\n",
      "              2 LOAD_FAST                1 (y)\n",
      "              4 BINARY_ADD\n",
      "              6 RETURN_VALUE\n",
      "None\n",
      " 10           0 LOAD_FAST                0 (x)\n",
      "              2 LOAD_FAST                1 (y)\n",
      "              4 BINARY_ADD\n",
      "              6 RETURN_VALUE\n",
      "None\n"
     ]
    }
   ],
   "source": [
    "import dis\n",
    "\n",
    "\n",
    "def func(x, y):\n",
    "    return x + y\n",
    "\n",
    "\n",
    "print(dis.dis(func))\n",
    "\n",
    "f = lambda x, y: x + y\n",
    "\n",
    "print(dis.dis(f))"
   ]
  },
  {
   "cell_type": "markdown",
   "metadata": {},
   "source": [
    "## Logging"
   ]
  },
  {
   "cell_type": "code",
   "execution_count": 19,
   "metadata": {},
   "outputs": [
    {
     "name": "stderr",
     "output_type": "stream",
     "text": [
      "10:00:42 Αυτό είναι ένα μήνυμα INFO\n"
     ]
    }
   ],
   "source": [
    "import logging\n",
    "\n",
    "logging.basicConfig(format=\"%(asctime)s %(message)s\", datefmt=\"%H:%M:%S\")\n",
    "logger = logging.getLogger()\n",
    "logger.setLevel(logging.INFO)\n",
    "logger.info(\"Αυτό είναι ένα μήνυμα INFO\")"
   ]
  },
  {
   "cell_type": "markdown",
   "metadata": {},
   "source": [
    "## sys"
   ]
  },
  {
   "cell_type": "code",
   "execution_count": 20,
   "metadata": {},
   "outputs": [
    {
     "name": "stdout",
     "output_type": "stream",
     "text": [
      "c:\\Users\\chgogos\\.conda\\envs\\myenv\\python.exe\n"
     ]
    }
   ],
   "source": [
    "import sys\n",
    "\n",
    "print(sys.executable)"
   ]
  },
  {
   "cell_type": "markdown",
   "metadata": {},
   "source": [
    "## References\n"
   ]
  },
  {
   "cell_type": "code",
   "execution_count": 21,
   "metadata": {},
   "outputs": [
    {
     "name": "stdout",
     "output_type": "stream",
     "text": [
      "[42, 0, 0, 0]\n",
      "[42, 0, 0, 0]\n"
     ]
    }
   ],
   "source": [
    "a = [0,0,0,0]\n",
    "b = a # το b και το a δείχνουν στο ίδιο αντικείμενο\n",
    "b[0]=42\n",
    "print(a)\n",
    "print(b)"
   ]
  },
  {
   "cell_type": "markdown",
   "metadata": {},
   "source": [
    "## 2D arrays\n",
    "\n",
    "https://www.geeksforgeeks.org/python-using-2d-arrays-lists-the-right-way/"
   ]
  },
  {
   "cell_type": "code",
   "execution_count": 22,
   "metadata": {},
   "outputs": [
    {
     "name": "stdout",
     "output_type": "stream",
     "text": [
      "[1, 2, 0, 0, 0]\n"
     ]
    }
   ],
   "source": [
    "# Μονοδιάστατος πίνακας\n",
    "N = 5\n",
    "a = [0] * N\n",
    "a[0] = 1\n",
    "a[1] = 2\n",
    "print(a)"
   ]
  },
  {
   "cell_type": "code",
   "execution_count": 23,
   "metadata": {},
   "outputs": [
    {
     "name": "stdout",
     "output_type": "stream",
     "text": [
      "True\n",
      "[[4, 5, 6], [4, 5, 6]]\n"
     ]
    }
   ],
   "source": [
    "# 2d arrays in Python (example: 2X3 array of ints) - μη επιθυμητό αποτέλεσμα\n",
    "# http://www.pythontutor.com/visualize.html#mode=edit\n",
    "\n",
    "rows, cols = 2, 3\n",
    "a = [[0] * cols] * rows\n",
    "\n",
    "# η πρώτη και η δεύτερη γραμμή του πίνακα δείχνουν στο ίδιο αντικείμενο\n",
    "a[0][0] = 1 \n",
    "a[0][1] = 2 \n",
    "a[0][2] = 3\n",
    "a[1][0] = 4\n",
    "a[1][1] = 5\n",
    "a[1][2] = 6\n",
    "print(a[0]==a[1]) # True\n",
    "print(a)"
   ]
  },
  {
   "cell_type": "code",
   "execution_count": 24,
   "metadata": {},
   "outputs": [
    {
     "name": "stdout",
     "output_type": "stream",
     "text": [
      "False\n",
      "[[1, 2, 3], [4, 5, 6]]\n"
     ]
    }
   ],
   "source": [
    "# 2d arrays in Python (example: 2X3 array of ints)\n",
    "# http://www.pythontutor.com/visualize.html#mode=edit\n",
    "\n",
    "rows = 2\n",
    "cols = 3\n",
    "a = [[0 for j in range(cols)] for  i in range(rows)]\n",
    "# a = [[0] * cols  for  i in range(rows)] # η εναλλακτικά\n",
    "\n",
    "a[0][0] = 1 \n",
    "a[0][1] = 2 \n",
    "a[0][2] = 3\n",
    "a[1][0] = 4\n",
    "a[1][1] = 5\n",
    "a[1][2] = 6\n",
    "print(a[0]==a[1]) # False\n",
    "print(a)"
   ]
  },
  {
   "cell_type": "code",
   "execution_count": 25,
   "metadata": {},
   "outputs": [
    {
     "name": "stdout",
     "output_type": "stream",
     "text": [
      "[[1 2 3]\n",
      " [4 5 6]]\n"
     ]
    }
   ],
   "source": [
    "# 2d array με το numpy (πίνακας 2x3 με ακεραίους από το 1 μέχρι το 6)\n",
    "\n",
    "import numpy as np\n",
    "\n",
    "a = np.empty((2,3), dtype=np.int32)\n",
    "a[0][0] = 1 \n",
    "a[0][1] = 2 \n",
    "a[0][2] = 3\n",
    "a[1][0] = 4\n",
    "a[1][1] = 5\n",
    "a[1][2] = 6\n",
    "print(a)"
   ]
  },
  {
   "cell_type": "code",
   "execution_count": 26,
   "metadata": {},
   "outputs": [
    {
     "name": "stdout",
     "output_type": "stream",
     "text": [
      "[[1 2 3]\n",
      " [4 5 6]]\n"
     ]
    }
   ],
   "source": [
    "# 2d array με το numpy (πίνακας 2x3 με ακεραίους από το 1 μέχρι το 6)\n",
    "\n",
    "import numpy as np\n",
    "\n",
    "a = np.zeros((2,3), dtype=np.int32)\n",
    "a[0][0] = 1 \n",
    "a[0][1] = 2 \n",
    "a[0][2] = 3\n",
    "a[1][0] = 4\n",
    "a[1][1] = 5\n",
    "a[1][2] = 6\n",
    "print(a)"
   ]
  },
  {
   "cell_type": "code",
   "execution_count": 27,
   "metadata": {},
   "outputs": [
    {
     "name": "stdout",
     "output_type": "stream",
     "text": [
      "[[1 2 3]\n",
      " [4 5 6]]\n"
     ]
    }
   ],
   "source": [
    "# 2d array με το numpy (πίνακας 2x3 με ακεραίους από το 1 μέχρι το 6)\n",
    "\n",
    "a = np.arange(1,7).reshape(2,3)\n",
    "print(a)"
   ]
  },
  {
   "cell_type": "markdown",
   "metadata": {},
   "source": [
    "## Magic methods"
   ]
  },
  {
   "cell_type": "code",
   "execution_count": 28,
   "metadata": {},
   "outputs": [
    {
     "name": "stdout",
     "output_type": "stream",
     "text": [
      "3\n",
      "3\n",
      "4\n"
     ]
    }
   ],
   "source": [
    "# magic methods (dunders)\n",
    "\n",
    "print(1 + 2)\n",
    "\n",
    "print(int.__add__(1, 2))\n",
    "\n",
    "print(\"test\".__len__())"
   ]
  },
  {
   "cell_type": "markdown",
   "metadata": {},
   "source": [
    "## Διαχωριστικά χιλιάδων"
   ]
  },
  {
   "cell_type": "code",
   "execution_count": 29,
   "metadata": {},
   "outputs": [
    {
     "name": "stdout",
     "output_type": "stream",
     "text": [
      "100,000,000\n"
     ]
    }
   ],
   "source": [
    "# μεγάλοι αριθμοί (_ για το διαχωρισμό ψηφίων)\n",
    "\n",
    "x = 100_000_000\n",
    "print(f'{x:,}')"
   ]
  },
  {
   "cell_type": "markdown",
   "metadata": {},
   "source": [
    "## Zip"
   ]
  },
  {
   "cell_type": "code",
   "execution_count": 30,
   "metadata": {},
   "outputs": [
    {
     "name": "stdout",
     "output_type": "stream",
     "text": [
      "a 10\n",
      "b 20\n",
      "c 30\n"
     ]
    }
   ],
   "source": [
    "# zip\n",
    "\n",
    "a_list = ['a', 'b', 'c']\n",
    "b_list = [10,20,30]\n",
    "\n",
    "for a,b in zip(a_list, b_list):\n",
    "    print(a,b)"
   ]
  },
  {
   "cell_type": "markdown",
   "metadata": {},
   "source": [
    "## Αγνόηση τιμών σε αναθέσεις"
   ]
  },
  {
   "cell_type": "code",
   "execution_count": 31,
   "metadata": {},
   "outputs": [
    {
     "name": "stdout",
     "output_type": "stream",
     "text": [
      "1 3\n",
      "1 2 [3, 4, 5]\n",
      "1 2 5\n"
     ]
    }
   ],
   "source": [
    "# αγνόηση τιμής\n",
    "\n",
    "x, _, y = 1,2,3\n",
    "\n",
    "print(x,y)\n",
    "\n",
    "x,y,*z = (1,2,3,4,5)\n",
    "\n",
    "print(x,y,z)\n",
    "\n",
    "x,y,*_, z = (1,2,3,4,5)\n",
    "print(x,y,z)"
   ]
  },
  {
   "cell_type": "code",
   "execution_count": 32,
   "metadata": {},
   "outputs": [
    {
     "name": "stdout",
     "output_type": "stream",
     "text": [
      "5 10\n",
      "5\n",
      "10\n"
     ]
    }
   ],
   "source": [
    "#setattr, getattr\n",
    "\n",
    "class Point:\n",
    "    pass\n",
    "\n",
    "p1 = Point()\n",
    "\n",
    "setattr(p1, 'x', 5)\n",
    "setattr(p1, 'y', 10)\n",
    "\n",
    "print(p1.x, p1.y)\n",
    "for k in ['x', 'y']:\n",
    "    print(getattr(p1, k))"
   ]
  },
  {
   "cell_type": "markdown",
   "metadata": {},
   "source": [
    "## Iterators"
   ]
  },
  {
   "cell_type": "code",
   "execution_count": 33,
   "metadata": {},
   "outputs": [
    {
     "name": "stdout",
     "output_type": "stream",
     "text": [
      "[('a', 10), ('b', 20), ('c', 30)]\n"
     ]
    }
   ],
   "source": [
    "# εξάντληση iterator\n",
    "\n",
    "a_list = ['a', 'b', 'c']\n",
    "b_list = [10,20,30]\n",
    "\n",
    "ab = zip(a_list, b_list)\n",
    "print(list(ab)) # εξάντληση του iterator\n",
    "\n",
    "for a,b in ab:\n",
    "    print(a,b) \n"
   ]
  },
  {
   "cell_type": "markdown",
   "metadata": {},
   "source": [
    "## os.walk\n"
   ]
  },
  {
   "cell_type": "code",
   "execution_count": 34,
   "metadata": {
    "tags": [
     "outputPrepend"
    ]
   },
   "outputs": [
    {
     "name": "stdout",
     "output_type": "stream",
     "text": [
      "../automation\\README.md\n",
      "../concurrency\\__pycache__\\fib.cpython-38.pyc\n",
      "../concurrency\\fib.py\n",
      "../concurrency\\index.md\n",
      "../concurrency\\server-1.py\n",
      "../concurrency\\server-2.py\n",
      "../concurrency\\__pycache__\n",
      "../cython_example0\\build\\lib.win-amd64-3.8\\helloworld.cp38-win_amd64.pyd\n",
      "../cython_example0\\build\\temp.win-amd64-3.8\\Release\\helloworld.cp38-win_amd64.exp\n",
      "../cython_example0\\build\\temp.win-amd64-3.8\\Release\\helloworld.cp38-win_amd64.lib\n",
      "../cython_example0\\build\\temp.win-amd64-3.8\\Release\\helloworld.obj\n",
      "../cython_example0\\build\\temp.win-amd64-3.8\\Release\n",
      "../cython_example0\\build\\lib.win-amd64-3.8\n",
      "../cython_example0\\build\\temp.win-amd64-3.8\n",
      "../cython_example0\\.gitignore\n",
      "../cython_example0\\helloworld.c\n",
      "../cython_example0\\helloworld.cp38-win_amd64.pyd\n",
      "../cython_example0\\helloworld.pyx\n",
      "../cython_example0\\index.md\n",
      "../cython_example0\\setup.py\n",
      "../cython_example0\\build\n",
      "../cython_example1\\build\\lib.win-amd64-3.8\\example_cy.cp38-win_amd64.pyd\n",
      "../cython_example1\\build\\temp.win-amd64-3.8\\Release\\example_cy.cp38-win_amd64.exp\n",
      "../cython_example1\\build\\temp.win-amd64-3.8\\Release\\example_cy.cp38-win_amd64.lib\n",
      "../cython_example1\\build\\temp.win-amd64-3.8\\Release\\example_cy.obj\n",
      "../cython_example1\\build\\temp.win-amd64-3.8\\Release\n",
      "../cython_example1\\build\\lib.win-amd64-3.8\n",
      "../cython_example1\\build\\temp.win-amd64-3.8\n",
      "../cython_example1\\__pycache__\\example_py.cpython-38.pyc\n",
      "../cython_example1\\.gitignore\n",
      "../cython_example1\\call_cython_code_example_cy.py\n",
      "../cython_example1\\example_cy.c\n",
      "../cython_example1\\example_cy.cp38-win_amd64.pyd\n",
      "../cython_example1\\example_cy.pyx\n",
      "../cython_example1\\example_py.py\n",
      "../cython_example1\\index.md\n",
      "../cython_example1\\setup.py\n",
      "../cython_example1\\timing_code.py\n",
      "../cython_example1\\build\n",
      "../cython_example1\\__pycache__\n",
      "../excel_vs_python\\pivot_table.xlsx\n",
      "../excel_vs_python\\python_vs_excel.ipynb\n",
      "../excel_vs_python\\supermarket_sales.xlsx\n",
      "../excel_vs_python\\supermarket_sales_pivot_table.xlsx\n",
      "../gui\\pyqt_todo\\main.py\n",
      "../gui\\pyqt_todo\\todolist.py\n",
      "../gui\\pyqt_todo\\todolist.txt\n",
      "../gui\\tkinter_canvas\\canvas_shapes.py\n",
      "../gui\\tkinter_fileselector\\a.txt\n",
      "../gui\\tkinter_fileselector\\b.txt\n",
      "../gui\\tkinter_fileselector\\c.md\n",
      "../gui\\tkinter_fileselector\\file_selector.py\n",
      "../gui\\tkinter_matplotlib\\main.py\n",
      "../gui\\tkinter_pillow\\arta.jpg\n",
      "../gui\\tkinter_pillow\\simple_image_processing.py\n",
      "../gui\\tkinter_stringvar\\stringvar_example.py\n",
      "../gui\\tkinter_todo\\tkinter_canvas.png\n",
      "../gui\\tkinter_todo\\tkinter_todo.png\n",
      "../gui\\tkinter_todo\\todolist.py\n",
      "../gui\\tkinter_various_examples\\example1.py\n",
      "../gui\\wxpython_todo\\.vscode\\settings.json\n",
      "../gui\\wxpython_todo\\01_hello.py\n",
      "../gui\\wxpython_todo\\02_hello.py\n",
      "../gui\\wxpython_todo\\03_click.py\n",
      "../gui\\wxpython_todo\\04_messagebox.py\n",
      "../gui\\wxpython_todo\\index.md\n",
      "../gui\\wxpython_todo\\todolist.py\n",
      "../gui\\wxpython_todo\\wxpython_todo.png\n",
      "../gui\\wxpython_todo\\.vscode\n",
      "../gui\\index.md\n",
      "../gui\\pyqt_todo\n",
      "../gui\\tkinter_canvas\n",
      "../gui\\tkinter_fileselector\n",
      "../gui\\tkinter_matplotlib\n",
      "../gui\\tkinter_pillow\n",
      "../gui\\tkinter_stringvar\n",
      "../gui\\tkinter_todo\n",
      "../gui\\tkinter_various_examples\n",
      "../gui\\wxpython_todo\n",
      "../interactive\\index.md\n",
      "../interactive\\interactive01.py\n",
      "../lexer_parser\\__pycache__\\Lexer.cpython-38.pyc\n",
      "../lexer_parser\\__pycache__\\Lexer.cpython-39.pyc\n",
      "../lexer_parser\\__pycache__\\Token.cpython-38.pyc\n",
      "../lexer_parser\\__pycache__\\Token.cpython-39.pyc\n",
      "../lexer_parser\\__pycache__\\TokenTypes.cpython-38.pyc\n",
      "../lexer_parser\\__pycache__\\TokenTypes.cpython-39.pyc\n",
      "../lexer_parser\\index.md\n",
      "../lexer_parser\\Lexer.py\n",
      "../lexer_parser\\LexerTest1.py\n",
      "../lexer_parser\\LexerTest2.py\n",
      "../lexer_parser\\Parser.py\n",
      "../lexer_parser\\Token.py\n",
      "../lexer_parser\\TokenTypes.py\n",
      "../lexer_parser\\__pycache__\n",
      "../multiprocessing\\example01.py\n",
      "../multiprocessing\\example02.py\n",
      "../multiprocessing\\example03.py\n",
      "../multiprocessing\\example04.py\n",
      "../multiprocessing\\example05.py\n",
      "../multiprocessing\\index.md\n",
      "../notebooks\\.ipynb_checkpoints\\01-intro-checkpoint.ipynb\n",
      "../notebooks\\.ipynb_checkpoints\\02-strings-checkpoint.ipynb\n",
      "../notebooks\\.ipynb_checkpoints\\03-lists-tuples-dictionaries-sets-checkpoint.ipynb\n",
      "../notebooks\\.ipynb_checkpoints\\04-conditionals-checkpoint.ipynb\n",
      "../notebooks\\.ipynb_checkpoints\\05-loops-checkpoint.ipynb\n",
      "../notebooks\\.ipynb_checkpoints\\06-comprehensions-checkpoint.ipynb\n",
      "../notebooks\\.ipynb_checkpoints\\07-exceptions-checkpoint.ipynb\n",
      "../notebooks\\.ipynb_checkpoints\\08-files-checkpoint.ipynb\n",
      "../notebooks\\.ipynb_checkpoints\\09-functions-checkpoint.ipynb\n",
      "../notebooks\\.ipynb_checkpoints\\10-lambdas-checkpoint.ipynb\n",
      "../notebooks\\.ipynb_checkpoints\\11-classes-checkpoint.ipynb\n",
      "../notebooks\\.ipynb_checkpoints\\12-logging-checkpoint.ipynb\n",
      "../notebooks\\.ipynb_checkpoints\\13-testing-checkpoint.ipynb\n",
      "../notebooks\\.ipynb_checkpoints\\temp-checkpoint.ipynb\n",
      "../notebooks\\.ipynb_checkpoints\\threads-checkpoint.ipynb\n",
      "../notebooks\\__pycache__\\parsetab.cpython-38.pyc\n",
      "../notebooks\\01-intro.ipynb\n",
      "../notebooks\\02-strings.ipynb\n",
      "../notebooks\\03-lists-tuples-dictionaries-sets.ipynb\n",
      "../notebooks\\04-conditionals.ipynb\n",
      "../notebooks\\05-loops.ipynb\n",
      "../notebooks\\06-comprehensions.ipynb\n",
      "../notebooks\\07-exceptions.ipynb\n",
      "../notebooks\\08-files.ipynb\n",
      "../notebooks\\09-functions.ipynb\n",
      "../notebooks\\10-lambdas.ipynb\n",
      "../notebooks\\11-classes.ipynb\n",
      "../notebooks\\12-logging.ipynb\n",
      "../notebooks\\13-testing.ipynb\n",
      "../notebooks\\14-csv.ipynb\n",
      "../notebooks\\15-excel.ipynb\n",
      "../notebooks\\16-xml.ipynb\n",
      "../notebooks\\17-json.ipynb\n",
      "../notebooks\\18-yaml.ipynb\n",
      "../notebooks\\19-pickle.ipynb\n",
      "../notebooks\\20-datetime.ipynb\n",
      "../notebooks\\21-random.ipynb\n",
      "../notebooks\\22-regular_expressions.ipynb\n",
      "../notebooks\\23-generators.ipynb\n",
      "../notebooks\\24-iterators.ipynb\n",
      "../notebooks\\25-itertools.ipynb\n",
      "../notebooks\\26-enums.ipynb\n",
      "../notebooks\\27-urllib.ipynb\n",
      "../notebooks\\28-requests.ipynb\n",
      "../notebooks\\29-bs4.ipynb\n",
      "../notebooks\\30-collections.ipynb\n",
      "../notebooks\\31-PLY.ipynb\n",
      "../notebooks\\32-alias.ipynb\n",
      "../notebooks\\33-abstract_syntax_trees.ipynb\n",
      "../notebooks\\34-operator_overloading.ipynb\n",
      "../notebooks\\35-mutable_vs_immutable.ipynb\n",
      "../notebooks\\36-numpy.ipynb\n",
      "../notebooks\\37-pandas.ipynb\n",
      "../notebooks\\38-matplotlib.ipynb\n",
      "../notebooks\\39-dataclasses.ipynb\n",
      "../notebooks\\40-functools.ipynb\n",
      "../notebooks\\41-LEGB.ipynb\n",
      "../notebooks\\42-os.ipynb\n",
      "../notebooks\\43-easter_eggs.ipynb\n",
      "../notebooks\\44-seaborn.ipynb\n",
      "../notebooks\\45-datasets.ipynb\n",
      "../notebooks\\APIs.ipynb\n",
      "../notebooks\\attrs.ipynb\n",
      "../notebooks\\birthday_paradox.pkl\n",
      "../notebooks\\code_analysis.ipynb\n",
      "../notebooks\\configparser.ipynb\n",
      "../notebooks\\convert.bat\n",
      "../notebooks\\coroutines.ipynb\n",
      "../notebooks\\cython.ipynb\n",
      "../notebooks\\data.pkl\n",
      "../notebooks\\data2.pkl\n",
      "../notebooks\\decorators.ipynb\n",
      "../notebooks\\dituoi.pkl\n",
      "../notebooks\\mocking.ipynb\n",
      "../notebooks\\parser.out\n",
      "../notebooks\\parsetab.py\n",
      "../notebooks\\partial_function_example1.py\n",
      "../notebooks\\partial_function_example2.py\n",
      "../notebooks\\phoneboook.db\n",
      "../notebooks\\pillow.ipynb\n",
      "../notebooks\\print_debugging.ipynb\n",
      "../notebooks\\profiling.ipynb\n",
      "../notebooks\\pylint.ipynb\n",
      "../notebooks\\sample.log\n",
      "../notebooks\\scikitlearn.ipynb\n",
      "../notebooks\\sols.ipynb\n",
      "../notebooks\\sols7_1.ipynb\n",
      "../notebooks\\sols7_2a.ipynb\n",
      "../notebooks\\sols7_2a_alt.ipynb\n",
      "../notebooks\\sols7_2b.ipynb\n",
      "../notebooks\\sols7_2b_alt.ipynb\n",
      "../notebooks\\splat_operator.ipynb\n",
      "../notebooks\\sqlite.ipynb\n",
      "../notebooks\\temp.ipynb\n",
      "../notebooks\\test.txt\n",
      "../notebooks\\threads.ipynb\n",
      "../notebooks\\time_code_execution.py\n",
      "../notebooks\\wiki.jpg\n",
      "../notebooks\\.ipynb_checkpoints\n",
      "../notebooks\\__pycache__\n",
      "../pyinstaller\\example1\\build\\main\\Analysis-00.toc\n",
      "../pyinstaller\\example1\\build\\main\\base_library.zip\n",
      "../pyinstaller\\example1\\build\\main\\COLLECT-00.toc\n",
      "../pyinstaller\\example1\\build\\main\\EXE-00.toc\n",
      "../pyinstaller\\example1\\build\\main\\main.exe\n",
      "../pyinstaller\\example1\\build\\main\\main.exe.manifest\n",
      "../pyinstaller\\example1\\build\\main\\main.pkg\n",
      "../pyinstaller\\example1\\build\\main\\PKG-00.toc\n",
      "../pyinstaller\\example1\\build\\main\\PYZ-00.pyz\n",
      "../pyinstaller\\example1\\build\\main\\PYZ-00.toc\n",
      "../pyinstaller\\example1\\build\\main\\Tree-00.toc\n",
      "../pyinstaller\\example1\\build\\main\\Tree-01.toc\n",
      "../pyinstaller\\example1\\build\\main\\Tree-02.toc\n",
      "../pyinstaller\\example1\\build\\main\\warn-main.txt\n",
      "../pyinstaller\\example1\\build\\main\\xref-main.html\n",
      "../pyinstaller\\example1\\build\\main\n",
      "../pyinstaller\\example1\\dist\\main\\api-ms-win-core-console-l1-1-0.dll\n",
      "../pyinstaller\\example1\\dist\\main\\api-ms-win-core-datetime-l1-1-0.dll\n",
      "../pyinstaller\\example1\\dist\\main\\api-ms-win-core-debug-l1-1-0.dll\n",
      "../pyinstaller\\example1\\dist\\main\\api-ms-win-core-errorhandling-l1-1-0.dll\n",
      "../pyinstaller\\example1\\dist\\main\\api-ms-win-core-fibers-l1-1-0.dll\n",
      "../pyinstaller\\example1\\dist\\main\\api-ms-win-core-file-l1-1-0.dll\n",
      "../pyinstaller\\example1\\dist\\main\\api-ms-win-core-file-l1-2-0.dll\n",
      "../pyinstaller\\example1\\dist\\main\\api-ms-win-core-file-l2-1-0.dll\n",
      "../pyinstaller\\example1\\dist\\main\\api-ms-win-core-handle-l1-1-0.dll\n",
      "../pyinstaller\\example1\\dist\\main\\api-ms-win-core-heap-l1-1-0.dll\n",
      "../pyinstaller\\example1\\dist\\main\\api-ms-win-core-interlocked-l1-1-0.dll\n",
      "../pyinstaller\\example1\\dist\\main\\api-ms-win-core-libraryloader-l1-1-0.dll\n",
      "../pyinstaller\\example1\\dist\\main\\api-ms-win-core-localization-l1-2-0.dll\n",
      "../pyinstaller\\example1\\dist\\main\\api-ms-win-core-memory-l1-1-0.dll\n",
      "../pyinstaller\\example1\\dist\\main\\api-ms-win-core-namedpipe-l1-1-0.dll\n",
      "../pyinstaller\\example1\\dist\\main\\api-ms-win-core-processenvironment-l1-1-0.dll\n",
      "../pyinstaller\\example1\\dist\\main\\api-ms-win-core-processthreads-l1-1-0.dll\n",
      "../pyinstaller\\example1\\dist\\main\\api-ms-win-core-processthreads-l1-1-1.dll\n",
      "../pyinstaller\\example1\\dist\\main\\api-ms-win-core-profile-l1-1-0.dll\n",
      "../pyinstaller\\example1\\dist\\main\\api-ms-win-core-rtlsupport-l1-1-0.dll\n",
      "../pyinstaller\\example1\\dist\\main\\api-ms-win-core-string-l1-1-0.dll\n",
      "../pyinstaller\\example1\\dist\\main\\api-ms-win-core-synch-l1-1-0.dll\n",
      "../pyinstaller\\example1\\dist\\main\\api-ms-win-core-synch-l1-2-0.dll\n",
      "../pyinstaller\\example1\\dist\\main\\api-ms-win-core-sysinfo-l1-1-0.dll\n",
      "../pyinstaller\\example1\\dist\\main\\api-ms-win-core-timezone-l1-1-0.dll\n",
      "../pyinstaller\\example1\\dist\\main\\api-ms-win-core-util-l1-1-0.dll\n",
      "../pyinstaller\\example1\\dist\\main\\api-ms-win-crt-conio-l1-1-0.dll\n",
      "../pyinstaller\\example1\\dist\\main\\api-ms-win-crt-convert-l1-1-0.dll\n",
      "../pyinstaller\\example1\\dist\\main\\api-ms-win-crt-environment-l1-1-0.dll\n",
      "../pyinstaller\\example1\\dist\\main\\api-ms-win-crt-filesystem-l1-1-0.dll\n",
      "../pyinstaller\\example1\\dist\\main\\api-ms-win-crt-heap-l1-1-0.dll\n",
      "../pyinstaller\\example1\\dist\\main\\api-ms-win-crt-locale-l1-1-0.dll\n",
      "../pyinstaller\\example1\\dist\\main\\api-ms-win-crt-math-l1-1-0.dll\n",
      "../pyinstaller\\example1\\dist\\main\\api-ms-win-crt-process-l1-1-0.dll\n",
      "../pyinstaller\\example1\\dist\\main\\api-ms-win-crt-runtime-l1-1-0.dll\n",
      "../pyinstaller\\example1\\dist\\main\\api-ms-win-crt-stdio-l1-1-0.dll\n",
      "../pyinstaller\\example1\\dist\\main\\api-ms-win-crt-string-l1-1-0.dll\n",
      "../pyinstaller\\example1\\dist\\main\\api-ms-win-crt-time-l1-1-0.dll\n",
      "../pyinstaller\\example1\\dist\\main\\api-ms-win-crt-utility-l1-1-0.dll\n",
      "../pyinstaller\\example1\\dist\\main\\base_library.zip\n",
      "../pyinstaller\\example1\\dist\\main\\ffi-8.dll\n",
      "../pyinstaller\\example1\\dist\\main\\LIBBZ2.dll\n",
      "../pyinstaller\\example1\\dist\\main\\libcrypto-3-x64.dll\n",
      "../pyinstaller\\example1\\dist\\main\\liblzma.dll\n",
      "../pyinstaller\\example1\\dist\\main\\libssl-3-x64.dll\n",
      "../pyinstaller\\example1\\dist\\main\\main.exe\n",
      "../pyinstaller\\example1\\dist\\main\\pyexpat.pyd\n",
      "../pyinstaller\\example1\\dist\\main\\python38.dll\n",
      "../pyinstaller\\example1\\dist\\main\\select.pyd\n",
      "../pyinstaller\\example1\\dist\\main\\ucrtbase.dll\n",
      "../pyinstaller\\example1\\dist\\main\\unicodedata.pyd\n",
      "../pyinstaller\\example1\\dist\\main\\VCRUNTIME140.dll\n",
      "../pyinstaller\\example1\\dist\\main\\zlib.dll\n",
      "../pyinstaller\\example1\\dist\\main\\_asyncio.pyd\n",
      "../pyinstaller\\example1\\dist\\main\\_bz2.pyd\n",
      "../pyinstaller\\example1\\dist\\main\\_ctypes.pyd\n",
      "../pyinstaller\\example1\\dist\\main\\_decimal.pyd\n",
      "../pyinstaller\\example1\\dist\\main\\_hashlib.pyd\n",
      "../pyinstaller\\example1\\dist\\main\\_lzma.pyd\n",
      "../pyinstaller\\example1\\dist\\main\\_multiprocessing.pyd\n",
      "../pyinstaller\\example1\\dist\\main\\_overlapped.pyd\n",
      "../pyinstaller\\example1\\dist\\main\\_queue.pyd\n",
      "../pyinstaller\\example1\\dist\\main\\_socket.pyd\n",
      "../pyinstaller\\example1\\dist\\main\\_ssl.pyd\n",
      "../pyinstaller\\example1\\dist\\main\n",
      "../pyinstaller\\example1\\.gitignore\n",
      "../pyinstaller\\example1\\main.py\n",
      "../pyinstaller\\example1\\main.spec\n",
      "../pyinstaller\\example1\\build\n",
      "../pyinstaller\\example1\\dist\n",
      "../pyinstaller\\README.md\n",
      "../pyinstaller\\example1\n",
      "../quizzes\\quiz1.py\n",
      "../scraping\\dit.py\n",
      "../testing0\\faculty.py\n",
      "../testing1\\.idea\\inspectionProfiles\\profiles_settings.xml\n",
      "../testing1\\.idea\\.gitignore\n",
      "../testing1\\.idea\\lab01.iml\n",
      "../testing1\\.idea\\misc.xml\n",
      "../testing1\\.idea\\modules.xml\n",
      "../testing1\\.idea\\vcs.xml\n",
      "../testing1\\.idea\\workspace.xml\n",
      "../testing1\\.idea\\inspectionProfiles\n",
      "../testing1\\venv\\Lib\\site-packages\\pip\\_internal\\cli\\__pycache__\\autocompletion.cpython-38.pyc\n",
      "../testing1\\venv\\Lib\\site-packages\\pip\\_internal\\cli\\__pycache__\\base_command.cpython-38.pyc\n",
      "../testing1\\venv\\Lib\\site-packages\\pip\\_internal\\cli\\__pycache__\\cmdoptions.cpython-38.pyc\n",
      "../testing1\\venv\\Lib\\site-packages\\pip\\_internal\\cli\\__pycache__\\command_context.cpython-38.pyc\n",
      "../testing1\\venv\\Lib\\site-packages\\pip\\_internal\\cli\\__pycache__\\main.cpython-38.pyc\n",
      "../testing1\\venv\\Lib\\site-packages\\pip\\_internal\\cli\\__pycache__\\main_parser.cpython-38.pyc\n",
      "../testing1\\venv\\Lib\\site-packages\\pip\\_internal\\cli\\__pycache__\\parser.cpython-38.pyc\n",
      "../testing1\\venv\\Lib\\site-packages\\pip\\_internal\\cli\\__pycache__\\progress_bars.cpython-38.pyc\n",
      "../testing1\\venv\\Lib\\site-packages\\pip\\_internal\\cli\\__pycache__\\req_command.cpython-38.pyc\n",
      "../testing1\\venv\\Lib\\site-packages\\pip\\_internal\\cli\\__pycache__\\spinners.cpython-38.pyc\n",
      "../testing1\\venv\\Lib\\site-packages\\pip\\_internal\\cli\\__pycache__\\status_codes.cpython-38.pyc\n",
      "../testing1\\venv\\Lib\\site-packages\\pip\\_internal\\cli\\__pycache__\\__init__.cpython-38.pyc\n",
      "../testing1\\venv\\Lib\\site-packages\\pip\\_internal\\cli\\autocompletion.py\n",
      "../testing1\\venv\\Lib\\site-packages\\pip\\_internal\\cli\\base_command.py\n",
      "../testing1\\venv\\Lib\\site-packages\\pip\\_internal\\cli\\cmdoptions.py\n",
      "../testing1\\venv\\Lib\\site-packages\\pip\\_internal\\cli\\command_context.py\n",
      "../testing1\\venv\\Lib\\site-packages\\pip\\_internal\\cli\\main.py\n",
      "../testing1\\venv\\Lib\\site-packages\\pip\\_internal\\cli\\main_parser.py\n",
      "../testing1\\venv\\Lib\\site-packages\\pip\\_internal\\cli\\parser.py\n",
      "../testing1\\venv\\Lib\\site-packages\\pip\\_internal\\cli\\progress_bars.py\n",
      "../testing1\\venv\\Lib\\site-packages\\pip\\_internal\\cli\\req_command.py\n",
      "../testing1\\venv\\Lib\\site-packages\\pip\\_internal\\cli\\spinners.py\n",
      "../testing1\\venv\\Lib\\site-packages\\pip\\_internal\\cli\\status_codes.py\n",
      "../testing1\\venv\\Lib\\site-packages\\pip\\_internal\\cli\\__init__.py\n",
      "../testing1\\venv\\Lib\\site-packages\\pip\\_internal\\cli\\__pycache__\n",
      "../testing1\\venv\\Lib\\site-packages\\pip\\_internal\\commands\\__pycache__\\cache.cpython-38.pyc\n",
      "../testing1\\venv\\Lib\\site-packages\\pip\\_internal\\commands\\__pycache__\\check.cpython-38.pyc\n",
      "../testing1\\venv\\Lib\\site-packages\\pip\\_internal\\commands\\__pycache__\\completion.cpython-38.pyc\n",
      "../testing1\\venv\\Lib\\site-packages\\pip\\_internal\\commands\\__pycache__\\configuration.cpython-38.pyc\n",
      "../testing1\\venv\\Lib\\site-packages\\pip\\_internal\\commands\\__pycache__\\debug.cpython-38.pyc\n",
      "../testing1\\venv\\Lib\\site-packages\\pip\\_internal\\commands\\__pycache__\\download.cpython-38.pyc\n",
      "../testing1\\venv\\Lib\\site-packages\\pip\\_internal\\commands\\__pycache__\\freeze.cpython-38.pyc\n",
      "../testing1\\venv\\Lib\\site-packages\\pip\\_internal\\commands\\__pycache__\\hash.cpython-38.pyc\n",
      "../testing1\\venv\\Lib\\site-packages\\pip\\_internal\\commands\\__pycache__\\help.cpython-38.pyc\n",
      "../testing1\\venv\\Lib\\site-packages\\pip\\_internal\\commands\\__pycache__\\install.cpython-38.pyc\n",
      "../testing1\\venv\\Lib\\site-packages\\pip\\_internal\\commands\\__pycache__\\list.cpython-38.pyc\n",
      "../testing1\\venv\\Lib\\site-packages\\pip\\_internal\\commands\\__pycache__\\search.cpython-38.pyc\n",
      "../testing1\\venv\\Lib\\site-packages\\pip\\_internal\\commands\\__pycache__\\show.cpython-38.pyc\n",
      "../testing1\\venv\\Lib\\site-packages\\pip\\_internal\\commands\\__pycache__\\uninstall.cpython-38.pyc\n",
      "../testing1\\venv\\Lib\\site-packages\\pip\\_internal\\commands\\__pycache__\\wheel.cpython-38.pyc\n",
      "../testing1\\venv\\Lib\\site-packages\\pip\\_internal\\commands\\__pycache__\\__init__.cpython-38.pyc\n",
      "../testing1\\venv\\Lib\\site-packages\\pip\\_internal\\commands\\cache.py\n",
      "../testing1\\venv\\Lib\\site-packages\\pip\\_internal\\commands\\check.py\n",
      "../testing1\\venv\\Lib\\site-packages\\pip\\_internal\\commands\\completion.py\n",
      "../testing1\\venv\\Lib\\site-packages\\pip\\_internal\\commands\\configuration.py\n",
      "../testing1\\venv\\Lib\\site-packages\\pip\\_internal\\commands\\debug.py\n",
      "../testing1\\venv\\Lib\\site-packages\\pip\\_internal\\commands\\download.py\n",
      "../testing1\\venv\\Lib\\site-packages\\pip\\_internal\\commands\\freeze.py\n",
      "../testing1\\venv\\Lib\\site-packages\\pip\\_internal\\commands\\hash.py\n",
      "../testing1\\venv\\Lib\\site-packages\\pip\\_internal\\commands\\help.py\n",
      "../testing1\\venv\\Lib\\site-packages\\pip\\_internal\\commands\\install.py\n",
      "../testing1\\venv\\Lib\\site-packages\\pip\\_internal\\commands\\list.py\n",
      "../testing1\\venv\\Lib\\site-packages\\pip\\_internal\\commands\\search.py\n",
      "../testing1\\venv\\Lib\\site-packages\\pip\\_internal\\commands\\show.py\n",
      "../testing1\\venv\\Lib\\site-packages\\pip\\_internal\\commands\\uninstall.py\n",
      "../testing1\\venv\\Lib\\site-packages\\pip\\_internal\\commands\\wheel.py\n",
      "../testing1\\venv\\Lib\\site-packages\\pip\\_internal\\commands\\__init__.py\n",
      "../testing1\\venv\\Lib\\site-packages\\pip\\_internal\\commands\\__pycache__\n",
      "../testing1\\venv\\Lib\\site-packages\\pip\\_internal\\distributions\\__pycache__\\base.cpython-38.pyc\n",
      "../testing1\\venv\\Lib\\site-packages\\pip\\_internal\\distributions\\__pycache__\\installed.cpython-38.pyc\n",
      "../testing1\\venv\\Lib\\site-packages\\pip\\_internal\\distributions\\__pycache__\\sdist.cpython-38.pyc\n",
      "../testing1\\venv\\Lib\\site-packages\\pip\\_internal\\distributions\\__pycache__\\wheel.cpython-38.pyc\n",
      "../testing1\\venv\\Lib\\site-packages\\pip\\_internal\\distributions\\__pycache__\\__init__.cpython-38.pyc\n",
      "../testing1\\venv\\Lib\\site-packages\\pip\\_internal\\distributions\\base.py\n",
      "../testing1\\venv\\Lib\\site-packages\\pip\\_internal\\distributions\\installed.py\n",
      "../testing1\\venv\\Lib\\site-packages\\pip\\_internal\\distributions\\sdist.py\n",
      "../testing1\\venv\\Lib\\site-packages\\pip\\_internal\\distributions\\wheel.py\n",
      "../testing1\\venv\\Lib\\site-packages\\pip\\_internal\\distributions\\__init__.py\n",
      "../testing1\\venv\\Lib\\site-packages\\pip\\_internal\\distributions\\__pycache__\n",
      "../testing1\\venv\\Lib\\site-packages\\pip\\_internal\\index\\__pycache__\\collector.cpython-38.pyc\n",
      "../testing1\\venv\\Lib\\site-packages\\pip\\_internal\\index\\__pycache__\\package_finder.cpython-38.pyc\n",
      "../testing1\\venv\\Lib\\site-packages\\pip\\_internal\\index\\__pycache__\\__init__.cpython-38.pyc\n",
      "../testing1\\venv\\Lib\\site-packages\\pip\\_internal\\index\\collector.py\n",
      "../testing1\\venv\\Lib\\site-packages\\pip\\_internal\\index\\package_finder.py\n",
      "../testing1\\venv\\Lib\\site-packages\\pip\\_internal\\index\\__init__.py\n",
      "../testing1\\venv\\Lib\\site-packages\\pip\\_internal\\index\\__pycache__\n",
      "../testing1\\venv\\Lib\\site-packages\\pip\\_internal\\models\\__pycache__\\candidate.cpython-38.pyc\n",
      "../testing1\\venv\\Lib\\site-packages\\pip\\_internal\\models\\__pycache__\\direct_url.cpython-38.pyc\n",
      "../testing1\\venv\\Lib\\site-packages\\pip\\_internal\\models\\__pycache__\\format_control.cpython-38.pyc\n",
      "../testing1\\venv\\Lib\\site-packages\\pip\\_internal\\models\\__pycache__\\index.cpython-38.pyc\n",
      "../testing1\\venv\\Lib\\site-packages\\pip\\_internal\\models\\__pycache__\\link.cpython-38.pyc\n",
      "../testing1\\venv\\Lib\\site-packages\\pip\\_internal\\models\\__pycache__\\scheme.cpython-38.pyc\n",
      "../testing1\\venv\\Lib\\site-packages\\pip\\_internal\\models\\__pycache__\\search_scope.cpython-38.pyc\n",
      "../testing1\\venv\\Lib\\site-packages\\pip\\_internal\\models\\__pycache__\\selection_prefs.cpython-38.pyc\n",
      "../testing1\\venv\\Lib\\site-packages\\pip\\_internal\\models\\__pycache__\\target_python.cpython-38.pyc\n",
      "../testing1\\venv\\Lib\\site-packages\\pip\\_internal\\models\\__pycache__\\wheel.cpython-38.pyc\n",
      "../testing1\\venv\\Lib\\site-packages\\pip\\_internal\\models\\__pycache__\\__init__.cpython-38.pyc\n",
      "../testing1\\venv\\Lib\\site-packages\\pip\\_internal\\models\\candidate.py\n",
      "../testing1\\venv\\Lib\\site-packages\\pip\\_internal\\models\\direct_url.py\n",
      "../testing1\\venv\\Lib\\site-packages\\pip\\_internal\\models\\format_control.py\n",
      "../testing1\\venv\\Lib\\site-packages\\pip\\_internal\\models\\index.py\n",
      "../testing1\\venv\\Lib\\site-packages\\pip\\_internal\\models\\link.py\n",
      "../testing1\\venv\\Lib\\site-packages\\pip\\_internal\\models\\scheme.py\n",
      "../testing1\\venv\\Lib\\site-packages\\pip\\_internal\\models\\search_scope.py\n",
      "../testing1\\venv\\Lib\\site-packages\\pip\\_internal\\models\\selection_prefs.py\n",
      "../testing1\\venv\\Lib\\site-packages\\pip\\_internal\\models\\target_python.py\n",
      "../testing1\\venv\\Lib\\site-packages\\pip\\_internal\\models\\wheel.py\n",
      "../testing1\\venv\\Lib\\site-packages\\pip\\_internal\\models\\__init__.py\n",
      "../testing1\\venv\\Lib\\site-packages\\pip\\_internal\\models\\__pycache__\n",
      "../testing1\\venv\\Lib\\site-packages\\pip\\_internal\\network\\__pycache__\\auth.cpython-38.pyc\n",
      "../testing1\\venv\\Lib\\site-packages\\pip\\_internal\\network\\__pycache__\\cache.cpython-38.pyc\n",
      "../testing1\\venv\\Lib\\site-packages\\pip\\_internal\\network\\__pycache__\\download.cpython-38.pyc\n",
      "../testing1\\venv\\Lib\\site-packages\\pip\\_internal\\network\\__pycache__\\lazy_wheel.cpython-38.pyc\n",
      "../testing1\\venv\\Lib\\site-packages\\pip\\_internal\\network\\__pycache__\\session.cpython-38.pyc\n",
      "../testing1\\venv\\Lib\\site-packages\\pip\\_internal\\network\\__pycache__\\utils.cpython-38.pyc\n",
      "../testing1\\venv\\Lib\\site-packages\\pip\\_internal\\network\\__pycache__\\xmlrpc.cpython-38.pyc\n",
      "../testing1\\venv\\Lib\\site-packages\\pip\\_internal\\network\\__pycache__\\__init__.cpython-38.pyc\n",
      "../testing1\\venv\\Lib\\site-packages\\pip\\_internal\\network\\auth.py\n",
      "../testing1\\venv\\Lib\\site-packages\\pip\\_internal\\network\\cache.py\n",
      "../testing1\\venv\\Lib\\site-packages\\pip\\_internal\\network\\download.py\n",
      "../testing1\\venv\\Lib\\site-packages\\pip\\_internal\\network\\lazy_wheel.py\n",
      "../testing1\\venv\\Lib\\site-packages\\pip\\_internal\\network\\session.py\n",
      "../testing1\\venv\\Lib\\site-packages\\pip\\_internal\\network\\utils.py\n",
      "../testing1\\venv\\Lib\\site-packages\\pip\\_internal\\network\\xmlrpc.py\n",
      "../testing1\\venv\\Lib\\site-packages\\pip\\_internal\\network\\__init__.py\n",
      "../testing1\\venv\\Lib\\site-packages\\pip\\_internal\\network\\__pycache__\n",
      "../testing1\\venv\\Lib\\site-packages\\pip\\_internal\\operations\\build\\__pycache__\\metadata.cpython-38.pyc\n",
      "../testing1\\venv\\Lib\\site-packages\\pip\\_internal\\operations\\build\\__pycache__\\metadata_legacy.cpython-38.pyc\n",
      "../testing1\\venv\\Lib\\site-packages\\pip\\_internal\\operations\\build\\__pycache__\\wheel.cpython-38.pyc\n",
      "../testing1\\venv\\Lib\\site-packages\\pip\\_internal\\operations\\build\\__pycache__\\wheel_legacy.cpython-38.pyc\n",
      "../testing1\\venv\\Lib\\site-packages\\pip\\_internal\\operations\\build\\__pycache__\\__init__.cpython-38.pyc\n",
      "../testing1\\venv\\Lib\\site-packages\\pip\\_internal\\operations\\build\\metadata.py\n",
      "../testing1\\venv\\Lib\\site-packages\\pip\\_internal\\operations\\build\\metadata_legacy.py\n",
      "../testing1\\venv\\Lib\\site-packages\\pip\\_internal\\operations\\build\\wheel.py\n",
      "../testing1\\venv\\Lib\\site-packages\\pip\\_internal\\operations\\build\\wheel_legacy.py\n",
      "../testing1\\venv\\Lib\\site-packages\\pip\\_internal\\operations\\build\\__init__.py\n",
      "../testing1\\venv\\Lib\\site-packages\\pip\\_internal\\operations\\build\\__pycache__\n",
      "../testing1\\venv\\Lib\\site-packages\\pip\\_internal\\operations\\install\\__pycache__\\editable_legacy.cpython-38.pyc\n",
      "../testing1\\venv\\Lib\\site-packages\\pip\\_internal\\operations\\install\\__pycache__\\legacy.cpython-38.pyc\n",
      "../testing1\\venv\\Lib\\site-packages\\pip\\_internal\\operations\\install\\__pycache__\\wheel.cpython-38.pyc\n",
      "../testing1\\venv\\Lib\\site-packages\\pip\\_internal\\operations\\install\\__pycache__\\__init__.cpython-38.pyc\n",
      "../testing1\\venv\\Lib\\site-packages\\pip\\_internal\\operations\\install\\editable_legacy.py\n",
      "../testing1\\venv\\Lib\\site-packages\\pip\\_internal\\operations\\install\\legacy.py\n",
      "../testing1\\venv\\Lib\\site-packages\\pip\\_internal\\operations\\install\\wheel.py\n",
      "../testing1\\venv\\Lib\\site-packages\\pip\\_internal\\operations\\install\\__init__.py\n",
      "../testing1\\venv\\Lib\\site-packages\\pip\\_internal\\operations\\install\\__pycache__\n",
      "../testing1\\venv\\Lib\\site-packages\\pip\\_internal\\operations\\__pycache__\\check.cpython-38.pyc\n",
      "../testing1\\venv\\Lib\\site-packages\\pip\\_internal\\operations\\__pycache__\\freeze.cpython-38.pyc\n",
      "../testing1\\venv\\Lib\\site-packages\\pip\\_internal\\operations\\__pycache__\\prepare.cpython-38.pyc\n",
      "../testing1\\venv\\Lib\\site-packages\\pip\\_internal\\operations\\__pycache__\\__init__.cpython-38.pyc\n",
      "../testing1\\venv\\Lib\\site-packages\\pip\\_internal\\operations\\check.py\n",
      "../testing1\\venv\\Lib\\site-packages\\pip\\_internal\\operations\\freeze.py\n",
      "../testing1\\venv\\Lib\\site-packages\\pip\\_internal\\operations\\prepare.py\n",
      "../testing1\\venv\\Lib\\site-packages\\pip\\_internal\\operations\\__init__.py\n",
      "../testing1\\venv\\Lib\\site-packages\\pip\\_internal\\operations\\build\n",
      "../testing1\\venv\\Lib\\site-packages\\pip\\_internal\\operations\\install\n",
      "../testing1\\venv\\Lib\\site-packages\\pip\\_internal\\operations\\__pycache__\n",
      "../testing1\\venv\\Lib\\site-packages\\pip\\_internal\\req\\__pycache__\\constructors.cpython-38.pyc\n",
      "../testing1\\venv\\Lib\\site-packages\\pip\\_internal\\req\\__pycache__\\req_file.cpython-38.pyc\n",
      "../testing1\\venv\\Lib\\site-packages\\pip\\_internal\\req\\__pycache__\\req_install.cpython-38.pyc\n",
      "../testing1\\venv\\Lib\\site-packages\\pip\\_internal\\req\\__pycache__\\req_set.cpython-38.pyc\n",
      "../testing1\\venv\\Lib\\site-packages\\pip\\_internal\\req\\__pycache__\\req_tracker.cpython-38.pyc\n",
      "../testing1\\venv\\Lib\\site-packages\\pip\\_internal\\req\\__pycache__\\req_uninstall.cpython-38.pyc\n",
      "../testing1\\venv\\Lib\\site-packages\\pip\\_internal\\req\\__pycache__\\__init__.cpython-38.pyc\n",
      "../testing1\\venv\\Lib\\site-packages\\pip\\_internal\\req\\constructors.py\n",
      "../testing1\\venv\\Lib\\site-packages\\pip\\_internal\\req\\req_file.py\n",
      "../testing1\\venv\\Lib\\site-packages\\pip\\_internal\\req\\req_install.py\n",
      "../testing1\\venv\\Lib\\site-packages\\pip\\_internal\\req\\req_set.py\n",
      "../testing1\\venv\\Lib\\site-packages\\pip\\_internal\\req\\req_tracker.py\n",
      "../testing1\\venv\\Lib\\site-packages\\pip\\_internal\\req\\req_uninstall.py\n",
      "../testing1\\venv\\Lib\\site-packages\\pip\\_internal\\req\\__init__.py\n",
      "../testing1\\venv\\Lib\\site-packages\\pip\\_internal\\req\\__pycache__\n",
      "../testing1\\venv\\Lib\\site-packages\\pip\\_internal\\resolution\\legacy\\__pycache__\\resolver.cpython-38.pyc\n",
      "../testing1\\venv\\Lib\\site-packages\\pip\\_internal\\resolution\\legacy\\__pycache__\\__init__.cpython-38.pyc\n",
      "../testing1\\venv\\Lib\\site-packages\\pip\\_internal\\resolution\\legacy\\resolver.py\n",
      "../testing1\\venv\\Lib\\site-packages\\pip\\_internal\\resolution\\legacy\\__init__.py\n",
      "../testing1\\venv\\Lib\\site-packages\\pip\\_internal\\resolution\\legacy\\__pycache__\n",
      "../testing1\\venv\\Lib\\site-packages\\pip\\_internal\\resolution\\resolvelib\\__pycache__\\base.cpython-38.pyc\n",
      "../testing1\\venv\\Lib\\site-packages\\pip\\_internal\\resolution\\resolvelib\\__pycache__\\candidates.cpython-38.pyc\n",
      "../testing1\\venv\\Lib\\site-packages\\pip\\_internal\\resolution\\resolvelib\\__pycache__\\factory.cpython-38.pyc\n",
      "../testing1\\venv\\Lib\\site-packages\\pip\\_internal\\resolution\\resolvelib\\__pycache__\\found_candidates.cpython-38.pyc\n",
      "../testing1\\venv\\Lib\\site-packages\\pip\\_internal\\resolution\\resolvelib\\__pycache__\\provider.cpython-38.pyc\n",
      "../testing1\\venv\\Lib\\site-packages\\pip\\_internal\\resolution\\resolvelib\\__pycache__\\reporter.cpython-38.pyc\n",
      "../testing1\\venv\\Lib\\site-packages\\pip\\_internal\\resolution\\resolvelib\\__pycache__\\requirements.cpython-38.pyc\n",
      "../testing1\\venv\\Lib\\site-packages\\pip\\_internal\\resolution\\resolvelib\\__pycache__\\resolver.cpython-38.pyc\n",
      "../testing1\\venv\\Lib\\site-packages\\pip\\_internal\\resolution\\resolvelib\\__pycache__\\__init__.cpython-38.pyc\n",
      "../testing1\\venv\\Lib\\site-packages\\pip\\_internal\\resolution\\resolvelib\\base.py\n",
      "../testing1\\venv\\Lib\\site-packages\\pip\\_internal\\resolution\\resolvelib\\candidates.py\n",
      "../testing1\\venv\\Lib\\site-packages\\pip\\_internal\\resolution\\resolvelib\\factory.py\n",
      "../testing1\\venv\\Lib\\site-packages\\pip\\_internal\\resolution\\resolvelib\\found_candidates.py\n",
      "../testing1\\venv\\Lib\\site-packages\\pip\\_internal\\resolution\\resolvelib\\provider.py\n",
      "../testing1\\venv\\Lib\\site-packages\\pip\\_internal\\resolution\\resolvelib\\reporter.py\n",
      "../testing1\\venv\\Lib\\site-packages\\pip\\_internal\\resolution\\resolvelib\\requirements.py\n",
      "../testing1\\venv\\Lib\\site-packages\\pip\\_internal\\resolution\\resolvelib\\resolver.py\n",
      "../testing1\\venv\\Lib\\site-packages\\pip\\_internal\\resolution\\resolvelib\\__init__.py\n",
      "../testing1\\venv\\Lib\\site-packages\\pip\\_internal\\resolution\\resolvelib\\__pycache__\n",
      "../testing1\\venv\\Lib\\site-packages\\pip\\_internal\\resolution\\__pycache__\\base.cpython-38.pyc\n",
      "../testing1\\venv\\Lib\\site-packages\\pip\\_internal\\resolution\\__pycache__\\__init__.cpython-38.pyc\n",
      "../testing1\\venv\\Lib\\site-packages\\pip\\_internal\\resolution\\base.py\n",
      "../testing1\\venv\\Lib\\site-packages\\pip\\_internal\\resolution\\__init__.py\n",
      "../testing1\\venv\\Lib\\site-packages\\pip\\_internal\\resolution\\legacy\n",
      "../testing1\\venv\\Lib\\site-packages\\pip\\_internal\\resolution\\resolvelib\n",
      "../testing1\\venv\\Lib\\site-packages\\pip\\_internal\\resolution\\__pycache__\n",
      "../testing1\\venv\\Lib\\site-packages\\pip\\_internal\\utils\\__pycache__\\appdirs.cpython-38.pyc\n",
      "../testing1\\venv\\Lib\\site-packages\\pip\\_internal\\utils\\__pycache__\\compat.cpython-38.pyc\n",
      "../testing1\\venv\\Lib\\site-packages\\pip\\_internal\\utils\\__pycache__\\compatibility_tags.cpython-38.pyc\n",
      "../testing1\\venv\\Lib\\site-packages\\pip\\_internal\\utils\\__pycache__\\datetime.cpython-38.pyc\n",
      "../testing1\\venv\\Lib\\site-packages\\pip\\_internal\\utils\\__pycache__\\deprecation.cpython-38.pyc\n",
      "../testing1\\venv\\Lib\\site-packages\\pip\\_internal\\utils\\__pycache__\\direct_url_helpers.cpython-38.pyc\n",
      "../testing1\\venv\\Lib\\site-packages\\pip\\_internal\\utils\\__pycache__\\distutils_args.cpython-38.pyc\n",
      "../testing1\\venv\\Lib\\site-packages\\pip\\_internal\\utils\\__pycache__\\encoding.cpython-38.pyc\n",
      "../testing1\\venv\\Lib\\site-packages\\pip\\_internal\\utils\\__pycache__\\entrypoints.cpython-38.pyc\n",
      "../testing1\\venv\\Lib\\site-packages\\pip\\_internal\\utils\\__pycache__\\filesystem.cpython-38.pyc\n",
      "../testing1\\venv\\Lib\\site-packages\\pip\\_internal\\utils\\__pycache__\\filetypes.cpython-38.pyc\n",
      "../testing1\\venv\\Lib\\site-packages\\pip\\_internal\\utils\\__pycache__\\glibc.cpython-38.pyc\n",
      "../testing1\\venv\\Lib\\site-packages\\pip\\_internal\\utils\\__pycache__\\hashes.cpython-38.pyc\n",
      "../testing1\\venv\\Lib\\site-packages\\pip\\_internal\\utils\\__pycache__\\inject_securetransport.cpython-38.pyc\n",
      "../testing1\\venv\\Lib\\site-packages\\pip\\_internal\\utils\\__pycache__\\logging.cpython-38.pyc\n",
      "../testing1\\venv\\Lib\\site-packages\\pip\\_internal\\utils\\__pycache__\\misc.cpython-38.pyc\n",
      "../testing1\\venv\\Lib\\site-packages\\pip\\_internal\\utils\\__pycache__\\models.cpython-38.pyc\n",
      "../testing1\\venv\\Lib\\site-packages\\pip\\_internal\\utils\\__pycache__\\packaging.cpython-38.pyc\n",
      "../testing1\\venv\\Lib\\site-packages\\pip\\_internal\\utils\\__pycache__\\parallel.cpython-38.pyc\n",
      "../testing1\\venv\\Lib\\site-packages\\pip\\_internal\\utils\\__pycache__\\pkg_resources.cpython-38.pyc\n",
      "../testing1\\venv\\Lib\\site-packages\\pip\\_internal\\utils\\__pycache__\\setuptools_build.cpython-38.pyc\n",
      "../testing1\\venv\\Lib\\site-packages\\pip\\_internal\\utils\\__pycache__\\subprocess.cpython-38.pyc\n",
      "../testing1\\venv\\Lib\\site-packages\\pip\\_internal\\utils\\__pycache__\\temp_dir.cpython-38.pyc\n",
      "../testing1\\venv\\Lib\\site-packages\\pip\\_internal\\utils\\__pycache__\\typing.cpython-38.pyc\n",
      "../testing1\\venv\\Lib\\site-packages\\pip\\_internal\\utils\\__pycache__\\unpacking.cpython-38.pyc\n",
      "../testing1\\venv\\Lib\\site-packages\\pip\\_internal\\utils\\__pycache__\\urls.cpython-38.pyc\n",
      "../testing1\\venv\\Lib\\site-packages\\pip\\_internal\\utils\\__pycache__\\virtualenv.cpython-38.pyc\n",
      "../testing1\\venv\\Lib\\site-packages\\pip\\_internal\\utils\\__pycache__\\wheel.cpython-38.pyc\n",
      "../testing1\\venv\\Lib\\site-packages\\pip\\_internal\\utils\\__pycache__\\__init__.cpython-38.pyc\n",
      "../testing1\\venv\\Lib\\site-packages\\pip\\_internal\\utils\\appdirs.py\n",
      "../testing1\\venv\\Lib\\site-packages\\pip\\_internal\\utils\\compat.py\n",
      "../testing1\\venv\\Lib\\site-packages\\pip\\_internal\\utils\\compatibility_tags.py\n",
      "../testing1\\venv\\Lib\\site-packages\\pip\\_internal\\utils\\datetime.py\n",
      "../testing1\\venv\\Lib\\site-packages\\pip\\_internal\\utils\\deprecation.py\n",
      "../testing1\\venv\\Lib\\site-packages\\pip\\_internal\\utils\\direct_url_helpers.py\n",
      "../testing1\\venv\\Lib\\site-packages\\pip\\_internal\\utils\\distutils_args.py\n",
      "../testing1\\venv\\Lib\\site-packages\\pip\\_internal\\utils\\encoding.py\n",
      "../testing1\\venv\\Lib\\site-packages\\pip\\_internal\\utils\\entrypoints.py\n",
      "../testing1\\venv\\Lib\\site-packages\\pip\\_internal\\utils\\filesystem.py\n",
      "../testing1\\venv\\Lib\\site-packages\\pip\\_internal\\utils\\filetypes.py\n",
      "../testing1\\venv\\Lib\\site-packages\\pip\\_internal\\utils\\glibc.py\n",
      "../testing1\\venv\\Lib\\site-packages\\pip\\_internal\\utils\\hashes.py\n",
      "../testing1\\venv\\Lib\\site-packages\\pip\\_internal\\utils\\inject_securetransport.py\n",
      "../testing1\\venv\\Lib\\site-packages\\pip\\_internal\\utils\\logging.py\n",
      "../testing1\\venv\\Lib\\site-packages\\pip\\_internal\\utils\\misc.py\n",
      "../testing1\\venv\\Lib\\site-packages\\pip\\_internal\\utils\\models.py\n",
      "../testing1\\venv\\Lib\\site-packages\\pip\\_internal\\utils\\packaging.py\n",
      "../testing1\\venv\\Lib\\site-packages\\pip\\_internal\\utils\\parallel.py\n",
      "../testing1\\venv\\Lib\\site-packages\\pip\\_internal\\utils\\pkg_resources.py\n",
      "../testing1\\venv\\Lib\\site-packages\\pip\\_internal\\utils\\setuptools_build.py\n",
      "../testing1\\venv\\Lib\\site-packages\\pip\\_internal\\utils\\subprocess.py\n",
      "../testing1\\venv\\Lib\\site-packages\\pip\\_internal\\utils\\temp_dir.py\n",
      "../testing1\\venv\\Lib\\site-packages\\pip\\_internal\\utils\\typing.py\n",
      "../testing1\\venv\\Lib\\site-packages\\pip\\_internal\\utils\\unpacking.py\n",
      "../testing1\\venv\\Lib\\site-packages\\pip\\_internal\\utils\\urls.py\n",
      "../testing1\\venv\\Lib\\site-packages\\pip\\_internal\\utils\\virtualenv.py\n",
      "../testing1\\venv\\Lib\\site-packages\\pip\\_internal\\utils\\wheel.py\n",
      "../testing1\\venv\\Lib\\site-packages\\pip\\_internal\\utils\\__init__.py\n",
      "../testing1\\venv\\Lib\\site-packages\\pip\\_internal\\utils\\__pycache__\n",
      "../testing1\\venv\\Lib\\site-packages\\pip\\_internal\\vcs\\__pycache__\\bazaar.cpython-38.pyc\n",
      "../testing1\\venv\\Lib\\site-packages\\pip\\_internal\\vcs\\__pycache__\\git.cpython-38.pyc\n",
      "../testing1\\venv\\Lib\\site-packages\\pip\\_internal\\vcs\\__pycache__\\mercurial.cpython-38.pyc\n",
      "../testing1\\venv\\Lib\\site-packages\\pip\\_internal\\vcs\\__pycache__\\subversion.cpython-38.pyc\n",
      "../testing1\\venv\\Lib\\site-packages\\pip\\_internal\\vcs\\__pycache__\\versioncontrol.cpython-38.pyc\n",
      "../testing1\\venv\\Lib\\site-packages\\pip\\_internal\\vcs\\__pycache__\\__init__.cpython-38.pyc\n",
      "../testing1\\venv\\Lib\\site-packages\\pip\\_internal\\vcs\\bazaar.py\n",
      "../testing1\\venv\\Lib\\site-packages\\pip\\_internal\\vcs\\git.py\n",
      "../testing1\\venv\\Lib\\site-packages\\pip\\_internal\\vcs\\mercurial.py\n",
      "../testing1\\venv\\Lib\\site-packages\\pip\\_internal\\vcs\\subversion.py\n",
      "../testing1\\venv\\Lib\\site-packages\\pip\\_internal\\vcs\\versioncontrol.py\n",
      "../testing1\\venv\\Lib\\site-packages\\pip\\_internal\\vcs\\__init__.py\n",
      "../testing1\\venv\\Lib\\site-packages\\pip\\_internal\\vcs\\__pycache__\n",
      "../testing1\\venv\\Lib\\site-packages\\pip\\_internal\\__pycache__\\build_env.cpython-38.pyc\n",
      "../testing1\\venv\\Lib\\site-packages\\pip\\_internal\\__pycache__\\cache.cpython-38.pyc\n",
      "../testing1\\venv\\Lib\\site-packages\\pip\\_internal\\__pycache__\\configuration.cpython-38.pyc\n",
      "../testing1\\venv\\Lib\\site-packages\\pip\\_internal\\__pycache__\\exceptions.cpython-38.pyc\n",
      "../testing1\\venv\\Lib\\site-packages\\pip\\_internal\\__pycache__\\locations.cpython-38.pyc\n",
      "../testing1\\venv\\Lib\\site-packages\\pip\\_internal\\__pycache__\\main.cpython-38.pyc\n",
      "../testing1\\venv\\Lib\\site-packages\\pip\\_internal\\__pycache__\\pyproject.cpython-38.pyc\n",
      "../testing1\\venv\\Lib\\site-packages\\pip\\_internal\\__pycache__\\self_outdated_check.cpython-38.pyc\n",
      "../testing1\\venv\\Lib\\site-packages\\pip\\_internal\\__pycache__\\wheel_builder.cpython-38.pyc\n",
      "../testing1\\venv\\Lib\\site-packages\\pip\\_internal\\__pycache__\\__init__.cpython-38.pyc\n",
      "../testing1\\venv\\Lib\\site-packages\\pip\\_internal\\build_env.py\n",
      "../testing1\\venv\\Lib\\site-packages\\pip\\_internal\\cache.py\n",
      "../testing1\\venv\\Lib\\site-packages\\pip\\_internal\\configuration.py\n",
      "../testing1\\venv\\Lib\\site-packages\\pip\\_internal\\exceptions.py\n",
      "../testing1\\venv\\Lib\\site-packages\\pip\\_internal\\locations.py\n",
      "../testing1\\venv\\Lib\\site-packages\\pip\\_internal\\main.py\n",
      "../testing1\\venv\\Lib\\site-packages\\pip\\_internal\\pyproject.py\n",
      "../testing1\\venv\\Lib\\site-packages\\pip\\_internal\\self_outdated_check.py\n",
      "../testing1\\venv\\Lib\\site-packages\\pip\\_internal\\wheel_builder.py\n",
      "../testing1\\venv\\Lib\\site-packages\\pip\\_internal\\__init__.py\n",
      "../testing1\\venv\\Lib\\site-packages\\pip\\_internal\\cli\n",
      "../testing1\\venv\\Lib\\site-packages\\pip\\_internal\\commands\n",
      "../testing1\\venv\\Lib\\site-packages\\pip\\_internal\\distributions\n",
      "../testing1\\venv\\Lib\\site-packages\\pip\\_internal\\index\n",
      "../testing1\\venv\\Lib\\site-packages\\pip\\_internal\\models\n",
      "../testing1\\venv\\Lib\\site-packages\\pip\\_internal\\network\n",
      "../testing1\\venv\\Lib\\site-packages\\pip\\_internal\\operations\n",
      "../testing1\\venv\\Lib\\site-packages\\pip\\_internal\\req\n",
      "../testing1\\venv\\Lib\\site-packages\\pip\\_internal\\resolution\n",
      "../testing1\\venv\\Lib\\site-packages\\pip\\_internal\\utils\n",
      "../testing1\\venv\\Lib\\site-packages\\pip\\_internal\\vcs\n",
      "../testing1\\venv\\Lib\\site-packages\\pip\\_internal\\__pycache__\n",
      "../testing1\\venv\\Lib\\site-packages\\pip\\_vendor\\cachecontrol\\caches\\__pycache__\\file_cache.cpython-38.pyc\n",
      "../testing1\\venv\\Lib\\site-packages\\pip\\_vendor\\cachecontrol\\caches\\__pycache__\\redis_cache.cpython-38.pyc\n",
      "../testing1\\venv\\Lib\\site-packages\\pip\\_vendor\\cachecontrol\\caches\\__pycache__\\__init__.cpython-38.pyc\n",
      "../testing1\\venv\\Lib\\site-packages\\pip\\_vendor\\cachecontrol\\caches\\file_cache.py\n",
      "../testing1\\venv\\Lib\\site-packages\\pip\\_vendor\\cachecontrol\\caches\\redis_cache.py\n",
      "../testing1\\venv\\Lib\\site-packages\\pip\\_vendor\\cachecontrol\\caches\\__init__.py\n",
      "../testing1\\venv\\Lib\\site-packages\\pip\\_vendor\\cachecontrol\\caches\\__pycache__\n",
      "../testing1\\venv\\Lib\\site-packages\\pip\\_vendor\\cachecontrol\\__pycache__\\adapter.cpython-38.pyc\n",
      "../testing1\\venv\\Lib\\site-packages\\pip\\_vendor\\cachecontrol\\__pycache__\\cache.cpython-38.pyc\n",
      "../testing1\\venv\\Lib\\site-packages\\pip\\_vendor\\cachecontrol\\__pycache__\\compat.cpython-38.pyc\n",
      "../testing1\\venv\\Lib\\site-packages\\pip\\_vendor\\cachecontrol\\__pycache__\\controller.cpython-38.pyc\n",
      "../testing1\\venv\\Lib\\site-packages\\pip\\_vendor\\cachecontrol\\__pycache__\\filewrapper.cpython-38.pyc\n",
      "../testing1\\venv\\Lib\\site-packages\\pip\\_vendor\\cachecontrol\\__pycache__\\heuristics.cpython-38.pyc\n",
      "../testing1\\venv\\Lib\\site-packages\\pip\\_vendor\\cachecontrol\\__pycache__\\serialize.cpython-38.pyc\n",
      "../testing1\\venv\\Lib\\site-packages\\pip\\_vendor\\cachecontrol\\__pycache__\\wrapper.cpython-38.pyc\n",
      "../testing1\\venv\\Lib\\site-packages\\pip\\_vendor\\cachecontrol\\__pycache__\\_cmd.cpython-38.pyc\n",
      "../testing1\\venv\\Lib\\site-packages\\pip\\_vendor\\cachecontrol\\__pycache__\\__init__.cpython-38.pyc\n",
      "../testing1\\venv\\Lib\\site-packages\\pip\\_vendor\\cachecontrol\\adapter.py\n",
      "../testing1\\venv\\Lib\\site-packages\\pip\\_vendor\\cachecontrol\\cache.py\n",
      "../testing1\\venv\\Lib\\site-packages\\pip\\_vendor\\cachecontrol\\compat.py\n",
      "../testing1\\venv\\Lib\\site-packages\\pip\\_vendor\\cachecontrol\\controller.py\n",
      "../testing1\\venv\\Lib\\site-packages\\pip\\_vendor\\cachecontrol\\filewrapper.py\n",
      "../testing1\\venv\\Lib\\site-packages\\pip\\_vendor\\cachecontrol\\heuristics.py\n",
      "../testing1\\venv\\Lib\\site-packages\\pip\\_vendor\\cachecontrol\\serialize.py\n",
      "../testing1\\venv\\Lib\\site-packages\\pip\\_vendor\\cachecontrol\\wrapper.py\n",
      "../testing1\\venv\\Lib\\site-packages\\pip\\_vendor\\cachecontrol\\_cmd.py\n",
      "../testing1\\venv\\Lib\\site-packages\\pip\\_vendor\\cachecontrol\\__init__.py\n",
      "../testing1\\venv\\Lib\\site-packages\\pip\\_vendor\\cachecontrol\\caches\n",
      "../testing1\\venv\\Lib\\site-packages\\pip\\_vendor\\cachecontrol\\__pycache__\n",
      "../testing1\\venv\\Lib\\site-packages\\pip\\_vendor\\certifi\\__pycache__\\core.cpython-38.pyc\n",
      "../testing1\\venv\\Lib\\site-packages\\pip\\_vendor\\certifi\\__pycache__\\__init__.cpython-38.pyc\n",
      "../testing1\\venv\\Lib\\site-packages\\pip\\_vendor\\certifi\\__pycache__\\__main__.cpython-38.pyc\n",
      "../testing1\\venv\\Lib\\site-packages\\pip\\_vendor\\certifi\\cacert.pem\n",
      "../testing1\\venv\\Lib\\site-packages\\pip\\_vendor\\certifi\\core.py\n",
      "../testing1\\venv\\Lib\\site-packages\\pip\\_vendor\\certifi\\__init__.py\n",
      "../testing1\\venv\\Lib\\site-packages\\pip\\_vendor\\certifi\\__main__.py\n",
      "../testing1\\venv\\Lib\\site-packages\\pip\\_vendor\\certifi\\__pycache__\n",
      "../testing1\\venv\\Lib\\site-packages\\pip\\_vendor\\chardet\\cli\\__pycache__\\chardetect.cpython-38.pyc\n",
      "../testing1\\venv\\Lib\\site-packages\\pip\\_vendor\\chardet\\cli\\__pycache__\\__init__.cpython-38.pyc\n",
      "../testing1\\venv\\Lib\\site-packages\\pip\\_vendor\\chardet\\cli\\chardetect.py\n",
      "../testing1\\venv\\Lib\\site-packages\\pip\\_vendor\\chardet\\cli\\__init__.py\n",
      "../testing1\\venv\\Lib\\site-packages\\pip\\_vendor\\chardet\\cli\\__pycache__\n",
      "../testing1\\venv\\Lib\\site-packages\\pip\\_vendor\\chardet\\metadata\\__pycache__\\languages.cpython-38.pyc\n",
      "../testing1\\venv\\Lib\\site-packages\\pip\\_vendor\\chardet\\metadata\\__pycache__\\__init__.cpython-38.pyc\n",
      "../testing1\\venv\\Lib\\site-packages\\pip\\_vendor\\chardet\\metadata\\languages.py\n",
      "../testing1\\venv\\Lib\\site-packages\\pip\\_vendor\\chardet\\metadata\\__init__.py\n",
      "../testing1\\venv\\Lib\\site-packages\\pip\\_vendor\\chardet\\metadata\\__pycache__\n",
      "../testing1\\venv\\Lib\\site-packages\\pip\\_vendor\\chardet\\__pycache__\\big5freq.cpython-38.pyc\n",
      "../testing1\\venv\\Lib\\site-packages\\pip\\_vendor\\chardet\\__pycache__\\big5prober.cpython-38.pyc\n",
      "../testing1\\venv\\Lib\\site-packages\\pip\\_vendor\\chardet\\__pycache__\\chardistribution.cpython-38.pyc\n",
      "../testing1\\venv\\Lib\\site-packages\\pip\\_vendor\\chardet\\__pycache__\\charsetgroupprober.cpython-38.pyc\n",
      "../testing1\\venv\\Lib\\site-packages\\pip\\_vendor\\chardet\\__pycache__\\charsetprober.cpython-38.pyc\n",
      "../testing1\\venv\\Lib\\site-packages\\pip\\_vendor\\chardet\\__pycache__\\codingstatemachine.cpython-38.pyc\n",
      "../testing1\\venv\\Lib\\site-packages\\pip\\_vendor\\chardet\\__pycache__\\compat.cpython-38.pyc\n",
      "../testing1\\venv\\Lib\\site-packages\\pip\\_vendor\\chardet\\__pycache__\\cp949prober.cpython-38.pyc\n",
      "../testing1\\venv\\Lib\\site-packages\\pip\\_vendor\\chardet\\__pycache__\\enums.cpython-38.pyc\n",
      "../testing1\\venv\\Lib\\site-packages\\pip\\_vendor\\chardet\\__pycache__\\escprober.cpython-38.pyc\n",
      "../testing1\\venv\\Lib\\site-packages\\pip\\_vendor\\chardet\\__pycache__\\escsm.cpython-38.pyc\n",
      "../testing1\\venv\\Lib\\site-packages\\pip\\_vendor\\chardet\\__pycache__\\eucjpprober.cpython-38.pyc\n",
      "../testing1\\venv\\Lib\\site-packages\\pip\\_vendor\\chardet\\__pycache__\\euckrfreq.cpython-38.pyc\n",
      "../testing1\\venv\\Lib\\site-packages\\pip\\_vendor\\chardet\\__pycache__\\euckrprober.cpython-38.pyc\n",
      "../testing1\\venv\\Lib\\site-packages\\pip\\_vendor\\chardet\\__pycache__\\euctwfreq.cpython-38.pyc\n",
      "../testing1\\venv\\Lib\\site-packages\\pip\\_vendor\\chardet\\__pycache__\\euctwprober.cpython-38.pyc\n",
      "../testing1\\venv\\Lib\\site-packages\\pip\\_vendor\\chardet\\__pycache__\\gb2312freq.cpython-38.pyc\n",
      "../testing1\\venv\\Lib\\site-packages\\pip\\_vendor\\chardet\\__pycache__\\gb2312prober.cpython-38.pyc\n",
      "../testing1\\venv\\Lib\\site-packages\\pip\\_vendor\\chardet\\__pycache__\\hebrewprober.cpython-38.pyc\n",
      "../testing1\\venv\\Lib\\site-packages\\pip\\_vendor\\chardet\\__pycache__\\jisfreq.cpython-38.pyc\n",
      "../testing1\\venv\\Lib\\site-packages\\pip\\_vendor\\chardet\\__pycache__\\jpcntx.cpython-38.pyc\n",
      "../testing1\\venv\\Lib\\site-packages\\pip\\_vendor\\chardet\\__pycache__\\langbulgarianmodel.cpython-38.pyc\n",
      "../testing1\\venv\\Lib\\site-packages\\pip\\_vendor\\chardet\\__pycache__\\langgreekmodel.cpython-38.pyc\n",
      "../testing1\\venv\\Lib\\site-packages\\pip\\_vendor\\chardet\\__pycache__\\langhebrewmodel.cpython-38.pyc\n",
      "../testing1\\venv\\Lib\\site-packages\\pip\\_vendor\\chardet\\__pycache__\\langhungarianmodel.cpython-38.pyc\n",
      "../testing1\\venv\\Lib\\site-packages\\pip\\_vendor\\chardet\\__pycache__\\langrussianmodel.cpython-38.pyc\n",
      "../testing1\\venv\\Lib\\site-packages\\pip\\_vendor\\chardet\\__pycache__\\langthaimodel.cpython-38.pyc\n",
      "../testing1\\venv\\Lib\\site-packages\\pip\\_vendor\\chardet\\__pycache__\\langturkishmodel.cpython-38.pyc\n",
      "../testing1\\venv\\Lib\\site-packages\\pip\\_vendor\\chardet\\__pycache__\\latin1prober.cpython-38.pyc\n",
      "../testing1\\venv\\Lib\\site-packages\\pip\\_vendor\\chardet\\__pycache__\\mbcharsetprober.cpython-38.pyc\n",
      "../testing1\\venv\\Lib\\site-packages\\pip\\_vendor\\chardet\\__pycache__\\mbcsgroupprober.cpython-38.pyc\n",
      "../testing1\\venv\\Lib\\site-packages\\pip\\_vendor\\chardet\\__pycache__\\mbcssm.cpython-38.pyc\n",
      "../testing1\\venv\\Lib\\site-packages\\pip\\_vendor\\chardet\\__pycache__\\sbcharsetprober.cpython-38.pyc\n",
      "../testing1\\venv\\Lib\\site-packages\\pip\\_vendor\\chardet\\__pycache__\\sbcsgroupprober.cpython-38.pyc\n",
      "../testing1\\venv\\Lib\\site-packages\\pip\\_vendor\\chardet\\__pycache__\\sjisprober.cpython-38.pyc\n",
      "../testing1\\venv\\Lib\\site-packages\\pip\\_vendor\\chardet\\__pycache__\\universaldetector.cpython-38.pyc\n",
      "../testing1\\venv\\Lib\\site-packages\\pip\\_vendor\\chardet\\__pycache__\\utf8prober.cpython-38.pyc\n",
      "../testing1\\venv\\Lib\\site-packages\\pip\\_vendor\\chardet\\__pycache__\\version.cpython-38.pyc\n",
      "../testing1\\venv\\Lib\\site-packages\\pip\\_vendor\\chardet\\__pycache__\\__init__.cpython-38.pyc\n",
      "../testing1\\venv\\Lib\\site-packages\\pip\\_vendor\\chardet\\big5freq.py\n",
      "../testing1\\venv\\Lib\\site-packages\\pip\\_vendor\\chardet\\big5prober.py\n",
      "../testing1\\venv\\Lib\\site-packages\\pip\\_vendor\\chardet\\chardistribution.py\n",
      "../testing1\\venv\\Lib\\site-packages\\pip\\_vendor\\chardet\\charsetgroupprober.py\n",
      "../testing1\\venv\\Lib\\site-packages\\pip\\_vendor\\chardet\\charsetprober.py\n",
      "../testing1\\venv\\Lib\\site-packages\\pip\\_vendor\\chardet\\codingstatemachine.py\n",
      "../testing1\\venv\\Lib\\site-packages\\pip\\_vendor\\chardet\\compat.py\n",
      "../testing1\\venv\\Lib\\site-packages\\pip\\_vendor\\chardet\\cp949prober.py\n",
      "../testing1\\venv\\Lib\\site-packages\\pip\\_vendor\\chardet\\enums.py\n",
      "../testing1\\venv\\Lib\\site-packages\\pip\\_vendor\\chardet\\escprober.py\n",
      "../testing1\\venv\\Lib\\site-packages\\pip\\_vendor\\chardet\\escsm.py\n",
      "../testing1\\venv\\Lib\\site-packages\\pip\\_vendor\\chardet\\eucjpprober.py\n",
      "../testing1\\venv\\Lib\\site-packages\\pip\\_vendor\\chardet\\euckrfreq.py\n",
      "../testing1\\venv\\Lib\\site-packages\\pip\\_vendor\\chardet\\euckrprober.py\n",
      "../testing1\\venv\\Lib\\site-packages\\pip\\_vendor\\chardet\\euctwfreq.py\n",
      "../testing1\\venv\\Lib\\site-packages\\pip\\_vendor\\chardet\\euctwprober.py\n",
      "../testing1\\venv\\Lib\\site-packages\\pip\\_vendor\\chardet\\gb2312freq.py\n",
      "../testing1\\venv\\Lib\\site-packages\\pip\\_vendor\\chardet\\gb2312prober.py\n",
      "../testing1\\venv\\Lib\\site-packages\\pip\\_vendor\\chardet\\hebrewprober.py\n",
      "../testing1\\venv\\Lib\\site-packages\\pip\\_vendor\\chardet\\jisfreq.py\n",
      "../testing1\\venv\\Lib\\site-packages\\pip\\_vendor\\chardet\\jpcntx.py\n",
      "../testing1\\venv\\Lib\\site-packages\\pip\\_vendor\\chardet\\langbulgarianmodel.py\n",
      "../testing1\\venv\\Lib\\site-packages\\pip\\_vendor\\chardet\\langgreekmodel.py\n",
      "../testing1\\venv\\Lib\\site-packages\\pip\\_vendor\\chardet\\langhebrewmodel.py\n",
      "../testing1\\venv\\Lib\\site-packages\\pip\\_vendor\\chardet\\langhungarianmodel.py\n",
      "../testing1\\venv\\Lib\\site-packages\\pip\\_vendor\\chardet\\langrussianmodel.py\n",
      "../testing1\\venv\\Lib\\site-packages\\pip\\_vendor\\chardet\\langthaimodel.py\n",
      "../testing1\\venv\\Lib\\site-packages\\pip\\_vendor\\chardet\\langturkishmodel.py\n",
      "../testing1\\venv\\Lib\\site-packages\\pip\\_vendor\\chardet\\latin1prober.py\n",
      "../testing1\\venv\\Lib\\site-packages\\pip\\_vendor\\chardet\\mbcharsetprober.py\n",
      "../testing1\\venv\\Lib\\site-packages\\pip\\_vendor\\chardet\\mbcsgroupprober.py\n",
      "../testing1\\venv\\Lib\\site-packages\\pip\\_vendor\\chardet\\mbcssm.py\n",
      "../testing1\\venv\\Lib\\site-packages\\pip\\_vendor\\chardet\\sbcharsetprober.py\n",
      "../testing1\\venv\\Lib\\site-packages\\pip\\_vendor\\chardet\\sbcsgroupprober.py\n",
      "../testing1\\venv\\Lib\\site-packages\\pip\\_vendor\\chardet\\sjisprober.py\n",
      "../testing1\\venv\\Lib\\site-packages\\pip\\_vendor\\chardet\\universaldetector.py\n",
      "../testing1\\venv\\Lib\\site-packages\\pip\\_vendor\\chardet\\utf8prober.py\n",
      "../testing1\\venv\\Lib\\site-packages\\pip\\_vendor\\chardet\\version.py\n",
      "../testing1\\venv\\Lib\\site-packages\\pip\\_vendor\\chardet\\__init__.py\n",
      "../testing1\\venv\\Lib\\site-packages\\pip\\_vendor\\chardet\\cli\n",
      "../testing1\\venv\\Lib\\site-packages\\pip\\_vendor\\chardet\\metadata\n",
      "../testing1\\venv\\Lib\\site-packages\\pip\\_vendor\\chardet\\__pycache__\n",
      "../testing1\\venv\\Lib\\site-packages\\pip\\_vendor\\colorama\\__pycache__\\ansi.cpython-38.pyc\n",
      "../testing1\\venv\\Lib\\site-packages\\pip\\_vendor\\colorama\\__pycache__\\ansitowin32.cpython-38.pyc\n",
      "../testing1\\venv\\Lib\\site-packages\\pip\\_vendor\\colorama\\__pycache__\\initialise.cpython-38.pyc\n",
      "../testing1\\venv\\Lib\\site-packages\\pip\\_vendor\\colorama\\__pycache__\\win32.cpython-38.pyc\n",
      "../testing1\\venv\\Lib\\site-packages\\pip\\_vendor\\colorama\\__pycache__\\winterm.cpython-38.pyc\n",
      "../testing1\\venv\\Lib\\site-packages\\pip\\_vendor\\colorama\\__pycache__\\__init__.cpython-38.pyc\n",
      "../testing1\\venv\\Lib\\site-packages\\pip\\_vendor\\colorama\\ansi.py\n",
      "../testing1\\venv\\Lib\\site-packages\\pip\\_vendor\\colorama\\ansitowin32.py\n",
      "../testing1\\venv\\Lib\\site-packages\\pip\\_vendor\\colorama\\initialise.py\n",
      "../testing1\\venv\\Lib\\site-packages\\pip\\_vendor\\colorama\\win32.py\n",
      "../testing1\\venv\\Lib\\site-packages\\pip\\_vendor\\colorama\\winterm.py\n",
      "../testing1\\venv\\Lib\\site-packages\\pip\\_vendor\\colorama\\__init__.py\n",
      "../testing1\\venv\\Lib\\site-packages\\pip\\_vendor\\colorama\\__pycache__\n",
      "../testing1\\venv\\Lib\\site-packages\\pip\\_vendor\\distlib\\_backport\\__pycache__\\misc.cpython-38.pyc\n",
      "../testing1\\venv\\Lib\\site-packages\\pip\\_vendor\\distlib\\_backport\\__pycache__\\shutil.cpython-38.pyc\n",
      "../testing1\\venv\\Lib\\site-packages\\pip\\_vendor\\distlib\\_backport\\__pycache__\\sysconfig.cpython-38.pyc\n",
      "../testing1\\venv\\Lib\\site-packages\\pip\\_vendor\\distlib\\_backport\\__pycache__\\tarfile.cpython-38.pyc\n",
      "../testing1\\venv\\Lib\\site-packages\\pip\\_vendor\\distlib\\_backport\\__pycache__\\__init__.cpython-38.pyc\n",
      "../testing1\\venv\\Lib\\site-packages\\pip\\_vendor\\distlib\\_backport\\misc.py\n",
      "../testing1\\venv\\Lib\\site-packages\\pip\\_vendor\\distlib\\_backport\\shutil.py\n",
      "../testing1\\venv\\Lib\\site-packages\\pip\\_vendor\\distlib\\_backport\\sysconfig.cfg\n",
      "../testing1\\venv\\Lib\\site-packages\\pip\\_vendor\\distlib\\_backport\\sysconfig.py\n",
      "../testing1\\venv\\Lib\\site-packages\\pip\\_vendor\\distlib\\_backport\\tarfile.py\n",
      "../testing1\\venv\\Lib\\site-packages\\pip\\_vendor\\distlib\\_backport\\__init__.py\n",
      "../testing1\\venv\\Lib\\site-packages\\pip\\_vendor\\distlib\\_backport\\__pycache__\n",
      "../testing1\\venv\\Lib\\site-packages\\pip\\_vendor\\distlib\\__pycache__\\compat.cpython-38.pyc\n",
      "../testing1\\venv\\Lib\\site-packages\\pip\\_vendor\\distlib\\__pycache__\\database.cpython-38.pyc\n",
      "../testing1\\venv\\Lib\\site-packages\\pip\\_vendor\\distlib\\__pycache__\\index.cpython-38.pyc\n",
      "../testing1\\venv\\Lib\\site-packages\\pip\\_vendor\\distlib\\__pycache__\\locators.cpython-38.pyc\n",
      "../testing1\\venv\\Lib\\site-packages\\pip\\_vendor\\distlib\\__pycache__\\manifest.cpython-38.pyc\n",
      "../testing1\\venv\\Lib\\site-packages\\pip\\_vendor\\distlib\\__pycache__\\markers.cpython-38.pyc\n",
      "../testing1\\venv\\Lib\\site-packages\\pip\\_vendor\\distlib\\__pycache__\\metadata.cpython-38.pyc\n",
      "../testing1\\venv\\Lib\\site-packages\\pip\\_vendor\\distlib\\__pycache__\\resources.cpython-38.pyc\n",
      "../testing1\\venv\\Lib\\site-packages\\pip\\_vendor\\distlib\\__pycache__\\scripts.cpython-38.pyc\n",
      "../testing1\\venv\\Lib\\site-packages\\pip\\_vendor\\distlib\\__pycache__\\util.cpython-38.pyc\n",
      "../testing1\\venv\\Lib\\site-packages\\pip\\_vendor\\distlib\\__pycache__\\version.cpython-38.pyc\n",
      "../testing1\\venv\\Lib\\site-packages\\pip\\_vendor\\distlib\\__pycache__\\wheel.cpython-38.pyc\n",
      "../testing1\\venv\\Lib\\site-packages\\pip\\_vendor\\distlib\\__pycache__\\__init__.cpython-38.pyc\n",
      "../testing1\\venv\\Lib\\site-packages\\pip\\_vendor\\distlib\\compat.py\n",
      "../testing1\\venv\\Lib\\site-packages\\pip\\_vendor\\distlib\\database.py\n",
      "../testing1\\venv\\Lib\\site-packages\\pip\\_vendor\\distlib\\index.py\n",
      "../testing1\\venv\\Lib\\site-packages\\pip\\_vendor\\distlib\\locators.py\n",
      "../testing1\\venv\\Lib\\site-packages\\pip\\_vendor\\distlib\\manifest.py\n",
      "../testing1\\venv\\Lib\\site-packages\\pip\\_vendor\\distlib\\markers.py\n",
      "../testing1\\venv\\Lib\\site-packages\\pip\\_vendor\\distlib\\metadata.py\n",
      "../testing1\\venv\\Lib\\site-packages\\pip\\_vendor\\distlib\\resources.py\n",
      "../testing1\\venv\\Lib\\site-packages\\pip\\_vendor\\distlib\\scripts.py\n",
      "../testing1\\venv\\Lib\\site-packages\\pip\\_vendor\\distlib\\t32.exe\n",
      "../testing1\\venv\\Lib\\site-packages\\pip\\_vendor\\distlib\\t64.exe\n",
      "../testing1\\venv\\Lib\\site-packages\\pip\\_vendor\\distlib\\util.py\n",
      "../testing1\\venv\\Lib\\site-packages\\pip\\_vendor\\distlib\\version.py\n",
      "../testing1\\venv\\Lib\\site-packages\\pip\\_vendor\\distlib\\w32.exe\n",
      "../testing1\\venv\\Lib\\site-packages\\pip\\_vendor\\distlib\\w64.exe\n",
      "../testing1\\venv\\Lib\\site-packages\\pip\\_vendor\\distlib\\wheel.py\n",
      "../testing1\\venv\\Lib\\site-packages\\pip\\_vendor\\distlib\\__init__.py\n",
      "../testing1\\venv\\Lib\\site-packages\\pip\\_vendor\\distlib\\_backport\n",
      "../testing1\\venv\\Lib\\site-packages\\pip\\_vendor\\distlib\\__pycache__\n",
      "../testing1\\venv\\Lib\\site-packages\\pip\\_vendor\\html5lib\\filters\\__pycache__\\alphabeticalattributes.cpython-38.pyc\n",
      "../testing1\\venv\\Lib\\site-packages\\pip\\_vendor\\html5lib\\filters\\__pycache__\\base.cpython-38.pyc\n",
      "../testing1\\venv\\Lib\\site-packages\\pip\\_vendor\\html5lib\\filters\\__pycache__\\inject_meta_charset.cpython-38.pyc\n",
      "../testing1\\venv\\Lib\\site-packages\\pip\\_vendor\\html5lib\\filters\\__pycache__\\lint.cpython-38.pyc\n",
      "../testing1\\venv\\Lib\\site-packages\\pip\\_vendor\\html5lib\\filters\\__pycache__\\optionaltags.cpython-38.pyc\n",
      "../testing1\\venv\\Lib\\site-packages\\pip\\_vendor\\html5lib\\filters\\__pycache__\\sanitizer.cpython-38.pyc\n",
      "../testing1\\venv\\Lib\\site-packages\\pip\\_vendor\\html5lib\\filters\\__pycache__\\whitespace.cpython-38.pyc\n",
      "../testing1\\venv\\Lib\\site-packages\\pip\\_vendor\\html5lib\\filters\\__pycache__\\__init__.cpython-38.pyc\n",
      "../testing1\\venv\\Lib\\site-packages\\pip\\_vendor\\html5lib\\filters\\alphabeticalattributes.py\n",
      "../testing1\\venv\\Lib\\site-packages\\pip\\_vendor\\html5lib\\filters\\base.py\n",
      "../testing1\\venv\\Lib\\site-packages\\pip\\_vendor\\html5lib\\filters\\inject_meta_charset.py\n",
      "../testing1\\venv\\Lib\\site-packages\\pip\\_vendor\\html5lib\\filters\\lint.py\n",
      "../testing1\\venv\\Lib\\site-packages\\pip\\_vendor\\html5lib\\filters\\optionaltags.py\n",
      "../testing1\\venv\\Lib\\site-packages\\pip\\_vendor\\html5lib\\filters\\sanitizer.py\n",
      "../testing1\\venv\\Lib\\site-packages\\pip\\_vendor\\html5lib\\filters\\whitespace.py\n",
      "../testing1\\venv\\Lib\\site-packages\\pip\\_vendor\\html5lib\\filters\\__init__.py\n",
      "../testing1\\venv\\Lib\\site-packages\\pip\\_vendor\\html5lib\\filters\\__pycache__\n",
      "../testing1\\venv\\Lib\\site-packages\\pip\\_vendor\\html5lib\\treeadapters\\__pycache__\\genshi.cpython-38.pyc\n",
      "../testing1\\venv\\Lib\\site-packages\\pip\\_vendor\\html5lib\\treeadapters\\__pycache__\\sax.cpython-38.pyc\n",
      "../testing1\\venv\\Lib\\site-packages\\pip\\_vendor\\html5lib\\treeadapters\\__pycache__\\__init__.cpython-38.pyc\n",
      "../testing1\\venv\\Lib\\site-packages\\pip\\_vendor\\html5lib\\treeadapters\\genshi.py\n",
      "../testing1\\venv\\Lib\\site-packages\\pip\\_vendor\\html5lib\\treeadapters\\sax.py\n",
      "../testing1\\venv\\Lib\\site-packages\\pip\\_vendor\\html5lib\\treeadapters\\__init__.py\n",
      "../testing1\\venv\\Lib\\site-packages\\pip\\_vendor\\html5lib\\treeadapters\\__pycache__\n",
      "../testing1\\venv\\Lib\\site-packages\\pip\\_vendor\\html5lib\\treebuilders\\__pycache__\\base.cpython-38.pyc\n",
      "../testing1\\venv\\Lib\\site-packages\\pip\\_vendor\\html5lib\\treebuilders\\__pycache__\\dom.cpython-38.pyc\n",
      "../testing1\\venv\\Lib\\site-packages\\pip\\_vendor\\html5lib\\treebuilders\\__pycache__\\etree.cpython-38.pyc\n",
      "../testing1\\venv\\Lib\\site-packages\\pip\\_vendor\\html5lib\\treebuilders\\__pycache__\\etree_lxml.cpython-38.pyc\n",
      "../testing1\\venv\\Lib\\site-packages\\pip\\_vendor\\html5lib\\treebuilders\\__pycache__\\__init__.cpython-38.pyc\n",
      "../testing1\\venv\\Lib\\site-packages\\pip\\_vendor\\html5lib\\treebuilders\\base.py\n",
      "../testing1\\venv\\Lib\\site-packages\\pip\\_vendor\\html5lib\\treebuilders\\dom.py\n",
      "../testing1\\venv\\Lib\\site-packages\\pip\\_vendor\\html5lib\\treebuilders\\etree.py\n",
      "../testing1\\venv\\Lib\\site-packages\\pip\\_vendor\\html5lib\\treebuilders\\etree_lxml.py\n",
      "../testing1\\venv\\Lib\\site-packages\\pip\\_vendor\\html5lib\\treebuilders\\__init__.py\n",
      "../testing1\\venv\\Lib\\site-packages\\pip\\_vendor\\html5lib\\treebuilders\\__pycache__\n",
      "../testing1\\venv\\Lib\\site-packages\\pip\\_vendor\\html5lib\\treewalkers\\__pycache__\\base.cpython-38.pyc\n",
      "../testing1\\venv\\Lib\\site-packages\\pip\\_vendor\\html5lib\\treewalkers\\__pycache__\\dom.cpython-38.pyc\n",
      "../testing1\\venv\\Lib\\site-packages\\pip\\_vendor\\html5lib\\treewalkers\\__pycache__\\etree.cpython-38.pyc\n",
      "../testing1\\venv\\Lib\\site-packages\\pip\\_vendor\\html5lib\\treewalkers\\__pycache__\\etree_lxml.cpython-38.pyc\n",
      "../testing1\\venv\\Lib\\site-packages\\pip\\_vendor\\html5lib\\treewalkers\\__pycache__\\genshi.cpython-38.pyc\n",
      "../testing1\\venv\\Lib\\site-packages\\pip\\_vendor\\html5lib\\treewalkers\\__pycache__\\__init__.cpython-38.pyc\n",
      "../testing1\\venv\\Lib\\site-packages\\pip\\_vendor\\html5lib\\treewalkers\\base.py\n",
      "../testing1\\venv\\Lib\\site-packages\\pip\\_vendor\\html5lib\\treewalkers\\dom.py\n",
      "../testing1\\venv\\Lib\\site-packages\\pip\\_vendor\\html5lib\\treewalkers\\etree.py\n",
      "../testing1\\venv\\Lib\\site-packages\\pip\\_vendor\\html5lib\\treewalkers\\etree_lxml.py\n",
      "../testing1\\venv\\Lib\\site-packages\\pip\\_vendor\\html5lib\\treewalkers\\genshi.py\n",
      "../testing1\\venv\\Lib\\site-packages\\pip\\_vendor\\html5lib\\treewalkers\\__init__.py\n",
      "../testing1\\venv\\Lib\\site-packages\\pip\\_vendor\\html5lib\\treewalkers\\__pycache__\n",
      "../testing1\\venv\\Lib\\site-packages\\pip\\_vendor\\html5lib\\_trie\\__pycache__\\py.cpython-38.pyc\n",
      "../testing1\\venv\\Lib\\site-packages\\pip\\_vendor\\html5lib\\_trie\\__pycache__\\_base.cpython-38.pyc\n",
      "../testing1\\venv\\Lib\\site-packages\\pip\\_vendor\\html5lib\\_trie\\__pycache__\\__init__.cpython-38.pyc\n",
      "../testing1\\venv\\Lib\\site-packages\\pip\\_vendor\\html5lib\\_trie\\py.py\n",
      "../testing1\\venv\\Lib\\site-packages\\pip\\_vendor\\html5lib\\_trie\\_base.py\n",
      "../testing1\\venv\\Lib\\site-packages\\pip\\_vendor\\html5lib\\_trie\\__init__.py\n",
      "../testing1\\venv\\Lib\\site-packages\\pip\\_vendor\\html5lib\\_trie\\__pycache__\n",
      "../testing1\\venv\\Lib\\site-packages\\pip\\_vendor\\html5lib\\__pycache__\\constants.cpython-38.pyc\n",
      "../testing1\\venv\\Lib\\site-packages\\pip\\_vendor\\html5lib\\__pycache__\\html5parser.cpython-38.pyc\n",
      "../testing1\\venv\\Lib\\site-packages\\pip\\_vendor\\html5lib\\__pycache__\\serializer.cpython-38.pyc\n",
      "../testing1\\venv\\Lib\\site-packages\\pip\\_vendor\\html5lib\\__pycache__\\_ihatexml.cpython-38.pyc\n",
      "../testing1\\venv\\Lib\\site-packages\\pip\\_vendor\\html5lib\\__pycache__\\_inputstream.cpython-38.pyc\n",
      "../testing1\\venv\\Lib\\site-packages\\pip\\_vendor\\html5lib\\__pycache__\\_tokenizer.cpython-38.pyc\n",
      "../testing1\\venv\\Lib\\site-packages\\pip\\_vendor\\html5lib\\__pycache__\\_utils.cpython-38.pyc\n",
      "../testing1\\venv\\Lib\\site-packages\\pip\\_vendor\\html5lib\\__pycache__\\__init__.cpython-38.pyc\n",
      "../testing1\\venv\\Lib\\site-packages\\pip\\_vendor\\html5lib\\constants.py\n",
      "../testing1\\venv\\Lib\\site-packages\\pip\\_vendor\\html5lib\\html5parser.py\n",
      "../testing1\\venv\\Lib\\site-packages\\pip\\_vendor\\html5lib\\serializer.py\n",
      "../testing1\\venv\\Lib\\site-packages\\pip\\_vendor\\html5lib\\_ihatexml.py\n",
      "../testing1\\venv\\Lib\\site-packages\\pip\\_vendor\\html5lib\\_inputstream.py\n",
      "../testing1\\venv\\Lib\\site-packages\\pip\\_vendor\\html5lib\\_tokenizer.py\n",
      "../testing1\\venv\\Lib\\site-packages\\pip\\_vendor\\html5lib\\_utils.py\n",
      "../testing1\\venv\\Lib\\site-packages\\pip\\_vendor\\html5lib\\__init__.py\n",
      "../testing1\\venv\\Lib\\site-packages\\pip\\_vendor\\html5lib\\filters\n",
      "../testing1\\venv\\Lib\\site-packages\\pip\\_vendor\\html5lib\\treeadapters\n",
      "../testing1\\venv\\Lib\\site-packages\\pip\\_vendor\\html5lib\\treebuilders\n",
      "../testing1\\venv\\Lib\\site-packages\\pip\\_vendor\\html5lib\\treewalkers\n",
      "../testing1\\venv\\Lib\\site-packages\\pip\\_vendor\\html5lib\\_trie\n",
      "../testing1\\venv\\Lib\\site-packages\\pip\\_vendor\\html5lib\\__pycache__\n",
      "../testing1\\venv\\Lib\\site-packages\\pip\\_vendor\\idna\\__pycache__\\codec.cpython-38.pyc\n",
      "../testing1\\venv\\Lib\\site-packages\\pip\\_vendor\\idna\\__pycache__\\compat.cpython-38.pyc\n",
      "../testing1\\venv\\Lib\\site-packages\\pip\\_vendor\\idna\\__pycache__\\core.cpython-38.pyc\n",
      "../testing1\\venv\\Lib\\site-packages\\pip\\_vendor\\idna\\__pycache__\\idnadata.cpython-38.pyc\n",
      "../testing1\\venv\\Lib\\site-packages\\pip\\_vendor\\idna\\__pycache__\\intranges.cpython-38.pyc\n",
      "../testing1\\venv\\Lib\\site-packages\\pip\\_vendor\\idna\\__pycache__\\package_data.cpython-38.pyc\n",
      "../testing1\\venv\\Lib\\site-packages\\pip\\_vendor\\idna\\__pycache__\\uts46data.cpython-38.pyc\n",
      "../testing1\\venv\\Lib\\site-packages\\pip\\_vendor\\idna\\__pycache__\\__init__.cpython-38.pyc\n",
      "../testing1\\venv\\Lib\\site-packages\\pip\\_vendor\\idna\\codec.py\n",
      "../testing1\\venv\\Lib\\site-packages\\pip\\_vendor\\idna\\compat.py\n",
      "../testing1\\venv\\Lib\\site-packages\\pip\\_vendor\\idna\\core.py\n",
      "../testing1\\venv\\Lib\\site-packages\\pip\\_vendor\\idna\\idnadata.py\n",
      "../testing1\\venv\\Lib\\site-packages\\pip\\_vendor\\idna\\intranges.py\n",
      "../testing1\\venv\\Lib\\site-packages\\pip\\_vendor\\idna\\package_data.py\n",
      "../testing1\\venv\\Lib\\site-packages\\pip\\_vendor\\idna\\uts46data.py\n",
      "../testing1\\venv\\Lib\\site-packages\\pip\\_vendor\\idna\\__init__.py\n",
      "../testing1\\venv\\Lib\\site-packages\\pip\\_vendor\\idna\\__pycache__\n",
      "../testing1\\venv\\Lib\\site-packages\\pip\\_vendor\\msgpack\\__pycache__\\exceptions.cpython-38.pyc\n",
      "../testing1\\venv\\Lib\\site-packages\\pip\\_vendor\\msgpack\\__pycache__\\ext.cpython-38.pyc\n",
      "../testing1\\venv\\Lib\\site-packages\\pip\\_vendor\\msgpack\\__pycache__\\fallback.cpython-38.pyc\n",
      "../testing1\\venv\\Lib\\site-packages\\pip\\_vendor\\msgpack\\__pycache__\\_version.cpython-38.pyc\n",
      "../testing1\\venv\\Lib\\site-packages\\pip\\_vendor\\msgpack\\__pycache__\\__init__.cpython-38.pyc\n",
      "../testing1\\venv\\Lib\\site-packages\\pip\\_vendor\\msgpack\\exceptions.py\n",
      "../testing1\\venv\\Lib\\site-packages\\pip\\_vendor\\msgpack\\ext.py\n",
      "../testing1\\venv\\Lib\\site-packages\\pip\\_vendor\\msgpack\\fallback.py\n",
      "../testing1\\venv\\Lib\\site-packages\\pip\\_vendor\\msgpack\\_version.py\n",
      "../testing1\\venv\\Lib\\site-packages\\pip\\_vendor\\msgpack\\__init__.py\n",
      "../testing1\\venv\\Lib\\site-packages\\pip\\_vendor\\msgpack\\__pycache__\n",
      "../testing1\\venv\\Lib\\site-packages\\pip\\_vendor\\packaging\\__pycache__\\markers.cpython-38.pyc\n",
      "../testing1\\venv\\Lib\\site-packages\\pip\\_vendor\\packaging\\__pycache__\\requirements.cpython-38.pyc\n",
      "../testing1\\venv\\Lib\\site-packages\\pip\\_vendor\\packaging\\__pycache__\\specifiers.cpython-38.pyc\n",
      "../testing1\\venv\\Lib\\site-packages\\pip\\_vendor\\packaging\\__pycache__\\tags.cpython-38.pyc\n",
      "../testing1\\venv\\Lib\\site-packages\\pip\\_vendor\\packaging\\__pycache__\\utils.cpython-38.pyc\n",
      "../testing1\\venv\\Lib\\site-packages\\pip\\_vendor\\packaging\\__pycache__\\version.cpython-38.pyc\n",
      "../testing1\\venv\\Lib\\site-packages\\pip\\_vendor\\packaging\\__pycache__\\_compat.cpython-38.pyc\n",
      "../testing1\\venv\\Lib\\site-packages\\pip\\_vendor\\packaging\\__pycache__\\_structures.cpython-38.pyc\n",
      "../testing1\\venv\\Lib\\site-packages\\pip\\_vendor\\packaging\\__pycache__\\_typing.cpython-38.pyc\n",
      "../testing1\\venv\\Lib\\site-packages\\pip\\_vendor\\packaging\\__pycache__\\__about__.cpython-38.pyc\n",
      "../testing1\\venv\\Lib\\site-packages\\pip\\_vendor\\packaging\\__pycache__\\__init__.cpython-38.pyc\n",
      "../testing1\\venv\\Lib\\site-packages\\pip\\_vendor\\packaging\\markers.py\n",
      "../testing1\\venv\\Lib\\site-packages\\pip\\_vendor\\packaging\\requirements.py\n",
      "../testing1\\venv\\Lib\\site-packages\\pip\\_vendor\\packaging\\specifiers.py\n",
      "../testing1\\venv\\Lib\\site-packages\\pip\\_vendor\\packaging\\tags.py\n",
      "../testing1\\venv\\Lib\\site-packages\\pip\\_vendor\\packaging\\utils.py\n",
      "../testing1\\venv\\Lib\\site-packages\\pip\\_vendor\\packaging\\version.py\n",
      "../testing1\\venv\\Lib\\site-packages\\pip\\_vendor\\packaging\\_compat.py\n",
      "../testing1\\venv\\Lib\\site-packages\\pip\\_vendor\\packaging\\_structures.py\n",
      "../testing1\\venv\\Lib\\site-packages\\pip\\_vendor\\packaging\\_typing.py\n",
      "../testing1\\venv\\Lib\\site-packages\\pip\\_vendor\\packaging\\__about__.py\n",
      "../testing1\\venv\\Lib\\site-packages\\pip\\_vendor\\packaging\\__init__.py\n",
      "../testing1\\venv\\Lib\\site-packages\\pip\\_vendor\\packaging\\__pycache__\n",
      "../testing1\\venv\\Lib\\site-packages\\pip\\_vendor\\pep517\\__pycache__\\build.cpython-38.pyc\n",
      "../testing1\\venv\\Lib\\site-packages\\pip\\_vendor\\pep517\\__pycache__\\check.cpython-38.pyc\n",
      "../testing1\\venv\\Lib\\site-packages\\pip\\_vendor\\pep517\\__pycache__\\colorlog.cpython-38.pyc\n",
      "../testing1\\venv\\Lib\\site-packages\\pip\\_vendor\\pep517\\__pycache__\\compat.cpython-38.pyc\n",
      "../testing1\\venv\\Lib\\site-packages\\pip\\_vendor\\pep517\\__pycache__\\dirtools.cpython-38.pyc\n",
      "../testing1\\venv\\Lib\\site-packages\\pip\\_vendor\\pep517\\__pycache__\\envbuild.cpython-38.pyc\n",
      "../testing1\\venv\\Lib\\site-packages\\pip\\_vendor\\pep517\\__pycache__\\meta.cpython-38.pyc\n",
      "../testing1\\venv\\Lib\\site-packages\\pip\\_vendor\\pep517\\__pycache__\\wrappers.cpython-38.pyc\n",
      "../testing1\\venv\\Lib\\site-packages\\pip\\_vendor\\pep517\\__pycache__\\_in_process.cpython-38.pyc\n",
      "../testing1\\venv\\Lib\\site-packages\\pip\\_vendor\\pep517\\__pycache__\\__init__.cpython-38.pyc\n",
      "../testing1\\venv\\Lib\\site-packages\\pip\\_vendor\\pep517\\build.py\n",
      "../testing1\\venv\\Lib\\site-packages\\pip\\_vendor\\pep517\\check.py\n",
      "../testing1\\venv\\Lib\\site-packages\\pip\\_vendor\\pep517\\colorlog.py\n",
      "../testing1\\venv\\Lib\\site-packages\\pip\\_vendor\\pep517\\compat.py\n",
      "../testing1\\venv\\Lib\\site-packages\\pip\\_vendor\\pep517\\dirtools.py\n",
      "../testing1\\venv\\Lib\\site-packages\\pip\\_vendor\\pep517\\envbuild.py\n",
      "../testing1\\venv\\Lib\\site-packages\\pip\\_vendor\\pep517\\meta.py\n",
      "../testing1\\venv\\Lib\\site-packages\\pip\\_vendor\\pep517\\wrappers.py\n",
      "../testing1\\venv\\Lib\\site-packages\\pip\\_vendor\\pep517\\_in_process.py\n",
      "../testing1\\venv\\Lib\\site-packages\\pip\\_vendor\\pep517\\__init__.py\n",
      "../testing1\\venv\\Lib\\site-packages\\pip\\_vendor\\pep517\\__pycache__\n",
      "../testing1\\venv\\Lib\\site-packages\\pip\\_vendor\\pkg_resources\\__pycache__\\py31compat.cpython-38.pyc\n",
      "../testing1\\venv\\Lib\\site-packages\\pip\\_vendor\\pkg_resources\\__pycache__\\__init__.cpython-38.pyc\n",
      "../testing1\\venv\\Lib\\site-packages\\pip\\_vendor\\pkg_resources\\py31compat.py\n",
      "../testing1\\venv\\Lib\\site-packages\\pip\\_vendor\\pkg_resources\\__init__.py\n",
      "../testing1\\venv\\Lib\\site-packages\\pip\\_vendor\\pkg_resources\\__pycache__\n",
      "../testing1\\venv\\Lib\\site-packages\\pip\\_vendor\\progress\\__pycache__\\bar.cpython-38.pyc\n",
      "../testing1\\venv\\Lib\\site-packages\\pip\\_vendor\\progress\\__pycache__\\counter.cpython-38.pyc\n",
      "../testing1\\venv\\Lib\\site-packages\\pip\\_vendor\\progress\\__pycache__\\spinner.cpython-38.pyc\n",
      "../testing1\\venv\\Lib\\site-packages\\pip\\_vendor\\progress\\__pycache__\\__init__.cpython-38.pyc\n",
      "../testing1\\venv\\Lib\\site-packages\\pip\\_vendor\\progress\\bar.py\n",
      "../testing1\\venv\\Lib\\site-packages\\pip\\_vendor\\progress\\counter.py\n",
      "../testing1\\venv\\Lib\\site-packages\\pip\\_vendor\\progress\\spinner.py\n",
      "../testing1\\venv\\Lib\\site-packages\\pip\\_vendor\\progress\\__init__.py\n",
      "../testing1\\venv\\Lib\\site-packages\\pip\\_vendor\\progress\\__pycache__\n",
      "../testing1\\venv\\Lib\\site-packages\\pip\\_vendor\\requests\\__pycache__\\adapters.cpython-38.pyc\n",
      "../testing1\\venv\\Lib\\site-packages\\pip\\_vendor\\requests\\__pycache__\\api.cpython-38.pyc\n",
      "../testing1\\venv\\Lib\\site-packages\\pip\\_vendor\\requests\\__pycache__\\auth.cpython-38.pyc\n",
      "../testing1\\venv\\Lib\\site-packages\\pip\\_vendor\\requests\\__pycache__\\certs.cpython-38.pyc\n",
      "../testing1\\venv\\Lib\\site-packages\\pip\\_vendor\\requests\\__pycache__\\compat.cpython-38.pyc\n",
      "../testing1\\venv\\Lib\\site-packages\\pip\\_vendor\\requests\\__pycache__\\cookies.cpython-38.pyc\n",
      "../testing1\\venv\\Lib\\site-packages\\pip\\_vendor\\requests\\__pycache__\\exceptions.cpython-38.pyc\n",
      "../testing1\\venv\\Lib\\site-packages\\pip\\_vendor\\requests\\__pycache__\\help.cpython-38.pyc\n",
      "../testing1\\venv\\Lib\\site-packages\\pip\\_vendor\\requests\\__pycache__\\hooks.cpython-38.pyc\n",
      "../testing1\\venv\\Lib\\site-packages\\pip\\_vendor\\requests\\__pycache__\\models.cpython-38.pyc\n",
      "../testing1\\venv\\Lib\\site-packages\\pip\\_vendor\\requests\\__pycache__\\packages.cpython-38.pyc\n",
      "../testing1\\venv\\Lib\\site-packages\\pip\\_vendor\\requests\\__pycache__\\sessions.cpython-38.pyc\n",
      "../testing1\\venv\\Lib\\site-packages\\pip\\_vendor\\requests\\__pycache__\\status_codes.cpython-38.pyc\n",
      "../testing1\\venv\\Lib\\site-packages\\pip\\_vendor\\requests\\__pycache__\\structures.cpython-38.pyc\n",
      "../testing1\\venv\\Lib\\site-packages\\pip\\_vendor\\requests\\__pycache__\\utils.cpython-38.pyc\n",
      "../testing1\\venv\\Lib\\site-packages\\pip\\_vendor\\requests\\__pycache__\\_internal_utils.cpython-38.pyc\n",
      "../testing1\\venv\\Lib\\site-packages\\pip\\_vendor\\requests\\__pycache__\\__init__.cpython-38.pyc\n",
      "../testing1\\venv\\Lib\\site-packages\\pip\\_vendor\\requests\\__pycache__\\__version__.cpython-38.pyc\n",
      "../testing1\\venv\\Lib\\site-packages\\pip\\_vendor\\requests\\adapters.py\n",
      "../testing1\\venv\\Lib\\site-packages\\pip\\_vendor\\requests\\api.py\n",
      "../testing1\\venv\\Lib\\site-packages\\pip\\_vendor\\requests\\auth.py\n",
      "../testing1\\venv\\Lib\\site-packages\\pip\\_vendor\\requests\\certs.py\n",
      "../testing1\\venv\\Lib\\site-packages\\pip\\_vendor\\requests\\compat.py\n",
      "../testing1\\venv\\Lib\\site-packages\\pip\\_vendor\\requests\\cookies.py\n",
      "../testing1\\venv\\Lib\\site-packages\\pip\\_vendor\\requests\\exceptions.py\n",
      "../testing1\\venv\\Lib\\site-packages\\pip\\_vendor\\requests\\help.py\n",
      "../testing1\\venv\\Lib\\site-packages\\pip\\_vendor\\requests\\hooks.py\n",
      "../testing1\\venv\\Lib\\site-packages\\pip\\_vendor\\requests\\models.py\n",
      "../testing1\\venv\\Lib\\site-packages\\pip\\_vendor\\requests\\packages.py\n",
      "../testing1\\venv\\Lib\\site-packages\\pip\\_vendor\\requests\\sessions.py\n",
      "../testing1\\venv\\Lib\\site-packages\\pip\\_vendor\\requests\\status_codes.py\n",
      "../testing1\\venv\\Lib\\site-packages\\pip\\_vendor\\requests\\structures.py\n",
      "../testing1\\venv\\Lib\\site-packages\\pip\\_vendor\\requests\\utils.py\n",
      "../testing1\\venv\\Lib\\site-packages\\pip\\_vendor\\requests\\_internal_utils.py\n",
      "../testing1\\venv\\Lib\\site-packages\\pip\\_vendor\\requests\\__init__.py\n",
      "../testing1\\venv\\Lib\\site-packages\\pip\\_vendor\\requests\\__version__.py\n",
      "../testing1\\venv\\Lib\\site-packages\\pip\\_vendor\\requests\\__pycache__\n",
      "../testing1\\venv\\Lib\\site-packages\\pip\\_vendor\\resolvelib\\compat\\__pycache__\\collections_abc.cpython-38.pyc\n",
      "../testing1\\venv\\Lib\\site-packages\\pip\\_vendor\\resolvelib\\compat\\__pycache__\\__init__.cpython-38.pyc\n",
      "../testing1\\venv\\Lib\\site-packages\\pip\\_vendor\\resolvelib\\compat\\collections_abc.py\n",
      "../testing1\\venv\\Lib\\site-packages\\pip\\_vendor\\resolvelib\\compat\\__init__.py\n",
      "../testing1\\venv\\Lib\\site-packages\\pip\\_vendor\\resolvelib\\compat\\__pycache__\n",
      "../testing1\\venv\\Lib\\site-packages\\pip\\_vendor\\resolvelib\\__pycache__\\providers.cpython-38.pyc\n",
      "../testing1\\venv\\Lib\\site-packages\\pip\\_vendor\\resolvelib\\__pycache__\\reporters.cpython-38.pyc\n",
      "../testing1\\venv\\Lib\\site-packages\\pip\\_vendor\\resolvelib\\__pycache__\\resolvers.cpython-38.pyc\n",
      "../testing1\\venv\\Lib\\site-packages\\pip\\_vendor\\resolvelib\\__pycache__\\structs.cpython-38.pyc\n",
      "../testing1\\venv\\Lib\\site-packages\\pip\\_vendor\\resolvelib\\__pycache__\\__init__.cpython-38.pyc\n",
      "../testing1\\venv\\Lib\\site-packages\\pip\\_vendor\\resolvelib\\providers.py\n",
      "../testing1\\venv\\Lib\\site-packages\\pip\\_vendor\\resolvelib\\reporters.py\n",
      "../testing1\\venv\\Lib\\site-packages\\pip\\_vendor\\resolvelib\\resolvers.py\n",
      "../testing1\\venv\\Lib\\site-packages\\pip\\_vendor\\resolvelib\\structs.py\n",
      "../testing1\\venv\\Lib\\site-packages\\pip\\_vendor\\resolvelib\\__init__.py\n",
      "../testing1\\venv\\Lib\\site-packages\\pip\\_vendor\\resolvelib\\compat\n",
      "../testing1\\venv\\Lib\\site-packages\\pip\\_vendor\\resolvelib\\__pycache__\n",
      "../testing1\\venv\\Lib\\site-packages\\pip\\_vendor\\toml\\__pycache__\\decoder.cpython-38.pyc\n",
      "../testing1\\venv\\Lib\\site-packages\\pip\\_vendor\\toml\\__pycache__\\encoder.cpython-38.pyc\n",
      "../testing1\\venv\\Lib\\site-packages\\pip\\_vendor\\toml\\__pycache__\\ordered.cpython-38.pyc\n",
      "../testing1\\venv\\Lib\\site-packages\\pip\\_vendor\\toml\\__pycache__\\tz.cpython-38.pyc\n",
      "../testing1\\venv\\Lib\\site-packages\\pip\\_vendor\\toml\\__pycache__\\__init__.cpython-38.pyc\n",
      "../testing1\\venv\\Lib\\site-packages\\pip\\_vendor\\toml\\decoder.py\n",
      "../testing1\\venv\\Lib\\site-packages\\pip\\_vendor\\toml\\encoder.py\n",
      "../testing1\\venv\\Lib\\site-packages\\pip\\_vendor\\toml\\ordered.py\n",
      "../testing1\\venv\\Lib\\site-packages\\pip\\_vendor\\toml\\tz.py\n",
      "../testing1\\venv\\Lib\\site-packages\\pip\\_vendor\\toml\\__init__.py\n",
      "../testing1\\venv\\Lib\\site-packages\\pip\\_vendor\\toml\\__pycache__\n",
      "../testing1\\venv\\Lib\\site-packages\\pip\\_vendor\\urllib3\\contrib\\_securetransport\\__pycache__\\bindings.cpython-38.pyc\n",
      "../testing1\\venv\\Lib\\site-packages\\pip\\_vendor\\urllib3\\contrib\\_securetransport\\__pycache__\\low_level.cpython-38.pyc\n",
      "../testing1\\venv\\Lib\\site-packages\\pip\\_vendor\\urllib3\\contrib\\_securetransport\\__pycache__\\__init__.cpython-38.pyc\n",
      "../testing1\\venv\\Lib\\site-packages\\pip\\_vendor\\urllib3\\contrib\\_securetransport\\bindings.py\n",
      "../testing1\\venv\\Lib\\site-packages\\pip\\_vendor\\urllib3\\contrib\\_securetransport\\low_level.py\n",
      "../testing1\\venv\\Lib\\site-packages\\pip\\_vendor\\urllib3\\contrib\\_securetransport\\__init__.py\n",
      "../testing1\\venv\\Lib\\site-packages\\pip\\_vendor\\urllib3\\contrib\\_securetransport\\__pycache__\n",
      "../testing1\\venv\\Lib\\site-packages\\pip\\_vendor\\urllib3\\contrib\\__pycache__\\appengine.cpython-38.pyc\n",
      "../testing1\\venv\\Lib\\site-packages\\pip\\_vendor\\urllib3\\contrib\\__pycache__\\ntlmpool.cpython-38.pyc\n",
      "../testing1\\venv\\Lib\\site-packages\\pip\\_vendor\\urllib3\\contrib\\__pycache__\\pyopenssl.cpython-38.pyc\n",
      "../testing1\\venv\\Lib\\site-packages\\pip\\_vendor\\urllib3\\contrib\\__pycache__\\securetransport.cpython-38.pyc\n",
      "../testing1\\venv\\Lib\\site-packages\\pip\\_vendor\\urllib3\\contrib\\__pycache__\\socks.cpython-38.pyc\n",
      "../testing1\\venv\\Lib\\site-packages\\pip\\_vendor\\urllib3\\contrib\\__pycache__\\_appengine_environ.cpython-38.pyc\n",
      "../testing1\\venv\\Lib\\site-packages\\pip\\_vendor\\urllib3\\contrib\\__pycache__\\__init__.cpython-38.pyc\n",
      "../testing1\\venv\\Lib\\site-packages\\pip\\_vendor\\urllib3\\contrib\\appengine.py\n",
      "../testing1\\venv\\Lib\\site-packages\\pip\\_vendor\\urllib3\\contrib\\ntlmpool.py\n",
      "../testing1\\venv\\Lib\\site-packages\\pip\\_vendor\\urllib3\\contrib\\pyopenssl.py\n",
      "../testing1\\venv\\Lib\\site-packages\\pip\\_vendor\\urllib3\\contrib\\securetransport.py\n",
      "../testing1\\venv\\Lib\\site-packages\\pip\\_vendor\\urllib3\\contrib\\socks.py\n",
      "../testing1\\venv\\Lib\\site-packages\\pip\\_vendor\\urllib3\\contrib\\_appengine_environ.py\n",
      "../testing1\\venv\\Lib\\site-packages\\pip\\_vendor\\urllib3\\contrib\\__init__.py\n",
      "../testing1\\venv\\Lib\\site-packages\\pip\\_vendor\\urllib3\\contrib\\_securetransport\n",
      "../testing1\\venv\\Lib\\site-packages\\pip\\_vendor\\urllib3\\contrib\\__pycache__\n",
      "../testing1\\venv\\Lib\\site-packages\\pip\\_vendor\\urllib3\\packages\\backports\\__pycache__\\makefile.cpython-38.pyc\n",
      "../testing1\\venv\\Lib\\site-packages\\pip\\_vendor\\urllib3\\packages\\backports\\__pycache__\\__init__.cpython-38.pyc\n",
      "../testing1\\venv\\Lib\\site-packages\\pip\\_vendor\\urllib3\\packages\\backports\\makefile.py\n",
      "../testing1\\venv\\Lib\\site-packages\\pip\\_vendor\\urllib3\\packages\\backports\\__init__.py\n",
      "../testing1\\venv\\Lib\\site-packages\\pip\\_vendor\\urllib3\\packages\\backports\\__pycache__\n",
      "../testing1\\venv\\Lib\\site-packages\\pip\\_vendor\\urllib3\\packages\\ssl_match_hostname\\__pycache__\\_implementation.cpython-38.pyc\n",
      "../testing1\\venv\\Lib\\site-packages\\pip\\_vendor\\urllib3\\packages\\ssl_match_hostname\\__pycache__\\__init__.cpython-38.pyc\n",
      "../testing1\\venv\\Lib\\site-packages\\pip\\_vendor\\urllib3\\packages\\ssl_match_hostname\\_implementation.py\n",
      "../testing1\\venv\\Lib\\site-packages\\pip\\_vendor\\urllib3\\packages\\ssl_match_hostname\\__init__.py\n",
      "../testing1\\venv\\Lib\\site-packages\\pip\\_vendor\\urllib3\\packages\\ssl_match_hostname\\__pycache__\n",
      "../testing1\\venv\\Lib\\site-packages\\pip\\_vendor\\urllib3\\packages\\__pycache__\\six.cpython-38.pyc\n",
      "../testing1\\venv\\Lib\\site-packages\\pip\\_vendor\\urllib3\\packages\\__pycache__\\__init__.cpython-38.pyc\n",
      "../testing1\\venv\\Lib\\site-packages\\pip\\_vendor\\urllib3\\packages\\six.py\n",
      "../testing1\\venv\\Lib\\site-packages\\pip\\_vendor\\urllib3\\packages\\__init__.py\n",
      "../testing1\\venv\\Lib\\site-packages\\pip\\_vendor\\urllib3\\packages\\backports\n",
      "../testing1\\venv\\Lib\\site-packages\\pip\\_vendor\\urllib3\\packages\\ssl_match_hostname\n",
      "../testing1\\venv\\Lib\\site-packages\\pip\\_vendor\\urllib3\\packages\\__pycache__\n",
      "../testing1\\venv\\Lib\\site-packages\\pip\\_vendor\\urllib3\\util\\__pycache__\\connection.cpython-38.pyc\n",
      "../testing1\\venv\\Lib\\site-packages\\pip\\_vendor\\urllib3\\util\\__pycache__\\proxy.cpython-38.pyc\n",
      "../testing1\\venv\\Lib\\site-packages\\pip\\_vendor\\urllib3\\util\\__pycache__\\queue.cpython-38.pyc\n",
      "../testing1\\venv\\Lib\\site-packages\\pip\\_vendor\\urllib3\\util\\__pycache__\\request.cpython-38.pyc\n",
      "../testing1\\venv\\Lib\\site-packages\\pip\\_vendor\\urllib3\\util\\__pycache__\\response.cpython-38.pyc\n",
      "../testing1\\venv\\Lib\\site-packages\\pip\\_vendor\\urllib3\\util\\__pycache__\\retry.cpython-38.pyc\n",
      "../testing1\\venv\\Lib\\site-packages\\pip\\_vendor\\urllib3\\util\\__pycache__\\ssltransport.cpython-38.pyc\n",
      "../testing1\\venv\\Lib\\site-packages\\pip\\_vendor\\urllib3\\util\\__pycache__\\ssl_.cpython-38.pyc\n",
      "../testing1\\venv\\Lib\\site-packages\\pip\\_vendor\\urllib3\\util\\__pycache__\\timeout.cpython-38.pyc\n",
      "../testing1\\venv\\Lib\\site-packages\\pip\\_vendor\\urllib3\\util\\__pycache__\\url.cpython-38.pyc\n",
      "../testing1\\venv\\Lib\\site-packages\\pip\\_vendor\\urllib3\\util\\__pycache__\\wait.cpython-38.pyc\n",
      "../testing1\\venv\\Lib\\site-packages\\pip\\_vendor\\urllib3\\util\\__pycache__\\__init__.cpython-38.pyc\n",
      "../testing1\\venv\\Lib\\site-packages\\pip\\_vendor\\urllib3\\util\\connection.py\n",
      "../testing1\\venv\\Lib\\site-packages\\pip\\_vendor\\urllib3\\util\\proxy.py\n",
      "../testing1\\venv\\Lib\\site-packages\\pip\\_vendor\\urllib3\\util\\queue.py\n",
      "../testing1\\venv\\Lib\\site-packages\\pip\\_vendor\\urllib3\\util\\request.py\n",
      "../testing1\\venv\\Lib\\site-packages\\pip\\_vendor\\urllib3\\util\\response.py\n",
      "../testing1\\venv\\Lib\\site-packages\\pip\\_vendor\\urllib3\\util\\retry.py\n",
      "../testing1\\venv\\Lib\\site-packages\\pip\\_vendor\\urllib3\\util\\ssltransport.py\n",
      "../testing1\\venv\\Lib\\site-packages\\pip\\_vendor\\urllib3\\util\\ssl_.py\n",
      "../testing1\\venv\\Lib\\site-packages\\pip\\_vendor\\urllib3\\util\\timeout.py\n",
      "../testing1\\venv\\Lib\\site-packages\\pip\\_vendor\\urllib3\\util\\url.py\n",
      "../testing1\\venv\\Lib\\site-packages\\pip\\_vendor\\urllib3\\util\\wait.py\n",
      "../testing1\\venv\\Lib\\site-packages\\pip\\_vendor\\urllib3\\util\\__init__.py\n",
      "../testing1\\venv\\Lib\\site-packages\\pip\\_vendor\\urllib3\\util\\__pycache__\n",
      "../testing1\\venv\\Lib\\site-packages\\pip\\_vendor\\urllib3\\__pycache__\\connection.cpython-38.pyc\n",
      "../testing1\\venv\\Lib\\site-packages\\pip\\_vendor\\urllib3\\__pycache__\\connectionpool.cpython-38.pyc\n",
      "../testing1\\venv\\Lib\\site-packages\\pip\\_vendor\\urllib3\\__pycache__\\exceptions.cpython-38.pyc\n",
      "../testing1\\venv\\Lib\\site-packages\\pip\\_vendor\\urllib3\\__pycache__\\fields.cpython-38.pyc\n",
      "../testing1\\venv\\Lib\\site-packages\\pip\\_vendor\\urllib3\\__pycache__\\filepost.cpython-38.pyc\n",
      "../testing1\\venv\\Lib\\site-packages\\pip\\_vendor\\urllib3\\__pycache__\\poolmanager.cpython-38.pyc\n",
      "../testing1\\venv\\Lib\\site-packages\\pip\\_vendor\\urllib3\\__pycache__\\request.cpython-38.pyc\n",
      "../testing1\\venv\\Lib\\site-packages\\pip\\_vendor\\urllib3\\__pycache__\\response.cpython-38.pyc\n",
      "../testing1\\venv\\Lib\\site-packages\\pip\\_vendor\\urllib3\\__pycache__\\_collections.cpython-38.pyc\n",
      "../testing1\\venv\\Lib\\site-packages\\pip\\_vendor\\urllib3\\__pycache__\\_version.cpython-38.pyc\n",
      "../testing1\\venv\\Lib\\site-packages\\pip\\_vendor\\urllib3\\__pycache__\\__init__.cpython-38.pyc\n",
      "../testing1\\venv\\Lib\\site-packages\\pip\\_vendor\\urllib3\\connection.py\n",
      "../testing1\\venv\\Lib\\site-packages\\pip\\_vendor\\urllib3\\connectionpool.py\n",
      "../testing1\\venv\\Lib\\site-packages\\pip\\_vendor\\urllib3\\exceptions.py\n",
      "../testing1\\venv\\Lib\\site-packages\\pip\\_vendor\\urllib3\\fields.py\n",
      "../testing1\\venv\\Lib\\site-packages\\pip\\_vendor\\urllib3\\filepost.py\n",
      "../testing1\\venv\\Lib\\site-packages\\pip\\_vendor\\urllib3\\poolmanager.py\n",
      "../testing1\\venv\\Lib\\site-packages\\pip\\_vendor\\urllib3\\request.py\n",
      "../testing1\\venv\\Lib\\site-packages\\pip\\_vendor\\urllib3\\response.py\n",
      "../testing1\\venv\\Lib\\site-packages\\pip\\_vendor\\urllib3\\_collections.py\n",
      "../testing1\\venv\\Lib\\site-packages\\pip\\_vendor\\urllib3\\_version.py\n",
      "../testing1\\venv\\Lib\\site-packages\\pip\\_vendor\\urllib3\\__init__.py\n",
      "../testing1\\venv\\Lib\\site-packages\\pip\\_vendor\\urllib3\\contrib\n",
      "../testing1\\venv\\Lib\\site-packages\\pip\\_vendor\\urllib3\\packages\n",
      "../testing1\\venv\\Lib\\site-packages\\pip\\_vendor\\urllib3\\util\n",
      "../testing1\\venv\\Lib\\site-packages\\pip\\_vendor\\urllib3\\__pycache__\n",
      "../testing1\\venv\\Lib\\site-packages\\pip\\_vendor\\webencodings\\__pycache__\\labels.cpython-38.pyc\n",
      "../testing1\\venv\\Lib\\site-packages\\pip\\_vendor\\webencodings\\__pycache__\\mklabels.cpython-38.pyc\n",
      "../testing1\\venv\\Lib\\site-packages\\pip\\_vendor\\webencodings\\__pycache__\\tests.cpython-38.pyc\n",
      "../testing1\\venv\\Lib\\site-packages\\pip\\_vendor\\webencodings\\__pycache__\\x_user_defined.cpython-38.pyc\n",
      "../testing1\\venv\\Lib\\site-packages\\pip\\_vendor\\webencodings\\__pycache__\\__init__.cpython-38.pyc\n",
      "../testing1\\venv\\Lib\\site-packages\\pip\\_vendor\\webencodings\\labels.py\n",
      "../testing1\\venv\\Lib\\site-packages\\pip\\_vendor\\webencodings\\mklabels.py\n",
      "../testing1\\venv\\Lib\\site-packages\\pip\\_vendor\\webencodings\\tests.py\n",
      "../testing1\\venv\\Lib\\site-packages\\pip\\_vendor\\webencodings\\x_user_defined.py\n",
      "../testing1\\venv\\Lib\\site-packages\\pip\\_vendor\\webencodings\\__init__.py\n",
      "../testing1\\venv\\Lib\\site-packages\\pip\\_vendor\\webencodings\\__pycache__\n",
      "../testing1\\venv\\Lib\\site-packages\\pip\\_vendor\\__pycache__\\appdirs.cpython-38.pyc\n",
      "../testing1\\venv\\Lib\\site-packages\\pip\\_vendor\\__pycache__\\contextlib2.cpython-38.pyc\n",
      "../testing1\\venv\\Lib\\site-packages\\pip\\_vendor\\__pycache__\\distro.cpython-38.pyc\n",
      "../testing1\\venv\\Lib\\site-packages\\pip\\_vendor\\__pycache__\\pyparsing.cpython-38.pyc\n",
      "../testing1\\venv\\Lib\\site-packages\\pip\\_vendor\\__pycache__\\retrying.cpython-38.pyc\n",
      "../testing1\\venv\\Lib\\site-packages\\pip\\_vendor\\__pycache__\\six.cpython-38.pyc\n",
      "../testing1\\venv\\Lib\\site-packages\\pip\\_vendor\\__pycache__\\__init__.cpython-38.pyc\n",
      "../testing1\\venv\\Lib\\site-packages\\pip\\_vendor\\appdirs.py\n",
      "../testing1\\venv\\Lib\\site-packages\\pip\\_vendor\\contextlib2.py\n",
      "../testing1\\venv\\Lib\\site-packages\\pip\\_vendor\\distro.py\n",
      "../testing1\\venv\\Lib\\site-packages\\pip\\_vendor\\pyparsing.py\n",
      "../testing1\\venv\\Lib\\site-packages\\pip\\_vendor\\retrying.py\n",
      "../testing1\\venv\\Lib\\site-packages\\pip\\_vendor\\six.py\n",
      "../testing1\\venv\\Lib\\site-packages\\pip\\_vendor\\vendor.txt\n",
      "../testing1\\venv\\Lib\\site-packages\\pip\\_vendor\\__init__.py\n",
      "../testing1\\venv\\Lib\\site-packages\\pip\\_vendor\\cachecontrol\n",
      "../testing1\\venv\\Lib\\site-packages\\pip\\_vendor\\certifi\n",
      "../testing1\\venv\\Lib\\site-packages\\pip\\_vendor\\chardet\n",
      "../testing1\\venv\\Lib\\site-packages\\pip\\_vendor\\colorama\n",
      "../testing1\\venv\\Lib\\site-packages\\pip\\_vendor\\distlib\n",
      "../testing1\\venv\\Lib\\site-packages\\pip\\_vendor\\html5lib\n",
      "../testing1\\venv\\Lib\\site-packages\\pip\\_vendor\\idna\n",
      "../testing1\\venv\\Lib\\site-packages\\pip\\_vendor\\msgpack\n",
      "../testing1\\venv\\Lib\\site-packages\\pip\\_vendor\\packaging\n",
      "../testing1\\venv\\Lib\\site-packages\\pip\\_vendor\\pep517\n",
      "../testing1\\venv\\Lib\\site-packages\\pip\\_vendor\\pkg_resources\n",
      "../testing1\\venv\\Lib\\site-packages\\pip\\_vendor\\progress\n",
      "../testing1\\venv\\Lib\\site-packages\\pip\\_vendor\\requests\n",
      "../testing1\\venv\\Lib\\site-packages\\pip\\_vendor\\resolvelib\n",
      "../testing1\\venv\\Lib\\site-packages\\pip\\_vendor\\toml\n",
      "../testing1\\venv\\Lib\\site-packages\\pip\\_vendor\\urllib3\n",
      "../testing1\\venv\\Lib\\site-packages\\pip\\_vendor\\webencodings\n",
      "../testing1\\venv\\Lib\\site-packages\\pip\\_vendor\\__pycache__\n",
      "../testing1\\venv\\Lib\\site-packages\\pip\\__pycache__\\__init__.cpython-38.pyc\n",
      "../testing1\\venv\\Lib\\site-packages\\pip\\__pycache__\\__main__.cpython-38.pyc\n",
      "../testing1\\venv\\Lib\\site-packages\\pip\\__init__.py\n",
      "../testing1\\venv\\Lib\\site-packages\\pip\\__main__.py\n",
      "../testing1\\venv\\Lib\\site-packages\\pip\\_internal\n",
      "../testing1\\venv\\Lib\\site-packages\\pip\\_vendor\n",
      "../testing1\\venv\\Lib\\site-packages\\pip\\__pycache__\n",
      "../testing1\\venv\\Lib\\site-packages\\pip-21.0.1.dist-info\\entry_points.txt\n",
      "../testing1\\venv\\Lib\\site-packages\\pip-21.0.1.dist-info\\INSTALLER\n",
      "../testing1\\venv\\Lib\\site-packages\\pip-21.0.1.dist-info\\LICENSE.txt\n",
      "../testing1\\venv\\Lib\\site-packages\\pip-21.0.1.dist-info\\METADATA\n",
      "../testing1\\venv\\Lib\\site-packages\\pip-21.0.1.dist-info\\RECORD\n",
      "../testing1\\venv\\Lib\\site-packages\\pip-21.0.1.dist-info\\top_level.txt\n",
      "../testing1\\venv\\Lib\\site-packages\\pip-21.0.1.dist-info\\WHEEL\n",
      "../testing1\\venv\\Lib\\site-packages\\pkg_resources\\extern\\__pycache__\\__init__.cpython-38.pyc\n",
      "../testing1\\venv\\Lib\\site-packages\\pkg_resources\\extern\\__init__.py\n",
      "../testing1\\venv\\Lib\\site-packages\\pkg_resources\\extern\\__pycache__\n",
      "../testing1\\venv\\Lib\\site-packages\\pkg_resources\\tests\\data\\my-test-package-source\\__pycache__\\setup.cpython-38.pyc\n",
      "../testing1\\venv\\Lib\\site-packages\\pkg_resources\\tests\\data\\my-test-package-source\\setup.py\n",
      "../testing1\\venv\\Lib\\site-packages\\pkg_resources\\tests\\data\\my-test-package-source\\__pycache__\n",
      "../testing1\\venv\\Lib\\site-packages\\pkg_resources\\tests\\data\\my-test-package-source\n",
      "../testing1\\venv\\Lib\\site-packages\\pkg_resources\\tests\\data\n",
      "../testing1\\venv\\Lib\\site-packages\\pkg_resources\\_vendor\\packaging\\__pycache__\\markers.cpython-38.pyc\n",
      "../testing1\\venv\\Lib\\site-packages\\pkg_resources\\_vendor\\packaging\\__pycache__\\requirements.cpython-38.pyc\n",
      "../testing1\\venv\\Lib\\site-packages\\pkg_resources\\_vendor\\packaging\\__pycache__\\specifiers.cpython-38.pyc\n",
      "../testing1\\venv\\Lib\\site-packages\\pkg_resources\\_vendor\\packaging\\__pycache__\\tags.cpython-38.pyc\n",
      "../testing1\\venv\\Lib\\site-packages\\pkg_resources\\_vendor\\packaging\\__pycache__\\utils.cpython-38.pyc\n",
      "../testing1\\venv\\Lib\\site-packages\\pkg_resources\\_vendor\\packaging\\__pycache__\\version.cpython-38.pyc\n",
      "../testing1\\venv\\Lib\\site-packages\\pkg_resources\\_vendor\\packaging\\__pycache__\\_compat.cpython-38.pyc\n",
      "../testing1\\venv\\Lib\\site-packages\\pkg_resources\\_vendor\\packaging\\__pycache__\\_structures.cpython-38.pyc\n",
      "../testing1\\venv\\Lib\\site-packages\\pkg_resources\\_vendor\\packaging\\__pycache__\\_typing.cpython-38.pyc\n",
      "../testing1\\venv\\Lib\\site-packages\\pkg_resources\\_vendor\\packaging\\__pycache__\\__about__.cpython-38.pyc\n",
      "../testing1\\venv\\Lib\\site-packages\\pkg_resources\\_vendor\\packaging\\__pycache__\\__init__.cpython-38.pyc\n",
      "../testing1\\venv\\Lib\\site-packages\\pkg_resources\\_vendor\\packaging\\markers.py\n",
      "../testing1\\venv\\Lib\\site-packages\\pkg_resources\\_vendor\\packaging\\requirements.py\n",
      "../testing1\\venv\\Lib\\site-packages\\pkg_resources\\_vendor\\packaging\\specifiers.py\n",
      "../testing1\\venv\\Lib\\site-packages\\pkg_resources\\_vendor\\packaging\\tags.py\n",
      "../testing1\\venv\\Lib\\site-packages\\pkg_resources\\_vendor\\packaging\\utils.py\n",
      "../testing1\\venv\\Lib\\site-packages\\pkg_resources\\_vendor\\packaging\\version.py\n",
      "../testing1\\venv\\Lib\\site-packages\\pkg_resources\\_vendor\\packaging\\_compat.py\n",
      "../testing1\\venv\\Lib\\site-packages\\pkg_resources\\_vendor\\packaging\\_structures.py\n",
      "../testing1\\venv\\Lib\\site-packages\\pkg_resources\\_vendor\\packaging\\_typing.py\n",
      "../testing1\\venv\\Lib\\site-packages\\pkg_resources\\_vendor\\packaging\\__about__.py\n",
      "../testing1\\venv\\Lib\\site-packages\\pkg_resources\\_vendor\\packaging\\__init__.py\n",
      "../testing1\\venv\\Lib\\site-packages\\pkg_resources\\_vendor\\packaging\\__pycache__\n",
      "../testing1\\venv\\Lib\\site-packages\\pkg_resources\\_vendor\\__pycache__\\appdirs.cpython-38.pyc\n",
      "../testing1\\venv\\Lib\\site-packages\\pkg_resources\\_vendor\\__pycache__\\pyparsing.cpython-38.pyc\n",
      "../testing1\\venv\\Lib\\site-packages\\pkg_resources\\_vendor\\__pycache__\\__init__.cpython-38.pyc\n",
      "../testing1\\venv\\Lib\\site-packages\\pkg_resources\\_vendor\\appdirs.py\n",
      "../testing1\\venv\\Lib\\site-packages\\pkg_resources\\_vendor\\pyparsing.py\n",
      "../testing1\\venv\\Lib\\site-packages\\pkg_resources\\_vendor\\__init__.py\n",
      "../testing1\\venv\\Lib\\site-packages\\pkg_resources\\_vendor\\packaging\n",
      "../testing1\\venv\\Lib\\site-packages\\pkg_resources\\_vendor\\__pycache__\n",
      "../testing1\\venv\\Lib\\site-packages\\pkg_resources\\__pycache__\\__init__.cpython-38.pyc\n",
      "../testing1\\venv\\Lib\\site-packages\\pkg_resources\\__init__.py\n",
      "../testing1\\venv\\Lib\\site-packages\\pkg_resources\\extern\n",
      "../testing1\\venv\\Lib\\site-packages\\pkg_resources\\tests\n",
      "../testing1\\venv\\Lib\\site-packages\\pkg_resources\\_vendor\n",
      "../testing1\\venv\\Lib\\site-packages\\pkg_resources\\__pycache__\n",
      "../testing1\\venv\\Lib\\site-packages\\setuptools\\command\\__pycache__\\alias.cpython-38.pyc\n",
      "../testing1\\venv\\Lib\\site-packages\\setuptools\\command\\__pycache__\\bdist_egg.cpython-38.pyc\n",
      "../testing1\\venv\\Lib\\site-packages\\setuptools\\command\\__pycache__\\bdist_rpm.cpython-38.pyc\n",
      "../testing1\\venv\\Lib\\site-packages\\setuptools\\command\\__pycache__\\bdist_wininst.cpython-38.pyc\n",
      "../testing1\\venv\\Lib\\site-packages\\setuptools\\command\\__pycache__\\build_clib.cpython-38.pyc\n",
      "../testing1\\venv\\Lib\\site-packages\\setuptools\\command\\__pycache__\\build_ext.cpython-38.pyc\n",
      "../testing1\\venv\\Lib\\site-packages\\setuptools\\command\\__pycache__\\build_py.cpython-38.pyc\n",
      "../testing1\\venv\\Lib\\site-packages\\setuptools\\command\\__pycache__\\develop.cpython-38.pyc\n",
      "../testing1\\venv\\Lib\\site-packages\\setuptools\\command\\__pycache__\\dist_info.cpython-38.pyc\n",
      "../testing1\\venv\\Lib\\site-packages\\setuptools\\command\\__pycache__\\easy_install.cpython-38.pyc\n",
      "../testing1\\venv\\Lib\\site-packages\\setuptools\\command\\__pycache__\\egg_info.cpython-38.pyc\n",
      "../testing1\\venv\\Lib\\site-packages\\setuptools\\command\\__pycache__\\install.cpython-38.pyc\n",
      "../testing1\\venv\\Lib\\site-packages\\setuptools\\command\\__pycache__\\install_egg_info.cpython-38.pyc\n",
      "../testing1\\venv\\Lib\\site-packages\\setuptools\\command\\__pycache__\\install_lib.cpython-38.pyc\n",
      "../testing1\\venv\\Lib\\site-packages\\setuptools\\command\\__pycache__\\install_scripts.cpython-38.pyc\n",
      "../testing1\\venv\\Lib\\site-packages\\setuptools\\command\\__pycache__\\py36compat.cpython-38.pyc\n",
      "../testing1\\venv\\Lib\\site-packages\\setuptools\\command\\__pycache__\\register.cpython-38.pyc\n",
      "../testing1\\venv\\Lib\\site-packages\\setuptools\\command\\__pycache__\\rotate.cpython-38.pyc\n",
      "../testing1\\venv\\Lib\\site-packages\\setuptools\\command\\__pycache__\\saveopts.cpython-38.pyc\n",
      "../testing1\\venv\\Lib\\site-packages\\setuptools\\command\\__pycache__\\sdist.cpython-38.pyc\n",
      "../testing1\\venv\\Lib\\site-packages\\setuptools\\command\\__pycache__\\setopt.cpython-38.pyc\n",
      "../testing1\\venv\\Lib\\site-packages\\setuptools\\command\\__pycache__\\test.cpython-38.pyc\n",
      "../testing1\\venv\\Lib\\site-packages\\setuptools\\command\\__pycache__\\upload.cpython-38.pyc\n",
      "../testing1\\venv\\Lib\\site-packages\\setuptools\\command\\__pycache__\\upload_docs.cpython-38.pyc\n",
      "../testing1\\venv\\Lib\\site-packages\\setuptools\\command\\__pycache__\\__init__.cpython-38.pyc\n",
      "../testing1\\venv\\Lib\\site-packages\\setuptools\\command\\alias.py\n",
      "../testing1\\venv\\Lib\\site-packages\\setuptools\\command\\bdist_egg.py\n",
      "../testing1\\venv\\Lib\\site-packages\\setuptools\\command\\bdist_rpm.py\n",
      "../testing1\\venv\\Lib\\site-packages\\setuptools\\command\\bdist_wininst.py\n",
      "../testing1\\venv\\Lib\\site-packages\\setuptools\\command\\build_clib.py\n",
      "../testing1\\venv\\Lib\\site-packages\\setuptools\\command\\build_ext.py\n",
      "../testing1\\venv\\Lib\\site-packages\\setuptools\\command\\build_py.py\n",
      "../testing1\\venv\\Lib\\site-packages\\setuptools\\command\\develop.py\n",
      "../testing1\\venv\\Lib\\site-packages\\setuptools\\command\\dist_info.py\n",
      "../testing1\\venv\\Lib\\site-packages\\setuptools\\command\\easy_install.py\n",
      "../testing1\\venv\\Lib\\site-packages\\setuptools\\command\\egg_info.py\n",
      "../testing1\\venv\\Lib\\site-packages\\setuptools\\command\\install.py\n",
      "../testing1\\venv\\Lib\\site-packages\\setuptools\\command\\install_egg_info.py\n",
      "../testing1\\venv\\Lib\\site-packages\\setuptools\\command\\install_lib.py\n",
      "../testing1\\venv\\Lib\\site-packages\\setuptools\\command\\install_scripts.py\n",
      "../testing1\\venv\\Lib\\site-packages\\setuptools\\command\\launcher manifest.xml\n",
      "../testing1\\venv\\Lib\\site-packages\\setuptools\\command\\py36compat.py\n",
      "../testing1\\venv\\Lib\\site-packages\\setuptools\\command\\register.py\n",
      "../testing1\\venv\\Lib\\site-packages\\setuptools\\command\\rotate.py\n",
      "../testing1\\venv\\Lib\\site-packages\\setuptools\\command\\saveopts.py\n",
      "../testing1\\venv\\Lib\\site-packages\\setuptools\\command\\sdist.py\n",
      "../testing1\\venv\\Lib\\site-packages\\setuptools\\command\\setopt.py\n",
      "../testing1\\venv\\Lib\\site-packages\\setuptools\\command\\test.py\n",
      "../testing1\\venv\\Lib\\site-packages\\setuptools\\command\\upload.py\n",
      "../testing1\\venv\\Lib\\site-packages\\setuptools\\command\\upload_docs.py\n",
      "../testing1\\venv\\Lib\\site-packages\\setuptools\\command\\__init__.py\n",
      "../testing1\\venv\\Lib\\site-packages\\setuptools\\command\\__pycache__\n",
      "../testing1\\venv\\Lib\\site-packages\\setuptools\\extern\\__pycache__\\__init__.cpython-38.pyc\n",
      "../testing1\\venv\\Lib\\site-packages\\setuptools\\extern\\__init__.py\n",
      "../testing1\\venv\\Lib\\site-packages\\setuptools\\extern\\__pycache__\n",
      "../testing1\\venv\\Lib\\site-packages\\setuptools\\_distutils\\command\\__pycache__\\bdist.cpython-38.pyc\n",
      "../testing1\\venv\\Lib\\site-packages\\setuptools\\_distutils\\command\\__pycache__\\bdist_dumb.cpython-38.pyc\n",
      "../testing1\\venv\\Lib\\site-packages\\setuptools\\_distutils\\command\\__pycache__\\bdist_msi.cpython-38.pyc\n",
      "../testing1\\venv\\Lib\\site-packages\\setuptools\\_distutils\\command\\__pycache__\\bdist_rpm.cpython-38.pyc\n",
      "../testing1\\venv\\Lib\\site-packages\\setuptools\\_distutils\\command\\__pycache__\\bdist_wininst.cpython-38.pyc\n",
      "../testing1\\venv\\Lib\\site-packages\\setuptools\\_distutils\\command\\__pycache__\\build.cpython-38.pyc\n",
      "../testing1\\venv\\Lib\\site-packages\\setuptools\\_distutils\\command\\__pycache__\\build_clib.cpython-38.pyc\n",
      "../testing1\\venv\\Lib\\site-packages\\setuptools\\_distutils\\command\\__pycache__\\build_ext.cpython-38.pyc\n",
      "../testing1\\venv\\Lib\\site-packages\\setuptools\\_distutils\\command\\__pycache__\\build_py.cpython-38.pyc\n",
      "../testing1\\venv\\Lib\\site-packages\\setuptools\\_distutils\\command\\__pycache__\\build_scripts.cpython-38.pyc\n",
      "../testing1\\venv\\Lib\\site-packages\\setuptools\\_distutils\\command\\__pycache__\\check.cpython-38.pyc\n",
      "../testing1\\venv\\Lib\\site-packages\\setuptools\\_distutils\\command\\__pycache__\\clean.cpython-38.pyc\n",
      "../testing1\\venv\\Lib\\site-packages\\setuptools\\_distutils\\command\\__pycache__\\config.cpython-38.pyc\n",
      "../testing1\\venv\\Lib\\site-packages\\setuptools\\_distutils\\command\\__pycache__\\install.cpython-38.pyc\n",
      "../testing1\\venv\\Lib\\site-packages\\setuptools\\_distutils\\command\\__pycache__\\install_data.cpython-38.pyc\n",
      "../testing1\\venv\\Lib\\site-packages\\setuptools\\_distutils\\command\\__pycache__\\install_egg_info.cpython-38.pyc\n",
      "../testing1\\venv\\Lib\\site-packages\\setuptools\\_distutils\\command\\__pycache__\\install_headers.cpython-38.pyc\n",
      "../testing1\\venv\\Lib\\site-packages\\setuptools\\_distutils\\command\\__pycache__\\install_lib.cpython-38.pyc\n",
      "../testing1\\venv\\Lib\\site-packages\\setuptools\\_distutils\\command\\__pycache__\\install_scripts.cpython-38.pyc\n",
      "../testing1\\venv\\Lib\\site-packages\\setuptools\\_distutils\\command\\__pycache__\\py37compat.cpython-38.pyc\n",
      "../testing1\\venv\\Lib\\site-packages\\setuptools\\_distutils\\command\\__pycache__\\register.cpython-38.pyc\n",
      "../testing1\\venv\\Lib\\site-packages\\setuptools\\_distutils\\command\\__pycache__\\sdist.cpython-38.pyc\n",
      "../testing1\\venv\\Lib\\site-packages\\setuptools\\_distutils\\command\\__pycache__\\upload.cpython-38.pyc\n",
      "../testing1\\venv\\Lib\\site-packages\\setuptools\\_distutils\\command\\__pycache__\\__init__.cpython-38.pyc\n",
      "../testing1\\venv\\Lib\\site-packages\\setuptools\\_distutils\\command\\bdist.py\n",
      "../testing1\\venv\\Lib\\site-packages\\setuptools\\_distutils\\command\\bdist_dumb.py\n",
      "../testing1\\venv\\Lib\\site-packages\\setuptools\\_distutils\\command\\bdist_msi.py\n",
      "../testing1\\venv\\Lib\\site-packages\\setuptools\\_distutils\\command\\bdist_rpm.py\n",
      "../testing1\\venv\\Lib\\site-packages\\setuptools\\_distutils\\command\\bdist_wininst.py\n",
      "../testing1\\venv\\Lib\\site-packages\\setuptools\\_distutils\\command\\build.py\n",
      "../testing1\\venv\\Lib\\site-packages\\setuptools\\_distutils\\command\\build_clib.py\n",
      "../testing1\\venv\\Lib\\site-packages\\setuptools\\_distutils\\command\\build_ext.py\n",
      "../testing1\\venv\\Lib\\site-packages\\setuptools\\_distutils\\command\\build_py.py\n",
      "../testing1\\venv\\Lib\\site-packages\\setuptools\\_distutils\\command\\build_scripts.py\n",
      "../testing1\\venv\\Lib\\site-packages\\setuptools\\_distutils\\command\\check.py\n",
      "../testing1\\venv\\Lib\\site-packages\\setuptools\\_distutils\\command\\clean.py\n",
      "../testing1\\venv\\Lib\\site-packages\\setuptools\\_distutils\\command\\config.py\n",
      "../testing1\\venv\\Lib\\site-packages\\setuptools\\_distutils\\command\\install.py\n",
      "../testing1\\venv\\Lib\\site-packages\\setuptools\\_distutils\\command\\install_data.py\n",
      "../testing1\\venv\\Lib\\site-packages\\setuptools\\_distutils\\command\\install_egg_info.py\n",
      "../testing1\\venv\\Lib\\site-packages\\setuptools\\_distutils\\command\\install_headers.py\n",
      "../testing1\\venv\\Lib\\site-packages\\setuptools\\_distutils\\command\\install_lib.py\n",
      "../testing1\\venv\\Lib\\site-packages\\setuptools\\_distutils\\command\\install_scripts.py\n",
      "../testing1\\venv\\Lib\\site-packages\\setuptools\\_distutils\\command\\py37compat.py\n",
      "../testing1\\venv\\Lib\\site-packages\\setuptools\\_distutils\\command\\register.py\n",
      "../testing1\\venv\\Lib\\site-packages\\setuptools\\_distutils\\command\\sdist.py\n",
      "../testing1\\venv\\Lib\\site-packages\\setuptools\\_distutils\\command\\upload.py\n",
      "../testing1\\venv\\Lib\\site-packages\\setuptools\\_distutils\\command\\__init__.py\n",
      "../testing1\\venv\\Lib\\site-packages\\setuptools\\_distutils\\command\\__pycache__\n",
      "../testing1\\venv\\Lib\\site-packages\\setuptools\\_distutils\\__pycache__\\archive_util.cpython-38.pyc\n",
      "../testing1\\venv\\Lib\\site-packages\\setuptools\\_distutils\\__pycache__\\bcppcompiler.cpython-38.pyc\n",
      "../testing1\\venv\\Lib\\site-packages\\setuptools\\_distutils\\__pycache__\\ccompiler.cpython-38.pyc\n",
      "../testing1\\venv\\Lib\\site-packages\\setuptools\\_distutils\\__pycache__\\cmd.cpython-38.pyc\n",
      "../testing1\\venv\\Lib\\site-packages\\setuptools\\_distutils\\__pycache__\\config.cpython-38.pyc\n",
      "../testing1\\venv\\Lib\\site-packages\\setuptools\\_distutils\\__pycache__\\core.cpython-38.pyc\n",
      "../testing1\\venv\\Lib\\site-packages\\setuptools\\_distutils\\__pycache__\\cygwinccompiler.cpython-38.pyc\n",
      "../testing1\\venv\\Lib\\site-packages\\setuptools\\_distutils\\__pycache__\\debug.cpython-38.pyc\n",
      "../testing1\\venv\\Lib\\site-packages\\setuptools\\_distutils\\__pycache__\\dep_util.cpython-38.pyc\n",
      "../testing1\\venv\\Lib\\site-packages\\setuptools\\_distutils\\__pycache__\\dir_util.cpython-38.pyc\n",
      "../testing1\\venv\\Lib\\site-packages\\setuptools\\_distutils\\__pycache__\\dist.cpython-38.pyc\n",
      "../testing1\\venv\\Lib\\site-packages\\setuptools\\_distutils\\__pycache__\\errors.cpython-38.pyc\n",
      "../testing1\\venv\\Lib\\site-packages\\setuptools\\_distutils\\__pycache__\\extension.cpython-38.pyc\n",
      "../testing1\\venv\\Lib\\site-packages\\setuptools\\_distutils\\__pycache__\\fancy_getopt.cpython-38.pyc\n",
      "../testing1\\venv\\Lib\\site-packages\\setuptools\\_distutils\\__pycache__\\filelist.cpython-38.pyc\n",
      "../testing1\\venv\\Lib\\site-packages\\setuptools\\_distutils\\__pycache__\\file_util.cpython-38.pyc\n",
      "../testing1\\venv\\Lib\\site-packages\\setuptools\\_distutils\\__pycache__\\log.cpython-38.pyc\n",
      "../testing1\\venv\\Lib\\site-packages\\setuptools\\_distutils\\__pycache__\\msvc9compiler.cpython-38.pyc\n",
      "../testing1\\venv\\Lib\\site-packages\\setuptools\\_distutils\\__pycache__\\msvccompiler.cpython-38.pyc\n",
      "../testing1\\venv\\Lib\\site-packages\\setuptools\\_distutils\\__pycache__\\py35compat.cpython-38.pyc\n",
      "../testing1\\venv\\Lib\\site-packages\\setuptools\\_distutils\\__pycache__\\py38compat.cpython-38.pyc\n",
      "../testing1\\venv\\Lib\\site-packages\\setuptools\\_distutils\\__pycache__\\spawn.cpython-38.pyc\n",
      "../testing1\\venv\\Lib\\site-packages\\setuptools\\_distutils\\__pycache__\\sysconfig.cpython-38.pyc\n",
      "../testing1\\venv\\Lib\\site-packages\\setuptools\\_distutils\\__pycache__\\text_file.cpython-38.pyc\n",
      "../testing1\\venv\\Lib\\site-packages\\setuptools\\_distutils\\__pycache__\\unixccompiler.cpython-38.pyc\n",
      "../testing1\\venv\\Lib\\site-packages\\setuptools\\_distutils\\__pycache__\\util.cpython-38.pyc\n",
      "../testing1\\venv\\Lib\\site-packages\\setuptools\\_distutils\\__pycache__\\version.cpython-38.pyc\n",
      "../testing1\\venv\\Lib\\site-packages\\setuptools\\_distutils\\__pycache__\\versionpredicate.cpython-38.pyc\n",
      "../testing1\\venv\\Lib\\site-packages\\setuptools\\_distutils\\__pycache__\\_msvccompiler.cpython-38.pyc\n",
      "../testing1\\venv\\Lib\\site-packages\\setuptools\\_distutils\\__pycache__\\__init__.cpython-38.pyc\n",
      "../testing1\\venv\\Lib\\site-packages\\setuptools\\_distutils\\archive_util.py\n",
      "../testing1\\venv\\Lib\\site-packages\\setuptools\\_distutils\\bcppcompiler.py\n",
      "../testing1\\venv\\Lib\\site-packages\\setuptools\\_distutils\\ccompiler.py\n",
      "../testing1\\venv\\Lib\\site-packages\\setuptools\\_distutils\\cmd.py\n",
      "../testing1\\venv\\Lib\\site-packages\\setuptools\\_distutils\\config.py\n",
      "../testing1\\venv\\Lib\\site-packages\\setuptools\\_distutils\\core.py\n",
      "../testing1\\venv\\Lib\\site-packages\\setuptools\\_distutils\\cygwinccompiler.py\n",
      "../testing1\\venv\\Lib\\site-packages\\setuptools\\_distutils\\debug.py\n",
      "../testing1\\venv\\Lib\\site-packages\\setuptools\\_distutils\\dep_util.py\n",
      "../testing1\\venv\\Lib\\site-packages\\setuptools\\_distutils\\dir_util.py\n",
      "../testing1\\venv\\Lib\\site-packages\\setuptools\\_distutils\\dist.py\n",
      "../testing1\\venv\\Lib\\site-packages\\setuptools\\_distutils\\errors.py\n",
      "../testing1\\venv\\Lib\\site-packages\\setuptools\\_distutils\\extension.py\n",
      "../testing1\\venv\\Lib\\site-packages\\setuptools\\_distutils\\fancy_getopt.py\n",
      "../testing1\\venv\\Lib\\site-packages\\setuptools\\_distutils\\filelist.py\n",
      "../testing1\\venv\\Lib\\site-packages\\setuptools\\_distutils\\file_util.py\n",
      "../testing1\\venv\\Lib\\site-packages\\setuptools\\_distutils\\log.py\n",
      "../testing1\\venv\\Lib\\site-packages\\setuptools\\_distutils\\msvc9compiler.py\n",
      "../testing1\\venv\\Lib\\site-packages\\setuptools\\_distutils\\msvccompiler.py\n",
      "../testing1\\venv\\Lib\\site-packages\\setuptools\\_distutils\\py35compat.py\n",
      "../testing1\\venv\\Lib\\site-packages\\setuptools\\_distutils\\py38compat.py\n",
      "../testing1\\venv\\Lib\\site-packages\\setuptools\\_distutils\\spawn.py\n",
      "../testing1\\venv\\Lib\\site-packages\\setuptools\\_distutils\\sysconfig.py\n",
      "../testing1\\venv\\Lib\\site-packages\\setuptools\\_distutils\\text_file.py\n",
      "../testing1\\venv\\Lib\\site-packages\\setuptools\\_distutils\\unixccompiler.py\n",
      "../testing1\\venv\\Lib\\site-packages\\setuptools\\_distutils\\util.py\n",
      "../testing1\\venv\\Lib\\site-packages\\setuptools\\_distutils\\version.py\n",
      "../testing1\\venv\\Lib\\site-packages\\setuptools\\_distutils\\versionpredicate.py\n",
      "../testing1\\venv\\Lib\\site-packages\\setuptools\\_distutils\\_msvccompiler.py\n",
      "../testing1\\venv\\Lib\\site-packages\\setuptools\\_distutils\\__init__.py\n",
      "../testing1\\venv\\Lib\\site-packages\\setuptools\\_distutils\\command\n",
      "../testing1\\venv\\Lib\\site-packages\\setuptools\\_distutils\\__pycache__\n",
      "../testing1\\venv\\Lib\\site-packages\\setuptools\\_vendor\\packaging\\__pycache__\\markers.cpython-38.pyc\n",
      "../testing1\\venv\\Lib\\site-packages\\setuptools\\_vendor\\packaging\\__pycache__\\requirements.cpython-38.pyc\n",
      "../testing1\\venv\\Lib\\site-packages\\setuptools\\_vendor\\packaging\\__pycache__\\specifiers.cpython-38.pyc\n",
      "../testing1\\venv\\Lib\\site-packages\\setuptools\\_vendor\\packaging\\__pycache__\\tags.cpython-38.pyc\n",
      "../testing1\\venv\\Lib\\site-packages\\setuptools\\_vendor\\packaging\\__pycache__\\utils.cpython-38.pyc\n",
      "../testing1\\venv\\Lib\\site-packages\\setuptools\\_vendor\\packaging\\__pycache__\\version.cpython-38.pyc\n",
      "../testing1\\venv\\Lib\\site-packages\\setuptools\\_vendor\\packaging\\__pycache__\\_compat.cpython-38.pyc\n",
      "../testing1\\venv\\Lib\\site-packages\\setuptools\\_vendor\\packaging\\__pycache__\\_structures.cpython-38.pyc\n",
      "../testing1\\venv\\Lib\\site-packages\\setuptools\\_vendor\\packaging\\__pycache__\\_typing.cpython-38.pyc\n",
      "../testing1\\venv\\Lib\\site-packages\\setuptools\\_vendor\\packaging\\__pycache__\\__about__.cpython-38.pyc\n",
      "../testing1\\venv\\Lib\\site-packages\\setuptools\\_vendor\\packaging\\__pycache__\\__init__.cpython-38.pyc\n",
      "../testing1\\venv\\Lib\\site-packages\\setuptools\\_vendor\\packaging\\markers.py\n",
      "../testing1\\venv\\Lib\\site-packages\\setuptools\\_vendor\\packaging\\requirements.py\n",
      "../testing1\\venv\\Lib\\site-packages\\setuptools\\_vendor\\packaging\\specifiers.py\n",
      "../testing1\\venv\\Lib\\site-packages\\setuptools\\_vendor\\packaging\\tags.py\n",
      "../testing1\\venv\\Lib\\site-packages\\setuptools\\_vendor\\packaging\\utils.py\n",
      "../testing1\\venv\\Lib\\site-packages\\setuptools\\_vendor\\packaging\\version.py\n",
      "../testing1\\venv\\Lib\\site-packages\\setuptools\\_vendor\\packaging\\_compat.py\n",
      "../testing1\\venv\\Lib\\site-packages\\setuptools\\_vendor\\packaging\\_structures.py\n",
      "../testing1\\venv\\Lib\\site-packages\\setuptools\\_vendor\\packaging\\_typing.py\n",
      "../testing1\\venv\\Lib\\site-packages\\setuptools\\_vendor\\packaging\\__about__.py\n",
      "../testing1\\venv\\Lib\\site-packages\\setuptools\\_vendor\\packaging\\__init__.py\n",
      "../testing1\\venv\\Lib\\site-packages\\setuptools\\_vendor\\packaging\\__pycache__\n",
      "../testing1\\venv\\Lib\\site-packages\\setuptools\\_vendor\\__pycache__\\ordered_set.cpython-38.pyc\n",
      "../testing1\\venv\\Lib\\site-packages\\setuptools\\_vendor\\__pycache__\\pyparsing.cpython-38.pyc\n",
      "../testing1\\venv\\Lib\\site-packages\\setuptools\\_vendor\\__pycache__\\__init__.cpython-38.pyc\n",
      "../testing1\\venv\\Lib\\site-packages\\setuptools\\_vendor\\ordered_set.py\n",
      "../testing1\\venv\\Lib\\site-packages\\setuptools\\_vendor\\pyparsing.py\n",
      "../testing1\\venv\\Lib\\site-packages\\setuptools\\_vendor\\__init__.py\n",
      "../testing1\\venv\\Lib\\site-packages\\setuptools\\_vendor\\packaging\n",
      "../testing1\\venv\\Lib\\site-packages\\setuptools\\_vendor\\__pycache__\n",
      "../testing1\\venv\\Lib\\site-packages\\setuptools\\__pycache__\\archive_util.cpython-38.pyc\n",
      "../testing1\\venv\\Lib\\site-packages\\setuptools\\__pycache__\\build_meta.cpython-38.pyc\n",
      "../testing1\\venv\\Lib\\site-packages\\setuptools\\__pycache__\\config.cpython-38.pyc\n",
      "../testing1\\venv\\Lib\\site-packages\\setuptools\\__pycache__\\depends.cpython-38.pyc\n",
      "../testing1\\venv\\Lib\\site-packages\\setuptools\\__pycache__\\dep_util.cpython-38.pyc\n",
      "../testing1\\venv\\Lib\\site-packages\\setuptools\\__pycache__\\dist.cpython-38.pyc\n",
      "../testing1\\venv\\Lib\\site-packages\\setuptools\\__pycache__\\errors.cpython-38.pyc\n",
      "../testing1\\venv\\Lib\\site-packages\\setuptools\\__pycache__\\extension.cpython-38.pyc\n",
      "../testing1\\venv\\Lib\\site-packages\\setuptools\\__pycache__\\glob.cpython-38.pyc\n",
      "../testing1\\venv\\Lib\\site-packages\\setuptools\\__pycache__\\installer.cpython-38.pyc\n",
      "../testing1\\venv\\Lib\\site-packages\\setuptools\\__pycache__\\launch.cpython-38.pyc\n",
      "../testing1\\venv\\Lib\\site-packages\\setuptools\\__pycache__\\lib2to3_ex.cpython-38.pyc\n",
      "../testing1\\venv\\Lib\\site-packages\\setuptools\\__pycache__\\monkey.cpython-38.pyc\n",
      "../testing1\\venv\\Lib\\site-packages\\setuptools\\__pycache__\\msvc.cpython-38.pyc\n",
      "../testing1\\venv\\Lib\\site-packages\\setuptools\\__pycache__\\namespaces.cpython-38.pyc\n",
      "../testing1\\venv\\Lib\\site-packages\\setuptools\\__pycache__\\package_index.cpython-38.pyc\n",
      "../testing1\\venv\\Lib\\site-packages\\setuptools\\__pycache__\\py34compat.cpython-38.pyc\n",
      "../testing1\\venv\\Lib\\site-packages\\setuptools\\__pycache__\\sandbox.cpython-38.pyc\n",
      "../testing1\\venv\\Lib\\site-packages\\setuptools\\__pycache__\\ssl_support.cpython-38.pyc\n",
      "../testing1\\venv\\Lib\\site-packages\\setuptools\\__pycache__\\unicode_utils.cpython-38.pyc\n",
      "../testing1\\venv\\Lib\\site-packages\\setuptools\\__pycache__\\version.cpython-38.pyc\n",
      "../testing1\\venv\\Lib\\site-packages\\setuptools\\__pycache__\\wheel.cpython-38.pyc\n",
      "../testing1\\venv\\Lib\\site-packages\\setuptools\\__pycache__\\windows_support.cpython-38.pyc\n",
      "../testing1\\venv\\Lib\\site-packages\\setuptools\\__pycache__\\_deprecation_warning.cpython-38.pyc\n",
      "../testing1\\venv\\Lib\\site-packages\\setuptools\\__pycache__\\_imp.cpython-38.pyc\n",
      "../testing1\\venv\\Lib\\site-packages\\setuptools\\__pycache__\\__init__.cpython-38.pyc\n",
      "../testing1\\venv\\Lib\\site-packages\\setuptools\\archive_util.py\n",
      "../testing1\\venv\\Lib\\site-packages\\setuptools\\build_meta.py\n",
      "../testing1\\venv\\Lib\\site-packages\\setuptools\\cli-32.exe\n",
      "../testing1\\venv\\Lib\\site-packages\\setuptools\\cli-64.exe\n",
      "../testing1\\venv\\Lib\\site-packages\\setuptools\\cli.exe\n",
      "../testing1\\venv\\Lib\\site-packages\\setuptools\\config.py\n",
      "../testing1\\venv\\Lib\\site-packages\\setuptools\\depends.py\n",
      "../testing1\\venv\\Lib\\site-packages\\setuptools\\dep_util.py\n",
      "../testing1\\venv\\Lib\\site-packages\\setuptools\\dist.py\n",
      "../testing1\\venv\\Lib\\site-packages\\setuptools\\errors.py\n",
      "../testing1\\venv\\Lib\\site-packages\\setuptools\\extension.py\n",
      "../testing1\\venv\\Lib\\site-packages\\setuptools\\glob.py\n",
      "../testing1\\venv\\Lib\\site-packages\\setuptools\\gui-32.exe\n",
      "../testing1\\venv\\Lib\\site-packages\\setuptools\\gui-64.exe\n",
      "../testing1\\venv\\Lib\\site-packages\\setuptools\\gui.exe\n",
      "../testing1\\venv\\Lib\\site-packages\\setuptools\\installer.py\n",
      "../testing1\\venv\\Lib\\site-packages\\setuptools\\launch.py\n",
      "../testing1\\venv\\Lib\\site-packages\\setuptools\\lib2to3_ex.py\n",
      "../testing1\\venv\\Lib\\site-packages\\setuptools\\monkey.py\n",
      "../testing1\\venv\\Lib\\site-packages\\setuptools\\msvc.py\n",
      "../testing1\\venv\\Lib\\site-packages\\setuptools\\namespaces.py\n",
      "../testing1\\venv\\Lib\\site-packages\\setuptools\\package_index.py\n",
      "../testing1\\venv\\Lib\\site-packages\\setuptools\\py34compat.py\n",
      "../testing1\\venv\\Lib\\site-packages\\setuptools\\sandbox.py\n",
      "../testing1\\venv\\Lib\\site-packages\\setuptools\\script (dev).tmpl\n",
      "../testing1\\venv\\Lib\\site-packages\\setuptools\\script.tmpl\n",
      "../testing1\\venv\\Lib\\site-packages\\setuptools\\ssl_support.py\n",
      "../testing1\\venv\\Lib\\site-packages\\setuptools\\unicode_utils.py\n",
      "../testing1\\venv\\Lib\\site-packages\\setuptools\\version.py\n",
      "../testing1\\venv\\Lib\\site-packages\\setuptools\\wheel.py\n",
      "../testing1\\venv\\Lib\\site-packages\\setuptools\\windows_support.py\n",
      "../testing1\\venv\\Lib\\site-packages\\setuptools\\_deprecation_warning.py\n",
      "../testing1\\venv\\Lib\\site-packages\\setuptools\\_imp.py\n",
      "../testing1\\venv\\Lib\\site-packages\\setuptools\\__init__.py\n",
      "../testing1\\venv\\Lib\\site-packages\\setuptools\\command\n",
      "../testing1\\venv\\Lib\\site-packages\\setuptools\\extern\n",
      "../testing1\\venv\\Lib\\site-packages\\setuptools\\_distutils\n",
      "../testing1\\venv\\Lib\\site-packages\\setuptools\\_vendor\n",
      "../testing1\\venv\\Lib\\site-packages\\setuptools\\__pycache__\n",
      "../testing1\\venv\\Lib\\site-packages\\setuptools-53.0.0.dist-info\\dependency_links.txt\n",
      "../testing1\\venv\\Lib\\site-packages\\setuptools-53.0.0.dist-info\\entry_points.txt\n",
      "../testing1\\venv\\Lib\\site-packages\\setuptools-53.0.0.dist-info\\INSTALLER\n",
      "../testing1\\venv\\Lib\\site-packages\\setuptools-53.0.0.dist-info\\LICENSE\n",
      "../testing1\\venv\\Lib\\site-packages\\setuptools-53.0.0.dist-info\\METADATA\n",
      "../testing1\\venv\\Lib\\site-packages\\setuptools-53.0.0.dist-info\\RECORD\n",
      "../testing1\\venv\\Lib\\site-packages\\setuptools-53.0.0.dist-info\\top_level.txt\n",
      "../testing1\\venv\\Lib\\site-packages\\setuptools-53.0.0.dist-info\\WHEEL\n",
      "../testing1\\venv\\Lib\\site-packages\\_distutils_hack\\__pycache__\\override.cpython-38.pyc\n",
      "../testing1\\venv\\Lib\\site-packages\\_distutils_hack\\__pycache__\\__init__.cpython-38.pyc\n",
      "../testing1\\venv\\Lib\\site-packages\\_distutils_hack\\override.py\n",
      "../testing1\\venv\\Lib\\site-packages\\_distutils_hack\\__init__.py\n",
      "../testing1\\venv\\Lib\\site-packages\\_distutils_hack\\__pycache__\n",
      "../testing1\\venv\\Lib\\site-packages\\distutils-precedence.pth\n",
      "../testing1\\venv\\Lib\\site-packages\\pip\n",
      "../testing1\\venv\\Lib\\site-packages\\pip-21.0.1.dist-info\n",
      "../testing1\\venv\\Lib\\site-packages\\pkg_resources\n",
      "../testing1\\venv\\Lib\\site-packages\\setuptools\n",
      "../testing1\\venv\\Lib\\site-packages\\setuptools-53.0.0.dist-info\n",
      "../testing1\\venv\\Lib\\site-packages\\_distutils_hack\n",
      "../testing1\\venv\\Lib\\site-packages\n",
      "../testing1\\venv\\Scripts\\activate\n",
      "../testing1\\venv\\Scripts\\activate.bat\n",
      "../testing1\\venv\\Scripts\\Activate.ps1\n",
      "../testing1\\venv\\Scripts\\deactivate.bat\n",
      "../testing1\\venv\\Scripts\\pip.exe\n",
      "../testing1\\venv\\Scripts\\pip3.8.exe\n",
      "../testing1\\venv\\Scripts\\pip3.exe\n",
      "../testing1\\venv\\Scripts\\python.exe\n",
      "../testing1\\venv\\Scripts\\pythonw.exe\n",
      "../testing1\\venv\\pyvenv.cfg\n",
      "../testing1\\venv\\Include\n",
      "../testing1\\venv\\Lib\n",
      "../testing1\\venv\\Scripts\n",
      "../testing1\\index.md\n",
      "../testing1\\set1.py\n",
      "../testing1\\set1sol.py\n",
      "../testing1\\.idea\n",
      "../testing1\\venv\n",
      "../testing2\\__pycache__\\calc.cpython-38.pyc\n",
      "../testing2\\calc.py\n",
      "../testing2\\index.md\n",
      "../testing2\\test_calc.py\n",
      "../testing2\\__pycache__\n",
      "../testing3\\__pycache__\\employee.cpython-38.pyc\n",
      "../testing3\\employee.py\n",
      "../testing3\\index.md\n",
      "../testing3\\test_employee.py\n",
      "../testing3\\__pycache__\n",
      "../testing4\\floating_point_errors.py\n",
      "../__pycache__\\my_module.cpython-310.pyc\n",
      "../__pycache__\\my_module.cpython-38.pyc\n",
      "../__pycache__\\my_module.cpython-39.pyc\n",
      "../__pycache__\\python01.cpython-38.pyc\n",
      "../__pycache__\\python02.cpython-38.pyc\n",
      "../.pre-commit-config.yaml\n",
      "../better_print.py\n",
      "../closure1.py\n",
      "../closure2.py\n",
      "../closure3.py\n",
      "../closure4.py\n",
      "../code.md\n",
      "../colorama_example.py\n",
      "../defensive1.py\n",
      "../defensive2.py\n",
      "../defensive3.py\n",
      "../defensive4.py\n",
      "../fibo_heartrate.py\n",
      "../first_class_function1.py\n",
      "../first_class_function2.py\n",
      "../first_class_function3.py\n",
      "../first_class_function4.py\n",
      "../first_class_function5.py\n",
      "../functions_with_side_effects.py\n",
      "../garbage_collector.py\n",
      "../generators_are_lazy.py\n",
      "../index.md\n",
      "../input1.py\n",
      "../loguru1.py\n",
      "../loguru2.py\n",
      "../my_module.py\n",
      "../os_walk.py\n",
      "../passwd.py\n",
      "../pass_by_assignment.py\n",
      "../paths_filenames.py\n",
      "../pillow_example1.py\n",
      "../python01.py\n",
      "../python02.py\n",
      "../python03.py\n",
      "../python04a.py\n",
      "../python04b.py\n",
      "../python04c.py\n",
      "../python04d.py\n",
      "../python05.py\n",
      "../python06a.py\n",
      "../python06b.py\n",
      "../python07a.py\n",
      "../python07b.py\n",
      "../python08.py\n",
      "../python09.py\n",
      "../ranges_are_lazy.py\n",
      "../scope1a.py\n",
      "../scope1b.py\n",
      "../scope1c.py\n",
      "../scope2a.py\n",
      "../scope2b.py\n",
      "../simple_lambda.py\n",
      "../sort_with_lambda.py\n",
      "../temp.py\n",
      "../turtle1.py\n",
      "../use_of_my_module.py\n",
      "../walrus.py\n",
      "../automation\n",
      "../concurrency\n",
      "../cython_example0\n",
      "../cython_example1\n",
      "../excel_vs_python\n",
      "../gui\n",
      "../interactive\n",
      "../lexer_parser\n",
      "../multiprocessing\n",
      "../notebooks\n",
      "../pyinstaller\n",
      "../quizzes\n",
      "../scraping\n",
      "../testing0\n",
      "../testing1\n",
      "../testing2\n",
      "../testing3\n",
      "../testing4\n",
      "../__pycache__\n"
     ]
    }
   ],
   "source": [
    "import os\n",
    "for root, dirs, files in os.walk(\"../\", topdown=False):\n",
    "   for name in files:\n",
    "      print(os.path.join(root, name))\n",
    "   for name in dirs:\n",
    "      print(os.path.join(root, name))"
   ]
  },
  {
   "cell_type": "markdown",
   "metadata": {},
   "source": [
    "## platform"
   ]
  },
  {
   "cell_type": "code",
   "execution_count": 35,
   "metadata": {},
   "outputs": [
    {
     "name": "stdout",
     "output_type": "stream",
     "text": [
      "uname_result(system='Windows', node='DESKTOP-66P02VI', release='10', version='10.0.19044', machine='AMD64', processor='Intel64 Family 6 Model 158 Stepping 9, GenuineIntel')\n",
      "################################################################################\n",
      "Windows\n",
      "DESKTOP-66P02VI\n",
      "AMD64\n",
      "Intel64 Family 6 Model 158 Stepping 9, GenuineIntel\n"
     ]
    }
   ],
   "source": [
    "import platform\n",
    "\n",
    "this_system = platform.uname()\n",
    "print(this_system)\n",
    "print(\"#\"*80)\n",
    "print(this_system.system)\n",
    "print(this_system.node)\n",
    "print(this_system.machine)\n",
    "print(this_system.processor)"
   ]
  },
  {
   "cell_type": "markdown",
   "metadata": {},
   "source": [
    "## Συνένωση λεκτικών"
   ]
  },
  {
   "cell_type": "code",
   "execution_count": 36,
   "metadata": {},
   "outputs": [
    {
     "name": "stdout",
     "output_type": "stream",
     "text": [
      "2.98 ms ± 43.9 µs per loop (mean ± std. dev. of 7 runs, 100 loops each)\n"
     ]
    }
   ],
   "source": [
    "def fun1(x):\n",
    "    s = ''\n",
    "    for i in range(x):\n",
    "        s += str(i)\n",
    "    return s\n",
    "%timeit fun1(10000)"
   ]
  },
  {
   "cell_type": "code",
   "execution_count": 37,
   "metadata": {},
   "outputs": [
    {
     "name": "stdout",
     "output_type": "stream",
     "text": [
      "2.45 ms ± 115 µs per loop (mean ± std. dev. of 7 runs, 100 loops each)\n"
     ]
    }
   ],
   "source": [
    "def fun2(x):\n",
    "    a_list = []\n",
    "    for i in range(x):\n",
    "        a_list.append(str(i))\n",
    "    s = ''.join(a_list)\n",
    "%timeit fun2(10000)"
   ]
  },
  {
   "cell_type": "markdown",
   "metadata": {},
   "source": [
    "## Function attributes\n",
    "\n",
    "Με παρόμοιο τρόπο με τον τρόπο που θέτουμε ιδιότητες σε κλάσεις και αντικείμενα μπορούμε να θέτουμε ιδιότητες σε συναρτήσεις"
   ]
  },
  {
   "cell_type": "code",
   "execution_count": 38,
   "metadata": {},
   "outputs": [
    {
     "name": "stdout",
     "output_type": "stream",
     "text": [
      "8\n",
      "3\n",
      "6\n",
      "8\n"
     ]
    }
   ],
   "source": [
    "def fun(a):\n",
    "    fun.initial_value = a\n",
    "    a = a * 2\n",
    "    fun.intermediate_value =a\n",
    "    a = a + 2\n",
    "    fun.final_value = a\n",
    "    return a\n",
    "\n",
    "x = fun(3)\n",
    "print(x)\n",
    "print(fun.initial_value)\n",
    "print(fun.intermediate_value)\n",
    "print(fun.final_value)"
   ]
  },
  {
   "cell_type": "markdown",
   "metadata": {},
   "source": [
    "## eval και exec\n",
    "\n",
    "Μπορούμε να εκτελούμε δυναμικά κώδικα που έχει τοποθετηθεί σε ένα λεκτικό\n",
    "\n",
    "H eval δέχεται μια έκφραση και επιστρέφει την τιμή της\n",
    "\n",
    "Η exec δέχεται ένα μπλοκ κώδικα με εντολές Python και αγνοεί την τιμή που επιστρέφει η εκτέλεσή του. Τα δε αποτελέσματα λαμβάνονται μέσω των side effects που προκαλούνται από την εκτυέλεση του κώδικα."
   ]
  },
  {
   "cell_type": "code",
   "execution_count": 39,
   "metadata": {},
   "outputs": [
    {
     "data": {
      "text/plain": [
       "2"
      ]
     },
     "execution_count": 39,
     "metadata": {},
     "output_type": "execute_result"
    }
   ],
   "source": [
    "x = 1\n",
    "eval('x +1')"
   ]
  },
  {
   "cell_type": "code",
   "execution_count": 40,
   "metadata": {},
   "outputs": [
    {
     "name": "stdout",
     "output_type": "stream",
     "text": [
      "2\n"
     ]
    }
   ],
   "source": [
    "x = 1\n",
    "exec('x=2')\n",
    "print(x)"
   ]
  },
  {
   "cell_type": "code",
   "execution_count": 41,
   "metadata": {},
   "outputs": [
    {
     "data": {
      "text/plain": [
       "573147844013817084101"
      ]
     },
     "execution_count": 41,
     "metadata": {},
     "output_type": "execute_result"
    }
   ],
   "source": [
    "from functools import lru_cache\n",
    "\n",
    "@lru_cache(maxsize=None)\n",
    "def fib(x):\n",
    "    if x <= 1:\n",
    "        return 1\n",
    "    else:\n",
    "        return fib(x-1) + fib(x-2)\n",
    "\n",
    "\n",
    "fib(100)"
   ]
  },
  {
   "cell_type": "markdown",
   "metadata": {},
   "source": [
    "## urllib"
   ]
  },
  {
   "cell_type": "code",
   "execution_count": 42,
   "metadata": {},
   "outputs": [],
   "source": [
    "# from urllib import parse\n",
    "\n",
    "# params = {\"v=\":\"XXXX\", \"t\":\"0m10s\"}\n",
    "# querystring = parse.urlencode(params)\n",
    "# print(querystring)\n",
    "# url = \"https://...\" + \"?\" + querystring\n",
    "# resp = request.urlopen(url)"
   ]
  },
  {
   "cell_type": "markdown",
   "metadata": {},
   "source": [
    "## Various"
   ]
  },
  {
   "cell_type": "code",
   "execution_count": 43,
   "metadata": {},
   "outputs": [
    {
     "name": "stdout",
     "output_type": "stream",
     "text": [
      "2\n",
      "3\n",
      "5\n"
     ]
    }
   ],
   "source": [
    "import re\n",
    "\n",
    "# homeaways = \"AHAHAHHHAHAAHHAHHAHAAHAHAAHAHAH\"\n",
    "homeaways = \"AHHHAAHAH\"\n",
    "pattern = re.compile(r'(?=((HH)|(AA)))')\n",
    "matches = pattern.finditer(homeaways)\n",
    "for match in matches:\n",
    "    print(match.span()[0]+1)\n",
    "\n",
    "\n",
    "# results = [match.group(1) for match in re.finditer(r'(?=(HH))',homeaways)]\n",
    "# print(results)"
   ]
  },
  {
   "cell_type": "markdown",
   "metadata": {},
   "source": [
    "## Type hints\n",
    "\n",
    "PEP484: Python will remain a dynamically typed language, and the authors have no desire to ever make type hints mandatory, even by convention.\n",
    "\n",
    "type checker http://mypy-lang.org/"
   ]
  },
  {
   "cell_type": "code",
   "execution_count": 44,
   "metadata": {},
   "outputs": [
    {
     "data": {
      "text/plain": [
       "<generator object fib at 0x000001D1169A52E0>"
      ]
     },
     "execution_count": 44,
     "metadata": {},
     "output_type": "execute_result"
    }
   ],
   "source": [
    "def fib(n):\n",
    "    a, b = 0, 1\n",
    "    while a < n:\n",
    "        yield a\n",
    "        a, b = b, a+b\n",
    "fib(10)"
   ]
  },
  {
   "cell_type": "code",
   "execution_count": 45,
   "metadata": {},
   "outputs": [
    {
     "data": {
      "text/plain": [
       "<generator object fib at 0x000001D1169A53C0>"
      ]
     },
     "execution_count": 45,
     "metadata": {},
     "output_type": "execute_result"
    }
   ],
   "source": [
    "from typing import Iterator\n",
    "\n",
    "def fib(n: int) -> Iterator[int]:\n",
    "    a, b = 0, 1\n",
    "    while a < n:\n",
    "        yield a\n",
    "        a, b = b, a+b\n",
    "fib(10)"
   ]
  },
  {
   "cell_type": "code",
   "execution_count": 46,
   "metadata": {},
   "outputs": [
    {
     "name": "stdout",
     "output_type": "stream",
     "text": [
      "3\n",
      "hello world\n"
     ]
    }
   ],
   "source": [
    "def sum(a, b):\n",
    "    return a+b\n",
    "\n",
    "print(sum(1,2))\n",
    "print(sum('hello ','world'))"
   ]
  },
  {
   "cell_type": "code",
   "execution_count": 47,
   "metadata": {},
   "outputs": [
    {
     "name": "stdout",
     "output_type": "stream",
     "text": [
      "3\n",
      "hello world\n"
     ]
    }
   ],
   "source": [
    "# αν χρησιμοποιηθεί ένας typechecker όπως το mypy ή τότε θα εμφανίσει λάθος στην κλήση της συνάρτησης με οτιδήπιτε άλλο εκτός από λεκτικά\n",
    "\n",
    "def sum(a: int, b: int) -> int:\n",
    "    return a+b\n",
    "\n",
    "print(sum(1,2))\n",
    "print(sum('hello ','world'))"
   ]
  },
  {
   "cell_type": "markdown",
   "metadata": {},
   "source": [
    "## Asterisk"
   ]
  },
  {
   "cell_type": "code",
   "execution_count": 48,
   "metadata": {},
   "outputs": [
    {
     "data": {
      "text/plain": [
       "(6, 6)"
      ]
     },
     "execution_count": 48,
     "metadata": {},
     "output_type": "execute_result"
    }
   ],
   "source": [
    "def mult1(numbers):\n",
    "    result = 1\n",
    "    for x in  numbers:\n",
    "        result *= x\n",
    "    return result\n",
    "\n",
    "# *numbers means any number of arguments\n",
    "def mult2(*numbers):\n",
    "    result = 1\n",
    "    for x in  numbers:\n",
    "        result *= x\n",
    "    return result\n",
    "\n",
    "\n",
    "mult1([1,2,3]), mult2(1,2,3)"
   ]
  },
  {
   "cell_type": "code",
   "execution_count": 49,
   "metadata": {},
   "outputs": [
    {
     "data": {
      "text/plain": [
       "((0, 1, 2, 3, 4), [0, 1, 2, 3, 4])"
      ]
     },
     "execution_count": 49,
     "metadata": {},
     "output_type": "execute_result"
    }
   ],
   "source": [
    "# unpack an iterable\n",
    "\n",
    "x  = *range(5), \n",
    "y  = [*range(5)]\n",
    "x, y"
   ]
  },
  {
   "cell_type": "code",
   "execution_count": 50,
   "metadata": {},
   "outputs": [
    {
     "name": "stdout",
     "output_type": "stream",
     "text": [
      "['a', 'b']\n",
      "{'a': 1, 'b': 2}\n"
     ]
    }
   ],
   "source": [
    "# unpack a dictionary\n",
    "\n",
    "a_dict = {'a':1, 'b':2}\n",
    "print([*a_dict]) # unpack keys\n",
    "print({**a_dict})"
   ]
  },
  {
   "cell_type": "markdown",
   "metadata": {},
   "source": [
    "## Μερική αποτίμηση συναρτήσεων"
   ]
  },
  {
   "cell_type": "code",
   "execution_count": 51,
   "metadata": {},
   "outputs": [
    {
     "data": {
      "text/plain": [
       "20"
      ]
     },
     "execution_count": 51,
     "metadata": {},
     "output_type": "execute_result"
    }
   ],
   "source": [
    "from functools import partial\n",
    "from operator import add\n",
    "\n",
    "add5 = partial(add, 5)\n",
    "add5(15)"
   ]
  },
  {
   "cell_type": "markdown",
   "metadata": {},
   "source": [
    "## Laziness in Python\n",
    "\n",
    "[Computerphile - Laziness in Python](https://www.youtube.com/watch?v=5jwV3zxXc8E)"
   ]
  },
  {
   "cell_type": "code",
   "execution_count": 52,
   "metadata": {},
   "outputs": [],
   "source": [
    "def naturals(n):\n",
    "    yield n\n",
    "    yield from naturals(n+1)"
   ]
  },
  {
   "cell_type": "code",
   "execution_count": 53,
   "metadata": {},
   "outputs": [
    {
     "name": "stdout",
     "output_type": "stream",
     "text": [
      "2\n",
      "3\n"
     ]
    }
   ],
   "source": [
    "s = naturals(2)\n",
    "print(next(s))\n",
    "print(next(s))"
   ]
  },
  {
   "cell_type": "code",
   "execution_count": 54,
   "metadata": {},
   "outputs": [],
   "source": [
    "def sieve(s):\n",
    "    n = next(s)\n",
    "    yield n\n",
    "    yield from sieve(i for i in s if i%n!=0)"
   ]
  },
  {
   "cell_type": "code",
   "execution_count": 55,
   "metadata": {},
   "outputs": [
    {
     "name": "stdout",
     "output_type": "stream",
     "text": [
      "2\n",
      "3\n",
      "5\n",
      "7\n",
      "11\n"
     ]
    }
   ],
   "source": [
    "p = sieve(naturals(2))\n",
    "print(next(p))\n",
    "print(next(p))\n",
    "print(next(p))\n",
    "print(next(p))\n",
    "print(next(p))"
   ]
  },
  {
   "cell_type": "markdown",
   "metadata": {},
   "source": [
    "## Decorators\n",
    "\n",
    "<https://calmcode.io/decorators/introduction.html>"
   ]
  },
  {
   "cell_type": "code",
   "execution_count": 56,
   "metadata": {},
   "outputs": [
    {
     "name": "stdout",
     "output_type": "stream",
     "text": [
      "this function took: 1.6034808158874512\n",
      "this function took: 2.8431127071380615\n"
     ]
    },
    {
     "data": {
      "text/plain": [
       "('Done!', 'Done!', 'Done!')"
      ]
     },
     "execution_count": 56,
     "metadata": {},
     "output_type": "execute_result"
    }
   ],
   "source": [
    "import time\n",
    "import random\n",
    "\n",
    "def stopwatch(f):\n",
    "    def func(*args, **kwargs):\n",
    "        tic = time.time()\n",
    "        result = f(*args, **kwargs)\n",
    "        print(f\"this function took: {time.time() - tic}\")\n",
    "        return result\n",
    "    return func\n",
    "\n",
    "def sleep_random(s=1):\n",
    "    t = s + random.random()\n",
    "    time.sleep(t)\n",
    "    return \"Done!\"\n",
    "\n",
    "timed_sleep = stopwatch(sleep_random)\n",
    "\n",
    "# 2 functions that are similar but also different\n",
    "sleep_random(), timed_sleep(), timed_sleep(2),\n"
   ]
  },
  {
   "cell_type": "code",
   "execution_count": 57,
   "metadata": {},
   "outputs": [
    {
     "name": "stdout",
     "output_type": "stream",
     "text": [
      "this function took: 1.354212999343872\n",
      "this function took: 1.1710214614868164\n",
      "this function took: 2.82830548286438\n"
     ]
    },
    {
     "data": {
      "text/plain": [
       "('Done', 'Done', 'Done')"
      ]
     },
     "execution_count": 57,
     "metadata": {},
     "output_type": "execute_result"
    }
   ],
   "source": [
    "\n",
    "\n",
    "import time\n",
    "import random\n",
    "from functools import wraps\n",
    "\n",
    "def stopwatch(f):\n",
    "    @wraps(f)\n",
    "    def func(*args, **kwargs):\n",
    "        tic = time.time()\n",
    "        result = f(*args, **kwargs)\n",
    "        print(f\"this function took: {time.time() - tic}\")\n",
    "        return result\n",
    "    return func\n",
    "\n",
    "@stopwatch\n",
    "def sleep_random(s=1):\n",
    "    '''This function sleeps at least for `s` seconds'''\n",
    "    t = s + random.random()\n",
    "    time.sleep(t)\n",
    "    return f\"Done\"\n",
    "\n",
    "# better syntax using @\n",
    "sleep_random(), sleep_random(1), sleep_random(2)"
   ]
  },
  {
   "cell_type": "code",
   "execution_count": 58,
   "metadata": {},
   "outputs": [
    {
     "name": "stdout",
     "output_type": "stream",
     "text": [
      "\u001b[1;31mSignature:\u001b[0m \u001b[0msleep_random\u001b[0m\u001b[1;33m(\u001b[0m\u001b[0ms\u001b[0m\u001b[1;33m=\u001b[0m\u001b[1;36m1\u001b[0m\u001b[1;33m)\u001b[0m\u001b[1;33m\u001b[0m\u001b[1;33m\u001b[0m\u001b[0m\n",
      "\u001b[1;31mDocstring:\u001b[0m This function sleeps at least for `s` seconds\n",
      "\u001b[1;31mFile:\u001b[0m      c:\\users\\chgogos\\appdata\\local\\temp\\ipykernel_30040\\1423878574.py\n",
      "\u001b[1;31mType:\u001b[0m      function\n"
     ]
    }
   ],
   "source": [
    "?sleep_random"
   ]
  },
  {
   "cell_type": "markdown",
   "metadata": {},
   "source": [
    "## Εμφάνιση λίστας ακεραίων \n",
    "\n",
    "Με κόμματα μεταξύ των στοιχείων της λίστας"
   ]
  },
  {
   "cell_type": "code",
   "execution_count": 59,
   "metadata": {},
   "outputs": [
    {
     "name": "stdout",
     "output_type": "stream",
     "text": [
      "1, 2, 3, 4, 5, 6, 7, 8, 9, 10\n",
      "1, 2, 3, 4, 5, 6, 7, 8, 9, 10\n",
      "1, 2, 3, 4, 5, 6, 7, 8, 9, 10\n",
      "1, 2, 3, 4, 5, 6, 7, 8, 9, 10\n",
      "1, 2, 3, 4, 5, 6, 7, 8, 9, 10\n"
     ]
    }
   ],
   "source": [
    "a_list = list(range(1,11))\n",
    "\n",
    "# 1\n",
    "for x in a_list[:-1]:\n",
    "    print(\"{:d}\".format(x), end =\", \"),\n",
    "print(a_list[-1])\n",
    "\n",
    "# 2\n",
    "print(*a_list, sep=', ')\n",
    "\n",
    "# 3\n",
    "print(str(a_list).replace('[', '').replace(']',''))\n",
    "\n",
    "# 4\n",
    "print(str(a_list)[1:-1])\n",
    "\n",
    "# 5\n",
    "print(', '.join(map(str, a_list)))"
   ]
  },
  {
   "cell_type": "markdown",
   "metadata": {},
   "source": [
    "## Simple FP example"
   ]
  },
  {
   "cell_type": "code",
   "execution_count": 60,
   "metadata": {},
   "outputs": [
    {
     "name": "stdout",
     "output_type": "stream",
     "text": [
      "[5, 12, 21, 32]\n"
     ]
    }
   ],
   "source": [
    "def mult(x, y):\n",
    "    return x * y\n",
    "\n",
    "\n",
    "a = [1, 2, 3, 4]\n",
    "b = [5, 6, 7, 8]\n",
    "\n",
    "result = map(mult, a, b)\n",
    "print(list(result))\n"
   ]
  },
  {
   "cell_type": "markdown",
   "metadata": {},
   "source": [
    "## Αλφάβητο στα αγγλικά και στα ελληνικά"
   ]
  },
  {
   "cell_type": "code",
   "execution_count": 61,
   "metadata": {},
   "outputs": [
    {
     "name": "stdout",
     "output_type": "stream",
     "text": [
      "abcdefghijklmnopqrstuvwxyz\n",
      "abcdefghijklmnopqrstuvwxyz\n",
      "abcdefghijklmnopqrstuvwxyz\n",
      "ABCDEFGHIJKLMNOPQRSTUVWXYZ\n",
      "αβγδεζηθικλμνξοπρςστυφχψω\n",
      "ΑΒΓΔΕΖΗΘΙΚΛΜΝΞΟΠΡ΢ΣΤΥΦΧΨΩ\n"
     ]
    }
   ],
   "source": [
    "# αλφάβητο στα αγγλικά (1ος τρόπος)\n",
    "tmp = []\n",
    "for i in range(ord('a'), ord('z')+1):\n",
    "    tmp.append(chr(i))\n",
    "en_alphabet = \"\".join(tmp)\n",
    "print(en_alphabet)\n",
    "\n",
    "# αλφάβητο στα αγγλικά (2ος τρόπος)\n",
    "en_alphabet = \"\".join([chr(i) for i in range(ord('a'), ord('z')+1)])\n",
    "print(en_alphabet)\n",
    "\n",
    "# αλφάβητο στα αγγλικά (3ος τρόπος)\n",
    "import string\n",
    "print(string.ascii_lowercase)\n",
    "print(string.ascii_uppercase)\n",
    "\n",
    "# αλφάβητο στα ελληνικά (προσοχή στο ς)\n",
    "el_alphabet = \"\".join([chr(i) for i in range(ord('α'), ord('ω')+1)])\n",
    "print(el_alphabet)\n",
    "\n",
    "# αλφάβητο στα ελληνικά\n",
    "el_alphabet = \"\".join([chr(i) for i in range(ord('Α'), ord('Ω')+1)])\n",
    "print(el_alphabet)"
   ]
  },
  {
   "cell_type": "markdown",
   "metadata": {},
   "source": [
    "## f-strings\n",
    "\n",
    "https://martinheinz.dev/blog/70"
   ]
  },
  {
   "cell_type": "code",
   "execution_count": 62,
   "metadata": {},
   "outputs": [
    {
     "name": "stdout",
     "output_type": "stream",
     "text": [
      "2022-07-02\n",
      "2022-07-02\n",
      "07/02/22\n",
      "10:01:03\n",
      "10:01:03\n",
      "10:01:03\n"
     ]
    }
   ],
   "source": [
    "# εκτύπωση ημερομηνιών - χρόνου\n",
    "\n",
    "import datetime\n",
    "d = datetime.datetime.today()\n",
    "print(f\"{d:%Y-%m-%d}\")\n",
    "print(f\"{d:%F}\") \n",
    "print(f\"{d:%x}\") # locale preferred date\n",
    "\n",
    "print(f\"{d:%H:%M:%S}\") \n",
    "print(f\"{d:%T}\")\n",
    "print(f\"{d:%X}\") # locale preferred time"
   ]
  },
  {
   "cell_type": "code",
   "execution_count": 63,
   "metadata": {},
   "outputs": [
    {
     "name": "stdout",
     "output_type": "stream",
     "text": [
      "x=10, y=20\n",
      "x=10, y=20\n"
     ]
    }
   ],
   "source": [
    "# εκτύπωση ονομάτων μεταβλητών μαζί με τις τιμές τους\n",
    "\n",
    "x = 10\n",
    "y = 20\n",
    "print(f\"x={x}, y={y}\")\n",
    "print(f\"{x=}, {y=}\") # από την έκδοση 3.8 και μετά\n"
   ]
  },
  {
   "cell_type": "code",
   "execution_count": 64,
   "metadata": {},
   "outputs": [
    {
     "name": "stdout",
     "output_type": "stream",
     "text": [
      "3.14\n",
      "    3.1416\n",
      "####3.1416\n",
      "3.1416####\n"
     ]
    }
   ],
   "source": [
    "# Δεκαδικά ψηφία\n",
    "\n",
    "x = 3.14159\n",
    "print(f\"{x:.2f}\")\n",
    "print(f\"{x:10.4f}\")\n",
    "print(f\"{x:#>10.4f}\")\n",
    "print(f\"{x:#<10.4f}\")"
   ]
  },
  {
   "cell_type": "code",
   "execution_count": 65,
   "metadata": {},
   "outputs": [
    {
     "name": "stdout",
     "output_type": "stream",
     "text": [
      "Name Nikos############### age 20!!!!!!!!!!!!!!!!!!\n",
      "Name ###############Nikos age !!!!!!!!!!!!!!!!!!20\n"
     ]
    }
   ],
   "source": [
    "# padding\n",
    "\n",
    "name = \"Nikos\"\n",
    "age = 20\n",
    "\n",
    "print(f\"Name {name:#<20} age {age:!<20}\")\n",
    "print(f\"Name {name:#>20} age {age:!>20}\")"
   ]
  },
  {
   "cell_type": "markdown",
   "metadata": {},
   "source": [
    "## Ο ρόλος της κενής συμβολοσειράς και του 0 στην if"
   ]
  },
  {
   "cell_type": "code",
   "execution_count": 66,
   "metadata": {},
   "outputs": [
    {
     "name": "stdout",
     "output_type": "stream",
     "text": [
      "OK\n",
      "OK\n",
      "OK\n",
      "OK\n"
     ]
    }
   ],
   "source": [
    "# το '' και το 0 εκλαμβάνονται ως false όταν χρησιμοποιούνται στη θέση της λογικής έκφρασης της if\n",
    "\n",
    "if not '':\n",
    "    print('OK')\n",
    "\n",
    "if 'test':\n",
    "    print('OK')\n",
    "    \n",
    "if not 0:\n",
    "    print(\"OK\")\n",
    "    \n",
    "if 1:\n",
    "    print(\"OK\")"
   ]
  },
  {
   "cell_type": "code",
   "execution_count": null,
   "metadata": {},
   "outputs": [],
   "source": []
  }
 ],
 "metadata": {
  "kernelspec": {
   "display_name": "Python 3.8.13 ('myenv')",
   "language": "python",
   "name": "python3"
  },
  "language_info": {
   "codemirror_mode": {
    "name": "ipython",
    "version": 3
   },
   "file_extension": ".py",
   "mimetype": "text/x-python",
   "name": "python",
   "nbconvert_exporter": "python",
   "pygments_lexer": "ipython3",
   "version": "3.8.13"
  },
  "vscode": {
   "interpreter": {
    "hash": "974659bc90c8ddddc11b19c7e94fd91162a2277b0607bb1c923d993f45e68608"
   }
  }
 },
 "nbformat": 4,
 "nbformat_minor": 2
}
