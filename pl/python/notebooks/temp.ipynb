{
 "cells": [
  {
   "cell_type": "code",
   "execution_count": null,
   "metadata": {},
   "outputs": [],
   "source": [
    "# η χρήση του _ για τη λήψη του τελευταίου αποτελέσματος\n",
    "\n",
    "x = 2**20\n",
    "_"
   ]
  },
  {
   "cell_type": "code",
   "execution_count": 20,
   "metadata": {},
   "outputs": [
    {
     "name": "stdout",
     "output_type": "stream",
     "text": [
      "1.6449240667982423\n",
      "25.8 ms ± 190 µs per loop (mean ± std. dev. of 7 runs, 10 loops each)\n",
      "857 µs ± 5.58 µs per loop (mean ± std. dev. of 7 runs, 1000 loops each)\n",
      "1.644924066798227\n"
     ]
    }
   ],
   "source": [
    "# Χρονομέτρηση κώδικα με το timeit\n",
    "\n",
    "n = 100000\n",
    "print(sum([1.0 / i ** 2 for i in range(1, n)]))\n",
    "%timeit sum([1. / i**2 for i in range(1,n)])\n",
    "\n",
    "import numpy as np\n",
    "\n",
    "%timeit np.sum(1. / np.arange(1.,n) ** 2)\n",
    "print(np.sum(1.0 / np.arange(1.0, n) ** 2))"
   ]
  },
  {
   "cell_type": "code",
   "execution_count": null,
   "metadata": {},
   "outputs": [],
   "source": [
    "# disassembler\n",
    "\n",
    "import dis\n",
    "\n",
    "\n",
    "def func(alist):\n",
    "    return len(alist)\n",
    "\n",
    "\n",
    "dis.dis(func)"
   ]
  },
  {
   "cell_type": "code",
   "execution_count": null,
   "metadata": {},
   "outputs": [],
   "source": [
    "# ισοδυναμία συναρτήσεων και λάμδα συναρτήσεων\n",
    "\n",
    "import dis\n",
    "\n",
    "\n",
    "def func(x, y):\n",
    "    return x + y\n",
    "\n",
    "\n",
    "print(dis.dis(func))\n",
    "\n",
    "f = lambda x, y: x + y\n",
    "\n",
    "print(dis.dis(f))"
   ]
  },
  {
   "cell_type": "code",
   "execution_count": 23,
   "metadata": {},
   "outputs": [
    {
     "name": "stderr",
     "output_type": "stream",
     "text": [
      "19:49:39 Αυτό είναι ένα μήνυμα INFO\n"
     ]
    }
   ],
   "source": [
    "import logging\n",
    "\n",
    "logging.basicConfig(format=\"%(asctime)s %(message)s\", datefmt=\"%H:%M:%S\")\n",
    "logger = logging.getLogger()\n",
    "logger.setLevel(logging.INFO)\n",
    "logger.info(\"Αυτό είναι ένα μήνυμα INFO\")"
   ]
  },
  {
   "cell_type": "code",
   "execution_count": null,
   "metadata": {},
   "outputs": [],
   "source": [
    "import sys\n",
    "\n",
    "print(sys.executable)"
   ]
  },
  {
   "source": [
    "## References\n"
   ],
   "cell_type": "markdown",
   "metadata": {}
  },
  {
   "cell_type": "code",
   "execution_count": 39,
   "metadata": {},
   "outputs": [
    {
     "output_type": "stream",
     "name": "stdout",
     "text": [
      "[42, 0, 0, 0]\n[42, 0, 0, 0]\n"
     ]
    }
   ],
   "source": [
    "a = [0,0,0,0]\n",
    "b = a # το b και το a δείχνουν στο ίδιο αντικείμενο\n",
    "b[0]=42\n",
    "print(a)\n",
    "print(b)"
   ]
  },
  {
   "source": [
    "## 2D arrays\n",
    "\n",
    "https://www.geeksforgeeks.org/python-using-2d-arrays-lists-the-right-way/"
   ],
   "cell_type": "markdown",
   "metadata": {}
  },
  {
   "cell_type": "code",
   "execution_count": 41,
   "metadata": {},
   "outputs": [
    {
     "output_type": "stream",
     "name": "stdout",
     "text": [
      "[1, 2, 0, 0, 0]\n"
     ]
    }
   ],
   "source": [
    "# Μονοδιάστατος πίνακας\n",
    "N = 5\n",
    "a = [0] * N\n",
    "a[0] = 1\n",
    "a[1] = 2\n",
    "print(a)"
   ]
  },
  {
   "cell_type": "code",
   "execution_count": 1,
   "metadata": {},
   "outputs": [
    {
     "output_type": "stream",
     "name": "stdout",
     "text": [
      "True\n[[4, 5, 6], [4, 5, 6]]\n"
     ]
    }
   ],
   "source": [
    "# 2d arrays in Python (example: 2X3 array of ints) - μη επιθυμητό αποτέλεσμα\n",
    "# http://www.pythontutor.com/visualize.html#mode=edit\n",
    "\n",
    "rows, cols = 2, 3\n",
    "a = [[0] * cols] * rows\n",
    "\n",
    "# η πρώτη και η δεύτερη γραμμή του πίνακα δείχνουν στο ίδιο αντικείμενο\n",
    "a[0][0] = 1 \n",
    "a[0][1] = 2 \n",
    "a[0][2] = 3\n",
    "a[1][0] = 4\n",
    "a[1][1] = 5\n",
    "a[1][2] = 6\n",
    "print(a[0]==a[1]) # True\n",
    "print(a)"
   ]
  },
  {
   "cell_type": "code",
   "execution_count": 38,
   "metadata": {},
   "outputs": [
    {
     "output_type": "stream",
     "name": "stdout",
     "text": [
      "False\n[[1, 2, 3], [4, 5, 6]]\n"
     ]
    }
   ],
   "source": [
    "# 2d arrays in Python (example: 2X3 array of ints)\n",
    "# http://www.pythontutor.com/visualize.html#mode=edit\n",
    "\n",
    "rows = 2\n",
    "cols = 3\n",
    "a = [[0 for j in range(cols)] for  i in range(rows)]\n",
    "# a = [[0] * cols  for  i in range(rows)] # η εναλλακτικά\n",
    "\n",
    "a[0][0] = 1 \n",
    "a[0][1] = 2 \n",
    "a[0][2] = 3\n",
    "a[1][0] = 4\n",
    "a[1][1] = 5\n",
    "a[1][2] = 6\n",
    "print(a[0]==a[1]) # False\n",
    "print(a)"
   ]
  },
  {
   "cell_type": "code",
   "execution_count": 49,
   "metadata": {},
   "outputs": [
    {
     "output_type": "stream",
     "name": "stdout",
     "text": [
      "[[1 2 3]\n [4 5 6]]\n"
     ]
    }
   ],
   "source": [
    "# 2d array με το numpy (πίνακας 2x3 με ακεραίους από το 1 μέχρι το 6)\n",
    "\n",
    "import numpy as np\n",
    "\n",
    "a = np.empty((2,3), dtype=np.int32)\n",
    "a[0][0] = 1 \n",
    "a[0][1] = 2 \n",
    "a[0][2] = 3\n",
    "a[1][0] = 4\n",
    "a[1][1] = 5\n",
    "a[1][2] = 6\n",
    "print(a)"
   ]
  },
  {
   "cell_type": "code",
   "execution_count": 58,
   "metadata": {},
   "outputs": [
    {
     "output_type": "stream",
     "name": "stdout",
     "text": [
      "[[1 2 3]\n [4 5 6]]\n"
     ]
    }
   ],
   "source": [
    "# 2d array με το numpy (πίνακας 2x3 με ακεραίους από το 1 μέχρι το 6)\n",
    "\n",
    "import numpy as np\n",
    "\n",
    "a = np.zeros((2,3), dtype=np.int32)\n",
    "a[0][0] = 1 \n",
    "a[0][1] = 2 \n",
    "a[0][2] = 3\n",
    "a[1][0] = 4\n",
    "a[1][1] = 5\n",
    "a[1][2] = 6\n",
    "print(a)"
   ]
  },
  {
   "cell_type": "code",
   "execution_count": 59,
   "metadata": {},
   "outputs": [
    {
     "output_type": "stream",
     "name": "stdout",
     "text": [
      "[[1 2 3]\n [4 5 6]]\n"
     ]
    }
   ],
   "source": [
    "# 2d array με το numpy (πίνακας 2x3 με ακεραίους από το 1 μέχρι το 6)\n",
    "\n",
    "a = np.arange(1,7).reshape(2,3)\n",
    "print(a)"
   ]
  },
  {
   "cell_type": "code",
   "execution_count": 1,
   "metadata": {},
   "outputs": [
    {
     "output_type": "stream",
     "name": "stdout",
     "text": [
      "3\n3\n4\n"
     ]
    }
   ],
   "source": [
    "# magic methods (dunders)\n",
    "\n",
    "print(1 + 2)\n",
    "\n",
    "print(int.__add__(1, 2))\n",
    "\n",
    "print(\"test\".__len__())"
   ]
  },
  {
   "cell_type": "code",
   "execution_count": 8,
   "metadata": {},
   "outputs": [
    {
     "output_type": "stream",
     "name": "stdout",
     "text": [
      "100,000,000\n"
     ]
    }
   ],
   "source": [
    "# μεγάλοι αριθμοί (_ για το διαχωρισμό ψηφίων)\n",
    "\n",
    "x = 100_000_000\n",
    "print(f'{x:,}')"
   ]
  },
  {
   "cell_type": "code",
   "execution_count": 9,
   "metadata": {},
   "outputs": [
    {
     "output_type": "stream",
     "name": "stdout",
     "text": [
      "a 10\nb 20\nc 30\n"
     ]
    }
   ],
   "source": [
    "# zip\n",
    "\n",
    "a_list = ['a', 'b', 'c']\n",
    "b_list = [10,20,30]\n",
    "\n",
    "for a,b in zip(a_list, b_list):\n",
    "    print(a,b)"
   ]
  },
  {
   "cell_type": "code",
   "execution_count": 15,
   "metadata": {},
   "outputs": [
    {
     "output_type": "stream",
     "name": "stdout",
     "text": [
      "1 3\n1 2 [3, 4, 5]\n1 2 5\n"
     ]
    }
   ],
   "source": [
    "# αγνόηση τιμής\n",
    "\n",
    "x, _, y = 1,2,3\n",
    "\n",
    "print(x,y)\n",
    "\n",
    "x,y,*z = (1,2,3,4,5)\n",
    "\n",
    "print(x,y,z)\n",
    "\n",
    "x,y,*_, z = (1,2,3,4,5)\n",
    "print(x,y,z)"
   ]
  },
  {
   "cell_type": "code",
   "execution_count": 18,
   "metadata": {},
   "outputs": [
    {
     "output_type": "stream",
     "name": "stdout",
     "text": [
      "5 10\n5\n10\n"
     ]
    }
   ],
   "source": [
    "#setattr, getattr\n",
    "\n",
    "class Point:\n",
    "    pass\n",
    "\n",
    "p1 = Point()\n",
    "\n",
    "setattr(p1, 'x', 5)\n",
    "setattr(p1, 'y', 10)\n",
    "\n",
    "print(p1.x, p1.y)\n",
    "for k in ['x', 'y']:\n",
    "    print(getattr(p1, k))"
   ]
  },
  {
   "cell_type": "code",
   "execution_count": 21,
   "metadata": {},
   "outputs": [
    {
     "output_type": "stream",
     "name": "stdout",
     "text": [
      "[('a', 10), ('b', 20), ('c', 30)]\n"
     ]
    }
   ],
   "source": [
    "# εξάντληση iterator\n",
    "\n",
    "a_list = ['a', 'b', 'c']\n",
    "b_list = [10,20,30]\n",
    "\n",
    "ab = zip(a_list, b_list)\n",
    "print(list(ab)) # εξάντληση του iterator\n",
    "\n",
    "for a,b in ab:\n",
    "    print(a,b) \n"
   ]
  },
  {
   "cell_type": "code",
   "execution_count": 7,
   "metadata": {},
   "outputs": [
    {
     "output_type": "stream",
     "name": "stderr",
     "text": [
      "test1 (__main__.TestPlay) ... FAIL\n",
      "\n",
      "======================================================================\n",
      "FAIL: test1 (__main__.TestPlay)\n",
      "----------------------------------------------------------------------\n",
      "Traceback (most recent call last):\n",
      "  File \"<ipython-input-7-8a86a6085cbd>\", line 12, in test1\n",
      "    self.assertEqual(play('R', 'S'), 2)\n",
      "AssertionError: 1 != 2\n",
      "\n",
      "----------------------------------------------------------------------\n",
      "Ran 1 test in 0.003s\n",
      "\n",
      "FAILED (failures=1)\n"
     ]
    }
   ],
   "source": [
    "# παράδειγμα με unittest (to be deleted)\n",
    "\n",
    "import unittest\n",
    "\n",
    "\n",
    "def play(p1, p2):\n",
    "    if p1 == 'R' and p2 == 'P':\n",
    "        return 2\n",
    "    return 1\n",
    "\n",
    "\n",
    "class TestPlay(unittest.TestCase):\n",
    "    def test1(self):\n",
    "        self.assertEqual(play('R', 'P'), 2)\n",
    "        self.assertEqual(play('R', 'S'), 2)\n",
    "        \n",
    "\n",
    "unittest.main(argv=[''], verbosity=2, exit=False);"
   ]
  },
  {
   "source": [
    "## os.walk\n"
   ],
   "cell_type": "markdown",
   "metadata": {}
  },
  {
   "cell_type": "code",
   "execution_count": 2,
   "metadata": {
    "tags": [
     "outputPrepend"
    ]
   },
   "outputs": [
    {
     "output_type": "stream",
     "name": "stdout",
     "text": [
      "uptools\\command\\saveopts.py\n../testing1\\venv\\Lib\\site-packages\\setuptools\\command\\sdist.py\n../testing1\\venv\\Lib\\site-packages\\setuptools\\command\\setopt.py\n../testing1\\venv\\Lib\\site-packages\\setuptools\\command\\test.py\n../testing1\\venv\\Lib\\site-packages\\setuptools\\command\\upload.py\n../testing1\\venv\\Lib\\site-packages\\setuptools\\command\\upload_docs.py\n../testing1\\venv\\Lib\\site-packages\\setuptools\\command\\__init__.py\n../testing1\\venv\\Lib\\site-packages\\setuptools\\command\\__pycache__\n../testing1\\venv\\Lib\\site-packages\\setuptools\\extern\\__pycache__\\__init__.cpython-38.pyc\n../testing1\\venv\\Lib\\site-packages\\setuptools\\extern\\__init__.py\n../testing1\\venv\\Lib\\site-packages\\setuptools\\extern\\__pycache__\n../testing1\\venv\\Lib\\site-packages\\setuptools\\_distutils\\command\\__pycache__\\bdist.cpython-38.pyc\n../testing1\\venv\\Lib\\site-packages\\setuptools\\_distutils\\command\\__pycache__\\bdist_dumb.cpython-38.pyc\n../testing1\\venv\\Lib\\site-packages\\setuptools\\_distutils\\command\\__pycache__\\bdist_msi.cpython-38.pyc\n../testing1\\venv\\Lib\\site-packages\\setuptools\\_distutils\\command\\__pycache__\\bdist_rpm.cpython-38.pyc\n../testing1\\venv\\Lib\\site-packages\\setuptools\\_distutils\\command\\__pycache__\\bdist_wininst.cpython-38.pyc\n../testing1\\venv\\Lib\\site-packages\\setuptools\\_distutils\\command\\__pycache__\\build.cpython-38.pyc\n../testing1\\venv\\Lib\\site-packages\\setuptools\\_distutils\\command\\__pycache__\\build_clib.cpython-38.pyc\n../testing1\\venv\\Lib\\site-packages\\setuptools\\_distutils\\command\\__pycache__\\build_ext.cpython-38.pyc\n../testing1\\venv\\Lib\\site-packages\\setuptools\\_distutils\\command\\__pycache__\\build_py.cpython-38.pyc\n../testing1\\venv\\Lib\\site-packages\\setuptools\\_distutils\\command\\__pycache__\\build_scripts.cpython-38.pyc\n../testing1\\venv\\Lib\\site-packages\\setuptools\\_distutils\\command\\__pycache__\\check.cpython-38.pyc\n../testing1\\venv\\Lib\\site-packages\\setuptools\\_distutils\\command\\__pycache__\\clean.cpython-38.pyc\n../testing1\\venv\\Lib\\site-packages\\setuptools\\_distutils\\command\\__pycache__\\config.cpython-38.pyc\n../testing1\\venv\\Lib\\site-packages\\setuptools\\_distutils\\command\\__pycache__\\install.cpython-38.pyc\n../testing1\\venv\\Lib\\site-packages\\setuptools\\_distutils\\command\\__pycache__\\install_data.cpython-38.pyc\n../testing1\\venv\\Lib\\site-packages\\setuptools\\_distutils\\command\\__pycache__\\install_egg_info.cpython-38.pyc\n../testing1\\venv\\Lib\\site-packages\\setuptools\\_distutils\\command\\__pycache__\\install_headers.cpython-38.pyc\n../testing1\\venv\\Lib\\site-packages\\setuptools\\_distutils\\command\\__pycache__\\install_lib.cpython-38.pyc\n../testing1\\venv\\Lib\\site-packages\\setuptools\\_distutils\\command\\__pycache__\\install_scripts.cpython-38.pyc\n../testing1\\venv\\Lib\\site-packages\\setuptools\\_distutils\\command\\__pycache__\\py37compat.cpython-38.pyc\n../testing1\\venv\\Lib\\site-packages\\setuptools\\_distutils\\command\\__pycache__\\register.cpython-38.pyc\n../testing1\\venv\\Lib\\site-packages\\setuptools\\_distutils\\command\\__pycache__\\sdist.cpython-38.pyc\n../testing1\\venv\\Lib\\site-packages\\setuptools\\_distutils\\command\\__pycache__\\upload.cpython-38.pyc\n../testing1\\venv\\Lib\\site-packages\\setuptools\\_distutils\\command\\__pycache__\\__init__.cpython-38.pyc\n../testing1\\venv\\Lib\\site-packages\\setuptools\\_distutils\\command\\bdist.py\n../testing1\\venv\\Lib\\site-packages\\setuptools\\_distutils\\command\\bdist_dumb.py\n../testing1\\venv\\Lib\\site-packages\\setuptools\\_distutils\\command\\bdist_msi.py\n../testing1\\venv\\Lib\\site-packages\\setuptools\\_distutils\\command\\bdist_rpm.py\n../testing1\\venv\\Lib\\site-packages\\setuptools\\_distutils\\command\\bdist_wininst.py\n../testing1\\venv\\Lib\\site-packages\\setuptools\\_distutils\\command\\build.py\n../testing1\\venv\\Lib\\site-packages\\setuptools\\_distutils\\command\\build_clib.py\n../testing1\\venv\\Lib\\site-packages\\setuptools\\_distutils\\command\\build_ext.py\n../testing1\\venv\\Lib\\site-packages\\setuptools\\_distutils\\command\\build_py.py\n../testing1\\venv\\Lib\\site-packages\\setuptools\\_distutils\\command\\build_scripts.py\n../testing1\\venv\\Lib\\site-packages\\setuptools\\_distutils\\command\\check.py\n../testing1\\venv\\Lib\\site-packages\\setuptools\\_distutils\\command\\clean.py\n../testing1\\venv\\Lib\\site-packages\\setuptools\\_distutils\\command\\config.py\n../testing1\\venv\\Lib\\site-packages\\setuptools\\_distutils\\command\\install.py\n../testing1\\venv\\Lib\\site-packages\\setuptools\\_distutils\\command\\install_data.py\n../testing1\\venv\\Lib\\site-packages\\setuptools\\_distutils\\command\\install_egg_info.py\n../testing1\\venv\\Lib\\site-packages\\setuptools\\_distutils\\command\\install_headers.py\n../testing1\\venv\\Lib\\site-packages\\setuptools\\_distutils\\command\\install_lib.py\n../testing1\\venv\\Lib\\site-packages\\setuptools\\_distutils\\command\\install_scripts.py\n../testing1\\venv\\Lib\\site-packages\\setuptools\\_distutils\\command\\py37compat.py\n../testing1\\venv\\Lib\\site-packages\\setuptools\\_distutils\\command\\register.py\n../testing1\\venv\\Lib\\site-packages\\setuptools\\_distutils\\command\\sdist.py\n../testing1\\venv\\Lib\\site-packages\\setuptools\\_distutils\\command\\upload.py\n../testing1\\venv\\Lib\\site-packages\\setuptools\\_distutils\\command\\__init__.py\n../testing1\\venv\\Lib\\site-packages\\setuptools\\_distutils\\command\\__pycache__\n../testing1\\venv\\Lib\\site-packages\\setuptools\\_distutils\\__pycache__\\archive_util.cpython-38.pyc\n../testing1\\venv\\Lib\\site-packages\\setuptools\\_distutils\\__pycache__\\bcppcompiler.cpython-38.pyc\n../testing1\\venv\\Lib\\site-packages\\setuptools\\_distutils\\__pycache__\\ccompiler.cpython-38.pyc\n../testing1\\venv\\Lib\\site-packages\\setuptools\\_distutils\\__pycache__\\cmd.cpython-38.pyc\n../testing1\\venv\\Lib\\site-packages\\setuptools\\_distutils\\__pycache__\\config.cpython-38.pyc\n../testing1\\venv\\Lib\\site-packages\\setuptools\\_distutils\\__pycache__\\core.cpython-38.pyc\n../testing1\\venv\\Lib\\site-packages\\setuptools\\_distutils\\__pycache__\\cygwinccompiler.cpython-38.pyc\n../testing1\\venv\\Lib\\site-packages\\setuptools\\_distutils\\__pycache__\\debug.cpython-38.pyc\n../testing1\\venv\\Lib\\site-packages\\setuptools\\_distutils\\__pycache__\\dep_util.cpython-38.pyc\n../testing1\\venv\\Lib\\site-packages\\setuptools\\_distutils\\__pycache__\\dir_util.cpython-38.pyc\n../testing1\\venv\\Lib\\site-packages\\setuptools\\_distutils\\__pycache__\\dist.cpython-38.pyc\n../testing1\\venv\\Lib\\site-packages\\setuptools\\_distutils\\__pycache__\\errors.cpython-38.pyc\n../testing1\\venv\\Lib\\site-packages\\setuptools\\_distutils\\__pycache__\\extension.cpython-38.pyc\n../testing1\\venv\\Lib\\site-packages\\setuptools\\_distutils\\__pycache__\\fancy_getopt.cpython-38.pyc\n../testing1\\venv\\Lib\\site-packages\\setuptools\\_distutils\\__pycache__\\filelist.cpython-38.pyc\n../testing1\\venv\\Lib\\site-packages\\setuptools\\_distutils\\__pycache__\\file_util.cpython-38.pyc\n../testing1\\venv\\Lib\\site-packages\\setuptools\\_distutils\\__pycache__\\log.cpython-38.pyc\n../testing1\\venv\\Lib\\site-packages\\setuptools\\_distutils\\__pycache__\\msvc9compiler.cpython-38.pyc\n../testing1\\venv\\Lib\\site-packages\\setuptools\\_distutils\\__pycache__\\msvccompiler.cpython-38.pyc\n../testing1\\venv\\Lib\\site-packages\\setuptools\\_distutils\\__pycache__\\py35compat.cpython-38.pyc\n../testing1\\venv\\Lib\\site-packages\\setuptools\\_distutils\\__pycache__\\py38compat.cpython-38.pyc\n../testing1\\venv\\Lib\\site-packages\\setuptools\\_distutils\\__pycache__\\spawn.cpython-38.pyc\n../testing1\\venv\\Lib\\site-packages\\setuptools\\_distutils\\__pycache__\\sysconfig.cpython-38.pyc\n../testing1\\venv\\Lib\\site-packages\\setuptools\\_distutils\\__pycache__\\text_file.cpython-38.pyc\n../testing1\\venv\\Lib\\site-packages\\setuptools\\_distutils\\__pycache__\\unixccompiler.cpython-38.pyc\n../testing1\\venv\\Lib\\site-packages\\setuptools\\_distutils\\__pycache__\\util.cpython-38.pyc\n../testing1\\venv\\Lib\\site-packages\\setuptools\\_distutils\\__pycache__\\version.cpython-38.pyc\n../testing1\\venv\\Lib\\site-packages\\setuptools\\_distutils\\__pycache__\\versionpredicate.cpython-38.pyc\n../testing1\\venv\\Lib\\site-packages\\setuptools\\_distutils\\__pycache__\\_msvccompiler.cpython-38.pyc\n../testing1\\venv\\Lib\\site-packages\\setuptools\\_distutils\\__pycache__\\__init__.cpython-38.pyc\n../testing1\\venv\\Lib\\site-packages\\setuptools\\_distutils\\archive_util.py\n../testing1\\venv\\Lib\\site-packages\\setuptools\\_distutils\\bcppcompiler.py\n../testing1\\venv\\Lib\\site-packages\\setuptools\\_distutils\\ccompiler.py\n../testing1\\venv\\Lib\\site-packages\\setuptools\\_distutils\\cmd.py\n../testing1\\venv\\Lib\\site-packages\\setuptools\\_distutils\\config.py\n../testing1\\venv\\Lib\\site-packages\\setuptools\\_distutils\\core.py\n../testing1\\venv\\Lib\\site-packages\\setuptools\\_distutils\\cygwinccompiler.py\n../testing1\\venv\\Lib\\site-packages\\setuptools\\_distutils\\debug.py\n../testing1\\venv\\Lib\\site-packages\\setuptools\\_distutils\\dep_util.py\n../testing1\\venv\\Lib\\site-packages\\setuptools\\_distutils\\dir_util.py\n../testing1\\venv\\Lib\\site-packages\\setuptools\\_distutils\\dist.py\n../testing1\\venv\\Lib\\site-packages\\setuptools\\_distutils\\errors.py\n../testing1\\venv\\Lib\\site-packages\\setuptools\\_distutils\\extension.py\n../testing1\\venv\\Lib\\site-packages\\setuptools\\_distutils\\fancy_getopt.py\n../testing1\\venv\\Lib\\site-packages\\setuptools\\_distutils\\filelist.py\n../testing1\\venv\\Lib\\site-packages\\setuptools\\_distutils\\file_util.py\n../testing1\\venv\\Lib\\site-packages\\setuptools\\_distutils\\log.py\n../testing1\\venv\\Lib\\site-packages\\setuptools\\_distutils\\msvc9compiler.py\n../testing1\\venv\\Lib\\site-packages\\setuptools\\_distutils\\msvccompiler.py\n../testing1\\venv\\Lib\\site-packages\\setuptools\\_distutils\\py35compat.py\n../testing1\\venv\\Lib\\site-packages\\setuptools\\_distutils\\py38compat.py\n../testing1\\venv\\Lib\\site-packages\\setuptools\\_distutils\\spawn.py\n../testing1\\venv\\Lib\\site-packages\\setuptools\\_distutils\\sysconfig.py\n../testing1\\venv\\Lib\\site-packages\\setuptools\\_distutils\\text_file.py\n../testing1\\venv\\Lib\\site-packages\\setuptools\\_distutils\\unixccompiler.py\n../testing1\\venv\\Lib\\site-packages\\setuptools\\_distutils\\util.py\n../testing1\\venv\\Lib\\site-packages\\setuptools\\_distutils\\version.py\n../testing1\\venv\\Lib\\site-packages\\setuptools\\_distutils\\versionpredicate.py\n../testing1\\venv\\Lib\\site-packages\\setuptools\\_distutils\\_msvccompiler.py\n../testing1\\venv\\Lib\\site-packages\\setuptools\\_distutils\\__init__.py\n../testing1\\venv\\Lib\\site-packages\\setuptools\\_distutils\\command\n../testing1\\venv\\Lib\\site-packages\\setuptools\\_distutils\\__pycache__\n../testing1\\venv\\Lib\\site-packages\\setuptools\\_vendor\\packaging\\__pycache__\\markers.cpython-38.pyc\n../testing1\\venv\\Lib\\site-packages\\setuptools\\_vendor\\packaging\\__pycache__\\requirements.cpython-38.pyc\n../testing1\\venv\\Lib\\site-packages\\setuptools\\_vendor\\packaging\\__pycache__\\specifiers.cpython-38.pyc\n../testing1\\venv\\Lib\\site-packages\\setuptools\\_vendor\\packaging\\__pycache__\\tags.cpython-38.pyc\n../testing1\\venv\\Lib\\site-packages\\setuptools\\_vendor\\packaging\\__pycache__\\utils.cpython-38.pyc\n../testing1\\venv\\Lib\\site-packages\\setuptools\\_vendor\\packaging\\__pycache__\\version.cpython-38.pyc\n../testing1\\venv\\Lib\\site-packages\\setuptools\\_vendor\\packaging\\__pycache__\\_compat.cpython-38.pyc\n../testing1\\venv\\Lib\\site-packages\\setuptools\\_vendor\\packaging\\__pycache__\\_structures.cpython-38.pyc\n../testing1\\venv\\Lib\\site-packages\\setuptools\\_vendor\\packaging\\__pycache__\\_typing.cpython-38.pyc\n../testing1\\venv\\Lib\\site-packages\\setuptools\\_vendor\\packaging\\__pycache__\\__about__.cpython-38.pyc\n../testing1\\venv\\Lib\\site-packages\\setuptools\\_vendor\\packaging\\__pycache__\\__init__.cpython-38.pyc\n../testing1\\venv\\Lib\\site-packages\\setuptools\\_vendor\\packaging\\markers.py\n../testing1\\venv\\Lib\\site-packages\\setuptools\\_vendor\\packaging\\requirements.py\n../testing1\\venv\\Lib\\site-packages\\setuptools\\_vendor\\packaging\\specifiers.py\n../testing1\\venv\\Lib\\site-packages\\setuptools\\_vendor\\packaging\\tags.py\n../testing1\\venv\\Lib\\site-packages\\setuptools\\_vendor\\packaging\\utils.py\n../testing1\\venv\\Lib\\site-packages\\setuptools\\_vendor\\packaging\\version.py\n../testing1\\venv\\Lib\\site-packages\\setuptools\\_vendor\\packaging\\_compat.py\n../testing1\\venv\\Lib\\site-packages\\setuptools\\_vendor\\packaging\\_structures.py\n../testing1\\venv\\Lib\\site-packages\\setuptools\\_vendor\\packaging\\_typing.py\n../testing1\\venv\\Lib\\site-packages\\setuptools\\_vendor\\packaging\\__about__.py\n../testing1\\venv\\Lib\\site-packages\\setuptools\\_vendor\\packaging\\__init__.py\n../testing1\\venv\\Lib\\site-packages\\setuptools\\_vendor\\packaging\\__pycache__\n../testing1\\venv\\Lib\\site-packages\\setuptools\\_vendor\\__pycache__\\ordered_set.cpython-38.pyc\n../testing1\\venv\\Lib\\site-packages\\setuptools\\_vendor\\__pycache__\\pyparsing.cpython-38.pyc\n../testing1\\venv\\Lib\\site-packages\\setuptools\\_vendor\\__pycache__\\__init__.cpython-38.pyc\n../testing1\\venv\\Lib\\site-packages\\setuptools\\_vendor\\ordered_set.py\n../testing1\\venv\\Lib\\site-packages\\setuptools\\_vendor\\pyparsing.py\n../testing1\\venv\\Lib\\site-packages\\setuptools\\_vendor\\__init__.py\n../testing1\\venv\\Lib\\site-packages\\setuptools\\_vendor\\packaging\n../testing1\\venv\\Lib\\site-packages\\setuptools\\_vendor\\__pycache__\n../testing1\\venv\\Lib\\site-packages\\setuptools\\__pycache__\\archive_util.cpython-38.pyc\n../testing1\\venv\\Lib\\site-packages\\setuptools\\__pycache__\\build_meta.cpython-38.pyc\n../testing1\\venv\\Lib\\site-packages\\setuptools\\__pycache__\\config.cpython-38.pyc\n../testing1\\venv\\Lib\\site-packages\\setuptools\\__pycache__\\depends.cpython-38.pyc\n../testing1\\venv\\Lib\\site-packages\\setuptools\\__pycache__\\dep_util.cpython-38.pyc\n../testing1\\venv\\Lib\\site-packages\\setuptools\\__pycache__\\dist.cpython-38.pyc\n../testing1\\venv\\Lib\\site-packages\\setuptools\\__pycache__\\errors.cpython-38.pyc\n../testing1\\venv\\Lib\\site-packages\\setuptools\\__pycache__\\extension.cpython-38.pyc\n../testing1\\venv\\Lib\\site-packages\\setuptools\\__pycache__\\glob.cpython-38.pyc\n../testing1\\venv\\Lib\\site-packages\\setuptools\\__pycache__\\installer.cpython-38.pyc\n../testing1\\venv\\Lib\\site-packages\\setuptools\\__pycache__\\launch.cpython-38.pyc\n../testing1\\venv\\Lib\\site-packages\\setuptools\\__pycache__\\lib2to3_ex.cpython-38.pyc\n../testing1\\venv\\Lib\\site-packages\\setuptools\\__pycache__\\monkey.cpython-38.pyc\n../testing1\\venv\\Lib\\site-packages\\setuptools\\__pycache__\\msvc.cpython-38.pyc\n../testing1\\venv\\Lib\\site-packages\\setuptools\\__pycache__\\namespaces.cpython-38.pyc\n../testing1\\venv\\Lib\\site-packages\\setuptools\\__pycache__\\package_index.cpython-38.pyc\n../testing1\\venv\\Lib\\site-packages\\setuptools\\__pycache__\\py34compat.cpython-38.pyc\n../testing1\\venv\\Lib\\site-packages\\setuptools\\__pycache__\\sandbox.cpython-38.pyc\n../testing1\\venv\\Lib\\site-packages\\setuptools\\__pycache__\\ssl_support.cpython-38.pyc\n../testing1\\venv\\Lib\\site-packages\\setuptools\\__pycache__\\unicode_utils.cpython-38.pyc\n../testing1\\venv\\Lib\\site-packages\\setuptools\\__pycache__\\version.cpython-38.pyc\n../testing1\\venv\\Lib\\site-packages\\setuptools\\__pycache__\\wheel.cpython-38.pyc\n../testing1\\venv\\Lib\\site-packages\\setuptools\\__pycache__\\windows_support.cpython-38.pyc\n../testing1\\venv\\Lib\\site-packages\\setuptools\\__pycache__\\_deprecation_warning.cpython-38.pyc\n../testing1\\venv\\Lib\\site-packages\\setuptools\\__pycache__\\_imp.cpython-38.pyc\n../testing1\\venv\\Lib\\site-packages\\setuptools\\__pycache__\\__init__.cpython-38.pyc\n../testing1\\venv\\Lib\\site-packages\\setuptools\\archive_util.py\n../testing1\\venv\\Lib\\site-packages\\setuptools\\build_meta.py\n../testing1\\venv\\Lib\\site-packages\\setuptools\\cli-32.exe\n../testing1\\venv\\Lib\\site-packages\\setuptools\\cli-64.exe\n../testing1\\venv\\Lib\\site-packages\\setuptools\\cli.exe\n../testing1\\venv\\Lib\\site-packages\\setuptools\\config.py\n../testing1\\venv\\Lib\\site-packages\\setuptools\\depends.py\n../testing1\\venv\\Lib\\site-packages\\setuptools\\dep_util.py\n../testing1\\venv\\Lib\\site-packages\\setuptools\\dist.py\n../testing1\\venv\\Lib\\site-packages\\setuptools\\errors.py\n../testing1\\venv\\Lib\\site-packages\\setuptools\\extension.py\n../testing1\\venv\\Lib\\site-packages\\setuptools\\glob.py\n../testing1\\venv\\Lib\\site-packages\\setuptools\\gui-32.exe\n../testing1\\venv\\Lib\\site-packages\\setuptools\\gui-64.exe\n../testing1\\venv\\Lib\\site-packages\\setuptools\\gui.exe\n../testing1\\venv\\Lib\\site-packages\\setuptools\\installer.py\n../testing1\\venv\\Lib\\site-packages\\setuptools\\launch.py\n../testing1\\venv\\Lib\\site-packages\\setuptools\\lib2to3_ex.py\n../testing1\\venv\\Lib\\site-packages\\setuptools\\monkey.py\n../testing1\\venv\\Lib\\site-packages\\setuptools\\msvc.py\n../testing1\\venv\\Lib\\site-packages\\setuptools\\namespaces.py\n../testing1\\venv\\Lib\\site-packages\\setuptools\\package_index.py\n../testing1\\venv\\Lib\\site-packages\\setuptools\\py34compat.py\n../testing1\\venv\\Lib\\site-packages\\setuptools\\sandbox.py\n../testing1\\venv\\Lib\\site-packages\\setuptools\\script (dev).tmpl\n../testing1\\venv\\Lib\\site-packages\\setuptools\\script.tmpl\n../testing1\\venv\\Lib\\site-packages\\setuptools\\ssl_support.py\n../testing1\\venv\\Lib\\site-packages\\setuptools\\unicode_utils.py\n../testing1\\venv\\Lib\\site-packages\\setuptools\\version.py\n../testing1\\venv\\Lib\\site-packages\\setuptools\\wheel.py\n../testing1\\venv\\Lib\\site-packages\\setuptools\\windows_support.py\n../testing1\\venv\\Lib\\site-packages\\setuptools\\_deprecation_warning.py\n../testing1\\venv\\Lib\\site-packages\\setuptools\\_imp.py\n../testing1\\venv\\Lib\\site-packages\\setuptools\\__init__.py\n../testing1\\venv\\Lib\\site-packages\\setuptools\\command\n../testing1\\venv\\Lib\\site-packages\\setuptools\\extern\n../testing1\\venv\\Lib\\site-packages\\setuptools\\_distutils\n../testing1\\venv\\Lib\\site-packages\\setuptools\\_vendor\n../testing1\\venv\\Lib\\site-packages\\setuptools\\__pycache__\n../testing1\\venv\\Lib\\site-packages\\setuptools-53.0.0.dist-info\\dependency_links.txt\n../testing1\\venv\\Lib\\site-packages\\setuptools-53.0.0.dist-info\\entry_points.txt\n../testing1\\venv\\Lib\\site-packages\\setuptools-53.0.0.dist-info\\INSTALLER\n../testing1\\venv\\Lib\\site-packages\\setuptools-53.0.0.dist-info\\LICENSE\n../testing1\\venv\\Lib\\site-packages\\setuptools-53.0.0.dist-info\\METADATA\n../testing1\\venv\\Lib\\site-packages\\setuptools-53.0.0.dist-info\\RECORD\n../testing1\\venv\\Lib\\site-packages\\setuptools-53.0.0.dist-info\\top_level.txt\n../testing1\\venv\\Lib\\site-packages\\setuptools-53.0.0.dist-info\\WHEEL\n../testing1\\venv\\Lib\\site-packages\\_distutils_hack\\__pycache__\\override.cpython-38.pyc\n../testing1\\venv\\Lib\\site-packages\\_distutils_hack\\__pycache__\\__init__.cpython-38.pyc\n../testing1\\venv\\Lib\\site-packages\\_distutils_hack\\override.py\n../testing1\\venv\\Lib\\site-packages\\_distutils_hack\\__init__.py\n../testing1\\venv\\Lib\\site-packages\\_distutils_hack\\__pycache__\n../testing1\\venv\\Lib\\site-packages\\distutils-precedence.pth\n../testing1\\venv\\Lib\\site-packages\\pip\n../testing1\\venv\\Lib\\site-packages\\pip-21.0.1.dist-info\n../testing1\\venv\\Lib\\site-packages\\pkg_resources\n../testing1\\venv\\Lib\\site-packages\\setuptools\n../testing1\\venv\\Lib\\site-packages\\setuptools-53.0.0.dist-info\n../testing1\\venv\\Lib\\site-packages\\_distutils_hack\n../testing1\\venv\\Lib\\site-packages\n../testing1\\venv\\Scripts\\activate\n../testing1\\venv\\Scripts\\activate.bat\n../testing1\\venv\\Scripts\\Activate.ps1\n../testing1\\venv\\Scripts\\deactivate.bat\n../testing1\\venv\\Scripts\\pip.exe\n../testing1\\venv\\Scripts\\pip3.8.exe\n../testing1\\venv\\Scripts\\pip3.exe\n../testing1\\venv\\Scripts\\python.exe\n../testing1\\venv\\Scripts\\pythonw.exe\n../testing1\\venv\\pyvenv.cfg\n../testing1\\venv\\Include\n../testing1\\venv\\Lib\n../testing1\\venv\\Scripts\n../testing1\\index.md\n../testing1\\set1.py\n../testing1\\set1sol.py\n../testing1\\.idea\n../testing1\\venv\n../testing2\\__pycache__\\calc.cpython-38.pyc\n../testing2\\calc.py\n../testing2\\index.md\n../testing2\\test_calc.py\n../testing2\\__pycache__\n../testing3\\__pycache__\\employee.cpython-38.pyc\n../testing3\\employee.py\n../testing3\\index.md\n../testing3\\test_employee.py\n../testing3\\__pycache__\n../__pycache__\\python01.cpython-38.pyc\n../__pycache__\\python02.cpython-38.pyc\n../closure1.py\n../closure2.py\n../closure3.py\n../closure4.py\n../code.md\n../first_class_function1.py\n../first_class_function2.py\n../first_class_function3.py\n../first_class_function4.py\n../first_class_function5.py\n../index.md\n../passwd.py\n../python01.py\n../python02.py\n../python03.py\n../python04a.py\n../python04b.py\n../python04c.py\n../python04d.py\n../python05.py\n../python06a.py\n../python06b.py\n../python07a.py\n../python07b.py\n../python08.py\n../python09.py\n../concurrency\n../gui\n../interactive\n../lexical_analyzer\n../multiprocessing\n../notebooks\n../testing1\n../testing2\n../testing3\n../__pycache__\n"
     ]
    }
   ],
   "source": [
    "import os\n",
    "for root, dirs, files in os.walk(\"../\", topdown=False):\n",
    "   for name in files:\n",
    "      print(os.path.join(root, name))\n",
    "   for name in dirs:\n",
    "      print(os.path.join(root, name))"
   ]
  },
  {
   "cell_type": "code",
   "execution_count": null,
   "metadata": {},
   "outputs": [],
   "source": []
  }
 ],
 "metadata": {
  "kernelspec": {
   "display_name": "Python 3",
   "language": "python",
   "name": "python3"
  },
  "language_info": {
   "codemirror_mode": {
    "name": "ipython",
    "version": 3
   },
   "file_extension": ".py",
   "mimetype": "text/x-python",
   "name": "python",
   "nbconvert_exporter": "python",
   "pygments_lexer": "ipython3",
   "version": "3.8.0-final"
  }
 },
 "nbformat": 4,
 "nbformat_minor": 2
}