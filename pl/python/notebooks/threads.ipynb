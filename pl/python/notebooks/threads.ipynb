{
 "metadata": {
  "language_info": {
   "codemirror_mode": {
    "name": "ipython",
    "version": 3
   },
   "file_extension": ".py",
   "mimetype": "text/x-python",
   "name": "python",
   "nbconvert_exporter": "python",
   "pygments_lexer": "ipython3",
   "version": "3.8.0-final"
  },
  "orig_nbformat": 2,
  "kernelspec": {
   "name": "python3",
   "display_name": "Python 3.8.0 64-bit",
   "metadata": {
    "interpreter": {
     "hash": "2334294e789e06453e89f7d5c3c2573679701f9bb5b76ad2158f91cca5c9244c"
    }
   }
  }
 },
 "nbformat": 4,
 "nbformat_minor": 2,
 "cells": [
  {
   "source": [
    "    Τμήμα Πληροφορικής και Τηλεπικοινωνιών - Άρτα \n",
    "    Πανεπιστήμιο Ιωαννίνων \n",
    "\n",
    "    Γκόγκος Χρήστος \n",
    "    http://chgogos.github.io/\n",
    "    Εαρινό εξάμηνο 2020-2021"
   ],
   "cell_type": "markdown",
   "metadata": {}
  },
  {
   "source": [
    "# Νήματα (threads)\n",
    "\n",
    "H Python υποστηρίζει τον ταυτοχρονισμό με τη χρήση νημάτων και την παραλληλία με τη χρήση πολυδιεργασίας\n",
    "\n",
    "    I/O bound --> threading\n",
    "    CPU bound --> multiprocessing"
   ],
   "cell_type": "markdown",
   "metadata": {}
  },
  {
   "cell_type": "code",
   "execution_count": null,
   "metadata": {},
   "outputs": [],
   "source": [
    "# εκτέλεση 2 φορές ενός κώδικα με χρόνο εκτέλεσης 1 δευτερόλεπτο.\n",
    "\n",
    "import time\n",
    "\n",
    "start = time.perf_counter()\n",
    "\n",
    "def func():\n",
    "    print('Ύπνος')\n",
    "    time.sleep(1)\n",
    "    print('Αφύπνιση')\n",
    "\n",
    "func()\n",
    "func()\n",
    "finish = time.perf_counter()\n",
    "print(f'Τερματισμός μετά από {round(finish-start, 2)} δευτερόλεπτα')"
   ]
  },
  {
   "cell_type": "code",
   "execution_count": null,
   "metadata": {},
   "outputs": [],
   "source": [
    "# εκτέλεση 2 φορές ενός κώδικα με χρόνο εκτέλεσης 1 δευτερόλεπτο, κάθε εκτέλση σε διαφορετικό thread\n",
    "\n",
    "import time\n",
    "\n",
    "start = time.perf_counter()\n",
    "\n",
    "def func():\n",
    "    print('Ύπνος')\n",
    "    time.sleep(1)\n",
    "    print('Ύπνος')\n",
    "\n",
    "t1 =  threading.Thread(target=func)\n",
    "t2 =  threading.Thread(target=func)\n",
    "t1.start()\n",
    "t2.start()\n",
    "\n",
    "t1.join()\n",
    "t2.join()\n",
    "\n",
    "finish = time.perf_counter()\n",
    "print(f'Τερματισμός μετά από {round(finish-start, 2)} δευτερόλεπτα')"
   ]
  },
  {
   "cell_type": "code",
   "execution_count": null,
   "metadata": {},
   "outputs": [],
   "source": [
    "# Εκτέλεση 10 νημάτων που τοποθετούνται σε λίστα, σε κάθε νήμα αποδίδεται ένας αριθμός νήματος\n",
    "\n",
    "import threading\n",
    "import time\n",
    "\n",
    "start = time.perf_counter()\n",
    "\n",
    "def func(tid, seconds):\n",
    "    print(f'Το νήμα {tid} θα κοιμηθεί για {seconds} δευτερόλεπτα')\n",
    "    time.sleep(seconds)\n",
    "    print(f'Αφύπνιση νήματος {tid}')\n",
    "\n",
    "threads = []\n",
    "for i in range(10):\n",
    "    t = threading.Thread(target=func, args=[i, 1])\n",
    "    t.start()\n",
    "    threads.append(t)\n",
    "\n",
    "for t in threads:\n",
    "    t.join()\n",
    "\n",
    "finish = time.perf_counter()\n",
    "print(f'Τερματισμός μετά από {round(finish-start, 2)} δευτερόλεπτα')"
   ]
  },
  {
   "cell_type": "code",
   "execution_count": 29,
   "metadata": {},
   "outputs": [
    {
     "output_type": "stream",
     "name": "stdout",
     "text": [
      "Το νήμα 0 θα κοιμηθεί για 5 δευτερόλεπτα\n",
      "Το νήμα 1 θα κοιμηθεί για 4 δευτερόλεπτα\n",
      "Το νήμα 2 θα κοιμηθεί για 3 δευτερόλεπτα\n",
      "Το νήμα 3 θα κοιμηθεί για 2 δευτερόλεπτα\n",
      "Το νήμα 4 θα κοιμηθεί για 1 δευτερόλεπτα\n",
      "Αφύπνιση νήματος 4\n",
      "Αποτέλεσμα=4\n",
      "Αφύπνιση νήματος 3\n",
      "Αποτέλεσμα=3\n",
      "Αφύπνιση νήματος 2\n",
      "Αποτέλεσμα=2\n",
      "Αφύπνιση νήματος 1\n",
      "Αποτέλεσμα=1\n",
      "Αφύπνιση νήματος 0\n",
      "Αποτέλεσμα=0\n",
      "Τερματισμός μετά από 5.01 δευτερόλεπτα\n"
     ]
    }
   ],
   "source": [
    "# Εκτέλεση 10 νημάτων, το κάθε νήμα επιστρέφει ως αποτέλεσμα τον αριθμό νήματος του\n",
    "# ThreadPoolExecutor (χρήση με context manager) \n",
    "# >= Python 3.2\n",
    "\n",
    "import concurrent.futures\n",
    "import time\n",
    "\n",
    "start = time.perf_counter()\n",
    "\n",
    "def func(tid, seconds):\n",
    "    print(f'Το νήμα {tid} θα κοιμηθεί για {seconds} δευτερόλεπτα')\n",
    "    time.sleep(seconds)\n",
    "    print(f'Αφύπνιση νήματος {tid}')\n",
    "    return tid\n",
    "\n",
    "with concurrent.futures.ThreadPoolExecutor() as executor:\n",
    "    secs = [5,4,3,2,1]\n",
    "    results = [executor.submit(func, tid=i, seconds=sec) for i, sec in zip(range(5), secs)]\n",
    "    \n",
    "    for f in concurrent.futures.as_completed(results):\n",
    "        print(f'Αποτέλεσμα={f.result()}')\n",
    "\n",
    "finish = time.perf_counter()\n",
    "print(f'Τερματισμός μετά από {round(finish-start, 2)} δευτερόλεπτα')"
   ]
  },
  {
   "cell_type": "code",
   "execution_count": 1,
   "metadata": {},
   "outputs": [
    {
     "output_type": "stream",
     "name": "stdout",
     "text": [
      "Το νήμα 0 θα κοιμηθεί για 5 δευτερόλεπτα\n",
      "Το νήμα 1 θα κοιμηθεί για 4 δευτερόλεπτα\n",
      "Το νήμα 2 θα κοιμηθεί για 3 δευτερόλεπτα\n",
      "Το νήμα 3 θα κοιμηθεί για 2 δευτερόλεπτα\n",
      "Το νήμα 4 θα κοιμηθεί για 1 δευτερόλεπτα\n",
      "Αφύπνιση νήματος 4\n",
      "Αφύπνιση νήματος 3\n",
      "Αφύπνιση νήματος 2\n",
      "Αφύπνιση νήματος 1\n",
      "Αφύπνιση νήματος 0\n",
      "Αποτέλεσμα=0\n",
      "Αποτέλεσμα=1\n",
      "Αποτέλεσμα=2\n",
      "Αποτέλεσμα=3\n",
      "Αποτέλεσμα=4\n",
      "Τερματισμός μετά από 5.02 δευτερόλεπτα\n"
     ]
    }
   ],
   "source": [
    "# Εκτέλεση 10 νημάτων, το κάθε νήμα επιστρέφει ως αποτέλεσμα τον αριθμό νήματος του\n",
    "# Απούστερος τρόπος με χρήση executor.map\n",
    "\n",
    "import concurrent.futures\n",
    "import time\n",
    "\n",
    "start = time.perf_counter()\n",
    "\n",
    "def func(tid, seconds):\n",
    "    print(f'Το νήμα {tid} θα κοιμηθεί για {seconds} δευτερόλεπτα')\n",
    "    time.sleep(seconds)\n",
    "    print(f'Αφύπνιση νήματος {tid}')\n",
    "    return tid\n",
    "\n",
    "with concurrent.futures.ThreadPoolExecutor() as executor:\n",
    "    secs = [5,4,3,2,1]\n",
    "    results = executor.map(func, range(5), secs)\n",
    "    \n",
    "    for result in results:     \n",
    "        print(f'Αποτέλεσμα={result}')\n",
    "\n",
    "finish = time.perf_counter()\n",
    "print(f'Τερματισμός μετά από {round(finish-start, 2)} δευτερόλεπτα')"
   ]
  },
  {
   "cell_type": "code",
   "execution_count": null,
   "metadata": {},
   "outputs": [],
   "source": []
  }
 ]
}