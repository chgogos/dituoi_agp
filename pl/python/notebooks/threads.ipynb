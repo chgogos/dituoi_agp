{
 "metadata": {
  "language_info": {
   "codemirror_mode": {
    "name": "ipython",
    "version": 3
   },
   "file_extension": ".py",
   "mimetype": "text/x-python",
   "name": "python",
   "nbconvert_exporter": "python",
   "pygments_lexer": "ipython3",
   "version": "3.8.0-final"
  },
  "orig_nbformat": 2,
  "kernelspec": {
   "name": "python3",
   "display_name": "Python 3.8.0 64-bit",
   "metadata": {
    "interpreter": {
     "hash": "2334294e789e06453e89f7d5c3c2573679701f9bb5b76ad2158f91cca5c9244c"
    }
   }
  }
 },
 "nbformat": 4,
 "nbformat_minor": 2,
 "cells": [
  {
   "source": [
    "    Τμήμα Πληροφορικής και Τηλεπικοινωνιών - Άρτα \n",
    "    Πανεπιστήμιο Ιωαννίνων \n",
    "\n",
    "    Γκόγκος Χρήστος \n",
    "    http://chgogos.github.io/\n",
    "    Εαρινό εξάμηνο 2020-2021"
   ],
   "cell_type": "markdown",
   "metadata": {}
  },
  {
   "source": [
    "# Νήματα (threads)\n",
    "\n",
    "Νήμα είναι μια διακριτή ροή εκτέλεσης ενός προγράμματος. Ένα πρόγραμμα μπορεί να εκτελεί ταυτόχρονα (αλλά όχι την ίδια χρονική στιγμή στην Python) περισσότερα από ένα νήματα.\n",
    "\n",
    "H Python υποστηρίζει τον ταυτοχρονισμό με τη χρήση νημάτων και την παραλληλία με τη χρήση πολυδιεργασίας (multiprocessing)\n",
    "\n",
    "    I/O bound (εργασίες που συχνά περιμένουν την εκτέλεση εξωτερικών γεγονότων) --> threading \n",
    "    CPU bound (εργασίες που απασχολούν σημαντικά την CPU) --> multiprocessing"
   ],
   "cell_type": "markdown",
   "metadata": {}
  },
  {
   "cell_type": "code",
   "execution_count": null,
   "metadata": {},
   "outputs": [],
   "source": [
    "# παράδειγμα 1\n",
    "# δημιουργία και εκτέλεση ενός νήματος\n",
    "\n",
    "import threading\n",
    "\n",
    "def work(tid):\n",
    "    internal_thread_id = threading.get_ident()\n",
    "    print(f\"Μήνυμα από το νήμα {tid} - {internal_thread_id}\")\n",
    "\n",
    "t = threading.Thread(target=work, args=(1,))\n",
    "t.start()\n",
    "\n",
    "t.join()\n",
    "print(f\"Μήνυμα από το κύριο νήμα {threading.get_ident()}\")"
   ]
  },
  {
   "cell_type": "code",
   "execution_count": null,
   "metadata": {},
   "outputs": [],
   "source": [
    "# παράδειγμα 2\n",
    "# βήμα 1/5 \n",
    "# εκτέλεση 2 διαδοχικές φορές ενός κώδικα με χρόνο εκτέλεσης 1 δευτερόλεπτο.\n",
    "\n",
    "import time\n",
    "\n",
    "start = time.perf_counter()\n",
    "\n",
    "def func():\n",
    "    print('Ύπνος')\n",
    "    time.sleep(1) # προσομειώνει μια I/O bound εργασία\n",
    "    print('Αφύπνιση')\n",
    "\n",
    "func()\n",
    "func()\n",
    "finish = time.perf_counter()\n",
    "print(f'Τερματισμός μετά από {round(finish-start, 2)} δευτερόλεπτα')"
   ]
  },
  {
   "cell_type": "code",
   "execution_count": null,
   "metadata": {},
   "outputs": [],
   "source": [
    "# βήμα 2/5\n",
    "# εκτέλεση 2 φορές ενός κώδικα με χρόνο εκτέλεσης 1 δευτερόλεπτο, κάθε εκτέλεση πραγματοποιείται σε διαφορετικό thread\n",
    "\n",
    "import threading\n",
    "import time\n",
    "\n",
    "\n",
    "start = time.perf_counter()\n",
    "\n",
    "def func():\n",
    "    print('Ύπνος')\n",
    "    time.sleep(1)\n",
    "    print('Αφύπνιση')\n",
    "\n",
    "t1 = threading.Thread(target=func)\n",
    "t2 = threading.Thread(target=func)\n",
    "t1.start()\n",
    "t2.start()\n",
    "\n",
    "t1.join()\n",
    "t2.join()\n",
    "\n",
    "finish = time.perf_counter()\n",
    "print(f'Τερματισμός μετά από {round(finish-start, 2)} δευτερόλεπτα')"
   ]
  },
  {
   "cell_type": "code",
   "execution_count": null,
   "metadata": {},
   "outputs": [],
   "source": [
    "# βήμα 3/5\n",
    "# Εκτέλεση 10 νημάτων που τοποθετούνται σε λίστα, σε κάθε νήμα αποδίδεται ένας αριθμός νήματος\n",
    "\n",
    "import threading\n",
    "import time\n",
    "\n",
    "start = time.perf_counter()\n",
    "\n",
    "def func(tid, seconds):\n",
    "    print(f'Το νήμα {tid} θα κοιμηθεί για {seconds} δευτερόλεπτα')\n",
    "    time.sleep(seconds)\n",
    "    print(f'Αφύπνιση νήματος {tid}')\n",
    "\n",
    "threads = []\n",
    "for i in range(10):\n",
    "    t = threading.Thread(target=func, args=[i, 1])\n",
    "    t.start()\n",
    "    threads.append(t)\n",
    "\n",
    "for t in threads:\n",
    "    t.join()\n",
    "\n",
    "finish = time.perf_counter()\n",
    "print(f'Τερματισμός μετά από {round(finish-start, 2)} δευτερόλεπτα')"
   ]
  },
  {
   "cell_type": "code",
   "execution_count": null,
   "metadata": {},
   "outputs": [],
   "source": [
    "# βήμα 4/5\n",
    "# Εκτέλεση 10 νημάτων, το κάθε νήμα επιστρέφει ως αποτέλεσμα τον αριθμό νήματος του\n",
    "# ThreadPoolExecutor (χρήση με context manager) \n",
    "# >= Python 3.2\n",
    "\n",
    "import concurrent.futures\n",
    "import time\n",
    "\n",
    "start = time.perf_counter()\n",
    "\n",
    "def func(tid, seconds):\n",
    "    print(f'Το νήμα {tid} θα κοιμηθεί για {seconds} δευτερόλεπτα')\n",
    "    time.sleep(seconds)\n",
    "    print(f'Αφύπνιση νήματος {tid}')\n",
    "    return tid\n",
    "\n",
    "with concurrent.futures.ThreadPoolExecutor() as executor:\n",
    "    secs = [5,4,3,2,1]\n",
    "    results = [executor.submit(func, tid=i, seconds=sec) for i, sec in zip(range(5), secs)]\n",
    "    \n",
    "    for f in concurrent.futures.as_completed(results):\n",
    "        print(f'Αποτέλεσμα={f.result()}')\n",
    "\n",
    "finish = time.perf_counter()\n",
    "print(f'Τερματισμός μετά από {round(finish-start, 2)} δευτερόλεπτα')"
   ]
  },
  {
   "cell_type": "code",
   "execution_count": null,
   "metadata": {},
   "outputs": [],
   "source": [
    "# βήμα 5/5\n",
    "# Εκτέλεση 10 νημάτων, το κάθε νήμα επιστρέφει ως αποτέλεσμα τον αριθμό νήματος του\n",
    "# Απούστερος τρόπος με χρήση executor.map\n",
    "\n",
    "import concurrent.futures\n",
    "import time\n",
    "\n",
    "start = time.perf_counter()\n",
    "\n",
    "def func(tid, seconds):\n",
    "    print(f'Το νήμα {tid} θα κοιμηθεί για {seconds} δευτερόλεπτα')\n",
    "    time.sleep(seconds)\n",
    "    print(f'Αφύπνιση νήματος {tid}')\n",
    "    return tid\n",
    "\n",
    "with concurrent.futures.ThreadPoolExecutor() as executor:\n",
    "    secs = [5,4,3,2,1]\n",
    "    results = executor.map(func, range(5), secs)\n",
    "    \n",
    "    for result in results:     \n",
    "        print(f'Αποτέλεσμα={result}')\n",
    "\n",
    "finish = time.perf_counter()\n",
    "print(f'Τερματισμός μετά από {round(finish-start, 2)} δευτερόλεπτα')"
   ]
  },
  {
   "cell_type": "code",
   "execution_count": null,
   "metadata": {},
   "outputs": [],
   "source": [
    "# Παράδειγμα 3\n",
    "# Δύο νήματα, το πρώτο αυξάνει την global μεταβλητή counter κατά 1, 1000000 φορές και το δεύτερο νήμα μειώνει τη μεταβλητή counter κατά 1, 1000000 φορές. Συνεπώς, η τελική αναμενόμενη τιμή του counter είναι 0.\n",
    "\n",
    "import threading\n",
    "import time\n",
    "\n",
    "def work1(lock):\n",
    "    global counter \n",
    "    for _ in range(1000000):\n",
    "        with lock:\n",
    "            counter +=1\n",
    "\n",
    "def work2(lock):\n",
    "    global counter\n",
    "    for _ in range(1000000):\n",
    "        with lock:\n",
    "            counter -=1\n",
    "\n",
    "start = time.perf_counter()\n",
    "\n",
    "counter = 0\n",
    "lock = threading.Lock()\n",
    "\n",
    "t1 =  threading.Thread(target=work1, args=[lock])\n",
    "t2 =  threading.Thread(target=work2, args=[lock])\n",
    "t1.start()\n",
    "t2.start()\n",
    "\n",
    "t1.join()\n",
    "t2.join()\n",
    "\n",
    "finish = time.perf_counter()\n",
    "print(f'Τερματισμός μετά από {round(finish-start, 2)} δευτερόλεπτα')\n",
    "print(f'Counter={counter}')"
   ]
  },
  {
   "source": [
    "## References\n",
    "\n",
    "* [Real Python ](https://realpython.com/intro-to-python-threading/)\n",
    "* [Python Land - Concurrency in Python](https://medium.com/pythonland/concurrency-in-python-832dc54d35f6)"
   ],
   "cell_type": "markdown",
   "metadata": {}
  }
 ]
}