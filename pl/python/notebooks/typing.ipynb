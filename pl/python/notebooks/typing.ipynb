{
 "cells": [
  {
   "cell_type": "markdown",
   "metadata": {},
   "source": [
    "# Typing module\n",
    "\n",
    "Το module typing έχει εισαχθεί στην Python στην έκδοση 3.5"
   ]
  },
  {
   "cell_type": "code",
   "execution_count": 1,
   "metadata": {},
   "outputs": [],
   "source": [
    "# variable annotations\n",
    "a: int = 42\n",
    "b: float = 3.14\n",
    "c: str = \"arta\"\n",
    "d: bool = True"
   ]
  },
  {
   "cell_type": "code",
   "execution_count": 4,
   "metadata": {},
   "outputs": [],
   "source": [
    "# Λίστες, λεξικά, σύνολα\n",
    "\n",
    "from typing import List, Dict, Set\n",
    "\n",
    "# Λίστα με λίστες ακεραίων\n",
    "myList: List[List[int]] = [[1,2,3],[4,5,6]]\n",
    "\n",
    "myDict: Dict[str, str]={\"key1\",\"value1\"}\n",
    "mySet: Set[str] = {\"a\", \"b\"}"
   ]
  },
  {
   "cell_type": "code",
   "execution_count": 5,
   "metadata": {},
   "outputs": [
    {
     "data": {
      "text/plain": [
       "3"
      ]
     },
     "execution_count": 5,
     "metadata": {},
     "output_type": "execute_result"
    }
   ],
   "source": [
    "# function annotations\n",
    "def add_numbers(a:int, b:int) -> int:\n",
    "    return a+ b\n",
    "\n",
    "add_numbers(1,2)"
   ]
  },
  {
   "cell_type": "code",
   "execution_count": 6,
   "metadata": {},
   "outputs": [
    {
     "data": {
      "text/plain": [
       "6"
      ]
     },
     "execution_count": 6,
     "metadata": {},
     "output_type": "execute_result"
    }
   ],
   "source": [
    "# custom τύποι\n",
    "\n",
    "MyVector = List[float]\n",
    "\n",
    "def fun(a: MyVector)-> float:\n",
    "    return sum(a)\n",
    "\n",
    "fun([1,2,3])"
   ]
  },
  {
   "cell_type": "code",
   "execution_count": 7,
   "metadata": {},
   "outputs": [
    {
     "data": {
      "text/plain": [
       "42"
      ]
     },
     "execution_count": 7,
     "metadata": {},
     "output_type": "execute_result"
    }
   ],
   "source": [
    "# Optional\n",
    "from typing import Optional\n",
    "\n",
    "# η συνάρτηση δέχεται μια προαιρετική μεταβλητή που είναι ακέραια\n",
    "def fun(x: Optional[int]=42) -> int:\n",
    "    return x\n",
    "\n",
    "fun()"
   ]
  },
  {
   "cell_type": "code",
   "execution_count": 8,
   "metadata": {},
   "outputs": [
    {
     "data": {
      "text/plain": [
       "'test'"
      ]
     },
     "execution_count": 8,
     "metadata": {},
     "output_type": "execute_result"
    }
   ],
   "source": [
    "# Any type\n",
    "from typing import Any\n",
    "\n",
    "def fun(x: Any) -> Any:\n",
    "    return x\n",
    "\n",
    "fun(\"test\")"
   ]
  },
  {
   "cell_type": "code",
   "execution_count": 9,
   "metadata": {},
   "outputs": [
    {
     "data": {
      "text/plain": [
       "3"
      ]
     },
     "execution_count": 9,
     "metadata": {},
     "output_type": "execute_result"
    }
   ],
   "source": [
    "# Sequence type\n",
    "from typing import Sequence\n",
    "\n",
    "def fun(a: Sequence[int]) -> int:\n",
    "    return len(a)\n",
    "\n",
    "fun((1,2,3))"
   ]
  },
  {
   "cell_type": "code",
   "execution_count": 11,
   "metadata": {},
   "outputs": [
    {
     "data": {
      "text/plain": [
       "(1, 2, 3)"
      ]
     },
     "execution_count": 11,
     "metadata": {},
     "output_type": "execute_result"
    }
   ],
   "source": [
    "# Tuple type\n",
    "from typing import Tuple\n",
    "\n",
    "x: Tuple[int,int,int]=(1,2,3)\n",
    "x"
   ]
  },
  {
   "cell_type": "code",
   "execution_count": 12,
   "metadata": {},
   "outputs": [
    {
     "data": {
      "text/plain": [
       "3"
      ]
     },
     "execution_count": 12,
     "metadata": {},
     "output_type": "execute_result"
    }
   ],
   "source": [
    "# Callable type (function as a parameter)\n",
    "\n",
    "from typing import Callable\n",
    "\n",
    "def add(x:int, y:int)->int:\n",
    "    return x+y\n",
    "\n",
    "def fun(f: Callable[[int,int], int]) -> int:\n",
    "    return f(1,2)\n",
    "\n",
    "fun(add)"
   ]
  },
  {
   "cell_type": "code",
   "execution_count": 13,
   "metadata": {},
   "outputs": [
    {
     "data": {
      "text/plain": [
       "1"
      ]
     },
     "execution_count": 13,
     "metadata": {},
     "output_type": "execute_result"
    }
   ],
   "source": [
    "# Generics\n",
    "\n",
    "from typing import TypeVar\n",
    "\n",
    "T = TypeVar('T')\n",
    "\n",
    "def get_item(lst: List[T], index: int) -> T:\n",
    "    return lst[index]\n",
    "\n",
    "get_item([1,2,3],0)"
   ]
  },
  {
   "cell_type": "code",
   "execution_count": null,
   "metadata": {},
   "outputs": [],
   "source": []
  }
 ],
 "metadata": {
  "kernelspec": {
   "display_name": "Python 3.8.13 ('myenv')",
   "language": "python",
   "name": "python3"
  },
  "language_info": {
   "codemirror_mode": {
    "name": "ipython",
    "version": 3
   },
   "file_extension": ".py",
   "mimetype": "text/x-python",
   "name": "python",
   "nbconvert_exporter": "python",
   "pygments_lexer": "ipython3",
   "version": "3.8.13"
  },
  "orig_nbformat": 4,
  "vscode": {
   "interpreter": {
    "hash": "974659bc90c8ddddc11b19c7e94fd91162a2277b0607bb1c923d993f45e68608"
   }
  }
 },
 "nbformat": 4,
 "nbformat_minor": 2
}
