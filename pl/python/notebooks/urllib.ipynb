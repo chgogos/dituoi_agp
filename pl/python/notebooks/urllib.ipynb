{
 "metadata": {
  "language_info": {
   "codemirror_mode": {
    "name": "ipython",
    "version": 3
   },
   "file_extension": ".py",
   "mimetype": "text/x-python",
   "name": "python",
   "nbconvert_exporter": "python",
   "pygments_lexer": "ipython3",
   "version": "3.8.0-final"
  },
  "orig_nbformat": 2,
  "kernelspec": {
   "name": "python3",
   "display_name": "Python 3.8.0 64-bit",
   "metadata": {
    "interpreter": {
     "hash": "2334294e789e06453e89f7d5c3c2573679701f9bb5b76ad2158f91cca5c9244c"
    }
   }
  }
 },
 "nbformat": 4,
 "nbformat_minor": 2,
 "cells": [
  {
   "source": [
    "# urllib\n",
    "\n",
    "    URL = Uniform Resource Locator\n",
    "    Protocol: http, https, ftp, ...\n",
    "    Host: https://www.dit.uoi.gr\n",
    "    Port: http=80, https=443\n",
    "    Path: \n",
    "    Querystring:\n",
    "    Fragment: \n",
    "\n",
    "\n",
    "    responses\n",
    "    200 επιτυχία\n",
    "    300 redirect\n",
    "    400 αποτυχία\n",
    "    500 server error"
   ],
   "cell_type": "markdown",
   "metadata": {}
  },
  {
   "cell_type": "code",
   "execution_count": 1,
   "metadata": {},
   "outputs": [
    {
     "output_type": "stream",
     "name": "stdout",
     "text": [
      "['__builtins__', '__cached__', '__doc__', '__file__', '__loader__', '__name__', '__package__', '__path__', '__spec__', 'error', 'parse', 'request', 'response']\n"
     ]
    }
   ],
   "source": [
    "import urllib\n",
    "\n",
    "print(dir(urllib))"
   ]
  },
  {
   "cell_type": "code",
   "execution_count": 2,
   "metadata": {},
   "outputs": [
    {
     "output_type": "stream",
     "name": "stdout",
     "text": [
      "['AbstractBasicAuthHandler', 'AbstractDigestAuthHandler', 'AbstractHTTPHandler', 'BaseHandler', 'CacheFTPHandler', 'ContentTooShortError', 'DataHandler', 'FTPHandler', 'FancyURLopener', 'FileHandler', 'HTTPBasicAuthHandler', 'HTTPCookieProcessor', 'HTTPDefaultErrorHandler', 'HTTPDigestAuthHandler', 'HTTPError', 'HTTPErrorProcessor', 'HTTPHandler', 'HTTPPasswordMgr', 'HTTPPasswordMgrWithDefaultRealm', 'HTTPPasswordMgrWithPriorAuth', 'HTTPRedirectHandler', 'HTTPSHandler', 'MAXFTPCACHE', 'OpenerDirector', 'ProxyBasicAuthHandler', 'ProxyDigestAuthHandler', 'ProxyHandler', 'Request', 'URLError', 'URLopener', 'UnknownHandler', '__all__', '__builtins__', '__cached__', '__doc__', '__file__', '__loader__', '__name__', '__package__', '__spec__', '__version__', '_cut_port_re', '_ftperrors', '_have_ssl', '_localhost', '_noheaders', '_opener', '_parse_proxy', '_proxy_bypass_macosx_sysconf', '_randombytes', '_safe_gethostbyname', '_splitattr', '_splithost', '_splitpasswd', '_splitport', '_splitquery', '_splittag', '_splittype', '_splituser', '_splitvalue', '_thishost', '_to_bytes', '_url_tempfiles', 'addclosehook', 'addinfourl', 'base64', 'bisect', 'build_opener', 'contextlib', 'email', 'ftpcache', 'ftperrors', 'ftpwrapper', 'getproxies', 'getproxies_environment', 'getproxies_registry', 'hashlib', 'http', 'install_opener', 'io', 'localhost', 'noheaders', 'os', 'parse_http_list', 'parse_keqv_list', 'pathname2url', 'posixpath', 'proxy_bypass', 'proxy_bypass_environment', 'proxy_bypass_registry', 'quote', 're', 'request_host', 'socket', 'ssl', 'string', 'sys', 'tempfile', 'thishost', 'time', 'unquote', 'unquote_to_bytes', 'unwrap', 'url2pathname', 'urlcleanup', 'urljoin', 'urlopen', 'urlparse', 'urlretrieve', 'urlsplit', 'urlunparse', 'warnings']\n"
     ]
    }
   ],
   "source": [
    "from urllib import request\n",
    "\n",
    "print(dir(request))"
   ]
  },
  {
   "cell_type": "code",
   "execution_count": 8,
   "metadata": {},
   "outputs": [],
   "source": [
    "resp = request.urlopen(\"https://www.dit.uoi.gr/members.php\")\n",
    "resp.code\n",
    "resp.length\n",
    "resp.peek()\n",
    "data = resp.read()"
   ]
  },
  {
   "cell_type": "code",
   "execution_count": 9,
   "metadata": {},
   "outputs": [
    {
     "output_type": "execute_result",
     "data": {
      "text/plain": [
       " class=\"tr\"><td class=\"tdh\" align=\"center\"><center><img src=\"./img/staff/e.s.photo.jpg\" height=\"82\" width=\"82\"></center>\\n\\t\\t\\t\\t<br><center><a class=\"one\" href=\"./staff.php?id=11\">Στεργίου Ελευθέριος</a></center></td>\\n\\t\\t\\t\\t<td class=\"tdh\"><center>ΔΕΠ<br>ΑΝΑΠΛΗΡΩΤΗΣ ΚΑΘΗΓΗΤΗΣ<br></center></td>\\n\\t\\t\\t\\t<td class=\"tdh\"><a class=\"two\" href=\"mailto:ster@uoi.gr\"><center>ster@uoi.gr</a><br><a class=\"t\" href=\"tel:26810 50346\">26810 50346</a></center></td>\\n\\t\\t\\t\\t<td class=\"tdh\"><a class=\"one\" href=\"./staff.php?id=11\"><center>Βιογραφικό</a><br><br><a class=\"one\" href=\"http://#\" target=\"_blank\">Προσωπική Σελίδα</a></center></td></tr><tr class=\"tr\"><td class=\"tdh\" align=\"center\"><center><img src=\"./img/staff/st.jpg\" height=\"82\" width=\"82\"></center>\\n\\t\\t\\t\\t<br><center><a class=\"one\" href=\"./staff.php?id=12\">Στύλιος Χρυσόστομος</a></center></td>\\n\\t\\t\\t\\t<td class=\"tdh\"><center>ΔΕΠ<br>ΚΑΘΗΓΗΤΗΣ<br></center></td>\\n\\t\\t\\t\\t<td class=\"tdh\"><a class=\"two\" href=\"mailto:stylios@uoi.gr\"><center>stylios@uoi.gr</a><br><a class=\"t\" href=\"tel:26810 50451\">26810 50451</a></center></td>\\n\\t\\t\\t\\t<td class=\"tdh\"><a class=\"one\" href=\"./staff.php?id=12\"><center>Βιογραφικό</a><br><br><a class=\"one\" href=\"http://kic.uoi.gr\" target=\"_blank\">Προσωπική Σελίδα</a></center></td></tr><tr class=\"tr\"><td class=\"tdh\" align=\"center\"><center><img src=\"./img/staff/tzallas.jpg\" height=\"82\" width=\"82\"></center>\\n\\t\\t\\t\\t<br><center><a class=\"one\" href=\"./staff.php?id=13\">Τζάλλας Αλέξανδρος</a></center></td>\\n\\t\\t\\t\\t<td class=\"tdh\"><center>ΔΕΠ<br>ΕΠΙΚΟΥΡΟΣ ΚΑΘΗΓΗΤΗΣ<br></center></td>\\n\\t\\t\\t\\t<td class=\"tdh\"><a class=\"two\" href=\"mailto:tzallas@uoi.gr\"><center>tzallas@uoi.gr</a><br><a class=\"t\" href=\"tel:26810 50250\">26810 50250</a></center></td>\\n\\t\\t\\t\\t<td class=\"tdh\"><a class=\"one\" href=\"./staff.php?id=13\"><center>Βιογραφικό</a><br><br><a class=\"one\" href=\"http://scholar.google.com/citations?user=Jrpqo_QAAAAJ&hl=el\" target=\"_blank\">Προσωπική Σελίδα</a></center></td></tr><tr class=\"tr\"><td class=\"tdh\" align=\"center\"><center><img src=\"./img/staff/tsoul.jpg\" height=\"82\" width=\"82\"></center>\\n\\t\\t\\t\\t<br><center><a class=\"one\" href=\"./staff.php?id=14\">Τσούλος Ιωάννης</a></center></td>\\n\\t\\t\\t\\t<td class=\"tdh\"><center>ΔΕΠ<br>ΑΝΑΠΛΗΡΩΤΗΣ ΚΑΘΗΓΗΤΗΣ<br></center></td>\\n\\t\\t\\t\\t<td class=\"tdh\"><a class=\"two\" href=\"mailto:itsoulos@uoi.gr\"><center>itsoulos@uoi.gr</a><br><a class=\"t\" href=\"tel:26810 50447\">26810 50447</a></center></td>\\n\\t\\t\\t\\t<td class=\"tdh\"><a class=\"one\" href=\"./staff.php?id=14\"><center>Βιογραφικό</a><br><br><a class=\"one\" href=\"http://#\" target=\"_blank\">Προσωπική Σελίδα</a></center></td></tr><tr class=\"tr\"><td class=\"tdh\" align=\"center\"><center><img src=\"./img/staff/foutsitzi.jpg\" height=\"82\" width=\"82\"></center>\\n\\t\\t\\t\\t<br><center><a class=\"one\" href=\"./staff.php?id=15\">Φουτσιτζή Γεωργία</a></center></td>\\n\\t\\t\\t\\t<td class=\"tdh\"><center>ΔΕΠ<br><br></center></td>\\n\\t\\t\\t\\t<td class=\"tdh\"><a class=\"two\" href=\"mailto:gfoutsi@uoi.gr\"><center>gfoutsi@uoi.gr</a><br><a class=\"t\" href=\"tel:\"></a></center></td>\\n\\t\\t\\t\\t<td class=\"tdh\"><a class=\"one\" href=\"./staff.php?id=15\"><center>Βιογραφικό</a><br><br><a class=\"one\" href=\"http://#\" target=\"_blank\">Προσωπική Σελίδα</a></center></td></tr></table></center></div>\\n<hr class=\"new3\">\\n<h3 style=\"font-family:calibri; color: #000099;\"><center><b>Εργαστηριακό Διδακτικό Προσωπικό (ΕΔΙΠ) <b></center></h3>\\n\\n\\t\\t\\t<center><table class=\"tab\">\\n\\t\\t\\t<td class=\"tdh\"><center>Ονοματεπώνυμο</center></td>\\n\\t\\t\\t<td class=\"tdh\"><center>Μέλος<br>Κατάσταση<br>Βαθμίδα</center></td>\\n\\t\\t\\t<td class=\"tdh\"><center>Email<br>Τηλέφωνο</center></td>\\n\\t\\t\\t<td class=\"tdh\"><center>Βιογραφικό<br>Ιστοσελίδα</center></td></tr><tr class=\"tr\"><td class=\"tdh\" align=\"center\"><center><img src=\"./img/staff/woman.png\" height=\"82\" width=\"82\"></center>\\n\\t\\t\\t\\t<br><center><a class=\"one\" href=\"./staff.php?id=16\">Μαργαρίτη Σπυριδούλα</a></center></td>\\n\\t\\t\\t\\t<td class=\"tdh\"><center>ΕΔΙΠ<br><br>Α</center></td>\\n\\t\\t\\t\\t<td class=\"tdh\"><a class=\"two\" href=\"mailto:smargar@uoi.gr\"><center>smargar@uoi.gr</a><br><a class=\"t\" href=\"tel:26810 50507\">26810 50507</a></center></td>\\n\\t\\t\\t\\t<td class=\"tdh\"><a class=\"one\" href=\"./staff.php?id=16\"><center>Βιογραφικό</a><br><br><a class=\"one\" href=\"http://#\" target=\"_blank\">Προσωπική Σελίδα</a></center></td></tr><tr class=\"tr\"><td class=\"tdh\" align=\"center\"><center><img src=\"./img/staff/char.jpg\" height=\"82\" width=\"82\"></center>\\n\\t\\t\\t\\t<br><center><a class=\"one\" href=\"./staff.php?id=17\">Χαριλόγης Βασίλειος</a></center></td>\\n\\t\\t\\t\\t<td class=\"tdh\"><center>ΕΔΙΠ<br><br>Α</center></td>\\n\\t\\t\\t\\t<td class=\"tdh\"><a class=\"two\" href=\"mailto:charilog@uoi.gr\"><center>charilog@uoi.gr</a><br><a class=\"t\" href=\"tel:26810 50508\">26810 50508</a></center></td>\\n\\t\\t\\t\\t<td class=\"tdh\"><a class=\"one\" href=\"./staff.php?id=17\"><center>Βιογραφικό</a><br><br><a class=\"one\" href=\"http://dit.uoi.gr\" target=\"_blank\">Προσωπική Σελίδα</a></center></td></tr></table></center>\\n<hr class=\"new3\">\\n<h3 style=\"font-family:calibri; color: #000099;\"><center><b>Πανεπιστημιακοί Υπότροφοι <b></center></h3>\\n\\n\\t\\t\\t<center><table class=\"tab\">\\n\\t\\t\\t<td class=\"tdh\"><center>Ονοματεπώνυμο</center></td>\\n\\t\\t\\t<td class=\"tdh\"><center>Μέλος<br>Κατάσταση<br>Βαθμίδα</center></td>\\n\\t\\t\\t<td class=\"tdh\"><center>Email<br>Τηλέφωνο</center></td>\\n\\t\\t\\t<td class=\"tdh\"><center>Βιογραφικό<br>Ιστοσελίδα</center></td></tr><tr class=\"tr\"><td class=\"tdh\" align=\"center\"><center><img src=\"./img/staff/GeorgiouGeorgePhoto.jpg\" height=\"82\" width=\"82\"></center>\\n\\t\\t\\t\\t<br><center><a class=\"one\" href=\"./staff.php?id=18\">Γεωργίου Γεώργιος</a></center></td>\\n\\t\\t\\t\\t<td class=\"tdh\"><center>ΠΥ<br><br></center></td>\\n\\t\\t\\t\\t<td class=\"tdh\"><a class=\"two\" href=\"mailto:ggeorg@teiep.gr\"><center>ggeorg@teiep.gr</a><br><a class=\"t\" href=\"tel:\"></a></center></td>\\n\\t\\t\\t\\t<td class=\"tdh\"><a class=\"one\" href=\"./staff.php?id=18\"><center>Βιογραφικό</a><br><br><a class=\"one\" href=\"http://#\" target=\"_blank\">Προσωπική Σελίδα</a></center></td></tr><tr class=\"tr\"><td class=\"tdh\" align=\"center\"><center><img src=\"./img/staff/Snapshot_20180112_5.JPG\" height=\"82\" width=\"82\"></center>\\n\\t\\t\\t\\t<br><center><a class=\"one\" href=\"./staff.php?id=19\">Δημόπουλος Δημήτριος</a></center></td>\\n\\t\\t\\t\\t<td class=\"tdh\"><center>ΠΥ<br><br></center></td>\\n\\t\\t\\t\\t<td class=\"tdh\"><a class=\"two\" href=\"mailto:ddimop@uoi.gr\"><center>ddimop@uoi.gr</a><br><a class=\"t\" href=\"tel:\"></a></center></td>\\n\\t\\t\\t\\t<td class=\"tdh\"><a class=\"one\" href=\"./staff.php?id=19\"><center>Βιογραφικό</a><br><br><a class=\"one\" href=\"http://#\" target=\"_blank\">Προσωπική Σελίδα</a></center></td></tr><tr class=\"tr\"><td class=\"tdh\" align=\"center\"><center><img src=\"./img/staff/man.png\" height=\"82\" width=\"82\"></center>\\n\\t\\t\\t\\t<br><center><a class=\"one\" href=\"./staff.php?id=26\">Καρβούνης Ευάγγελος</a></center></td>\\n\\t\\t\\t\\t<td class=\"tdh\"><center>ΠΥ<br><br></center></td>\\n\\t\\t\\t\\t<td class=\"tdh\"><a class=\"two\" href=\"mailto:\"><center></a><br><a class=\"t\" href=\"tel:\"></a></center></td>\\n\\t\\t\\t\\t<td class=\"tdh\"><a class=\"one\" href=\"./staff.php?id=26\"><center>Βιογραφικό</a><br><br><a class=\"one\" href=\"http://#\" target=\"_blank\">Προσωπική Σελίδα</a></center></td></tr></table></center><hr class=\"new3\">\\n<h3 style=\"font-family:calibri; color: #000099;\"><center><b>Υπότροφοι Απόκτησης Διδακτικής Εμπειρίας <b></center></h3>\\t\\n\\n\\t\\t\\t<center><table class=\"tab\">\\n\\t\\t\\t<td class=\"tdh\"><center>Ονοματεπώνυμο</center></td>\\n\\t\\t\\t<td class=\"tdh\"><center>Μέλος<br>Κατάσταση<br>Βαθμίδα</center></td>\\n\\t\\t\\t<td class=\"tdh\"><center>Email<br>Τηλέφωνο</center></td>\\n\\t\\t\\t<td class=\"tdh\"><center>Βιογραφικό<br>Ιστοσελίδα</center></td></tr><tr class=\"tr\"><td class=\"tdh\" align=\"center\"><center><img src=\"./img/staff/votis.jpg\" height=\"82\" width=\"82\"></center>\\n\\t\\t\\t\\t<br><center><a class=\"one\" href=\"./staff.php?id=21\">Βότης Κωνσταντίνος</a></center></td>\\n\\t\\t\\t\\t<td class=\"tdh\"><center>ΥΑΔΕ<br><br></center></td>\\n\\t\\t\\t\\t<td class=\"tdh\"><a class=\"two\" href=\"mailto:cvotis@uoi.gr\"><center>cvotis@uoi.gr</a><br><a class=\"t\" href=\"tel:\"></a></center></td>\\n\\t\\t\\t\\t<td class=\"tdh\"><a class=\"one\" href=\"./staff.php?id=21\"><center>Βιογραφικό</a><br><br><a class=\"one\" href=\"http://#\" target=\"_blank\">Προσωπική Σελίδα</a></center></td></tr><tr class=\"tr\"><td class=\"tdh\" align=\"center\"><center><img src=\"./img/staff/woman.png\" height=\"82\" width=\"82\"></center>\\n\\t\\t\\t\\t<br><center><a class=\"one\" href=\"./staff.php?id=22\">Ευαγγέλου Σοφία</a></center></td>\\n\\t\\t\\t\\t<td class=\"tdh\"><center>ΥΑΔΕ<br><br></center></td>\\n\\t\\t\\t\\t<td class=\"tdh\"><a class=\"two\" href=\"mailto:sevag@uoi.gr\"><center>sevag@uoi.gr</a><br><a class=\"t\" href=\"tel:\"></a></center></td>\\n\\t\\t\\t\\t<td class=\"tdh\"><a class=\"one\" href=\"./staff.php?id=22\"><center>Βιογραφικό</a><br><br><a class=\"one\" href=\"http://#\" target=\"_blank\">Προσωπική Σελίδα</a></center></td></tr><tr class=\"tr\"><td class=\"tdh\" align=\"center\"><center><img src=\"./img/staff/karvelis_image.jpg\" height=\"82\" width=\"82\"></center>\\n\\t\\t\\t\\t<br><center><a class=\"one\" href=\"./staff.php?id=23\">Καρβέλης Πέτρος</a></center></td>\\n\\t\\t\\t\\t<td class=\"tdh\"><center>ΥΑΔΕ<br><br></center></td>\\n\\t\\t\\t\\t<td class=\"tdh\"><a class=\"two\" href=\"mailto:pkarvelis@uoi.gr\"><center>pkarvelis@uoi.gr</a><br><a class=\"t\" href=\"tel:\"></a></center></td>\\n\\t\\t\\t\\t<td class=\"tdh\"><a class=\"one\" href=\"./staff.php?id=23\"><center>Βιογραφικό</a><br><br><a class=\"one\" href=\"http://#\" target=\"_blank\">Προσωπική Σελίδα</a></center></td></tr><tr class=\"tr\"><td class=\"tdh\" align=\"center\"><center><img src=\"./img/staff/raptis.jpg\" height=\"82\" width=\"82\"></center>\\n\\t\\t\\t\\t<br><center><a class=\"one\" href=\"./staff.php?id=24\">Ράπτης Βασίλειος</a></center></td>\\n\\t\\t\\t\\t<td class=\"tdh\"><center>ΥΑΔΕ<br><br></center></td>\\n\\t\\t\\t\\t<td class=\"tdh\"><a class=\"two\" href=\"mailto:vraptis@teiep.gr\"><center>vraptis@teiep.gr</a><br><a class=\"t\" href=\"tel:\"></a></center></td>\\n\\t\\t\\t\\t<td class=\"tdh\"><a class=\"one\" href=\"./staff.php?id=24\"><center>Βιογραφικό</a><br><br><a class=\"one\" href=\"http://#\" target=\"_blank\">Προσωπική Σελίδα</a></center></td></tr><tr class=\"tr\"><td class=\"tdh\" align=\"center\"><center><img src=\"./img/staff/georgios_tsoumanis-300x273.jpg\" height=\"82\" width=\"82\"></center>\\n\\t\\t\\t\\t<br><center><a class=\"one\" href=\"./staff.php?id=25\">Τσουμάνης Γεώργιος</a></center></td>\\n\\t\\t\\t\\t<td class=\"tdh\"><center>ΥΑΔΕ<br><br></center></td>\\n\\t\\t\\t\\t<td class=\"tdh\"><a class=\"two\" href=\"mailto:gtsoum@uoi.gr\"><center>gtsoum@uoi.gr</a><br><a class=\"t\" href=\"tel:\"></a></center></td>\\n\\t\\t\\t\\t<td class=\"tdh\"><a class=\"one\" href=\"./staff.php?id=25\"><center>Βιογραφικό</a><br><br><a class=\"one\" href=\"http://#\" target=\"_blank\">Προσωπική Σελίδα</a></center></td></tr></table></center><!--<hr class=\"new3\">-->\\n</div></div><div class=\"col-lg-12 col-sm-12 spacer\"></div></div></div></div></div></section><footer>\\n\\n  <section id=\"testimonials\">\\n        <div class=\"container  wow fadeIn animated\">\\n            <div class=\"row\">\\n                <div class=\\'col-md-offset-2 col-md-8 text-center\\'>\\n               <div class=\"footerlogomain hover-effect \"></div>\\n                <!--  <div class=\"footer-logo hover-effect \"></div> -->\\n                <h4>Τμήμα Πληροφορικής & Τηλεπικοινωνιών</h4>\\n                <h4>Σχολή Πληροφορικής & Τηλεπικοινωνιών</h4>\\n              <!--  <h3>Πανεπιστήμιο Ιωαννίνων</h3> -->\\n                </div>\\n            </div>\\n\\n        </div>\\n       </section><!-- End testimonials -->\\n\\n   <section id=\"socialssection\">\\n        <div class=\"container\">\\n            <div class=\"row\">\\n            <ul id=\"follow_us\" class=\"text-center\">\\n      <div class=\"col-md-3 col-sm-3  wow fadeIn animated\"><li><a href=\"https://www.facebook.com/dit.uoi.gr/\" target=\"_blank\"><i class=\"icon-facebook\"></i></li>Η σελίδα μας</a></div>\\n      <div class=\"col-md-3 col-sm-3  wow fadeIn animated\"><li><a href=\"https://www.facebook.com/groups/456725808252801/\" target=\"_blank\"><i class=\"icon-facebook\"></i></li>Ενεργά μέλη</a></div>\\n      <div class=\"col-md-3 col-sm-3  wow fadeIn animated\"><li><a href=\"https://www.facebook.com/groups/2386799491646913/\" target=\"_blank\"><i class=\"icon-facebook\"></i></li>Απόφοιτοι</a></div>\\n      <div class=\"col-md-3 col-sm-3  wow fadeIn animated\"><li><a href=\"https://www.instagram.com/dit.uoi/\" target=\"_blank\"><i class=\"icon-instagram\"></i></li>Instagram</a></div>\\n</ul></div>\\n\\t</div>\\n\\t </div>\\n       </section><!-- End socials -->\\n\\n  <div class=\"container\" id=\"nav-footer\">\\n  <div class=\"row text-left\">\\n\\n\\n\\n\\n    <div class=\"col-md-3 col-sm-3 text-center  wow fadeIn animated\">\\n      <h4>Η ΕΦΑΡΜΟΓΗ ΜΑΣ</h4>\\n      <ul>\\n            <li> <a href=\"https://play.google.com/store/apps/details?id=com.teiep.ce&hl=el\" target=\"_blank\"><img src=\"img/logos/footerlogo1.png\" class=\"footerlogo centerdiv\"></a>     \\n      </ul>\\n            <h4>ΣΤΑΤΙΣΤΙΚΑ</h4>\\n      <ul>\\n              <li>  Χρήστες Online: 21</li>\\n      </ul>\\n    </div>\\n\\n      \\t    <div class=\"col-md-offset-1 col-md-4 col-sm-offset-1 col-sm-4 text-center wow fadeIn animated\">\\n      <ul>\\n               \\n                      \\t<a href=\"https://www.uoi.gr/\"><div class=\"footerlogouoi\"></div></a>\\n                      \\t <h4>Πανεπιστήμιο Ιωαννίνων</h4>\\n                <!--<h5>Τμ. Πληροφορικής & Τηλεπικοινωνιών</h5>-->\\n<br>\\n<p><a href=\"./credits.php\"><b>Υποστήριξη site</b></a></p>\\n      </ul>\\n    </div>\\n     <div class=\"col-md-3 col-sm-3 col-md-offset-1 col-sm-offset-1 text-center wow fadeIn animated\">\\n      <ul>\\n                <h4>Επικοινωνία</h4>\\n                <a href=\"./contact.php\">\\n        <li><strong class=\"phone\">ΤΗΛ: 26810 50350</strong><br><strong class=\"phone\"> 26810 50341</strong><br><!--<small>ΤΗΛ 3: 26810 50499</small>--></li>\\n                <li><strong class=\"phone\">ΦΑΞ: 26810 50340</strong></li>\\n       <!-- <li>Κωστακιοί Άρτας ΤΚ: 47150<li>-->\\n          <li>Βρείτε μας στο χάρτη!<li></a>\\n      </ul>\\n      <h4>Ευχαριστίες</h4>\\n      <ul>\\n              <li><a href=\"./credits.php\">Ομάδα Aνάπτυξης</a></li>\\n      </ul>\\n    </div><!-- End col-md-4 -->\\n\\t\\n    <!-- End col-md-4 --><!--\\n    <div class=\"col-md-3 col-sm-3  wow fadeIn animated\">\\n      <h4>ΓΙΑ ΤΟΝ ΦΟΙΤΗΤΗ</h4>\\n      <ul>\\n                <li><a href=\"/news.php\">Αρχείο Ανακοινώσεων</a></li>\\n                 <li><a href=\"/e-class/\" target=\"_blank\">Ασύγχρονη Τηλεκπαίδευση</a></li>\\n                 <li><a href=\"https://classweb.uoi.gr/\" target=\"_blank\">Βαθμοί (Νέο σύστημα)</a></li>\\n                 <li><a href=\"https://gmweb.teiep.gr/unistudent/\" target=\"_blank\">Βαθμοί (Παλιό σύστημα ΤΕΙ Ηπείρου)</a></li>\\n                 <li><a href=\"/advisor.php\">Σύμβουλος Καθηγητής</a></li>\\n                 <li><a href=\"http://mail.ce.teiep.gr/mail/\" target=\"_blank\">Ηλεκτρονικό Ταχυδρομείο</a></li>\\n                 <li><a href=\"http://myweb.ce.teiep.gr/\" target=\"_blank\">Προσωπικές Ιστοσελίδες</a></li>\\n                 <li><a href=\"http://sonetto.teiep.gr/student/\" target=\"_blank\">Ηλεκτρονικό Εργαστήρι</a></li>\\n                   <li><a href=\"https://eregister.it.minedu.gov.gr/\" target=\"_blank\">Eγγραφές Nεοεισαχθέντων</a></li>\\n                     <li><a href=\"http://eudoxus.gr/\" target=\"_blank\">Εύδοξος</a></li>\\n                     <li><a href=\"http://academicid.minedu.gov.gr/\" target=\"_blank\">Ακαδημαική ταυτότητα</a></li>\\n                    <li><a href=\"/download.php\">Χρήσιμα Αρχεία</a></li>\\n                    <li><a href=\"/poll.php\">Αρχείο δημοσκοπήσεων</a></li>\\n                   < <li><a href=\"/searchq.php\">Αναζήτηση</a></li>\\n                    <li><a href=\"/evaluations.php\">Αξιολογήσεις</a></li>\\n                   <li><a href=\"/index2.php?id=147\">Πολιτική Διασφάλισης Ποιότητας</a></li>\\n      </ul>\\n    </div> -->\\n   <!-- <div class=\"col-md-3 col-sm-3  wow fadeIn animated\">\\n      <h4>ΣΥΝΔΕΣΜΟΙ</h4>\\n      <ul>\\n                 <li><a href=\"https://www.uoi.gr/\" target=\"_blank\">Πανεπιστήμιο Ιωαννίνων</a></li>\\n                 <li><a href=\"http://erasmus.teiep.gr/\" target=\"_blank\">Lifelong learning program erasmus</a></li>\\n                 <li><a href=\"https://dasta.teiep.gr/index.php/grafeiodiasyndesis\" target=\"_blank\">Γραφείο Διασύνδεσης</a></li>\\n                 <li><a href=\"https://dasta.teiep.gr/\" target=\"_blank\">Γραφείο Πρακτικής Άσκησης</a></li>\\n                 <li><a href=\"https://wwwlib.teiep.gr/\" target=\"_blank\">Βιβλιοθήκη</a></li>\\n                 <li><a href=\"http://web.teiep.gr/noc/\" target=\"_blank\">Κέντρο Δικτύων</a></li>\\n                     <li><a href=\"index2.php?id=141\">Επιχειρηματικότητα και Καινοτομία</a></li>\\n                     <li><a href=\"index2.php?id=140\">Ελεύθερα Εργαστήρια</a></li>\\n                     <li><a href=\"http://conference.ce.teiep.gr/\" target=\"_blank\">Συνέδριο</a></li>\\n                 <li><a href=\"/labmuseum.php\">Βιωματικό Εργαστήριο & Μουσείο</a></li>\\n                    <li><a href=\"/links.php\">Καταχωρηθείτε</a></li>\\n                     <li><a href=\"/files/anak_200617.pdf\" target=\"_blank\">Ηλεκτρονικός Λογαριασμός</a></li>\\n                     <li><a href=\"index2.php?id=145\">Πες την γνώμη σου</a></li>\\n                 <li><a href=\"index2.php?id=31\">Πληροφορίες για την Άρτα</a></li>\\n      </ul>\\n    </div> -->\\n\\n  </div><!-- End row -->\\n</div>\\n\\n\\t<div id=\"copy_right\"><a href=\"./quality-policy.php?id=8\" target=\"_blank\">Όροι Χρήσης</a><br>Copyright © www.dit.uoi.gr 2006-2021. All Rights Reserved!</div>\\n \\n\\n\\n</footer>\\n\\n    <!--=========== END FOOTER SECTION ================--> \\n\\n    \\t\\n\\n    <!-- Update by Andreas Zorpidis 5/10/2019 -->\\n<!-- Back to top button -->\\n<a id=\"backtotop\"></a>\\n\\n\\n<script>\\n  var btn = $(\\'#backtotop\\');\\n\\n$(window).scroll(function() {\\n  if ($(window).scrollTop() > 300) {\\n    btn.addClass(\\'show\\');\\n  } else {\\n    btn.removeClass(\\'show\\');\\n  }\\n});\\n\\nbtn.on(\\'click\\', function(e) {\\n  e.preventDefault();\\n  $(\\'html, body\\').animate({scrollTop:0}, \\'300\\');\\n});\\n\\n\\n</script>\\n\\n    <!-- JQUERY -->\\n    <script src=\"js/jquery-2.2.4.min.js\"></script>\\n\\n<!-- jQuery REVOLUTION Slider  -->\\n<script type=\"text/javascript\" src=\"rs-plugin/js/jquery.themepunch.plugins.min.js\"></script>\\n<script type=\"text/javascript\" src=\"rs-plugin/js/jquery.themepunch.revolution.min.js\"></script>\\n<script type=\"text/javascript\">\\n\\n    var revapi;\\n\\n    jQuery(document).ready(function() {\\n\\n         revapi = jQuery(\\'.tp-banner\\').revolution(\\n        {\\n          delay:9000,\\n          startwidth:1700,\\n          startheight:600,\\n          hideThumbs:true,\\n          navigationType:\"none\",\\n          fullWidth:\"on\",\\n          forceFullWidth:\"on\"\\n        });\\n\\n    }); //ready\\n\\n  </script>\\n  \\n    <!-- OTHER JS --> \\n    <script src=\"js/superfish.js\"></script>\\n    <script src=\"js/bootstrap.min.js\"></script>\\n    <script src=\"js/all.js\"></script>\\n    <script src=\"js/retina.min.js\"></script>\\n    <script src=\"js/jquery.fitvids.js\"></script> <!-- for video responsive-->\\n    <script src=\"js/jquery.placeholder.js\"></script>\\n    <script src=\"js/functions.js\"></script>\\n    <script src=\"js/classie.js\"></script>\\n    <script src=\"js/uisearch.js\"></script>\\n    <script src=\"js/remove-upcase-accents.js\"></script>\\n\\n    <script>new UISearch( document.getElementById( \\'sb-search\\' ) );</script>\\n    <script>$(\".video\").fitVids();</script>\\n     <!-- FANCYBOX -->\\n    <script  src=\"js/fancybox/source/jquery.fancybox.pack.js?v=2.1.4\" type=\"text/javascript\"></script> \\n    <script src=\"js/fancybox/source/helpers/jquery.fancybox-media.js?v=1.0.5\" type=\"text/javascript\"></script> \\n    <script src=\"js/fancy_func.js\" type=\"text/javascript\"></script> \\n    <!-- Update by Andreas Zorpidis 5/10/2019 END -->\\n\\t<script>\\r\\nwindow.ga=window.ga||function(){(ga.q=ga.q||[]).push(arguments)};ga.l=+new Date;\\r\\nga(\\'create\\', \\'UA-174035347-1\\', \\'auto\\');\\r\\nga(\\'send\\', \\'pageview\\');\\r\\n</script>\\r\\n<script async src=\\'https://www.google-analytics.com/analytics.js\\'></script>  </body>\\n\\n</html></body>\\n</html>\\t\\n'"
      ]
     },
     "metadata": {},
     "execution_count": 9
    }
   ],
   "source": [
    "\n",
    "html = data.decode(\"UTF-8\")\n",
    "html"
   ]
  },
  {
   "cell_type": "code",
   "execution_count": 10,
   "metadata": {},
   "outputs": [
    {
     "output_type": "execute_result",
     "data": {
      "text/plain": [
       "'v%3D=XXXX&t=0m10s'"
      ]
     },
     "metadata": {},
     "execution_count": 10
    }
   ],
   "source": [
    "from urllib import parse\n",
    "\n",
    "params = {\"v=\":\"XXXX\", \"t\":\"0m10s\"}\n",
    "querystring = parse.urlencode(params)\n",
    "print(querystring)\n",
    "url = \"https://...\" + \"?\" + querystring\n",
    "resp = request.urlopen(url)"
   ]
  },
  {
   "cell_type": "code",
   "execution_count": null,
   "metadata": {},
   "outputs": [],
   "source": []
  }
 ]
}