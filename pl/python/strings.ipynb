{
 "metadata": {
  "language_info": {
   "codemirror_mode": {
    "name": "ipython",
    "version": 3
   },
   "file_extension": ".py",
   "mimetype": "text/x-python",
   "name": "python",
   "nbconvert_exporter": "python",
   "pygments_lexer": "ipython3",
   "version": "3.8.0"
  },
  "orig_nbformat": 2,
  "kernelspec": {
   "name": "python3",
   "display_name": "Python 3.8.0 64-bit ('3.8.0-amd64': pyenv)",
   "metadata": {
    "interpreter": {
     "hash": "2334294e789e06453e89f7d5c3c2573679701f9bb5b76ad2158f91cca5c9244c"
    }
   }
  }
 },
 "nbformat": 4,
 "nbformat_minor": 2,
 "cells": [
  {
   "source": [
    "# Λεκτικά\n",
    "\n",
    "Τα λεκτικά στην Python μπορούν να οριστούν χρησιμοποιώντας, απλά, διπλά ή τριπλά εισαγωγικά."
   ],
   "cell_type": "markdown",
   "metadata": {}
  },
  {
   "cell_type": "code",
   "execution_count": 7,
   "metadata": {},
   "outputs": [
    {
     "output_type": "stream",
     "name": "stdout",
     "text": [
      "Department of Informatics and Telecommunications\n************************************************\nDIT\n***\nDepartment of Informatics and Telecommunications\nUniverity of Ioannina\nArta, Greece\n\n"
     ]
    }
   ],
   "source": [
    "x = \"Department of Informatics and Telecommunications\"\n",
    "y = 'DIT'\n",
    "z = '''Department of Informatics and Telecommunications\n",
    "Univerity of Ioannina\n",
    "Arta, Greece\n",
    "'''\n",
    "print(x)\n",
    "print('*'*len(x))\n",
    "print(y)\n",
    "print('*'*len(y))\n",
    "print(z)"
   ]
  },
  {
   "cell_type": "code",
   "execution_count": 23,
   "metadata": {},
   "outputs": [
    {
     "output_type": "stream",
     "name": "stdout",
     "text": [
      "2330791715568\n2330875726256\n140705714706080\n140705714706112\n2330791715568\n"
     ]
    }
   ],
   "source": [
    "# κάθε αντικείμενο έχει μια ταυτότητα (id)\n",
    "x = \"test\"\n",
    "print(id(x))\n",
    "x = \"another test\"\n",
    "print(id(x))\n",
    "x = 1\n",
    "print(id(x))\n",
    "x += 1\n",
    "print(id(x))\n",
    "x = \"test\"\n",
    "print(id(x))"
   ]
  },
  {
   "cell_type": "code",
   "execution_count": 24,
   "metadata": {},
   "outputs": [
    {
     "output_type": "stream",
     "name": "stdout",
     "text": [
      "Help on built-in function id in module builtins:\n\nid(obj, /)\n    Return the identity of an object.\n    \n    This is guaranteed to be unique among simultaneously existing objects.\n    (CPython uses the object's memory address.)\n\n"
     ]
    }
   ],
   "source": [
    "help(id)"
   ]
  },
  {
   "cell_type": "code",
   "execution_count": 11,
   "metadata": {},
   "outputs": [
    {
     "output_type": "stream",
     "name": "stdout",
     "text": [
      "Τμήμα Πληροφορικής και Τηλεπικοινωνιών\n"
     ]
    }
   ],
   "source": [
    "# Τα ελληνικά δεν είναι πρόβλημα (unicode), ακόμα και ως αναγνωριστικά (π.χ. ονόματα μεταβλητών)\n",
    "x = \"Τμήμα Πληροφορικής και Τηλεπικοινωνιών\"\n",
    "τμήμα = x\n",
    "print(τμήμα)"
   ]
  },
  {
   "cell_type": "code",
   "execution_count": 17,
   "metadata": {},
   "outputs": [
    {
     "output_type": "stream",
     "name": "stdout",
     "text": [
      "Τμήμα Πληροφορικής και Τηλεπικοινωνιών\n"
     ]
    }
   ],
   "source": [
    "# Συνένωση λεκτικών (με τον τελεστή +)\n",
    "x = \"Τμήμα Πληροφορικής\" + \" και \" + \"Τηλεπικοινωνιών\"\n",
    "print(x)"
   ]
  },
  {
   "cell_type": "code",
   "execution_count": 1,
   "metadata": {},
   "outputs": [],
   "source": [
    "# Τα λεκτικά είναι μη μεταλλάξιμα (immutable)\n",
    "x = \"ABCDEFG\"\n",
    "# x[0] = 'X' # TypeError: 'str' object does not support item assignment"
   ]
  },
  {
   "source": [
    "## Μετατροπή ενός τύπου σε άλλο τύπο"
   ],
   "cell_type": "markdown",
   "metadata": {}
  },
  {
   "cell_type": "code",
   "execution_count": 2,
   "metadata": {},
   "outputs": [
    {
     "output_type": "stream",
     "name": "stdout",
     "text": [
      "124\n"
     ]
    }
   ],
   "source": [
    "# λεκτικό σε ακέραιο (string to int)\n",
    "x=int('123')\n",
    "print(x+1)"
   ]
  },
  {
   "cell_type": "code",
   "execution_count": 3,
   "metadata": {},
   "outputs": [],
   "source": [
    "# λεκτικό σε ακέραιο (θα πρέπει το λεκτικό να μπορεί να ερμηνευτεί ως ακέραιος, αλλιώς ValueError)\n",
    "\n",
    "# x=int('a123') # ValueError: invalid literal for int() with base 10: 'a123'"
   ]
  },
  {
   "cell_type": "code",
   "execution_count": 14,
   "metadata": {},
   "outputs": [
    {
     "output_type": "stream",
     "name": "stdout",
     "text": [
      "579\n"
     ]
    }
   ],
   "source": [
    "# Μετατροπή ακεραίου σε λεκτικό (int to string)\n",
    "s = str(123+456)\n",
    "print(s)"
   ]
  },
  {
   "source": [
    "## Συναρτήσεις λεκτικών"
   ],
   "cell_type": "markdown",
   "metadata": {}
  },
  {
   "cell_type": "code",
   "execution_count": 29,
   "metadata": {},
   "outputs": [
    {
     "output_type": "execute_result",
     "data": {
      "text/plain": [
       "['__add__',\n",
       " '__class__',\n",
       " '__contains__',\n",
       " '__delattr__',\n",
       " '__dir__',\n",
       " '__doc__',\n",
       " '__eq__',\n",
       " '__format__',\n",
       " '__ge__',\n",
       " '__getattribute__',\n",
       " '__getitem__',\n",
       " '__getnewargs__',\n",
       " '__gt__',\n",
       " '__hash__',\n",
       " '__init__',\n",
       " '__init_subclass__',\n",
       " '__iter__',\n",
       " '__le__',\n",
       " '__len__',\n",
       " '__lt__',\n",
       " '__mod__',\n",
       " '__mul__',\n",
       " '__ne__',\n",
       " '__new__',\n",
       " '__reduce__',\n",
       " '__reduce_ex__',\n",
       " '__repr__',\n",
       " '__rmod__',\n",
       " '__rmul__',\n",
       " '__setattr__',\n",
       " '__sizeof__',\n",
       " '__str__',\n",
       " '__subclasshook__',\n",
       " 'capitalize',\n",
       " 'casefold',\n",
       " 'center',\n",
       " 'count',\n",
       " 'encode',\n",
       " 'endswith',\n",
       " 'expandtabs',\n",
       " 'find',\n",
       " 'format',\n",
       " 'format_map',\n",
       " 'index',\n",
       " 'isalnum',\n",
       " 'isalpha',\n",
       " 'isascii',\n",
       " 'isdecimal',\n",
       " 'isdigit',\n",
       " 'isidentifier',\n",
       " 'islower',\n",
       " 'isnumeric',\n",
       " 'isprintable',\n",
       " 'isspace',\n",
       " 'istitle',\n",
       " 'isupper',\n",
       " 'join',\n",
       " 'ljust',\n",
       " 'lower',\n",
       " 'lstrip',\n",
       " 'maketrans',\n",
       " 'partition',\n",
       " 'replace',\n",
       " 'rfind',\n",
       " 'rindex',\n",
       " 'rjust',\n",
       " 'rpartition',\n",
       " 'rsplit',\n",
       " 'rstrip',\n",
       " 'split',\n",
       " 'splitlines',\n",
       " 'startswith',\n",
       " 'strip',\n",
       " 'swapcase',\n",
       " 'title',\n",
       " 'translate',\n",
       " 'upper',\n",
       " 'zfill']"
      ]
     },
     "metadata": {},
     "execution_count": 29
    }
   ],
   "source": [
    "# με τη συνάρτηση dir μπορούμε να δούμε τις μεθόδους που εφαρμόζονται σε λεκτικά.\n",
    "dir('a text')"
   ]
  },
  {
   "cell_type": "code",
   "execution_count": 30,
   "metadata": {},
   "outputs": [
    {
     "output_type": "stream",
     "name": "stdout",
     "text": [
      "Help on built-in function swapcase:\n\nswapcase() method of builtins.str instance\n    Convert uppercase characters to lowercase and lowercase characters to uppercase.\n\n"
     ]
    }
   ],
   "source": [
    "# με τη συνάρτηση help μπορούμε να μάθουμε περισσότερες πληροφορίες για όποια μέθοδο ενδιαφερόμαστε (οι συναρτήσεις dir και help είναι παραδέιγματα introspection)\n",
    "\n",
    "help('A Text'.swapcase)"
   ]
  },
  {
   "cell_type": "code",
   "execution_count": 36,
   "metadata": {},
   "outputs": [
    {
     "output_type": "stream",
     "name": "stdout",
     "text": [
      "<class 'int'>\n<class 'float'>\n<class 'str'>\n"
     ]
    }
   ],
   "source": [
    "# εύρεση του τύπου μιας τιμής\n",
    "print(type(1))\n",
    "print(type(1.0))\n",
    "print(type('abc'))"
   ]
  },
  {
   "cell_type": "code",
   "execution_count": 42,
   "metadata": {},
   "outputs": [
    {
     "output_type": "stream",
     "name": "stdout",
     "text": [
      "False\nTrue\n"
     ]
    }
   ],
   "source": [
    "# έλεγχοι τύπων\n",
    "print(isinstance(1, float)) # False\n",
    "print(type(1) is int) # True"
   ]
  },
  {
   "source": [
    "## Τεμαχισμός λεκτικών\n",
    "\n"
   ],
   "cell_type": "markdown",
   "metadata": {}
  },
  {
   "cell_type": "code",
   "execution_count": 66,
   "metadata": {},
   "outputs": [
    {
     "output_type": "stream",
     "name": "stdout",
     "text": [
      "1 Department\n2 Informatics\n3 Telecommunications\n4 Department of Informatics and \n5 Department of Informatics and Telecommunications\n6 Informatics\n7 D\n"
     ]
    }
   ],
   "source": [
    "s = \"Department of Informatics and Telecommunications\"\n",
    "print(1, s[0:10])\n",
    "print(2, s[14:25])\n",
    "print(3, s[30:])\n",
    "print(4, s[:30])\n",
    "print(5, s[:])\n",
    "print(6, s[14:-23])\n",
    "print(7, s[0])\n",
    "# print(s[100]) # IndexError: string index out of range"
   ]
  },
  {
   "source": [
    "## Μορφοποίηση λεκτικών"
   ],
   "cell_type": "markdown",
   "metadata": {}
  },
  {
   "cell_type": "code",
   "execution_count": 10,
   "metadata": {},
   "outputs": [
    {
     "output_type": "execute_result",
     "data": {
      "text/plain": [
       "\"Python was created by Guido van Rossum back in the late 1980's\""
      ]
     },
     "metadata": {},
     "execution_count": 10
    }
   ],
   "source": [
    "# string substitution\n",
    "\"Python was created by %s back in the late %i's\" % ('Guido van Rossum', 1980)"
   ]
  },
  {
   "cell_type": "code",
   "execution_count": 12,
   "metadata": {},
   "outputs": [
    {
     "output_type": "execute_result",
     "data": {
      "text/plain": [
       "\"Python was created by Guido van Rossum back in the late 1980's\""
      ]
     },
     "metadata": {},
     "execution_count": 12
    }
   ],
   "source": [
    "# string templates (>=Python 2.6)\n",
    "\"Python was created by {0} back in the late {1}'s\".format('Guido van Rossum', 1980)"
   ]
  },
  {
   "cell_type": "code",
   "execution_count": 13,
   "metadata": {},
   "outputs": [
    {
     "output_type": "execute_result",
     "data": {
      "text/plain": [
       "\"Python was created by Guido van Rossum back in the late 1980's\""
      ]
     },
     "metadata": {},
     "execution_count": 13
    }
   ],
   "source": [
    "# fstrings (>=Python 3.6)\n",
    "name = \"Guido van Rossum\"\n",
    "decade = 1980\n",
    "f\"Python was created by {name} back in the late {decade}'s\""
   ]
  }
 ]
}