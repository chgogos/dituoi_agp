{
 "metadata": {
  "language_info": {
   "codemirror_mode": {
    "name": "ipython",
    "version": 3
   },
   "file_extension": ".py",
   "mimetype": "text/x-python",
   "name": "python",
   "nbconvert_exporter": "python",
   "pygments_lexer": "ipython3",
   "version": "3.9.5"
  },
  "orig_nbformat": 2,
  "kernelspec": {
   "name": "python395jvsc74a57bd08b33bfb9107f40619c48ce69ba1618b2bb141527518e5cd1954133afa48c2bd1",
   "display_name": "Python 3.9.5 64-bit ('PythonSoftwareFoundation.Python.3.9_qbz5n2kfra8p0')"
  },
  "metadata": {
   "interpreter": {
    "hash": "8b33bfb9107f40619c48ce69ba1618b2bb141527518e5cd1954133afa48c2bd1"
   }
  }
 },
 "nbformat": 4,
 "nbformat_minor": 2,
 "cells": [
  {
   "source": [
    "<center><h2 style=\"font-weight:bold;\">Food Web Example</h2></center>\n",
    "<hr style=\"border-top:2px solid blue;\">"
   ],
   "cell_type": "markdown",
   "metadata": {}
  },
  {
   "source": [
    "Ένας ζωολογικός κήπος θέλει να μεταφέρει με τρία κλουβιά τα παρακάτω είδη ζώων. Πως θα χωριστούνε με την χρήση του OR-Tools χωρίς κάποιο είδος να κινδυνεύει από κάποιον θηρευτή του.\n",
    "\n",
    "\n",
    "<img src=\"https://raw.githubusercontent.com/vasnastos/AGP/master/Resources/food-chain-diagram-concept-free-vector.jpg\" width=\"80%\" height=\"60%\"/>\n"
   ],
   "cell_type": "markdown",
   "metadata": {}
  },
  {
   "source": [
    "<table style=\"width:100%\">\n",
    "<caption style=\"font-size:21px; font-weight:bold;\">ΠΙΝΑΚΑΣ ΣΥΓΚΡΟΥΣΕΩΝ-ADJACENCY MATRIX</CAPTION>\n",
    "<br>\n",
    "<tr style=\"font-size:23px; color:red; background-color:white;\"><th style=\"width:60px;\"></th><th>Dragonfly</th><th>Frog</th><th>Snake</th><th>Vulture</th><th>Fox</th><th>Butterfly</th><th>Grasshopper</th><th>Bird</th><th>Mouse</th><th>Rabbit</th></tr>\n",
    "<tr style=\"background-color:white; font-size:18px;\">\n",
    "<td style=\"color:black;\">Drangfly</td>\n",
    "<td style=\"background-color:black; width:60px;\"></td>\n",
    "<td style=\"background-color:red; width:60px; font-size:20px;\">X</td>\n",
    "<td style=\"background-color:green; width:60px;\"></td>\n",
    "<td style=\"background-color:green; width:60px;\"></td><td style=\"background-color:green; width:60px;\"></td>\n",
    "<td style=\"background-color:green; width:60px;\"></td>\n",
    "<td style=\"background-color:green; width:60px;\"></td>\n",
    "<td style=\"background-color:green; width:40px;\"></td>\n",
    "<td style=\"background-color:green; width:60px;\"></td>\n",
    "<td style=\"background-color:green; width:60px;\"></td>\n",
    "</tr>\n",
    "<tr style=\"background-color:white; color:black; font-size:18px;\">\n",
    "<td>Frog</td>\n",
    "<td style=\"background-color:black; width:60px;\"></td>\n",
    "<td style=\"background-color:black; width:60px;\"></td>\n",
    "<td style=\"background-color:red; width:60px; font-size:20px;\">X</td>\n",
    "<td style=\"background-color:green; width:60px;\"></td><td style=\"background-color:green; width:60px;\"></td>\n",
    "<td style=\"background-color:red; width:60px; font-size:20px;\">X</td>\n",
    "<td style=\"background-color:red; width:60px; font-size:20px;\">X</td>\n",
    "<td style=\"background-color:green; width:40px;\"></td>\n",
    "<td style=\"background-color:green; width:60px;\"></td>\n",
    "<td style=\"background-color:green; width:60px;\"></td>\n",
    "</tr>\n",
    "<tr style=\"background-color:white; color:black; font-size:18px;\">\n",
    "<td>Snake</td>\n",
    "<td style=\"background-color:black; width:60px;\"></td>\n",
    "<td style=\"background-color:black; width:60px;\"></td>\n",
    "<td style=\"background-color:black; width:60px;\"></td>\n",
    "<td style=\"background-color:red; width:60px; font-size:20px;\">X</td><td style=\"background-color:green; width:60px;\"></td>\n",
    "<td style=\"background-color:green; width:60px;\"></td>\n",
    "<td style=\"background-color:green; width:60px;\"></td>\n",
    "<td style=\"background-color:red; width:40px; font-size:20px;\">X</td>\n",
    "<td style=\"background-color:green; width:60px;\"></td>\n",
    "<td style=\"background-color:green; width:60px;\"></td>\n",
    "</tr>\n",
    "<tr style=\"background-color:white; color:black; font-size:18px;\">\n",
    "<td>Vulture</td>\n",
    "<td style=\"background-color:black; width:60px;\"></td>\n",
    "<td style=\"background-color:black; width:60px;\"></td>\n",
    "<td style=\"background-color:black; width:60px;\"></td>\n",
    "<td style=\"background-color:black; width:60px;\"></td>\n",
    "<td style=\"background-color:green; width:60px;\"></td>\n",
    "<td style=\"background-color:green; width:60px;\"></td>\n",
    "<td style=\"background-color:green; width:60px;\"></td>\n",
    "<td style=\"background-color:red; width:40px; font-size:20px;\">X</td>\n",
    "<td style=\"background-color:red; width:60px; font-size:20px;\">X</td>\n",
    "<td style=\"background-color:red; width:60px; font-size:20px;\">X</td>\n",
    "</tr>\n",
    "<tr style=\"background-color:white; color:black; font-size:18px;\">\n",
    "<td>Fox</td>\n",
    "<td style=\"background-color:black; width:60px;\"></td>\n",
    "<td style=\"background-color:black; width:60px;\"></td>\n",
    "<td style=\"background-color:black; width:60px;\"></td>\n",
    "<td style=\"background-color:black; width:60px;\"></td>\n",
    "<td style=\"background-color:black; width:60px;\"></td>\n",
    "<td style=\"background-color:green; width:60px;\"></td>\n",
    "<td style=\"background-color:green; width:60px;\"></td>\n",
    "<td style=\"background-color:red; width:40px; font-size:20px;\">X</td>\n",
    "<td style=\"background-color:red; width:60px; font-size:20px;\">X</td>\n",
    "<td style=\"background-color:red; width:60px; font-size:20px;\">X</td>\n",
    "</tr>\n",
    "<tr style=\"background-color:white; color:black; font-size:18px;\">\n",
    "<td>Butterfly</td>\n",
    "<td style=\"background-color:black; width:60px;\"></td>\n",
    "<td style=\"background-color:black; width:60px;\"></td>\n",
    "<td style=\"background-color:black; width:60px;\"></td>\n",
    "<td style=\"background-color:black; width:60px;\"></td>\n",
    "<td style=\"background-color:black; width:60px;\"></td>\n",
    "<td style=\"background-color:black; width:60px;\"></td>\n",
    "<td style=\"background-color:green; width:60px;\"></td>\n",
    "<td style=\"background-color:green; width:40px;\"></td>\n",
    "<td style=\"background-color:green; width:60px;\"></td>\n",
    "<td style=\"background-color:green; width:60px;\"></td>\n",
    "</tr>\n",
    "<tr style=\"background-color:white; color:black; font-size:18px;\">\n",
    "<td>Grasshopper</td>\n",
    "<td style=\"background-color:black; width:60px;\"></td>\n",
    "<td style=\"background-color:black; width:60px;\"></td>\n",
    "<td style=\"background-color:black; width:60px;\"></td>\n",
    "<td style=\"background-color:black; width:60px;\"></td>\n",
    "<td style=\"background-color:black; width:60px;\"></td>\n",
    "<td style=\"background-color:black; width:60px;\"></td>\n",
    "<td style=\"background-color:black; width:60px;\"></td>\n",
    "<td style=\"background-color:green; width:40px;\"></td>\n",
    "<td style=\"background-color:green; width:60px;\"></td>\n",
    "<td style=\"background-color:green; width:60px;\"></td>\n",
    "</tr>\n",
    "<tr style=\"background-color:white; color:black; font-size:18px;\">\n",
    "<td>Bird</td>\n",
    "<td style=\"background-color:black; width:60px;\"></td>\n",
    "<td style=\"background-color:black; width:60px;\"></td>\n",
    "<td style=\"background-color:black; width:60px;\"></td>\n",
    "<td style=\"background-color:black; width:60px;\"></td>\n",
    "<td style=\"background-color:black; width:60px;\"></td>\n",
    "<td style=\"background-color:black; width:60px;\"></td>\n",
    "<td style=\"background-color:black; width:60px;\"></td>\n",
    "<td style=\"background-color:black; width:40px;\"></td>\n",
    "<td style=\"background-color:green; width:60px;\"></td>\n",
    "<td style=\"background-color:green; width:60px;\"></td>\n",
    "</tr>\n",
    "<tr style=\"background-color:white; color:black; font-size:18px;\">\n",
    "<td>Mouse</td>\n",
    "<td style=\"background-color:black; width:60px;\"></td>\n",
    "<td style=\"background-color:black; width:60px;\"></td>\n",
    "<td style=\"background-color:black; width:60px;\"></td>\n",
    "<td style=\"background-color:black; width:60px;\"></td>\n",
    "<td style=\"background-color:black; width:60px;\"></td>\n",
    "<td style=\"background-color:black; width:60px;\"></td>\n",
    "<td style=\"background-color:black; width:60px;\"></td>\n",
    "<td style=\"background-color:black; width:40px;\"></td>\n",
    "<td style=\"background-color:black; width:60px;\"></td>\n",
    "<td style=\"background-color:green; width:60px;\"></td>\n",
    "</tr>\n",
    "<tr style=\"background-color:white; color:black; font-size:18px;\">\n",
    "<td>Rabbit</td>\n",
    "<td style=\"background-color:black; width:60px;\"></td>\n",
    "<td style=\"background-color:black; width:60px;\"></td>\n",
    "<td style=\"background-color:black; width:60px;\"></td>\n",
    "<td style=\"background-color:black; width:60px;\"></td>\n",
    "<td style=\"background-color:black; width:60px;\"></td>\n",
    "<td style=\"background-color:black; width:60px;\"></td>\n",
    "<td style=\"background-color:black; width:60px;\"></td>\n",
    "<td style=\"background-color:black; width:40px;\"></td>\n",
    "<td style=\"background-color:black; width:60px;\"></td>\n",
    "<td style=\"background-color:black; width:60px;\"></td>\n",
    "</tr>\n",
    "</table>"
   ],
   "cell_type": "markdown",
   "metadata": {}
  },
  {
   "source": [
    "from ortools.sat.python import cp_model  # CP-SAT επιλυτής\n",
    "\n",
    "model = cp_model.CpModel()"
   ],
   "cell_type": "code",
   "metadata": {},
   "execution_count": 1,
   "outputs": []
  },
  {
   "source": [
    "<b style=\"font-=size:22px;\">Μεταβλητές απόφασης</b>\n",
    "<hr>"
   ],
   "cell_type": "markdown",
   "metadata": {}
  },
  {
   "cell_type": "code",
   "execution_count": null,
   "metadata": {},
   "outputs": [],
   "source": [
    "dragonfly = model.NewIntVar(0, 2, \"dragonfly\")\n",
    "frog = model.NewIntVar(0, 2, \"frog\")\n",
    "snake = model.NewIntVar(0, 2, \"snake\")\n",
    "vulture = model.NewIntVar(0, 2, \"vulture\")\n",
    "fox = model.NewIntVar(0, 2, \"fox\")\n",
    "butterfly = model.NewIntVar(0, 2, \"butterfly\")\n",
    "grasshopper = model.NewIntVar(0, 2, \"grasshopper\")\n",
    "bird = model.NewIntVar(0, 2, \"bird\")\n",
    "mouse = model.NewIntVar(0, 2, \"mouse\")\n",
    "rabbit = model.NewIntVar(0, 2, \"rabbit\")"
   ]
  },
  {
   "source": [
    "<b style=\"font-size:22px;\">Περιορισμοί</b>\n",
    "<hr>"
   ],
   "cell_type": "markdown",
   "metadata": {}
  },
  {
   "cell_type": "code",
   "execution_count": null,
   "metadata": {},
   "outputs": [],
   "source": [
    "# Περιορισμοί\n",
    "model.Add(dragonfly != frog)\n",
    "model.Add(frog != snake)\n",
    "model.Add(snake != vulture)\n",
    "model.Add(frog != butterfly)\n",
    "model.Add(frog != grasshopper)\n",
    "model.Add(snake != bird)\n",
    "model.Add(vulture != bird)\n",
    "model.Add(vulture != fox)\n",
    "model.Add(vulture != mouse)\n",
    "model.Add(fox != mouse)\n",
    "model.Add(rabbit != vulture)\n",
    "model.Add(fox != rabbit)"
   ]
  },
  {
   "source": [
    "<b style=\"font-size:22px;\"> Κλήση του επιλυτή</b>\n",
    "<hr>"
   ],
   "cell_type": "markdown",
   "metadata": {}
  },
  {
   "cell_type": "code",
   "execution_count": null,
   "metadata": {},
   "outputs": [],
   "source": [
    "solver = cp_model.CpSolver()\n",
    "status = solver.Solve(model)"
   ]
  },
  {
   "source": [
    "<b style=\"font-size:22px;\">Εκτύπωση του αποτελέσματος</b>\n",
    "<hr>"
   ],
   "cell_type": "markdown",
   "metadata": {}
  },
  {
   "cell_type": "code",
   "execution_count": null,
   "metadata": {},
   "outputs": [],
   "source": [
    "if status == cp_model.OPTIMAL:\n",
    "    print(f\"dragonfly = {solver.Value(dragonfly)}\")\n",
    "    print(f\"frog = {solver.Value(frog)}\")\n",
    "    print(f\"snake = {solver.Value(snake)}\")\n",
    "    print(f\"vulture = {solver.Value(vulture)}\")\n",
    "    print(f\"fox = {solver.Value(fox)}\")\n",
    "    print(f\"butterfly = {solver.Value(butterfly)}\")\n",
    "    print(f\"grasshopper = {solver.Value(grasshopper)}\")\n",
    "    print(f\"bird = {solver.Value(bird)}\")\n",
    "    print(f\"mouse = {solver.Value(mouse)}\")\n",
    "    print(f\"rabbit = {solver.Value(rabbit)}\")"
   ]
  },
  {
   "source": [
    "<h2 style=\"font-weight:bold;\">ΑΠΟΤΕΛΕΣΜΑΤΑ</h2>\n",
    "<hr>\n",
    "<img src=\"https://github.com/vasnastos/AGP/blob/master/Resources/foodweb.png?raw=true\" width=\"40%\" height=\"30%\"/>"
   ],
   "cell_type": "markdown",
   "metadata": {}
  }
 ]
}