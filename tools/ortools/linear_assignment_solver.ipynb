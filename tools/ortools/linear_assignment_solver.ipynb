{
 "metadata": {
  "language_info": {
   "codemirror_mode": {
    "name": "ipython",
    "version": 3
   },
   "file_extension": ".py",
   "mimetype": "text/x-python",
   "name": "python",
   "nbconvert_exporter": "python",
   "pygments_lexer": "ipython3",
   "version": "3.8.0"
  },
  "orig_nbformat": 2,
  "kernelspec": {
   "name": "python380jvsc74a57bd02334294e789e06453e89f7d5c3c2573679701f9bb5b76ad2158f91cca5c9244c",
   "display_name": "Python 3.8.0 64-bit ('3.8.0-amd64': pyenv)"
  }
 },
 "nbformat": 4,
 "nbformat_minor": 2,
 "cells": [
  {
   "source": [
    "# Πρόβλημα γραμμικής ανάθεσης (Linear Assignment Problem)\n",
    "\n",
    "Τα κόστη εκτέλεσης κάθε εργασίας (στήλες) από κάθε εργάτη (γραμμμές) δίνονται στον ακόλουθο πίνακα.\n",
    "\n",
    "\n",
    "|  | 0 | 1 | 2 | 3 |\n",
    "|--|---|---|---|---|\n",
    "| 0|90 |76 |75 |70 |\n",
    "| 1|35 |85 |55 |65 |\n",
    "| 2|125|95 |90 |105|\n",
    "| 3|45 |110|95 |115|\n",
    "\n",
    "Ο επιλυτής λειτουργεί μόνο εφόσον τα κόστη έχουν ακέραιες τιμές.\n",
    "\n",
    "https://developers.google.com/optimization/assignment/linear_assignment"
   ],
   "cell_type": "markdown",
   "metadata": {}
  },
  {
   "cell_type": "code",
   "execution_count": 4,
   "metadata": {},
   "outputs": [
    {
     "output_type": "stream",
     "name": "stdout",
     "text": [
      "Total cost =  265\n\nWorker 0 assigned to task 3.  Cost = 70\nWorker 1 assigned to task 2.  Cost = 55\nWorker 2 assigned to task 1.  Cost = 95\nWorker 3 assigned to task 0.  Cost = 45\n\nTime = 0.0005089999999654538 seconds\n"
     ]
    }
   ],
   "source": [
    "# Copyright 2010-2011 Google\n",
    "# Licensed under the Apache License, Version 2.0 (the \"License\");\n",
    "# you may not use this file except in compliance with the License.\n",
    "# You may obtain a copy of the License at\n",
    "#\n",
    "#     http://www.apache.org/licenses/LICENSE-2.0\n",
    "#\n",
    "# Unless required by applicable law or agreed to in writing, software\n",
    "# distributed under the License is distributed on an \"AS IS\" BASIS,\n",
    "# WITHOUT WARRANTIES OR CONDITIONS OF ANY KIND, either express or implied.\n",
    "# See the License for the specific language governing permissions and\n",
    "# limitations under the License.\n",
    "\n",
    "from ortools.graph import pywrapgraph\n",
    "import time\n",
    "\n",
    "def main():\n",
    "  cost = create_data_array()\n",
    "  rows = len(cost)\n",
    "  cols = len(cost[0])\n",
    "\n",
    "  assignment = pywrapgraph.LinearSumAssignment()\n",
    "  for worker in range(rows):\n",
    "    for task in range(cols):\n",
    "      if cost[worker][task]:\n",
    "        assignment.AddArcWithCost(worker, task, cost[worker][task])\n",
    "  \n",
    "  solve_status = assignment.Solve()\n",
    "  if solve_status == assignment.OPTIMAL:\n",
    "    print('Total cost = ', assignment.OptimalCost())\n",
    "    print()\n",
    "    for i in range(0, assignment.NumNodes()):\n",
    "      print('Worker %d assigned to task %d.  Cost = %d' % (\n",
    "            i,\n",
    "            assignment.RightMate(i),\n",
    "            assignment.AssignmentCost(i)))\n",
    "  elif solve_status == assignment.INFEASIBLE:\n",
    "    print('No assignment is possible.')\n",
    "  elif solve_status == assignment.POSSIBLE_OVERFLOW:\n",
    "    print('Some input costs are too large and may cause an integer overflow.')\n",
    "\n",
    "\n",
    "def create_data_array():\n",
    "  cost = [[90, 76, 75, 70],\n",
    "          [35, 85, 55, 65],\n",
    "          [125, 95, 90, 105],\n",
    "          [45, 110, 95, 115]]\n",
    "  return cost\n",
    "\n",
    "\n",
    "start_time = time.perf_counter()\n",
    "main()\n",
    "print()\n",
    "print(\"Time =\", time.perf_counter() - start_time, \"seconds\")"
   ]
  },
  {
   "cell_type": "code",
   "execution_count": null,
   "metadata": {},
   "outputs": [],
   "source": []
  }
 ]
}